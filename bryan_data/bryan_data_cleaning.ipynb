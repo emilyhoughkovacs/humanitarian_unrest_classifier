{
 "cells": [
  {
   "cell_type": "code",
   "execution_count": 1,
   "metadata": {
    "collapsed": true
   },
   "outputs": [],
   "source": [
    "import pandas as pd\n",
    "import numpy as np\n",
    "from copy import deepcopy\n",
    "from os import listdir\n",
    "from os.path import isfile, join\n",
    "from sqlalchemy import create_engine"
   ]
  },
  {
   "cell_type": "markdown",
   "metadata": {},
   "source": [
    "# First Read the data. "
   ]
  },
  {
   "cell_type": "code",
   "execution_count": 2,
   "metadata": {
    "collapsed": true
   },
   "outputs": [],
   "source": [
    "def readData(filename):\n",
    "    with open(filename) as f:\n",
    "        data = pd.read_csv(f)\n",
    "        \n",
    "    return data"
   ]
  },
  {
   "cell_type": "code",
   "execution_count": 3,
   "metadata": {
    "collapsed": true
   },
   "outputs": [],
   "source": [
    "all_df = readData('indicators.csv')"
   ]
  },
  {
   "cell_type": "code",
   "execution_count": 4,
   "metadata": {
    "collapsed": true
   },
   "outputs": [],
   "source": [
    "def getSpecificDf(all_df, indicatorcode):\n",
    "    specific_indicator = all_df[all_df.IndicatorCode == indicatorcode]\n",
    "    years = list(range(min(all_df.Year), max(all_df.Year)+1))\n",
    "    col_names = ['CountryCode', 'CountryName'] + years\n",
    "    specific_indicator = specific_indicator[['CountryCode', 'CountryName', 'Year', 'Value']]\n",
    "    for year in years:\n",
    "        specific_indicator[year] = np.nan\n",
    "    \n",
    "    for index, row in specific_indicator.iterrows():\n",
    "        row_value = deepcopy(row.Value)\n",
    "        specific_indicator.loc[index, row.Year] = row_value\n",
    "\n",
    "    specific_indicator = specific_indicator[col_names]\n",
    "    specific_indicator_formatted = specific_indicator.groupby([specific_indicator.CountryCode, specific_indicator.CountryName]).sum()\n",
    "    specific_indicator_formatted.reset_index(inplace=True)\n",
    "    specific_indicator_formatted = specific_indicator_formatted.dropna(axis=1, how='all')\n",
    "    \n",
    "    years = specific_indicator_formatted.columns[2:]\n",
    "    y_years = []\n",
    "    for year in years:\n",
    "        y_years.append('y'+str(year))\n",
    "    adjusted_col_names = ['countrycode', 'countryname'] + y_years\n",
    "\n",
    "    specific_indicator_formatted.columns = adjusted_col_names\n",
    "    \n",
    "    return specific_indicator_formatted"
   ]
  },
  {
   "cell_type": "markdown",
   "metadata": {},
   "source": [
    "## Youth Unemployment"
   ]
  },
  {
   "cell_type": "code",
   "execution_count": 5,
   "metadata": {
    "collapsed": false
   },
   "outputs": [],
   "source": [
    "youth_unemployment = getSpecificDf(all_df, 'SL.TLF.ACTI.1524.ZS')"
   ]
  },
  {
   "cell_type": "code",
   "execution_count": 6,
   "metadata": {
    "collapsed": false
   },
   "outputs": [],
   "source": [
    "youth_unemployment.to_csv('youth_unemployment.csv', index=False)"
   ]
  },
  {
   "cell_type": "markdown",
   "metadata": {},
   "source": [
    "## Food Production"
   ]
  },
  {
   "cell_type": "code",
   "execution_count": 7,
   "metadata": {
    "collapsed": true
   },
   "outputs": [],
   "source": [
    "gini_co = getSpecificDf(all_df, 'AG.PRD.FOOD.XD')"
   ]
  },
  {
   "cell_type": "code",
   "execution_count": 8,
   "metadata": {
    "collapsed": true
   },
   "outputs": [],
   "source": [
    "gini_co.to_csv('food_production_dom.csv', index=False)"
   ]
  },
  {
   "cell_type": "markdown",
   "metadata": {},
   "source": [
    "## GDP PPP"
   ]
  },
  {
   "cell_type": "code",
   "execution_count": 9,
   "metadata": {
    "collapsed": true
   },
   "outputs": [],
   "source": [
    "gdp_ppp = getSpecificDf(all_df, 'NY.GDP.PCAP.PP.CD')"
   ]
  },
  {
   "cell_type": "code",
   "execution_count": 10,
   "metadata": {
    "collapsed": true
   },
   "outputs": [],
   "source": [
    "gdp_ppp.to_csv('gdp_ppp.csv', index=False)"
   ]
  },
  {
   "cell_type": "markdown",
   "metadata": {},
   "source": [
    "## GDP Per Capita Growth"
   ]
  },
  {
   "cell_type": "code",
   "execution_count": 11,
   "metadata": {
    "collapsed": false
   },
   "outputs": [],
   "source": [
    "gdp_pcg = getSpecificDf(all_df, 'NY.GDP.PCAP.KD.ZG')"
   ]
  },
  {
   "cell_type": "code",
   "execution_count": 12,
   "metadata": {
    "collapsed": true
   },
   "outputs": [],
   "source": [
    "gdp_pcg.to_csv('gdp_pcg.csv', index=False)"
   ]
  },
  {
   "cell_type": "markdown",
   "metadata": {},
   "source": [
    "## Growth in income, bottom 40%"
   ]
  },
  {
   "cell_type": "code",
   "execution_count": 13,
   "metadata": {
    "collapsed": true
   },
   "outputs": [],
   "source": [
    "income_40_growth = getSpecificDf(all_df, 'SI.SPR.PC40.ZG')"
   ]
  },
  {
   "cell_type": "code",
   "execution_count": 14,
   "metadata": {
    "collapsed": true
   },
   "outputs": [],
   "source": [
    "income_40_growth.to_csv('income_40_growth.csv', index=False)"
   ]
  },
  {
   "cell_type": "markdown",
   "metadata": {},
   "source": [
    "## Food imports as a percentage"
   ]
  },
  {
   "cell_type": "code",
   "execution_count": 15,
   "metadata": {
    "collapsed": true
   },
   "outputs": [],
   "source": [
    "econ_food_imports = getSpecificDf(all_df, 'TM.VAL.FOOD.ZS.UN')"
   ]
  },
  {
   "cell_type": "code",
   "execution_count": 16,
   "metadata": {
    "collapsed": true
   },
   "outputs": [],
   "source": [
    "econ_food_imports.to_csv('econ_food_imports.csv', index=False)"
   ]
  },
  {
   "cell_type": "markdown",
   "metadata": {},
   "source": [
    "## Total Labor force as a percentage:"
   ]
  },
  {
   "cell_type": "code",
   "execution_count": 17,
   "metadata": {
    "collapsed": true
   },
   "outputs": [],
   "source": [
    "total_labor_force = getSpecificDf(all_df, 'SL.TLF.ACTI.ZS')"
   ]
  },
  {
   "cell_type": "code",
   "execution_count": 18,
   "metadata": {
    "collapsed": true
   },
   "outputs": [],
   "source": [
    "total_labor_force.to_csv('total_labor_force.csv', index=False)"
   ]
  },
  {
   "cell_type": "markdown",
   "metadata": {},
   "source": [
    "## Total Foreign Investment:"
   ]
  },
  {
   "cell_type": "code",
   "execution_count": 19,
   "metadata": {
    "collapsed": true
   },
   "outputs": [],
   "source": [
    "foreign_investment = getSpecificDf(all_df, 'BX.KLT.DINV.CD.WD')"
   ]
  },
  {
   "cell_type": "code",
   "execution_count": 20,
   "metadata": {
    "collapsed": true
   },
   "outputs": [],
   "source": [
    "foreign_investment.to_csv('foreign_investment.csv', index=False)"
   ]
  },
  {
   "cell_type": "markdown",
   "metadata": {},
   "source": [
    "# Inflation of consumer products"
   ]
  },
  {
   "cell_type": "code",
   "execution_count": 21,
   "metadata": {
    "collapsed": true
   },
   "outputs": [],
   "source": [
    "inflation = getSpecificDf(all_df, 'FP.CPI.TOTL.ZG')"
   ]
  },
  {
   "cell_type": "code",
   "execution_count": 22,
   "metadata": {
    "collapsed": true
   },
   "outputs": [],
   "source": [
    "inflation.to_csv('inflation.csv', index=False)"
   ]
  },
  {
   "cell_type": "code",
   "execution_count": null,
   "metadata": {
    "collapsed": true
   },
   "outputs": [],
   "source": []
  },
  {
   "cell_type": "markdown",
   "metadata": {},
   "source": [
    "# Pickling everything"
   ]
  },
  {
   "cell_type": "code",
   "execution_count": 23,
   "metadata": {
    "collapsed": true
   },
   "outputs": [],
   "source": [
    "import pickle"
   ]
  },
  {
   "cell_type": "code",
   "execution_count": 24,
   "metadata": {
    "collapsed": true
   },
   "outputs": [],
   "source": [
    "data1 = pd.read_csv('youth_unemployment.csv')\n",
    "data2 = pd.read_csv('food_production_dom.csv')\n",
    "data3 = pd.read_csv('gdp_ppp.csv')\n",
    "data4 = pd.read_csv('gdp_pcg.csv')\n",
    "data5 = pd.read_csv('income_40_growth.csv')\n",
    "data6 = pd.read_csv('econ_food_imports.csv')\n",
    "data7 = pd.read_csv('total_labor_force.csv')\n",
    "data8 = pd.read_csv('foreign_investment.csv')\n",
    "data9 = pd.read_csv('inflation.csv')"
   ]
  },
  {
   "cell_type": "code",
   "execution_count": 25,
   "metadata": {
    "collapsed": true
   },
   "outputs": [],
   "source": [
    "pickle.dump( data1, open( \"youth_unemployment.pkl\", \"wb\"))"
   ]
  },
  {
   "cell_type": "code",
   "execution_count": 26,
   "metadata": {
    "collapsed": true
   },
   "outputs": [],
   "source": [
    "pickle.dump( data2, open( \"food_production_dom.pkl\", \"wb\"))"
   ]
  },
  {
   "cell_type": "code",
   "execution_count": 27,
   "metadata": {
    "collapsed": true
   },
   "outputs": [],
   "source": [
    "pickle.dump( data3, open( \"gdp_ppp.pkl\", \"wb\"))"
   ]
  },
  {
   "cell_type": "code",
   "execution_count": 28,
   "metadata": {
    "collapsed": true
   },
   "outputs": [],
   "source": [
    "pickle.dump( data4, open( \"gdp_pcg.pkl\", \"wb\"))"
   ]
  },
  {
   "cell_type": "code",
   "execution_count": 29,
   "metadata": {
    "collapsed": true
   },
   "outputs": [],
   "source": [
    "pickle.dump( data5, open( \"income_40_growth.pkl\", \"wb\"))"
   ]
  },
  {
   "cell_type": "code",
   "execution_count": 30,
   "metadata": {
    "collapsed": true
   },
   "outputs": [],
   "source": [
    "pickle.dump( data6, open( \"econ_food_imports.pkl\", \"wb\"))"
   ]
  },
  {
   "cell_type": "code",
   "execution_count": 31,
   "metadata": {
    "collapsed": true
   },
   "outputs": [],
   "source": [
    "pickle.dump( data7, open( \"total_labor_force.pkl\", \"wb\"))"
   ]
  },
  {
   "cell_type": "code",
   "execution_count": 32,
   "metadata": {
    "collapsed": false
   },
   "outputs": [],
   "source": [
    "pickle.dump( data8, open( \"foreign_investment.pkl\", \"wb\"))"
   ]
  },
  {
   "cell_type": "code",
   "execution_count": 33,
   "metadata": {
    "collapsed": true
   },
   "outputs": [],
   "source": [
    "pickle.dump( data9, open( \"inflation.pkl\", \"wb\"))"
   ]
  },
  {
   "cell_type": "markdown",
   "metadata": {},
   "source": [
    "# Now adding to SQL server. "
   ]
  },
  {
   "cell_type": "code",
   "execution_count": 34,
   "metadata": {
    "collapsed": false
   },
   "outputs": [],
   "source": [
    "from sqlalchemy import create_engine\n",
    "from os import listdir\n",
    "from os.path import isfile, join"
   ]
  },
  {
   "cell_type": "code",
   "execution_count": 35,
   "metadata": {
    "collapsed": true
   },
   "outputs": [],
   "source": [
    "CONFIG = {}"
   ]
  },
  {
   "cell_type": "code",
   "execution_count": 36,
   "metadata": {
    "collapsed": false
   },
   "outputs": [],
   "source": [
    "with open('config.txt', \"r\") as in_file:\n",
    "    for line in in_file:\n",
    "        line = line.split(\":\")\n",
    "        parameter = line[0].strip()\n",
    "        value = line[1].strip()\n",
    "        CONFIG[parameter] = value"
   ]
  },
  {
   "cell_type": "code",
   "execution_count": 37,
   "metadata": {
    "collapsed": false
   },
   "outputs": [],
   "source": [
    "engine_path = 'postgresql://'+CONFIG['username']+':'+\\\n",
    "                CONFIG['password']+'@'+CONFIG['ip']+\\\n",
    "                ':'+CONFIG['port']+'/'+CONFIG['database']"
   ]
  },
  {
   "cell_type": "code",
   "execution_count": 38,
   "metadata": {
    "collapsed": false
   },
   "outputs": [],
   "source": [
    "engine = create_engine(engine_path)"
   ]
  },
  {
   "cell_type": "code",
   "execution_count": 39,
   "metadata": {
    "collapsed": false
   },
   "outputs": [],
   "source": [
    "files = [f for f in listdir('thefiles/') if isfile(join('thefiles/', f))]"
   ]
  },
  {
   "cell_type": "code",
   "execution_count": 40,
   "metadata": {
    "collapsed": false
   },
   "outputs": [
    {
     "data": {
      "text/plain": [
       "['econ_food_imports.csv',\n",
       " 'food_production_dom.csv',\n",
       " 'foreign_investment.csv',\n",
       " 'gdp_pcg.csv',\n",
       " 'gdp_ppp.csv',\n",
       " 'gini_co.csv',\n",
       " 'income_40_growth.csv',\n",
       " 'inflation.csv',\n",
       " 'total_labor_force.csv',\n",
       " 'youth_unemployment.csv']"
      ]
     },
     "execution_count": 40,
     "metadata": {},
     "output_type": "execute_result"
    }
   ],
   "source": [
    "files"
   ]
  },
  {
   "cell_type": "code",
   "execution_count": 41,
   "metadata": {
    "collapsed": false
   },
   "outputs": [],
   "source": [
    "for file in files:\n",
    "    file_with_path = 'thefiles/' + file\n",
    "    raw_name = file[:-4]\n",
    "    with open(file_with_path) as f:\n",
    "        df = pd.read_csv(f)\n",
    "    try:\n",
    "        df.to_sql(raw_name, engine)\n",
    "    except ValueError:\n",
    "        pass"
   ]
  },
  {
   "cell_type": "markdown",
   "metadata": {},
   "source": [
    "# Making queries of the data"
   ]
  },
  {
   "cell_type": "code",
   "execution_count": 42,
   "metadata": {
    "collapsed": false
   },
   "outputs": [],
   "source": [
    "from sklearn.cross_validation import train_test_split, StratifiedShuffleSplit\n",
    "from sklearn.neighbors import KNeighborsClassifier\n",
    "from sklearn.metrics import (\n",
    "                            accuracy_score, \n",
    "                            precision_score, \n",
    "                            recall_score, \n",
    "                            f1_score, \n",
    "                            roc_curve, \n",
    "                            roc_auc_score, \n",
    "                            confusion_matrix\n",
    "                            )\n",
    "from sklearn.linear_model import LogisticRegression, LinearRegression\n",
    "from sklearn.naive_bayes import GaussianNB, BernoulliNB\n",
    "from sklearn.svm import SVC\n",
    "from sklearn.tree import DecisionTreeClassifier\n",
    "from sklearn.tree import DecisionTreeRegressor\n",
    "from sklearn.ensemble import RandomForestClassifier\n",
    "from sklearn.learning_curve import learning_curve\n",
    "from sklearn.cross_validation import cross_val_score\n",
    "from sklearn.metrics import confusion_matrix\n",
    "\n",
    "from unbalanced_dataset import OverSampler, SMOTE\n",
    "\n",
    "import matplotlib.pyplot as plt\n",
    "import seaborn as sns\n",
    "\n",
    "\n",
    "%matplotlib inline"
   ]
  },
  {
   "cell_type": "code",
   "execution_count": 43,
   "metadata": {
    "collapsed": true
   },
   "outputs": [],
   "source": [
    "CONFIG = {}\n",
    "\n",
    "with open('config.txt', \"r\") as in_file:\n",
    "    for line in in_file:\n",
    "        line = line.split(\":\")\n",
    "        parameter = line[0].strip()\n",
    "        value = line[1].strip()\n",
    "        CONFIG[parameter] = value\n",
    "                \n",
    "engine_path = 'postgresql://'+CONFIG['username']+':'+\\\n",
    "                CONFIG['password']+'@'+CONFIG['ip']+\\\n",
    "                ':'+CONFIG['port']+'/'+CONFIG['database']\n",
    "        \n",
    "engine = create_engine(engine_path)"
   ]
  },
  {
   "cell_type": "code",
   "execution_count": 44,
   "metadata": {
    "collapsed": true
   },
   "outputs": [],
   "source": [
    "def makeSQLQuery(table_names, year):\n",
    "    dotyyear = '.y' + str(year)\n",
    "    current_unit = 'a'\n",
    "    query = '(SELECT ' + table_names[0] + '.countrycode AS countrycode, ' + \\\n",
    "            table_names[0] + dotyyear + ' AS ' + table_names[0] + ', ' + \\\n",
    "            table_names[1] + dotyyear + ' AS ' + table_names[1] + \\\n",
    "            ' FROM ' + table_names[0] + \\\n",
    "            ' JOIN ' + table_names[1] + \\\n",
    "            ' ON ' + table_names[0] + '.countrycode=' + table_names[1] + '.countrycode) '\n",
    "    query = query + current_unit\n",
    "    \n",
    "    for table in table_names[2:]:\n",
    "        curr_index = table_names.index(table)\n",
    "        temp_list = table_names[:curr_index+1]\n",
    "        \n",
    "        pre_string = '(SELECT ' + table + '.countrycode as countrycode'\n",
    "        \n",
    "        for temp_table in temp_list[:-1]:\n",
    "            pre_string = pre_string + ', ' + current_unit + '.' + temp_table + ' AS ' + temp_table\n",
    "        \n",
    "        pre_string = pre_string + ', ' + table + dotyyear + ' AS ' + table\n",
    "        \n",
    "        query = pre_string + ' FROM ' + query + ' JOIN ' + table + \\\n",
    "                ' ON ' + current_unit + '.countrycode=' + table + '.countrycode) '\n",
    "        \n",
    "        current_unit = current_unit + 'a'\n",
    "        query = query + current_unit\n",
    "        \n",
    "    query = query.rsplit(' ', 1)[0][1:-1]\n",
    "    \n",
    "    return query\n",
    "    \n",
    "    "
   ]
  },
  {
   "cell_type": "code",
   "execution_count": 45,
   "metadata": {
    "collapsed": true
   },
   "outputs": [],
   "source": [
    "table_names = [#'econ_food_imports',\\\n",
    "               #'gdp_growth',\\\n",
    "               'gdp_ppp',\\\n",
    "               #'gdp_pcg', \\\n",
    "               'food_production_dom',\\\n",
    "               'labor_force_participation',\\\n",
    "               'youth_unemployment',\\\n",
    "               'foreign_investment',\\\n",
    "               #'inflation', \\\n",
    "                'zscores']"
   ]
  },
  {
   "cell_type": "code",
   "execution_count": 46,
   "metadata": {
    "collapsed": true
   },
   "outputs": [],
   "source": [
    "x_cols = table_names[:-1]"
   ]
  },
  {
   "cell_type": "code",
   "execution_count": 47,
   "metadata": {
    "collapsed": true
   },
   "outputs": [],
   "source": [
    "years = [2009, 2010, 2011, 2012, 2013]"
   ]
  },
  {
   "cell_type": "code",
   "execution_count": 48,
   "metadata": {
    "collapsed": false
   },
   "outputs": [],
   "source": [
    "full_data = pd.DataFrame()"
   ]
  },
  {
   "cell_type": "code",
   "execution_count": 49,
   "metadata": {
    "collapsed": false
   },
   "outputs": [],
   "source": [
    "for year in years:\n",
    "    query = makeSQLQuery(table_names, year)\n",
    "    year_data = pd.read_sql_query(query, engine)\n",
    "    year_data['year'] = year\n",
    "    year_data = year_data.set_index(['countrycode', 'year'])\n",
    "    full_data = pd.concat([full_data, year_data])\n",
    "    \n"
   ]
  },
  {
   "cell_type": "code",
   "execution_count": 50,
   "metadata": {
    "collapsed": false
   },
   "outputs": [
    {
     "data": {
      "text/html": [
       "<div>\n",
       "<table border=\"1\" class=\"dataframe\">\n",
       "  <thead>\n",
       "    <tr style=\"text-align: right;\">\n",
       "      <th></th>\n",
       "      <th></th>\n",
       "      <th>gdp_ppp</th>\n",
       "      <th>food_production_dom</th>\n",
       "      <th>labor_force_participation</th>\n",
       "      <th>youth_unemployment</th>\n",
       "      <th>foreign_investment</th>\n",
       "      <th>zscores</th>\n",
       "    </tr>\n",
       "    <tr>\n",
       "      <th>countrycode</th>\n",
       "      <th>year</th>\n",
       "      <th></th>\n",
       "      <th></th>\n",
       "      <th></th>\n",
       "      <th></th>\n",
       "      <th></th>\n",
       "      <th></th>\n",
       "    </tr>\n",
       "  </thead>\n",
       "  <tbody>\n",
       "    <tr>\n",
       "      <th>AFG</th>\n",
       "      <th>2009</th>\n",
       "      <td>1525.517054</td>\n",
       "      <td>116.510000</td>\n",
       "      <td>48.000000</td>\n",
       "      <td>37.599998</td>\n",
       "      <td>1.975127e+08</td>\n",
       "      <td>7.552656851</td>\n",
       "    </tr>\n",
       "    <tr>\n",
       "      <th>AGO</th>\n",
       "      <th>2009</th>\n",
       "      <td>NaN</td>\n",
       "      <td>164.910000</td>\n",
       "      <td>69.400002</td>\n",
       "      <td>52.599998</td>\n",
       "      <td>2.205298e+09</td>\n",
       "      <td>0.22745292</td>\n",
       "    </tr>\n",
       "    <tr>\n",
       "      <th>ALB</th>\n",
       "      <th>2009</th>\n",
       "      <td>9345.097500</td>\n",
       "      <td>112.110000</td>\n",
       "      <td>55.200001</td>\n",
       "      <td>33.900002</td>\n",
       "      <td>1.343091e+09</td>\n",
       "      <td>0.116318468</td>\n",
       "    </tr>\n",
       "    <tr>\n",
       "      <th>ARB</th>\n",
       "      <th>2009</th>\n",
       "      <td>13728.155608</td>\n",
       "      <td>110.015612</td>\n",
       "      <td>49.311070</td>\n",
       "      <td>32.852058</td>\n",
       "      <td>7.952285e+10</td>\n",
       "      <td>0.368862395</td>\n",
       "    </tr>\n",
       "    <tr>\n",
       "      <th>ARE</th>\n",
       "      <th>2009</th>\n",
       "      <td>59100.380538</td>\n",
       "      <td>100.490000</td>\n",
       "      <td>77.500000</td>\n",
       "      <td>53.599998</td>\n",
       "      <td>4.002700e+09</td>\n",
       "      <td>-0.275831441</td>\n",
       "    </tr>\n",
       "    <tr>\n",
       "      <th>ARM</th>\n",
       "      <th>2009</th>\n",
       "      <td>6158.301452</td>\n",
       "      <td>119.640000</td>\n",
       "      <td>59.200001</td>\n",
       "      <td>33.599998</td>\n",
       "      <td>7.600407e+08</td>\n",
       "      <td>0.168125894</td>\n",
       "    </tr>\n",
       "    <tr>\n",
       "      <th>AUS</th>\n",
       "      <th>2009</th>\n",
       "      <td>40205.026652</td>\n",
       "      <td>104.900000</td>\n",
       "      <td>65.599998</td>\n",
       "      <td>69.300003</td>\n",
       "      <td>2.868327e+10</td>\n",
       "      <td>-0.279701882</td>\n",
       "    </tr>\n",
       "    <tr>\n",
       "      <th>AUT</th>\n",
       "      <th>2009</th>\n",
       "      <td>40633.384215</td>\n",
       "      <td>104.030000</td>\n",
       "      <td>60.799999</td>\n",
       "      <td>60.599998</td>\n",
       "      <td>1.429321e+10</td>\n",
       "      <td>-0.279690998</td>\n",
       "    </tr>\n",
       "    <tr>\n",
       "      <th>AZE</th>\n",
       "      <th>2009</th>\n",
       "      <td>14900.508664</td>\n",
       "      <td>122.630000</td>\n",
       "      <td>64.800003</td>\n",
       "      <td>35.200001</td>\n",
       "      <td>2.900030e+09</td>\n",
       "      <td>-0.140058553</td>\n",
       "    </tr>\n",
       "    <tr>\n",
       "      <th>BDI</th>\n",
       "      <th>2009</th>\n",
       "      <td>683.468685</td>\n",
       "      <td>112.460000</td>\n",
       "      <td>82.199997</td>\n",
       "      <td>65.300003</td>\n",
       "      <td>3.484045e+05</td>\n",
       "      <td>0.481418223</td>\n",
       "    </tr>\n",
       "    <tr>\n",
       "      <th>BEL</th>\n",
       "      <th>2009</th>\n",
       "      <td>37641.500342</td>\n",
       "      <td>95.410000</td>\n",
       "      <td>53.299999</td>\n",
       "      <td>32.400002</td>\n",
       "      <td>8.652798e+10</td>\n",
       "      <td>-0.279311765</td>\n",
       "    </tr>\n",
       "    <tr>\n",
       "      <th>BEN</th>\n",
       "      <th>2009</th>\n",
       "      <td>1716.207268</td>\n",
       "      <td>118.780000</td>\n",
       "      <td>72.699997</td>\n",
       "      <td>57.200001</td>\n",
       "      <td>-1.873201e+07</td>\n",
       "      <td>-0.276514379</td>\n",
       "    </tr>\n",
       "    <tr>\n",
       "      <th>BFA</th>\n",
       "      <th>2009</th>\n",
       "      <td>1308.546046</td>\n",
       "      <td>105.710000</td>\n",
       "      <td>83.599998</td>\n",
       "      <td>77.199997</td>\n",
       "      <td>5.642688e+07</td>\n",
       "      <td>-0.274978943</td>\n",
       "    </tr>\n",
       "    <tr>\n",
       "      <th>BGD</th>\n",
       "      <th>2009</th>\n",
       "      <td>2273.164201</td>\n",
       "      <td>121.620000</td>\n",
       "      <td>70.699997</td>\n",
       "      <td>59.400002</td>\n",
       "      <td>9.012866e+08</td>\n",
       "      <td>-0.274660662</td>\n",
       "    </tr>\n",
       "    <tr>\n",
       "      <th>MKD</th>\n",
       "      <th>2009</th>\n",
       "      <td>11308.993118</td>\n",
       "      <td>114.110000</td>\n",
       "      <td>55.400002</td>\n",
       "      <td>34.799999</td>\n",
       "      <td>2.595303e+08</td>\n",
       "      <td>0.0043429</td>\n",
       "    </tr>\n",
       "    <tr>\n",
       "      <th>BGR</th>\n",
       "      <th>2009</th>\n",
       "      <td>14875.603263</td>\n",
       "      <td>101.050000</td>\n",
       "      <td>54.299999</td>\n",
       "      <td>32.900002</td>\n",
       "      <td>3.896665e+09</td>\n",
       "      <td>-0.252580925</td>\n",
       "    </tr>\n",
       "    <tr>\n",
       "      <th>BHR</th>\n",
       "      <th>2009</th>\n",
       "      <td>39343.225490</td>\n",
       "      <td>126.360000</td>\n",
       "      <td>70.099998</td>\n",
       "      <td>45.299999</td>\n",
       "      <td>2.571496e+08</td>\n",
       "      <td>-0.274924871</td>\n",
       "    </tr>\n",
       "    <tr>\n",
       "      <th>BHS</th>\n",
       "      <th>2009</th>\n",
       "      <td>22196.819494</td>\n",
       "      <td>104.240000</td>\n",
       "      <td>74.000000</td>\n",
       "      <td>56.099998</td>\n",
       "      <td>6.639600e+08</td>\n",
       "      <td>-0.276676472</td>\n",
       "    </tr>\n",
       "    <tr>\n",
       "      <th>BIH</th>\n",
       "      <th>2009</th>\n",
       "      <td>8523.644754</td>\n",
       "      <td>117.010000</td>\n",
       "      <td>44.599998</td>\n",
       "      <td>32.099998</td>\n",
       "      <td>1.385110e+08</td>\n",
       "      <td>1.066847233</td>\n",
       "    </tr>\n",
       "    <tr>\n",
       "      <th>BLR</th>\n",
       "      <th>2009</th>\n",
       "      <td>14082.538284</td>\n",
       "      <td>118.980000</td>\n",
       "      <td>54.700001</td>\n",
       "      <td>37.099998</td>\n",
       "      <td>1.876500e+09</td>\n",
       "      <td>-0.236902159</td>\n",
       "    </tr>\n",
       "    <tr>\n",
       "      <th>BLZ</th>\n",
       "      <th>2009</th>\n",
       "      <td>7559.677016</td>\n",
       "      <td>92.690000</td>\n",
       "      <td>64.900002</td>\n",
       "      <td>53.500000</td>\n",
       "      <td>1.088401e+08</td>\n",
       "      <td>-0.275800096</td>\n",
       "    </tr>\n",
       "    <tr>\n",
       "      <th>BOL</th>\n",
       "      <th>2009</th>\n",
       "      <td>5108.846894</td>\n",
       "      <td>120.470000</td>\n",
       "      <td>72.000000</td>\n",
       "      <td>54.099998</td>\n",
       "      <td>4.230400e+08</td>\n",
       "      <td>-0.275463285</td>\n",
       "    </tr>\n",
       "    <tr>\n",
       "      <th>BRA</th>\n",
       "      <th>2009</th>\n",
       "      <td>13091.271235</td>\n",
       "      <td>116.850000</td>\n",
       "      <td>69.800003</td>\n",
       "      <td>63.299999</td>\n",
       "      <td>3.148093e+10</td>\n",
       "      <td>-0.279432048</td>\n",
       "    </tr>\n",
       "    <tr>\n",
       "      <th>BRB</th>\n",
       "      <th>2009</th>\n",
       "      <td>14872.864480</td>\n",
       "      <td>99.300000</td>\n",
       "      <td>71.199997</td>\n",
       "      <td>56.299999</td>\n",
       "      <td>4.581556e+08</td>\n",
       "      <td>-0.272110391</td>\n",
       "    </tr>\n",
       "    <tr>\n",
       "      <th>BRN</th>\n",
       "      <th>2009</th>\n",
       "      <td>68962.855214</td>\n",
       "      <td>132.310000</td>\n",
       "      <td>65.199997</td>\n",
       "      <td>45.099998</td>\n",
       "      <td>3.255868e+08</td>\n",
       "      <td>-0.279606473</td>\n",
       "    </tr>\n",
       "    <tr>\n",
       "      <th>BTN</th>\n",
       "      <th>2009</th>\n",
       "      <td>5717.165737</td>\n",
       "      <td>89.220000</td>\n",
       "      <td>71.099998</td>\n",
       "      <td>48.299999</td>\n",
       "      <td>1.829971e+07</td>\n",
       "      <td>9.008163252</td>\n",
       "    </tr>\n",
       "    <tr>\n",
       "      <th>BWA</th>\n",
       "      <th>2009</th>\n",
       "      <td>11934.060886</td>\n",
       "      <td>112.690000</td>\n",
       "      <td>76.400002</td>\n",
       "      <td>59.599998</td>\n",
       "      <td>1.288407e+08</td>\n",
       "      <td>-0.278693979</td>\n",
       "    </tr>\n",
       "    <tr>\n",
       "      <th>CAF</th>\n",
       "      <th>2009</th>\n",
       "      <td>844.202716</td>\n",
       "      <td>112.980000</td>\n",
       "      <td>78.599998</td>\n",
       "      <td>62.900002</td>\n",
       "      <td>4.228000e+07</td>\n",
       "      <td>2.420368969</td>\n",
       "    </tr>\n",
       "    <tr>\n",
       "      <th>CAN</th>\n",
       "      <th>2009</th>\n",
       "      <td>38709.050077</td>\n",
       "      <td>107.490000</td>\n",
       "      <td>66.800003</td>\n",
       "      <td>65.599998</td>\n",
       "      <td>2.380417e+10</td>\n",
       "      <td>-0.279579865</td>\n",
       "    </tr>\n",
       "    <tr>\n",
       "      <th>CEB</th>\n",
       "      <th>2009</th>\n",
       "      <td>19470.267208</td>\n",
       "      <td>101.152865</td>\n",
       "      <td>55.529394</td>\n",
       "      <td>32.683995</td>\n",
       "      <td>3.146105e+10</td>\n",
       "      <td>-0.216375011</td>\n",
       "    </tr>\n",
       "    <tr>\n",
       "      <th>...</th>\n",
       "      <th>...</th>\n",
       "      <td>...</td>\n",
       "      <td>...</td>\n",
       "      <td>...</td>\n",
       "      <td>...</td>\n",
       "      <td>...</td>\n",
       "      <td>...</td>\n",
       "    </tr>\n",
       "    <tr>\n",
       "      <th>SWZ</th>\n",
       "      <th>2013</th>\n",
       "      <td>8095.188507</td>\n",
       "      <td>112.480000</td>\n",
       "      <td>57.400002</td>\n",
       "      <td>44.700001</td>\n",
       "      <td>2.944230e+07</td>\n",
       "      <td>-0.259225106</td>\n",
       "    </tr>\n",
       "    <tr>\n",
       "      <th>TCD</th>\n",
       "      <th>2013</th>\n",
       "      <td>2071.628089</td>\n",
       "      <td>120.130000</td>\n",
       "      <td>71.599998</td>\n",
       "      <td>56.400002</td>\n",
       "      <td>5.384000e+08</td>\n",
       "      <td>0.012720764</td>\n",
       "    </tr>\n",
       "    <tr>\n",
       "      <th>TGO</th>\n",
       "      <th>2013</th>\n",
       "      <td>1368.067384</td>\n",
       "      <td>124.590000</td>\n",
       "      <td>81.000000</td>\n",
       "      <td>65.900002</td>\n",
       "      <td>1.957546e+08</td>\n",
       "      <td>-0.153388331</td>\n",
       "    </tr>\n",
       "    <tr>\n",
       "      <th>THA</th>\n",
       "      <th>2013</th>\n",
       "      <td>15438.279833</td>\n",
       "      <td>128.490000</td>\n",
       "      <td>72.300003</td>\n",
       "      <td>48.099998</td>\n",
       "      <td>1.582213e+10</td>\n",
       "      <td>-0.265537108</td>\n",
       "    </tr>\n",
       "    <tr>\n",
       "      <th>TJK</th>\n",
       "      <th>2013</th>\n",
       "      <td>2541.908260</td>\n",
       "      <td>155.730000</td>\n",
       "      <td>67.900002</td>\n",
       "      <td>47.900002</td>\n",
       "      <td>-5.416650e+07</td>\n",
       "      <td>-0.259651859</td>\n",
       "    </tr>\n",
       "    <tr>\n",
       "      <th>TKM</th>\n",
       "      <th>2013</th>\n",
       "      <td>14003.954347</td>\n",
       "      <td>124.410000</td>\n",
       "      <td>61.500000</td>\n",
       "      <td>45.200001</td>\n",
       "      <td>3.076000e+09</td>\n",
       "      <td>-0.258359024</td>\n",
       "    </tr>\n",
       "    <tr>\n",
       "      <th>TMP</th>\n",
       "      <th>2013</th>\n",
       "      <td>2106.966198</td>\n",
       "      <td>120.920000</td>\n",
       "      <td>37.900002</td>\n",
       "      <td>14.600000</td>\n",
       "      <td>5.585711e+07</td>\n",
       "      <td>-0.265147024</td>\n",
       "    </tr>\n",
       "    <tr>\n",
       "      <th>TON</th>\n",
       "      <th>2013</th>\n",
       "      <td>5049.745457</td>\n",
       "      <td>132.320000</td>\n",
       "      <td>63.900002</td>\n",
       "      <td>39.000000</td>\n",
       "      <td>6.666166e+06</td>\n",
       "      <td>-0.252899363</td>\n",
       "    </tr>\n",
       "    <tr>\n",
       "      <th>TTO</th>\n",
       "      <th>2013</th>\n",
       "      <td>31396.869581</td>\n",
       "      <td>96.400000</td>\n",
       "      <td>64.099998</td>\n",
       "      <td>49.299999</td>\n",
       "      <td>1.994318e+09</td>\n",
       "      <td>-0.247027826</td>\n",
       "    </tr>\n",
       "    <tr>\n",
       "      <th>TUN</th>\n",
       "      <th>2013</th>\n",
       "      <td>11086.301299</td>\n",
       "      <td>118.840000</td>\n",
       "      <td>47.599998</td>\n",
       "      <td>31.500000</td>\n",
       "      <td>1.058623e+09</td>\n",
       "      <td>-0.256306305</td>\n",
       "    </tr>\n",
       "    <tr>\n",
       "      <th>TUR</th>\n",
       "      <th>2013</th>\n",
       "      <td>18788.698239</td>\n",
       "      <td>129.780000</td>\n",
       "      <td>49.400002</td>\n",
       "      <td>39.500000</td>\n",
       "      <td>1.245700e+10</td>\n",
       "      <td>-0.198951848</td>\n",
       "    </tr>\n",
       "    <tr>\n",
       "      <th>TZA</th>\n",
       "      <th>2013</th>\n",
       "      <td>2413.331041</td>\n",
       "      <td>154.270000</td>\n",
       "      <td>89.099998</td>\n",
       "      <td>80.500000</td>\n",
       "      <td>2.087261e+09</td>\n",
       "      <td>-0.264225973</td>\n",
       "    </tr>\n",
       "    <tr>\n",
       "      <th>UGA</th>\n",
       "      <th>2013</th>\n",
       "      <td>1720.280037</td>\n",
       "      <td>112.520000</td>\n",
       "      <td>77.500000</td>\n",
       "      <td>59.200001</td>\n",
       "      <td>1.096000e+09</td>\n",
       "      <td>-0.248957305</td>\n",
       "    </tr>\n",
       "    <tr>\n",
       "      <th>UKR</th>\n",
       "      <th>2013</th>\n",
       "      <td>8614.080338</td>\n",
       "      <td>138.360000</td>\n",
       "      <td>59.400002</td>\n",
       "      <td>41.500000</td>\n",
       "      <td>4.509000e+09</td>\n",
       "      <td>-0.257227506</td>\n",
       "    </tr>\n",
       "    <tr>\n",
       "      <th>UMC</th>\n",
       "      <th>2013</th>\n",
       "      <td>13590.016524</td>\n",
       "      <td>128.778672</td>\n",
       "      <td>67.088435</td>\n",
       "      <td>51.241106</td>\n",
       "      <td>5.428038e+11</td>\n",
       "      <td>-0.223905975</td>\n",
       "    </tr>\n",
       "    <tr>\n",
       "      <th>URY</th>\n",
       "      <th>2013</th>\n",
       "      <td>19955.556297</td>\n",
       "      <td>130.060000</td>\n",
       "      <td>65.699997</td>\n",
       "      <td>55.599998</td>\n",
       "      <td>3.040152e+09</td>\n",
       "      <td>-0.262560427</td>\n",
       "    </tr>\n",
       "    <tr>\n",
       "      <th>USA</th>\n",
       "      <th>2013</th>\n",
       "      <td>52980.043626</td>\n",
       "      <td>113.230000</td>\n",
       "      <td>62.500000</td>\n",
       "      <td>50.700001</td>\n",
       "      <td>2.871620e+11</td>\n",
       "      <td>-0.264652634</td>\n",
       "    </tr>\n",
       "    <tr>\n",
       "      <th>UZB</th>\n",
       "      <th>2013</th>\n",
       "      <td>5167.822300</td>\n",
       "      <td>163.280000</td>\n",
       "      <td>61.599998</td>\n",
       "      <td>45.200001</td>\n",
       "      <td>6.860360e+08</td>\n",
       "      <td>-0.253428685</td>\n",
       "    </tr>\n",
       "    <tr>\n",
       "      <th>VCT</th>\n",
       "      <th>2013</th>\n",
       "      <td>10513.406976</td>\n",
       "      <td>105.260000</td>\n",
       "      <td>67.000000</td>\n",
       "      <td>52.299999</td>\n",
       "      <td>1.267350e+08</td>\n",
       "      <td>0.790965053</td>\n",
       "    </tr>\n",
       "    <tr>\n",
       "      <th>VEN</th>\n",
       "      <th>2013</th>\n",
       "      <td>18275.516581</td>\n",
       "      <td>131.200000</td>\n",
       "      <td>65.099998</td>\n",
       "      <td>42.799999</td>\n",
       "      <td>6.927000e+09</td>\n",
       "      <td>-0.244915286</td>\n",
       "    </tr>\n",
       "    <tr>\n",
       "      <th>VNM</th>\n",
       "      <th>2013</th>\n",
       "      <td>5294.358927</td>\n",
       "      <td>133.660000</td>\n",
       "      <td>77.500000</td>\n",
       "      <td>63.000000</td>\n",
       "      <td>8.900000e+09</td>\n",
       "      <td>-0.002254512</td>\n",
       "    </tr>\n",
       "    <tr>\n",
       "      <th>VUT</th>\n",
       "      <th>2013</th>\n",
       "      <td>2985.642027</td>\n",
       "      <td>137.960000</td>\n",
       "      <td>70.800003</td>\n",
       "      <td>56.599998</td>\n",
       "      <td>5.937921e+07</td>\n",
       "      <td>-0.265487528</td>\n",
       "    </tr>\n",
       "    <tr>\n",
       "      <th>WBG</th>\n",
       "      <th>2013</th>\n",
       "      <td>4646.257632</td>\n",
       "      <td>93.430000</td>\n",
       "      <td>41.200001</td>\n",
       "      <td>26.000000</td>\n",
       "      <td>1.895602e+08</td>\n",
       "      <td>1.467926927</td>\n",
       "    </tr>\n",
       "    <tr>\n",
       "      <th>WLD</th>\n",
       "      <th>2013</th>\n",
       "      <td>14426.899266</td>\n",
       "      <td>122.998660</td>\n",
       "      <td>63.459241</td>\n",
       "      <td>47.329865</td>\n",
       "      <td>1.955502e+12</td>\n",
       "      <td>-0.100795827</td>\n",
       "    </tr>\n",
       "    <tr>\n",
       "      <th>WSM</th>\n",
       "      <th>2013</th>\n",
       "      <td>5681.443234</td>\n",
       "      <td>110.270000</td>\n",
       "      <td>41.500000</td>\n",
       "      <td>29.299999</td>\n",
       "      <td>2.417952e+07</td>\n",
       "      <td>-0.265389505</td>\n",
       "    </tr>\n",
       "    <tr>\n",
       "      <th>YEM</th>\n",
       "      <th>2013</th>\n",
       "      <td>3784.637642</td>\n",
       "      <td>138.370000</td>\n",
       "      <td>48.799999</td>\n",
       "      <td>37.500000</td>\n",
       "      <td>-1.335709e+08</td>\n",
       "      <td>-0.258627767</td>\n",
       "    </tr>\n",
       "    <tr>\n",
       "      <th>ZAF</th>\n",
       "      <th>2013</th>\n",
       "      <td>12866.677321</td>\n",
       "      <td>122.250000</td>\n",
       "      <td>52.099998</td>\n",
       "      <td>26.299999</td>\n",
       "      <td>8.232519e+09</td>\n",
       "      <td>-0.265185906</td>\n",
       "    </tr>\n",
       "    <tr>\n",
       "      <th>ZAR</th>\n",
       "      <th>2013</th>\n",
       "      <td>695.696847</td>\n",
       "      <td>117.100000</td>\n",
       "      <td>71.900002</td>\n",
       "      <td>45.299999</td>\n",
       "      <td>-4.006633e+08</td>\n",
       "      <td>0.252427639</td>\n",
       "    </tr>\n",
       "    <tr>\n",
       "      <th>ZMB</th>\n",
       "      <th>2013</th>\n",
       "      <td>3743.237464</td>\n",
       "      <td>184.370000</td>\n",
       "      <td>79.300003</td>\n",
       "      <td>66.900002</td>\n",
       "      <td>2.099800e+09</td>\n",
       "      <td>-0.264639519</td>\n",
       "    </tr>\n",
       "    <tr>\n",
       "      <th>ZWE</th>\n",
       "      <th>2013</th>\n",
       "      <td>1740.008331</td>\n",
       "      <td>97.960000</td>\n",
       "      <td>86.500000</td>\n",
       "      <td>79.500000</td>\n",
       "      <td>4.000000e+08</td>\n",
       "      <td>-0.166357038</td>\n",
       "    </tr>\n",
       "  </tbody>\n",
       "</table>\n",
       "<p>1035 rows × 6 columns</p>\n",
       "</div>"
      ],
      "text/plain": [
       "                       gdp_ppp  food_production_dom  \\\n",
       "countrycode year                                      \n",
       "AFG         2009   1525.517054           116.510000   \n",
       "AGO         2009           NaN           164.910000   \n",
       "ALB         2009   9345.097500           112.110000   \n",
       "ARB         2009  13728.155608           110.015612   \n",
       "ARE         2009  59100.380538           100.490000   \n",
       "ARM         2009   6158.301452           119.640000   \n",
       "AUS         2009  40205.026652           104.900000   \n",
       "AUT         2009  40633.384215           104.030000   \n",
       "AZE         2009  14900.508664           122.630000   \n",
       "BDI         2009    683.468685           112.460000   \n",
       "BEL         2009  37641.500342            95.410000   \n",
       "BEN         2009   1716.207268           118.780000   \n",
       "BFA         2009   1308.546046           105.710000   \n",
       "BGD         2009   2273.164201           121.620000   \n",
       "MKD         2009  11308.993118           114.110000   \n",
       "BGR         2009  14875.603263           101.050000   \n",
       "BHR         2009  39343.225490           126.360000   \n",
       "BHS         2009  22196.819494           104.240000   \n",
       "BIH         2009   8523.644754           117.010000   \n",
       "BLR         2009  14082.538284           118.980000   \n",
       "BLZ         2009   7559.677016            92.690000   \n",
       "BOL         2009   5108.846894           120.470000   \n",
       "BRA         2009  13091.271235           116.850000   \n",
       "BRB         2009  14872.864480            99.300000   \n",
       "BRN         2009  68962.855214           132.310000   \n",
       "BTN         2009   5717.165737            89.220000   \n",
       "BWA         2009  11934.060886           112.690000   \n",
       "CAF         2009    844.202716           112.980000   \n",
       "CAN         2009  38709.050077           107.490000   \n",
       "CEB         2009  19470.267208           101.152865   \n",
       "...                        ...                  ...   \n",
       "SWZ         2013   8095.188507           112.480000   \n",
       "TCD         2013   2071.628089           120.130000   \n",
       "TGO         2013   1368.067384           124.590000   \n",
       "THA         2013  15438.279833           128.490000   \n",
       "TJK         2013   2541.908260           155.730000   \n",
       "TKM         2013  14003.954347           124.410000   \n",
       "TMP         2013   2106.966198           120.920000   \n",
       "TON         2013   5049.745457           132.320000   \n",
       "TTO         2013  31396.869581            96.400000   \n",
       "TUN         2013  11086.301299           118.840000   \n",
       "TUR         2013  18788.698239           129.780000   \n",
       "TZA         2013   2413.331041           154.270000   \n",
       "UGA         2013   1720.280037           112.520000   \n",
       "UKR         2013   8614.080338           138.360000   \n",
       "UMC         2013  13590.016524           128.778672   \n",
       "URY         2013  19955.556297           130.060000   \n",
       "USA         2013  52980.043626           113.230000   \n",
       "UZB         2013   5167.822300           163.280000   \n",
       "VCT         2013  10513.406976           105.260000   \n",
       "VEN         2013  18275.516581           131.200000   \n",
       "VNM         2013   5294.358927           133.660000   \n",
       "VUT         2013   2985.642027           137.960000   \n",
       "WBG         2013   4646.257632            93.430000   \n",
       "WLD         2013  14426.899266           122.998660   \n",
       "WSM         2013   5681.443234           110.270000   \n",
       "YEM         2013   3784.637642           138.370000   \n",
       "ZAF         2013  12866.677321           122.250000   \n",
       "ZAR         2013    695.696847           117.100000   \n",
       "ZMB         2013   3743.237464           184.370000   \n",
       "ZWE         2013   1740.008331            97.960000   \n",
       "\n",
       "                  labor_force_participation  youth_unemployment  \\\n",
       "countrycode year                                                  \n",
       "AFG         2009                  48.000000           37.599998   \n",
       "AGO         2009                  69.400002           52.599998   \n",
       "ALB         2009                  55.200001           33.900002   \n",
       "ARB         2009                  49.311070           32.852058   \n",
       "ARE         2009                  77.500000           53.599998   \n",
       "ARM         2009                  59.200001           33.599998   \n",
       "AUS         2009                  65.599998           69.300003   \n",
       "AUT         2009                  60.799999           60.599998   \n",
       "AZE         2009                  64.800003           35.200001   \n",
       "BDI         2009                  82.199997           65.300003   \n",
       "BEL         2009                  53.299999           32.400002   \n",
       "BEN         2009                  72.699997           57.200001   \n",
       "BFA         2009                  83.599998           77.199997   \n",
       "BGD         2009                  70.699997           59.400002   \n",
       "MKD         2009                  55.400002           34.799999   \n",
       "BGR         2009                  54.299999           32.900002   \n",
       "BHR         2009                  70.099998           45.299999   \n",
       "BHS         2009                  74.000000           56.099998   \n",
       "BIH         2009                  44.599998           32.099998   \n",
       "BLR         2009                  54.700001           37.099998   \n",
       "BLZ         2009                  64.900002           53.500000   \n",
       "BOL         2009                  72.000000           54.099998   \n",
       "BRA         2009                  69.800003           63.299999   \n",
       "BRB         2009                  71.199997           56.299999   \n",
       "BRN         2009                  65.199997           45.099998   \n",
       "BTN         2009                  71.099998           48.299999   \n",
       "BWA         2009                  76.400002           59.599998   \n",
       "CAF         2009                  78.599998           62.900002   \n",
       "CAN         2009                  66.800003           65.599998   \n",
       "CEB         2009                  55.529394           32.683995   \n",
       "...                                     ...                 ...   \n",
       "SWZ         2013                  57.400002           44.700001   \n",
       "TCD         2013                  71.599998           56.400002   \n",
       "TGO         2013                  81.000000           65.900002   \n",
       "THA         2013                  72.300003           48.099998   \n",
       "TJK         2013                  67.900002           47.900002   \n",
       "TKM         2013                  61.500000           45.200001   \n",
       "TMP         2013                  37.900002           14.600000   \n",
       "TON         2013                  63.900002           39.000000   \n",
       "TTO         2013                  64.099998           49.299999   \n",
       "TUN         2013                  47.599998           31.500000   \n",
       "TUR         2013                  49.400002           39.500000   \n",
       "TZA         2013                  89.099998           80.500000   \n",
       "UGA         2013                  77.500000           59.200001   \n",
       "UKR         2013                  59.400002           41.500000   \n",
       "UMC         2013                  67.088435           51.241106   \n",
       "URY         2013                  65.699997           55.599998   \n",
       "USA         2013                  62.500000           50.700001   \n",
       "UZB         2013                  61.599998           45.200001   \n",
       "VCT         2013                  67.000000           52.299999   \n",
       "VEN         2013                  65.099998           42.799999   \n",
       "VNM         2013                  77.500000           63.000000   \n",
       "VUT         2013                  70.800003           56.599998   \n",
       "WBG         2013                  41.200001           26.000000   \n",
       "WLD         2013                  63.459241           47.329865   \n",
       "WSM         2013                  41.500000           29.299999   \n",
       "YEM         2013                  48.799999           37.500000   \n",
       "ZAF         2013                  52.099998           26.299999   \n",
       "ZAR         2013                  71.900002           45.299999   \n",
       "ZMB         2013                  79.300003           66.900002   \n",
       "ZWE         2013                  86.500000           79.500000   \n",
       "\n",
       "                  foreign_investment       zscores  \n",
       "countrycode year                                    \n",
       "AFG         2009        1.975127e+08   7.552656851  \n",
       "AGO         2009        2.205298e+09    0.22745292  \n",
       "ALB         2009        1.343091e+09   0.116318468  \n",
       "ARB         2009        7.952285e+10   0.368862395  \n",
       "ARE         2009        4.002700e+09  -0.275831441  \n",
       "ARM         2009        7.600407e+08   0.168125894  \n",
       "AUS         2009        2.868327e+10  -0.279701882  \n",
       "AUT         2009        1.429321e+10  -0.279690998  \n",
       "AZE         2009        2.900030e+09  -0.140058553  \n",
       "BDI         2009        3.484045e+05   0.481418223  \n",
       "BEL         2009        8.652798e+10  -0.279311765  \n",
       "BEN         2009       -1.873201e+07  -0.276514379  \n",
       "BFA         2009        5.642688e+07  -0.274978943  \n",
       "BGD         2009        9.012866e+08  -0.274660662  \n",
       "MKD         2009        2.595303e+08     0.0043429  \n",
       "BGR         2009        3.896665e+09  -0.252580925  \n",
       "BHR         2009        2.571496e+08  -0.274924871  \n",
       "BHS         2009        6.639600e+08  -0.276676472  \n",
       "BIH         2009        1.385110e+08   1.066847233  \n",
       "BLR         2009        1.876500e+09  -0.236902159  \n",
       "BLZ         2009        1.088401e+08  -0.275800096  \n",
       "BOL         2009        4.230400e+08  -0.275463285  \n",
       "BRA         2009        3.148093e+10  -0.279432048  \n",
       "BRB         2009        4.581556e+08  -0.272110391  \n",
       "BRN         2009        3.255868e+08  -0.279606473  \n",
       "BTN         2009        1.829971e+07   9.008163252  \n",
       "BWA         2009        1.288407e+08  -0.278693979  \n",
       "CAF         2009        4.228000e+07   2.420368969  \n",
       "CAN         2009        2.380417e+10  -0.279579865  \n",
       "CEB         2009        3.146105e+10  -0.216375011  \n",
       "...                              ...           ...  \n",
       "SWZ         2013        2.944230e+07  -0.259225106  \n",
       "TCD         2013        5.384000e+08   0.012720764  \n",
       "TGO         2013        1.957546e+08  -0.153388331  \n",
       "THA         2013        1.582213e+10  -0.265537108  \n",
       "TJK         2013       -5.416650e+07  -0.259651859  \n",
       "TKM         2013        3.076000e+09  -0.258359024  \n",
       "TMP         2013        5.585711e+07  -0.265147024  \n",
       "TON         2013        6.666166e+06  -0.252899363  \n",
       "TTO         2013        1.994318e+09  -0.247027826  \n",
       "TUN         2013        1.058623e+09  -0.256306305  \n",
       "TUR         2013        1.245700e+10  -0.198951848  \n",
       "TZA         2013        2.087261e+09  -0.264225973  \n",
       "UGA         2013        1.096000e+09  -0.248957305  \n",
       "UKR         2013        4.509000e+09  -0.257227506  \n",
       "UMC         2013        5.428038e+11  -0.223905975  \n",
       "URY         2013        3.040152e+09  -0.262560427  \n",
       "USA         2013        2.871620e+11  -0.264652634  \n",
       "UZB         2013        6.860360e+08  -0.253428685  \n",
       "VCT         2013        1.267350e+08   0.790965053  \n",
       "VEN         2013        6.927000e+09  -0.244915286  \n",
       "VNM         2013        8.900000e+09  -0.002254512  \n",
       "VUT         2013        5.937921e+07  -0.265487528  \n",
       "WBG         2013        1.895602e+08   1.467926927  \n",
       "WLD         2013        1.955502e+12  -0.100795827  \n",
       "WSM         2013        2.417952e+07  -0.265389505  \n",
       "YEM         2013       -1.335709e+08  -0.258627767  \n",
       "ZAF         2013        8.232519e+09  -0.265185906  \n",
       "ZAR         2013       -4.006633e+08   0.252427639  \n",
       "ZMB         2013        2.099800e+09  -0.264639519  \n",
       "ZWE         2013        4.000000e+08  -0.166357038  \n",
       "\n",
       "[1035 rows x 6 columns]"
      ]
     },
     "execution_count": 50,
     "metadata": {},
     "output_type": "execute_result"
    }
   ],
   "source": [
    "full_data"
   ]
  },
  {
   "cell_type": "code",
   "execution_count": 51,
   "metadata": {
    "collapsed": true
   },
   "outputs": [],
   "source": [
    "# pickle this "
   ]
  },
  {
   "cell_type": "code",
   "execution_count": 52,
   "metadata": {
    "collapsed": true
   },
   "outputs": [],
   "source": [
    "pickle.dump( full_data, open( \"bryan_data.pkl\", \"wb\"))"
   ]
  },
  {
   "cell_type": "code",
   "execution_count": null,
   "metadata": {
    "collapsed": true
   },
   "outputs": [],
   "source": []
  },
  {
   "cell_type": "code",
   "execution_count": 53,
   "metadata": {
    "collapsed": true
   },
   "outputs": [],
   "source": [
    "full_data['zscores'] = full_data['zscores'].astype(float)\n",
    "\n",
    "full_data.loc[full_data['zscores'] > 0, 'zscores'] = 1\n",
    "full_data.loc[full_data['zscores'] <= 0, 'zscores'] = 0\n",
    "\n",
    "try:\n",
    "    full_data.loc[full_data['freedom_status'] == 'F', 'freedom_status'] = -1\n",
    "    full_data.loc[full_data['freedom_status'] == 'PF', 'freedom_status'] = 0\n",
    "    full_data.loc[full_data['freedom_status'] == 'NF', 'freedom_status'] = 1\n",
    "except:\n",
    "    pass\n"
   ]
  },
  {
   "cell_type": "code",
   "execution_count": 54,
   "metadata": {
    "collapsed": false
   },
   "outputs": [
    {
     "data": {
      "text/html": [
       "<div>\n",
       "<table border=\"1\" class=\"dataframe\">\n",
       "  <thead>\n",
       "    <tr style=\"text-align: right;\">\n",
       "      <th></th>\n",
       "      <th></th>\n",
       "      <th>gdp_ppp</th>\n",
       "      <th>food_production_dom</th>\n",
       "      <th>labor_force_participation</th>\n",
       "      <th>youth_unemployment</th>\n",
       "      <th>foreign_investment</th>\n",
       "      <th>zscores</th>\n",
       "    </tr>\n",
       "    <tr>\n",
       "      <th>countrycode</th>\n",
       "      <th>year</th>\n",
       "      <th></th>\n",
       "      <th></th>\n",
       "      <th></th>\n",
       "      <th></th>\n",
       "      <th></th>\n",
       "      <th></th>\n",
       "    </tr>\n",
       "  </thead>\n",
       "  <tbody>\n",
       "    <tr>\n",
       "      <th>AGO</th>\n",
       "      <th>2009</th>\n",
       "      <td>NaN</td>\n",
       "      <td>164.91</td>\n",
       "      <td>69.400002</td>\n",
       "      <td>52.599998</td>\n",
       "      <td>2.205298e+09</td>\n",
       "      <td>1</td>\n",
       "    </tr>\n",
       "    <tr>\n",
       "      <th>LUX</th>\n",
       "      <th>2009</th>\n",
       "      <td>80331.758338</td>\n",
       "      <td>103.47</td>\n",
       "      <td>57.400002</td>\n",
       "      <td>32.299999</td>\n",
       "      <td>2.731333e+10</td>\n",
       "      <td>NaN</td>\n",
       "    </tr>\n",
       "    <tr>\n",
       "      <th>VUT</th>\n",
       "      <th>2009</th>\n",
       "      <td>2874.878880</td>\n",
       "      <td>104.12</td>\n",
       "      <td>71.000000</td>\n",
       "      <td>58.000000</td>\n",
       "      <td>3.214085e+07</td>\n",
       "      <td>NaN</td>\n",
       "    </tr>\n",
       "    <tr>\n",
       "      <th>WSM</th>\n",
       "      <th>2009</th>\n",
       "      <td>5243.269337</td>\n",
       "      <td>106.30</td>\n",
       "      <td>44.200001</td>\n",
       "      <td>30.299999</td>\n",
       "      <td>9.868117e+06</td>\n",
       "      <td>NaN</td>\n",
       "    </tr>\n",
       "    <tr>\n",
       "      <th>AGO</th>\n",
       "      <th>2010</th>\n",
       "      <td>NaN</td>\n",
       "      <td>173.96</td>\n",
       "      <td>69.699997</td>\n",
       "      <td>52.799999</td>\n",
       "      <td>-3.227211e+09</td>\n",
       "      <td>1</td>\n",
       "    </tr>\n",
       "    <tr>\n",
       "      <th>LUX</th>\n",
       "      <th>2010</th>\n",
       "      <td>84531.419254</td>\n",
       "      <td>92.50</td>\n",
       "      <td>57.000000</td>\n",
       "      <td>25.100000</td>\n",
       "      <td>3.858751e+10</td>\n",
       "      <td>NaN</td>\n",
       "    </tr>\n",
       "    <tr>\n",
       "      <th>LBY</th>\n",
       "      <th>2011</th>\n",
       "      <td>11023.437140</td>\n",
       "      <td>110.26</td>\n",
       "      <td>53.299999</td>\n",
       "      <td>37.099998</td>\n",
       "      <td>NaN</td>\n",
       "      <td>0</td>\n",
       "    </tr>\n",
       "    <tr>\n",
       "      <th>LUX</th>\n",
       "      <th>2011</th>\n",
       "      <td>91073.322083</td>\n",
       "      <td>92.54</td>\n",
       "      <td>56.799999</td>\n",
       "      <td>24.900000</td>\n",
       "      <td>9.748432e+09</td>\n",
       "      <td>NaN</td>\n",
       "    </tr>\n",
       "    <tr>\n",
       "      <th>AGO</th>\n",
       "      <th>2012</th>\n",
       "      <td>NaN</td>\n",
       "      <td>158.49</td>\n",
       "      <td>69.900002</td>\n",
       "      <td>52.799999</td>\n",
       "      <td>-6.897955e+09</td>\n",
       "      <td>0</td>\n",
       "    </tr>\n",
       "    <tr>\n",
       "      <th>ERI</th>\n",
       "      <th>2012</th>\n",
       "      <td>NaN</td>\n",
       "      <td>111.35</td>\n",
       "      <td>84.699997</td>\n",
       "      <td>77.300003</td>\n",
       "      <td>4.135814e+07</td>\n",
       "      <td>1</td>\n",
       "    </tr>\n",
       "    <tr>\n",
       "      <th>LUX</th>\n",
       "      <th>2012</th>\n",
       "      <td>91351.173387</td>\n",
       "      <td>87.92</td>\n",
       "      <td>57.700001</td>\n",
       "      <td>27.000000</td>\n",
       "      <td>7.964502e+10</td>\n",
       "      <td>NaN</td>\n",
       "    </tr>\n",
       "    <tr>\n",
       "      <th>NZL</th>\n",
       "      <th>2012</th>\n",
       "      <td>NaN</td>\n",
       "      <td>111.21</td>\n",
       "      <td>67.800003</td>\n",
       "      <td>59.799999</td>\n",
       "      <td>3.726611e+09</td>\n",
       "      <td>0</td>\n",
       "    </tr>\n",
       "    <tr>\n",
       "      <th>AGO</th>\n",
       "      <th>2013</th>\n",
       "      <td>NaN</td>\n",
       "      <td>213.39</td>\n",
       "      <td>70.000000</td>\n",
       "      <td>52.799999</td>\n",
       "      <td>-7.120017e+09</td>\n",
       "      <td>0</td>\n",
       "    </tr>\n",
       "    <tr>\n",
       "      <th>ERI</th>\n",
       "      <th>2013</th>\n",
       "      <td>NaN</td>\n",
       "      <td>110.65</td>\n",
       "      <td>84.800003</td>\n",
       "      <td>77.199997</td>\n",
       "      <td>4.385886e+07</td>\n",
       "      <td>1</td>\n",
       "    </tr>\n",
       "    <tr>\n",
       "      <th>NZL</th>\n",
       "      <th>2013</th>\n",
       "      <td>NaN</td>\n",
       "      <td>109.56</td>\n",
       "      <td>67.800003</td>\n",
       "      <td>60.200001</td>\n",
       "      <td>-5.096418e+08</td>\n",
       "      <td>0</td>\n",
       "    </tr>\n",
       "  </tbody>\n",
       "</table>\n",
       "</div>"
      ],
      "text/plain": [
       "                       gdp_ppp  food_production_dom  \\\n",
       "countrycode year                                      \n",
       "AGO         2009           NaN               164.91   \n",
       "LUX         2009  80331.758338               103.47   \n",
       "VUT         2009   2874.878880               104.12   \n",
       "WSM         2009   5243.269337               106.30   \n",
       "AGO         2010           NaN               173.96   \n",
       "LUX         2010  84531.419254                92.50   \n",
       "LBY         2011  11023.437140               110.26   \n",
       "LUX         2011  91073.322083                92.54   \n",
       "AGO         2012           NaN               158.49   \n",
       "ERI         2012           NaN               111.35   \n",
       "LUX         2012  91351.173387                87.92   \n",
       "NZL         2012           NaN               111.21   \n",
       "AGO         2013           NaN               213.39   \n",
       "ERI         2013           NaN               110.65   \n",
       "NZL         2013           NaN               109.56   \n",
       "\n",
       "                  labor_force_participation  youth_unemployment  \\\n",
       "countrycode year                                                  \n",
       "AGO         2009                  69.400002           52.599998   \n",
       "LUX         2009                  57.400002           32.299999   \n",
       "VUT         2009                  71.000000           58.000000   \n",
       "WSM         2009                  44.200001           30.299999   \n",
       "AGO         2010                  69.699997           52.799999   \n",
       "LUX         2010                  57.000000           25.100000   \n",
       "LBY         2011                  53.299999           37.099998   \n",
       "LUX         2011                  56.799999           24.900000   \n",
       "AGO         2012                  69.900002           52.799999   \n",
       "ERI         2012                  84.699997           77.300003   \n",
       "LUX         2012                  57.700001           27.000000   \n",
       "NZL         2012                  67.800003           59.799999   \n",
       "AGO         2013                  70.000000           52.799999   \n",
       "ERI         2013                  84.800003           77.199997   \n",
       "NZL         2013                  67.800003           60.200001   \n",
       "\n",
       "                  foreign_investment  zscores  \n",
       "countrycode year                               \n",
       "AGO         2009        2.205298e+09        1  \n",
       "LUX         2009        2.731333e+10      NaN  \n",
       "VUT         2009        3.214085e+07      NaN  \n",
       "WSM         2009        9.868117e+06      NaN  \n",
       "AGO         2010       -3.227211e+09        1  \n",
       "LUX         2010        3.858751e+10      NaN  \n",
       "LBY         2011                 NaN        0  \n",
       "LUX         2011        9.748432e+09      NaN  \n",
       "AGO         2012       -6.897955e+09        0  \n",
       "ERI         2012        4.135814e+07        1  \n",
       "LUX         2012        7.964502e+10      NaN  \n",
       "NZL         2012        3.726611e+09        0  \n",
       "AGO         2013       -7.120017e+09        0  \n",
       "ERI         2013        4.385886e+07        1  \n",
       "NZL         2013       -5.096418e+08        0  "
      ]
     },
     "execution_count": 54,
     "metadata": {},
     "output_type": "execute_result"
    }
   ],
   "source": [
    "full_data[full_data.isnull().any(axis=1)]"
   ]
  },
  {
   "cell_type": "code",
   "execution_count": 55,
   "metadata": {
    "collapsed": true
   },
   "outputs": [],
   "source": [
    "full_data = full_data.dropna()"
   ]
  },
  {
   "cell_type": "code",
   "execution_count": 56,
   "metadata": {
    "collapsed": false
   },
   "outputs": [
    {
     "data": {
      "text/html": [
       "<div>\n",
       "<table border=\"1\" class=\"dataframe\">\n",
       "  <thead>\n",
       "    <tr style=\"text-align: right;\">\n",
       "      <th></th>\n",
       "      <th></th>\n",
       "      <th>gdp_ppp</th>\n",
       "      <th>food_production_dom</th>\n",
       "      <th>labor_force_participation</th>\n",
       "      <th>youth_unemployment</th>\n",
       "      <th>foreign_investment</th>\n",
       "      <th>zscores</th>\n",
       "    </tr>\n",
       "    <tr>\n",
       "      <th>countrycode</th>\n",
       "      <th>year</th>\n",
       "      <th></th>\n",
       "      <th></th>\n",
       "      <th></th>\n",
       "      <th></th>\n",
       "      <th></th>\n",
       "      <th></th>\n",
       "    </tr>\n",
       "  </thead>\n",
       "  <tbody>\n",
       "    <tr>\n",
       "      <th>AFG</th>\n",
       "      <th>2009</th>\n",
       "      <td>1525.517054</td>\n",
       "      <td>116.510000</td>\n",
       "      <td>48.000000</td>\n",
       "      <td>37.599998</td>\n",
       "      <td>1.975127e+08</td>\n",
       "      <td>1</td>\n",
       "    </tr>\n",
       "    <tr>\n",
       "      <th>ALB</th>\n",
       "      <th>2009</th>\n",
       "      <td>9345.097500</td>\n",
       "      <td>112.110000</td>\n",
       "      <td>55.200001</td>\n",
       "      <td>33.900002</td>\n",
       "      <td>1.343091e+09</td>\n",
       "      <td>1</td>\n",
       "    </tr>\n",
       "    <tr>\n",
       "      <th>ARB</th>\n",
       "      <th>2009</th>\n",
       "      <td>13728.155608</td>\n",
       "      <td>110.015612</td>\n",
       "      <td>49.311070</td>\n",
       "      <td>32.852058</td>\n",
       "      <td>7.952285e+10</td>\n",
       "      <td>1</td>\n",
       "    </tr>\n",
       "    <tr>\n",
       "      <th>ARE</th>\n",
       "      <th>2009</th>\n",
       "      <td>59100.380538</td>\n",
       "      <td>100.490000</td>\n",
       "      <td>77.500000</td>\n",
       "      <td>53.599998</td>\n",
       "      <td>4.002700e+09</td>\n",
       "      <td>0</td>\n",
       "    </tr>\n",
       "    <tr>\n",
       "      <th>ARM</th>\n",
       "      <th>2009</th>\n",
       "      <td>6158.301452</td>\n",
       "      <td>119.640000</td>\n",
       "      <td>59.200001</td>\n",
       "      <td>33.599998</td>\n",
       "      <td>7.600407e+08</td>\n",
       "      <td>1</td>\n",
       "    </tr>\n",
       "    <tr>\n",
       "      <th>AUS</th>\n",
       "      <th>2009</th>\n",
       "      <td>40205.026652</td>\n",
       "      <td>104.900000</td>\n",
       "      <td>65.599998</td>\n",
       "      <td>69.300003</td>\n",
       "      <td>2.868327e+10</td>\n",
       "      <td>0</td>\n",
       "    </tr>\n",
       "    <tr>\n",
       "      <th>AUT</th>\n",
       "      <th>2009</th>\n",
       "      <td>40633.384215</td>\n",
       "      <td>104.030000</td>\n",
       "      <td>60.799999</td>\n",
       "      <td>60.599998</td>\n",
       "      <td>1.429321e+10</td>\n",
       "      <td>0</td>\n",
       "    </tr>\n",
       "    <tr>\n",
       "      <th>AZE</th>\n",
       "      <th>2009</th>\n",
       "      <td>14900.508664</td>\n",
       "      <td>122.630000</td>\n",
       "      <td>64.800003</td>\n",
       "      <td>35.200001</td>\n",
       "      <td>2.900030e+09</td>\n",
       "      <td>0</td>\n",
       "    </tr>\n",
       "    <tr>\n",
       "      <th>BDI</th>\n",
       "      <th>2009</th>\n",
       "      <td>683.468685</td>\n",
       "      <td>112.460000</td>\n",
       "      <td>82.199997</td>\n",
       "      <td>65.300003</td>\n",
       "      <td>3.484045e+05</td>\n",
       "      <td>1</td>\n",
       "    </tr>\n",
       "    <tr>\n",
       "      <th>BEL</th>\n",
       "      <th>2009</th>\n",
       "      <td>37641.500342</td>\n",
       "      <td>95.410000</td>\n",
       "      <td>53.299999</td>\n",
       "      <td>32.400002</td>\n",
       "      <td>8.652798e+10</td>\n",
       "      <td>0</td>\n",
       "    </tr>\n",
       "    <tr>\n",
       "      <th>BEN</th>\n",
       "      <th>2009</th>\n",
       "      <td>1716.207268</td>\n",
       "      <td>118.780000</td>\n",
       "      <td>72.699997</td>\n",
       "      <td>57.200001</td>\n",
       "      <td>-1.873201e+07</td>\n",
       "      <td>0</td>\n",
       "    </tr>\n",
       "    <tr>\n",
       "      <th>BFA</th>\n",
       "      <th>2009</th>\n",
       "      <td>1308.546046</td>\n",
       "      <td>105.710000</td>\n",
       "      <td>83.599998</td>\n",
       "      <td>77.199997</td>\n",
       "      <td>5.642688e+07</td>\n",
       "      <td>0</td>\n",
       "    </tr>\n",
       "    <tr>\n",
       "      <th>BGD</th>\n",
       "      <th>2009</th>\n",
       "      <td>2273.164201</td>\n",
       "      <td>121.620000</td>\n",
       "      <td>70.699997</td>\n",
       "      <td>59.400002</td>\n",
       "      <td>9.012866e+08</td>\n",
       "      <td>0</td>\n",
       "    </tr>\n",
       "    <tr>\n",
       "      <th>MKD</th>\n",
       "      <th>2009</th>\n",
       "      <td>11308.993118</td>\n",
       "      <td>114.110000</td>\n",
       "      <td>55.400002</td>\n",
       "      <td>34.799999</td>\n",
       "      <td>2.595303e+08</td>\n",
       "      <td>1</td>\n",
       "    </tr>\n",
       "    <tr>\n",
       "      <th>BGR</th>\n",
       "      <th>2009</th>\n",
       "      <td>14875.603263</td>\n",
       "      <td>101.050000</td>\n",
       "      <td>54.299999</td>\n",
       "      <td>32.900002</td>\n",
       "      <td>3.896665e+09</td>\n",
       "      <td>0</td>\n",
       "    </tr>\n",
       "    <tr>\n",
       "      <th>BHR</th>\n",
       "      <th>2009</th>\n",
       "      <td>39343.225490</td>\n",
       "      <td>126.360000</td>\n",
       "      <td>70.099998</td>\n",
       "      <td>45.299999</td>\n",
       "      <td>2.571496e+08</td>\n",
       "      <td>0</td>\n",
       "    </tr>\n",
       "    <tr>\n",
       "      <th>BHS</th>\n",
       "      <th>2009</th>\n",
       "      <td>22196.819494</td>\n",
       "      <td>104.240000</td>\n",
       "      <td>74.000000</td>\n",
       "      <td>56.099998</td>\n",
       "      <td>6.639600e+08</td>\n",
       "      <td>0</td>\n",
       "    </tr>\n",
       "    <tr>\n",
       "      <th>BIH</th>\n",
       "      <th>2009</th>\n",
       "      <td>8523.644754</td>\n",
       "      <td>117.010000</td>\n",
       "      <td>44.599998</td>\n",
       "      <td>32.099998</td>\n",
       "      <td>1.385110e+08</td>\n",
       "      <td>1</td>\n",
       "    </tr>\n",
       "    <tr>\n",
       "      <th>BLR</th>\n",
       "      <th>2009</th>\n",
       "      <td>14082.538284</td>\n",
       "      <td>118.980000</td>\n",
       "      <td>54.700001</td>\n",
       "      <td>37.099998</td>\n",
       "      <td>1.876500e+09</td>\n",
       "      <td>0</td>\n",
       "    </tr>\n",
       "    <tr>\n",
       "      <th>BLZ</th>\n",
       "      <th>2009</th>\n",
       "      <td>7559.677016</td>\n",
       "      <td>92.690000</td>\n",
       "      <td>64.900002</td>\n",
       "      <td>53.500000</td>\n",
       "      <td>1.088401e+08</td>\n",
       "      <td>0</td>\n",
       "    </tr>\n",
       "    <tr>\n",
       "      <th>BOL</th>\n",
       "      <th>2009</th>\n",
       "      <td>5108.846894</td>\n",
       "      <td>120.470000</td>\n",
       "      <td>72.000000</td>\n",
       "      <td>54.099998</td>\n",
       "      <td>4.230400e+08</td>\n",
       "      <td>0</td>\n",
       "    </tr>\n",
       "    <tr>\n",
       "      <th>BRA</th>\n",
       "      <th>2009</th>\n",
       "      <td>13091.271235</td>\n",
       "      <td>116.850000</td>\n",
       "      <td>69.800003</td>\n",
       "      <td>63.299999</td>\n",
       "      <td>3.148093e+10</td>\n",
       "      <td>0</td>\n",
       "    </tr>\n",
       "    <tr>\n",
       "      <th>BRB</th>\n",
       "      <th>2009</th>\n",
       "      <td>14872.864480</td>\n",
       "      <td>99.300000</td>\n",
       "      <td>71.199997</td>\n",
       "      <td>56.299999</td>\n",
       "      <td>4.581556e+08</td>\n",
       "      <td>0</td>\n",
       "    </tr>\n",
       "    <tr>\n",
       "      <th>BRN</th>\n",
       "      <th>2009</th>\n",
       "      <td>68962.855214</td>\n",
       "      <td>132.310000</td>\n",
       "      <td>65.199997</td>\n",
       "      <td>45.099998</td>\n",
       "      <td>3.255868e+08</td>\n",
       "      <td>0</td>\n",
       "    </tr>\n",
       "    <tr>\n",
       "      <th>BTN</th>\n",
       "      <th>2009</th>\n",
       "      <td>5717.165737</td>\n",
       "      <td>89.220000</td>\n",
       "      <td>71.099998</td>\n",
       "      <td>48.299999</td>\n",
       "      <td>1.829971e+07</td>\n",
       "      <td>1</td>\n",
       "    </tr>\n",
       "    <tr>\n",
       "      <th>BWA</th>\n",
       "      <th>2009</th>\n",
       "      <td>11934.060886</td>\n",
       "      <td>112.690000</td>\n",
       "      <td>76.400002</td>\n",
       "      <td>59.599998</td>\n",
       "      <td>1.288407e+08</td>\n",
       "      <td>0</td>\n",
       "    </tr>\n",
       "    <tr>\n",
       "      <th>CAF</th>\n",
       "      <th>2009</th>\n",
       "      <td>844.202716</td>\n",
       "      <td>112.980000</td>\n",
       "      <td>78.599998</td>\n",
       "      <td>62.900002</td>\n",
       "      <td>4.228000e+07</td>\n",
       "      <td>1</td>\n",
       "    </tr>\n",
       "    <tr>\n",
       "      <th>CAN</th>\n",
       "      <th>2009</th>\n",
       "      <td>38709.050077</td>\n",
       "      <td>107.490000</td>\n",
       "      <td>66.800003</td>\n",
       "      <td>65.599998</td>\n",
       "      <td>2.380417e+10</td>\n",
       "      <td>0</td>\n",
       "    </tr>\n",
       "    <tr>\n",
       "      <th>CEB</th>\n",
       "      <th>2009</th>\n",
       "      <td>19470.267208</td>\n",
       "      <td>101.152865</td>\n",
       "      <td>55.529394</td>\n",
       "      <td>32.683995</td>\n",
       "      <td>3.146105e+10</td>\n",
       "      <td>0</td>\n",
       "    </tr>\n",
       "    <tr>\n",
       "      <th>CHE</th>\n",
       "      <th>2009</th>\n",
       "      <td>49919.243232</td>\n",
       "      <td>104.830000</td>\n",
       "      <td>68.300003</td>\n",
       "      <td>67.300003</td>\n",
       "      <td>4.765857e+10</td>\n",
       "      <td>0</td>\n",
       "    </tr>\n",
       "    <tr>\n",
       "      <th>...</th>\n",
       "      <th>...</th>\n",
       "      <td>...</td>\n",
       "      <td>...</td>\n",
       "      <td>...</td>\n",
       "      <td>...</td>\n",
       "      <td>...</td>\n",
       "      <td>...</td>\n",
       "    </tr>\n",
       "    <tr>\n",
       "      <th>SWZ</th>\n",
       "      <th>2013</th>\n",
       "      <td>8095.188507</td>\n",
       "      <td>112.480000</td>\n",
       "      <td>57.400002</td>\n",
       "      <td>44.700001</td>\n",
       "      <td>2.944230e+07</td>\n",
       "      <td>0</td>\n",
       "    </tr>\n",
       "    <tr>\n",
       "      <th>TCD</th>\n",
       "      <th>2013</th>\n",
       "      <td>2071.628089</td>\n",
       "      <td>120.130000</td>\n",
       "      <td>71.599998</td>\n",
       "      <td>56.400002</td>\n",
       "      <td>5.384000e+08</td>\n",
       "      <td>1</td>\n",
       "    </tr>\n",
       "    <tr>\n",
       "      <th>TGO</th>\n",
       "      <th>2013</th>\n",
       "      <td>1368.067384</td>\n",
       "      <td>124.590000</td>\n",
       "      <td>81.000000</td>\n",
       "      <td>65.900002</td>\n",
       "      <td>1.957546e+08</td>\n",
       "      <td>0</td>\n",
       "    </tr>\n",
       "    <tr>\n",
       "      <th>THA</th>\n",
       "      <th>2013</th>\n",
       "      <td>15438.279833</td>\n",
       "      <td>128.490000</td>\n",
       "      <td>72.300003</td>\n",
       "      <td>48.099998</td>\n",
       "      <td>1.582213e+10</td>\n",
       "      <td>0</td>\n",
       "    </tr>\n",
       "    <tr>\n",
       "      <th>TJK</th>\n",
       "      <th>2013</th>\n",
       "      <td>2541.908260</td>\n",
       "      <td>155.730000</td>\n",
       "      <td>67.900002</td>\n",
       "      <td>47.900002</td>\n",
       "      <td>-5.416650e+07</td>\n",
       "      <td>0</td>\n",
       "    </tr>\n",
       "    <tr>\n",
       "      <th>TKM</th>\n",
       "      <th>2013</th>\n",
       "      <td>14003.954347</td>\n",
       "      <td>124.410000</td>\n",
       "      <td>61.500000</td>\n",
       "      <td>45.200001</td>\n",
       "      <td>3.076000e+09</td>\n",
       "      <td>0</td>\n",
       "    </tr>\n",
       "    <tr>\n",
       "      <th>TMP</th>\n",
       "      <th>2013</th>\n",
       "      <td>2106.966198</td>\n",
       "      <td>120.920000</td>\n",
       "      <td>37.900002</td>\n",
       "      <td>14.600000</td>\n",
       "      <td>5.585711e+07</td>\n",
       "      <td>0</td>\n",
       "    </tr>\n",
       "    <tr>\n",
       "      <th>TON</th>\n",
       "      <th>2013</th>\n",
       "      <td>5049.745457</td>\n",
       "      <td>132.320000</td>\n",
       "      <td>63.900002</td>\n",
       "      <td>39.000000</td>\n",
       "      <td>6.666166e+06</td>\n",
       "      <td>0</td>\n",
       "    </tr>\n",
       "    <tr>\n",
       "      <th>TTO</th>\n",
       "      <th>2013</th>\n",
       "      <td>31396.869581</td>\n",
       "      <td>96.400000</td>\n",
       "      <td>64.099998</td>\n",
       "      <td>49.299999</td>\n",
       "      <td>1.994318e+09</td>\n",
       "      <td>0</td>\n",
       "    </tr>\n",
       "    <tr>\n",
       "      <th>TUN</th>\n",
       "      <th>2013</th>\n",
       "      <td>11086.301299</td>\n",
       "      <td>118.840000</td>\n",
       "      <td>47.599998</td>\n",
       "      <td>31.500000</td>\n",
       "      <td>1.058623e+09</td>\n",
       "      <td>0</td>\n",
       "    </tr>\n",
       "    <tr>\n",
       "      <th>TUR</th>\n",
       "      <th>2013</th>\n",
       "      <td>18788.698239</td>\n",
       "      <td>129.780000</td>\n",
       "      <td>49.400002</td>\n",
       "      <td>39.500000</td>\n",
       "      <td>1.245700e+10</td>\n",
       "      <td>0</td>\n",
       "    </tr>\n",
       "    <tr>\n",
       "      <th>TZA</th>\n",
       "      <th>2013</th>\n",
       "      <td>2413.331041</td>\n",
       "      <td>154.270000</td>\n",
       "      <td>89.099998</td>\n",
       "      <td>80.500000</td>\n",
       "      <td>2.087261e+09</td>\n",
       "      <td>0</td>\n",
       "    </tr>\n",
       "    <tr>\n",
       "      <th>UGA</th>\n",
       "      <th>2013</th>\n",
       "      <td>1720.280037</td>\n",
       "      <td>112.520000</td>\n",
       "      <td>77.500000</td>\n",
       "      <td>59.200001</td>\n",
       "      <td>1.096000e+09</td>\n",
       "      <td>0</td>\n",
       "    </tr>\n",
       "    <tr>\n",
       "      <th>UKR</th>\n",
       "      <th>2013</th>\n",
       "      <td>8614.080338</td>\n",
       "      <td>138.360000</td>\n",
       "      <td>59.400002</td>\n",
       "      <td>41.500000</td>\n",
       "      <td>4.509000e+09</td>\n",
       "      <td>0</td>\n",
       "    </tr>\n",
       "    <tr>\n",
       "      <th>UMC</th>\n",
       "      <th>2013</th>\n",
       "      <td>13590.016524</td>\n",
       "      <td>128.778672</td>\n",
       "      <td>67.088435</td>\n",
       "      <td>51.241106</td>\n",
       "      <td>5.428038e+11</td>\n",
       "      <td>0</td>\n",
       "    </tr>\n",
       "    <tr>\n",
       "      <th>URY</th>\n",
       "      <th>2013</th>\n",
       "      <td>19955.556297</td>\n",
       "      <td>130.060000</td>\n",
       "      <td>65.699997</td>\n",
       "      <td>55.599998</td>\n",
       "      <td>3.040152e+09</td>\n",
       "      <td>0</td>\n",
       "    </tr>\n",
       "    <tr>\n",
       "      <th>USA</th>\n",
       "      <th>2013</th>\n",
       "      <td>52980.043626</td>\n",
       "      <td>113.230000</td>\n",
       "      <td>62.500000</td>\n",
       "      <td>50.700001</td>\n",
       "      <td>2.871620e+11</td>\n",
       "      <td>0</td>\n",
       "    </tr>\n",
       "    <tr>\n",
       "      <th>UZB</th>\n",
       "      <th>2013</th>\n",
       "      <td>5167.822300</td>\n",
       "      <td>163.280000</td>\n",
       "      <td>61.599998</td>\n",
       "      <td>45.200001</td>\n",
       "      <td>6.860360e+08</td>\n",
       "      <td>0</td>\n",
       "    </tr>\n",
       "    <tr>\n",
       "      <th>VCT</th>\n",
       "      <th>2013</th>\n",
       "      <td>10513.406976</td>\n",
       "      <td>105.260000</td>\n",
       "      <td>67.000000</td>\n",
       "      <td>52.299999</td>\n",
       "      <td>1.267350e+08</td>\n",
       "      <td>1</td>\n",
       "    </tr>\n",
       "    <tr>\n",
       "      <th>VEN</th>\n",
       "      <th>2013</th>\n",
       "      <td>18275.516581</td>\n",
       "      <td>131.200000</td>\n",
       "      <td>65.099998</td>\n",
       "      <td>42.799999</td>\n",
       "      <td>6.927000e+09</td>\n",
       "      <td>0</td>\n",
       "    </tr>\n",
       "    <tr>\n",
       "      <th>VNM</th>\n",
       "      <th>2013</th>\n",
       "      <td>5294.358927</td>\n",
       "      <td>133.660000</td>\n",
       "      <td>77.500000</td>\n",
       "      <td>63.000000</td>\n",
       "      <td>8.900000e+09</td>\n",
       "      <td>0</td>\n",
       "    </tr>\n",
       "    <tr>\n",
       "      <th>VUT</th>\n",
       "      <th>2013</th>\n",
       "      <td>2985.642027</td>\n",
       "      <td>137.960000</td>\n",
       "      <td>70.800003</td>\n",
       "      <td>56.599998</td>\n",
       "      <td>5.937921e+07</td>\n",
       "      <td>0</td>\n",
       "    </tr>\n",
       "    <tr>\n",
       "      <th>WBG</th>\n",
       "      <th>2013</th>\n",
       "      <td>4646.257632</td>\n",
       "      <td>93.430000</td>\n",
       "      <td>41.200001</td>\n",
       "      <td>26.000000</td>\n",
       "      <td>1.895602e+08</td>\n",
       "      <td>1</td>\n",
       "    </tr>\n",
       "    <tr>\n",
       "      <th>WLD</th>\n",
       "      <th>2013</th>\n",
       "      <td>14426.899266</td>\n",
       "      <td>122.998660</td>\n",
       "      <td>63.459241</td>\n",
       "      <td>47.329865</td>\n",
       "      <td>1.955502e+12</td>\n",
       "      <td>0</td>\n",
       "    </tr>\n",
       "    <tr>\n",
       "      <th>WSM</th>\n",
       "      <th>2013</th>\n",
       "      <td>5681.443234</td>\n",
       "      <td>110.270000</td>\n",
       "      <td>41.500000</td>\n",
       "      <td>29.299999</td>\n",
       "      <td>2.417952e+07</td>\n",
       "      <td>0</td>\n",
       "    </tr>\n",
       "    <tr>\n",
       "      <th>YEM</th>\n",
       "      <th>2013</th>\n",
       "      <td>3784.637642</td>\n",
       "      <td>138.370000</td>\n",
       "      <td>48.799999</td>\n",
       "      <td>37.500000</td>\n",
       "      <td>-1.335709e+08</td>\n",
       "      <td>0</td>\n",
       "    </tr>\n",
       "    <tr>\n",
       "      <th>ZAF</th>\n",
       "      <th>2013</th>\n",
       "      <td>12866.677321</td>\n",
       "      <td>122.250000</td>\n",
       "      <td>52.099998</td>\n",
       "      <td>26.299999</td>\n",
       "      <td>8.232519e+09</td>\n",
       "      <td>0</td>\n",
       "    </tr>\n",
       "    <tr>\n",
       "      <th>ZAR</th>\n",
       "      <th>2013</th>\n",
       "      <td>695.696847</td>\n",
       "      <td>117.100000</td>\n",
       "      <td>71.900002</td>\n",
       "      <td>45.299999</td>\n",
       "      <td>-4.006633e+08</td>\n",
       "      <td>1</td>\n",
       "    </tr>\n",
       "    <tr>\n",
       "      <th>ZMB</th>\n",
       "      <th>2013</th>\n",
       "      <td>3743.237464</td>\n",
       "      <td>184.370000</td>\n",
       "      <td>79.300003</td>\n",
       "      <td>66.900002</td>\n",
       "      <td>2.099800e+09</td>\n",
       "      <td>0</td>\n",
       "    </tr>\n",
       "    <tr>\n",
       "      <th>ZWE</th>\n",
       "      <th>2013</th>\n",
       "      <td>1740.008331</td>\n",
       "      <td>97.960000</td>\n",
       "      <td>86.500000</td>\n",
       "      <td>79.500000</td>\n",
       "      <td>4.000000e+08</td>\n",
       "      <td>0</td>\n",
       "    </tr>\n",
       "  </tbody>\n",
       "</table>\n",
       "<p>1020 rows × 6 columns</p>\n",
       "</div>"
      ],
      "text/plain": [
       "                       gdp_ppp  food_production_dom  \\\n",
       "countrycode year                                      \n",
       "AFG         2009   1525.517054           116.510000   \n",
       "ALB         2009   9345.097500           112.110000   \n",
       "ARB         2009  13728.155608           110.015612   \n",
       "ARE         2009  59100.380538           100.490000   \n",
       "ARM         2009   6158.301452           119.640000   \n",
       "AUS         2009  40205.026652           104.900000   \n",
       "AUT         2009  40633.384215           104.030000   \n",
       "AZE         2009  14900.508664           122.630000   \n",
       "BDI         2009    683.468685           112.460000   \n",
       "BEL         2009  37641.500342            95.410000   \n",
       "BEN         2009   1716.207268           118.780000   \n",
       "BFA         2009   1308.546046           105.710000   \n",
       "BGD         2009   2273.164201           121.620000   \n",
       "MKD         2009  11308.993118           114.110000   \n",
       "BGR         2009  14875.603263           101.050000   \n",
       "BHR         2009  39343.225490           126.360000   \n",
       "BHS         2009  22196.819494           104.240000   \n",
       "BIH         2009   8523.644754           117.010000   \n",
       "BLR         2009  14082.538284           118.980000   \n",
       "BLZ         2009   7559.677016            92.690000   \n",
       "BOL         2009   5108.846894           120.470000   \n",
       "BRA         2009  13091.271235           116.850000   \n",
       "BRB         2009  14872.864480            99.300000   \n",
       "BRN         2009  68962.855214           132.310000   \n",
       "BTN         2009   5717.165737            89.220000   \n",
       "BWA         2009  11934.060886           112.690000   \n",
       "CAF         2009    844.202716           112.980000   \n",
       "CAN         2009  38709.050077           107.490000   \n",
       "CEB         2009  19470.267208           101.152865   \n",
       "CHE         2009  49919.243232           104.830000   \n",
       "...                        ...                  ...   \n",
       "SWZ         2013   8095.188507           112.480000   \n",
       "TCD         2013   2071.628089           120.130000   \n",
       "TGO         2013   1368.067384           124.590000   \n",
       "THA         2013  15438.279833           128.490000   \n",
       "TJK         2013   2541.908260           155.730000   \n",
       "TKM         2013  14003.954347           124.410000   \n",
       "TMP         2013   2106.966198           120.920000   \n",
       "TON         2013   5049.745457           132.320000   \n",
       "TTO         2013  31396.869581            96.400000   \n",
       "TUN         2013  11086.301299           118.840000   \n",
       "TUR         2013  18788.698239           129.780000   \n",
       "TZA         2013   2413.331041           154.270000   \n",
       "UGA         2013   1720.280037           112.520000   \n",
       "UKR         2013   8614.080338           138.360000   \n",
       "UMC         2013  13590.016524           128.778672   \n",
       "URY         2013  19955.556297           130.060000   \n",
       "USA         2013  52980.043626           113.230000   \n",
       "UZB         2013   5167.822300           163.280000   \n",
       "VCT         2013  10513.406976           105.260000   \n",
       "VEN         2013  18275.516581           131.200000   \n",
       "VNM         2013   5294.358927           133.660000   \n",
       "VUT         2013   2985.642027           137.960000   \n",
       "WBG         2013   4646.257632            93.430000   \n",
       "WLD         2013  14426.899266           122.998660   \n",
       "WSM         2013   5681.443234           110.270000   \n",
       "YEM         2013   3784.637642           138.370000   \n",
       "ZAF         2013  12866.677321           122.250000   \n",
       "ZAR         2013    695.696847           117.100000   \n",
       "ZMB         2013   3743.237464           184.370000   \n",
       "ZWE         2013   1740.008331            97.960000   \n",
       "\n",
       "                  labor_force_participation  youth_unemployment  \\\n",
       "countrycode year                                                  \n",
       "AFG         2009                  48.000000           37.599998   \n",
       "ALB         2009                  55.200001           33.900002   \n",
       "ARB         2009                  49.311070           32.852058   \n",
       "ARE         2009                  77.500000           53.599998   \n",
       "ARM         2009                  59.200001           33.599998   \n",
       "AUS         2009                  65.599998           69.300003   \n",
       "AUT         2009                  60.799999           60.599998   \n",
       "AZE         2009                  64.800003           35.200001   \n",
       "BDI         2009                  82.199997           65.300003   \n",
       "BEL         2009                  53.299999           32.400002   \n",
       "BEN         2009                  72.699997           57.200001   \n",
       "BFA         2009                  83.599998           77.199997   \n",
       "BGD         2009                  70.699997           59.400002   \n",
       "MKD         2009                  55.400002           34.799999   \n",
       "BGR         2009                  54.299999           32.900002   \n",
       "BHR         2009                  70.099998           45.299999   \n",
       "BHS         2009                  74.000000           56.099998   \n",
       "BIH         2009                  44.599998           32.099998   \n",
       "BLR         2009                  54.700001           37.099998   \n",
       "BLZ         2009                  64.900002           53.500000   \n",
       "BOL         2009                  72.000000           54.099998   \n",
       "BRA         2009                  69.800003           63.299999   \n",
       "BRB         2009                  71.199997           56.299999   \n",
       "BRN         2009                  65.199997           45.099998   \n",
       "BTN         2009                  71.099998           48.299999   \n",
       "BWA         2009                  76.400002           59.599998   \n",
       "CAF         2009                  78.599998           62.900002   \n",
       "CAN         2009                  66.800003           65.599998   \n",
       "CEB         2009                  55.529394           32.683995   \n",
       "CHE         2009                  68.300003           67.300003   \n",
       "...                                     ...                 ...   \n",
       "SWZ         2013                  57.400002           44.700001   \n",
       "TCD         2013                  71.599998           56.400002   \n",
       "TGO         2013                  81.000000           65.900002   \n",
       "THA         2013                  72.300003           48.099998   \n",
       "TJK         2013                  67.900002           47.900002   \n",
       "TKM         2013                  61.500000           45.200001   \n",
       "TMP         2013                  37.900002           14.600000   \n",
       "TON         2013                  63.900002           39.000000   \n",
       "TTO         2013                  64.099998           49.299999   \n",
       "TUN         2013                  47.599998           31.500000   \n",
       "TUR         2013                  49.400002           39.500000   \n",
       "TZA         2013                  89.099998           80.500000   \n",
       "UGA         2013                  77.500000           59.200001   \n",
       "UKR         2013                  59.400002           41.500000   \n",
       "UMC         2013                  67.088435           51.241106   \n",
       "URY         2013                  65.699997           55.599998   \n",
       "USA         2013                  62.500000           50.700001   \n",
       "UZB         2013                  61.599998           45.200001   \n",
       "VCT         2013                  67.000000           52.299999   \n",
       "VEN         2013                  65.099998           42.799999   \n",
       "VNM         2013                  77.500000           63.000000   \n",
       "VUT         2013                  70.800003           56.599998   \n",
       "WBG         2013                  41.200001           26.000000   \n",
       "WLD         2013                  63.459241           47.329865   \n",
       "WSM         2013                  41.500000           29.299999   \n",
       "YEM         2013                  48.799999           37.500000   \n",
       "ZAF         2013                  52.099998           26.299999   \n",
       "ZAR         2013                  71.900002           45.299999   \n",
       "ZMB         2013                  79.300003           66.900002   \n",
       "ZWE         2013                  86.500000           79.500000   \n",
       "\n",
       "                  foreign_investment  zscores  \n",
       "countrycode year                               \n",
       "AFG         2009        1.975127e+08        1  \n",
       "ALB         2009        1.343091e+09        1  \n",
       "ARB         2009        7.952285e+10        1  \n",
       "ARE         2009        4.002700e+09        0  \n",
       "ARM         2009        7.600407e+08        1  \n",
       "AUS         2009        2.868327e+10        0  \n",
       "AUT         2009        1.429321e+10        0  \n",
       "AZE         2009        2.900030e+09        0  \n",
       "BDI         2009        3.484045e+05        1  \n",
       "BEL         2009        8.652798e+10        0  \n",
       "BEN         2009       -1.873201e+07        0  \n",
       "BFA         2009        5.642688e+07        0  \n",
       "BGD         2009        9.012866e+08        0  \n",
       "MKD         2009        2.595303e+08        1  \n",
       "BGR         2009        3.896665e+09        0  \n",
       "BHR         2009        2.571496e+08        0  \n",
       "BHS         2009        6.639600e+08        0  \n",
       "BIH         2009        1.385110e+08        1  \n",
       "BLR         2009        1.876500e+09        0  \n",
       "BLZ         2009        1.088401e+08        0  \n",
       "BOL         2009        4.230400e+08        0  \n",
       "BRA         2009        3.148093e+10        0  \n",
       "BRB         2009        4.581556e+08        0  \n",
       "BRN         2009        3.255868e+08        0  \n",
       "BTN         2009        1.829971e+07        1  \n",
       "BWA         2009        1.288407e+08        0  \n",
       "CAF         2009        4.228000e+07        1  \n",
       "CAN         2009        2.380417e+10        0  \n",
       "CEB         2009        3.146105e+10        0  \n",
       "CHE         2009        4.765857e+10        0  \n",
       "...                              ...      ...  \n",
       "SWZ         2013        2.944230e+07        0  \n",
       "TCD         2013        5.384000e+08        1  \n",
       "TGO         2013        1.957546e+08        0  \n",
       "THA         2013        1.582213e+10        0  \n",
       "TJK         2013       -5.416650e+07        0  \n",
       "TKM         2013        3.076000e+09        0  \n",
       "TMP         2013        5.585711e+07        0  \n",
       "TON         2013        6.666166e+06        0  \n",
       "TTO         2013        1.994318e+09        0  \n",
       "TUN         2013        1.058623e+09        0  \n",
       "TUR         2013        1.245700e+10        0  \n",
       "TZA         2013        2.087261e+09        0  \n",
       "UGA         2013        1.096000e+09        0  \n",
       "UKR         2013        4.509000e+09        0  \n",
       "UMC         2013        5.428038e+11        0  \n",
       "URY         2013        3.040152e+09        0  \n",
       "USA         2013        2.871620e+11        0  \n",
       "UZB         2013        6.860360e+08        0  \n",
       "VCT         2013        1.267350e+08        1  \n",
       "VEN         2013        6.927000e+09        0  \n",
       "VNM         2013        8.900000e+09        0  \n",
       "VUT         2013        5.937921e+07        0  \n",
       "WBG         2013        1.895602e+08        1  \n",
       "WLD         2013        1.955502e+12        0  \n",
       "WSM         2013        2.417952e+07        0  \n",
       "YEM         2013       -1.335709e+08        0  \n",
       "ZAF         2013        8.232519e+09        0  \n",
       "ZAR         2013       -4.006633e+08        1  \n",
       "ZMB         2013        2.099800e+09        0  \n",
       "ZWE         2013        4.000000e+08        0  \n",
       "\n",
       "[1020 rows x 6 columns]"
      ]
     },
     "execution_count": 56,
     "metadata": {},
     "output_type": "execute_result"
    }
   ],
   "source": [
    "full_data"
   ]
  },
  {
   "cell_type": "code",
   "execution_count": 57,
   "metadata": {
    "collapsed": false
   },
   "outputs": [],
   "source": [
    "#for col in x_cols:\n",
    "   #full_data[col] = (full_data[col] - full_data[col].mean())/full_data[col].std(ddof=0)\n"
   ]
  },
  {
   "cell_type": "code",
   "execution_count": 58,
   "metadata": {
    "collapsed": true
   },
   "outputs": [],
   "source": [
    "def getScoreValues(X_train, \n",
    "                   X_test, \n",
    "                   y_train, \n",
    "                   y_test, \n",
    "                   model=KNeighborsClassifier(n_neighbors=6), \n",
    "                   verbose=True, \n",
    "                   get_features=True,\n",
    "                   get_prediction=False\n",
    "                  ):\n",
    "    y_test_index=y_test.index\n",
    "    \n",
    "    model = model\n",
    "    model.fit(X_train, y_train)\n",
    "    y_pred = model.predict(X_test)\n",
    "    \n",
    "    accuracy_score_value = accuracy_score(y_test, y_pred)\n",
    "    precision_score_value = precision_score(y_test, y_pred)\n",
    "    recall_score_value = recall_score(y_test, y_pred)\n",
    "    f1_score_value = f1_score(y_test, y_pred)  \n",
    "    roc_auc_value = roc_auc_score(y_test,y_pred)\n",
    "    \n",
    "    feature_importances = None\n",
    "    if get_features:\n",
    "        try:\n",
    "            feature_importances = model.feature_importances_\n",
    "            #print(feature_importances)\n",
    "        except AttributeError:\n",
    "            pass\n",
    "    \n",
    "    if verbose:\n",
    "        #print(pd.concat([y_test,pd.Series(y_pred, index=y_test.index)], axis = 1))\n",
    "        print('Accuracy: {}\\nPrecision: {}\\nRecall: {}\\nf1: {}\\nROC AUC: ()'.format(accuracy_score_value, \\\n",
    "                                                                       precision_score_value, \\\n",
    "                                                                       recall_score_value, \\\n",
    "                                                                       f1_score_value, \\\n",
    "                                                                       roc_auc_value))\n",
    "    elif get_prediction:\n",
    "        y_pred=pd.Series(y_pred, index=y_test_index)\n",
    "        return y_pred\n",
    "        \n",
    "    else:\n",
    "        return accuracy_score_value, \\\n",
    "               precision_score_value, \\\n",
    "               recall_score_value, \\\n",
    "               f1_score_value, \\\n",
    "               roc_auc_value, \\\n",
    "               feature_importances"
   ]
  },
  {
   "cell_type": "code",
   "execution_count": 59,
   "metadata": {
    "collapsed": true
   },
   "outputs": [],
   "source": [
    "X = full_data[x_cols]\n",
    "y = full_data['zscores']\n",
    "\n",
    "\n",
    "X_train, X_test, y_train, y_test = train_test_split(X, y, test_size = .30, random_state=4444)"
   ]
  },
  {
   "cell_type": "code",
   "execution_count": 60,
   "metadata": {
    "collapsed": false
   },
   "outputs": [],
   "source": [
    "model = RandomForestClassifier()"
   ]
  },
  {
   "cell_type": "code",
   "execution_count": 61,
   "metadata": {
    "collapsed": false
   },
   "outputs": [],
   "source": [
    "y_pred = getScoreValues(X_train, X_test, y_train, y_test, RandomForestClassifier(n_estimators=30),verbose=False, get_features=False, get_prediction=True)"
   ]
  },
  {
   "cell_type": "code",
   "execution_count": 62,
   "metadata": {
    "collapsed": true
   },
   "outputs": [],
   "source": [
    "full_y_pred=pd.Series(y_pred, index=y_test.index)"
   ]
  },
  {
   "cell_type": "code",
   "execution_count": 63,
   "metadata": {
    "collapsed": false
   },
   "outputs": [],
   "source": [
    "full_y_pred.to_csv('bryan_2013_prediction.csv')"
   ]
  },
  {
   "cell_type": "markdown",
   "metadata": {},
   "source": [
    "# Decision Tree"
   ]
  },
  {
   "cell_type": "code",
   "execution_count": 64,
   "metadata": {
    "collapsed": false
   },
   "outputs": [
    {
     "name": "stdout",
     "output_type": "stream",
     "text": [
      "Accuracy: 0.9084967320261438\n",
      "Precision: 0.7647058823529411\n",
      "Recall: 0.7090909090909091\n",
      "f1: 0.7358490566037736\n",
      "ROC AUC: ()\n"
     ]
    }
   ],
   "source": [
    "getScoreValues(X_train, X_test, y_train, y_test, DecisionTreeClassifier())"
   ]
  },
  {
   "cell_type": "markdown",
   "metadata": {},
   "source": [
    "# Bernoulli"
   ]
  },
  {
   "cell_type": "code",
   "execution_count": 65,
   "metadata": {
    "collapsed": false
   },
   "outputs": [
    {
     "name": "stdout",
     "output_type": "stream",
     "text": [
      "Accuracy: 0.8202614379084967\n",
      "Precision: 0.0\n",
      "Recall: 0.0\n",
      "f1: 0.0\n",
      "ROC AUC: ()\n"
     ]
    },
    {
     "name": "stderr",
     "output_type": "stream",
     "text": [
      "/Users/bryanbumgardner/anaconda/lib/python3.5/site-packages/sklearn/metrics/classification.py:1074: UndefinedMetricWarning: Precision is ill-defined and being set to 0.0 due to no predicted samples.\n",
      "  'precision', 'predicted', average, warn_for)\n",
      "/Users/bryanbumgardner/anaconda/lib/python3.5/site-packages/sklearn/metrics/classification.py:1074: UndefinedMetricWarning: F-score is ill-defined and being set to 0.0 due to no predicted samples.\n",
      "  'precision', 'predicted', average, warn_for)\n"
     ]
    }
   ],
   "source": [
    "getScoreValues(X_train, X_test, y_train, y_test, BernoulliNB())"
   ]
  },
  {
   "cell_type": "markdown",
   "metadata": {},
   "source": [
    "# Gaussian"
   ]
  },
  {
   "cell_type": "code",
   "execution_count": 66,
   "metadata": {
    "collapsed": false
   },
   "outputs": [
    {
     "name": "stdout",
     "output_type": "stream",
     "text": [
      "Accuracy: 0.3300653594771242\n",
      "Precision: 0.20238095238095238\n",
      "Recall: 0.9272727272727272\n",
      "f1: 0.33224755700325737\n",
      "ROC AUC: ()\n"
     ]
    }
   ],
   "source": [
    "getScoreValues(X_train, X_test, y_train, y_test, GaussianNB())"
   ]
  },
  {
   "cell_type": "markdown",
   "metadata": {},
   "source": [
    "# SVC (broken?)"
   ]
  },
  {
   "cell_type": "code",
   "execution_count": 67,
   "metadata": {
    "collapsed": false
   },
   "outputs": [
    {
     "name": "stdout",
     "output_type": "stream",
     "text": [
      "Accuracy: 0.8202614379084967\n",
      "Precision: 0.0\n",
      "Recall: 0.0\n",
      "f1: 0.0\n",
      "ROC AUC: ()\n"
     ]
    },
    {
     "name": "stderr",
     "output_type": "stream",
     "text": [
      "/Users/bryanbumgardner/anaconda/lib/python3.5/site-packages/sklearn/metrics/classification.py:1074: UndefinedMetricWarning: Precision is ill-defined and being set to 0.0 due to no predicted samples.\n",
      "  'precision', 'predicted', average, warn_for)\n",
      "/Users/bryanbumgardner/anaconda/lib/python3.5/site-packages/sklearn/metrics/classification.py:1074: UndefinedMetricWarning: F-score is ill-defined and being set to 0.0 due to no predicted samples.\n",
      "  'precision', 'predicted', average, warn_for)\n"
     ]
    }
   ],
   "source": [
    "getScoreValues(X_train, X_test, y_train, y_test, model=SVC())"
   ]
  },
  {
   "cell_type": "markdown",
   "metadata": {},
   "source": [
    "# Random Forest"
   ]
  },
  {
   "cell_type": "code",
   "execution_count": 68,
   "metadata": {
    "collapsed": false
   },
   "outputs": [
    {
     "name": "stdout",
     "output_type": "stream",
     "text": [
      "Accuracy: 0.9248366013071896\n",
      "Precision: 0.9\n",
      "Recall: 0.6545454545454545\n",
      "f1: 0.7578947368421052\n",
      "ROC AUC: ()\n"
     ]
    }
   ],
   "source": [
    "getScoreValues(X_train, X_test, y_train, y_test, model=RandomForestClassifier())"
   ]
  },
  {
   "cell_type": "markdown",
   "metadata": {},
   "source": [
    "# ROC curve time"
   ]
  },
  {
   "cell_type": "code",
   "execution_count": 69,
   "metadata": {
    "collapsed": false
   },
   "outputs": [],
   "source": [
    "def getROCcurve(X_train, X_test, y_train, y_test, model=KNeighborsClassifier(n_neighbors=6)):\n",
    "    model = model\n",
    "    model.fit(X_train, y_train)\n",
    "    y_scores = model.predict_proba(X_test)[:,1]\n",
    "    fpr, tpr, thresholds = roc_curve(y_test, y_scores)\n",
    "\n",
    "    auc = roc_auc_score(y_test, y_scores)\n",
    "    print('AUC: {}'.format(auc))\n",
    "    \n",
    "    fig,ax = plt.subplots()\n",
    "    ax.plot(fpr, tpr, label='ROC Curve')\n",
    "\n",
    "    fig.set_size_inches(12, 8, forward=True)\n",
    "    plt.xlabel('FPR')\n",
    "    plt.ylabel('TPR')\n",
    "    plt.title('ROC Curve')\n",
    "    plt.legend(loc='best')"
   ]
  },
  {
   "cell_type": "code",
   "execution_count": 70,
   "metadata": {
    "collapsed": false
   },
   "outputs": [
    {
     "name": "stdout",
     "output_type": "stream",
     "text": [
      "AUC: 0.828649040202825\n"
     ]
    },
    {
     "data": {
      "image/png": "[encoded data removed]",
      "text/plain": [
       "<matplotlib.figure.Figure at 0x10b8eba90>"
      ]
     },
     "metadata": {},
     "output_type": "display_data"
    }
   ],
   "source": [
    "getROCcurve(X_train, X_test, y_train, y_test, model=DecisionTreeClassifier())"
   ]
  },
  {
   "cell_type": "code",
   "execution_count": 71,
   "metadata": {
    "collapsed": false
   },
   "outputs": [
    {
     "name": "stdout",
     "output_type": "stream",
     "text": [
      "AUC: 0.9503802969938429\n"
     ]
    },
    {
     "data": {
      "image/png": "[encoded data removed]",
      "text/plain": [
       "<matplotlib.figure.Figure at 0x10b98e710>"
      ]
     },
     "metadata": {},
     "output_type": "display_data"
    }
   ],
   "source": [
    "getROCcurve(X_train, X_test, y_train, y_test, model=RandomForestClassifier())"
   ]
  },
  {
   "cell_type": "code",
   "execution_count": 72,
   "metadata": {
    "collapsed": true
   },
   "outputs": [],
   "source": [
    "def getScoreValuesByCV(X, y, model=KNeighborsClassifier(n_neighbors=5)):\n",
    "    \n",
    "    accuracy_score_value = np.mean(cross_val_score(model, X, y, scoring='accuracy', cv=5))\n",
    "    precision_score_value = np.mean(cross_val_score(model, X, y, scoring='precision', cv=5))\n",
    "    recall_score_value = np.mean(cross_val_score(model, X, y, scoring='recall', cv=5))\n",
    "    f1_score_value = np.mean(cross_val_score(model, X, y, scoring='f1', cv=5))\n",
    "    roc_auc_value = np.mean(cross_val_score(model, X, y, scoring='roc_auc', cv=5))\n",
    "    #roc_auc_value = 0  \n",
    "        \n",
    "    print('Accuracy: {}\\nPrecision: {}\\nRecall: {}\\nf1: {}\\nROC AUC: {}'.format(accuracy_score_value, \\\n",
    "                                                                   precision_score_value, \\\n",
    "                                                                   recall_score_value, \\\n",
    "                                                                   f1_score_value,\n",
    "                                                                   roc_auc_value))"
   ]
  },
  {
   "cell_type": "code",
   "execution_count": 73,
   "metadata": {
    "collapsed": false
   },
   "outputs": [
    {
     "name": "stdout",
     "output_type": "stream",
     "text": [
      "Accuracy: 0.8245641772268202\n",
      "Precision: 0.45406698564593295\n",
      "Recall: 0.13654188948306595\n",
      "f1: 0.20233866163785302\n",
      "ROC AUC: 0.6090760822576522\n"
     ]
    }
   ],
   "source": [
    "getScoreValuesByCV(X,y)"
   ]
  },
  {
   "cell_type": "code",
   "execution_count": 74,
   "metadata": {
    "collapsed": false
   },
   "outputs": [
    {
     "name": "stdout",
     "output_type": "stream",
     "text": [
      "Accuracy: 0.9313615707006099\n",
      "Precision: 0.9036706349206348\n",
      "Recall: 0.6718360071301247\n",
      "f1: 0.7912154996758359\n",
      "ROC AUC: 0.9628302051658453\n"
     ]
    }
   ],
   "source": [
    "getScoreValuesByCV(X,y, model=RandomForestClassifier())"
   ]
  },
  {
   "cell_type": "code",
   "execution_count": 75,
   "metadata": {
    "collapsed": false
   },
   "outputs": [
    {
     "name": "stdout",
     "output_type": "stream",
     "text": [
      "Accuracy: 0.3137075149656162\n",
      "Precision: 0.18252516439413363\n",
      "Recall: 0.9105169340463458\n",
      "f1: 0.30408551903692527\n",
      "ROC AUC: 0.4968168297434369\n"
     ]
    }
   ],
   "source": [
    "getScoreValuesByCV(X,y, model=GaussianNB())"
   ]
  },
  {
   "cell_type": "code",
   "execution_count": 76,
   "metadata": {
    "collapsed": false
   },
   "outputs": [
    {
     "name": "stdout",
     "output_type": "stream",
     "text": [
      "Accuracy: 0.915689360689608\n",
      "Precision: 0.7226190476190475\n",
      "Recall: 0.7493761140819964\n",
      "f1: 0.7465961557559594\n",
      "ROC AUC: 0.8394764987334649\n"
     ]
    }
   ],
   "source": [
    "getScoreValuesByCV(X,y, model=DecisionTreeClassifier())"
   ]
  },
  {
   "cell_type": "code",
   "execution_count": 77,
   "metadata": {
    "collapsed": false
   },
   "outputs": [
    {
     "name": "stderr",
     "output_type": "stream",
     "text": [
      "/Users/bryanbumgardner/anaconda/lib/python3.5/site-packages/sklearn/metrics/classification.py:1074: UndefinedMetricWarning: Precision is ill-defined and being set to 0.0 due to no predicted samples.\n",
      "  'precision', 'predicted', average, warn_for)\n",
      "/Users/bryanbumgardner/anaconda/lib/python3.5/site-packages/sklearn/metrics/classification.py:1074: UndefinedMetricWarning: Precision is ill-defined and being set to 0.0 due to no predicted samples.\n",
      "  'precision', 'predicted', average, warn_for)\n",
      "/Users/bryanbumgardner/anaconda/lib/python3.5/site-packages/sklearn/metrics/classification.py:1074: UndefinedMetricWarning: Precision is ill-defined and being set to 0.0 due to no predicted samples.\n",
      "  'precision', 'predicted', average, warn_for)\n",
      "/Users/bryanbumgardner/anaconda/lib/python3.5/site-packages/sklearn/metrics/classification.py:1074: UndefinedMetricWarning: Precision is ill-defined and being set to 0.0 due to no predicted samples.\n",
      "  'precision', 'predicted', average, warn_for)\n",
      "/Users/bryanbumgardner/anaconda/lib/python3.5/site-packages/sklearn/metrics/classification.py:1074: UndefinedMetricWarning: Precision is ill-defined and being set to 0.0 due to no predicted samples.\n",
      "  'precision', 'predicted', average, warn_for)\n",
      "/Users/bryanbumgardner/anaconda/lib/python3.5/site-packages/sklearn/metrics/classification.py:1074: UndefinedMetricWarning: F-score is ill-defined and being set to 0.0 due to no predicted samples.\n",
      "  'precision', 'predicted', average, warn_for)\n",
      "/Users/bryanbumgardner/anaconda/lib/python3.5/site-packages/sklearn/metrics/classification.py:1074: UndefinedMetricWarning: F-score is ill-defined and being set to 0.0 due to no predicted samples.\n",
      "  'precision', 'predicted', average, warn_for)\n",
      "/Users/bryanbumgardner/anaconda/lib/python3.5/site-packages/sklearn/metrics/classification.py:1074: UndefinedMetricWarning: F-score is ill-defined and being set to 0.0 due to no predicted samples.\n",
      "  'precision', 'predicted', average, warn_for)\n",
      "/Users/bryanbumgardner/anaconda/lib/python3.5/site-packages/sklearn/metrics/classification.py:1074: UndefinedMetricWarning: F-score is ill-defined and being set to 0.0 due to no predicted samples.\n",
      "  'precision', 'predicted', average, warn_for)\n"
     ]
    },
    {
     "name": "stdout",
     "output_type": "stream",
     "text": [
      "Accuracy: 0.8353005727101606\n",
      "Precision: 0.0\n",
      "Recall: 0.0\n",
      "f1: 0.0\n",
      "ROC AUC: 0.5\n"
     ]
    },
    {
     "name": "stderr",
     "output_type": "stream",
     "text": [
      "/Users/bryanbumgardner/anaconda/lib/python3.5/site-packages/sklearn/metrics/classification.py:1074: UndefinedMetricWarning: F-score is ill-defined and being set to 0.0 due to no predicted samples.\n",
      "  'precision', 'predicted', average, warn_for)\n"
     ]
    }
   ],
   "source": [
    "getScoreValuesByCV(X,y, model=SVC())"
   ]
  },
  {
   "cell_type": "code",
   "execution_count": 78,
   "metadata": {
    "collapsed": false
   },
   "outputs": [],
   "source": [
    "X = full_data[x_cols]\n",
    "y = full_data['zscores']\n",
    "\n",
    "X_train, X_test, y_train, y_test = train_test_split(X, y, test_size = .30, random_state=4444)"
   ]
  },
  {
   "cell_type": "code",
   "execution_count": 79,
   "metadata": {
    "collapsed": false
   },
   "outputs": [
    {
     "data": {
      "text/plain": [
       "array([ 0.,  0.,  0.,  0.,  0.,  1.,  0.,  0.,  1.,  1.,  0.,  0.,  1.,\n",
       "        0.,  0.,  0.,  0.,  0.,  0.,  0.,  0.,  0.,  0.,  0.,  0.,  1.,\n",
       "        0.,  1.,  0.,  0.,  0.,  1.,  0.,  0.,  1.,  0.,  0.,  0.,  0.,\n",
       "        0.,  0.,  0.,  0.,  0.,  0.,  0.,  0.,  0.,  0.,  0.,  0.,  0.,\n",
       "        0.,  0.,  0.,  0.,  1.,  1.,  0.,  0.,  0.,  0.,  0.,  0.,  0.,\n",
       "        0.,  0.,  0.,  0.,  0.,  0.,  1.,  0.,  0.,  0.,  1.,  0.,  0.,\n",
       "        0.,  0.,  0.,  0.,  0.,  0.,  0.,  0.,  0.,  0.,  0.,  1.,  0.,\n",
       "        0.,  0.,  0.,  0.,  0.,  0.,  0.,  0.,  1.,  0.,  0.,  0.,  1.,\n",
       "        0.,  0.,  0.,  1.,  0.,  0.,  0.,  0.,  0.,  0.,  0.,  0.,  0.,\n",
       "        0.,  0.,  0.,  0.,  0.,  0.,  0.,  0.,  1.,  0.,  0.,  0.,  0.,\n",
       "        0.,  0.,  0.,  0.,  1.,  0.,  0.,  0.,  0.,  0.,  0.,  0.,  0.,\n",
       "        0.,  0.,  0.,  0.,  1.,  0.,  1.,  0.,  0.,  0.,  0.,  0.,  0.,\n",
       "        0.,  0.,  1.,  0.,  0.,  0.,  0.,  1.,  0.,  1.,  0.,  0.,  0.,\n",
       "        0.,  0.,  0.,  0.,  0.,  0.,  0.,  0.,  0.,  0.,  0.,  0.,  0.,\n",
       "        0.,  0.,  0.,  0.,  0.,  1.,  0.,  0.,  1.,  0.,  1.,  0.,  1.,\n",
       "        0.,  1.,  0.,  0.,  0.,  0.,  0.,  0.,  0.,  0.,  0.,  0.,  0.,\n",
       "        0.,  0.,  1.,  0.,  0.,  0.,  0.,  0.,  0.,  0.,  0.,  0.,  0.,\n",
       "        0.,  0.,  0.,  0.,  0.,  1.,  0.,  0.,  0.,  0.,  1.,  1.,  0.,\n",
       "        0.,  1.,  0.,  0.,  0.,  0.,  0.,  0.,  0.,  0.,  0.,  0.,  0.,\n",
       "        0.,  0.,  0.,  0.,  1.,  0.,  1.,  1.,  0.,  0.,  0.,  0.,  0.,\n",
       "        1.,  0.,  0.,  0.,  0.,  0.,  0.,  0.,  0.,  0.,  0.,  0.,  0.,\n",
       "        0.,  0.,  0.,  0.,  0.,  0.,  0.,  0.,  0.,  0.,  1.,  0.,  0.,\n",
       "        0.,  1.,  0.,  0.,  0.,  0.,  0.,  0.,  0.,  0.,  0.,  0.,  0.,\n",
       "        1.,  0.,  0.,  0.,  0.,  0.,  0.])"
      ]
     },
     "execution_count": 79,
     "metadata": {},
     "output_type": "execute_result"
    }
   ],
   "source": [
    "model = RandomForestClassifier()\n",
    "model.fit(X_train, y_train)\n",
    "model.predict(X_test)\n"
   ]
  },
  {
   "cell_type": "code",
   "execution_count": 80,
   "metadata": {
    "collapsed": true
   },
   "outputs": [],
   "source": [
    "verbose = False\n",
    "ratio = float(y.value_counts()[0]) / float(y.value_counts()[1])\n",
    "X_train = X_train.reset_index(drop=True).as_matrix()\n",
    "y_train = y_train.reset_index(drop=True).as_matrix()\n",
    "\n",
    "smote = SMOTE(ratio=ratio, verbose=verbose)\n",
    "smox, smoy = smote.fit_transform(X_train, y_train)"
   ]
  },
  {
   "cell_type": "code",
   "execution_count": 83,
   "metadata": {
    "collapsed": true
   },
   "outputs": [],
   "source": [
    "X_train = pd.DataFrame(smox, columns=x_cols)\n",
    "y_train = pd.Series(smoy)"
   ]
  },
  {
   "cell_type": "code",
   "execution_count": 84,
   "metadata": {
    "collapsed": false
   },
   "outputs": [
    {
     "name": "stdout",
     "output_type": "stream",
     "text": [
      "Accuracy: 0.8921568627450981\n",
      "Precision: 0.6527777777777778\n",
      "Recall: 0.8545454545454545\n",
      "f1: 0.7401574803149606\n",
      "ROC AUC: ()\n"
     ]
    }
   ],
   "source": [
    "getScoreValues(X_train, X_test, y_train, y_test, model=RandomForestClassifier())"
   ]
  },
  {
   "cell_type": "code",
   "execution_count": null,
   "metadata": {
    "collapsed": false
   },
   "outputs": [],
   "source": []
  },
  {
   "cell_type": "code",
   "execution_count": null,
   "metadata": {
    "collapsed": false
   },
   "outputs": [],
   "source": []
  },
  {
   "cell_type": "markdown",
   "metadata": {},
   "source": [
    "# Attempting oversampling "
   ]
  },
  {
   "cell_type": "code",
   "execution_count": 85,
   "metadata": {
    "collapsed": true
   },
   "outputs": [],
   "source": [
    "def oversample_data(X_t, y_t, ratio):\n",
    "    x_columns = X_t.columns\n",
    "    \n",
    "    X_t = X_t.reset_index(drop=True).as_matrix()\n",
    "    y_t = y_t.reset_index(drop=True).as_matrix()\n",
    "\n",
    "    smote = OverSampler(ratio=ratio, verbose=False)\n",
    "    smox, smoy = smote.fit_transform(X_t, y_t)\n",
    "    X_t = pd.DataFrame(smox, columns=x_columns)\n",
    "    y_t = pd.Series(smoy)\n",
    "    return X_t, y_t\n"
   ]
  },
  {
   "cell_type": "code",
   "execution_count": 86,
   "metadata": {
    "collapsed": true
   },
   "outputs": [],
   "source": [
    "X = full_data[x_cols]\n",
    "y = full_data['zscores']\n",
    "\n",
    "X_train, X_test, y_train, y_test = train_test_split(X, y, test_size = .30, random_state=4444)"
   ]
  },
  {
   "cell_type": "code",
   "execution_count": 87,
   "metadata": {
    "collapsed": true
   },
   "outputs": [],
   "source": [
    "verbose = False\n",
    "ratio = float(y.value_counts()[0]) / float(y.value_counts()[1])\n",
    "\n",
    "X_train, y_train = oversample_data(X_train, y_train, ratio)"
   ]
  },
  {
   "cell_type": "code",
   "execution_count": 88,
   "metadata": {
    "collapsed": false
   },
   "outputs": [
    {
     "name": "stdout",
     "output_type": "stream",
     "text": [
      "Accuracy: 0.6111111111111112\n",
      "Precision: 0.20909090909090908\n",
      "Recall: 0.41818181818181815\n",
      "f1: 0.27878787878787875\n",
      "ROC AUC: ()\n"
     ]
    }
   ],
   "source": [
    "getScoreValues(X_train, X_test, y_train, y_test)"
   ]
  },
  {
   "cell_type": "code",
   "execution_count": 89,
   "metadata": {
    "collapsed": false
   },
   "outputs": [
    {
     "name": "stdout",
     "output_type": "stream",
     "text": [
      "Accuracy: 0.9281045751633987\n",
      "Precision: 0.8235294117647058\n",
      "Recall: 0.7636363636363637\n",
      "f1: 0.7924528301886793\n",
      "ROC AUC: ()\n"
     ]
    }
   ],
   "source": [
    "getScoreValues(X_train, X_test, y_train, y_test, model=RandomForestClassifier())"
   ]
  },
  {
   "cell_type": "code",
   "execution_count": 90,
   "metadata": {
    "collapsed": false
   },
   "outputs": [
    {
     "name": "stdout",
     "output_type": "stream",
     "text": [
      "Accuracy: 0.19934640522875818\n",
      "Precision: 0.18120805369127516\n",
      "Recall: 0.9818181818181818\n",
      "f1: 0.3059490084985836\n",
      "ROC AUC: ()\n"
     ]
    }
   ],
   "source": [
    "getScoreValues(X_train, X_test, y_train, y_test, model=BernoulliNB())"
   ]
  },
  {
   "cell_type": "code",
   "execution_count": 91,
   "metadata": {
    "collapsed": false
   },
   "outputs": [
    {
     "name": "stdout",
     "output_type": "stream",
     "text": [
      "Accuracy: 0.30392156862745096\n",
      "Precision: 0.20075757575757575\n",
      "Recall: 0.9636363636363636\n",
      "f1: 0.3322884012539185\n",
      "ROC AUC: ()\n"
     ]
    }
   ],
   "source": [
    "getScoreValues(X_train, X_test, y_train, y_test, model=GaussianNB())"
   ]
  },
  {
   "cell_type": "code",
   "execution_count": 92,
   "metadata": {
    "collapsed": false
   },
   "outputs": [
    {
     "name": "stdout",
     "output_type": "stream",
     "text": [
      "Accuracy: 0.8954248366013072\n",
      "Precision: 0.6949152542372882\n",
      "Recall: 0.7454545454545455\n",
      "f1: 0.7192982456140351\n",
      "ROC AUC: ()\n"
     ]
    }
   ],
   "source": [
    "getScoreValues(X_train, X_test, y_train, y_test, model=DecisionTreeClassifier())"
   ]
  },
  {
   "cell_type": "code",
   "execution_count": 93,
   "metadata": {
    "collapsed": false
   },
   "outputs": [
    {
     "name": "stdout",
     "output_type": "stream",
     "text": [
      "Accuracy: 0.8006535947712419\n",
      "Precision: 0.125\n",
      "Recall: 0.01818181818181818\n",
      "f1: 0.031746031746031744\n",
      "ROC AUC: ()\n"
     ]
    }
   ],
   "source": [
    "getScoreValues(X_train, X_test, y_train, y_test, model=LogisticRegression())"
   ]
  },
  {
   "cell_type": "code",
   "execution_count": 94,
   "metadata": {
    "collapsed": true
   },
   "outputs": [],
   "source": [
    "def plot_confusion_matrix(cm, title='Confusion matrix', cmap=plt.cm.Blues):\n",
    "    plt.imshow(cm, interpolation='nearest', cmap=cmap)\n",
    "    plt.title(title)\n",
    "    plt.colorbar()\n",
    "    plt.grid(False)\n",
    "    tick_marks = np.arange(2)\n",
    "    plt.xticks(tick_marks, ['Not at Risk', 'At Risk'], rotation=45)\n",
    "    plt.yticks(tick_marks, ['Not at Risk', 'At Risk'])\n",
    "    plt.tight_layout()\n",
    "    plt.ylabel('True label')\n",
    "    plt.xlabel('Predicted label')"
   ]
  },
  {
   "cell_type": "code",
   "execution_count": 95,
   "metadata": {
    "collapsed": true
   },
   "outputs": [],
   "source": [
    "def getpickle(filename):\n",
    "\n",
    "    try:\n",
    "        with open(filename, 'rb') as picklefile:\n",
    "            return pickle.load(picklefile)\n",
    "    except:\n",
    "        return 'There was an error trying to read this file.  Please check the filename or path.'"
   ]
  },
  {
   "cell_type": "code",
   "execution_count": 96,
   "metadata": {
    "collapsed": false
   },
   "outputs": [],
   "source": [
    "colors = getpickle('tableaucolors.pkl')"
   ]
  },
  {
   "cell_type": "code",
   "execution_count": 97,
   "metadata": {
    "collapsed": true
   },
   "outputs": [],
   "source": [
    "class getCrossValScoresBySSS(object):\n",
    "    \n",
    "    def __init__(self, \n",
    "                 local_X, \n",
    "                 local_y,\n",
    "                 test_size=0.3,\n",
    "                 n_iter=50\n",
    "                ):\n",
    "        self.model_list = [\\\n",
    "                          KNeighborsClassifier(n_neighbors=2), \\\n",
    "                          SVC(gamma=1, C=10, kernel='rbf'), \\\n",
    "                          SVC(),\\\n",
    "                          LogisticRegression(), \\\n",
    "                          BernoulliNB(), \\\n",
    "                          GaussianNB(), \\\n",
    "                          RandomForestClassifier(n_estimators=30), \\\n",
    "                          DecisionTreeClassifier() \\\n",
    "                          ]\n",
    "        \n",
    "        self.index_func = [\\\n",
    "                          'KNeighborsClassifier(n_neighbors=2)', \\\n",
    "                          'SVC(gamma=1, C=10, kernel=\\'rbf\\')', \\\n",
    "                          'SVC()',\\\n",
    "                          'LogisticRegression()', \\\n",
    "                          'BernoulliNB()', \\\n",
    "                          'GaussianNB()', \\\n",
    "                          'RandomForestClassifier(n_estimators=30)', \\\n",
    "                          'DecisionTreeClassifier()' \\\n",
    "                          ]\n",
    "        \n",
    "        self.initialize_scores()\n",
    "        self.score_dict = {}\n",
    "        self.colors =  getpickle('tableaucolors.pkl')\n",
    "        self.X = local_X\n",
    "        self.y = local_y\n",
    "        self.x_cols = list(local_X.columns)\n",
    "        self.ratio = float(local_y.value_counts()[0]) / (float(local_y.value_counts()[1]))\n",
    "        self.sss = StratifiedShuffleSplit(y, n_iter=n_iter, test_size=test_size)\n",
    "    \n",
    "    def initialize_scores(self):\n",
    "        self.acc_array = []\n",
    "        self.prec_array = []\n",
    "        self.recall_array = []\n",
    "        self.f1_array = []\n",
    "        self.roc_auc_array = []\n",
    "        self.feature_imp_array = []\n",
    "        \n",
    "    def get_cm_pred(self, model, X_t, y_t, X_ts):\n",
    "        temp_model = model\n",
    "        temp_model.fit(X_t, y_t)\n",
    "        y_pd = temp_model.predict(X_ts)\n",
    "        return y_pd\n",
    "    \n",
    "    def test_conversion_for_year(self, year, y_delta):\n",
    "        #try:\n",
    "            new_year = year+y_delta\n",
    "            X_columns = self.X.columns\n",
    "            X_te = self.X.loc[year, :]\n",
    "            y_te = self.y.loc[new_year, :]\n",
    "            y_te = y_te.reset_index('countrycode').reset_index(drop=True).set_index('countrycode')\n",
    "            full = pd.concat([X_te, y_te], axis=1)\n",
    "            full = full.dropna()\n",
    "            X_te = full[X_columns]\n",
    "            y_te = full['zscores']\n",
    "            return X_te, y_te\n",
    "\n",
    "        #except:\n",
    "         #   print('Bad Year')\n",
    "    \n",
    "    def set_score_arrays(self, oversample, year, year_delta, model, get_features):\n",
    "        for train_index, test_index in self.sss:\n",
    "            #print(\"TRAIN:\", train_index, \"TEST:\", test_index)\n",
    "            X_train, X_test = X.ix[train_index], X.ix[test_index]\n",
    "            y_train, y_test = y.ix[train_index], y.ix[test_index]\n",
    "            \n",
    "            #remove data of test year and all years after from train set\n",
    "            if year != None: \n",
    "                X_train = X_train.loc[X_train.index.get_level_values('year') < year+year_delta]\n",
    "                y_train = y_train.loc[y_train.index.get_level_values('year') < year+year_delta]\n",
    "                X_test, y_test = self.test_conversion_for_year(year=year, y_delta=year_delta)\n",
    "\n",
    "            if oversample:\n",
    "                X_train, y_train = oversample_data(X_train, y_train, self.ratio)\n",
    "\n",
    "            accuracy_score_value, precision_score_value, \\\n",
    "            recall_score_value, f1_score_value, roc_auc_value, \\\n",
    "            feature_importances = getScoreValues(X_train,\n",
    "                                                 X_test,\n",
    "                                                 y_train,\n",
    "                                                 y_test,\n",
    "                                                 model=model,\n",
    "                                                 verbose=False,\n",
    "                                                 get_features=get_features)\n",
    "\n",
    "            self.acc_array.append(accuracy_score_value)\n",
    "            self.prec_array.append(precision_score_value)\n",
    "            self.recall_array.append(recall_score_value)\n",
    "            self.f1_array.append(f1_score_value)\n",
    "            self.roc_auc_array.append(roc_auc_value)\n",
    "            self.feature_imp_array.append(feature_importances)\n",
    "            \n",
    "    def multi_plot_multi_model_metrics(self):\n",
    "        index = list(range(len(self.model_list)))\n",
    "        bw = 0.35\n",
    "        score_list = ['Accuracy', 'Precision', 'Recall', 'F1', 'ROCAUC']\n",
    "        \n",
    "        plt.figure(figsize=(18,5))\n",
    "        \n",
    "        for j, scoring in enumerate(score_list):\n",
    "            ax = plt.subplot(151 + j)\n",
    "            ax.spines['right'].set_visible(False)\n",
    "            ax.spines['top'].set_visible(False)\n",
    "            sns.set_style(\"whitegrid\")\n",
    "\n",
    "            plt.bar(index, self.score_dict[scoring], bw, \n",
    "                    align = 'center', \n",
    "                    #color = colors[(i*2)], \n",
    "                    alpha = 0.6, \n",
    "                    label = self.index_func)\n",
    "\n",
    "            plt.title(scoring, fontsize=15, fontweight='bold')\n",
    "            plt.xticks(index, self.index_func, rotation='vertical')\n",
    "            plt.ylim(0.0, 1.1)\n",
    "            if j == 0:\n",
    "                plt.ylabel('Score',fontsize=20, fontweight='bold')\n",
    "            #if j == 4:\n",
    "            #    plt.legend()\n",
    "            plt.grid(False)\n",
    "            \n",
    "    def single_plot_multi_model_metrics(self):\n",
    "        default_index = list(range(len(self.model_list)))\n",
    "        bw = 0.15\n",
    "        score_list = ['Accuracy', 'Precision', 'Recall', 'F1', 'ROCAUC']\n",
    "        \n",
    "        plt.figure(figsize=(18,5))\n",
    "        \n",
    "        for j,scoring in enumerate(score_list):\n",
    "            ax = plt.subplot(111)\n",
    "            ax.spines['right'].set_visible(False)\n",
    "            ax.spines['top'].set_visible(False)\n",
    "            sns.set_style(\"whitegrid\")\n",
    "            \n",
    "            index = [i+bw*j for i in default_index]\n",
    "            plt.bar(index, self.score_dict[scoring], bw, \n",
    "                    align = 'center', \n",
    "                    color = self.colors[(3+j)], \n",
    "                    alpha = 0.6, \n",
    "                    label = scoring)\n",
    "\n",
    "            plt.title('Scores for Different Models', fontsize=15, fontweight='bold')\n",
    "            tick_location = [i for i in default_index]\n",
    "            plt.xticks(tick_location, self.index_func, rotation=60)\n",
    "            plt.ylim(0.0, 1.1)\n",
    "            if j == 0:\n",
    "                plt.ylabel('Score',fontsize=20, fontweight='bold')\n",
    "            if j == 4:\n",
    "                plt.legend(loc='best')\n",
    "            plt.grid(False)\n",
    "\n",
    "    def get_multi_models(self,\n",
    "                         oversample=True,\n",
    "                         year=None,\n",
    "                         year_delta=0,\n",
    "                         make_single_plot=False,\n",
    "                         make_multi_plots=False\n",
    "                        ):\n",
    "        self.score_dict = {}\n",
    "        models_acc = []\n",
    "        models_prec = []\n",
    "        models_rec = []\n",
    "        models_f1 = []\n",
    "        models_roc_auc = []\n",
    "        \n",
    "        col_names = ['Accuracy', 'Precision', 'Recall', 'F1', 'ROCAUC']\n",
    "        \n",
    "        for a_model in self.model_list:\n",
    "            self.initialize_scores()\n",
    "            \n",
    "            self.set_score_arrays(oversample=oversample,\n",
    "                                  year=year,\n",
    "                                  year_delta=year_delta,\n",
    "                                  model=a_model,\n",
    "                                  get_features=False)\n",
    "                \n",
    "            mean_acc = np.mean(self.acc_array)\n",
    "            mean_prec = np.mean(self.prec_array)\n",
    "            mean_recall = np.mean(self.recall_array)\n",
    "            mean_f1 = np.mean(self.f1_array)\n",
    "            mean_roc_auc = np.mean(self.roc_auc_array)\n",
    "            \n",
    "            models_acc.append(mean_acc)\n",
    "            models_prec.append(mean_prec)\n",
    "            models_rec.append(mean_recall)\n",
    "            models_f1.append(mean_f1)\n",
    "            models_roc_auc.append(mean_roc_auc)\n",
    "            \n",
    "        self.score_dict['Accuracy'] = models_acc\n",
    "        self.score_dict['Precision'] = models_prec\n",
    "        self.score_dict['Recall'] = models_rec\n",
    "        self.score_dict['F1'] = models_f1\n",
    "        self.score_dict['ROCAUC'] = models_roc_auc\n",
    "        \n",
    "        if make_multi_plots:\n",
    "            self.plot_multi_model_metrics()\n",
    "        elif make_single_plot:\n",
    "            self.single_plot_multi_model_metrics()\n",
    "        \n",
    "        df = pd.DataFrame(self.score_dict, columns=col_names, index=self.index_func)\n",
    "        return df\n",
    "    \n",
    "    def get_single_model(self,\n",
    "                         model=KNeighborsClassifier(n_neighbors=2),\n",
    "                         oversample=True,\n",
    "                         year=None,\n",
    "                         year_delta=0,\n",
    "                         get_features=True,\n",
    "                         get_cm=False,\n",
    "                         verbose=True\n",
    "                        ):\n",
    "        \n",
    "        self.initialize_scores()\n",
    "        \n",
    "        self.set_score_arrays(oversample=oversample,\n",
    "                              year=year,\n",
    "                              year_delta=year_delta,\n",
    "                              model=model,\n",
    "                              get_features=get_features) \n",
    "            \n",
    "        if get_cm:\n",
    "            # For getting a confusion matrix of the last model in the cross validated set\n",
    "            y_pred = self.get_cm_pred(model, X_train, y_train, X_test)\n",
    "            cm = confusion_matrix(y_test, y_pred)\n",
    "            plt.figure()\n",
    "            plot_confusion_matrix(cm)\n",
    "\n",
    "        mean_acc = np.mean(self.acc_array)\n",
    "        mean_prec = np.mean(self.prec_array)\n",
    "        mean_recall = np.mean(self.recall_array)\n",
    "        mean_f1 = np.mean(self.f1_array)\n",
    "        mean_roc_auc = np.mean(self.roc_auc_array)\n",
    "        try:\n",
    "            mean_feature_imp = np.mean(self.feature_imp_array, axis=0)\n",
    "        except TypeError:\n",
    "            mean_feature_imp = None\n",
    "               \n",
    "        if verbose:\n",
    "            print('Avg Feature Importance: {}'.format(mean_feature_imp))\n",
    "            print('Accuracy: {}\\nPrecision: {}\\nRecall: {}\\nf1: {}\\nROC AUC: {}'.format(mean_acc, \\\n",
    "                                                                                        mean_prec, \\\n",
    "                                                                                        mean_recall,\\\n",
    "                                                                                        mean_f1, \\\n",
    "                                                                                        mean_roc_auc))\n",
    "\n",
    "        else:\n",
    "            return mean_acc, mean_prec, mean_recall, mean_f1, mean_roc_auc\n",
    "        \n",
    "    def future_crisis_countries(self,\n",
    "                                model=KNeighborsClassifier(n_neighbors=2),\n",
    "                                oversample=True,\n",
    "                                year=None,\n",
    "                                year_delta=0):\n",
    "        assert year != None\n",
    "        \n",
    "        for train_index, test_index in self.sss:\n",
    "            #print(\"TRAIN:\", train_index, \"TEST:\", test_index)\n",
    "            X_train, X_test = X.ix[train_index], X.ix[test_index]\n",
    "            y_train, y_test = y.ix[train_index], y.ix[test_index]\n",
    "            \n",
    "            #remove data of test year from train set\n",
    "            X_train = X_train.loc[X_train.index.get_level_values('year') != year+year_delta]\n",
    "            y_train = y_train.loc[y_train.index.get_level_values('year') != year+year_delta]\n",
    "            \n",
    "            #Year prior is used later as the comparison between the desired year and its year prior\n",
    "            _,year_prior = self.test_conversion_for_year(year=year, y_delta=(year_delta-1))\n",
    "            X_test, y_test = self.test_conversion_for_year(year=year, y_delta=year_delta)\n",
    "            \n",
    "            if oversample:\n",
    "                X_train, y_train = oversample_data(X_train, y_train, self.ratio)\n",
    "            \n",
    "            prediction = getScoreValues(X_train, \n",
    "                                       X_test, \n",
    "                                       y_train, \n",
    "                                       y_test, \n",
    "                                       model=model, \n",
    "                                       verbose=False, \n",
    "                                       get_features=False,\n",
    "                                       get_prediction=True\n",
    "                                      )\n",
    "            prediction_actual = deepcopy(y_test)\n",
    "            prediction_actual.name = 'prediction_actual'\n",
    "            year_prior.name='year_prior'\n",
    "            prediction.name='prediction'\n",
    "            compare_df = pd.concat([year_prior, prediction, prediction_actual], axis=1)\n",
    "            compare_df = compare_df.dropna()\n",
    "            compare_df['net'] = compare_df.year_prior.subtract(compare_df.prediction)\n",
    "            future_crisis = compare_df[compare_df.net < 0]\n",
    "            future_crisis = future_crisis[future_crisis.prediction_actual == 1]\n",
    "            print(future_crisis)\n",
    "            \n",
    "    def SVC_grid_search(self, oversample=True, year=None, year_delta=0):\n",
    "        # This will perform cross val on one train/test from the SSS\n",
    "        i = 0\n",
    "        for tr_i, te_i in self.sss:\n",
    "            if i == 0:\n",
    "                train_index = tr_i\n",
    "                test_index = te_i\n",
    "            i += 1\n",
    "        \n",
    "        X_train, X_test = X.ix[train_index], X.ix[test_index]\n",
    "        y_train, y_test = y.ix[train_index], y.ix[test_index]\n",
    "\n",
    "        #remove data of test year and all years after from train set\n",
    "        if year != None: \n",
    "            X_train = X_train.loc[X_train.index.get_level_values('year') < year+year_delta]\n",
    "            y_train = y_train.loc[y_train.index.get_level_values('year') < year+year_delta]\n",
    "            X_test, y_test = self.test_conversion_for_year(year=year, y_delta=year_delta)\n",
    "\n",
    "        if oversample:\n",
    "            X_train, y_train = oversample_data(X_train, y_train, self.ratio)\n",
    "        \n",
    "        # Set the parameters by cross-validation\n",
    "        tuned_parameters = [{'kernel': ['rbf'],\n",
    "                             'gamma': [1,1e-1,1e-2,1e-3, 1e-4],\n",
    "                             'C': [1, 10, 100, 1000]\n",
    "                            },\n",
    "                            {'kernel': ['linear'],\n",
    "                             'C': [1, 10, 100, 1000]\n",
    "                            },\n",
    "                            {'kernel':['poly'],\n",
    "                             'degree':[1,2,3]\n",
    "                            }]\n",
    "\n",
    "        scores = ['accuracy', 'precision', 'recall', 'f1']\n",
    "\n",
    "        for score in scores:\n",
    "            print(\"# Tuning hyper-parameters for %s\" % score)\n",
    "            print()\n",
    "\n",
    "            clf = GridSearchCV(SVC(C=1), tuned_parameters, cv=5, scoring=score, n_jobs=-1)\n",
    "            clf.fit(X_train, y_train)\n",
    "\n",
    "            print(\"Best parameters set found on development set:\")\n",
    "            print()\n",
    "            print(clf.best_estimator_)\n",
    "            print()\n",
    "            print(\"Grid scores on development set:\")\n",
    "            print()\n",
    "            for params, mean_score, scores in clf.grid_scores_:\n",
    "                print(\"%0.3f (+/-%0.03f) for %r\"\n",
    "                      % (mean_score, scores.std() / 2, params))\n",
    "            print()\n",
    "\n",
    "            print(\"Detailed classification report:\")\n",
    "            print()\n",
    "            print(\"The model is trained on the full development set.\")\n",
    "            print(\"The scores are computed on the full evaluation set.\")\n",
    "            print()\n",
    "            y_true, y_pred = y_test, clf.predict(X_test)\n",
    "            print(classification_report(y_true, y_pred))\n",
    "            print()\n",
    "    \n",
    "    "
   ]
  },
  {
   "cell_type": "code",
   "execution_count": 98,
   "metadata": {
    "collapsed": true
   },
   "outputs": [],
   "source": [
    "X = full_data[x_cols]\n",
    "y = full_data['zscores']"
   ]
  },
  {
   "cell_type": "markdown",
   "metadata": {},
   "source": [
    "# All glory to the Ken "
   ]
  },
  {
   "cell_type": "code",
   "execution_count": 99,
   "metadata": {
    "collapsed": true
   },
   "outputs": [],
   "source": [
    "pol_modeling = getCrossValScoresBySSS(X,y)"
   ]
  },
  {
   "cell_type": "code",
   "execution_count": 100,
   "metadata": {
    "collapsed": false,
    "scrolled": false
   },
   "outputs": [
    {
     "name": "stderr",
     "output_type": "stream",
     "text": [
      "/Users/bryanbumgardner/anaconda/lib/python3.5/site-packages/sklearn/metrics/classification.py:1074: UndefinedMetricWarning: Precision is ill-defined and being set to 0.0 due to no predicted samples.\n",
      "  'precision', 'predicted', average, warn_for)\n",
      "/Users/bryanbumgardner/anaconda/lib/python3.5/site-packages/sklearn/metrics/classification.py:1074: UndefinedMetricWarning: F-score is ill-defined and being set to 0.0 due to no predicted samples.\n",
      "  'precision', 'predicted', average, warn_for)\n"
     ]
    },
    {
     "data": {
      "text/html": [
       "<div>\n",
       "<table border=\"1\" class=\"dataframe\">\n",
       "  <thead>\n",
       "    <tr style=\"text-align: right;\">\n",
       "      <th></th>\n",
       "      <th>Accuracy</th>\n",
       "      <th>Precision</th>\n",
       "      <th>Recall</th>\n",
       "      <th>F1</th>\n",
       "      <th>ROCAUC</th>\n",
       "    </tr>\n",
       "  </thead>\n",
       "  <tbody>\n",
       "    <tr>\n",
       "      <th>KNeighborsClassifier(n_neighbors=2)</th>\n",
       "      <td>0.752418</td>\n",
       "      <td>0.234205</td>\n",
       "      <td>0.2272</td>\n",
       "      <td>0.229571</td>\n",
       "      <td>0.541100</td>\n",
       "    </tr>\n",
       "    <tr>\n",
       "      <th>SVC(gamma=1, C=10, kernel='rbf')</th>\n",
       "      <td>0.836601</td>\n",
       "      <td>0.000000</td>\n",
       "      <td>0.0000</td>\n",
       "      <td>0.000000</td>\n",
       "      <td>0.500000</td>\n",
       "    </tr>\n",
       "    <tr>\n",
       "      <th>SVC()</th>\n",
       "      <td>0.836601</td>\n",
       "      <td>0.000000</td>\n",
       "      <td>0.0000</td>\n",
       "      <td>0.000000</td>\n",
       "      <td>0.500000</td>\n",
       "    </tr>\n",
       "    <tr>\n",
       "      <th>LogisticRegression()</th>\n",
       "      <td>0.809608</td>\n",
       "      <td>0.157278</td>\n",
       "      <td>0.0388</td>\n",
       "      <td>0.061593</td>\n",
       "      <td>0.499478</td>\n",
       "    </tr>\n",
       "    <tr>\n",
       "      <th>BernoulliNB()</th>\n",
       "      <td>0.399673</td>\n",
       "      <td>0.126255</td>\n",
       "      <td>0.6344</td>\n",
       "      <td>0.191476</td>\n",
       "      <td>0.494114</td>\n",
       "    </tr>\n",
       "    <tr>\n",
       "      <th>GaussianNB()</th>\n",
       "      <td>0.293987</td>\n",
       "      <td>0.181909</td>\n",
       "      <td>0.9496</td>\n",
       "      <td>0.305307</td>\n",
       "      <td>0.557769</td>\n",
       "    </tr>\n",
       "    <tr>\n",
       "      <th>RandomForestClassifier(n_estimators=30)</th>\n",
       "      <td>0.934248</td>\n",
       "      <td>0.821469</td>\n",
       "      <td>0.7684</td>\n",
       "      <td>0.791758</td>\n",
       "      <td>0.867520</td>\n",
       "    </tr>\n",
       "    <tr>\n",
       "      <th>DecisionTreeClassifier()</th>\n",
       "      <td>0.902745</td>\n",
       "      <td>0.708014</td>\n",
       "      <td>0.6992</td>\n",
       "      <td>0.701189</td>\n",
       "      <td>0.820850</td>\n",
       "    </tr>\n",
       "  </tbody>\n",
       "</table>\n",
       "</div>"
      ],
      "text/plain": [
       "                                         Accuracy  Precision  Recall  \\\n",
       "KNeighborsClassifier(n_neighbors=2)      0.752418   0.234205  0.2272   \n",
       "SVC(gamma=1, C=10, kernel='rbf')         0.836601   0.000000  0.0000   \n",
       "SVC()                                    0.836601   0.000000  0.0000   \n",
       "LogisticRegression()                     0.809608   0.157278  0.0388   \n",
       "BernoulliNB()                            0.399673   0.126255  0.6344   \n",
       "GaussianNB()                             0.293987   0.181909  0.9496   \n",
       "RandomForestClassifier(n_estimators=30)  0.934248   0.821469  0.7684   \n",
       "DecisionTreeClassifier()                 0.902745   0.708014  0.6992   \n",
       "\n",
       "                                               F1    ROCAUC  \n",
       "KNeighborsClassifier(n_neighbors=2)      0.229571  0.541100  \n",
       "SVC(gamma=1, C=10, kernel='rbf')         0.000000  0.500000  \n",
       "SVC()                                    0.000000  0.500000  \n",
       "LogisticRegression()                     0.061593  0.499478  \n",
       "BernoulliNB()                            0.191476  0.494114  \n",
       "GaussianNB()                             0.305307  0.557769  \n",
       "RandomForestClassifier(n_estimators=30)  0.791758  0.867520  \n",
       "DecisionTreeClassifier()                 0.701189  0.820850  "
      ]
     },
     "execution_count": 100,
     "metadata": {},
     "output_type": "execute_result"
    },
    {
     "data": {
      "image/png": "[encoded data removed]",
      "text/plain": [
       "<matplotlib.figure.Figure at 0x10c310208>"
      ]
     },
     "metadata": {},
     "output_type": "display_data"
    }
   ],
   "source": [
    "pol_modeling.get_multi_models(make_single_plot=True)"
   ]
  },
  {
   "cell_type": "code",
   "execution_count": 101,
   "metadata": {
    "collapsed": false
   },
   "outputs": [
    {
     "name": "stdout",
     "output_type": "stream",
     "text": [
      "Avg Feature Importance: [ 0.32060735  0.12791415  0.20849882  0.16848983  0.17448986]\n",
      "Accuracy: 0.9368627450980394\n",
      "Precision: 0.8282803650627137\n",
      "Recall: 0.78\n",
      "f1: 0.8014879595004879\n",
      "ROC AUC: 0.8737499999999998\n"
     ]
    },
    {
     "data": {
      "image/png": "[encoded data removed]",
      "text/plain": [
       "<matplotlib.figure.Figure at 0x10c455ba8>"
      ]
     },
     "metadata": {},
     "output_type": "display_data"
    }
   ],
   "source": [
    "pol_modeling.get_single_model(model=RandomForestClassifier(n_estimators=100), get_cm = True)"
   ]
  },
  {
   "cell_type": "code",
   "execution_count": 102,
   "metadata": {
    "collapsed": false
   },
   "outputs": [
    {
     "name": "stdout",
     "output_type": "stream",
     "text": [
      "Avg Feature Importance: [ 0.32543099  0.12705567  0.20506557  0.16904029  0.17340748]\n",
      "Accuracy: 0.9326143790849674\n",
      "Precision: 0.8220999867729363\n",
      "Recall: 0.7568\n",
      "f1: 0.7857646165259732\n",
      "ROC AUC: 0.8618765625000002\n"
     ]
    },
    {
     "data": {
      "image/png": "[encoded data removed]",
      "text/plain": [
       "<matplotlib.figure.Figure at 0x10bc87278>"
      ]
     },
     "metadata": {},
     "output_type": "display_data"
    }
   ],
   "source": [
    "pol_modeling.get_single_model(model=RandomForestClassifier(n_estimators=30), get_cm = True)"
   ]
  },
  {
   "cell_type": "code",
   "execution_count": 103,
   "metadata": {
    "collapsed": false
   },
   "outputs": [
    {
     "name": "stdout",
     "output_type": "stream",
     "text": [
      "Avg Feature Importance: [ 0.38966864  0.11553461  0.18332308  0.15874296  0.15273071]\n",
      "Accuracy: 0.9031372549019607\n",
      "Precision: 0.719495865035611\n",
      "Recall: 0.6779999999999999\n",
      "f1: 0.6960554157458492\n",
      "ROC AUC: 0.8125546875\n"
     ]
    },
    {
     "data": {
      "image/png": "[encoded data removed]",
      "text/plain": [
       "<matplotlib.figure.Figure at 0x10c545160>"
      ]
     },
     "metadata": {},
     "output_type": "display_data"
    }
   ],
   "source": [
    "pol_modeling.get_single_model(model=DecisionTreeClassifier(), get_cm = True)"
   ]
  },
  {
   "cell_type": "code",
   "execution_count": null,
   "metadata": {
    "collapsed": true
   },
   "outputs": [],
   "source": []
  }
 ],
 "metadata": {
  "kernelspec": {
   "display_name": "Python 3",
   "language": "python",
   "name": "python3"
  },
  "language_info": {
   "codemirror_mode": {
    "name": "ipython",
    "version": 3
   },
   "file_extension": ".py",
   "mimetype": "text/x-python",
   "name": "python",
   "nbconvert_exporter": "python",
   "pygments_lexer": "ipython3",
   "version": "3.5.0"
  }
 },
 "nbformat": 4,
 "nbformat_minor": 0
}
