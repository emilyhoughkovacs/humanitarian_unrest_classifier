{
 "cells": [
  {
   "cell_type": "code",
   "execution_count": 1,
   "metadata": {
    "collapsed": false
   },
   "outputs": [
    {
     "name": "stderr",
     "output_type": "stream",
     "text": [
      "/Users/kenn/anaconda/lib/python3.5/site-packages/matplotlib/__init__.py:872: UserWarning: axes.color_cycle is deprecated and replaced with axes.prop_cycle; please use the latter.\n",
      "  warnings.warn(self.msg_depr % (key, alt_key))\n"
     ]
    }
   ],
   "source": [
    "from sqlalchemy import create_engine\n",
    "import pandas as pd\n",
    "import numpy as np\n",
    "\n",
    "from sklearn.cross_validation import train_test_split, StratifiedShuffleSplit\n",
    "from sklearn.neighbors import KNeighborsClassifier\n",
    "from sklearn.metrics import (\n",
    "                            accuracy_score, \n",
    "                            precision_score, \n",
    "                            recall_score, \n",
    "                            f1_score, \n",
    "                            roc_curve, \n",
    "                            roc_auc_score, \n",
    "                            confusion_matrix\n",
    "                            )\n",
    "from sklearn.linear_model import LogisticRegression, LinearRegression\n",
    "from sklearn.naive_bayes import GaussianNB, BernoulliNB\n",
    "from sklearn.svm import SVC\n",
    "from sklearn.tree import DecisionTreeClassifier\n",
    "from sklearn.tree import DecisionTreeRegressor\n",
    "from sklearn.ensemble import RandomForestClassifier\n",
    "from sklearn.learning_curve import learning_curve\n",
    "from sklearn.cross_validation import cross_val_score\n",
    "from sklearn.metrics import confusion_matrix\n",
    "\n",
    "from unbalanced_dataset import OverSampler, SMOTE\n",
    "\n",
    "import matplotlib.pyplot as plt\n",
    "import seaborn as sns\n",
    "\n",
    "\n",
    "%matplotlib inline"
   ]
  },
  {
   "cell_type": "code",
   "execution_count": 2,
   "metadata": {
    "collapsed": true
   },
   "outputs": [],
   "source": [
    "CONFIG = {}\n",
    "\n",
    "with open('config.txt', \"r\") as in_file:\n",
    "    for line in in_file:\n",
    "        line = line.split(\":\")\n",
    "        parameter = line[0].strip()\n",
    "        value = line[1].strip()\n",
    "        CONFIG[parameter] = value\n",
    "                \n",
    "engine_path = 'postgresql://'+CONFIG['username']+':'+\\\n",
    "                CONFIG['password']+'@'+CONFIG['ip']+\\\n",
    "                ':'+CONFIG['port']+'/'+CONFIG['database']\n",
    "        \n",
    "engine = create_engine(engine_path)"
   ]
  },
  {
   "cell_type": "markdown",
   "metadata": {},
   "source": [
    "### Want something like:\n",
    "\n",
    "    SELECT\n",
    "        table4.countrycode as 'countrycode',\n",
    "        b.table1 as 'table1',\n",
    "        b.table2 as 'table2',\n",
    "        b.table3 as 'table3',\n",
    "        table4.year as 'table4'\n",
    "        (SELECT\n",
    "            table3.countrycode as 'countrycode',\n",
    "            a.table1 as 'table1',\n",
    "            a.table2 as 'table2',\n",
    "            table3.year as 'table3'\n",
    "         FROM\n",
    "            (SELECT\n",
    "                 table1.countrycode as 'countrycode',\n",
    "                 table1.year as 'table1',\n",
    "                 table2.year as 'table2'\n",
    "             FROM\n",
    "                 table1\n",
    "             JOIN\n",
    "                 table2\n",
    "               ON \n",
    "                 table1.countrycode = table2.countrycode\n",
    "             ) a\n",
    "         JOIN\n",
    "             table3\n",
    "           ON\n",
    "             a.countrycode = table3.countrycode  \n",
    "        ) b    \n",
    "    JOIN\n",
    "        table4\n",
    "      ON\n",
    "        a.countrycode = table3.countrycode \n",
    "    \n",
    "        \n",
    "       \n"
   ]
  },
  {
   "cell_type": "code",
   "execution_count": 3,
   "metadata": {
    "collapsed": false
   },
   "outputs": [],
   "source": [
    "def makeSQLQuery(table_names, year):\n",
    "    dotyyear = '.y' + str(year)\n",
    "    current_unit = 'a'\n",
    "    query = '(SELECT ' + table_names[0] + '.countrycode AS countrycode, ' + \\\n",
    "            table_names[0] + dotyyear + ' AS ' + table_names[0] + ', ' + \\\n",
    "            table_names[1] + dotyyear + ' AS ' + table_names[1] + \\\n",
    "            ' FROM ' + table_names[0] + \\\n",
    "            ' JOIN ' + table_names[1] + \\\n",
    "            ' ON ' + table_names[0] + '.countrycode=' + table_names[1] + '.countrycode) '\n",
    "    query = query + current_unit\n",
    "    \n",
    "    for table in table_names[2:]:\n",
    "        curr_index = table_names.index(table)\n",
    "        temp_list = table_names[:curr_index+1]\n",
    "        \n",
    "        pre_string = '(SELECT ' + table + '.countrycode as countrycode'\n",
    "        \n",
    "        for temp_table in temp_list[:-1]:\n",
    "            pre_string = pre_string + ', ' + current_unit + '.' + temp_table + ' AS ' + temp_table\n",
    "        \n",
    "        pre_string = pre_string + ', ' + table + dotyyear + ' AS ' + table\n",
    "        \n",
    "        query = pre_string + ' FROM ' + query + ' JOIN ' + table + \\\n",
    "                ' ON ' + current_unit + '.countrycode=' + table + '.countrycode) '\n",
    "        \n",
    "        current_unit = current_unit + 'a'\n",
    "        query = query + current_unit\n",
    "        \n",
    "    query = query.rsplit(' ', 1)[0][1:-1]\n",
    "    \n",
    "    return query\n",
    "    \n",
    "    "
   ]
  },
  {
   "cell_type": "code",
   "execution_count": 4,
   "metadata": {
    "collapsed": false
   },
   "outputs": [],
   "source": [
    "table_names = ['civil_liberties', 'population_growth', 'political_rights', \\\n",
    "               'life_expectancy', 'terror', 'peace', \\\n",
    "               'population_15_64',  \\\n",
    "                'zscores']"
   ]
  },
  {
   "cell_type": "code",
   "execution_count": 5,
   "metadata": {
    "collapsed": true
   },
   "outputs": [],
   "source": [
    "x_cols = table_names[:-1]"
   ]
  },
  {
   "cell_type": "code",
   "execution_count": 6,
   "metadata": {
    "collapsed": false,
    "scrolled": false
   },
   "outputs": [],
   "source": [
    "query = makeSQLQuery(table_names, 2012)"
   ]
  },
  {
   "cell_type": "code",
   "execution_count": 7,
   "metadata": {
    "collapsed": false
   },
   "outputs": [
    {
     "data": {
      "text/plain": [
       "'SELECT zscores.countrycode as countrycode, aaaaaa.civil_liberties AS civil_liberties, aaaaaa.population_growth AS population_growth, aaaaaa.political_rights AS political_rights, aaaaaa.life_expectancy AS life_expectancy, aaaaaa.terror AS terror, aaaaaa.peace AS peace, aaaaaa.population_15_64 AS population_15_64, zscores.y2012 AS zscores FROM (SELECT population_15_64.countrycode as countrycode, aaaaa.civil_liberties AS civil_liberties, aaaaa.population_growth AS population_growth, aaaaa.political_rights AS political_rights, aaaaa.life_expectancy AS life_expectancy, aaaaa.terror AS terror, aaaaa.peace AS peace, population_15_64.y2012 AS population_15_64 FROM (SELECT peace.countrycode as countrycode, aaaa.civil_liberties AS civil_liberties, aaaa.population_growth AS population_growth, aaaa.political_rights AS political_rights, aaaa.life_expectancy AS life_expectancy, aaaa.terror AS terror, peace.y2012 AS peace FROM (SELECT terror.countrycode as countrycode, aaa.civil_liberties AS civil_liberties, aaa.population_growth AS population_growth, aaa.political_rights AS political_rights, aaa.life_expectancy AS life_expectancy, terror.y2012 AS terror FROM (SELECT life_expectancy.countrycode as countrycode, aa.civil_liberties AS civil_liberties, aa.population_growth AS population_growth, aa.political_rights AS political_rights, life_expectancy.y2012 AS life_expectancy FROM (SELECT political_rights.countrycode as countrycode, a.civil_liberties AS civil_liberties, a.population_growth AS population_growth, political_rights.y2012 AS political_rights FROM (SELECT civil_liberties.countrycode AS countrycode, civil_liberties.y2012 AS civil_liberties, population_growth.y2012 AS population_growth FROM civil_liberties JOIN population_growth ON civil_liberties.countrycode=population_growth.countrycode) a JOIN political_rights ON a.countrycode=political_rights.countrycode) aa JOIN life_expectancy ON aa.countrycode=life_expectancy.countrycode) aaa JOIN terror ON aaa.countrycode=terror.countrycode) aaaa JOIN peace ON aaaa.countrycode=peace.countrycode) aaaaa JOIN population_15_64 ON aaaaa.countrycode=population_15_64.countrycode) aaaaaa JOIN zscores ON aaaaaa.countrycode=zscores.countrycode'"
      ]
     },
     "execution_count": 7,
     "metadata": {},
     "output_type": "execute_result"
    }
   ],
   "source": [
    "query"
   ]
  },
  {
   "cell_type": "code",
   "execution_count": 8,
   "metadata": {
    "collapsed": false,
    "scrolled": false
   },
   "outputs": [],
   "source": [
    "data_2013 = pd.read_sql_query(query, engine)"
   ]
  },
  {
   "cell_type": "code",
   "execution_count": 9,
   "metadata": {
    "collapsed": true
   },
   "outputs": [],
   "source": [
    "data_2013 = data_2013.set_index('countrycode')"
   ]
  },
  {
   "cell_type": "code",
   "execution_count": 10,
   "metadata": {
    "collapsed": false
   },
   "outputs": [],
   "source": [
    "data_2013['zscores'] = data_2013['zscores'].astype(float)"
   ]
  },
  {
   "cell_type": "code",
   "execution_count": 11,
   "metadata": {
    "collapsed": false
   },
   "outputs": [
    {
     "data": {
      "text/html": [
       "<div>\n",
       "<table border=\"1\" class=\"dataframe\">\n",
       "  <thead>\n",
       "    <tr style=\"text-align: right;\">\n",
       "      <th></th>\n",
       "      <th>civil_liberties</th>\n",
       "      <th>population_growth</th>\n",
       "      <th>political_rights</th>\n",
       "      <th>life_expectancy</th>\n",
       "      <th>terror</th>\n",
       "      <th>peace</th>\n",
       "      <th>population_15_64</th>\n",
       "      <th>zscores</th>\n",
       "    </tr>\n",
       "    <tr>\n",
       "      <th>countrycode</th>\n",
       "      <th></th>\n",
       "      <th></th>\n",
       "      <th></th>\n",
       "      <th></th>\n",
       "      <th></th>\n",
       "      <th></th>\n",
       "      <th></th>\n",
       "      <th></th>\n",
       "    </tr>\n",
       "  </thead>\n",
       "  <tbody>\n",
       "    <tr>\n",
       "      <th>AFG</th>\n",
       "      <td>6</td>\n",
       "      <td>3.135546</td>\n",
       "      <td>6</td>\n",
       "      <td>59.679610</td>\n",
       "      <td>8.735</td>\n",
       "      <td>3.375</td>\n",
       "      <td>51.199946</td>\n",
       "      <td>7.179031</td>\n",
       "    </tr>\n",
       "    <tr>\n",
       "      <th>AGO</th>\n",
       "      <td>5</td>\n",
       "      <td>3.331567</td>\n",
       "      <td>6</td>\n",
       "      <td>51.464000</td>\n",
       "      <td>1.349</td>\n",
       "      <td>2.099</td>\n",
       "      <td>49.544954</td>\n",
       "      <td>-0.220318</td>\n",
       "    </tr>\n",
       "    <tr>\n",
       "      <th>ALB</th>\n",
       "      <td>3</td>\n",
       "      <td>-0.147831</td>\n",
       "      <td>3</td>\n",
       "      <td>77.350463</td>\n",
       "      <td>0.134</td>\n",
       "      <td>1.972</td>\n",
       "      <td>68.570300</td>\n",
       "      <td>0.078938</td>\n",
       "    </tr>\n",
       "    <tr>\n",
       "      <th>ARE</th>\n",
       "      <td>6</td>\n",
       "      <td>2.463140</td>\n",
       "      <td>6</td>\n",
       "      <td>77.024146</td>\n",
       "      <td>0.248</td>\n",
       "      <td>1.735</td>\n",
       "      <td>85.549668</td>\n",
       "      <td>-0.287629</td>\n",
       "    </tr>\n",
       "    <tr>\n",
       "      <th>ARG</th>\n",
       "      <td>2</td>\n",
       "      <td>1.049809</td>\n",
       "      <td>2</td>\n",
       "      <td>75.816244</td>\n",
       "      <td>2.077</td>\n",
       "      <td>1.800</td>\n",
       "      <td>63.831465</td>\n",
       "      <td>-0.292320</td>\n",
       "    </tr>\n",
       "  </tbody>\n",
       "</table>\n",
       "</div>"
      ],
      "text/plain": [
       "             civil_liberties  population_growth  political_rights  \\\n",
       "countrycode                                                         \n",
       "AFG                        6           3.135546                 6   \n",
       "AGO                        5           3.331567                 6   \n",
       "ALB                        3          -0.147831                 3   \n",
       "ARE                        6           2.463140                 6   \n",
       "ARG                        2           1.049809                 2   \n",
       "\n",
       "             life_expectancy  terror  peace  population_15_64   zscores  \n",
       "countrycode                                                              \n",
       "AFG                59.679610   8.735  3.375         51.199946  7.179031  \n",
       "AGO                51.464000   1.349  2.099         49.544954 -0.220318  \n",
       "ALB                77.350463   0.134  1.972         68.570300  0.078938  \n",
       "ARE                77.024146   0.248  1.735         85.549668 -0.287629  \n",
       "ARG                75.816244   2.077  1.800         63.831465 -0.292320  "
      ]
     },
     "execution_count": 11,
     "metadata": {},
     "output_type": "execute_result"
    }
   ],
   "source": [
    "data_2013.head()"
   ]
  },
  {
   "cell_type": "code",
   "execution_count": 12,
   "metadata": {
    "collapsed": false,
    "scrolled": false
   },
   "outputs": [],
   "source": [
    "\n",
    "data_2013.loc[data_2013['zscores'] > 0, 'zscores'] = 1\n",
    "data_2013.loc[data_2013['zscores'] <= 0, 'zscores'] = 0\n",
    "\n",
    "try:\n",
    "    data_2013.loc[data_2013['freedom_status'] == 'F', 'freedom_status'] = -1\n",
    "    data_2013.loc[data_2013['freedom_status'] == 'PF', 'freedom_status'] = 0\n",
    "    data_2013.loc[data_2013['freedom_status'] == 'NF', 'freedom_status'] = 1\n",
    "except:\n",
    "    pass\n"
   ]
  },
  {
   "cell_type": "code",
   "execution_count": 13,
   "metadata": {
    "collapsed": false
   },
   "outputs": [
    {
     "data": {
      "text/html": [
       "<div>\n",
       "<table border=\"1\" class=\"dataframe\">\n",
       "  <thead>\n",
       "    <tr style=\"text-align: right;\">\n",
       "      <th></th>\n",
       "      <th>civil_liberties</th>\n",
       "      <th>population_growth</th>\n",
       "      <th>political_rights</th>\n",
       "      <th>life_expectancy</th>\n",
       "      <th>terror</th>\n",
       "      <th>peace</th>\n",
       "      <th>population_15_64</th>\n",
       "      <th>zscores</th>\n",
       "    </tr>\n",
       "    <tr>\n",
       "      <th>countrycode</th>\n",
       "      <th></th>\n",
       "      <th></th>\n",
       "      <th></th>\n",
       "      <th></th>\n",
       "      <th></th>\n",
       "      <th></th>\n",
       "      <th></th>\n",
       "      <th></th>\n",
       "    </tr>\n",
       "  </thead>\n",
       "  <tbody>\n",
       "    <tr>\n",
       "      <th>LKA</th>\n",
       "      <td>4</td>\n",
       "      <td>NaN</td>\n",
       "      <td>5</td>\n",
       "      <td>74.068049</td>\n",
       "      <td>4.651</td>\n",
       "      <td>2.192</td>\n",
       "      <td>66.774724</td>\n",
       "      <td>1</td>\n",
       "    </tr>\n",
       "  </tbody>\n",
       "</table>\n",
       "</div>"
      ],
      "text/plain": [
       "             civil_liberties  population_growth  political_rights  \\\n",
       "countrycode                                                         \n",
       "LKA                        4                NaN                 5   \n",
       "\n",
       "             life_expectancy  terror  peace  population_15_64  zscores  \n",
       "countrycode                                                             \n",
       "LKA                74.068049   4.651  2.192         66.774724        1  "
      ]
     },
     "execution_count": 13,
     "metadata": {},
     "output_type": "execute_result"
    }
   ],
   "source": [
    "#The rows to be dropped\n",
    "data_2013[data_2013.isnull().any(axis=1)]"
   ]
  },
  {
   "cell_type": "code",
   "execution_count": 14,
   "metadata": {
    "collapsed": true
   },
   "outputs": [],
   "source": [
    "data_2013 = data_2013.dropna()"
   ]
  },
  {
   "cell_type": "code",
   "execution_count": 15,
   "metadata": {
    "collapsed": true
   },
   "outputs": [],
   "source": [
    "#Get Z scores of rows\n",
    "for col in x_cols:\n",
    "    data_2013[col] = (data_2013[col] - data_2013[col].mean())/data_2013[col].std(ddof=0)\n"
   ]
  },
  {
   "cell_type": "code",
   "execution_count": 16,
   "metadata": {
    "collapsed": false
   },
   "outputs": [],
   "source": [
    "def getScoreValues(X_train, \n",
    "                   X_test, \n",
    "                   y_train, \n",
    "                   y_test, \n",
    "                   model=KNeighborsClassifier(n_neighbors=6), \n",
    "                   verbose=True, \n",
    "                   get_features=True\n",
    "                  ):\n",
    "    model = model\n",
    "    model.fit(X_train, y_train)\n",
    "    y_pred = model.predict(X_test)\n",
    "    \n",
    "    \n",
    "    \n",
    "    accuracy_score_value = accuracy_score(y_test, y_pred)\n",
    "    precision_score_value = precision_score(y_test, y_pred)\n",
    "    recall_score_value = recall_score(y_test, y_pred)\n",
    "    f1_score_value = f1_score(y_test, y_pred)  \n",
    "    \n",
    "    feature_importances = None\n",
    "    if get_features:\n",
    "        try:\n",
    "            feature_importances = model.feature_importances_\n",
    "            #print(feature_importances)\n",
    "        except AttributeError:\n",
    "            pass\n",
    "    \n",
    "    if verbose:\n",
    "        #print(pd.concat([y_test,pd.Series(y_pred, index=y_test.index)], axis = 1))\n",
    "        print('Accuracy: {}\\nPrecision: {}\\nRecall: {}\\nf1: {}'.format(accuracy_score_value, \\\n",
    "                                                                       precision_score_value, \\\n",
    "                                                                       recall_score_value, \\\n",
    "                                                                       f1_score_value))\n",
    "    \n",
    "    return accuracy_score_value, precision_score_value, recall_score_value, f1_score_value, feature_importances"
   ]
  },
  {
   "cell_type": "code",
   "execution_count": 17,
   "metadata": {
    "collapsed": false
   },
   "outputs": [],
   "source": [
    "X = data_2013[x_cols]\n",
    "y = data_2013['zscores']\n",
    "\n",
    "\n",
    "X_train, X_test, y_train, y_test = train_test_split(X, y, test_size = .30, random_state=4444)"
   ]
  },
  {
   "cell_type": "code",
   "execution_count": 18,
   "metadata": {
    "collapsed": false
   },
   "outputs": [
    {
     "name": "stdout",
     "output_type": "stream",
     "text": [
      "Accuracy: 0.851063829787234\n",
      "Precision: 0.5\n",
      "Recall: 0.42857142857142855\n",
      "f1: 0.4615384615384615\n"
     ]
    },
    {
     "data": {
      "text/plain": [
       "(0.85106382978723405,\n",
       " 0.5,\n",
       " 0.42857142857142855,\n",
       " 0.46153846153846151,\n",
       " array([ 0.        ,  0.16242563,  0.08034793,  0.        ,  0.24630829,\n",
       "         0.39578849,  0.11512965]))"
      ]
     },
     "execution_count": 18,
     "metadata": {},
     "output_type": "execute_result"
    }
   ],
   "source": [
    "getScoreValues(X_train, X_test, y_train, y_test, DecisionTreeClassifier())"
   ]
  },
  {
   "cell_type": "code",
   "execution_count": 19,
   "metadata": {
    "collapsed": false
   },
   "outputs": [
    {
     "name": "stdout",
     "output_type": "stream",
     "text": [
      "Accuracy: 0.7659574468085106\n",
      "Precision: 0.3\n",
      "Recall: 0.42857142857142855\n",
      "f1: 0.3529411764705882\n"
     ]
    },
    {
     "data": {
      "text/plain": [
       "(0.76595744680851063,\n",
       " 0.29999999999999999,\n",
       " 0.42857142857142855,\n",
       " 0.3529411764705882,\n",
       " None)"
      ]
     },
     "execution_count": 19,
     "metadata": {},
     "output_type": "execute_result"
    }
   ],
   "source": [
    "getScoreValues(X_train, X_test, y_train, y_test, BernoulliNB())"
   ]
  },
  {
   "cell_type": "code",
   "execution_count": 20,
   "metadata": {
    "collapsed": false
   },
   "outputs": [
    {
     "name": "stdout",
     "output_type": "stream",
     "text": [
      "Accuracy: 0.7021276595744681\n",
      "Precision: 0.18181818181818182\n",
      "Recall: 0.2857142857142857\n",
      "f1: 0.2222222222222222\n"
     ]
    },
    {
     "data": {
      "text/plain": [
       "(0.7021276595744681,\n",
       " 0.18181818181818182,\n",
       " 0.2857142857142857,\n",
       " 0.22222222222222221,\n",
       " None)"
      ]
     },
     "execution_count": 20,
     "metadata": {},
     "output_type": "execute_result"
    }
   ],
   "source": [
    "getScoreValues(X_train, X_test, y_train, y_test, GaussianNB())"
   ]
  },
  {
   "cell_type": "code",
   "execution_count": 21,
   "metadata": {
    "collapsed": false
   },
   "outputs": [
    {
     "name": "stdout",
     "output_type": "stream",
     "text": [
      "Accuracy: 0.8297872340425532\n",
      "Precision: 0.0\n",
      "Recall: 0.0\n",
      "f1: 0.0\n"
     ]
    },
    {
     "data": {
      "text/plain": [
       "(0.82978723404255317, 0.0, 0.0, 0.0, None)"
      ]
     },
     "execution_count": 21,
     "metadata": {},
     "output_type": "execute_result"
    }
   ],
   "source": [
    "getScoreValues(X_train, X_test, y_train, y_test, model=SVC())"
   ]
  },
  {
   "cell_type": "code",
   "execution_count": 22,
   "metadata": {
    "collapsed": false
   },
   "outputs": [
    {
     "name": "stdout",
     "output_type": "stream",
     "text": [
      "Accuracy: 0.7872340425531915\n",
      "Precision: 0.0\n",
      "Recall: 0.0\n",
      "f1: 0.0\n"
     ]
    },
    {
     "data": {
      "text/plain": [
       "(0.78723404255319152,\n",
       " 0.0,\n",
       " 0.0,\n",
       " 0.0,\n",
       " array([ 0.07882321,  0.15813493,  0.04734019,  0.11204826,  0.10302255,\n",
       "         0.28134741,  0.21928345]))"
      ]
     },
     "execution_count": 22,
     "metadata": {},
     "output_type": "execute_result"
    }
   ],
   "source": [
    "getScoreValues(X_train, X_test, y_train, y_test, model=RandomForestClassifier())"
   ]
  },
  {
   "cell_type": "code",
   "execution_count": 23,
   "metadata": {
    "collapsed": true
   },
   "outputs": [],
   "source": [
    "def getROCcurve(X_train, X_test, y_train, y_test, model=KNeighborsClassifier(n_neighbors=6)):\n",
    "    model = model\n",
    "    model.fit(X_train, y_train)\n",
    "    y_scores = model.predict_proba(X_test)[:,1]\n",
    "    fpr, tpr, thresholds = roc_curve(y_test, y_scores)\n",
    "\n",
    "    auc = roc_auc_score(y_test, y_scores)\n",
    "    print('AUC: {}'.format(auc))\n",
    "    \n",
    "    fig,ax = plt.subplots()\n",
    "    ax.plot(fpr, tpr, label='ROC Curve')\n",
    "\n",
    "    fig.set_size_inches(12, 8, forward=True)\n",
    "    plt.xlabel('FPR')\n",
    "    plt.ylabel('TPR')\n",
    "    plt.title('ROC Curve')\n",
    "    plt.legend(loc='best')"
   ]
  },
  {
   "cell_type": "code",
   "execution_count": 24,
   "metadata": {
    "collapsed": false,
    "scrolled": false
   },
   "outputs": [
    {
     "name": "stdout",
     "output_type": "stream",
     "text": [
      "AUC: 0.7089285714285715\n"
     ]
    },
    {
     "data": {
      "image/png": "[encoded data removed]",
      "text/plain": [
       "<matplotlib.figure.Figure at 0x1041f6710>"
      ]
     },
     "metadata": {},
     "output_type": "display_data"
    }
   ],
   "source": [
    "getROCcurve(X_train, X_test, y_train, y_test, model=RandomForestClassifier())"
   ]
  },
  {
   "cell_type": "code",
   "execution_count": 25,
   "metadata": {
    "collapsed": true
   },
   "outputs": [],
   "source": [
    "def getScoreValuesByCV(X, y, model=KNeighborsClassifier(n_neighbors=5)):\n",
    "    \n",
    "    accuracy_score_value = np.mean(cross_val_score(model, X, y, scoring='accuracy', cv=5))\n",
    "    precision_score_value = np.mean(cross_val_score(model, X, y, scoring='precision', cv=5))\n",
    "    recall_score_value = np.mean(cross_val_score(model, X, y, scoring='recall', cv=5))\n",
    "    f1_score_value = np.mean(cross_val_score(model, X, y, scoring='f1', cv=5))\n",
    "    roc_auc_value = np.mean(cross_val_score(model, X, y, scoring='roc_auc', cv=5))\n",
    "    #roc_auc_value = 0  \n",
    "        \n",
    "    print('Accuracy: {}\\nPrecision: {}\\nRecall: {}\\nf1: {}\\nROC AUC: {}'.format(accuracy_score_value, \\\n",
    "                                                                   precision_score_value, \\\n",
    "                                                                   recall_score_value, \\\n",
    "                                                                   f1_score_value,\n",
    "                                                                   roc_auc_value))"
   ]
  },
  {
   "cell_type": "code",
   "execution_count": 26,
   "metadata": {
    "collapsed": false,
    "scrolled": false
   },
   "outputs": [
    {
     "name": "stdout",
     "output_type": "stream",
     "text": [
      "Accuracy: 0.8651209677419356\n",
      "Precision: 0.6533333333333333\n",
      "Recall: 0.42000000000000004\n",
      "f1: 0.49936507936507935\n",
      "ROC AUC: 0.7162820512820512\n"
     ]
    }
   ],
   "source": [
    "getScoreValuesByCV(X,y)"
   ]
  },
  {
   "cell_type": "code",
   "execution_count": 27,
   "metadata": {
    "collapsed": false,
    "scrolled": false
   },
   "outputs": [
    {
     "name": "stderr",
     "output_type": "stream",
     "text": [
      "/Users/kenn/anaconda/lib/python3.5/site-packages/sklearn/metrics/classification.py:1074: UndefinedMetricWarning: Precision is ill-defined and being set to 0.0 due to no predicted samples.\n",
      "  'precision', 'predicted', average, warn_for)\n",
      "/Users/kenn/anaconda/lib/python3.5/site-packages/sklearn/metrics/classification.py:1074: UndefinedMetricWarning: F-score is ill-defined and being set to 0.0 due to no predicted samples.\n",
      "  'precision', 'predicted', average, warn_for)\n"
     ]
    },
    {
     "name": "stdout",
     "output_type": "stream",
     "text": [
      "Accuracy: 0.833266129032258\n",
      "Precision: 0.43\n",
      "Recall: 0.18666666666666668\n",
      "f1: 0.20714285714285716\n",
      "ROC AUC: 0.7057692307692307\n"
     ]
    }
   ],
   "source": [
    "getScoreValuesByCV(X,y, model=RandomForestClassifier())"
   ]
  },
  {
   "cell_type": "code",
   "execution_count": 28,
   "metadata": {
    "collapsed": false
   },
   "outputs": [
    {
     "name": "stdout",
     "output_type": "stream",
     "text": [
      "Accuracy: 0.7820564516129032\n",
      "Precision: 0.3873809523809524\n",
      "Recall: 0.5066666666666667\n",
      "f1: 0.43074925074925074\n",
      "ROC AUC: 0.7051282051282051\n"
     ]
    }
   ],
   "source": [
    "getScoreValuesByCV(X,y, model=GaussianNB())"
   ]
  },
  {
   "cell_type": "code",
   "execution_count": 29,
   "metadata": {
    "collapsed": false,
    "scrolled": false
   },
   "outputs": [
    {
     "name": "stdout",
     "output_type": "stream",
     "text": [
      "Accuracy: 0.7439516129032258\n",
      "Precision: 0.275\n",
      "Recall: 0.4666666666666667\n",
      "f1: 0.285034965034965\n",
      "ROC AUC: 0.601025641025641\n"
     ]
    }
   ],
   "source": [
    "getScoreValuesByCV(X,y, model=DecisionTreeClassifier())"
   ]
  },
  {
   "cell_type": "code",
   "execution_count": 30,
   "metadata": {
    "collapsed": false,
    "scrolled": false
   },
   "outputs": [
    {
     "name": "stdout",
     "output_type": "stream",
     "text": [
      "Accuracy: 0.8268145161290323\n",
      "Precision: 0.4333333333333333\n",
      "Recall: 0.15333333333333332\n",
      "f1: 0.21428571428571427\n",
      "ROC AUC: 0.6987179487179487\n"
     ]
    },
    {
     "name": "stderr",
     "output_type": "stream",
     "text": [
      "/Users/kenn/anaconda/lib/python3.5/site-packages/sklearn/metrics/classification.py:1074: UndefinedMetricWarning: Precision is ill-defined and being set to 0.0 due to no predicted samples.\n",
      "  'precision', 'predicted', average, warn_for)\n",
      "/Users/kenn/anaconda/lib/python3.5/site-packages/sklearn/metrics/classification.py:1074: UndefinedMetricWarning: F-score is ill-defined and being set to 0.0 due to no predicted samples.\n",
      "  'precision', 'predicted', average, warn_for)\n"
     ]
    }
   ],
   "source": [
    "getScoreValuesByCV(X,y, model=LogisticRegression())"
   ]
  },
  {
   "cell_type": "markdown",
   "metadata": {},
   "source": [
    "## Over sampling"
   ]
  },
  {
   "cell_type": "code",
   "execution_count": 31,
   "metadata": {
    "collapsed": false
   },
   "outputs": [],
   "source": [
    "X = data_2013[x_cols]\n",
    "y = data_2013['zscores']\n",
    "\n",
    "X_train, X_test, y_train, y_test = train_test_split(X, y, test_size = .30, random_state=4444)"
   ]
  },
  {
   "cell_type": "code",
   "execution_count": 32,
   "metadata": {
    "collapsed": false
   },
   "outputs": [],
   "source": [
    "verbose = False\n",
    "ratio = float(y.value_counts()[0]) / float(y.value_counts()[1])\n",
    "X_train = X_train.reset_index(drop=True).as_matrix()\n",
    "y_train = y_train.reset_index(drop=True).as_matrix()\n",
    "\n",
    "smote = SMOTE(ratio=ratio, verbose=verbose)\n",
    "smox, smoy = smote.fit_transform(X_train, y_train)"
   ]
  },
  {
   "cell_type": "code",
   "execution_count": 33,
   "metadata": {
    "collapsed": false
   },
   "outputs": [],
   "source": [
    "#smox"
   ]
  },
  {
   "cell_type": "code",
   "execution_count": 34,
   "metadata": {
    "collapsed": true
   },
   "outputs": [],
   "source": [
    "X_train = pd.DataFrame(smox, columns=x_cols)\n",
    "y_train = pd.Series(smoy)"
   ]
  },
  {
   "cell_type": "code",
   "execution_count": 35,
   "metadata": {
    "collapsed": false
   },
   "outputs": [
    {
     "name": "stdout",
     "output_type": "stream",
     "text": [
      "Accuracy: 0.7446808510638298\n",
      "Precision: 0.0\n",
      "Recall: 0.0\n",
      "f1: 0.0\n"
     ]
    },
    {
     "data": {
      "text/plain": [
       "(0.74468085106382975,\n",
       " 0.0,\n",
       " 0.0,\n",
       " 0.0,\n",
       " array([ 0.10096807,  0.09414772,  0.1251282 ,  0.16846919,  0.15714579,\n",
       "         0.22377834,  0.13036268]))"
      ]
     },
     "execution_count": 35,
     "metadata": {},
     "output_type": "execute_result"
    }
   ],
   "source": [
    "getScoreValues(X_train, X_test, y_train, y_test, model=RandomForestClassifier())"
   ]
  },
  {
   "cell_type": "code",
   "execution_count": 36,
   "metadata": {
    "collapsed": false
   },
   "outputs": [
    {
     "name": "stdout",
     "output_type": "stream",
     "text": [
      "Accuracy: 0.6382978723404256\n",
      "Precision: 0.2222222222222222\n",
      "Recall: 0.5714285714285714\n",
      "f1: 0.32\n"
     ]
    },
    {
     "data": {
      "text/plain": [
       "(0.63829787234042556,\n",
       " 0.22222222222222221,\n",
       " 0.5714285714285714,\n",
       " 0.32000000000000001,\n",
       " None)"
      ]
     },
     "execution_count": 36,
     "metadata": {},
     "output_type": "execute_result"
    }
   ],
   "source": [
    "getScoreValues(X_train, X_test, y_train, y_test, model=BernoulliNB())"
   ]
  },
  {
   "cell_type": "code",
   "execution_count": 37,
   "metadata": {
    "collapsed": false
   },
   "outputs": [
    {
     "name": "stdout",
     "output_type": "stream",
     "text": [
      "Accuracy: 0.6595744680851063\n",
      "Precision: 0.2\n",
      "Recall: 0.42857142857142855\n",
      "f1: 0.27272727272727276\n"
     ]
    },
    {
     "data": {
      "text/plain": [
       "(0.65957446808510634,\n",
       " 0.20000000000000001,\n",
       " 0.42857142857142855,\n",
       " 0.27272727272727276,\n",
       " None)"
      ]
     },
     "execution_count": 37,
     "metadata": {},
     "output_type": "execute_result"
    }
   ],
   "source": [
    "getScoreValues(X_train, X_test, y_train, y_test, model=GaussianNB())"
   ]
  },
  {
   "cell_type": "code",
   "execution_count": 38,
   "metadata": {
    "collapsed": false
   },
   "outputs": [
    {
     "name": "stdout",
     "output_type": "stream",
     "text": [
      "Accuracy: 0.7659574468085106\n",
      "Precision: 0.0\n",
      "Recall: 0.0\n",
      "f1: 0.0\n"
     ]
    },
    {
     "data": {
      "text/plain": [
       "(0.76595744680851063,\n",
       " 0.0,\n",
       " 0.0,\n",
       " 0.0,\n",
       " array([ 0.14003629,  0.01791759,  0.14772695,  0.04872572,  0.12705854,\n",
       "         0.33707088,  0.18146403]))"
      ]
     },
     "execution_count": 38,
     "metadata": {},
     "output_type": "execute_result"
    }
   ],
   "source": [
    "getScoreValues(X_train, X_test, y_train, y_test, model=DecisionTreeClassifier())"
   ]
  },
  {
   "cell_type": "code",
   "execution_count": 39,
   "metadata": {
    "collapsed": false
   },
   "outputs": [
    {
     "name": "stdout",
     "output_type": "stream",
     "text": [
      "Accuracy: 0.7446808510638298\n",
      "Precision: 0.3333333333333333\n",
      "Recall: 0.7142857142857143\n",
      "f1: 0.4545454545454545\n"
     ]
    },
    {
     "data": {
      "text/plain": [
       "(0.74468085106382975,\n",
       " 0.33333333333333331,\n",
       " 0.7142857142857143,\n",
       " 0.45454545454545447,\n",
       " None)"
      ]
     },
     "execution_count": 39,
     "metadata": {},
     "output_type": "execute_result"
    }
   ],
   "source": [
    "getScoreValues(X_train, X_test, y_train, y_test)"
   ]
  },
  {
   "cell_type": "markdown",
   "metadata": {},
   "source": [
    "## Confusion Matrix"
   ]
  },
  {
   "cell_type": "code",
   "execution_count": 40,
   "metadata": {
    "collapsed": true
   },
   "outputs": [],
   "source": [
    "def plot_confusion_matrix(cm, title='Confusion matrix', cmap=plt.cm.Blues):\n",
    "    plt.imshow(cm, interpolation='nearest', cmap=cmap)\n",
    "    plt.title(title)\n",
    "    plt.colorbar()\n",
    "    tick_marks = np.arange(2)\n",
    "    plt.xticks(tick_marks, ['Not at Risk', 'At Risk'], rotation=45)\n",
    "    plt.yticks(tick_marks, ['Not at Risk', 'At Risk'])\n",
    "    plt.tight_layout()\n",
    "    plt.ylabel('True label')\n",
    "    plt.xlabel('Predicted label')"
   ]
  },
  {
   "cell_type": "markdown",
   "metadata": {},
   "source": [
    "## Cross validate with oversampling"
   ]
  },
  {
   "cell_type": "code",
   "execution_count": 41,
   "metadata": {
    "collapsed": false,
    "scrolled": true
   },
   "outputs": [],
   "source": [
    "def getCrossValScoresBySSS(local_X, \n",
    "                           local_y, \n",
    "                           n_iter=30, \n",
    "                           test_size=0.3, \n",
    "                           model=KNeighborsClassifier(n_neighbors=3),\n",
    "                           get_multi_models=False,\n",
    "                           get_models_avg=False,\n",
    "                           get_cm=False,\n",
    "                           verbose=True,\n",
    "                           get_features=True\n",
    "                          ):\n",
    "    \n",
    "    score_dict = {}\n",
    "    acc_array = []\n",
    "    prec_array = []\n",
    "    recall_array = []\n",
    "    f1_array = []\n",
    "    feature_imp_array = []\n",
    "    \n",
    "    x_cols = list(local_X.columns)\n",
    "    ratio = float(local_y.value_counts()[0]) / (.75*float(local_y.value_counts()[1]))\n",
    "    sss = StratifiedShuffleSplit(y, n_iter=n_iter, test_size=test_size)\n",
    "    \n",
    "    model_list = [\\\n",
    "                  KNeighborsClassifier(n_neighbors=3), \\\n",
    "                  LogisticRegression(), \\\n",
    "                  BernoulliNB(), \\\n",
    "                  GaussianNB(), \\\n",
    "                  RandomForestClassifier(), \\\n",
    "                  DecisionTreeClassifier() \\\n",
    "                  ]\n",
    "    \n",
    "    #Return table of scores for each model\n",
    "    if get_multi_models:\n",
    "        model_acc = []\n",
    "        model_prec = []\n",
    "        model_rec = []\n",
    "        model_f1 = []\n",
    "        for a_model in model_list:\n",
    "            acc_array = []\n",
    "            prec_array = []\n",
    "            recall_array = []\n",
    "            f1_array = []\n",
    "            for train_index, test_index in sss:\n",
    "                #print(\"TRAIN:\", train_index, \"TEST:\", test_index)\n",
    "                X_train, X_test = X.ix[train_index], X.ix[test_index]\n",
    "                y_train, y_test = y.ix[train_index], y.ix[test_index]\n",
    "\n",
    "                X_train = X_train.reset_index(drop=True).as_matrix()\n",
    "                y_train = y_train.reset_index(drop=True).as_matrix()\n",
    "\n",
    "                smote = SMOTE(ratio=ratio, verbose=False)\n",
    "                smox, smoy = smote.fit_transform(X_train, y_train)\n",
    "                X_train = pd.DataFrame(smox, columns=x_cols)\n",
    "                y_train = pd.Series(smoy)\n",
    "            \n",
    "                accuracy_score_value, precision_score_value, \\\n",
    "                recall_score_value, f1_score_value, _ = getScoreValues(X_train, \n",
    "                                                                   X_test, \n",
    "                                                                   y_train, \n",
    "                                                                   y_test, \n",
    "                                                                   model=a_model, \n",
    "                                                                   verbose=False,\n",
    "                                                                   get_features=False)\n",
    "                \n",
    "                acc_array.append(accuracy_score_value)\n",
    "                prec_array.append(precision_score_value)\n",
    "                recall_array.append(recall_score_value)\n",
    "                f1_array.append(f1_score_value)\n",
    "                \n",
    "            mean_acc = np.mean(acc_array)\n",
    "            mean_prec = np.mean(prec_array)\n",
    "            mean_recall = np.mean(recall_array)\n",
    "            mean_f1 = np.mean(f1_array)\n",
    "            \n",
    "            model_acc.append(mean_acc)\n",
    "            model_prec.append(mean_prec)\n",
    "            model_rec.append(mean_recall)\n",
    "            model_f1.append(mean_f1)\n",
    "            \n",
    "        score_dict['Accuracy'] = model_acc\n",
    "        score_dict['Precision'] = model_prec\n",
    "        score_dict['Recall'] = model_rec\n",
    "        score_dict['F1'] = model_f1\n",
    "        \n",
    "        col_names = ['Accuracy', 'Precision', 'Recall', 'F1']\n",
    "        index_func = [\\\n",
    "                  'KNeighborsClassifier(n_neighbors=3)', \\\n",
    "                  'LogisticRegression()', \\\n",
    "                  'BernoulliNB()', \\\n",
    "                  'GaussianNB()', \\\n",
    "                  'RandomForestClassifier()', \\\n",
    "                  'DecisionTreeClassifier()' \\\n",
    "                  ]\n",
    "        df = pd.DataFrame(score_dict, columns=col_names, index=index_func)\n",
    "        return df\n",
    "    \n",
    "    \n",
    "    else:\n",
    "        for train_index, test_index in sss:\n",
    "            #print(\"TRAIN:\", train_index, \"TEST:\", test_index)\n",
    "            X_train, X_test = X.ix[train_index], X.ix[test_index]\n",
    "            y_train, y_test = y.ix[train_index], y.ix[test_index]\n",
    "\n",
    "            X_train = X_train.reset_index(drop=True).as_matrix()\n",
    "            y_train = y_train.reset_index(drop=True).as_matrix()\n",
    "\n",
    "            smote = SMOTE(ratio=ratio, verbose=False)\n",
    "            smox, smoy = smote.fit_transform(X_train, y_train)\n",
    "            X_train = pd.DataFrame(smox, columns=x_cols)\n",
    "            y_train = pd.Series(smoy)\n",
    "\n",
    "            #Get scores of the average prediction of multiple models\n",
    "            if get_models_avg:\n",
    "                y_predictions = []\n",
    "\n",
    "                for a_model in model_list:\n",
    "                    temp_model = a_model\n",
    "                    model.fit(X_train, y_train)\n",
    "                    y_pred = model.predict(X_test)\n",
    "                    y_predictions.append(y_pred)\n",
    "\n",
    "                average_prediction = np.mean(y_predictions, axis=0)\n",
    "                average_prediction = [int(round(n, 0)) for n in average_prediction]\n",
    "\n",
    "                accuracy_score_value = accuracy_score(y_test, y_pred)\n",
    "                precision_score_value = precision_score(y_test, y_pred)\n",
    "                recall_score_value = recall_score(y_test, y_pred)\n",
    "                f1_score_value = f1_score(y_test, y_pred)\n",
    "\n",
    "                acc_array.append(accuracy_score_value)\n",
    "                prec_array.append(precision_score_value)\n",
    "                recall_array.append(recall_score_value)\n",
    "                f1_array.append(f1_score_value)\n",
    "\n",
    "            #Get score values for each fold\n",
    "            else:\n",
    "                accuracy_score_value, precision_score_value, \\\n",
    "                recall_score_value, f1_score_value, \\\n",
    "                feature_importances = getScoreValues(X_train, \n",
    "                                                     X_test, \n",
    "                                                     y_train,\n",
    "                                                     y_test, \n",
    "                                                     model=model, \n",
    "                                                     verbose=False,\n",
    "                                                     get_features=get_features)\n",
    "\n",
    "                if get_cm:\n",
    "                    # For getting a confusion matrix of the last model in the cross validated set\n",
    "                    temp_model = model\n",
    "                    model.fit(X_train, y_train)\n",
    "                    y_pred = model.predict(X_test)\n",
    "\n",
    "                acc_array.append(accuracy_score_value)\n",
    "                prec_array.append(precision_score_value)\n",
    "                recall_array.append(recall_score_value)\n",
    "                f1_array.append(f1_score_value)\n",
    "                feature_imp_array.append(feature_importances)\n",
    "\n",
    "        if get_cm:\n",
    "            try:\n",
    "                cm = confusion_matrix(y_test, average_prediction)\n",
    "            except:\n",
    "                cm = confusion_matrix(y_test, y_pred)\n",
    "            plt.figure()\n",
    "            plot_confusion_matrix(cm)\n",
    "\n",
    "        mean_acc = np.mean(acc_array)\n",
    "        mean_prec = np.mean(prec_array)\n",
    "        mean_recall = np.mean(recall_array)\n",
    "        mean_f1 = np.mean(f1_array)\n",
    "        try:\n",
    "            mean_feature_imp = np.mean(feature_imp_array, axis=0)\n",
    "        except TypeError:\n",
    "            mean_feature_imp = None\n",
    "            \n",
    "            \n",
    "        if verbose:\n",
    "            print('Avg Feature Importance: {}'.format(mean_feature_imp))\n",
    "            print('Accuracy: {}\\nPrecision: {}\\nRecall: {}\\nf1: {}'.format(mean_acc, \\\n",
    "                                                                           mean_prec, \\\n",
    "                                                                           mean_recall,\\\n",
    "                                                                           mean_f1))"
   ]
  },
  {
   "cell_type": "code",
   "execution_count": 42,
   "metadata": {
    "collapsed": false
   },
   "outputs": [],
   "source": [
    "X = data_2013[x_cols]\n",
    "y = data_2013['zscores']"
   ]
  },
  {
   "cell_type": "markdown",
   "metadata": {},
   "source": [
    "## Scores for various models"
   ]
  },
  {
   "cell_type": "code",
   "execution_count": 49,
   "metadata": {
    "collapsed": false,
    "scrolled": false
   },
   "outputs": [
    {
     "data": {
      "text/html": [
       "<div>\n",
       "<table border=\"1\" class=\"dataframe\">\n",
       "  <thead>\n",
       "    <tr style=\"text-align: right;\">\n",
       "      <th></th>\n",
       "      <th>Accuracy</th>\n",
       "      <th>Precision</th>\n",
       "      <th>Recall</th>\n",
       "      <th>F1</th>\n",
       "    </tr>\n",
       "  </thead>\n",
       "  <tbody>\n",
       "    <tr>\n",
       "      <th>KNeighborsClassifier(n_neighbors=3)</th>\n",
       "      <td>0.725532</td>\n",
       "      <td>0.353433</td>\n",
       "      <td>0.675000</td>\n",
       "      <td>0.457840</td>\n",
       "    </tr>\n",
       "    <tr>\n",
       "      <th>LogisticRegression()</th>\n",
       "      <td>0.568085</td>\n",
       "      <td>0.233039</td>\n",
       "      <td>0.683333</td>\n",
       "      <td>0.345692</td>\n",
       "    </tr>\n",
       "    <tr>\n",
       "      <th>BernoulliNB()</th>\n",
       "      <td>0.570922</td>\n",
       "      <td>0.227998</td>\n",
       "      <td>0.637500</td>\n",
       "      <td>0.333486</td>\n",
       "    </tr>\n",
       "    <tr>\n",
       "      <th>GaussianNB()</th>\n",
       "      <td>0.579433</td>\n",
       "      <td>0.231847</td>\n",
       "      <td>0.650000</td>\n",
       "      <td>0.339790</td>\n",
       "    </tr>\n",
       "    <tr>\n",
       "      <th>RandomForestClassifier()</th>\n",
       "      <td>0.800709</td>\n",
       "      <td>0.435111</td>\n",
       "      <td>0.404167</td>\n",
       "      <td>0.403197</td>\n",
       "    </tr>\n",
       "    <tr>\n",
       "      <th>DecisionTreeClassifier()</th>\n",
       "      <td>0.730496</td>\n",
       "      <td>0.267953</td>\n",
       "      <td>0.345833</td>\n",
       "      <td>0.296649</td>\n",
       "    </tr>\n",
       "  </tbody>\n",
       "</table>\n",
       "</div>"
      ],
      "text/plain": [
       "                                     Accuracy  Precision    Recall        F1\n",
       "KNeighborsClassifier(n_neighbors=3)  0.725532   0.353433  0.675000  0.457840\n",
       "LogisticRegression()                 0.568085   0.233039  0.683333  0.345692\n",
       "BernoulliNB()                        0.570922   0.227998  0.637500  0.333486\n",
       "GaussianNB()                         0.579433   0.231847  0.650000  0.339790\n",
       "RandomForestClassifier()             0.800709   0.435111  0.404167  0.403197\n",
       "DecisionTreeClassifier()             0.730496   0.267953  0.345833  0.296649"
      ]
     },
     "execution_count": 49,
     "metadata": {},
     "output_type": "execute_result"
    }
   ],
   "source": [
    "getCrossValScoresBySSS(X, y, get_multi_models=True)"
   ]
  },
  {
   "cell_type": "markdown",
   "metadata": {},
   "source": [
    "#### KNN various n\n"
   ]
  },
  {
   "cell_type": "code",
   "execution_count": 44,
   "metadata": {
    "collapsed": false,
    "scrolled": false
   },
   "outputs": [
    {
     "name": "stdout",
     "output_type": "stream",
     "text": [
      "n =  1\n",
      "Avg Feature Importance: None\n",
      "Accuracy: 0.7652482269503547\n",
      "Precision: 0.3857372475019535\n",
      "Recall: 0.5666666666666667\n",
      "f1: 0.45144822891222147\n",
      "\n",
      "\n",
      "n =  2\n",
      "Avg Feature Importance: None\n",
      "Accuracy: 0.7836879432624112\n",
      "Precision: 0.4097392422392423\n",
      "Recall: 0.575\n",
      "f1: 0.47215680544459654\n",
      "\n",
      "\n",
      "n =  3\n",
      "Avg Feature Importance: None\n",
      "Accuracy: 0.7113475177304964\n",
      "Precision: 0.3295670619083932\n",
      "Recall: 0.6291666666666667\n",
      "f1: 0.42610169897158534\n",
      "\n",
      "\n",
      "n =  4\n",
      "Avg Feature Importance: None\n",
      "Accuracy: 0.7404255319148937\n",
      "Precision: 0.36424975202031346\n",
      "Recall: 0.675\n",
      "f1: 0.46700984568310905\n",
      "\n",
      "\n",
      "n =  5\n",
      "Avg Feature Importance: None\n",
      "Accuracy: 0.6886524822695036\n",
      "Precision: 0.331357041126133\n",
      "Recall: 0.775\n",
      "f1: 0.4599366158111344\n",
      "\n",
      "\n",
      "n =  6\n",
      "Avg Feature Importance: None\n",
      "Accuracy: 0.7070921985815602\n",
      "Precision: 0.3427678207012573\n",
      "Recall: 0.7208333333333333\n",
      "f1: 0.4572399212441026\n",
      "\n",
      "\n",
      "n =  7\n",
      "Avg Feature Importance: None\n",
      "Accuracy: 0.6553191489361703\n",
      "Precision: 0.30614290120273435\n",
      "Recall: 0.7541666666666667\n",
      "f1: 0.4319636894982448\n",
      "\n",
      "\n"
     ]
    },
    {
     "data": {
      "image/png": "[encoded data removed]",
      "text/plain": [
       "<matplotlib.figure.Figure at 0x10cf80c88>"
      ]
     },
     "metadata": {},
     "output_type": "display_data"
    },
    {
     "data": {
      "image/png": "[encoded data removed]",
      "text/plain": [
       "<matplotlib.figure.Figure at 0x10d064630>"
      ]
     },
     "metadata": {},
     "output_type": "display_data"
    },
    {
     "data": {
      "image/png": "[encoded data removed]",
      "text/plain": [
       "<matplotlib.figure.Figure at 0x10d0ecb00>"
      ]
     },
     "metadata": {},
     "output_type": "display_data"
    },
    {
     "data": {
      "image/png": "[encoded data removed]",
      "text/plain": [
       "<matplotlib.figure.Figure at 0x10d326f60>"
      ]
     },
     "metadata": {},
     "output_type": "display_data"
    },
    {
     "data": {
      "image/png": "[encoded data removed]",
      "text/plain": [
       "<matplotlib.figure.Figure at 0x10d437d68>"
      ]
     },
     "metadata": {},
     "output_type": "display_data"
    },
    {
     "data": {
      "image/png": "[encoded data removed]",
      "text/plain": [
       "<matplotlib.figure.Figure at 0x10d573ef0>"
      ]
     },
     "metadata": {},
     "output_type": "display_data"
    },
    {
     "data": {
      "image/png": "[encoded data removed]",
      "text/plain": [
       "<matplotlib.figure.Figure at 0x10d297240>"
      ]
     },
     "metadata": {},
     "output_type": "display_data"
    }
   ],
   "source": [
    "for n in range(1,8):\n",
    "    print('n = ', n)\n",
    "    getCrossValScoresBySSS(X, y, model=KNeighborsClassifier(n_neighbors=n), get_cm=True)\n",
    "    print('\\n')"
   ]
  },
  {
   "cell_type": "markdown",
   "metadata": {},
   "source": [
    "#### Random Forest for important features"
   ]
  },
  {
   "cell_type": "code",
   "execution_count": 45,
   "metadata": {
    "collapsed": false,
    "scrolled": false
   },
   "outputs": [
    {
     "name": "stdout",
     "output_type": "stream",
     "text": [
      "Avg Feature Importance: [ 0.14163002  0.12234195  0.15202144  0.15103991  0.14836891  0.14325412\n",
      "  0.14134366]\n",
      "Accuracy: 0.8198581560283686\n",
      "Precision: 0.47037823287823294\n",
      "Recall: 0.4041666666666667\n",
      "f1: 0.42294642148357314\n"
     ]
    },
    {
     "data": {
      "image/png": "[encoded data removed]",
      "text/plain": [
       "<matplotlib.figure.Figure at 0x10d44fba8>"
      ]
     },
     "metadata": {},
     "output_type": "display_data"
    }
   ],
   "source": [
    "getCrossValScoresBySSS(X, y, model=RandomForestClassifier(), get_cm = True)"
   ]
  },
  {
   "cell_type": "markdown",
   "metadata": {},
   "source": [
    "#### DecisionTreeClassifier for important features"
   ]
  },
  {
   "cell_type": "code",
   "execution_count": 48,
   "metadata": {
    "collapsed": false
   },
   "outputs": [
    {
     "name": "stdout",
     "output_type": "stream",
     "text": [
      "Avg Feature Importance: [ 0.12265845  0.17058125  0.22776997  0.10239372  0.1660441   0.08149094\n",
      "  0.12906156]\n",
      "Accuracy: 0.7255319148936171\n",
      "Precision: 0.26392076333252806\n",
      "Recall: 0.32083333333333336\n",
      "f1: 0.27882697601825346\n"
     ]
    },
    {
     "data": {
      "image/png": "[encoded data removed]",
      "text/plain": [
       "<matplotlib.figure.Figure at 0x10e316668>"
      ]
     },
     "metadata": {},
     "output_type": "display_data"
    }
   ],
   "source": [
    "getCrossValScoresBySSS(X, y, model=DecisionTreeClassifier(), get_cm = True)"
   ]
  },
  {
   "cell_type": "markdown",
   "metadata": {
    "collapsed": true
   },
   "source": [
    "### Model averages:"
   ]
  },
  {
   "cell_type": "code",
   "execution_count": 47,
   "metadata": {
    "collapsed": false
   },
   "outputs": [
    {
     "name": "stdout",
     "output_type": "stream",
     "text": [
      "Avg Feature Importance: nan\n",
      "Accuracy: 0.7163120567375889\n",
      "Precision: 0.34351528429617684\n",
      "Recall: 0.6875\n",
      "f1: 0.4513632644852184\n"
     ]
    },
    {
     "name": "stderr",
     "output_type": "stream",
     "text": [
      "/Users/kenn/anaconda/lib/python3.5/site-packages/numpy/core/_methods.py:59: RuntimeWarning: Mean of empty slice.\n",
      "  warnings.warn(\"Mean of empty slice.\", RuntimeWarning)\n"
     ]
    }
   ],
   "source": [
    "getCrossValScoresBySSS(X, y, get_models_avg=True)"
   ]
  },
  {
   "cell_type": "code",
   "execution_count": null,
   "metadata": {
    "collapsed": true
   },
   "outputs": [],
   "source": []
  },
  {
   "cell_type": "code",
   "execution_count": null,
   "metadata": {
    "collapsed": true
   },
   "outputs": [],
   "source": []
  },
  {
   "cell_type": "code",
   "execution_count": null,
   "metadata": {
    "collapsed": true
   },
   "outputs": [],
   "source": []
  },
  {
   "cell_type": "code",
   "execution_count": null,
   "metadata": {
    "collapsed": true
   },
   "outputs": [],
   "source": []
  }
 ],
 "metadata": {
  "kernelspec": {
   "display_name": "Python 3",
   "language": "python",
   "name": "python3"
  },
  "language_info": {
   "codemirror_mode": {
    "name": "ipython",
    "version": 3
   },
   "file_extension": ".py",
   "mimetype": "text/x-python",
   "name": "python",
   "nbconvert_exporter": "python",
   "pygments_lexer": "ipython3",
   "version": "3.5.0"
  }
 },
 "nbformat": 4,
 "nbformat_minor": 0
}
