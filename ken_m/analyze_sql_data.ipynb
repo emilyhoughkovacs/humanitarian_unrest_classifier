{
 "cells": [
  {
   "cell_type": "code",
   "execution_count": 36,
   "metadata": {
    "collapsed": false
   },
   "outputs": [],
   "source": [
    "from sqlalchemy import create_engine\n",
    "import pandas as pd\n",
    "import numpy as np\n",
    "\n",
    "from sklearn.cross_validation import train_test_split, StratifiedShuffleSplit\n",
    "from sklearn.neighbors import KNeighborsClassifier\n",
    "from sklearn.metrics import (\n",
    "                            accuracy_score, \n",
    "                            precision_score, \n",
    "                            recall_score, \n",
    "                            f1_score, \n",
    "                            roc_curve, \n",
    "                            roc_auc_score, \n",
    "                            confusion_matrix\n",
    "                            )\n",
    "from sklearn.linear_model import LogisticRegression, LinearRegression\n",
    "from sklearn.naive_bayes import GaussianNB, BernoulliNB\n",
    "from sklearn.svm import SVC\n",
    "from sklearn.tree import DecisionTreeClassifier\n",
    "from sklearn.tree import DecisionTreeRegressor\n",
    "from sklearn.ensemble import RandomForestClassifier\n",
    "from sklearn.learning_curve import learning_curve\n",
    "from sklearn.cross_validation import cross_val_score\n",
    "from sklearn.metrics import confusion_matrix\n",
    "\n",
    "from unbalanced_dataset import OverSampler, SMOTE\n",
    "\n",
    "import matplotlib.pyplot as plt\n",
    "import seaborn as sns\n",
    "\n",
    "\n",
    "%matplotlib inline"
   ]
  },
  {
   "cell_type": "code",
   "execution_count": 37,
   "metadata": {
    "collapsed": true
   },
   "outputs": [],
   "source": [
    "CONFIG = {}\n",
    "\n",
    "with open('config.txt', \"r\") as in_file:\n",
    "    for line in in_file:\n",
    "        line = line.split(\":\")\n",
    "        parameter = line[0].strip()\n",
    "        value = line[1].strip()\n",
    "        CONFIG[parameter] = value\n",
    "                \n",
    "engine_path = 'postgresql://'+CONFIG['username']+':'+\\\n",
    "                CONFIG['password']+'@'+CONFIG['ip']+\\\n",
    "                ':'+CONFIG['port']+'/'+CONFIG['database']\n",
    "        \n",
    "engine = create_engine(engine_path)"
   ]
  },
  {
   "cell_type": "markdown",
   "metadata": {},
   "source": [
    "### Want something like:\n",
    "\n",
    "    SELECT\n",
    "        table4.countrycode as 'countrycode',\n",
    "        b.table1 as 'table1',\n",
    "        b.table2 as 'table2',\n",
    "        b.table3 as 'table3',\n",
    "        table4.year as 'table4'\n",
    "        (SELECT\n",
    "            table3.countrycode as 'countrycode',\n",
    "            a.table1 as 'table1',\n",
    "            a.table2 as 'table2',\n",
    "            table3.year as 'table3'\n",
    "         FROM\n",
    "            (SELECT\n",
    "                 table1.countrycode as 'countrycode',\n",
    "                 table1.year as 'table1',\n",
    "                 table2.year as 'table2'\n",
    "             FROM\n",
    "                 table1\n",
    "             JOIN\n",
    "                 table2\n",
    "               ON \n",
    "                 table1.countrycode = table2.countrycode\n",
    "             ) a\n",
    "         JOIN\n",
    "             table3\n",
    "           ON\n",
    "             a.countrycode = table3.countrycode  \n",
    "        ) b    \n",
    "    JOIN\n",
    "        table4\n",
    "      ON\n",
    "        a.countrycode = table3.countrycode \n",
    "    \n",
    "        \n",
    "       \n"
   ]
  },
  {
   "cell_type": "code",
   "execution_count": 38,
   "metadata": {
    "collapsed": false
   },
   "outputs": [],
   "source": [
    "def makeSQLQuery(table_names, year):\n",
    "    dotyyear = '.y' + str(year)\n",
    "    current_unit = 'a'\n",
    "    query = '(SELECT ' + table_names[0] + '.countrycode AS countrycode, ' + \\\n",
    "            table_names[0] + dotyyear + ' AS ' + table_names[0] + ', ' + \\\n",
    "            table_names[1] + dotyyear + ' AS ' + table_names[1] + \\\n",
    "            ' FROM ' + table_names[0] + \\\n",
    "            ' JOIN ' + table_names[1] + \\\n",
    "            ' ON ' + table_names[0] + '.countrycode=' + table_names[1] + '.countrycode) '\n",
    "    query = query + current_unit\n",
    "    \n",
    "    for table in table_names[2:]:\n",
    "        curr_index = table_names.index(table)\n",
    "        temp_list = table_names[:curr_index+1]\n",
    "        \n",
    "        pre_string = '(SELECT ' + table + '.countrycode as countrycode'\n",
    "        \n",
    "        for temp_table in temp_list[:-1]:\n",
    "            pre_string = pre_string + ', ' + current_unit + '.' + temp_table + ' AS ' + temp_table\n",
    "        \n",
    "        pre_string = pre_string + ', ' + table + dotyyear + ' AS ' + table\n",
    "        \n",
    "        query = pre_string + ' FROM ' + query + ' JOIN ' + table + \\\n",
    "                ' ON ' + current_unit + '.countrycode=' + table + '.countrycode) '\n",
    "        \n",
    "        current_unit = current_unit + 'a'\n",
    "        query = query + current_unit\n",
    "        \n",
    "    query = query.rsplit(' ', 1)[0][1:-1]\n",
    "    \n",
    "    return query\n",
    "    \n",
    "    "
   ]
  },
  {
   "cell_type": "code",
   "execution_count": 39,
   "metadata": {
    "collapsed": true
   },
   "outputs": [],
   "source": [
    "table_names = ['corruption_perception', 'life_expectancy', \\\n",
    "               'population_15_64', 'female_legislators', \\\n",
    "               'population_growth', 'under_5_mortality', \\\n",
    "                'zscores']"
   ]
  },
  {
   "cell_type": "code",
   "execution_count": 40,
   "metadata": {
    "collapsed": false,
    "scrolled": false
   },
   "outputs": [],
   "source": [
    "query = makeSQLQuery(table_names, 2013)"
   ]
  },
  {
   "cell_type": "code",
   "execution_count": 41,
   "metadata": {
    "collapsed": false,
    "scrolled": false
   },
   "outputs": [],
   "source": [
    "data_2013 = pd.read_sql_query(query, engine)"
   ]
  },
  {
   "cell_type": "code",
   "execution_count": 42,
   "metadata": {
    "collapsed": true
   },
   "outputs": [],
   "source": [
    "data_2013 = data_2013.set_index('countrycode')"
   ]
  },
  {
   "cell_type": "code",
   "execution_count": 43,
   "metadata": {
    "collapsed": false
   },
   "outputs": [],
   "source": [
    "data_2013['zscores'] = data_2013['zscores'].astype(float)"
   ]
  },
  {
   "cell_type": "code",
   "execution_count": 44,
   "metadata": {
    "collapsed": false
   },
   "outputs": [
    {
     "data": {
      "text/html": [
       "<div>\n",
       "<table border=\"1\" class=\"dataframe\">\n",
       "  <thead>\n",
       "    <tr style=\"text-align: right;\">\n",
       "      <th></th>\n",
       "      <th>corruption_perception</th>\n",
       "      <th>life_expectancy</th>\n",
       "      <th>population_15_64</th>\n",
       "      <th>female_legislators</th>\n",
       "      <th>population_growth</th>\n",
       "      <th>under_5_mortality</th>\n",
       "      <th>zscores</th>\n",
       "    </tr>\n",
       "    <tr>\n",
       "      <th>countrycode</th>\n",
       "      <th></th>\n",
       "      <th></th>\n",
       "      <th></th>\n",
       "      <th></th>\n",
       "      <th></th>\n",
       "      <th></th>\n",
       "      <th></th>\n",
       "    </tr>\n",
       "  </thead>\n",
       "  <tbody>\n",
       "    <tr>\n",
       "      <th>AFG</th>\n",
       "      <td>8</td>\n",
       "      <td>60.028268</td>\n",
       "      <td>51.920329</td>\n",
       "      <td>27.7</td>\n",
       "      <td>3.164336</td>\n",
       "      <td>96.7</td>\n",
       "      <td>6.005490</td>\n",
       "    </tr>\n",
       "    <tr>\n",
       "      <th>AGO</th>\n",
       "      <td>23</td>\n",
       "      <td>51.866171</td>\n",
       "      <td>49.673340</td>\n",
       "      <td>34.1</td>\n",
       "      <td>3.306205</td>\n",
       "      <td>167.1</td>\n",
       "      <td>-0.232733</td>\n",
       "    </tr>\n",
       "    <tr>\n",
       "      <th>ALB</th>\n",
       "      <td>31</td>\n",
       "      <td>77.537244</td>\n",
       "      <td>68.848024</td>\n",
       "      <td>17.9</td>\n",
       "      <td>-0.107730</td>\n",
       "      <td>14.9</td>\n",
       "      <td>-0.003833</td>\n",
       "    </tr>\n",
       "    <tr>\n",
       "      <th>ARE</th>\n",
       "      <td>69</td>\n",
       "      <td>77.195634</td>\n",
       "      <td>85.340053</td>\n",
       "      <td>17.5</td>\n",
       "      <td>0.971923</td>\n",
       "      <td>7.4</td>\n",
       "      <td>-0.265036</td>\n",
       "    </tr>\n",
       "    <tr>\n",
       "      <th>ARG</th>\n",
       "      <td>34</td>\n",
       "      <td>75.986098</td>\n",
       "      <td>63.834426</td>\n",
       "      <td>NaN</td>\n",
       "      <td>1.047065</td>\n",
       "      <td>13.3</td>\n",
       "      <td>-0.265098</td>\n",
       "    </tr>\n",
       "  </tbody>\n",
       "</table>\n",
       "</div>"
      ],
      "text/plain": [
       "             corruption_perception  life_expectancy  population_15_64  \\\n",
       "countrycode                                                             \n",
       "AFG                              8        60.028268         51.920329   \n",
       "AGO                             23        51.866171         49.673340   \n",
       "ALB                             31        77.537244         68.848024   \n",
       "ARE                             69        77.195634         85.340053   \n",
       "ARG                             34        75.986098         63.834426   \n",
       "\n",
       "             female_legislators  population_growth  under_5_mortality  \\\n",
       "countrycode                                                             \n",
       "AFG                        27.7           3.164336               96.7   \n",
       "AGO                        34.1           3.306205              167.1   \n",
       "ALB                        17.9          -0.107730               14.9   \n",
       "ARE                        17.5           0.971923                7.4   \n",
       "ARG                         NaN           1.047065               13.3   \n",
       "\n",
       "              zscores  \n",
       "countrycode            \n",
       "AFG          6.005490  \n",
       "AGO         -0.232733  \n",
       "ALB         -0.003833  \n",
       "ARE         -0.265036  \n",
       "ARG         -0.265098  "
      ]
     },
     "execution_count": 44,
     "metadata": {},
     "output_type": "execute_result"
    }
   ],
   "source": [
    "data_2013.head()"
   ]
  },
  {
   "cell_type": "code",
   "execution_count": 45,
   "metadata": {
    "collapsed": false,
    "scrolled": false
   },
   "outputs": [],
   "source": [
    "\n",
    "data_2013.loc[data_2013['zscores'] > 0, 'zscores'] = 1\n",
    "data_2013.loc[data_2013['zscores'] <= 0, 'zscores'] = 0\n"
   ]
  },
  {
   "cell_type": "code",
   "execution_count": 46,
   "metadata": {
    "collapsed": false
   },
   "outputs": [
    {
     "data": {
      "text/html": [
       "<div>\n",
       "<table border=\"1\" class=\"dataframe\">\n",
       "  <thead>\n",
       "    <tr style=\"text-align: right;\">\n",
       "      <th></th>\n",
       "      <th>corruption_perception</th>\n",
       "      <th>life_expectancy</th>\n",
       "      <th>population_15_64</th>\n",
       "      <th>female_legislators</th>\n",
       "      <th>population_growth</th>\n",
       "      <th>under_5_mortality</th>\n",
       "      <th>zscores</th>\n",
       "    </tr>\n",
       "    <tr>\n",
       "      <th>countrycode</th>\n",
       "      <th></th>\n",
       "      <th></th>\n",
       "      <th></th>\n",
       "      <th></th>\n",
       "      <th></th>\n",
       "      <th></th>\n",
       "      <th></th>\n",
       "    </tr>\n",
       "  </thead>\n",
       "  <tbody>\n",
       "    <tr>\n",
       "      <th>ARG</th>\n",
       "      <td>34</td>\n",
       "      <td>75.986098</td>\n",
       "      <td>63.834426</td>\n",
       "      <td>NaN</td>\n",
       "      <td>1.047065</td>\n",
       "      <td>13.3</td>\n",
       "      <td>0</td>\n",
       "    </tr>\n",
       "    <tr>\n",
       "      <th>BLZ</th>\n",
       "      <td>NaN</td>\n",
       "      <td>69.982049</td>\n",
       "      <td>62.518994</td>\n",
       "      <td>3.1</td>\n",
       "      <td>2.198943</td>\n",
       "      <td>17.5</td>\n",
       "      <td>0</td>\n",
       "    </tr>\n",
       "    <tr>\n",
       "      <th>CAF</th>\n",
       "      <td>25</td>\n",
       "      <td>49.879878</td>\n",
       "      <td>56.420965</td>\n",
       "      <td>NaN</td>\n",
       "      <td>1.954537</td>\n",
       "      <td>138.5</td>\n",
       "      <td>1</td>\n",
       "    </tr>\n",
       "    <tr>\n",
       "      <th>EGY</th>\n",
       "      <td>32</td>\n",
       "      <td>70.925780</td>\n",
       "      <td>62.240369</td>\n",
       "      <td>NaN</td>\n",
       "      <td>2.254326</td>\n",
       "      <td>25.8</td>\n",
       "      <td>0</td>\n",
       "    </tr>\n",
       "    <tr>\n",
       "      <th>FJI</th>\n",
       "      <td>NaN</td>\n",
       "      <td>69.917927</td>\n",
       "      <td>65.713066</td>\n",
       "      <td>NaN</td>\n",
       "      <td>0.721403</td>\n",
       "      <td>23.2</td>\n",
       "      <td>0</td>\n",
       "    </tr>\n",
       "    <tr>\n",
       "      <th>GIN</th>\n",
       "      <td>24</td>\n",
       "      <td>58.216488</td>\n",
       "      <td>54.003724</td>\n",
       "      <td>NaN</td>\n",
       "      <td>2.714272</td>\n",
       "      <td>100.4</td>\n",
       "      <td>0</td>\n",
       "    </tr>\n",
       "    <tr>\n",
       "      <th>GRD</th>\n",
       "      <td>NaN</td>\n",
       "      <td>73.193561</td>\n",
       "      <td>66.079961</td>\n",
       "      <td>33.3</td>\n",
       "      <td>0.403070</td>\n",
       "      <td>12.5</td>\n",
       "      <td>0</td>\n",
       "    </tr>\n",
       "    <tr>\n",
       "      <th>KIR</th>\n",
       "      <td>NaN</td>\n",
       "      <td>65.766585</td>\n",
       "      <td>61.033314</td>\n",
       "      <td>8.7</td>\n",
       "      <td>1.788451</td>\n",
       "      <td>58.9</td>\n",
       "      <td>0</td>\n",
       "    </tr>\n",
       "    <tr>\n",
       "      <th>MDV</th>\n",
       "      <td>NaN</td>\n",
       "      <td>76.602610</td>\n",
       "      <td>67.509135</td>\n",
       "      <td>6.5</td>\n",
       "      <td>2.056628</td>\n",
       "      <td>9.9</td>\n",
       "      <td>0</td>\n",
       "    </tr>\n",
       "    <tr>\n",
       "      <th>SLB</th>\n",
       "      <td>NaN</td>\n",
       "      <td>67.718927</td>\n",
       "      <td>56.518544</td>\n",
       "      <td>2.0</td>\n",
       "      <td>2.076577</td>\n",
       "      <td>29.9</td>\n",
       "      <td>0</td>\n",
       "    </tr>\n",
       "    <tr>\n",
       "      <th>TON</th>\n",
       "      <td>NaN</td>\n",
       "      <td>72.640341</td>\n",
       "      <td>56.966492</td>\n",
       "      <td>3.6</td>\n",
       "      <td>0.352536</td>\n",
       "      <td>17.3</td>\n",
       "      <td>0</td>\n",
       "    </tr>\n",
       "    <tr>\n",
       "      <th>VUT</th>\n",
       "      <td>NaN</td>\n",
       "      <td>71.669244</td>\n",
       "      <td>58.783797</td>\n",
       "      <td>0.0</td>\n",
       "      <td>2.263895</td>\n",
       "      <td>28.4</td>\n",
       "      <td>0</td>\n",
       "    </tr>\n",
       "    <tr>\n",
       "      <th>WSM</th>\n",
       "      <td>NaN</td>\n",
       "      <td>73.250390</td>\n",
       "      <td>57.108567</td>\n",
       "      <td>4.1</td>\n",
       "      <td>0.785153</td>\n",
       "      <td>18.2</td>\n",
       "      <td>0</td>\n",
       "    </tr>\n",
       "  </tbody>\n",
       "</table>\n",
       "</div>"
      ],
      "text/plain": [
       "             corruption_perception  life_expectancy  population_15_64  \\\n",
       "countrycode                                                             \n",
       "ARG                             34        75.986098         63.834426   \n",
       "BLZ                            NaN        69.982049         62.518994   \n",
       "CAF                             25        49.879878         56.420965   \n",
       "EGY                             32        70.925780         62.240369   \n",
       "FJI                            NaN        69.917927         65.713066   \n",
       "GIN                             24        58.216488         54.003724   \n",
       "GRD                            NaN        73.193561         66.079961   \n",
       "KIR                            NaN        65.766585         61.033314   \n",
       "MDV                            NaN        76.602610         67.509135   \n",
       "SLB                            NaN        67.718927         56.518544   \n",
       "TON                            NaN        72.640341         56.966492   \n",
       "VUT                            NaN        71.669244         58.783797   \n",
       "WSM                            NaN        73.250390         57.108567   \n",
       "\n",
       "             female_legislators  population_growth  under_5_mortality  zscores  \n",
       "countrycode                                                                     \n",
       "ARG                         NaN           1.047065               13.3        0  \n",
       "BLZ                         3.1           2.198943               17.5        0  \n",
       "CAF                         NaN           1.954537              138.5        1  \n",
       "EGY                         NaN           2.254326               25.8        0  \n",
       "FJI                         NaN           0.721403               23.2        0  \n",
       "GIN                         NaN           2.714272              100.4        0  \n",
       "GRD                        33.3           0.403070               12.5        0  \n",
       "KIR                         8.7           1.788451               58.9        0  \n",
       "MDV                         6.5           2.056628                9.9        0  \n",
       "SLB                         2.0           2.076577               29.9        0  \n",
       "TON                         3.6           0.352536               17.3        0  \n",
       "VUT                         0.0           2.263895               28.4        0  \n",
       "WSM                         4.1           0.785153               18.2        0  "
      ]
     },
     "execution_count": 46,
     "metadata": {},
     "output_type": "execute_result"
    }
   ],
   "source": [
    "#The rows to be dropped\n",
    "data_2013[data_2013.isnull().any(axis=1)]"
   ]
  },
  {
   "cell_type": "code",
   "execution_count": 47,
   "metadata": {
    "collapsed": true
   },
   "outputs": [],
   "source": [
    "data_2013 = data_2013.dropna()"
   ]
  },
  {
   "cell_type": "code",
   "execution_count": 48,
   "metadata": {
    "collapsed": false
   },
   "outputs": [],
   "source": [
    "def getScoreValues(X_train, \n",
    "                   X_test, \n",
    "                   y_train, \n",
    "                   y_test, \n",
    "                   model=KNeighborsClassifier(n_neighbors=6), \n",
    "                   verbose=True, \n",
    "                   get_features=True\n",
    "                  ):\n",
    "    model = model\n",
    "    model.fit(X_train, y_train)\n",
    "    y_pred = model.predict(X_test)\n",
    "    \n",
    "    \n",
    "    \n",
    "    accuracy_score_value = accuracy_score(y_test, y_pred)\n",
    "    precision_score_value = precision_score(y_test, y_pred)\n",
    "    recall_score_value = recall_score(y_test, y_pred)\n",
    "    f1_score_value = f1_score(y_test, y_pred)  \n",
    "    \n",
    "    feature_importances = None\n",
    "    if get_features:\n",
    "        try:\n",
    "            feature_importances = model.feature_importances_\n",
    "            #print(feature_importances)\n",
    "        except AttributeError:\n",
    "            pass\n",
    "    \n",
    "    if verbose:\n",
    "        #print(pd.concat([y_test,pd.Series(y_pred, index=y_test.index)], axis = 1))\n",
    "        print('Accuracy: {}\\nPrecision: {}\\nRecall: {}\\nf1: {}'.format(accuracy_score_value, \\\n",
    "                                                                       precision_score_value, \\\n",
    "                                                                       recall_score_value, \\\n",
    "                                                                       f1_score_value))\n",
    "    \n",
    "    return accuracy_score_value, precision_score_value, recall_score_value, f1_score_value, feature_importances"
   ]
  },
  {
   "cell_type": "code",
   "execution_count": 49,
   "metadata": {
    "collapsed": false
   },
   "outputs": [],
   "source": [
    "X = data_2013[['corruption_perception', 'life_expectancy', \\\n",
    "               'population_15_64', 'female_legislators', \\\n",
    "               'population_growth', 'under_5_mortality']]\n",
    "y = data_2013['zscores']\n",
    "\n",
    "\n",
    "X_train, X_test, y_train, y_test = train_test_split(X, y, test_size = .30, random_state=4444)"
   ]
  },
  {
   "cell_type": "code",
   "execution_count": 50,
   "metadata": {
    "collapsed": false
   },
   "outputs": [
    {
     "name": "stdout",
     "output_type": "stream",
     "text": [
      "Accuracy: 0.78\n",
      "Precision: 0.2727272727272727\n",
      "Recall: 0.5\n",
      "f1: 0.3529411764705882\n"
     ]
    },
    {
     "data": {
      "text/plain": [
       "(0.78000000000000003,\n",
       " 0.27272727272727271,\n",
       " 0.5,\n",
       " 0.3529411764705882,\n",
       " array([ 0.22027979,  0.07562657,  0.22252747,  0.26984418,  0.08239868,\n",
       "         0.12932331]))"
      ]
     },
     "execution_count": 50,
     "metadata": {},
     "output_type": "execute_result"
    }
   ],
   "source": [
    "getScoreValues(X_train, X_test, y_train, y_test, DecisionTreeClassifier())"
   ]
  },
  {
   "cell_type": "code",
   "execution_count": 51,
   "metadata": {
    "collapsed": false
   },
   "outputs": [
    {
     "name": "stdout",
     "output_type": "stream",
     "text": [
      "Accuracy: 0.88\n",
      "Precision: 0.0\n",
      "Recall: 0.0\n",
      "f1: 0.0\n"
     ]
    },
    {
     "name": "stderr",
     "output_type": "stream",
     "text": [
      "/Users/kenn/anaconda/lib/python3.5/site-packages/sklearn/metrics/classification.py:1074: UndefinedMetricWarning: Precision is ill-defined and being set to 0.0 due to no predicted samples.\n",
      "  'precision', 'predicted', average, warn_for)\n",
      "/Users/kenn/anaconda/lib/python3.5/site-packages/sklearn/metrics/classification.py:1074: UndefinedMetricWarning: F-score is ill-defined and being set to 0.0 due to no predicted samples.\n",
      "  'precision', 'predicted', average, warn_for)\n"
     ]
    },
    {
     "data": {
      "text/plain": [
       "(0.88, 0.0, 0.0, 0.0, None)"
      ]
     },
     "execution_count": 51,
     "metadata": {},
     "output_type": "execute_result"
    }
   ],
   "source": [
    "getScoreValues(X_train, X_test, y_train, y_test, BernoulliNB())"
   ]
  },
  {
   "cell_type": "code",
   "execution_count": 52,
   "metadata": {
    "collapsed": false
   },
   "outputs": [
    {
     "name": "stdout",
     "output_type": "stream",
     "text": [
      "Accuracy: 0.72\n",
      "Precision: 0.2777777777777778\n",
      "Recall: 0.8333333333333334\n",
      "f1: 0.4166666666666667\n"
     ]
    },
    {
     "data": {
      "text/plain": [
       "(0.71999999999999997,\n",
       " 0.27777777777777779,\n",
       " 0.83333333333333337,\n",
       " 0.41666666666666669,\n",
       " None)"
      ]
     },
     "execution_count": 52,
     "metadata": {},
     "output_type": "execute_result"
    }
   ],
   "source": [
    "getScoreValues(X_train, X_test, y_train, y_test, GaussianNB())"
   ]
  },
  {
   "cell_type": "code",
   "execution_count": 53,
   "metadata": {
    "collapsed": false
   },
   "outputs": [
    {
     "name": "stdout",
     "output_type": "stream",
     "text": [
      "Accuracy: 0.88\n",
      "Precision: 0.0\n",
      "Recall: 0.0\n",
      "f1: 0.0\n"
     ]
    },
    {
     "name": "stderr",
     "output_type": "stream",
     "text": [
      "/Users/kenn/anaconda/lib/python3.5/site-packages/sklearn/metrics/classification.py:1074: UndefinedMetricWarning: Precision is ill-defined and being set to 0.0 due to no predicted samples.\n",
      "  'precision', 'predicted', average, warn_for)\n",
      "/Users/kenn/anaconda/lib/python3.5/site-packages/sklearn/metrics/classification.py:1074: UndefinedMetricWarning: F-score is ill-defined and being set to 0.0 due to no predicted samples.\n",
      "  'precision', 'predicted', average, warn_for)\n"
     ]
    },
    {
     "data": {
      "text/plain": [
       "(0.88, 0.0, 0.0, 0.0, None)"
      ]
     },
     "execution_count": 53,
     "metadata": {},
     "output_type": "execute_result"
    }
   ],
   "source": [
    "getScoreValues(X_train, X_test, y_train, y_test, model=SVC())"
   ]
  },
  {
   "cell_type": "code",
   "execution_count": 54,
   "metadata": {
    "collapsed": false
   },
   "outputs": [
    {
     "name": "stdout",
     "output_type": "stream",
     "text": [
      "Accuracy: 0.84\n",
      "Precision: 0.25\n",
      "Recall: 0.16666666666666666\n",
      "f1: 0.2\n"
     ]
    },
    {
     "data": {
      "text/plain": [
       "(0.83999999999999997,\n",
       " 0.25,\n",
       " 0.16666666666666666,\n",
       " 0.20000000000000001,\n",
       " array([ 0.29610819,  0.10467599,  0.23702528,  0.15473531,  0.09809481,\n",
       "         0.10936042]))"
      ]
     },
     "execution_count": 54,
     "metadata": {},
     "output_type": "execute_result"
    }
   ],
   "source": [
    "getScoreValues(X_train, X_test, y_train, y_test, model=RandomForestClassifier())"
   ]
  },
  {
   "cell_type": "code",
   "execution_count": 55,
   "metadata": {
    "collapsed": true
   },
   "outputs": [],
   "source": [
    "def getROCcurve(X_train, X_test, y_train, y_test, model=KNeighborsClassifier(n_neighbors=6)):\n",
    "    model = model\n",
    "    model.fit(X_train, y_train)\n",
    "    y_scores = model.predict_proba(X_test)[:,1]\n",
    "    fpr, tpr, thresholds = roc_curve(y_test, y_scores)\n",
    "\n",
    "    auc = roc_auc_score(y_test, y_scores)\n",
    "    print('AUC: {}'.format(auc))\n",
    "    \n",
    "    fig,ax = plt.subplots()\n",
    "    ax.plot(fpr, tpr, label='ROC Curve')\n",
    "\n",
    "    fig.set_size_inches(12, 8, forward=True)\n",
    "    plt.xlabel('FPR')\n",
    "    plt.ylabel('TPR')\n",
    "    plt.title('ROC Curve')\n",
    "    plt.legend(loc='best')"
   ]
  },
  {
   "cell_type": "code",
   "execution_count": 56,
   "metadata": {
    "collapsed": false
   },
   "outputs": [
    {
     "name": "stdout",
     "output_type": "stream",
     "text": [
      "AUC: 0.7916666666666667\n"
     ]
    },
    {
     "data": {
      "image/png": "[encoded data removed]",
      "text/plain": [
       "<matplotlib.figure.Figure at 0x10d1a00b8>"
      ]
     },
     "metadata": {},
     "output_type": "display_data"
    }
   ],
   "source": [
    "getROCcurve(X_train, X_test, y_train, y_test, model=RandomForestClassifier())"
   ]
  },
  {
   "cell_type": "code",
   "execution_count": 57,
   "metadata": {
    "collapsed": true
   },
   "outputs": [],
   "source": [
    "def getScoreValuesByCV(X, y, model=KNeighborsClassifier(n_neighbors=5)):\n",
    "    \n",
    "    accuracy_score_value = np.mean(cross_val_score(model, X, y, scoring='accuracy', cv=5))\n",
    "    precision_score_value = np.mean(cross_val_score(model, X, y, scoring='precision', cv=5))\n",
    "    recall_score_value = np.mean(cross_val_score(model, X, y, scoring='recall', cv=5))\n",
    "    f1_score_value = np.mean(cross_val_score(model, X, y, scoring='f1', cv=5))\n",
    "    roc_auc_value = np.mean(cross_val_score(model, X, y, scoring='roc_auc', cv=5))\n",
    "    #roc_auc_value = 0  \n",
    "        \n",
    "    print('Accuracy: {}\\nPrecision: {}\\nRecall: {}\\nf1: {}\\nROC AUC: {}'.format(accuracy_score_value, \\\n",
    "                                                                   precision_score_value, \\\n",
    "                                                                   recall_score_value, \\\n",
    "                                                                   f1_score_value,\n",
    "                                                                   roc_auc_value))"
   ]
  },
  {
   "cell_type": "code",
   "execution_count": 58,
   "metadata": {
    "collapsed": false,
    "scrolled": false
   },
   "outputs": [
    {
     "name": "stderr",
     "output_type": "stream",
     "text": [
      "/Users/kenn/anaconda/lib/python3.5/site-packages/sklearn/metrics/classification.py:1074: UndefinedMetricWarning: Precision is ill-defined and being set to 0.0 due to no predicted samples.\n",
      "  'precision', 'predicted', average, warn_for)\n",
      "/Users/kenn/anaconda/lib/python3.5/site-packages/sklearn/metrics/classification.py:1074: UndefinedMetricWarning: Precision is ill-defined and being set to 0.0 due to no predicted samples.\n",
      "  'precision', 'predicted', average, warn_for)\n",
      "/Users/kenn/anaconda/lib/python3.5/site-packages/sklearn/metrics/classification.py:1074: UndefinedMetricWarning: F-score is ill-defined and being set to 0.0 due to no predicted samples.\n",
      "  'precision', 'predicted', average, warn_for)\n"
     ]
    },
    {
     "name": "stdout",
     "output_type": "stream",
     "text": [
      "Accuracy: 0.8354166666666668\n",
      "Precision: 0.1\n",
      "Recall: 0.04\n",
      "f1: 0.05714285714285715\n",
      "ROC AUC: 0.631031746031746\n"
     ]
    },
    {
     "name": "stderr",
     "output_type": "stream",
     "text": [
      "/Users/kenn/anaconda/lib/python3.5/site-packages/sklearn/metrics/classification.py:1074: UndefinedMetricWarning: F-score is ill-defined and being set to 0.0 due to no predicted samples.\n",
      "  'precision', 'predicted', average, warn_for)\n"
     ]
    }
   ],
   "source": [
    "getScoreValuesByCV(X,y)"
   ]
  },
  {
   "cell_type": "code",
   "execution_count": 59,
   "metadata": {
    "collapsed": false,
    "scrolled": false
   },
   "outputs": [
    {
     "name": "stderr",
     "output_type": "stream",
     "text": [
      "/Users/kenn/anaconda/lib/python3.5/site-packages/sklearn/metrics/classification.py:1074: UndefinedMetricWarning: Precision is ill-defined and being set to 0.0 due to no predicted samples.\n",
      "  'precision', 'predicted', average, warn_for)\n",
      "/Users/kenn/anaconda/lib/python3.5/site-packages/sklearn/metrics/classification.py:1074: UndefinedMetricWarning: F-score is ill-defined and being set to 0.0 due to no predicted samples.\n",
      "  'precision', 'predicted', average, warn_for)\n"
     ]
    },
    {
     "name": "stdout",
     "output_type": "stream",
     "text": [
      "Accuracy: 0.8352272727272727\n",
      "Precision: 0.21666666666666665\n",
      "Recall: 0.16\n",
      "f1: 0.26031746031746034\n",
      "ROC AUC: 0.7285449735449735\n"
     ]
    },
    {
     "name": "stderr",
     "output_type": "stream",
     "text": [
      "/Users/kenn/anaconda/lib/python3.5/site-packages/sklearn/metrics/classification.py:1074: UndefinedMetricWarning: F-score is ill-defined and being set to 0.0 due to no predicted samples.\n",
      "  'precision', 'predicted', average, warn_for)\n"
     ]
    }
   ],
   "source": [
    "getScoreValuesByCV(X,y, model=RandomForestClassifier())"
   ]
  },
  {
   "cell_type": "code",
   "execution_count": 60,
   "metadata": {
    "collapsed": false
   },
   "outputs": [
    {
     "name": "stdout",
     "output_type": "stream",
     "text": [
      "Accuracy: 0.7556818181818181\n",
      "Precision: 0.34898989898989896\n",
      "Recall: 0.44000000000000006\n",
      "f1: 0.3664085914085914\n",
      "ROC AUC: 0.6741798941798942\n"
     ]
    }
   ],
   "source": [
    "getScoreValuesByCV(X,y, model=GaussianNB())"
   ]
  },
  {
   "cell_type": "code",
   "execution_count": 61,
   "metadata": {
    "collapsed": false,
    "scrolled": false
   },
   "outputs": [
    {
     "name": "stdout",
     "output_type": "stream",
     "text": [
      "Accuracy: 0.8168560606060605\n",
      "Precision: 0.386031746031746\n",
      "Recall: 0.36\n",
      "f1: 0.4197435897435898\n",
      "ROC AUC: 0.6550529100529101\n"
     ]
    }
   ],
   "source": [
    "getScoreValuesByCV(X,y, model=DecisionTreeClassifier())"
   ]
  },
  {
   "cell_type": "code",
   "execution_count": 62,
   "metadata": {
    "collapsed": false,
    "scrolled": false
   },
   "outputs": [
    {
     "name": "stderr",
     "output_type": "stream",
     "text": [
      "/Users/kenn/anaconda/lib/python3.5/site-packages/sklearn/metrics/classification.py:1074: UndefinedMetricWarning: Precision is ill-defined and being set to 0.0 due to no predicted samples.\n",
      "  'precision', 'predicted', average, warn_for)\n",
      "/Users/kenn/anaconda/lib/python3.5/site-packages/sklearn/metrics/classification.py:1074: UndefinedMetricWarning: Precision is ill-defined and being set to 0.0 due to no predicted samples.\n",
      "  'precision', 'predicted', average, warn_for)\n",
      "/Users/kenn/anaconda/lib/python3.5/site-packages/sklearn/metrics/classification.py:1074: UndefinedMetricWarning: F-score is ill-defined and being set to 0.0 due to no predicted samples.\n",
      "  'precision', 'predicted', average, warn_for)\n",
      "/Users/kenn/anaconda/lib/python3.5/site-packages/sklearn/metrics/classification.py:1074: UndefinedMetricWarning: F-score is ill-defined and being set to 0.0 due to no predicted samples.\n",
      "  'precision', 'predicted', average, warn_for)\n"
     ]
    },
    {
     "name": "stdout",
     "output_type": "stream",
     "text": [
      "Accuracy: 0.8598484848484848\n",
      "Precision: 0.5\n",
      "Recall: 0.12000000000000002\n",
      "f1: 0.1904761904761905\n",
      "ROC AUC: 0.6934391534391534\n"
     ]
    }
   ],
   "source": [
    "getScoreValuesByCV(X,y, model=LogisticRegression())"
   ]
  },
  {
   "cell_type": "markdown",
   "metadata": {},
   "source": [
    "## Over sampling"
   ]
  },
  {
   "cell_type": "code",
   "execution_count": 63,
   "metadata": {
    "collapsed": false
   },
   "outputs": [],
   "source": [
    "x_cols = ['corruption_perception', 'life_expectancy', \\\n",
    "               'population_15_64', 'female_legislators', \\\n",
    "               'population_growth', 'under_5_mortality' ]"
   ]
  },
  {
   "cell_type": "code",
   "execution_count": 64,
   "metadata": {
    "collapsed": false
   },
   "outputs": [],
   "source": [
    "X = data_2013[x_cols]\n",
    "y = data_2013['zscores']\n",
    "\n",
    "X_train, X_test, y_train, y_test = train_test_split(X, y, test_size = .30, random_state=4444)"
   ]
  },
  {
   "cell_type": "code",
   "execution_count": 65,
   "metadata": {
    "collapsed": false
   },
   "outputs": [],
   "source": [
    "verbose = False\n",
    "ratio = float(y.value_counts()[0]) / float(y.value_counts()[1])\n",
    "X_train = X_train.reset_index(drop=True).as_matrix()\n",
    "y_train = y_train.reset_index(drop=True).as_matrix()\n",
    "\n",
    "smote = SMOTE(ratio=ratio, verbose=verbose)\n",
    "smox, smoy = smote.fit_transform(X_train, y_train)"
   ]
  },
  {
   "cell_type": "code",
   "execution_count": 66,
   "metadata": {
    "collapsed": false
   },
   "outputs": [],
   "source": [
    "#smox"
   ]
  },
  {
   "cell_type": "code",
   "execution_count": 67,
   "metadata": {
    "collapsed": true
   },
   "outputs": [],
   "source": [
    "X_train = pd.DataFrame(smox, columns=x_cols)\n",
    "y_train = pd.Series(smoy)"
   ]
  },
  {
   "cell_type": "code",
   "execution_count": 68,
   "metadata": {
    "collapsed": false
   },
   "outputs": [
    {
     "name": "stdout",
     "output_type": "stream",
     "text": [
      "Accuracy: 0.72\n",
      "Precision: 0.25\n",
      "Recall: 0.6666666666666666\n",
      "f1: 0.36363636363636365\n"
     ]
    },
    {
     "data": {
      "text/plain": [
       "(0.71999999999999997,\n",
       " 0.25,\n",
       " 0.66666666666666663,\n",
       " 0.36363636363636365,\n",
       " array([ 0.17517183,  0.21489303,  0.19711195,  0.1325766 ,  0.10057066,\n",
       "         0.17967592]))"
      ]
     },
     "execution_count": 68,
     "metadata": {},
     "output_type": "execute_result"
    }
   ],
   "source": [
    "getScoreValues(X_train, X_test, y_train, y_test, model=RandomForestClassifier())"
   ]
  },
  {
   "cell_type": "code",
   "execution_count": 69,
   "metadata": {
    "collapsed": false
   },
   "outputs": [
    {
     "name": "stdout",
     "output_type": "stream",
     "text": [
      "Accuracy: 0.14\n",
      "Precision: 0.12244897959183673\n",
      "Recall: 1.0\n",
      "f1: 0.2181818181818182\n"
     ]
    },
    {
     "data": {
      "text/plain": [
       "(0.14000000000000001, 0.12244897959183673, 1.0, 0.2181818181818182, None)"
      ]
     },
     "execution_count": 69,
     "metadata": {},
     "output_type": "execute_result"
    }
   ],
   "source": [
    "getScoreValues(X_train, X_test, y_train, y_test, model=BernoulliNB())"
   ]
  },
  {
   "cell_type": "code",
   "execution_count": 70,
   "metadata": {
    "collapsed": false
   },
   "outputs": [
    {
     "name": "stdout",
     "output_type": "stream",
     "text": [
      "Accuracy: 0.54\n",
      "Precision: 0.18518518518518517\n",
      "Recall: 0.8333333333333334\n",
      "f1: 0.303030303030303\n"
     ]
    },
    {
     "data": {
      "text/plain": [
       "(0.54000000000000004,\n",
       " 0.18518518518518517,\n",
       " 0.83333333333333337,\n",
       " 0.30303030303030298,\n",
       " None)"
      ]
     },
     "execution_count": 70,
     "metadata": {},
     "output_type": "execute_result"
    }
   ],
   "source": [
    "getScoreValues(X_train, X_test, y_train, y_test, model=GaussianNB())"
   ]
  },
  {
   "cell_type": "code",
   "execution_count": 71,
   "metadata": {
    "collapsed": false
   },
   "outputs": [
    {
     "name": "stdout",
     "output_type": "stream",
     "text": [
      "Accuracy: 0.62\n",
      "Precision: 0.21739130434782608\n",
      "Recall: 0.8333333333333334\n",
      "f1: 0.3448275862068966\n"
     ]
    },
    {
     "data": {
      "text/plain": [
       "(0.62,\n",
       " 0.21739130434782608,\n",
       " 0.83333333333333337,\n",
       " 0.34482758620689657,\n",
       " array([ 0.23535232,  0.25928139,  0.10037361,  0.21108368,  0.14566136,\n",
       "         0.04824764]))"
      ]
     },
     "execution_count": 71,
     "metadata": {},
     "output_type": "execute_result"
    }
   ],
   "source": [
    "getScoreValues(X_train, X_test, y_train, y_test, model=DecisionTreeClassifier())"
   ]
  },
  {
   "cell_type": "code",
   "execution_count": 72,
   "metadata": {
    "collapsed": false
   },
   "outputs": [
    {
     "name": "stdout",
     "output_type": "stream",
     "text": [
      "Accuracy: 0.58\n",
      "Precision: 0.17391304347826086\n",
      "Recall: 0.6666666666666666\n",
      "f1: 0.27586206896551724\n"
     ]
    },
    {
     "data": {
      "text/plain": [
       "(0.57999999999999996,\n",
       " 0.17391304347826086,\n",
       " 0.66666666666666663,\n",
       " 0.27586206896551724,\n",
       " None)"
      ]
     },
     "execution_count": 72,
     "metadata": {},
     "output_type": "execute_result"
    }
   ],
   "source": [
    "getScoreValues(X_train, X_test, y_train, y_test)"
   ]
  },
  {
   "cell_type": "markdown",
   "metadata": {},
   "source": [
    "## Confusion Matrix"
   ]
  },
  {
   "cell_type": "code",
   "execution_count": 73,
   "metadata": {
    "collapsed": true
   },
   "outputs": [],
   "source": [
    "def plot_confusion_matrix(cm, title='Confusion matrix', cmap=plt.cm.Blues):\n",
    "    plt.imshow(cm, interpolation='nearest', cmap=cmap)\n",
    "    plt.title(title)\n",
    "    plt.colorbar()\n",
    "    tick_marks = np.arange(2)\n",
    "    plt.xticks(tick_marks, ['Not at Risk', 'At Risk'], rotation=45)\n",
    "    plt.yticks(tick_marks, ['Not at Risk', 'At Risk'])\n",
    "    plt.tight_layout()\n",
    "    plt.ylabel('True label')\n",
    "    plt.xlabel('Predicted label')"
   ]
  },
  {
   "cell_type": "markdown",
   "metadata": {},
   "source": [
    "## Cross validate with oversampling"
   ]
  },
  {
   "cell_type": "code",
   "execution_count": 74,
   "metadata": {
    "collapsed": false,
    "scrolled": true
   },
   "outputs": [],
   "source": [
    "def getCrossValScoresBySSS(local_X, \n",
    "                           local_y, \n",
    "                           n_iter=30, \n",
    "                           test_size=0.3, \n",
    "                           model=KNeighborsClassifier(n_neighbors=6),\n",
    "                           get_multi_models=False,\n",
    "                           get_models_avg=False,\n",
    "                           get_cm=False,\n",
    "                           verbose=True,\n",
    "                           get_features=True\n",
    "                          ):\n",
    "    \n",
    "    score_dict = {}\n",
    "    acc_array = []\n",
    "    prec_array = []\n",
    "    recall_array = []\n",
    "    f1_array = []\n",
    "    feature_imp_array = []\n",
    "    sss = StratifiedShuffleSplit(y, n_iter=n_iter, test_size=test_size)\n",
    "    \n",
    "    model_list = [\\\n",
    "                  KNeighborsClassifier(n_neighbors=6), \\\n",
    "                  LogisticRegression(), \\\n",
    "                  GaussianNB(), \\\n",
    "                  RandomForestClassifier(), \\\n",
    "                  DecisionTreeClassifier() \\\n",
    "                  ]\n",
    "    \n",
    "    #Return table of scores for each model\n",
    "    if get_multi_models:\n",
    "        model_acc = []\n",
    "        model_prec = []\n",
    "        model_rec = []\n",
    "        model_f1 = []\n",
    "        for a_model in model_list:\n",
    "            acc_array = []\n",
    "            prec_array = []\n",
    "            recall_array = []\n",
    "            f1_array = []\n",
    "            for train_index, test_index in sss:\n",
    "                #print(\"TRAIN:\", train_index, \"TEST:\", test_index)\n",
    "                X_train, X_test = X.ix[train_index], X.ix[test_index]\n",
    "                y_train, y_test = y.ix[train_index], y.ix[test_index]\n",
    "\n",
    "                X_train = X_train.reset_index(drop=True).as_matrix()\n",
    "                y_train = y_train.reset_index(drop=True).as_matrix()\n",
    "\n",
    "                smote = SMOTE(ratio=ratio, verbose=False)\n",
    "                smox, smoy = smote.fit_transform(X_train, y_train)\n",
    "                X_train = pd.DataFrame(smox, columns=x_cols)\n",
    "                y_train = pd.Series(smoy)\n",
    "            \n",
    "                accuracy_score_value, precision_score_value, \\\n",
    "                recall_score_value, f1_score_value, _ = getScoreValues(X_train, \n",
    "                                                                   X_test, \n",
    "                                                                   y_train, \n",
    "                                                                   y_test, \n",
    "                                                                   model=a_model, \n",
    "                                                                   verbose=False,\n",
    "                                                                   get_features=False)\n",
    "                \n",
    "                acc_array.append(accuracy_score_value)\n",
    "                prec_array.append(precision_score_value)\n",
    "                recall_array.append(recall_score_value)\n",
    "                f1_array.append(f1_score_value)\n",
    "                \n",
    "            mean_acc = np.mean(acc_array)\n",
    "            mean_prec = np.mean(prec_array)\n",
    "            mean_recall = np.mean(recall_array)\n",
    "            mean_f1 = np.mean(f1_array)\n",
    "            \n",
    "            model_acc.append(mean_acc)\n",
    "            model_prec.append(mean_prec)\n",
    "            model_rec.append(mean_recall)\n",
    "            model_f1.append(mean_f1)\n",
    "            \n",
    "        score_dict['Accuracy'] = model_acc\n",
    "        score_dict['Precision'] = model_prec\n",
    "        score_dict['Recall'] = model_rec\n",
    "        score_dict['F1'] = model_f1\n",
    "        \n",
    "        col_names = ['Accuracy', 'Precision', 'Recall', 'F1']\n",
    "        index_func = [\\\n",
    "                  'KNeighborsClassifier(n_neighbors=6)', \\\n",
    "                  'LogisticRegression()', \\\n",
    "                  'GaussianNB()', \\\n",
    "                  'RandomForestClassifier()', \\\n",
    "                  'DecisionTreeClassifier()' \\\n",
    "                  ]\n",
    "        df = pd.DataFrame(score_dict, columns=col_names, index=index_func)\n",
    "        return df\n",
    "    \n",
    "    \n",
    "    else:\n",
    "        for train_index, test_index in sss:\n",
    "            #print(\"TRAIN:\", train_index, \"TEST:\", test_index)\n",
    "            X_train, X_test = X.ix[train_index], X.ix[test_index]\n",
    "            y_train, y_test = y.ix[train_index], y.ix[test_index]\n",
    "\n",
    "            X_train = X_train.reset_index(drop=True).as_matrix()\n",
    "            y_train = y_train.reset_index(drop=True).as_matrix()\n",
    "\n",
    "            smote = SMOTE(ratio=ratio, verbose=False)\n",
    "            smox, smoy = smote.fit_transform(X_train, y_train)\n",
    "            X_train = pd.DataFrame(smox, columns=x_cols)\n",
    "            y_train = pd.Series(smoy)\n",
    "\n",
    "            #Get scores of the average prediction of multiple models\n",
    "            if get_models_avg:\n",
    "                y_predictions = []\n",
    "\n",
    "                for a_model in model_list:\n",
    "                    temp_model = a_model\n",
    "                    model.fit(X_train, y_train)\n",
    "                    y_pred = model.predict(X_test)\n",
    "                    y_predictions.append(y_pred)\n",
    "\n",
    "                average_prediction = np.mean(y_predictions, axis=0)\n",
    "                average_prediction = [int(round(n, 0)) for n in average_prediction]\n",
    "\n",
    "                accuracy_score_value = accuracy_score(y_test, y_pred)\n",
    "                precision_score_value = precision_score(y_test, y_pred)\n",
    "                recall_score_value = recall_score(y_test, y_pred)\n",
    "                f1_score_value = f1_score(y_test, y_pred)\n",
    "\n",
    "                acc_array.append(accuracy_score_value)\n",
    "                prec_array.append(precision_score_value)\n",
    "                recall_array.append(recall_score_value)\n",
    "                f1_array.append(f1_score_value)\n",
    "\n",
    "            #Get score values for each fold\n",
    "            else:\n",
    "                accuracy_score_value, precision_score_value, \\\n",
    "                recall_score_value, f1_score_value, \\\n",
    "                feature_importances = getScoreValues(X_train, \n",
    "                                                     X_test, \n",
    "                                                     y_train,\n",
    "                                                     y_test, \n",
    "                                                     model=model, \n",
    "                                                     verbose=False,\n",
    "                                                     get_features=get_features)\n",
    "\n",
    "                if get_cm:\n",
    "                    # For getting a confusion matrix of the last model in the cross validated set\n",
    "                    temp_model = model\n",
    "                    model.fit(X_train, y_train)\n",
    "                    y_pred = model.predict(X_test)\n",
    "\n",
    "                acc_array.append(accuracy_score_value)\n",
    "                prec_array.append(precision_score_value)\n",
    "                recall_array.append(recall_score_value)\n",
    "                f1_array.append(f1_score_value)\n",
    "                feature_imp_array.append(feature_importances)\n",
    "\n",
    "        if get_cm:\n",
    "            cm = confusion_matrix(y_test, average_prediction)\n",
    "            plt.figure()\n",
    "            plot_confusion_matrix(cm)\n",
    "\n",
    "        mean_acc = np.mean(acc_array)\n",
    "        mean_prec = np.mean(prec_array)\n",
    "        mean_recall = np.mean(recall_array)\n",
    "        mean_f1 = np.mean(f1_array)\n",
    "        try:\n",
    "            mean_feature_imp = np.mean(feature_imp_array, axis=0)\n",
    "        except TypeError:\n",
    "            mean_feature_imp = None\n",
    "            \n",
    "            \n",
    "        if verbose:\n",
    "            print('Avg Feature Importance: {}'.format(mean_feature_imp))\n",
    "            print('Accuracy: {}\\nPrecision: {}\\nRecall: {}\\nf1: {}'.format(mean_acc, \\\n",
    "                                                                           mean_prec, \\\n",
    "                                                                           mean_recall,\\\n",
    "                                                                           mean_f1))"
   ]
  },
  {
   "cell_type": "code",
   "execution_count": 75,
   "metadata": {
    "collapsed": true
   },
   "outputs": [],
   "source": [
    "X = data_2013[x_cols]\n",
    "y = data_2013['zscores']"
   ]
  },
  {
   "cell_type": "markdown",
   "metadata": {},
   "source": [
    "## Scores for various models"
   ]
  },
  {
   "cell_type": "code",
   "execution_count": 76,
   "metadata": {
    "collapsed": false
   },
   "outputs": [
    {
     "data": {
      "text/html": [
       "<div>\n",
       "<table border=\"1\" class=\"dataframe\">\n",
       "  <thead>\n",
       "    <tr style=\"text-align: right;\">\n",
       "      <th></th>\n",
       "      <th>Accuracy</th>\n",
       "      <th>Precision</th>\n",
       "      <th>Recall</th>\n",
       "      <th>F1</th>\n",
       "    </tr>\n",
       "  </thead>\n",
       "  <tbody>\n",
       "    <tr>\n",
       "      <th>KNeighborsClassifier(n_neighbors=6)</th>\n",
       "      <td>0.629333</td>\n",
       "      <td>0.206479</td>\n",
       "      <td>0.470833</td>\n",
       "      <td>0.284929</td>\n",
       "    </tr>\n",
       "    <tr>\n",
       "      <th>LogisticRegression()</th>\n",
       "      <td>0.601333</td>\n",
       "      <td>0.217485</td>\n",
       "      <td>0.570833</td>\n",
       "      <td>0.312034</td>\n",
       "    </tr>\n",
       "    <tr>\n",
       "      <th>GaussianNB()</th>\n",
       "      <td>0.640667</td>\n",
       "      <td>0.245245</td>\n",
       "      <td>0.570833</td>\n",
       "      <td>0.338287</td>\n",
       "    </tr>\n",
       "    <tr>\n",
       "      <th>RandomForestClassifier()</th>\n",
       "      <td>0.742667</td>\n",
       "      <td>0.245007</td>\n",
       "      <td>0.283333</td>\n",
       "      <td>0.256363</td>\n",
       "    </tr>\n",
       "    <tr>\n",
       "      <th>DecisionTreeClassifier()</th>\n",
       "      <td>0.682000</td>\n",
       "      <td>0.164581</td>\n",
       "      <td>0.262500</td>\n",
       "      <td>0.198612</td>\n",
       "    </tr>\n",
       "  </tbody>\n",
       "</table>\n",
       "</div>"
      ],
      "text/plain": [
       "                                     Accuracy  Precision    Recall        F1\n",
       "KNeighborsClassifier(n_neighbors=6)  0.629333   0.206479  0.470833  0.284929\n",
       "LogisticRegression()                 0.601333   0.217485  0.570833  0.312034\n",
       "GaussianNB()                         0.640667   0.245245  0.570833  0.338287\n",
       "RandomForestClassifier()             0.742667   0.245007  0.283333  0.256363\n",
       "DecisionTreeClassifier()             0.682000   0.164581  0.262500  0.198612"
      ]
     },
     "execution_count": 76,
     "metadata": {},
     "output_type": "execute_result"
    }
   ],
   "source": [
    "getCrossValScoresBySSS(X, y, get_multi_models=True)"
   ]
  },
  {
   "cell_type": "markdown",
   "metadata": {},
   "source": [
    "#### KNN various n\n"
   ]
  },
  {
   "cell_type": "code",
   "execution_count": 77,
   "metadata": {
    "collapsed": false,
    "scrolled": false
   },
   "outputs": [
    {
     "name": "stdout",
     "output_type": "stream",
     "text": [
      "n =  1\n",
      "Avg Feature Importance: None\n",
      "Accuracy: 0.6693333333333332\n",
      "Precision: 0.2157525844754947\n",
      "Recall: 0.4\n",
      "f1: 0.27801880441257665\n",
      "\n",
      "\n",
      "n =  2\n",
      "Avg Feature Importance: None\n",
      "Accuracy: 0.7159999999999999\n",
      "Precision: 0.22203520937267066\n",
      "Recall: 0.3\n",
      "f1: 0.25220660488960395\n",
      "\n",
      "\n",
      "n =  3\n",
      "Avg Feature Importance: None\n",
      "Accuracy: 0.6266666666666667\n",
      "Precision: 0.21243280618880744\n",
      "Recall: 0.4875\n",
      "f1: 0.29271284559557054\n",
      "\n",
      "\n",
      "n =  4\n",
      "Avg Feature Importance: None\n",
      "Accuracy: 0.642\n",
      "Precision: 0.18330450681069876\n",
      "Recall: 0.3625\n",
      "f1: 0.24061461838076\n",
      "\n",
      "\n",
      "n =  5\n",
      "Avg Feature Importance: None\n",
      "Accuracy: 0.6046666666666666\n",
      "Precision: 0.204802457325823\n",
      "Recall: 0.5291666666666667\n",
      "f1: 0.2936711941363406\n",
      "\n",
      "\n",
      "n =  6\n",
      "Avg Feature Importance: None\n",
      "Accuracy: 0.6399999999999998\n",
      "Precision: 0.21510888197343306\n",
      "Recall: 0.4625\n",
      "f1: 0.2885898964575876\n",
      "\n",
      "\n",
      "n =  7\n",
      "Avg Feature Importance: None\n",
      "Accuracy: 0.5853333333333334\n",
      "Precision: 0.20155844848648485\n",
      "Recall: 0.5541666666666667\n",
      "f1: 0.29365569306948613\n",
      "\n",
      "\n"
     ]
    }
   ],
   "source": [
    "for n in range(1,8):\n",
    "    print('n = ', n)\n",
    "    getCrossValScoresBySSS(X, y, model=KNeighborsClassifier(n_neighbors=n))\n",
    "    print('\\n')"
   ]
  },
  {
   "cell_type": "markdown",
   "metadata": {},
   "source": [
    "#### Random Forest for important features"
   ]
  },
  {
   "cell_type": "code",
   "execution_count": 82,
   "metadata": {
    "collapsed": false,
    "scrolled": false
   },
   "outputs": [
    {
     "name": "stdout",
     "output_type": "stream",
     "text": [
      "Avg Feature Importance: [ 0.17530619  0.19727087  0.1658762   0.14700993  0.14313543  0.17140138]\n",
      "Accuracy: 0.7186666666666668\n",
      "Precision: 0.21700153590246465\n",
      "Recall: 0.275\n",
      "f1: 0.23203284269428207\n"
     ]
    }
   ],
   "source": [
    "getCrossValScoresBySSS(X, y, model=RandomForestClassifier())"
   ]
  },
  {
   "cell_type": "markdown",
   "metadata": {},
   "source": [
    "#### DecisionTreeClassifier for important features"
   ]
  },
  {
   "cell_type": "code",
   "execution_count": 84,
   "metadata": {
    "collapsed": false
   },
   "outputs": [
    {
     "name": "stdout",
     "output_type": "stream",
     "text": [
      "Avg Feature Importance: [ 0.17106925  0.22420251  0.19657858  0.13249339  0.14842309  0.12723318]\n",
      "Accuracy: 0.704\n",
      "Precision: 0.2386054860745263\n",
      "Recall: 0.3625\n",
      "f1: 0.28217127589310925\n"
     ]
    }
   ],
   "source": [
    "getCrossValScoresBySSS(X, y, model=DecisionTreeClassifier())"
   ]
  },
  {
   "cell_type": "markdown",
   "metadata": {
    "collapsed": true
   },
   "source": [
    "### Model averages:"
   ]
  },
  {
   "cell_type": "code",
   "execution_count": 80,
   "metadata": {
    "collapsed": false
   },
   "outputs": [
    {
     "name": "stdout",
     "output_type": "stream",
     "text": [
      "Avg Feature Importance: nan\n",
      "Accuracy: 0.6406666666666666\n",
      "Precision: 0.2009356367796266\n",
      "Recall: 0.4375\n",
      "f1: 0.27173622660632824\n"
     ]
    },
    {
     "name": "stderr",
     "output_type": "stream",
     "text": [
      "/Users/kenn/anaconda/lib/python3.5/site-packages/numpy/core/_methods.py:59: RuntimeWarning: Mean of empty slice.\n",
      "  warnings.warn(\"Mean of empty slice.\", RuntimeWarning)\n"
     ]
    }
   ],
   "source": [
    "getCrossValScoresBySSS(X, y, get_models_avg=True)"
   ]
  },
  {
   "cell_type": "code",
   "execution_count": null,
   "metadata": {
    "collapsed": true
   },
   "outputs": [],
   "source": []
  }
 ],
 "metadata": {
  "kernelspec": {
   "display_name": "Python 3",
   "language": "python",
   "name": "python3"
  }
 },
 "nbformat": 4,
 "nbformat_minor": 0
}
