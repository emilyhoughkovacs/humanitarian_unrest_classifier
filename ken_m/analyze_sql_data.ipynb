{
 "cells": [
  {
   "cell_type": "code",
   "execution_count": 63,
   "metadata": {
    "collapsed": false
   },
   "outputs": [],
   "source": [
    "from sqlalchemy import create_engine\n",
    "import pandas as pd\n",
    "import numpy as np\n",
    "\n",
    "from sklearn.cross_validation import train_test_split, StratifiedShuffleSplit\n",
    "from sklearn.neighbors import KNeighborsClassifier\n",
    "from sklearn.metrics import (\n",
    "                            accuracy_score, \n",
    "                            precision_score, \n",
    "                            recall_score, \n",
    "                            f1_score, \n",
    "                            roc_curve, \n",
    "                            roc_auc_score, \n",
    "                            confusion_matrix\n",
    "                            )\n",
    "from sklearn.linear_model import LogisticRegression, LinearRegression\n",
    "from sklearn.naive_bayes import GaussianNB, BernoulliNB\n",
    "from sklearn.svm import SVC\n",
    "from sklearn.tree import DecisionTreeClassifier\n",
    "from sklearn.tree import DecisionTreeRegressor\n",
    "from sklearn.ensemble import RandomForestClassifier\n",
    "from sklearn.learning_curve import learning_curve\n",
    "from sklearn.cross_validation import cross_val_score\n",
    "from sklearn.metrics import confusion_matrix\n",
    "\n",
    "from unbalanced_dataset import OverSampler, SMOTE\n",
    "\n",
    "import matplotlib.pyplot as plt\n",
    "import seaborn as sns\n",
    "\n",
    "\n",
    "%matplotlib inline"
   ]
  },
  {
   "cell_type": "code",
   "execution_count": 2,
   "metadata": {
    "collapsed": true
   },
   "outputs": [],
   "source": [
    "CONFIG = {}\n",
    "\n",
    "with open('config.txt', \"r\") as in_file:\n",
    "    for line in in_file:\n",
    "        line = line.split(\":\")\n",
    "        parameter = line[0].strip()\n",
    "        value = line[1].strip()\n",
    "        CONFIG[parameter] = value\n",
    "                \n",
    "engine_path = 'postgresql://'+CONFIG['username']+':'+\\\n",
    "                CONFIG['password']+'@'+CONFIG['ip']+\\\n",
    "                ':'+CONFIG['port']+'/'+CONFIG['database']\n",
    "        \n",
    "engine = create_engine(engine_path)"
   ]
  },
  {
   "cell_type": "markdown",
   "metadata": {},
   "source": [
    "### Want something like:\n",
    "\n",
    "    SELECT\n",
    "        table4.countrycode as 'countrycode',\n",
    "        b.table1 as 'table1',\n",
    "        b.table2 as 'table2',\n",
    "        b.table3 as 'table3',\n",
    "        table4.year as 'table4'\n",
    "        (SELECT\n",
    "            table3.countrycode as 'countrycode',\n",
    "            a.table1 as 'table1',\n",
    "            a.table2 as 'table2',\n",
    "            table3.year as 'table3'\n",
    "         FROM\n",
    "            (SELECT\n",
    "                 table1.countrycode as 'countrycode',\n",
    "                 table1.year as 'table1',\n",
    "                 table2.year as 'table2'\n",
    "             FROM\n",
    "                 table1\n",
    "             JOIN\n",
    "                 table2\n",
    "               ON \n",
    "                 table1.countrycode = table2.countrycode\n",
    "             ) a\n",
    "         JOIN\n",
    "             table3\n",
    "           ON\n",
    "             a.countrycode = table3.countrycode  \n",
    "        ) b    \n",
    "    JOIN\n",
    "        table4\n",
    "      ON\n",
    "        a.countrycode = table3.countrycode \n",
    "    \n",
    "        \n",
    "       \n"
   ]
  },
  {
   "cell_type": "code",
   "execution_count": 3,
   "metadata": {
    "collapsed": false
   },
   "outputs": [],
   "source": [
    "def makeSQLQuery(table_names, year):\n",
    "    dotyyear = '.y' + str(year)\n",
    "    current_unit = 'a'\n",
    "    query = '(SELECT ' + table_names[0] + '.countrycode AS countrycode, ' + \\\n",
    "            table_names[0] + dotyyear + ' AS ' + table_names[0] + ', ' + \\\n",
    "            table_names[1] + dotyyear + ' AS ' + table_names[1] + \\\n",
    "            ' FROM ' + table_names[0] + \\\n",
    "            ' JOIN ' + table_names[1] + \\\n",
    "            ' ON ' + table_names[0] + '.countrycode=' + table_names[1] + '.countrycode) '\n",
    "    query = query + current_unit\n",
    "    \n",
    "    for table in table_names[2:]:\n",
    "        curr_index = table_names.index(table)\n",
    "        temp_list = table_names[:curr_index+1]\n",
    "        \n",
    "        pre_string = '(SELECT ' + table + '.countrycode as countrycode'\n",
    "        \n",
    "        for temp_table in temp_list[:-1]:\n",
    "            pre_string = pre_string + ', ' + current_unit + '.' + temp_table + ' AS ' + temp_table\n",
    "        \n",
    "        pre_string = pre_string + ', ' + table + dotyyear + ' AS ' + table\n",
    "        \n",
    "        query = pre_string + ' FROM ' + query + ' JOIN ' + table + \\\n",
    "                ' ON ' + current_unit + '.countrycode=' + table + '.countrycode) '\n",
    "        \n",
    "        current_unit = current_unit + 'a'\n",
    "        query = query + current_unit\n",
    "        \n",
    "    query = query.rsplit(' ', 1)[0][1:-1]\n",
    "    \n",
    "    return query\n",
    "    \n",
    "    "
   ]
  },
  {
   "cell_type": "code",
   "execution_count": 4,
   "metadata": {
    "collapsed": true
   },
   "outputs": [],
   "source": [
    "table_names = ['corruption_perception', 'life_expectancy', \\\n",
    "               'population_15_64', 'population_65_up', \\\n",
    "                'zscores']"
   ]
  },
  {
   "cell_type": "code",
   "execution_count": 5,
   "metadata": {
    "collapsed": false,
    "scrolled": false
   },
   "outputs": [],
   "source": [
    "query = makeSQLQuery(table_names, 2013)"
   ]
  },
  {
   "cell_type": "code",
   "execution_count": 6,
   "metadata": {
    "collapsed": false
   },
   "outputs": [],
   "source": [
    "data_2013 = pd.read_sql_query(query, engine)"
   ]
  },
  {
   "cell_type": "code",
   "execution_count": 7,
   "metadata": {
    "collapsed": true
   },
   "outputs": [],
   "source": [
    "data_2013 = data_2013.set_index('countrycode')"
   ]
  },
  {
   "cell_type": "code",
   "execution_count": 8,
   "metadata": {
    "collapsed": false
   },
   "outputs": [],
   "source": [
    "data_2013['zscores'] = data_2013['zscores'].astype(float)"
   ]
  },
  {
   "cell_type": "code",
   "execution_count": 9,
   "metadata": {
    "collapsed": false
   },
   "outputs": [
    {
     "data": {
      "text/html": [
       "<div>\n",
       "<table border=\"1\" class=\"dataframe\">\n",
       "  <thead>\n",
       "    <tr style=\"text-align: right;\">\n",
       "      <th></th>\n",
       "      <th>corruption_perception</th>\n",
       "      <th>life_expectancy</th>\n",
       "      <th>population_15_64</th>\n",
       "      <th>population_65_up</th>\n",
       "      <th>zscores</th>\n",
       "    </tr>\n",
       "    <tr>\n",
       "      <th>countrycode</th>\n",
       "      <th></th>\n",
       "      <th></th>\n",
       "      <th></th>\n",
       "      <th></th>\n",
       "      <th></th>\n",
       "    </tr>\n",
       "  </thead>\n",
       "  <tbody>\n",
       "    <tr>\n",
       "      <th>AFG</th>\n",
       "      <td>8</td>\n",
       "      <td>60.028268</td>\n",
       "      <td>51.920329</td>\n",
       "      <td>2.394414</td>\n",
       "      <td>6.005490</td>\n",
       "    </tr>\n",
       "    <tr>\n",
       "      <th>AGO</th>\n",
       "      <td>23</td>\n",
       "      <td>51.866171</td>\n",
       "      <td>49.673340</td>\n",
       "      <td>2.314084</td>\n",
       "      <td>-0.232733</td>\n",
       "    </tr>\n",
       "    <tr>\n",
       "      <th>ALB</th>\n",
       "      <td>31</td>\n",
       "      <td>77.537244</td>\n",
       "      <td>68.848024</td>\n",
       "      <td>11.769682</td>\n",
       "      <td>-0.003833</td>\n",
       "    </tr>\n",
       "    <tr>\n",
       "      <th>ARE</th>\n",
       "      <td>69</td>\n",
       "      <td>77.195634</td>\n",
       "      <td>85.340053</td>\n",
       "      <td>0.941861</td>\n",
       "      <td>-0.265036</td>\n",
       "    </tr>\n",
       "    <tr>\n",
       "      <th>ARG</th>\n",
       "      <td>34</td>\n",
       "      <td>75.986098</td>\n",
       "      <td>63.834426</td>\n",
       "      <td>10.699832</td>\n",
       "      <td>-0.265098</td>\n",
       "    </tr>\n",
       "  </tbody>\n",
       "</table>\n",
       "</div>"
      ],
      "text/plain": [
       "             corruption_perception  life_expectancy  population_15_64  \\\n",
       "countrycode                                                             \n",
       "AFG                              8        60.028268         51.920329   \n",
       "AGO                             23        51.866171         49.673340   \n",
       "ALB                             31        77.537244         68.848024   \n",
       "ARE                             69        77.195634         85.340053   \n",
       "ARG                             34        75.986098         63.834426   \n",
       "\n",
       "             population_65_up   zscores  \n",
       "countrycode                              \n",
       "AFG                  2.394414  6.005490  \n",
       "AGO                  2.314084 -0.232733  \n",
       "ALB                 11.769682 -0.003833  \n",
       "ARE                  0.941861 -0.265036  \n",
       "ARG                 10.699832 -0.265098  "
      ]
     },
     "execution_count": 9,
     "metadata": {},
     "output_type": "execute_result"
    }
   ],
   "source": [
    "data_2013.head()"
   ]
  },
  {
   "cell_type": "code",
   "execution_count": 10,
   "metadata": {
    "collapsed": false,
    "scrolled": false
   },
   "outputs": [],
   "source": [
    "\n",
    "data_2013.loc[data_2013['zscores'] > 0, 'zscores'] = 1\n",
    "data_2013.loc[data_2013['zscores'] <= 0, 'zscores'] = 0\n"
   ]
  },
  {
   "cell_type": "code",
   "execution_count": 11,
   "metadata": {
    "collapsed": false
   },
   "outputs": [
    {
     "data": {
      "text/html": [
       "<div>\n",
       "<table border=\"1\" class=\"dataframe\">\n",
       "  <thead>\n",
       "    <tr style=\"text-align: right;\">\n",
       "      <th></th>\n",
       "      <th>corruption_perception</th>\n",
       "      <th>life_expectancy</th>\n",
       "      <th>population_15_64</th>\n",
       "      <th>population_65_up</th>\n",
       "      <th>zscores</th>\n",
       "    </tr>\n",
       "    <tr>\n",
       "      <th>countrycode</th>\n",
       "      <th></th>\n",
       "      <th></th>\n",
       "      <th></th>\n",
       "      <th></th>\n",
       "      <th></th>\n",
       "    </tr>\n",
       "  </thead>\n",
       "  <tbody>\n",
       "    <tr>\n",
       "      <th>BLZ</th>\n",
       "      <td>NaN</td>\n",
       "      <td>69.982049</td>\n",
       "      <td>62.518994</td>\n",
       "      <td>3.758938</td>\n",
       "      <td>0</td>\n",
       "    </tr>\n",
       "    <tr>\n",
       "      <th>FJI</th>\n",
       "      <td>NaN</td>\n",
       "      <td>69.917927</td>\n",
       "      <td>65.713066</td>\n",
       "      <td>5.441534</td>\n",
       "      <td>0</td>\n",
       "    </tr>\n",
       "    <tr>\n",
       "      <th>GRD</th>\n",
       "      <td>NaN</td>\n",
       "      <td>73.193561</td>\n",
       "      <td>66.079961</td>\n",
       "      <td>7.154728</td>\n",
       "      <td>0</td>\n",
       "    </tr>\n",
       "    <tr>\n",
       "      <th>KIR</th>\n",
       "      <td>NaN</td>\n",
       "      <td>65.766585</td>\n",
       "      <td>61.033314</td>\n",
       "      <td>3.610517</td>\n",
       "      <td>0</td>\n",
       "    </tr>\n",
       "    <tr>\n",
       "      <th>MAC</th>\n",
       "      <td>NaN</td>\n",
       "      <td>80.339146</td>\n",
       "      <td>79.257855</td>\n",
       "      <td>8.119094</td>\n",
       "      <td>0</td>\n",
       "    </tr>\n",
       "    <tr>\n",
       "      <th>MDV</th>\n",
       "      <td>NaN</td>\n",
       "      <td>76.602610</td>\n",
       "      <td>67.509135</td>\n",
       "      <td>4.775128</td>\n",
       "      <td>0</td>\n",
       "    </tr>\n",
       "    <tr>\n",
       "      <th>SLB</th>\n",
       "      <td>NaN</td>\n",
       "      <td>67.718927</td>\n",
       "      <td>56.518544</td>\n",
       "      <td>3.367845</td>\n",
       "      <td>0</td>\n",
       "    </tr>\n",
       "    <tr>\n",
       "      <th>TON</th>\n",
       "      <td>NaN</td>\n",
       "      <td>72.640341</td>\n",
       "      <td>56.966492</td>\n",
       "      <td>5.886493</td>\n",
       "      <td>0</td>\n",
       "    </tr>\n",
       "    <tr>\n",
       "      <th>VUT</th>\n",
       "      <td>NaN</td>\n",
       "      <td>71.669244</td>\n",
       "      <td>58.783797</td>\n",
       "      <td>4.044398</td>\n",
       "      <td>0</td>\n",
       "    </tr>\n",
       "    <tr>\n",
       "      <th>WSM</th>\n",
       "      <td>NaN</td>\n",
       "      <td>73.250390</td>\n",
       "      <td>57.108567</td>\n",
       "      <td>5.140501</td>\n",
       "      <td>0</td>\n",
       "    </tr>\n",
       "  </tbody>\n",
       "</table>\n",
       "</div>"
      ],
      "text/plain": [
       "             corruption_perception  life_expectancy  population_15_64  \\\n",
       "countrycode                                                             \n",
       "BLZ                            NaN        69.982049         62.518994   \n",
       "FJI                            NaN        69.917927         65.713066   \n",
       "GRD                            NaN        73.193561         66.079961   \n",
       "KIR                            NaN        65.766585         61.033314   \n",
       "MAC                            NaN        80.339146         79.257855   \n",
       "MDV                            NaN        76.602610         67.509135   \n",
       "SLB                            NaN        67.718927         56.518544   \n",
       "TON                            NaN        72.640341         56.966492   \n",
       "VUT                            NaN        71.669244         58.783797   \n",
       "WSM                            NaN        73.250390         57.108567   \n",
       "\n",
       "             population_65_up  zscores  \n",
       "countrycode                             \n",
       "BLZ                  3.758938        0  \n",
       "FJI                  5.441534        0  \n",
       "GRD                  7.154728        0  \n",
       "KIR                  3.610517        0  \n",
       "MAC                  8.119094        0  \n",
       "MDV                  4.775128        0  \n",
       "SLB                  3.367845        0  \n",
       "TON                  5.886493        0  \n",
       "VUT                  4.044398        0  \n",
       "WSM                  5.140501        0  "
      ]
     },
     "execution_count": 11,
     "metadata": {},
     "output_type": "execute_result"
    }
   ],
   "source": [
    "#The rows to be dropped\n",
    "data_2013[data_2013.isnull().any(axis=1)]"
   ]
  },
  {
   "cell_type": "code",
   "execution_count": 12,
   "metadata": {
    "collapsed": true
   },
   "outputs": [],
   "source": [
    "data_2013 = data_2013.dropna()"
   ]
  },
  {
   "cell_type": "code",
   "execution_count": 51,
   "metadata": {
    "collapsed": false
   },
   "outputs": [],
   "source": [
    "def getScoreValues(X_train, \n",
    "                   X_test, \n",
    "                   y_train, \n",
    "                   y_test, \n",
    "                   model=KNeighborsClassifier(n_neighbors=6), \n",
    "                   verbose=True, \n",
    "                   verbose_features=True\n",
    "                  ):\n",
    "    model = model\n",
    "    model.fit(X_train, y_train)\n",
    "    y_pred = model.predict(X_test)\n",
    "    \n",
    "    \n",
    "    \n",
    "    accuracy_score_value = accuracy_score(y_test, y_pred)\n",
    "    precision_score_value = precision_score(y_test, y_pred)\n",
    "    recall_score_value = recall_score(y_test, y_pred)\n",
    "    f1_score_value = f1_score(y_test, y_pred)  \n",
    "    \n",
    "    if verbose_features:\n",
    "        try:\n",
    "            print(model.feature_importances_)\n",
    "        except AttributeError:\n",
    "            pass\n",
    "    \n",
    "    if verbose:\n",
    "        #print(pd.concat([y_test,pd.Series(y_pred, index=y_test.index)], axis = 1))\n",
    "        print('Accuracy: {}\\nPrecision: {}\\nRecall: {}\\nf1: {}'.format(accuracy_score_value, \\\n",
    "                                                                       precision_score_value, \\\n",
    "                                                                       recall_score_value, \\\n",
    "                                                                       f1_score_value))\n",
    "    \n",
    "    return accuracy_score_value, precision_score_value, recall_score_value, f1_score_value"
   ]
  },
  {
   "cell_type": "code",
   "execution_count": 14,
   "metadata": {
    "collapsed": false
   },
   "outputs": [],
   "source": [
    "X = data_2013[['corruption_perception', 'life_expectancy', \\\n",
    "               'population_15_64', 'population_65_up']]\n",
    "y = data_2013['zscores']\n",
    "\n",
    "\n",
    "X_train, X_test, y_train, y_test = train_test_split(X, y, test_size = .30, random_state=4444)"
   ]
  },
  {
   "cell_type": "code",
   "execution_count": 15,
   "metadata": {
    "collapsed": false
   },
   "outputs": [
    {
     "name": "stdout",
     "output_type": "stream",
     "text": [
      "[ 0.38755493  0.27936795  0.20998887  0.12308825]\n",
      "Accuracy: 0.8823529411764706\n",
      "Precision: 0.3333333333333333\n",
      "Recall: 0.5\n",
      "f1: 0.4\n"
     ]
    },
    {
     "data": {
      "text/plain": [
       "(0.88235294117647056, 0.33333333333333331, 0.5, 0.40000000000000002)"
      ]
     },
     "execution_count": 15,
     "metadata": {},
     "output_type": "execute_result"
    }
   ],
   "source": [
    "getScoreValues(X_train, X_test, y_train, y_test, DecisionTreeClassifier())"
   ]
  },
  {
   "cell_type": "code",
   "execution_count": 16,
   "metadata": {
    "collapsed": false
   },
   "outputs": [
    {
     "name": "stdout",
     "output_type": "stream",
     "text": [
      "Accuracy: 0.9215686274509803\n",
      "Precision: 0.0\n",
      "Recall: 0.0\n",
      "f1: 0.0\n"
     ]
    },
    {
     "name": "stderr",
     "output_type": "stream",
     "text": [
      "/Users/kenn/anaconda/lib/python3.5/site-packages/sklearn/metrics/classification.py:1074: UndefinedMetricWarning: Precision is ill-defined and being set to 0.0 due to no predicted samples.\n",
      "  'precision', 'predicted', average, warn_for)\n",
      "/Users/kenn/anaconda/lib/python3.5/site-packages/sklearn/metrics/classification.py:1074: UndefinedMetricWarning: F-score is ill-defined and being set to 0.0 due to no predicted samples.\n",
      "  'precision', 'predicted', average, warn_for)\n"
     ]
    },
    {
     "data": {
      "text/plain": [
       "(0.92156862745098034, 0.0, 0.0, 0.0)"
      ]
     },
     "execution_count": 16,
     "metadata": {},
     "output_type": "execute_result"
    }
   ],
   "source": [
    "getScoreValues(X_train, X_test, y_train, y_test, BernoulliNB())"
   ]
  },
  {
   "cell_type": "code",
   "execution_count": 17,
   "metadata": {
    "collapsed": false
   },
   "outputs": [
    {
     "name": "stdout",
     "output_type": "stream",
     "text": [
      "Accuracy: 0.8431372549019608\n",
      "Precision: 0.25\n",
      "Recall: 0.5\n",
      "f1: 0.3333333333333333\n"
     ]
    },
    {
     "data": {
      "text/plain": [
       "(0.84313725490196079, 0.25, 0.5, 0.33333333333333331)"
      ]
     },
     "execution_count": 17,
     "metadata": {},
     "output_type": "execute_result"
    }
   ],
   "source": [
    "getScoreValues(X_train, X_test, y_train, y_test, GaussianNB())"
   ]
  },
  {
   "cell_type": "code",
   "execution_count": 18,
   "metadata": {
    "collapsed": false
   },
   "outputs": [
    {
     "name": "stdout",
     "output_type": "stream",
     "text": [
      "Accuracy: 0.9215686274509803\n",
      "Precision: 0.0\n",
      "Recall: 0.0\n",
      "f1: 0.0\n"
     ]
    },
    {
     "name": "stderr",
     "output_type": "stream",
     "text": [
      "/Users/kenn/anaconda/lib/python3.5/site-packages/sklearn/metrics/classification.py:1074: UndefinedMetricWarning: Precision is ill-defined and being set to 0.0 due to no predicted samples.\n",
      "  'precision', 'predicted', average, warn_for)\n",
      "/Users/kenn/anaconda/lib/python3.5/site-packages/sklearn/metrics/classification.py:1074: UndefinedMetricWarning: F-score is ill-defined and being set to 0.0 due to no predicted samples.\n",
      "  'precision', 'predicted', average, warn_for)\n"
     ]
    },
    {
     "data": {
      "text/plain": [
       "(0.92156862745098034, 0.0, 0.0, 0.0)"
      ]
     },
     "execution_count": 18,
     "metadata": {},
     "output_type": "execute_result"
    }
   ],
   "source": [
    "getScoreValues(X_train, X_test, y_train, y_test, model=SVC())"
   ]
  },
  {
   "cell_type": "code",
   "execution_count": 19,
   "metadata": {
    "collapsed": false
   },
   "outputs": [
    {
     "name": "stdout",
     "output_type": "stream",
     "text": [
      "[ 0.29486078  0.24970469  0.24598146  0.20945306]\n",
      "Accuracy: 0.9215686274509803\n",
      "Precision: 0.5\n",
      "Recall: 0.5\n",
      "f1: 0.5\n"
     ]
    },
    {
     "data": {
      "text/plain": [
       "(0.92156862745098034, 0.5, 0.5, 0.5)"
      ]
     },
     "execution_count": 19,
     "metadata": {},
     "output_type": "execute_result"
    }
   ],
   "source": [
    "getScoreValues(X_train, X_test, y_train, y_test, model=RandomForestClassifier())"
   ]
  },
  {
   "cell_type": "code",
   "execution_count": 20,
   "metadata": {
    "collapsed": true
   },
   "outputs": [],
   "source": [
    "def getROCcurve(X_train, X_test, y_train, y_test, model=KNeighborsClassifier(n_neighbors=6)):\n",
    "    model = model\n",
    "    model.fit(X_train, y_train)\n",
    "    y_scores = model.predict_proba(X_test)[:,1]\n",
    "    fpr, tpr, thresholds = roc_curve(y_test, y_scores)\n",
    "\n",
    "    auc = roc_auc_score(y_test, y_scores)\n",
    "    print('AUC: {}'.format(auc))\n",
    "    \n",
    "    fig,ax = plt.subplots()\n",
    "    ax.plot(fpr, tpr, label='ROC Curve')\n",
    "\n",
    "    fig.set_size_inches(12, 8, forward=True)\n",
    "    plt.xlabel('FPR')\n",
    "    plt.ylabel('TPR')\n",
    "    plt.title('ROC Curve')\n",
    "    plt.legend(loc='best')"
   ]
  },
  {
   "cell_type": "code",
   "execution_count": 21,
   "metadata": {
    "collapsed": false
   },
   "outputs": [
    {
     "name": "stdout",
     "output_type": "stream",
     "text": [
      "AUC: 0.8670212765957447\n"
     ]
    },
    {
     "data": {
      "image/png": "[encoded data removed]",
      "text/plain": [
       "<matplotlib.figure.Figure at 0x10c89dac8>"
      ]
     },
     "metadata": {},
     "output_type": "display_data"
    }
   ],
   "source": [
    "getROCcurve(X_train, X_test, y_train, y_test, model=RandomForestClassifier())"
   ]
  },
  {
   "cell_type": "code",
   "execution_count": 22,
   "metadata": {
    "collapsed": true
   },
   "outputs": [],
   "source": [
    "def getScoreValuesByCV(X, y, model=KNeighborsClassifier(n_neighbors=5)):\n",
    "    \n",
    "    accuracy_score_value = np.mean(cross_val_score(model, X, y, scoring='accuracy', cv=5))\n",
    "    precision_score_value = np.mean(cross_val_score(model, X, y, scoring='precision', cv=5))\n",
    "    recall_score_value = np.mean(cross_val_score(model, X, y, scoring='recall', cv=5))\n",
    "    f1_score_value = np.mean(cross_val_score(model, X, y, scoring='f1', cv=5))\n",
    "    roc_auc_value = np.mean(cross_val_score(model, X, y, scoring='roc_auc', cv=5))\n",
    "    #roc_auc_value = 0  \n",
    "        \n",
    "    print('Accuracy: {}\\nPrecision: {}\\nRecall: {}\\nf1: {}\\nROC AUC: {}'.format(accuracy_score_value, \\\n",
    "                                                                   precision_score_value, \\\n",
    "                                                                   recall_score_value, \\\n",
    "                                                                   f1_score_value,\n",
    "                                                                   roc_auc_value))"
   ]
  },
  {
   "cell_type": "code",
   "execution_count": 23,
   "metadata": {
    "collapsed": false,
    "scrolled": false
   },
   "outputs": [
    {
     "name": "stderr",
     "output_type": "stream",
     "text": [
      "/Users/kenn/anaconda/lib/python3.5/site-packages/sklearn/metrics/classification.py:1074: UndefinedMetricWarning: Precision is ill-defined and being set to 0.0 due to no predicted samples.\n",
      "  'precision', 'predicted', average, warn_for)\n",
      "/Users/kenn/anaconda/lib/python3.5/site-packages/sklearn/metrics/classification.py:1074: UndefinedMetricWarning: F-score is ill-defined and being set to 0.0 due to no predicted samples.\n",
      "  'precision', 'predicted', average, warn_for)\n"
     ]
    },
    {
     "name": "stdout",
     "output_type": "stream",
     "text": [
      "Accuracy: 0.8521670486376369\n",
      "Precision: 0.5\n",
      "Recall: 0.19333333333333336\n",
      "f1: 0.2666666666666667\n",
      "ROC AUC: 0.6422495894909688\n"
     ]
    }
   ],
   "source": [
    "getScoreValuesByCV(X,y)"
   ]
  },
  {
   "cell_type": "code",
   "execution_count": 24,
   "metadata": {
    "collapsed": false,
    "scrolled": false
   },
   "outputs": [
    {
     "name": "stderr",
     "output_type": "stream",
     "text": [
      "/Users/kenn/anaconda/lib/python3.5/site-packages/sklearn/metrics/classification.py:1074: UndefinedMetricWarning: Precision is ill-defined and being set to 0.0 due to no predicted samples.\n",
      "  'precision', 'predicted', average, warn_for)\n",
      "/Users/kenn/anaconda/lib/python3.5/site-packages/sklearn/metrics/classification.py:1074: UndefinedMetricWarning: F-score is ill-defined and being set to 0.0 due to no predicted samples.\n",
      "  'precision', 'predicted', average, warn_for)\n"
     ]
    },
    {
     "name": "stdout",
     "output_type": "stream",
     "text": [
      "Accuracy: 0.8407486631016043\n",
      "Precision: 0.39999999999999997\n",
      "Recall: 0.19333333333333333\n",
      "f1: 0.2442857142857143\n",
      "ROC AUC: 0.6629146141215106\n"
     ]
    }
   ],
   "source": [
    "getScoreValuesByCV(X,y, model=RandomForestClassifier())"
   ]
  },
  {
   "cell_type": "code",
   "execution_count": 25,
   "metadata": {
    "collapsed": false
   },
   "outputs": [
    {
     "name": "stdout",
     "output_type": "stream",
     "text": [
      "Accuracy: 0.7630099312452253\n",
      "Precision: 0.3437445887445888\n",
      "Recall: 0.5\n",
      "f1: 0.40230769230769237\n",
      "ROC AUC: 0.7106732348111657\n"
     ]
    }
   ],
   "source": [
    "getScoreValuesByCV(X,y, model=GaussianNB())"
   ]
  },
  {
   "cell_type": "code",
   "execution_count": 26,
   "metadata": {
    "collapsed": false,
    "scrolled": false
   },
   "outputs": [
    {
     "name": "stdout",
     "output_type": "stream",
     "text": [
      "Accuracy: 0.7985128596893303\n",
      "Precision: 0.305\n",
      "Recall: 0.34\n",
      "f1: 0.3135353535353535\n",
      "ROC AUC: 0.600623973727422\n"
     ]
    }
   ],
   "source": [
    "getScoreValuesByCV(X,y, model=DecisionTreeClassifier())"
   ]
  },
  {
   "cell_type": "code",
   "execution_count": 27,
   "metadata": {
    "collapsed": false,
    "scrolled": false
   },
   "outputs": [
    {
     "name": "stderr",
     "output_type": "stream",
     "text": [
      "/Users/kenn/anaconda/lib/python3.5/site-packages/sklearn/metrics/classification.py:1074: UndefinedMetricWarning: Precision is ill-defined and being set to 0.0 due to no predicted samples.\n",
      "  'precision', 'predicted', average, warn_for)\n",
      "/Users/kenn/anaconda/lib/python3.5/site-packages/sklearn/metrics/classification.py:1074: UndefinedMetricWarning: Precision is ill-defined and being set to 0.0 due to no predicted samples.\n",
      "  'precision', 'predicted', average, warn_for)\n",
      "/Users/kenn/anaconda/lib/python3.5/site-packages/sklearn/metrics/classification.py:1074: UndefinedMetricWarning: Precision is ill-defined and being set to 0.0 due to no predicted samples.\n",
      "  'precision', 'predicted', average, warn_for)\n",
      "/Users/kenn/anaconda/lib/python3.5/site-packages/sklearn/metrics/classification.py:1074: UndefinedMetricWarning: Precision is ill-defined and being set to 0.0 due to no predicted samples.\n",
      "  'precision', 'predicted', average, warn_for)\n",
      "/Users/kenn/anaconda/lib/python3.5/site-packages/sklearn/metrics/classification.py:1074: UndefinedMetricWarning: Precision is ill-defined and being set to 0.0 due to no predicted samples.\n",
      "  'precision', 'predicted', average, warn_for)\n",
      "/Users/kenn/anaconda/lib/python3.5/site-packages/sklearn/metrics/classification.py:1074: UndefinedMetricWarning: F-score is ill-defined and being set to 0.0 due to no predicted samples.\n",
      "  'precision', 'predicted', average, warn_for)\n",
      "/Users/kenn/anaconda/lib/python3.5/site-packages/sklearn/metrics/classification.py:1074: UndefinedMetricWarning: F-score is ill-defined and being set to 0.0 due to no predicted samples.\n",
      "  'precision', 'predicted', average, warn_for)\n",
      "/Users/kenn/anaconda/lib/python3.5/site-packages/sklearn/metrics/classification.py:1074: UndefinedMetricWarning: F-score is ill-defined and being set to 0.0 due to no predicted samples.\n",
      "  'precision', 'predicted', average, warn_for)\n"
     ]
    },
    {
     "name": "stdout",
     "output_type": "stream",
     "text": [
      "Accuracy: 0.8462846956964605\n",
      "Precision: 0.0\n",
      "Recall: 0.0\n",
      "f1: 0.0\n",
      "ROC AUC: 0.6753694581280788\n"
     ]
    },
    {
     "name": "stderr",
     "output_type": "stream",
     "text": [
      "/Users/kenn/anaconda/lib/python3.5/site-packages/sklearn/metrics/classification.py:1074: UndefinedMetricWarning: F-score is ill-defined and being set to 0.0 due to no predicted samples.\n",
      "  'precision', 'predicted', average, warn_for)\n",
      "/Users/kenn/anaconda/lib/python3.5/site-packages/sklearn/metrics/classification.py:1074: UndefinedMetricWarning: F-score is ill-defined and being set to 0.0 due to no predicted samples.\n",
      "  'precision', 'predicted', average, warn_for)\n"
     ]
    }
   ],
   "source": [
    "getScoreValuesByCV(X,y, model=LogisticRegression())"
   ]
  },
  {
   "cell_type": "markdown",
   "metadata": {},
   "source": [
    "## Over sampling"
   ]
  },
  {
   "cell_type": "code",
   "execution_count": 28,
   "metadata": {
    "collapsed": true
   },
   "outputs": [],
   "source": [
    "x_cols = ['corruption_perception', 'life_expectancy', \\\n",
    "               'population_15_64', 'population_65_up']"
   ]
  },
  {
   "cell_type": "code",
   "execution_count": 29,
   "metadata": {
    "collapsed": false
   },
   "outputs": [],
   "source": [
    "X = data_2013[x_cols]\n",
    "y = data_2013['zscores']\n",
    "\n",
    "X_train, X_test, y_train, y_test = train_test_split(X, y, test_size = .30, random_state=4444)"
   ]
  },
  {
   "cell_type": "code",
   "execution_count": 30,
   "metadata": {
    "collapsed": false
   },
   "outputs": [],
   "source": [
    "verbose = False\n",
    "ratio = float(y.value_counts()[0]) / float(y.value_counts()[1])\n",
    "X_train = X_train.reset_index(drop=True).as_matrix()\n",
    "y_train = y_train.reset_index(drop=True).as_matrix()\n",
    "\n",
    "smote = SMOTE(ratio=ratio, verbose=verbose)\n",
    "smox, smoy = smote.fit_transform(X_train, y_train)"
   ]
  },
  {
   "cell_type": "code",
   "execution_count": 31,
   "metadata": {
    "collapsed": false
   },
   "outputs": [],
   "source": [
    "#smox"
   ]
  },
  {
   "cell_type": "code",
   "execution_count": 32,
   "metadata": {
    "collapsed": true
   },
   "outputs": [],
   "source": [
    "X_train = pd.DataFrame(smox, columns=x_cols)\n",
    "y_train = pd.Series(smoy)"
   ]
  },
  {
   "cell_type": "code",
   "execution_count": 33,
   "metadata": {
    "collapsed": false
   },
   "outputs": [
    {
     "name": "stdout",
     "output_type": "stream",
     "text": [
      "[ 0.26950716  0.30894954  0.25318631  0.16835699]\n",
      "Accuracy: 0.8431372549019608\n",
      "Precision: 0.3\n",
      "Recall: 0.75\n",
      "f1: 0.4285714285714285\n"
     ]
    },
    {
     "data": {
      "text/plain": [
       "(0.84313725490196079, 0.29999999999999999, 0.75, 0.42857142857142849)"
      ]
     },
     "execution_count": 33,
     "metadata": {},
     "output_type": "execute_result"
    }
   ],
   "source": [
    "getScoreValues(X_train, X_test, y_train, y_test, model=RandomForestClassifier())"
   ]
  },
  {
   "cell_type": "code",
   "execution_count": 34,
   "metadata": {
    "collapsed": false
   },
   "outputs": [
    {
     "name": "stdout",
     "output_type": "stream",
     "text": [
      "Accuracy: 0.0784313725490196\n",
      "Precision: 0.0784313725490196\n",
      "Recall: 1.0\n",
      "f1: 0.14545454545454545\n"
     ]
    },
    {
     "data": {
      "text/plain": [
       "(0.078431372549019607, 0.078431372549019607, 1.0, 0.14545454545454545)"
      ]
     },
     "execution_count": 34,
     "metadata": {},
     "output_type": "execute_result"
    }
   ],
   "source": [
    "getScoreValues(X_train, X_test, y_train, y_test, model=BernoulliNB())"
   ]
  },
  {
   "cell_type": "code",
   "execution_count": 35,
   "metadata": {
    "collapsed": false
   },
   "outputs": [
    {
     "name": "stdout",
     "output_type": "stream",
     "text": [
      "Accuracy: 0.5686274509803921\n",
      "Precision: 0.09090909090909091\n",
      "Recall: 0.5\n",
      "f1: 0.15384615384615385\n"
     ]
    },
    {
     "data": {
      "text/plain": [
       "(0.56862745098039214, 0.090909090909090912, 0.5, 0.15384615384615385)"
      ]
     },
     "execution_count": 35,
     "metadata": {},
     "output_type": "execute_result"
    }
   ],
   "source": [
    "getScoreValues(X_train, X_test, y_train, y_test, model=GaussianNB())"
   ]
  },
  {
   "cell_type": "code",
   "execution_count": 36,
   "metadata": {
    "collapsed": false
   },
   "outputs": [
    {
     "name": "stdout",
     "output_type": "stream",
     "text": [
      "[ 0.24358454  0.30332652  0.27403072  0.17905822]\n",
      "Accuracy: 0.803921568627451\n",
      "Precision: 0.25\n",
      "Recall: 0.75\n",
      "f1: 0.375\n"
     ]
    },
    {
     "data": {
      "text/plain": [
       "(0.80392156862745101, 0.25, 0.75, 0.375)"
      ]
     },
     "execution_count": 36,
     "metadata": {},
     "output_type": "execute_result"
    }
   ],
   "source": [
    "getScoreValues(X_train, X_test, y_train, y_test, model=DecisionTreeClassifier())"
   ]
  },
  {
   "cell_type": "code",
   "execution_count": 37,
   "metadata": {
    "collapsed": false
   },
   "outputs": [
    {
     "name": "stdout",
     "output_type": "stream",
     "text": [
      "Accuracy: 0.6666666666666666\n",
      "Precision: 0.15789473684210525\n",
      "Recall: 0.75\n",
      "f1: 0.2608695652173913\n"
     ]
    },
    {
     "data": {
      "text/plain": [
       "(0.66666666666666663, 0.15789473684210525, 0.75, 0.2608695652173913)"
      ]
     },
     "execution_count": 37,
     "metadata": {},
     "output_type": "execute_result"
    }
   ],
   "source": [
    "getScoreValues(X_train, X_test, y_train, y_test)"
   ]
  },
  {
   "cell_type": "markdown",
   "metadata": {},
   "source": [
    "## Confusion Matrix"
   ]
  },
  {
   "cell_type": "code",
   "execution_count": 38,
   "metadata": {
    "collapsed": true
   },
   "outputs": [],
   "source": [
    "def plot_confusion_matrix(cm, title='Confusion matrix', cmap=plt.cm.Blues):\n",
    "    plt.imshow(cm, interpolation='nearest', cmap=cmap)\n",
    "    plt.title(title)\n",
    "    plt.colorbar()\n",
    "    tick_marks = np.arange(2)\n",
    "    plt.xticks(tick_marks, ['Not at Risk', 'At Risk'], rotation=45)\n",
    "    plt.yticks(tick_marks, ['Not at Risk', 'At Risk'])\n",
    "    plt.tight_layout()\n",
    "    plt.ylabel('True label')\n",
    "    plt.xlabel('Predicted label')"
   ]
  },
  {
   "cell_type": "markdown",
   "metadata": {},
   "source": [
    "## Cross validate with oversampling"
   ]
  },
  {
   "cell_type": "code",
   "execution_count": 83,
   "metadata": {
    "collapsed": false,
    "scrolled": true
   },
   "outputs": [],
   "source": [
    "def getCrossValScoresBySSS(local_X, \n",
    "                           local_y, \n",
    "                           n_iter=30, \n",
    "                           test_size=0.3, \n",
    "                           model=KNeighborsClassifier(n_neighbors=6),\n",
    "                           get_multi_models=False,\n",
    "                           get_models_avg=False,\n",
    "                           get_cm=False,\n",
    "                           verbose=True,\n",
    "                           verbose_features=True\n",
    "                          ):\n",
    "    \n",
    "    score_dict = {}\n",
    "    acc_array = []\n",
    "    prec_array = []\n",
    "    recall_array = []\n",
    "    f1_array = []\n",
    "    sss = StratifiedShuffleSplit(y, n_iter=n_iter, test_size=test_size)\n",
    "    \n",
    "    model_list = [\\\n",
    "                  KNeighborsClassifier(n_neighbors=6), \\\n",
    "                  LogisticRegression(), \\\n",
    "                  GaussianNB(), \\\n",
    "                  RandomForestClassifier(), \\\n",
    "                  DecisionTreeClassifier() \\\n",
    "                  ]\n",
    "    \n",
    "    #Return table of scores for each model\n",
    "    if get_multi_models:\n",
    "        model_acc = []\n",
    "        model_prec = []\n",
    "        model_rec = []\n",
    "        model_f1 = []\n",
    "        for a_model in model_list:\n",
    "            acc_array = []\n",
    "            prec_array = []\n",
    "            recall_array = []\n",
    "            f1_array = []\n",
    "            for train_index, test_index in sss:\n",
    "                #print(\"TRAIN:\", train_index, \"TEST:\", test_index)\n",
    "                X_train, X_test = X.ix[train_index], X.ix[test_index]\n",
    "                y_train, y_test = y.ix[train_index], y.ix[test_index]\n",
    "\n",
    "                X_train = X_train.reset_index(drop=True).as_matrix()\n",
    "                y_train = y_train.reset_index(drop=True).as_matrix()\n",
    "\n",
    "                smote = SMOTE(ratio=ratio, verbose=False)\n",
    "                smox, smoy = smote.fit_transform(X_train, y_train)\n",
    "                X_train = pd.DataFrame(smox, columns=x_cols)\n",
    "                y_train = pd.Series(smoy)\n",
    "            \n",
    "                accuracy_score_value, precision_score_value, \\\n",
    "                recall_score_value, f1_score_value = getScoreValues(X_train, \n",
    "                                                                   X_test, \n",
    "                                                                   y_train, \n",
    "                                                                   y_test, \n",
    "                                                                   model=a_model, \n",
    "                                                                   verbose=False,\n",
    "                                                                   verbose_features=False)\n",
    "                \n",
    "                acc_array.append(accuracy_score_value)\n",
    "                prec_array.append(precision_score_value)\n",
    "                recall_array.append(recall_score_value)\n",
    "                f1_array.append(f1_score_value)\n",
    "                \n",
    "            mean_acc = np.mean(acc_array)\n",
    "            mean_prec = np.mean(prec_array)\n",
    "            mean_recall = np.mean(recall_array)\n",
    "            mean_f1 = np.mean(f1_array)\n",
    "            \n",
    "            model_acc.append(mean_acc)\n",
    "            model_prec.append(mean_prec)\n",
    "            model_rec.append(mean_recall)\n",
    "            model_f1.append(mean_f1)\n",
    "            \n",
    "        score_dict['Accuracy'] = model_acc\n",
    "        score_dict['Precision'] = model_prec\n",
    "        score_dict['Recall'] = model_rec\n",
    "        score_dict['F1'] = model_f1\n",
    "        \n",
    "        col_names = ['Accuracy', 'Precision', 'Recall', 'F1']\n",
    "        index_func = [\\\n",
    "                  'KNeighborsClassifier(n_neighbors=6)', \\\n",
    "                  'LogisticRegression()', \\\n",
    "                  'GaussianNB()', \\\n",
    "                  'RandomForestClassifier()', \\\n",
    "                  'DecisionTreeClassifier()' \\\n",
    "                  ]\n",
    "        df = pd.DataFrame(score_dict, columns=col_names, index=index_func)\n",
    "        return df\n",
    "    \n",
    "    \n",
    "    else:\n",
    "        for train_index, test_index in sss:\n",
    "            #print(\"TRAIN:\", train_index, \"TEST:\", test_index)\n",
    "            X_train, X_test = X.ix[train_index], X.ix[test_index]\n",
    "            y_train, y_test = y.ix[train_index], y.ix[test_index]\n",
    "\n",
    "            X_train = X_train.reset_index(drop=True).as_matrix()\n",
    "            y_train = y_train.reset_index(drop=True).as_matrix()\n",
    "\n",
    "            smote = SMOTE(ratio=ratio, verbose=False)\n",
    "            smox, smoy = smote.fit_transform(X_train, y_train)\n",
    "            X_train = pd.DataFrame(smox, columns=x_cols)\n",
    "            y_train = pd.Series(smoy)\n",
    "\n",
    "            #Get scores of the average prediction of multiple models\n",
    "            if get_models_avg:\n",
    "                y_predictions = []\n",
    "\n",
    "                for a_model in model_list:\n",
    "                    temp_model = a_model\n",
    "                    model.fit(X_train, y_train)\n",
    "                    y_pred = model.predict(X_test)\n",
    "                    y_predictions.append(y_pred)\n",
    "\n",
    "                average_prediction = np.mean(y_predictions, axis=0)\n",
    "                average_prediction = [int(round(n, 0)) for n in average_prediction]\n",
    "\n",
    "                accuracy_score_value = accuracy_score(y_test, y_pred)\n",
    "                precision_score_value = precision_score(y_test, y_pred)\n",
    "                recall_score_value = recall_score(y_test, y_pred)\n",
    "                f1_score_value = f1_score(y_test, y_pred)\n",
    "\n",
    "                acc_array.append(accuracy_score_value)\n",
    "                prec_array.append(precision_score_value)\n",
    "                recall_array.append(recall_score_value)\n",
    "                f1_array.append(f1_score_value)\n",
    "\n",
    "            #Get score values for each fold\n",
    "            else:\n",
    "                accuracy_score_value, precision_score_value, \\\n",
    "                recall_score_value, f1_score_value = getScoreValues(X_train, \n",
    "                                                                   X_test, \n",
    "                                                                   y_train, \n",
    "                                                                   y_test, \n",
    "                                                                   model=model, \n",
    "                                                                   verbose=False,\n",
    "                                                                   verbose_features=verbose_features)\n",
    "\n",
    "                if get_cm:\n",
    "                    # For getting a confusion matrix of the last model in the cross validated set\n",
    "                    temp_model = model\n",
    "                    model.fit(X_train, y_train)\n",
    "                    y_pred = model.predict(X_test)\n",
    "\n",
    "                acc_array.append(accuracy_score_value)\n",
    "                prec_array.append(precision_score_value)\n",
    "                recall_array.append(recall_score_value)\n",
    "                f1_array.append(f1_score_value)\n",
    "\n",
    "        if get_cm:\n",
    "            cm = confusion_matrix(y_test, average_prediction)\n",
    "            plt.figure()\n",
    "            plot_confusion_matrix(cm)\n",
    "\n",
    "        mean_acc = np.mean(acc_array)\n",
    "        mean_prec = np.mean(prec_array)\n",
    "        mean_recall = np.mean(recall_array)\n",
    "        mean_f1 = np.mean(f1_array)\n",
    "\n",
    "        if verbose:\n",
    "            print('Accuracy: {}\\nPrecision: {}\\nRecall: {}\\nf1: {}'.format(mean_acc, \\\n",
    "                                                                           mean_prec, \\\n",
    "                                                                           mean_recall,\\\n",
    "                                                                           mean_f1))"
   ]
  },
  {
   "cell_type": "code",
   "execution_count": 84,
   "metadata": {
    "collapsed": true
   },
   "outputs": [],
   "source": [
    "X = data_2013[x_cols]\n",
    "y = data_2013['zscores']"
   ]
  },
  {
   "cell_type": "markdown",
   "metadata": {},
   "source": [
    "## Scores for various models"
   ]
  },
  {
   "cell_type": "code",
   "execution_count": 85,
   "metadata": {
    "collapsed": false
   },
   "outputs": [
    {
     "data": {
      "text/html": [
       "<div>\n",
       "<table border=\"1\" class=\"dataframe\">\n",
       "  <thead>\n",
       "    <tr style=\"text-align: right;\">\n",
       "      <th></th>\n",
       "      <th>Accuracy</th>\n",
       "      <th>Precision</th>\n",
       "      <th>Recall</th>\n",
       "      <th>F1</th>\n",
       "    </tr>\n",
       "  </thead>\n",
       "  <tbody>\n",
       "    <tr>\n",
       "      <th>KNeighborsClassifier(n_neighbors=6)</th>\n",
       "      <td>0.694118</td>\n",
       "      <td>0.259582</td>\n",
       "      <td>0.512500</td>\n",
       "      <td>0.340661</td>\n",
       "    </tr>\n",
       "    <tr>\n",
       "      <th>LogisticRegression()</th>\n",
       "      <td>0.522876</td>\n",
       "      <td>0.202880</td>\n",
       "      <td>0.695833</td>\n",
       "      <td>0.312701</td>\n",
       "    </tr>\n",
       "    <tr>\n",
       "      <th>GaussianNB()</th>\n",
       "      <td>0.584314</td>\n",
       "      <td>0.223697</td>\n",
       "      <td>0.654167</td>\n",
       "      <td>0.331356</td>\n",
       "    </tr>\n",
       "    <tr>\n",
       "      <th>RandomForestClassifier()</th>\n",
       "      <td>0.730065</td>\n",
       "      <td>0.262718</td>\n",
       "      <td>0.341667</td>\n",
       "      <td>0.288135</td>\n",
       "    </tr>\n",
       "    <tr>\n",
       "      <th>DecisionTreeClassifier()</th>\n",
       "      <td>0.695425</td>\n",
       "      <td>0.207128</td>\n",
       "      <td>0.333333</td>\n",
       "      <td>0.249232</td>\n",
       "    </tr>\n",
       "  </tbody>\n",
       "</table>\n",
       "</div>"
      ],
      "text/plain": [
       "                                     Accuracy  Precision    Recall        F1\n",
       "KNeighborsClassifier(n_neighbors=6)  0.694118   0.259582  0.512500  0.340661\n",
       "LogisticRegression()                 0.522876   0.202880  0.695833  0.312701\n",
       "GaussianNB()                         0.584314   0.223697  0.654167  0.331356\n",
       "RandomForestClassifier()             0.730065   0.262718  0.341667  0.288135\n",
       "DecisionTreeClassifier()             0.695425   0.207128  0.333333  0.249232"
      ]
     },
     "execution_count": 85,
     "metadata": {},
     "output_type": "execute_result"
    }
   ],
   "source": [
    "getCrossValScoresBySSS(X, y, get_multi_models=True)"
   ]
  },
  {
   "cell_type": "markdown",
   "metadata": {},
   "source": [
    "#### KNN various n\n"
   ]
  },
  {
   "cell_type": "code",
   "execution_count": 54,
   "metadata": {
    "collapsed": false,
    "scrolled": false
   },
   "outputs": [
    {
     "name": "stdout",
     "output_type": "stream",
     "text": [
      "n =  1\n",
      "Accuracy: 0.7091503267973859\n",
      "Precision: 0.2632127567421685\n",
      "Recall: 0.45416666666666666\n",
      "f1: 0.3262321287329758\n",
      "\n",
      "\n",
      "n =  2\n",
      "Accuracy: 0.7405228758169937\n",
      "Precision: 0.2722529213705684\n",
      "Recall: 0.3875\n",
      "f1: 0.310882603773437\n",
      "\n",
      "\n",
      "n =  3\n",
      "Accuracy: 0.6673202614379087\n",
      "Precision: 0.2503057136088163\n",
      "Recall: 0.5583333333333333\n",
      "f1: 0.3412364437864052\n",
      "\n",
      "\n",
      "n =  4\n",
      "Accuracy: 0.7111111111111114\n",
      "Precision: 0.2800566073360191\n",
      "Recall: 0.5041666666666667\n",
      "f1: 0.35544341910912114\n",
      "\n",
      "\n",
      "n =  5\n",
      "Accuracy: 0.6464052287581701\n",
      "Precision: 0.23483258955914463\n",
      "Recall: 0.5458333333333333\n",
      "f1: 0.3252824464574761\n",
      "\n",
      "\n",
      "n =  6\n",
      "Accuracy: 0.6686274509803923\n",
      "Precision: 0.2513869395885818\n",
      "Recall: 0.5458333333333333\n",
      "f1: 0.3401668203889633\n",
      "\n",
      "\n",
      "n =  7\n",
      "Accuracy: 0.6130718954248366\n",
      "Precision: 0.23664804289745112\n",
      "Recall: 0.65\n",
      "f1: 0.3439279711113739\n",
      "\n",
      "\n"
     ]
    }
   ],
   "source": [
    "for n in range(1,8):\n",
    "    print('n = ', n)\n",
    "    getCrossValScoresBySSS(X, y, model=KNeighborsClassifier(n_neighbors=n))\n",
    "    print('\\n')"
   ]
  },
  {
   "cell_type": "markdown",
   "metadata": {},
   "source": [
    "#### Random Forest for important features"
   ]
  },
  {
   "cell_type": "code",
   "execution_count": 58,
   "metadata": {
    "collapsed": false,
    "scrolled": false
   },
   "outputs": [
    {
     "name": "stdout",
     "output_type": "stream",
     "text": [
      "[ 0.27325142  0.30722942  0.22105895  0.19846021]\n",
      "[ 0.2667839   0.32522402  0.23729427  0.17069781]\n",
      "[ 0.30695013  0.30362419  0.187903    0.20152267]\n",
      "[ 0.28500325  0.29050622  0.27457821  0.14991232]\n",
      "[ 0.25814981  0.28229142  0.23110184  0.22845693]\n",
      "[ 0.26598692  0.24944414  0.28538248  0.19918646]\n",
      "[ 0.18650252  0.31004266  0.32008154  0.18337328]\n",
      "[ 0.24028809  0.26244146  0.32008137  0.17718908]\n",
      "[ 0.28500034  0.26094256  0.21790822  0.23614888]\n",
      "[ 0.33737164  0.25821427  0.2263388   0.17807529]\n",
      "[ 0.2278693   0.30972795  0.26707751  0.19532524]\n",
      "[ 0.17211776  0.36456952  0.34070709  0.12260563]\n",
      "[ 0.2238417   0.30652663  0.27909139  0.19054028]\n",
      "[ 0.20899464  0.26596289  0.32563021  0.19941226]\n",
      "[ 0.41798851  0.30480357  0.15482127  0.12238666]\n",
      "[ 0.40912829  0.19529507  0.24305117  0.15252546]\n",
      "[ 0.27649904  0.31748886  0.24030144  0.16571065]\n",
      "[ 0.30551486  0.26178591  0.25041727  0.18228196]\n",
      "[ 0.16197218  0.39015557  0.25108472  0.19678753]\n",
      "[ 0.28900688  0.28921996  0.27940347  0.14236969]\n",
      "[ 0.27417163  0.25802059  0.28182387  0.18598392]\n",
      "[ 0.28264819  0.21199468  0.29325044  0.21210669]\n",
      "[ 0.25365019  0.24436323  0.26397092  0.23801566]\n",
      "[ 0.16640956  0.34468352  0.27145435  0.21745256]\n",
      "[ 0.23792599  0.32164661  0.28545602  0.15497138]\n",
      "[ 0.35996629  0.20354087  0.27175162  0.16474123]\n",
      "[ 0.34251107  0.23981275  0.19862007  0.21905611]\n",
      "[ 0.33135396  0.21771087  0.29536329  0.15557189]\n",
      "[ 0.23362112  0.2513587   0.31961981  0.19540038]\n",
      "[ 0.35200891  0.27125375  0.17805619  0.19868115]\n",
      "Accuracy: 0.7281045751633989\n",
      "Precision: 0.23697120689767742\n",
      "Recall: 0.32916666666666666\n",
      "f1: 0.2704761360245274\n"
     ]
    }
   ],
   "source": [
    "getCrossValScoresBySSS(X, y, model=RandomForestClassifier())"
   ]
  },
  {
   "cell_type": "markdown",
   "metadata": {},
   "source": [
    "#### DecisionTreeClassifier for important features"
   ]
  },
  {
   "cell_type": "code",
   "execution_count": 59,
   "metadata": {
    "collapsed": false
   },
   "outputs": [
    {
     "name": "stdout",
     "output_type": "stream",
     "text": [
      "[ 0.42998285  0.2616411   0.20719664  0.10117941]\n",
      "[ 0.18838982  0.4072595   0.21417861  0.19017208]\n",
      "[ 0.35344274  0.32009331  0.16895875  0.1575052 ]\n",
      "[ 0.31729961  0.20386775  0.34754882  0.13128383]\n",
      "[ 0.23631758  0.4069836   0.07044495  0.28625386]\n",
      "[ 0.29695559  0.22082384  0.35279967  0.1294209 ]\n",
      "[ 0.14911318  0.53296484  0.20166596  0.11625602]\n",
      "[ 0.34803671  0.20627884  0.18975964  0.25592481]\n",
      "[ 0.2968597   0.25890368  0.30250473  0.1417319 ]\n",
      "[ 0.41618374  0.28962589  0.21199452  0.08219585]\n",
      "[ 0.12330542  0.26408948  0.44758404  0.16502106]\n",
      "[ 0.30514466  0.18326694  0.23671687  0.27487153]\n",
      "[ 0.14749983  0.18407883  0.55114034  0.117281  ]\n",
      "[ 0.14974078  0.30046501  0.29722123  0.25257298]\n",
      "[ 0.33597282  0.13149861  0.43757763  0.09495094]\n",
      "[ 0.29610543  0.2692761   0.19924965  0.23536881]\n",
      "[ 0.16989303  0.53705642  0.09754083  0.19550973]\n",
      "[ 0.16882557  0.4467511   0.22540016  0.15902317]\n",
      "[ 0.25157229  0.34625635  0.1978297   0.20434166]\n",
      "[ 0.31829421  0.19282242  0.21054654  0.27833684]\n",
      "[ 0.32022304  0.19612656  0.21512274  0.26852766]\n",
      "[ 0.23589674  0.19940487  0.42973434  0.13496405]\n",
      "[ 0.52178824  0.2035968   0.11935056  0.15526439]\n",
      "[ 0.16138996  0.21743099  0.46854131  0.15263774]\n",
      "[ 0.22594025  0.32566451  0.30784627  0.14054897]\n",
      "[ 0.30077457  0.18682953  0.27892772  0.23346818]\n",
      "[ 0.21872648  0.32009769  0.26345766  0.19771817]\n",
      "[ 0.45599048  0.27370519  0.19044916  0.07985518]\n",
      "[ 0.37583681  0.40221035  0.12943857  0.09251427]\n",
      "[ 0.34018246  0.19109311  0.18586479  0.28285963]\n",
      "Accuracy: 0.6732026143790851\n",
      "Precision: 0.19136435774980667\n",
      "Recall: 0.3333333333333333\n",
      "f1: 0.23985064922462013\n"
     ]
    }
   ],
   "source": [
    "getCrossValScoresBySSS(X, y, model=DecisionTreeClassifier())"
   ]
  },
  {
   "cell_type": "markdown",
   "metadata": {
    "collapsed": true
   },
   "source": [
    "### Model averages:"
   ]
  },
  {
   "cell_type": "code",
   "execution_count": 60,
   "metadata": {
    "collapsed": false
   },
   "outputs": [
    {
     "name": "stdout",
     "output_type": "stream",
     "text": [
      "Accuracy: 0.6973856209150328\n",
      "Precision: 0.2786619640984293\n",
      "Recall: 0.6\n",
      "f1: 0.3781948370257372\n"
     ]
    }
   ],
   "source": [
    "getCrossValScoresBySSS(X, y, get_models_avg=True)"
   ]
  },
  {
   "cell_type": "code",
   "execution_count": null,
   "metadata": {
    "collapsed": true
   },
   "outputs": [],
   "source": []
  }
 ],
 "metadata": {
  "kernelspec": {
   "display_name": "Python 3",
   "language": "python",
   "name": "python3"
  },
  "language_info": {
   "codemirror_mode": {
    "name": "ipython",
    "version": 3
   },
   "file_extension": ".py",
   "mimetype": "text/x-python",
   "name": "python",
   "nbconvert_exporter": "python",
   "pygments_lexer": "ipython3",
   "version": "3.5.0"
  }
 },
 "nbformat": 4,
 "nbformat_minor": 0
}
