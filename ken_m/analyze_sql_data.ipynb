{
 "cells": [
  {
   "cell_type": "code",
   "execution_count": 156,
   "metadata": {
    "collapsed": false
   },
   "outputs": [],
   "source": [
    "from sqlalchemy import create_engine\n",
    "import pandas as pd\n",
    "import numpy as np\n",
    "\n",
    "from sklearn.cross_validation import train_test_split, StratifiedShuffleSplit\n",
    "from sklearn.neighbors import KNeighborsClassifier\n",
    "from sklearn.metrics import accuracy_score, precision_score, recall_score, f1_score, roc_curve, roc_auc_score\n",
    "from sklearn.linear_model import LogisticRegression, LinearRegression\n",
    "from sklearn.naive_bayes import GaussianNB, BernoulliNB\n",
    "from sklearn.svm import SVC\n",
    "from sklearn.tree import DecisionTreeClassifier\n",
    "from sklearn.tree import DecisionTreeRegressor\n",
    "from sklearn.ensemble import RandomForestClassifier\n",
    "from sklearn.learning_curve import learning_curve\n",
    "from sklearn.cross_validation import cross_val_score\n",
    "\n",
    "from unbalanced_dataset import OverSampler, SMOTE\n",
    "\n",
    "import matplotlib.pyplot as plt\n",
    "import seaborn as sns\n",
    "\n",
    "\n",
    "%matplotlib inline"
   ]
  },
  {
   "cell_type": "code",
   "execution_count": 52,
   "metadata": {
    "collapsed": true
   },
   "outputs": [],
   "source": [
    "CONFIG = {}\n",
    "\n",
    "with open('config.txt', \"r\") as in_file:\n",
    "    for line in in_file:\n",
    "        line = line.split(\":\")\n",
    "        parameter = line[0].strip()\n",
    "        value = line[1].strip()\n",
    "        CONFIG[parameter] = value\n",
    "                \n",
    "engine_path = 'postgresql://'+CONFIG['username']+':'+\\\n",
    "                CONFIG['password']+'@'+CONFIG['ip']+\\\n",
    "                ':'+CONFIG['port']+'/'+CONFIG['database']\n",
    "        \n",
    "engine = create_engine(engine_path)"
   ]
  },
  {
   "cell_type": "markdown",
   "metadata": {},
   "source": [
    "### Want something like:\n",
    "\n",
    "    SELECT\n",
    "        table4.countrycode as 'countrycode',\n",
    "        b.table1 as 'table1',\n",
    "        b.table2 as 'table2',\n",
    "        b.table3 as 'table3',\n",
    "        table4.year as 'table4'\n",
    "        (SELECT\n",
    "            table3.countrycode as 'countrycode',\n",
    "            a.table1 as 'table1',\n",
    "            a.table2 as 'table2',\n",
    "            table3.year as 'table3'\n",
    "         FROM\n",
    "            (SELECT\n",
    "                 table1.countrycode as 'countrycode',\n",
    "                 table1.year as 'table1',\n",
    "                 table2.year as 'table2'\n",
    "             FROM\n",
    "                 table1\n",
    "             JOIN\n",
    "                 table2\n",
    "               ON \n",
    "                 table1.countrycode = table2.countrycode\n",
    "             ) a\n",
    "         JOIN\n",
    "             table3\n",
    "           ON\n",
    "             a.countrycode = table3.countrycode  \n",
    "        ) b    \n",
    "    JOIN\n",
    "        table4\n",
    "      ON\n",
    "        a.countrycode = table3.countrycode \n",
    "    \n",
    "        \n",
    "       \n"
   ]
  },
  {
   "cell_type": "code",
   "execution_count": 53,
   "metadata": {
    "collapsed": false
   },
   "outputs": [],
   "source": [
    "def makeSQLQuery(table_names, year):\n",
    "    dotyyear = '.y' + str(year)\n",
    "    current_unit = 'a'\n",
    "    query = '(SELECT ' + table_names[0] + '.countrycode AS countrycode, ' + \\\n",
    "            table_names[0] + dotyyear + ' AS ' + table_names[0] + ', ' + \\\n",
    "            table_names[1] + dotyyear + ' AS ' + table_names[1] + \\\n",
    "            ' FROM ' + table_names[0] + \\\n",
    "            ' JOIN ' + table_names[1] + \\\n",
    "            ' ON ' + table_names[0] + '.countrycode=' + table_names[1] + '.countrycode) '\n",
    "    query = query + current_unit\n",
    "    \n",
    "    for table in table_names[2:]:\n",
    "        curr_index = table_names.index(table)\n",
    "        temp_list = table_names[:curr_index+1]\n",
    "        \n",
    "        pre_string = '(SELECT ' + table + '.countrycode as countrycode'\n",
    "        \n",
    "        for temp_table in temp_list[:-1]:\n",
    "            pre_string = pre_string + ', ' + current_unit + '.' + temp_table + ' AS ' + temp_table\n",
    "        \n",
    "        pre_string = pre_string + ', ' + table + dotyyear + ' AS ' + table\n",
    "        \n",
    "        query = pre_string + ' FROM ' + query + ' JOIN ' + table + \\\n",
    "                ' ON ' + current_unit + '.countrycode=' + table + '.countrycode) '\n",
    "        \n",
    "        current_unit = current_unit + 'a'\n",
    "        query = query + current_unit\n",
    "        \n",
    "    query = query.rsplit(' ', 1)[0][1:-1]\n",
    "    \n",
    "    return query\n",
    "    \n",
    "    "
   ]
  },
  {
   "cell_type": "code",
   "execution_count": 54,
   "metadata": {
    "collapsed": true
   },
   "outputs": [],
   "source": [
    "table_names = ['corruption_perception', 'life_expectancy', \\\n",
    "               'population_0_14', 'population_15_64', 'population_65_up', \\\n",
    "               'population_female', 'under_5_mortality', 'zscores']"
   ]
  },
  {
   "cell_type": "code",
   "execution_count": 55,
   "metadata": {
    "collapsed": false,
    "scrolled": false
   },
   "outputs": [],
   "source": [
    "query = makeSQLQuery(table_names, 2013)"
   ]
  },
  {
   "cell_type": "code",
   "execution_count": 56,
   "metadata": {
    "collapsed": false
   },
   "outputs": [],
   "source": [
    "data_2013 = pd.read_sql_query(query, engine)"
   ]
  },
  {
   "cell_type": "code",
   "execution_count": 57,
   "metadata": {
    "collapsed": true
   },
   "outputs": [],
   "source": [
    "data_2013 = data_2013.set_index('countrycode')"
   ]
  },
  {
   "cell_type": "code",
   "execution_count": 58,
   "metadata": {
    "collapsed": false
   },
   "outputs": [],
   "source": [
    "data_2013['zscores'] = data_2013['zscores'].astype(float)"
   ]
  },
  {
   "cell_type": "code",
   "execution_count": 59,
   "metadata": {
    "collapsed": false
   },
   "outputs": [
    {
     "data": {
      "text/html": [
       "<div>\n",
       "<table border=\"1\" class=\"dataframe\">\n",
       "  <thead>\n",
       "    <tr style=\"text-align: right;\">\n",
       "      <th></th>\n",
       "      <th>corruption_perception</th>\n",
       "      <th>life_expectancy</th>\n",
       "      <th>population_0_14</th>\n",
       "      <th>population_15_64</th>\n",
       "      <th>population_65_up</th>\n",
       "      <th>population_female</th>\n",
       "      <th>under_5_mortality</th>\n",
       "      <th>zscores</th>\n",
       "    </tr>\n",
       "    <tr>\n",
       "      <th>countrycode</th>\n",
       "      <th></th>\n",
       "      <th></th>\n",
       "      <th></th>\n",
       "      <th></th>\n",
       "      <th></th>\n",
       "      <th></th>\n",
       "      <th></th>\n",
       "      <th></th>\n",
       "    </tr>\n",
       "  </thead>\n",
       "  <tbody>\n",
       "    <tr>\n",
       "      <th>AFG</th>\n",
       "      <td>8</td>\n",
       "      <td>60.028268</td>\n",
       "      <td>45.685257</td>\n",
       "      <td>51.920329</td>\n",
       "      <td>2.394414</td>\n",
       "      <td>48.507090</td>\n",
       "      <td>96.7</td>\n",
       "      <td>6.005490</td>\n",
       "    </tr>\n",
       "    <tr>\n",
       "      <th>AGO</th>\n",
       "      <td>23</td>\n",
       "      <td>51.866171</td>\n",
       "      <td>48.012577</td>\n",
       "      <td>49.673340</td>\n",
       "      <td>2.314084</td>\n",
       "      <td>50.407447</td>\n",
       "      <td>167.1</td>\n",
       "      <td>-0.232733</td>\n",
       "    </tr>\n",
       "    <tr>\n",
       "      <th>ALB</th>\n",
       "      <td>31</td>\n",
       "      <td>77.537244</td>\n",
       "      <td>19.382294</td>\n",
       "      <td>68.848024</td>\n",
       "      <td>11.769682</td>\n",
       "      <td>50.073406</td>\n",
       "      <td>14.9</td>\n",
       "      <td>-0.003833</td>\n",
       "    </tr>\n",
       "    <tr>\n",
       "      <th>ARE</th>\n",
       "      <td>69</td>\n",
       "      <td>77.195634</td>\n",
       "      <td>13.718086</td>\n",
       "      <td>85.340053</td>\n",
       "      <td>0.941861</td>\n",
       "      <td>25.883957</td>\n",
       "      <td>7.4</td>\n",
       "      <td>-0.265036</td>\n",
       "    </tr>\n",
       "    <tr>\n",
       "      <th>ARG</th>\n",
       "      <td>34</td>\n",
       "      <td>75.986098</td>\n",
       "      <td>25.465743</td>\n",
       "      <td>63.834426</td>\n",
       "      <td>10.699832</td>\n",
       "      <td>51.078024</td>\n",
       "      <td>13.3</td>\n",
       "      <td>-0.265098</td>\n",
       "    </tr>\n",
       "  </tbody>\n",
       "</table>\n",
       "</div>"
      ],
      "text/plain": [
       "             corruption_perception  life_expectancy  population_0_14  \\\n",
       "countrycode                                                            \n",
       "AFG                              8        60.028268        45.685257   \n",
       "AGO                             23        51.866171        48.012577   \n",
       "ALB                             31        77.537244        19.382294   \n",
       "ARE                             69        77.195634        13.718086   \n",
       "ARG                             34        75.986098        25.465743   \n",
       "\n",
       "             population_15_64  population_65_up  population_female  \\\n",
       "countrycode                                                          \n",
       "AFG                 51.920329          2.394414          48.507090   \n",
       "AGO                 49.673340          2.314084          50.407447   \n",
       "ALB                 68.848024         11.769682          50.073406   \n",
       "ARE                 85.340053          0.941861          25.883957   \n",
       "ARG                 63.834426         10.699832          51.078024   \n",
       "\n",
       "             under_5_mortality   zscores  \n",
       "countrycode                               \n",
       "AFG                       96.7  6.005490  \n",
       "AGO                      167.1 -0.232733  \n",
       "ALB                       14.9 -0.003833  \n",
       "ARE                        7.4 -0.265036  \n",
       "ARG                       13.3 -0.265098  "
      ]
     },
     "execution_count": 59,
     "metadata": {},
     "output_type": "execute_result"
    }
   ],
   "source": [
    "data_2013.head()"
   ]
  },
  {
   "cell_type": "code",
   "execution_count": 60,
   "metadata": {
    "collapsed": false,
    "scrolled": false
   },
   "outputs": [],
   "source": [
    "\n",
    "data_2013.loc[data_2013['zscores'] > 0, 'zscores'] = 1\n",
    "data_2013.loc[data_2013['zscores'] <= 0, 'zscores'] = 0\n"
   ]
  },
  {
   "cell_type": "code",
   "execution_count": 61,
   "metadata": {
    "collapsed": false
   },
   "outputs": [
    {
     "data": {
      "text/html": [
       "<div>\n",
       "<table border=\"1\" class=\"dataframe\">\n",
       "  <thead>\n",
       "    <tr style=\"text-align: right;\">\n",
       "      <th></th>\n",
       "      <th>corruption_perception</th>\n",
       "      <th>life_expectancy</th>\n",
       "      <th>population_0_14</th>\n",
       "      <th>population_15_64</th>\n",
       "      <th>population_65_up</th>\n",
       "      <th>population_female</th>\n",
       "      <th>under_5_mortality</th>\n",
       "      <th>zscores</th>\n",
       "    </tr>\n",
       "    <tr>\n",
       "      <th>countrycode</th>\n",
       "      <th></th>\n",
       "      <th></th>\n",
       "      <th></th>\n",
       "      <th></th>\n",
       "      <th></th>\n",
       "      <th></th>\n",
       "      <th></th>\n",
       "      <th></th>\n",
       "    </tr>\n",
       "  </thead>\n",
       "  <tbody>\n",
       "    <tr>\n",
       "      <th>BLZ</th>\n",
       "      <td>NaN</td>\n",
       "      <td>69.982049</td>\n",
       "      <td>33.722069</td>\n",
       "      <td>62.518994</td>\n",
       "      <td>3.758938</td>\n",
       "      <td>50.087015</td>\n",
       "      <td>17.5</td>\n",
       "      <td>0</td>\n",
       "    </tr>\n",
       "    <tr>\n",
       "      <th>FJI</th>\n",
       "      <td>NaN</td>\n",
       "      <td>69.917927</td>\n",
       "      <td>28.845400</td>\n",
       "      <td>65.713066</td>\n",
       "      <td>5.441534</td>\n",
       "      <td>49.063189</td>\n",
       "      <td>23.2</td>\n",
       "      <td>0</td>\n",
       "    </tr>\n",
       "    <tr>\n",
       "      <th>GRD</th>\n",
       "      <td>NaN</td>\n",
       "      <td>73.193561</td>\n",
       "      <td>26.765311</td>\n",
       "      <td>66.079961</td>\n",
       "      <td>7.154728</td>\n",
       "      <td>49.912183</td>\n",
       "      <td>12.5</td>\n",
       "      <td>0</td>\n",
       "    </tr>\n",
       "    <tr>\n",
       "      <th>KIR</th>\n",
       "      <td>NaN</td>\n",
       "      <td>65.766585</td>\n",
       "      <td>35.356169</td>\n",
       "      <td>61.033314</td>\n",
       "      <td>3.610517</td>\n",
       "      <td>50.731501</td>\n",
       "      <td>58.9</td>\n",
       "      <td>0</td>\n",
       "    </tr>\n",
       "    <tr>\n",
       "      <th>MDV</th>\n",
       "      <td>NaN</td>\n",
       "      <td>76.602610</td>\n",
       "      <td>27.715737</td>\n",
       "      <td>67.509135</td>\n",
       "      <td>4.775128</td>\n",
       "      <td>49.858307</td>\n",
       "      <td>9.9</td>\n",
       "      <td>0</td>\n",
       "    </tr>\n",
       "    <tr>\n",
       "      <th>SLB</th>\n",
       "      <td>NaN</td>\n",
       "      <td>67.718927</td>\n",
       "      <td>40.113611</td>\n",
       "      <td>56.518544</td>\n",
       "      <td>3.367845</td>\n",
       "      <td>49.245833</td>\n",
       "      <td>29.9</td>\n",
       "      <td>0</td>\n",
       "    </tr>\n",
       "    <tr>\n",
       "      <th>TON</th>\n",
       "      <td>NaN</td>\n",
       "      <td>72.640341</td>\n",
       "      <td>37.147015</td>\n",
       "      <td>56.966492</td>\n",
       "      <td>5.886493</td>\n",
       "      <td>49.883488</td>\n",
       "      <td>17.3</td>\n",
       "      <td>0</td>\n",
       "    </tr>\n",
       "    <tr>\n",
       "      <th>VUT</th>\n",
       "      <td>NaN</td>\n",
       "      <td>71.669244</td>\n",
       "      <td>37.171805</td>\n",
       "      <td>58.783797</td>\n",
       "      <td>4.044398</td>\n",
       "      <td>49.309739</td>\n",
       "      <td>28.4</td>\n",
       "      <td>0</td>\n",
       "    </tr>\n",
       "    <tr>\n",
       "      <th>WSM</th>\n",
       "      <td>NaN</td>\n",
       "      <td>73.250390</td>\n",
       "      <td>37.750932</td>\n",
       "      <td>57.108567</td>\n",
       "      <td>5.140501</td>\n",
       "      <td>48.440569</td>\n",
       "      <td>18.2</td>\n",
       "      <td>0</td>\n",
       "    </tr>\n",
       "  </tbody>\n",
       "</table>\n",
       "</div>"
      ],
      "text/plain": [
       "             corruption_perception  life_expectancy  population_0_14  \\\n",
       "countrycode                                                            \n",
       "BLZ                            NaN        69.982049        33.722069   \n",
       "FJI                            NaN        69.917927        28.845400   \n",
       "GRD                            NaN        73.193561        26.765311   \n",
       "KIR                            NaN        65.766585        35.356169   \n",
       "MDV                            NaN        76.602610        27.715737   \n",
       "SLB                            NaN        67.718927        40.113611   \n",
       "TON                            NaN        72.640341        37.147015   \n",
       "VUT                            NaN        71.669244        37.171805   \n",
       "WSM                            NaN        73.250390        37.750932   \n",
       "\n",
       "             population_15_64  population_65_up  population_female  \\\n",
       "countrycode                                                          \n",
       "BLZ                 62.518994          3.758938          50.087015   \n",
       "FJI                 65.713066          5.441534          49.063189   \n",
       "GRD                 66.079961          7.154728          49.912183   \n",
       "KIR                 61.033314          3.610517          50.731501   \n",
       "MDV                 67.509135          4.775128          49.858307   \n",
       "SLB                 56.518544          3.367845          49.245833   \n",
       "TON                 56.966492          5.886493          49.883488   \n",
       "VUT                 58.783797          4.044398          49.309739   \n",
       "WSM                 57.108567          5.140501          48.440569   \n",
       "\n",
       "             under_5_mortality  zscores  \n",
       "countrycode                              \n",
       "BLZ                       17.5        0  \n",
       "FJI                       23.2        0  \n",
       "GRD                       12.5        0  \n",
       "KIR                       58.9        0  \n",
       "MDV                        9.9        0  \n",
       "SLB                       29.9        0  \n",
       "TON                       17.3        0  \n",
       "VUT                       28.4        0  \n",
       "WSM                       18.2        0  "
      ]
     },
     "execution_count": 61,
     "metadata": {},
     "output_type": "execute_result"
    }
   ],
   "source": [
    "#The rows to be dropped\n",
    "data_2013[data_2013.isnull().any(axis=1)]"
   ]
  },
  {
   "cell_type": "code",
   "execution_count": 62,
   "metadata": {
    "collapsed": true
   },
   "outputs": [],
   "source": [
    "data_2013 = data_2013.dropna()"
   ]
  },
  {
   "cell_type": "code",
   "execution_count": 109,
   "metadata": {
    "collapsed": false
   },
   "outputs": [],
   "source": [
    "def getScoreValues(X_train, X_test, y_train, y_test, model=KNeighborsClassifier(n_neighbors=6), verbose=True):\n",
    "    model = model\n",
    "    model.fit(X_train, y_train)\n",
    "    y_pred = model.predict(X_test)\n",
    "    \n",
    "    \n",
    "    \n",
    "    accuracy_score_value = accuracy_score(y_test, y_pred)\n",
    "    precision_score_value = precision_score(y_test, y_pred)\n",
    "    recall_score_value = recall_score(y_test, y_pred)\n",
    "    f1_score_value = f1_score(y_test, y_pred)\n",
    "\n",
    "    \n",
    "    if verbose:\n",
    "        #print(pd.concat([y_test,pd.Series(y_pred, index=y_test.index)], axis = 1))\n",
    "        print('Accuracy: {}\\nPrecision: {}\\nRecall: {}\\nf1: {}'.format(accuracy_score_value, \\\n",
    "                                                                       precision_score_value, \\\n",
    "                                                                       recall_score_value, \\\n",
    "                                                                       f1_score_value))\n",
    "    \n",
    "    return accuracy_score_value, precision_score_value, recall_score_value, f1_score_value"
   ]
  },
  {
   "cell_type": "code",
   "execution_count": 64,
   "metadata": {
    "collapsed": false
   },
   "outputs": [],
   "source": [
    "X = data_2013[['corruption_perception', 'life_expectancy', 'population_0_14', \\\n",
    "               'population_15_64', 'population_65_up', 'population_female', 'under_5_mortality']]\n",
    "y = data_2013['zscores']\n",
    "\n",
    "\n",
    "X_train, X_test, y_train, y_test = train_test_split(X, y, test_size = .30, random_state=4444)"
   ]
  },
  {
   "cell_type": "code",
   "execution_count": 65,
   "metadata": {
    "collapsed": false
   },
   "outputs": [
    {
     "name": "stdout",
     "output_type": "stream",
     "text": [
      "Accuracy: 0.8627450980392157\n",
      "Precision: 0.2857142857142857\n",
      "Recall: 0.5\n",
      "f1: 0.36363636363636365\n"
     ]
    }
   ],
   "source": [
    "getScoreValues(X_train, X_test, y_train, y_test, DecisionTreeClassifier())"
   ]
  },
  {
   "cell_type": "code",
   "execution_count": 66,
   "metadata": {
    "collapsed": false
   },
   "outputs": [
    {
     "name": "stdout",
     "output_type": "stream",
     "text": [
      "Accuracy: 0.9215686274509803\n",
      "Precision: 0.0\n",
      "Recall: 0.0\n",
      "f1: 0.0\n"
     ]
    },
    {
     "name": "stderr",
     "output_type": "stream",
     "text": [
      "/Users/kenn/anaconda/lib/python3.5/site-packages/sklearn/metrics/classification.py:1074: UndefinedMetricWarning: Precision is ill-defined and being set to 0.0 due to no predicted samples.\n",
      "  'precision', 'predicted', average, warn_for)\n",
      "/Users/kenn/anaconda/lib/python3.5/site-packages/sklearn/metrics/classification.py:1074: UndefinedMetricWarning: F-score is ill-defined and being set to 0.0 due to no predicted samples.\n",
      "  'precision', 'predicted', average, warn_for)\n"
     ]
    }
   ],
   "source": [
    "getScoreValues(X_train, X_test, y_train, y_test, BernoulliNB())"
   ]
  },
  {
   "cell_type": "code",
   "execution_count": 67,
   "metadata": {
    "collapsed": false
   },
   "outputs": [
    {
     "name": "stdout",
     "output_type": "stream",
     "text": [
      "Accuracy: 0.7843137254901961\n",
      "Precision: 0.18181818181818182\n",
      "Recall: 0.5\n",
      "f1: 0.26666666666666666\n"
     ]
    }
   ],
   "source": [
    "getScoreValues(X_train, X_test, y_train, y_test, GaussianNB())"
   ]
  },
  {
   "cell_type": "code",
   "execution_count": 68,
   "metadata": {
    "collapsed": false
   },
   "outputs": [
    {
     "name": "stdout",
     "output_type": "stream",
     "text": [
      "Accuracy: 0.9215686274509803\n",
      "Precision: 0.0\n",
      "Recall: 0.0\n",
      "f1: 0.0\n"
     ]
    },
    {
     "name": "stderr",
     "output_type": "stream",
     "text": [
      "/Users/kenn/anaconda/lib/python3.5/site-packages/sklearn/metrics/classification.py:1074: UndefinedMetricWarning: Precision is ill-defined and being set to 0.0 due to no predicted samples.\n",
      "  'precision', 'predicted', average, warn_for)\n",
      "/Users/kenn/anaconda/lib/python3.5/site-packages/sklearn/metrics/classification.py:1074: UndefinedMetricWarning: F-score is ill-defined and being set to 0.0 due to no predicted samples.\n",
      "  'precision', 'predicted', average, warn_for)\n"
     ]
    }
   ],
   "source": [
    "getScoreValues(X_train, X_test, y_train, y_test, model=SVC())"
   ]
  },
  {
   "cell_type": "code",
   "execution_count": 69,
   "metadata": {
    "collapsed": false
   },
   "outputs": [
    {
     "name": "stdout",
     "output_type": "stream",
     "text": [
      "Accuracy: 0.9215686274509803\n",
      "Precision: 0.5\n",
      "Recall: 0.25\n",
      "f1: 0.3333333333333333\n"
     ]
    }
   ],
   "source": [
    "getScoreValues(X_train, X_test, y_train, y_test, model=RandomForestClassifier())"
   ]
  },
  {
   "cell_type": "code",
   "execution_count": 70,
   "metadata": {
    "collapsed": true
   },
   "outputs": [],
   "source": [
    "def getROCcurve(X_train, X_test, y_train, y_test, model=KNeighborsClassifier(n_neighbors=6)):\n",
    "    model = model\n",
    "    model.fit(X_train, y_train)\n",
    "    y_scores = model.predict_proba(X_test)[:,1]\n",
    "    fpr, tpr, thresholds = roc_curve(y_test, y_scores)\n",
    "\n",
    "    auc = roc_auc_score(y_test, y_scores)\n",
    "    print('AUC: {}'.format(auc))\n",
    "    \n",
    "    fig,ax = plt.subplots()\n",
    "    ax.plot(fpr, tpr, label='ROC Curve')\n",
    "\n",
    "    fig.set_size_inches(12, 8, forward=True)\n",
    "    plt.xlabel('FPR')\n",
    "    plt.ylabel('TPR')\n",
    "    plt.title('ROC Curve')\n",
    "    plt.legend(loc='best')"
   ]
  },
  {
   "cell_type": "code",
   "execution_count": 71,
   "metadata": {
    "collapsed": false
   },
   "outputs": [
    {
     "name": "stdout",
     "output_type": "stream",
     "text": [
      "AUC: 0.6808510638297872\n"
     ]
    },
    {
     "data": {
      "image/png": "[encoded data removed]",
      "text/plain": [
       "<matplotlib.figure.Figure at 0x10d24f780>"
      ]
     },
     "metadata": {},
     "output_type": "display_data"
    }
   ],
   "source": [
    "getROCcurve(X_train, X_test, y_train, y_test, model=RandomForestClassifier())"
   ]
  },
  {
   "cell_type": "code",
   "execution_count": 72,
   "metadata": {
    "collapsed": true
   },
   "outputs": [],
   "source": [
    "def getScoreValuesByCV(X, y, model=KNeighborsClassifier(n_neighbors=5)):\n",
    "    \n",
    "    accuracy_score_value = np.mean(cross_val_score(model, X, y, scoring='accuracy', cv=5))\n",
    "    precision_score_value = np.mean(cross_val_score(model, X, y, scoring='precision', cv=5))\n",
    "    recall_score_value = np.mean(cross_val_score(model, X, y, scoring='recall', cv=5))\n",
    "    f1_score_value = np.mean(cross_val_score(model, X, y, scoring='f1', cv=5))\n",
    "    roc_auc_value = np.mean(cross_val_score(model, X, y, scoring='roc_auc', cv=5))\n",
    "    #roc_auc_value = 0  \n",
    "        \n",
    "    print('Accuracy: {}\\nPrecision: {}\\nRecall: {}\\nf1: {}\\nROC AUC: {}'.format(accuracy_score_value, \\\n",
    "                                                                   precision_score_value, \\\n",
    "                                                                   recall_score_value, \\\n",
    "                                                                   f1_score_value,\n",
    "                                                                   roc_auc_value))"
   ]
  },
  {
   "cell_type": "code",
   "execution_count": 73,
   "metadata": {
    "collapsed": false,
    "scrolled": false
   },
   "outputs": [
    {
     "name": "stderr",
     "output_type": "stream",
     "text": [
      "/Users/kenn/anaconda/lib/python3.5/site-packages/sklearn/metrics/classification.py:1074: UndefinedMetricWarning: Precision is ill-defined and being set to 0.0 due to no predicted samples.\n",
      "  'precision', 'predicted', average, warn_for)\n",
      "/Users/kenn/anaconda/lib/python3.5/site-packages/sklearn/metrics/classification.py:1074: UndefinedMetricWarning: F-score is ill-defined and being set to 0.0 due to no predicted samples.\n",
      "  'precision', 'predicted', average, warn_for)\n"
     ]
    },
    {
     "name": "stdout",
     "output_type": "stream",
     "text": [
      "Accuracy: 0.8282913165266107\n",
      "Precision: 0.3833333333333333\n",
      "Recall: 0.14666666666666667\n",
      "f1: 0.2\n",
      "ROC AUC: 0.657824302134647\n"
     ]
    }
   ],
   "source": [
    "getScoreValuesByCV(X,y)"
   ]
  },
  {
   "cell_type": "code",
   "execution_count": 74,
   "metadata": {
    "collapsed": false,
    "scrolled": false
   },
   "outputs": [
    {
     "name": "stdout",
     "output_type": "stream",
     "text": [
      "Accuracy: 0.8165164247517188\n",
      "Precision: 0.3333333333333333\n",
      "Recall: 0.22666666666666666\n",
      "f1: 0.23158730158730162\n",
      "ROC AUC: 0.6458538587848933\n"
     ]
    },
    {
     "name": "stderr",
     "output_type": "stream",
     "text": [
      "/Users/kenn/anaconda/lib/python3.5/site-packages/sklearn/metrics/classification.py:1074: UndefinedMetricWarning: Precision is ill-defined and being set to 0.0 due to no predicted samples.\n",
      "  'precision', 'predicted', average, warn_for)\n"
     ]
    }
   ],
   "source": [
    "getScoreValuesByCV(X,y, model=RandomForestClassifier())"
   ]
  },
  {
   "cell_type": "code",
   "execution_count": 75,
   "metadata": {
    "collapsed": false
   },
   "outputs": [
    {
     "name": "stdout",
     "output_type": "stream",
     "text": [
      "Accuracy: 0.7031168831168831\n",
      "Precision: 0.29095238095238096\n",
      "Recall: 0.54\n",
      "f1: 0.3726934984520124\n",
      "ROC AUC: 0.6926108374384236\n"
     ]
    }
   ],
   "source": [
    "getScoreValuesByCV(X,y, model=GaussianNB())"
   ]
  },
  {
   "cell_type": "code",
   "execution_count": 76,
   "metadata": {
    "collapsed": false,
    "scrolled": false
   },
   "outputs": [
    {
     "name": "stdout",
     "output_type": "stream",
     "text": [
      "Accuracy: 0.7867481538069774\n",
      "Precision: 0.3333333333333333\n",
      "Recall: 0.30666666666666664\n",
      "f1: 0.2883394383394383\n",
      "ROC AUC: 0.587528735632184\n"
     ]
    }
   ],
   "source": [
    "getScoreValuesByCV(X,y, model=DecisionTreeClassifier())"
   ]
  },
  {
   "cell_type": "code",
   "execution_count": 77,
   "metadata": {
    "collapsed": false,
    "scrolled": false
   },
   "outputs": [
    {
     "name": "stderr",
     "output_type": "stream",
     "text": [
      "/Users/kenn/anaconda/lib/python3.5/site-packages/sklearn/metrics/classification.py:1074: UndefinedMetricWarning: Precision is ill-defined and being set to 0.0 due to no predicted samples.\n",
      "  'precision', 'predicted', average, warn_for)\n",
      "/Users/kenn/anaconda/lib/python3.5/site-packages/sklearn/metrics/classification.py:1074: UndefinedMetricWarning: Precision is ill-defined and being set to 0.0 due to no predicted samples.\n",
      "  'precision', 'predicted', average, warn_for)\n",
      "/Users/kenn/anaconda/lib/python3.5/site-packages/sklearn/metrics/classification.py:1074: UndefinedMetricWarning: F-score is ill-defined and being set to 0.0 due to no predicted samples.\n",
      "  'precision', 'predicted', average, warn_for)\n"
     ]
    },
    {
     "name": "stdout",
     "output_type": "stream",
     "text": [
      "Accuracy: 0.8526916221033869\n",
      "Precision: 0.4\n",
      "Recall: 0.08\n",
      "f1: 0.13333333333333336\n",
      "ROC AUC: 0.6611165845648603\n"
     ]
    },
    {
     "name": "stderr",
     "output_type": "stream",
     "text": [
      "/Users/kenn/anaconda/lib/python3.5/site-packages/sklearn/metrics/classification.py:1074: UndefinedMetricWarning: F-score is ill-defined and being set to 0.0 due to no predicted samples.\n",
      "  'precision', 'predicted', average, warn_for)\n"
     ]
    }
   ],
   "source": [
    "getScoreValuesByCV(X,y, model=LogisticRegression())"
   ]
  },
  {
   "cell_type": "markdown",
   "metadata": {},
   "source": [
    "## Over sampling"
   ]
  },
  {
   "cell_type": "code",
   "execution_count": 78,
   "metadata": {
    "collapsed": true
   },
   "outputs": [],
   "source": [
    "x_cols = ['corruption_perception', 'life_expectancy', 'population_0_14', \\\n",
    "               'population_15_64', 'population_65_up', 'population_female', 'under_5_mortality']"
   ]
  },
  {
   "cell_type": "code",
   "execution_count": 79,
   "metadata": {
    "collapsed": true
   },
   "outputs": [],
   "source": [
    "X = data_2013[x_cols]\n",
    "y = data_2013['zscores']\n",
    "\n",
    "X_train, X_test, y_train, y_test = train_test_split(X, y, test_size = .30, random_state=4444)"
   ]
  },
  {
   "cell_type": "code",
   "execution_count": 80,
   "metadata": {
    "collapsed": false
   },
   "outputs": [],
   "source": [
    "verbose = False\n",
    "ratio = float(y.value_counts()[0]) / float(y.value_counts()[1])\n",
    "X_train = X_train.reset_index(drop=True).as_matrix()\n",
    "y_train = y_train.reset_index(drop=True).as_matrix()\n",
    "\n",
    "smote = SMOTE(ratio=ratio, verbose=verbose)\n",
    "smox, smoy = smote.fit_transform(X_train, y_train)"
   ]
  },
  {
   "cell_type": "code",
   "execution_count": 81,
   "metadata": {
    "collapsed": false
   },
   "outputs": [
    {
     "data": {
      "text/plain": [
       "array([[  20.        ,   67.77204878,   32.10237394, ...,    3.93080535,\n",
       "          51.24020431,   32.9       ],\n",
       "       [  45.        ,   73.90141463,   36.10158906, ...,    3.76568713,\n",
       "          48.68319872,   19.        ],\n",
       "       [  41.        ,   74.46585366,   13.86624739, ...,   19.36866524,\n",
       "          51.37638005,   11.5       ],\n",
       "       ..., \n",
       "       [  36.11350686,   74.53841881,   19.05126791, ...,   10.41721483,\n",
       "          51.58194318,   15.58618114],\n",
       "       [  24.67299548,   51.92669139,   42.9254176 , ...,    3.1078171 ,\n",
       "          49.22441804,   99.03580007],\n",
       "       [  20.00903667,   52.30322868,   41.05753015, ...,    3.68303636,\n",
       "          50.37438827,  120.66864918]])"
      ]
     },
     "execution_count": 81,
     "metadata": {},
     "output_type": "execute_result"
    }
   ],
   "source": [
    "smox"
   ]
  },
  {
   "cell_type": "code",
   "execution_count": 82,
   "metadata": {
    "collapsed": true
   },
   "outputs": [],
   "source": [
    "X_train = pd.DataFrame(smox, columns=x_cols)\n",
    "y_train = pd.Series(smoy)"
   ]
  },
  {
   "cell_type": "code",
   "execution_count": 83,
   "metadata": {
    "collapsed": false
   },
   "outputs": [
    {
     "name": "stdout",
     "output_type": "stream",
     "text": [
      "Accuracy: 0.803921568627451\n",
      "Precision: 0.25\n",
      "Recall: 0.75\n",
      "f1: 0.375\n"
     ]
    }
   ],
   "source": [
    "getScoreValues(X_train, X_test, y_train, y_test, model=RandomForestClassifier())"
   ]
  },
  {
   "cell_type": "code",
   "execution_count": 84,
   "metadata": {
    "collapsed": false
   },
   "outputs": [
    {
     "name": "stdout",
     "output_type": "stream",
     "text": [
      "Accuracy: 0.0784313725490196\n",
      "Precision: 0.0784313725490196\n",
      "Recall: 1.0\n",
      "f1: 0.14545454545454545\n"
     ]
    }
   ],
   "source": [
    "getScoreValues(X_train, X_test, y_train, y_test, model=BernoulliNB())"
   ]
  },
  {
   "cell_type": "code",
   "execution_count": 85,
   "metadata": {
    "collapsed": false
   },
   "outputs": [
    {
     "name": "stdout",
     "output_type": "stream",
     "text": [
      "Accuracy: 0.5098039215686274\n",
      "Precision: 0.08\n",
      "Recall: 0.5\n",
      "f1: 0.13793103448275865\n"
     ]
    }
   ],
   "source": [
    "getScoreValues(X_train, X_test, y_train, y_test, model=GaussianNB())"
   ]
  },
  {
   "cell_type": "code",
   "execution_count": 86,
   "metadata": {
    "collapsed": false
   },
   "outputs": [
    {
     "name": "stdout",
     "output_type": "stream",
     "text": [
      "Accuracy: 0.6470588235294118\n",
      "Precision: 0.1111111111111111\n",
      "Recall: 0.5\n",
      "f1: 0.1818181818181818\n"
     ]
    }
   ],
   "source": [
    "getScoreValues(X_train, X_test, y_train, y_test, model=DecisionTreeClassifier())"
   ]
  },
  {
   "cell_type": "code",
   "execution_count": 87,
   "metadata": {
    "collapsed": false
   },
   "outputs": [
    {
     "name": "stdout",
     "output_type": "stream",
     "text": [
      "Accuracy: 0.6274509803921569\n",
      "Precision: 0.10526315789473684\n",
      "Recall: 0.5\n",
      "f1: 0.17391304347826086\n"
     ]
    }
   ],
   "source": [
    "getScoreValues(X_train, X_test, y_train, y_test)"
   ]
  },
  {
   "cell_type": "markdown",
   "metadata": {},
   "source": [
    "## Cross validate with oversampling"
   ]
  },
  {
   "cell_type": "code",
   "execution_count": 157,
   "metadata": {
    "collapsed": false,
    "scrolled": true
   },
   "outputs": [],
   "source": [
    "def getCrossValScoresBySKF(local_X, local_y, n_iter=30, test_size=0.3, model=KNeighborsClassifier(n_neighbors=6)):\n",
    "    acc_array = []\n",
    "    prec_array = []\n",
    "    recall_array = []\n",
    "    f1_array = []\n",
    "    sss = StratifiedShuffleSplit(y, n_iter=n_iter, test_size=test_size)\n",
    "    \n",
    "    for train_index, test_index in sss:\n",
    "        #print(\"TRAIN:\", train_index, \"TEST:\", test_index)\n",
    "        X_train, X_test = X.ix[train_index], X.ix[test_index]\n",
    "        y_train, y_test = y.ix[train_index], y.ix[test_index]\n",
    "        \n",
    "        X_train = X_train.reset_index(drop=True).as_matrix()\n",
    "        y_train = y_train.reset_index(drop=True).as_matrix()\n",
    "\n",
    "        smote = SMOTE(ratio=ratio, verbose=verbose)\n",
    "        smox, smoy = smote.fit_transform(X_train, y_train)\n",
    "        X_train = pd.DataFrame(smox, columns=x_cols)\n",
    "        y_train = pd.Series(smoy)\n",
    "        \n",
    "        accuracy_score_value, precision_score_value, \\\n",
    "        recall_score_value, f1_score_value = \\\n",
    "        getScoreValues(X_train, X_test, y_train, y_test, model=model, verbose=False)\n",
    "        \n",
    "        acc_array.append(accuracy_score_value)\n",
    "        prec_array.append(precision_score_value)\n",
    "        recall_array.append(recall_score_value)\n",
    "        f1_array.append(f1_score_value)\n",
    "        \n",
    "    mean_acc = np.mean(acc_array)\n",
    "    mean_prec = np.mean(prec_array)\n",
    "    mean_recall = np.mean(recall_array)\n",
    "    mean_f1 = np.mean(f1_array)\n",
    "    \n",
    "    print('Accuracy: {}\\nPrecision: {}\\nRecall: {}\\nf1: {}'.format(mean_acc, \\\n",
    "                                                                   mean_prec, \\\n",
    "                                                                   mean_recall, \\\n",
    "                                                                   mean_f1))"
   ]
  },
  {
   "cell_type": "code",
   "execution_count": 158,
   "metadata": {
    "collapsed": true
   },
   "outputs": [],
   "source": [
    "X = data_2013[x_cols]\n",
    "y = data_2013['zscores']"
   ]
  },
  {
   "cell_type": "markdown",
   "metadata": {},
   "source": [
    "#### KNN various n\n"
   ]
  },
  {
   "cell_type": "code",
   "execution_count": 159,
   "metadata": {
    "collapsed": false,
    "scrolled": false
   },
   "outputs": [
    {
     "name": "stdout",
     "output_type": "stream",
     "text": [
      "n =  1\n",
      "Accuracy: 0.6594771241830067\n",
      "Precision: 0.1987550959532384\n",
      "Recall: 0.37916666666666665\n",
      "f1: 0.2585823884085002\n",
      "\n",
      "\n",
      "n =  2\n",
      "Accuracy: 0.7333333333333336\n",
      "Precision: 0.22517536929301635\n",
      "Recall: 0.2833333333333333\n",
      "f1: 0.24387046344321883\n",
      "\n",
      "\n",
      "n =  3\n",
      "Accuracy: 0.6169934640522875\n",
      "Precision: 0.21028336993982885\n",
      "Recall: 0.5041666666666667\n",
      "f1: 0.29408004628649903\n",
      "\n",
      "\n",
      "n =  4\n",
      "Accuracy: 0.6875816993464053\n",
      "Precision: 0.2219955976555115\n",
      "Recall: 0.3875\n",
      "f1: 0.27784335501577306\n",
      "\n",
      "\n",
      "n =  5\n",
      "Accuracy: 0.6202614379084969\n",
      "Precision: 0.22247834042502887\n",
      "Recall: 0.55\n",
      "f1: 0.3142250205514017\n",
      "\n",
      "\n",
      "n =  6\n",
      "Accuracy: 0.6450980392156864\n",
      "Precision: 0.20813493531490573\n",
      "Recall: 0.4625\n",
      "f1: 0.28419601381570797\n",
      "\n",
      "\n",
      "n =  7\n",
      "Accuracy: 0.5823529411764706\n",
      "Precision: 0.19480196990952311\n",
      "Recall: 0.5333333333333333\n",
      "f1: 0.2836740626353823\n",
      "\n",
      "\n"
     ]
    }
   ],
   "source": [
    "for n in range(1,8):\n",
    "    print('n = ', n)\n",
    "    getCrossValScoresBySKF(X, y, model=KNeighborsClassifier(n_neighbors=n))\n",
    "    print('\\n')"
   ]
  },
  {
   "cell_type": "markdown",
   "metadata": {},
   "source": [
    "#### Logistic Regression"
   ]
  },
  {
   "cell_type": "code",
   "execution_count": 160,
   "metadata": {
    "collapsed": false,
    "scrolled": false
   },
   "outputs": [
    {
     "name": "stdout",
     "output_type": "stream",
     "text": [
      "Accuracy: 0.5660130718954249\n",
      "Precision: 0.1858952516731426\n",
      "Recall: 0.5375\n",
      "f1: 0.27410081049147994\n"
     ]
    }
   ],
   "source": [
    "getCrossValScoresBySKF(X, y, model=LogisticRegression())"
   ]
  },
  {
   "cell_type": "markdown",
   "metadata": {},
   "source": [
    "#### GaussianNB"
   ]
  },
  {
   "cell_type": "code",
   "execution_count": 161,
   "metadata": {
    "collapsed": false
   },
   "outputs": [
    {
     "name": "stdout",
     "output_type": "stream",
     "text": [
      "Accuracy: 0.5516339869281045\n",
      "Precision: 0.20459800094533703\n",
      "Recall: 0.6458333333333334\n",
      "f1: 0.30954712148944363\n"
     ]
    }
   ],
   "source": [
    "getCrossValScoresBySKF(X, y, model=GaussianNB())"
   ]
  },
  {
   "cell_type": "markdown",
   "metadata": {},
   "source": [
    "#### BernoulliNB"
   ]
  },
  {
   "cell_type": "code",
   "execution_count": 162,
   "metadata": {
    "collapsed": false
   },
   "outputs": [
    {
     "name": "stdout",
     "output_type": "stream",
     "text": [
      "Accuracy: 0.15686274509803924\n",
      "Precision: 0.15686274509803924\n",
      "Recall: 1.0\n",
      "f1: 0.27118644067796616\n"
     ]
    }
   ],
   "source": [
    "getCrossValScoresBySKF(X, y, model=BernoulliNB())"
   ]
  },
  {
   "cell_type": "markdown",
   "metadata": {},
   "source": [
    "#### Random Forest"
   ]
  },
  {
   "cell_type": "code",
   "execution_count": 163,
   "metadata": {
    "collapsed": false
   },
   "outputs": [
    {
     "name": "stdout",
     "output_type": "stream",
     "text": [
      "Accuracy: 0.7222222222222224\n",
      "Precision: 0.23031033781033777\n",
      "Recall: 0.31666666666666665\n",
      "f1: 0.26128461881019427\n"
     ]
    }
   ],
   "source": [
    "getCrossValScoresBySKF(X, y, model=RandomForestClassifier())"
   ]
  },
  {
   "cell_type": "markdown",
   "metadata": {},
   "source": [
    "#### DecisionTreeClassifier"
   ]
  },
  {
   "cell_type": "code",
   "execution_count": 164,
   "metadata": {
    "collapsed": false
   },
   "outputs": [
    {
     "name": "stdout",
     "output_type": "stream",
     "text": [
      "Accuracy: 0.7130718954248368\n",
      "Precision: 0.22745652495652496\n",
      "Recall: 0.32916666666666666\n",
      "f1: 0.2605402577037387\n"
     ]
    }
   ],
   "source": [
    "getCrossValScoresBySKF(X, y, model=DecisionTreeClassifier())"
   ]
  },
  {
   "cell_type": "code",
   "execution_count": null,
   "metadata": {
    "collapsed": true
   },
   "outputs": [],
   "source": []
  },
  {
   "cell_type": "code",
   "execution_count": null,
   "metadata": {
    "collapsed": true
   },
   "outputs": [],
   "source": []
  },
  {
   "cell_type": "code",
   "execution_count": null,
   "metadata": {
    "collapsed": true
   },
   "outputs": [],
   "source": []
  }
 ],
 "metadata": {
  "kernelspec": {
   "display_name": "Python 3",
   "language": "python",
   "name": "python3"
  }
 },
 "nbformat": 4,
 "nbformat_minor": 0
}
