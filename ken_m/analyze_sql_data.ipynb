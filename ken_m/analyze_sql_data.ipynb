{
 "cells": [
  {
   "cell_type": "code",
   "execution_count": 127,
   "metadata": {
    "collapsed": false
   },
   "outputs": [],
   "source": [
    "from sqlalchemy import create_engine\n",
    "import pandas as pd\n",
    "import numpy as np\n",
    "\n",
    "from sklearn.cross_validation import train_test_split, StratifiedShuffleSplit\n",
    "from sklearn.neighbors import KNeighborsClassifier\n",
    "from sklearn.metrics import accuracy_score, precision_score, recall_score, f1_score, roc_curve, roc_auc_score\n",
    "from sklearn.linear_model import LogisticRegression, LinearRegression\n",
    "from sklearn.naive_bayes import GaussianNB, BernoulliNB\n",
    "from sklearn.svm import SVC\n",
    "from sklearn.tree import DecisionTreeClassifier\n",
    "from sklearn.tree import DecisionTreeRegressor\n",
    "from sklearn.ensemble import RandomForestClassifier\n",
    "from sklearn.learning_curve import learning_curve\n",
    "from sklearn.cross_validation import cross_val_score\n",
    "\n",
    "from unbalanced_dataset import OverSampler, SMOTE\n",
    "\n",
    "import matplotlib.pyplot as plt\n",
    "import seaborn as sns\n",
    "\n",
    "\n",
    "%matplotlib inline"
   ]
  },
  {
   "cell_type": "code",
   "execution_count": 128,
   "metadata": {
    "collapsed": true
   },
   "outputs": [],
   "source": [
    "CONFIG = {}\n",
    "\n",
    "with open('config.txt', \"r\") as in_file:\n",
    "    for line in in_file:\n",
    "        line = line.split(\":\")\n",
    "        parameter = line[0].strip()\n",
    "        value = line[1].strip()\n",
    "        CONFIG[parameter] = value\n",
    "                \n",
    "engine_path = 'postgresql://'+CONFIG['username']+':'+\\\n",
    "                CONFIG['password']+'@'+CONFIG['ip']+\\\n",
    "                ':'+CONFIG['port']+'/'+CONFIG['database']\n",
    "        \n",
    "engine = create_engine(engine_path)"
   ]
  },
  {
   "cell_type": "markdown",
   "metadata": {},
   "source": [
    "### Want something like:\n",
    "\n",
    "    SELECT\n",
    "        table4.countrycode as 'countrycode',\n",
    "        b.table1 as 'table1',\n",
    "        b.table2 as 'table2',\n",
    "        b.table3 as 'table3',\n",
    "        table4.year as 'table4'\n",
    "        (SELECT\n",
    "            table3.countrycode as 'countrycode',\n",
    "            a.table1 as 'table1',\n",
    "            a.table2 as 'table2',\n",
    "            table3.year as 'table3'\n",
    "         FROM\n",
    "            (SELECT\n",
    "                 table1.countrycode as 'countrycode',\n",
    "                 table1.year as 'table1',\n",
    "                 table2.year as 'table2'\n",
    "             FROM\n",
    "                 table1\n",
    "             JOIN\n",
    "                 table2\n",
    "               ON \n",
    "                 table1.countrycode = table2.countrycode\n",
    "             ) a\n",
    "         JOIN\n",
    "             table3\n",
    "           ON\n",
    "             a.countrycode = table3.countrycode  \n",
    "        ) b    \n",
    "    JOIN\n",
    "        table4\n",
    "      ON\n",
    "        a.countrycode = table3.countrycode \n",
    "    \n",
    "        \n",
    "       \n"
   ]
  },
  {
   "cell_type": "code",
   "execution_count": 129,
   "metadata": {
    "collapsed": false
   },
   "outputs": [],
   "source": [
    "def makeSQLQuery(table_names, year):\n",
    "    dotyyear = '.y' + str(year)\n",
    "    current_unit = 'a'\n",
    "    query = '(SELECT ' + table_names[0] + '.countrycode AS countrycode, ' + \\\n",
    "            table_names[0] + dotyyear + ' AS ' + table_names[0] + ', ' + \\\n",
    "            table_names[1] + dotyyear + ' AS ' + table_names[1] + \\\n",
    "            ' FROM ' + table_names[0] + \\\n",
    "            ' JOIN ' + table_names[1] + \\\n",
    "            ' ON ' + table_names[0] + '.countrycode=' + table_names[1] + '.countrycode) '\n",
    "    query = query + current_unit\n",
    "    \n",
    "    for table in table_names[2:]:\n",
    "        curr_index = table_names.index(table)\n",
    "        temp_list = table_names[:curr_index+1]\n",
    "        \n",
    "        pre_string = '(SELECT ' + table + '.countrycode as countrycode'\n",
    "        \n",
    "        for temp_table in temp_list[:-1]:\n",
    "            pre_string = pre_string + ', ' + current_unit + '.' + temp_table + ' AS ' + temp_table\n",
    "        \n",
    "        pre_string = pre_string + ', ' + table + dotyyear + ' AS ' + table\n",
    "        \n",
    "        query = pre_string + ' FROM ' + query + ' JOIN ' + table + \\\n",
    "                ' ON ' + current_unit + '.countrycode=' + table + '.countrycode) '\n",
    "        \n",
    "        current_unit = current_unit + 'a'\n",
    "        query = query + current_unit\n",
    "        \n",
    "    query = query.rsplit(' ', 1)[0][1:-1]\n",
    "    \n",
    "    return query\n",
    "    \n",
    "    "
   ]
  },
  {
   "cell_type": "code",
   "execution_count": 130,
   "metadata": {
    "collapsed": true
   },
   "outputs": [],
   "source": [
    "table_names = ['corruption_perception', 'life_expectancy', \\\n",
    "               'population_15_64', 'population_65_up', \\\n",
    "                'zscores']"
   ]
  },
  {
   "cell_type": "code",
   "execution_count": 131,
   "metadata": {
    "collapsed": false,
    "scrolled": false
   },
   "outputs": [],
   "source": [
    "query = makeSQLQuery(table_names, 2013)"
   ]
  },
  {
   "cell_type": "code",
   "execution_count": 132,
   "metadata": {
    "collapsed": false
   },
   "outputs": [],
   "source": [
    "data_2013 = pd.read_sql_query(query, engine)"
   ]
  },
  {
   "cell_type": "code",
   "execution_count": 133,
   "metadata": {
    "collapsed": true
   },
   "outputs": [],
   "source": [
    "data_2013 = data_2013.set_index('countrycode')"
   ]
  },
  {
   "cell_type": "code",
   "execution_count": 134,
   "metadata": {
    "collapsed": false
   },
   "outputs": [],
   "source": [
    "data_2013['zscores'] = data_2013['zscores'].astype(float)"
   ]
  },
  {
   "cell_type": "code",
   "execution_count": 135,
   "metadata": {
    "collapsed": false
   },
   "outputs": [
    {
     "data": {
      "text/html": [
       "<div>\n",
       "<table border=\"1\" class=\"dataframe\">\n",
       "  <thead>\n",
       "    <tr style=\"text-align: right;\">\n",
       "      <th></th>\n",
       "      <th>corruption_perception</th>\n",
       "      <th>life_expectancy</th>\n",
       "      <th>population_15_64</th>\n",
       "      <th>population_65_up</th>\n",
       "      <th>zscores</th>\n",
       "    </tr>\n",
       "    <tr>\n",
       "      <th>countrycode</th>\n",
       "      <th></th>\n",
       "      <th></th>\n",
       "      <th></th>\n",
       "      <th></th>\n",
       "      <th></th>\n",
       "    </tr>\n",
       "  </thead>\n",
       "  <tbody>\n",
       "    <tr>\n",
       "      <th>AFG</th>\n",
       "      <td>8</td>\n",
       "      <td>60.028268</td>\n",
       "      <td>51.920329</td>\n",
       "      <td>2.394414</td>\n",
       "      <td>6.005490</td>\n",
       "    </tr>\n",
       "    <tr>\n",
       "      <th>AGO</th>\n",
       "      <td>23</td>\n",
       "      <td>51.866171</td>\n",
       "      <td>49.673340</td>\n",
       "      <td>2.314084</td>\n",
       "      <td>-0.232733</td>\n",
       "    </tr>\n",
       "    <tr>\n",
       "      <th>ALB</th>\n",
       "      <td>31</td>\n",
       "      <td>77.537244</td>\n",
       "      <td>68.848024</td>\n",
       "      <td>11.769682</td>\n",
       "      <td>-0.003833</td>\n",
       "    </tr>\n",
       "    <tr>\n",
       "      <th>ARE</th>\n",
       "      <td>69</td>\n",
       "      <td>77.195634</td>\n",
       "      <td>85.340053</td>\n",
       "      <td>0.941861</td>\n",
       "      <td>-0.265036</td>\n",
       "    </tr>\n",
       "    <tr>\n",
       "      <th>ARG</th>\n",
       "      <td>34</td>\n",
       "      <td>75.986098</td>\n",
       "      <td>63.834426</td>\n",
       "      <td>10.699832</td>\n",
       "      <td>-0.265098</td>\n",
       "    </tr>\n",
       "  </tbody>\n",
       "</table>\n",
       "</div>"
      ],
      "text/plain": [
       "             corruption_perception  life_expectancy  population_15_64  \\\n",
       "countrycode                                                             \n",
       "AFG                              8        60.028268         51.920329   \n",
       "AGO                             23        51.866171         49.673340   \n",
       "ALB                             31        77.537244         68.848024   \n",
       "ARE                             69        77.195634         85.340053   \n",
       "ARG                             34        75.986098         63.834426   \n",
       "\n",
       "             population_65_up   zscores  \n",
       "countrycode                              \n",
       "AFG                  2.394414  6.005490  \n",
       "AGO                  2.314084 -0.232733  \n",
       "ALB                 11.769682 -0.003833  \n",
       "ARE                  0.941861 -0.265036  \n",
       "ARG                 10.699832 -0.265098  "
      ]
     },
     "execution_count": 135,
     "metadata": {},
     "output_type": "execute_result"
    }
   ],
   "source": [
    "data_2013.head()"
   ]
  },
  {
   "cell_type": "code",
   "execution_count": 136,
   "metadata": {
    "collapsed": false,
    "scrolled": false
   },
   "outputs": [],
   "source": [
    "\n",
    "data_2013.loc[data_2013['zscores'] > 0, 'zscores'] = 1\n",
    "data_2013.loc[data_2013['zscores'] <= 0, 'zscores'] = 0\n"
   ]
  },
  {
   "cell_type": "code",
   "execution_count": 137,
   "metadata": {
    "collapsed": false
   },
   "outputs": [
    {
     "data": {
      "text/html": [
       "<div>\n",
       "<table border=\"1\" class=\"dataframe\">\n",
       "  <thead>\n",
       "    <tr style=\"text-align: right;\">\n",
       "      <th></th>\n",
       "      <th>corruption_perception</th>\n",
       "      <th>life_expectancy</th>\n",
       "      <th>population_15_64</th>\n",
       "      <th>population_65_up</th>\n",
       "      <th>zscores</th>\n",
       "    </tr>\n",
       "    <tr>\n",
       "      <th>countrycode</th>\n",
       "      <th></th>\n",
       "      <th></th>\n",
       "      <th></th>\n",
       "      <th></th>\n",
       "      <th></th>\n",
       "    </tr>\n",
       "  </thead>\n",
       "  <tbody>\n",
       "    <tr>\n",
       "      <th>BLZ</th>\n",
       "      <td>NaN</td>\n",
       "      <td>69.982049</td>\n",
       "      <td>62.518994</td>\n",
       "      <td>3.758938</td>\n",
       "      <td>0</td>\n",
       "    </tr>\n",
       "    <tr>\n",
       "      <th>FJI</th>\n",
       "      <td>NaN</td>\n",
       "      <td>69.917927</td>\n",
       "      <td>65.713066</td>\n",
       "      <td>5.441534</td>\n",
       "      <td>0</td>\n",
       "    </tr>\n",
       "    <tr>\n",
       "      <th>GRD</th>\n",
       "      <td>NaN</td>\n",
       "      <td>73.193561</td>\n",
       "      <td>66.079961</td>\n",
       "      <td>7.154728</td>\n",
       "      <td>0</td>\n",
       "    </tr>\n",
       "    <tr>\n",
       "      <th>KIR</th>\n",
       "      <td>NaN</td>\n",
       "      <td>65.766585</td>\n",
       "      <td>61.033314</td>\n",
       "      <td>3.610517</td>\n",
       "      <td>0</td>\n",
       "    </tr>\n",
       "    <tr>\n",
       "      <th>MAC</th>\n",
       "      <td>NaN</td>\n",
       "      <td>80.339146</td>\n",
       "      <td>79.257855</td>\n",
       "      <td>8.119094</td>\n",
       "      <td>0</td>\n",
       "    </tr>\n",
       "    <tr>\n",
       "      <th>MDV</th>\n",
       "      <td>NaN</td>\n",
       "      <td>76.602610</td>\n",
       "      <td>67.509135</td>\n",
       "      <td>4.775128</td>\n",
       "      <td>0</td>\n",
       "    </tr>\n",
       "    <tr>\n",
       "      <th>SLB</th>\n",
       "      <td>NaN</td>\n",
       "      <td>67.718927</td>\n",
       "      <td>56.518544</td>\n",
       "      <td>3.367845</td>\n",
       "      <td>0</td>\n",
       "    </tr>\n",
       "    <tr>\n",
       "      <th>TON</th>\n",
       "      <td>NaN</td>\n",
       "      <td>72.640341</td>\n",
       "      <td>56.966492</td>\n",
       "      <td>5.886493</td>\n",
       "      <td>0</td>\n",
       "    </tr>\n",
       "    <tr>\n",
       "      <th>VUT</th>\n",
       "      <td>NaN</td>\n",
       "      <td>71.669244</td>\n",
       "      <td>58.783797</td>\n",
       "      <td>4.044398</td>\n",
       "      <td>0</td>\n",
       "    </tr>\n",
       "    <tr>\n",
       "      <th>WSM</th>\n",
       "      <td>NaN</td>\n",
       "      <td>73.250390</td>\n",
       "      <td>57.108567</td>\n",
       "      <td>5.140501</td>\n",
       "      <td>0</td>\n",
       "    </tr>\n",
       "  </tbody>\n",
       "</table>\n",
       "</div>"
      ],
      "text/plain": [
       "             corruption_perception  life_expectancy  population_15_64  \\\n",
       "countrycode                                                             \n",
       "BLZ                            NaN        69.982049         62.518994   \n",
       "FJI                            NaN        69.917927         65.713066   \n",
       "GRD                            NaN        73.193561         66.079961   \n",
       "KIR                            NaN        65.766585         61.033314   \n",
       "MAC                            NaN        80.339146         79.257855   \n",
       "MDV                            NaN        76.602610         67.509135   \n",
       "SLB                            NaN        67.718927         56.518544   \n",
       "TON                            NaN        72.640341         56.966492   \n",
       "VUT                            NaN        71.669244         58.783797   \n",
       "WSM                            NaN        73.250390         57.108567   \n",
       "\n",
       "             population_65_up  zscores  \n",
       "countrycode                             \n",
       "BLZ                  3.758938        0  \n",
       "FJI                  5.441534        0  \n",
       "GRD                  7.154728        0  \n",
       "KIR                  3.610517        0  \n",
       "MAC                  8.119094        0  \n",
       "MDV                  4.775128        0  \n",
       "SLB                  3.367845        0  \n",
       "TON                  5.886493        0  \n",
       "VUT                  4.044398        0  \n",
       "WSM                  5.140501        0  "
      ]
     },
     "execution_count": 137,
     "metadata": {},
     "output_type": "execute_result"
    }
   ],
   "source": [
    "#The rows to be dropped\n",
    "data_2013[data_2013.isnull().any(axis=1)]"
   ]
  },
  {
   "cell_type": "code",
   "execution_count": 138,
   "metadata": {
    "collapsed": true
   },
   "outputs": [],
   "source": [
    "data_2013 = data_2013.dropna()"
   ]
  },
  {
   "cell_type": "code",
   "execution_count": 139,
   "metadata": {
    "collapsed": false
   },
   "outputs": [],
   "source": [
    "def getScoreValues(X_train, X_test, y_train, y_test, model=KNeighborsClassifier(n_neighbors=6), verbose=True):\n",
    "    model = model\n",
    "    model.fit(X_train, y_train)\n",
    "    y_pred = model.predict(X_test)\n",
    "    \n",
    "    \n",
    "    \n",
    "    accuracy_score_value = accuracy_score(y_test, y_pred)\n",
    "    precision_score_value = precision_score(y_test, y_pred)\n",
    "    recall_score_value = recall_score(y_test, y_pred)\n",
    "    f1_score_value = f1_score(y_test, y_pred)\n",
    "    \n",
    "    try:\n",
    "        print(model.feature_importances_)\n",
    "    except AttributeError:\n",
    "        pass\n",
    "    \n",
    "    if verbose:\n",
    "        #print(pd.concat([y_test,pd.Series(y_pred, index=y_test.index)], axis = 1))\n",
    "        print('Accuracy: {}\\nPrecision: {}\\nRecall: {}\\nf1: {}'.format(accuracy_score_value, \\\n",
    "                                                                       precision_score_value, \\\n",
    "                                                                       recall_score_value, \\\n",
    "                                                                       f1_score_value))\n",
    "    \n",
    "    return accuracy_score_value, precision_score_value, recall_score_value, f1_score_value"
   ]
  },
  {
   "cell_type": "code",
   "execution_count": 140,
   "metadata": {
    "collapsed": false
   },
   "outputs": [],
   "source": [
    "X = data_2013[['corruption_perception', 'life_expectancy', \\\n",
    "               'population_15_64', 'population_65_up']]\n",
    "y = data_2013['zscores']\n",
    "\n",
    "\n",
    "X_train, X_test, y_train, y_test = train_test_split(X, y, test_size = .30, random_state=4444)"
   ]
  },
  {
   "cell_type": "code",
   "execution_count": 141,
   "metadata": {
    "collapsed": false
   },
   "outputs": [
    {
     "name": "stdout",
     "output_type": "stream",
     "text": [
      "[ 0.38033117  0.29900753  0.23792448  0.08273682]\n",
      "Accuracy: 0.8627450980392157\n",
      "Precision: 0.2857142857142857\n",
      "Recall: 0.5\n",
      "f1: 0.36363636363636365\n"
     ]
    },
    {
     "data": {
      "text/plain": [
       "(0.86274509803921573, 0.2857142857142857, 0.5, 0.36363636363636365)"
      ]
     },
     "execution_count": 141,
     "metadata": {},
     "output_type": "execute_result"
    }
   ],
   "source": [
    "getScoreValues(X_train, X_test, y_train, y_test, DecisionTreeClassifier())"
   ]
  },
  {
   "cell_type": "code",
   "execution_count": 142,
   "metadata": {
    "collapsed": false
   },
   "outputs": [
    {
     "name": "stdout",
     "output_type": "stream",
     "text": [
      "Accuracy: 0.9215686274509803\n",
      "Precision: 0.0\n",
      "Recall: 0.0\n",
      "f1: 0.0\n"
     ]
    },
    {
     "name": "stderr",
     "output_type": "stream",
     "text": [
      "/Users/kenn/anaconda/lib/python3.5/site-packages/sklearn/metrics/classification.py:1074: UndefinedMetricWarning: Precision is ill-defined and being set to 0.0 due to no predicted samples.\n",
      "  'precision', 'predicted', average, warn_for)\n",
      "/Users/kenn/anaconda/lib/python3.5/site-packages/sklearn/metrics/classification.py:1074: UndefinedMetricWarning: F-score is ill-defined and being set to 0.0 due to no predicted samples.\n",
      "  'precision', 'predicted', average, warn_for)\n"
     ]
    },
    {
     "data": {
      "text/plain": [
       "(0.92156862745098034, 0.0, 0.0, 0.0)"
      ]
     },
     "execution_count": 142,
     "metadata": {},
     "output_type": "execute_result"
    }
   ],
   "source": [
    "getScoreValues(X_train, X_test, y_train, y_test, BernoulliNB())"
   ]
  },
  {
   "cell_type": "code",
   "execution_count": 143,
   "metadata": {
    "collapsed": false
   },
   "outputs": [
    {
     "name": "stdout",
     "output_type": "stream",
     "text": [
      "Accuracy: 0.8431372549019608\n",
      "Precision: 0.25\n",
      "Recall: 0.5\n",
      "f1: 0.3333333333333333\n"
     ]
    },
    {
     "data": {
      "text/plain": [
       "(0.84313725490196079, 0.25, 0.5, 0.33333333333333331)"
      ]
     },
     "execution_count": 143,
     "metadata": {},
     "output_type": "execute_result"
    }
   ],
   "source": [
    "getScoreValues(X_train, X_test, y_train, y_test, GaussianNB())"
   ]
  },
  {
   "cell_type": "code",
   "execution_count": 144,
   "metadata": {
    "collapsed": false
   },
   "outputs": [
    {
     "name": "stdout",
     "output_type": "stream",
     "text": [
      "Accuracy: 0.9215686274509803\n",
      "Precision: 0.0\n",
      "Recall: 0.0\n",
      "f1: 0.0\n"
     ]
    },
    {
     "name": "stderr",
     "output_type": "stream",
     "text": [
      "/Users/kenn/anaconda/lib/python3.5/site-packages/sklearn/metrics/classification.py:1074: UndefinedMetricWarning: Precision is ill-defined and being set to 0.0 due to no predicted samples.\n",
      "  'precision', 'predicted', average, warn_for)\n",
      "/Users/kenn/anaconda/lib/python3.5/site-packages/sklearn/metrics/classification.py:1074: UndefinedMetricWarning: F-score is ill-defined and being set to 0.0 due to no predicted samples.\n",
      "  'precision', 'predicted', average, warn_for)\n"
     ]
    },
    {
     "data": {
      "text/plain": [
       "(0.92156862745098034, 0.0, 0.0, 0.0)"
      ]
     },
     "execution_count": 144,
     "metadata": {},
     "output_type": "execute_result"
    }
   ],
   "source": [
    "getScoreValues(X_train, X_test, y_train, y_test, model=SVC())"
   ]
  },
  {
   "cell_type": "code",
   "execution_count": 145,
   "metadata": {
    "collapsed": false
   },
   "outputs": [
    {
     "name": "stdout",
     "output_type": "stream",
     "text": [
      "[ 0.25944932  0.27431297  0.22745312  0.23878459]\n",
      "Accuracy: 0.9411764705882353\n",
      "Precision: 0.6666666666666666\n",
      "Recall: 0.5\n",
      "f1: 0.5714285714285715\n"
     ]
    },
    {
     "data": {
      "text/plain": [
       "(0.94117647058823528, 0.66666666666666663, 0.5, 0.57142857142857151)"
      ]
     },
     "execution_count": 145,
     "metadata": {},
     "output_type": "execute_result"
    }
   ],
   "source": [
    "getScoreValues(X_train, X_test, y_train, y_test, model=RandomForestClassifier())"
   ]
  },
  {
   "cell_type": "code",
   "execution_count": 146,
   "metadata": {
    "collapsed": true
   },
   "outputs": [],
   "source": [
    "def getROCcurve(X_train, X_test, y_train, y_test, model=KNeighborsClassifier(n_neighbors=6)):\n",
    "    model = model\n",
    "    model.fit(X_train, y_train)\n",
    "    y_scores = model.predict_proba(X_test)[:,1]\n",
    "    fpr, tpr, thresholds = roc_curve(y_test, y_scores)\n",
    "\n",
    "    auc = roc_auc_score(y_test, y_scores)\n",
    "    print('AUC: {}'.format(auc))\n",
    "    \n",
    "    fig,ax = plt.subplots()\n",
    "    ax.plot(fpr, tpr, label='ROC Curve')\n",
    "\n",
    "    fig.set_size_inches(12, 8, forward=True)\n",
    "    plt.xlabel('FPR')\n",
    "    plt.ylabel('TPR')\n",
    "    plt.title('ROC Curve')\n",
    "    plt.legend(loc='best')"
   ]
  },
  {
   "cell_type": "code",
   "execution_count": 147,
   "metadata": {
    "collapsed": false
   },
   "outputs": [
    {
     "name": "stdout",
     "output_type": "stream",
     "text": [
      "AUC: 0.9148936170212766\n"
     ]
    },
    {
     "data": {
      "image/png": "[encoded data removed]",
      "text/plain": [
       "<matplotlib.figure.Figure at 0x10d1f8c18>"
      ]
     },
     "metadata": {},
     "output_type": "display_data"
    }
   ],
   "source": [
    "getROCcurve(X_train, X_test, y_train, y_test, model=RandomForestClassifier())"
   ]
  },
  {
   "cell_type": "code",
   "execution_count": 148,
   "metadata": {
    "collapsed": true
   },
   "outputs": [],
   "source": [
    "def getScoreValuesByCV(X, y, model=KNeighborsClassifier(n_neighbors=5)):\n",
    "    \n",
    "    accuracy_score_value = np.mean(cross_val_score(model, X, y, scoring='accuracy', cv=5))\n",
    "    precision_score_value = np.mean(cross_val_score(model, X, y, scoring='precision', cv=5))\n",
    "    recall_score_value = np.mean(cross_val_score(model, X, y, scoring='recall', cv=5))\n",
    "    f1_score_value = np.mean(cross_val_score(model, X, y, scoring='f1', cv=5))\n",
    "    roc_auc_value = np.mean(cross_val_score(model, X, y, scoring='roc_auc', cv=5))\n",
    "    #roc_auc_value = 0  \n",
    "        \n",
    "    print('Accuracy: {}\\nPrecision: {}\\nRecall: {}\\nf1: {}\\nROC AUC: {}'.format(accuracy_score_value, \\\n",
    "                                                                   precision_score_value, \\\n",
    "                                                                   recall_score_value, \\\n",
    "                                                                   f1_score_value,\n",
    "                                                                   roc_auc_value))"
   ]
  },
  {
   "cell_type": "code",
   "execution_count": 149,
   "metadata": {
    "collapsed": false,
    "scrolled": false
   },
   "outputs": [
    {
     "name": "stderr",
     "output_type": "stream",
     "text": [
      "/Users/kenn/anaconda/lib/python3.5/site-packages/sklearn/metrics/classification.py:1074: UndefinedMetricWarning: Precision is ill-defined and being set to 0.0 due to no predicted samples.\n",
      "  'precision', 'predicted', average, warn_for)\n",
      "/Users/kenn/anaconda/lib/python3.5/site-packages/sklearn/metrics/classification.py:1074: UndefinedMetricWarning: F-score is ill-defined and being set to 0.0 due to no predicted samples.\n",
      "  'precision', 'predicted', average, warn_for)\n"
     ]
    },
    {
     "name": "stdout",
     "output_type": "stream",
     "text": [
      "Accuracy: 0.8521670486376369\n",
      "Precision: 0.5\n",
      "Recall: 0.19333333333333336\n",
      "f1: 0.2666666666666667\n",
      "ROC AUC: 0.6422495894909688\n"
     ]
    }
   ],
   "source": [
    "getScoreValuesByCV(X,y)"
   ]
  },
  {
   "cell_type": "code",
   "execution_count": 150,
   "metadata": {
    "collapsed": false,
    "scrolled": false
   },
   "outputs": [
    {
     "name": "stdout",
     "output_type": "stream",
     "text": [
      "Accuracy: 0.8284491978609626\n",
      "Precision: 0.4\n",
      "Recall: 0.23333333333333334\n",
      "f1: 0.28701298701298705\n",
      "ROC AUC: 0.6936124794745486\n"
     ]
    }
   ],
   "source": [
    "getScoreValuesByCV(X,y, model=RandomForestClassifier())"
   ]
  },
  {
   "cell_type": "code",
   "execution_count": 151,
   "metadata": {
    "collapsed": false
   },
   "outputs": [
    {
     "name": "stdout",
     "output_type": "stream",
     "text": [
      "Accuracy: 0.7630099312452253\n",
      "Precision: 0.3437445887445888\n",
      "Recall: 0.5\n",
      "f1: 0.40230769230769237\n",
      "ROC AUC: 0.7106732348111657\n"
     ]
    }
   ],
   "source": [
    "getScoreValuesByCV(X,y, model=GaussianNB())"
   ]
  },
  {
   "cell_type": "code",
   "execution_count": 152,
   "metadata": {
    "collapsed": false,
    "scrolled": false
   },
   "outputs": [
    {
     "name": "stdout",
     "output_type": "stream",
     "text": [
      "Accuracy: 0.7981563534504712\n",
      "Precision: 0.325\n",
      "Recall: 0.30666666666666664\n",
      "f1: 0.29015873015873017\n",
      "ROC AUC: 0.5970525451559935\n"
     ]
    }
   ],
   "source": [
    "getScoreValuesByCV(X,y, model=DecisionTreeClassifier())"
   ]
  },
  {
   "cell_type": "code",
   "execution_count": 153,
   "metadata": {
    "collapsed": false,
    "scrolled": false
   },
   "outputs": [
    {
     "name": "stderr",
     "output_type": "stream",
     "text": [
      "/Users/kenn/anaconda/lib/python3.5/site-packages/sklearn/metrics/classification.py:1074: UndefinedMetricWarning: Precision is ill-defined and being set to 0.0 due to no predicted samples.\n",
      "  'precision', 'predicted', average, warn_for)\n",
      "/Users/kenn/anaconda/lib/python3.5/site-packages/sklearn/metrics/classification.py:1074: UndefinedMetricWarning: Precision is ill-defined and being set to 0.0 due to no predicted samples.\n",
      "  'precision', 'predicted', average, warn_for)\n",
      "/Users/kenn/anaconda/lib/python3.5/site-packages/sklearn/metrics/classification.py:1074: UndefinedMetricWarning: Precision is ill-defined and being set to 0.0 due to no predicted samples.\n",
      "  'precision', 'predicted', average, warn_for)\n",
      "/Users/kenn/anaconda/lib/python3.5/site-packages/sklearn/metrics/classification.py:1074: UndefinedMetricWarning: Precision is ill-defined and being set to 0.0 due to no predicted samples.\n",
      "  'precision', 'predicted', average, warn_for)\n",
      "/Users/kenn/anaconda/lib/python3.5/site-packages/sklearn/metrics/classification.py:1074: UndefinedMetricWarning: Precision is ill-defined and being set to 0.0 due to no predicted samples.\n",
      "  'precision', 'predicted', average, warn_for)\n",
      "/Users/kenn/anaconda/lib/python3.5/site-packages/sklearn/metrics/classification.py:1074: UndefinedMetricWarning: F-score is ill-defined and being set to 0.0 due to no predicted samples.\n",
      "  'precision', 'predicted', average, warn_for)\n",
      "/Users/kenn/anaconda/lib/python3.5/site-packages/sklearn/metrics/classification.py:1074: UndefinedMetricWarning: F-score is ill-defined and being set to 0.0 due to no predicted samples.\n",
      "  'precision', 'predicted', average, warn_for)\n",
      "/Users/kenn/anaconda/lib/python3.5/site-packages/sklearn/metrics/classification.py:1074: UndefinedMetricWarning: F-score is ill-defined and being set to 0.0 due to no predicted samples.\n",
      "  'precision', 'predicted', average, warn_for)\n",
      "/Users/kenn/anaconda/lib/python3.5/site-packages/sklearn/metrics/classification.py:1074: UndefinedMetricWarning: F-score is ill-defined and being set to 0.0 due to no predicted samples.\n",
      "  'precision', 'predicted', average, warn_for)\n"
     ]
    },
    {
     "name": "stdout",
     "output_type": "stream",
     "text": [
      "Accuracy: 0.8462846956964605\n",
      "Precision: 0.0\n",
      "Recall: 0.0\n",
      "f1: 0.0\n",
      "ROC AUC: 0.6753694581280788\n"
     ]
    },
    {
     "name": "stderr",
     "output_type": "stream",
     "text": [
      "/Users/kenn/anaconda/lib/python3.5/site-packages/sklearn/metrics/classification.py:1074: UndefinedMetricWarning: F-score is ill-defined and being set to 0.0 due to no predicted samples.\n",
      "  'precision', 'predicted', average, warn_for)\n"
     ]
    }
   ],
   "source": [
    "getScoreValuesByCV(X,y, model=LogisticRegression())"
   ]
  },
  {
   "cell_type": "markdown",
   "metadata": {},
   "source": [
    "## Over sampling"
   ]
  },
  {
   "cell_type": "code",
   "execution_count": 154,
   "metadata": {
    "collapsed": true
   },
   "outputs": [],
   "source": [
    "x_cols = ['corruption_perception', 'life_expectancy', \\\n",
    "               'population_15_64', 'population_65_up']"
   ]
  },
  {
   "cell_type": "code",
   "execution_count": 155,
   "metadata": {
    "collapsed": false
   },
   "outputs": [],
   "source": [
    "X = data_2013[x_cols]\n",
    "y = data_2013['zscores']\n",
    "\n",
    "X_train, X_test, y_train, y_test = train_test_split(X, y, test_size = .30, random_state=4444)"
   ]
  },
  {
   "cell_type": "code",
   "execution_count": 156,
   "metadata": {
    "collapsed": false
   },
   "outputs": [],
   "source": [
    "verbose = False\n",
    "ratio = float(y.value_counts()[0]) / float(y.value_counts()[1])\n",
    "X_train = X_train.reset_index(drop=True).as_matrix()\n",
    "y_train = y_train.reset_index(drop=True).as_matrix()\n",
    "\n",
    "smote = SMOTE(ratio=ratio, verbose=verbose)\n",
    "smox, smoy = smote.fit_transform(X_train, y_train)"
   ]
  },
  {
   "cell_type": "code",
   "execution_count": 157,
   "metadata": {
    "collapsed": false
   },
   "outputs": [
    {
     "data": {
      "text/plain": [
       "array([[ 20.        ,  67.77204878,  63.96682071,   3.93080535],\n",
       "       [ 45.        ,  73.90141463,  60.13272381,   3.76568713],\n",
       "       [ 41.        ,  74.46585366,  66.76508737,  19.36866524],\n",
       "       [ 44.        ,  75.18704878,  70.87910842,  11.7906842 ],\n",
       "       [ 46.        ,  79.25639024,  69.88520577,  13.30639678],\n",
       "       [ 83.        ,  81.10487805,  66.00651062,  17.14151995],\n",
       "       [ 30.        ,  50.36312195,  54.39478389,   2.66754752],\n",
       "       [ 28.        ,  71.07317073,  70.94620524,  13.16186509],\n",
       "       [ 38.        ,  60.52039024,  54.08343216,   3.03654757],\n",
       "       [ 42.        ,  76.27692683,  71.55186054,  14.50012332],\n",
       "       [ 40.        ,  75.35302439,  73.95641056,   8.88928751],\n",
       "       [ 29.        ,  59.13236585,  54.67229945,   2.74907959],\n",
       "       [ 37.        ,  61.466     ,  51.03697772,   3.37157351],\n",
       "       [  8.        ,  69.79195122,  68.84963491,   9.45878416],\n",
       "       [ 27.        ,  71.2452439 ,  64.58821148,   4.91391834],\n",
       "       [ 28.        ,  65.96368293,  60.09074452,   4.4826295 ],\n",
       "       [ 38.        ,  73.46892683,  66.32882773,   8.7881394 ],\n",
       "       [ 69.        ,  77.19563415,  85.34005282,   0.9418607 ],\n",
       "       [ 32.        ,  68.70460976,  66.73069743,   5.06172295],\n",
       "       [ 86.        ,  82.34634146,  73.31743573,  10.45428416],\n",
       "       [ 32.        ,  70.92578049,  62.24036871,   5.11109714],\n",
       "       [ 15.        ,  71.65768293,  66.09948281,   4.39338607],\n",
       "       [ 19.        ,  54.83841463,  55.72248736,   3.14067535],\n",
       "       [ 85.        ,  82.74878049,  67.60993945,  17.59871231],\n",
       "       [ 57.        ,  80.27804878,  68.23983119,  17.34345722],\n",
       "       [ 24.        ,  70.20243902,  65.05110432,   4.28008921],\n",
       "       [ 68.        ,  78.4184878 ,  84.00980732,   1.12102672],\n",
       "       [ 74.        ,  83.33195122,  61.95752436,  25.0093263 ],\n",
       "       [ 42.        ,  75.13658537,  67.15928932,  16.17737638],\n",
       "       [ 49.        ,  74.0795122 ,  68.6675352 ,  14.19509558],\n",
       "       [ 68.        ,  76.42439024,  66.09863263,  18.30407939],\n",
       "       [ 59.        ,  82.42682927,  67.05549177,  18.08981921],\n",
       "       [ 46.        ,  61.14207317,  57.59059092,   3.45548109],\n",
       "       [ 28.        ,  57.53519512,  49.88573174,   2.60252215],\n",
       "       [ 30.        ,  62.80270732,  56.33955675,   3.18154024],\n",
       "       [ 27.        ,  60.95378049,  54.98652973,   2.71960093],\n",
       "       [ 25.        ,  52.44214634,  53.14680598,   2.75734697],\n",
       "       [ 35.        ,  74.24692683,  72.0218782 ,   9.7407257 ],\n",
       "       [ 36.        ,  59.31202439,  54.35415519,   2.8907992 ],\n",
       "       [ 38.        ,  70.30529268,  70.31092387,   8.93349849],\n",
       "       [ 78.        ,  81.04390244,  65.95433642,  20.95176144],\n",
       "       [ 26.        ,  70.45      ,  67.71079185,   6.76327898],\n",
       "       [ 54.        ,  75.26829268,  68.1539748 ,  17.31004875],\n",
       "       [ 91.        ,  80.30243902,  64.71003555,  17.97461476],\n",
       "       [ 36.        ,  73.80973171,  68.39655638,   6.50485063],\n",
       "       [ 19.        ,  51.1914878 ,  49.2975849 ,   2.48406562],\n",
       "       [ 29.        ,  73.31990244,  63.0863691 ,   6.38491343],\n",
       "       [ 35.        ,  64.29182927,  51.59367538,   3.18062746],\n",
       "       [ 28.        ,  64.67390244,  54.79374803,   2.81693993],\n",
       "       [ 48.        ,  76.54595122,  76.85195272,   2.29690083],\n",
       "       [ 31.        ,  77.5372439 ,  68.84802418,  11.76968183],\n",
       "       [ 25.        ,  49.87987805,  56.4209653 ,   3.88402689],\n",
       "       [ 29.        ,  71.48639024,  57.71028908,   4.68228725],\n",
       "       [ 17.        ,  65.45656098,  67.43152023,   4.0842253 ],\n",
       "       [ 37.        ,  74.24029268,  66.52582241,   8.4898279 ],\n",
       "       [ 62.        ,  80.37317073,  65.64378039,  19.94853398],\n",
       "       [ 91.        ,  81.40731707,  65.5930115 ,  14.01711787],\n",
       "       [ 38.        ,  59.23736585,  50.81525186,   2.92329454],\n",
       "       [ 36.        ,  74.56895122,  66.40075514,   5.70965875],\n",
       "       [ 36.        ,  70.99      ,  65.77917331,   6.72434155],\n",
       "       [ 27.        ,  66.31002439,  64.519147  ,   4.71687824],\n",
       "       [ 42.        ,  74.12243902,  68.69144715,   7.32897516],\n",
       "       [ 39.        ,  48.93792683,  58.65536153,   3.4873317 ],\n",
       "       [ 21.        ,  65.65409756,  66.30803712,   5.16596488],\n",
       "       [ 63.        ,  69.10292683,  67.06747748,   4.83676258],\n",
       "       [ 73.        ,  76.83619512,  63.94342202,  14.23249449],\n",
       "       [ 69.        ,  80.8902439 ,  67.2202727 ,  18.42414282],\n",
       "       [ 25.        ,  62.44917073,  59.1345796 ,   2.9194277 ],\n",
       "       [ 73.        ,  78.84146341,  66.81309883,  13.99700549],\n",
       "       [ 25.        ,  75.12597561,  71.64531208,   4.92439611],\n",
       "       [ 27.        ,  51.20846341,  53.98983188,   3.03516385],\n",
       "       [ 17.        ,  74.71578049,  59.60286489,   3.81619072],\n",
       "       [ 21.        ,  56.25160976,  53.03226393,   2.48478902],\n",
       "       [ 35.        ,  75.6485122 ,  63.91076942,   6.40454644],\n",
       "       [ 81.        ,  82.19756098,  66.83854835,  14.37815703],\n",
       "       [ 30.        ,  54.6415122 ,  50.992414  ,   3.32669366],\n",
       "       [ 19.        ,  57.29082927,  57.53586206,   2.8714737 ],\n",
       "       [ 58.        ,  72.97236585,  64.69252333,   4.92293862],\n",
       "       [ 36.        ,  74.56136585,  70.54614142,  10.44077385],\n",
       "       [ 28.        ,  62.93217073,  56.53434828,   2.80072955],\n",
       "       [ 14.        ,  55.22090244,  53.86096853,   3.44104713],\n",
       "       [ 72.        ,  81.04390244,  66.24732968,  12.26948686],\n",
       "       [ 24.        ,  58.2164878 ,  54.00372391,   3.0752902 ],\n",
       "       [ 34.        ,  60.82814634,  47.10103235,   2.56323063],\n",
       "       [ 54.        ,  74.22682927,  70.08139474,   6.87076616],\n",
       "       [ 43.        ,  74.4627561 ,  75.32950125,   1.91249159],\n",
       "       [ 71.        ,  75.07353659,  70.92057241,   7.68736056],\n",
       "       [ 36.        ,  67.66041463,  64.97046757,   5.38140685],\n",
       "       [ 53.        ,  79.22521951,  68.54932387,   8.29286213],\n",
       "       [ 78.        ,  83.11707317,  66.48012244,  12.96928013],\n",
       "       [ 41.        ,  65.8787561 ,  53.24353541,   2.9942815 ],\n",
       "       [ 48.        ,  77.12682927,  66.57878959,  18.26317565],\n",
       "       [ 48.        ,  78.27804878,  68.3479885 ,  16.97794869],\n",
       "       [ 22.        ,  61.66639024,  53.81828054,   3.63713819],\n",
       "       [ 38.        ,  72.49814634,  63.88501528,   7.81957041],\n",
       "       [ 75.        ,  75.33395122,  67.11680938,  13.37755705],\n",
       "       [ 28.        ,  80.12887805,  67.91788901,   8.1747081 ],\n",
       "       [ 47.        ,  76.26097561,  71.82509953,  13.12307078],\n",
       "       [ 61.        ,  82.05609756,  61.49840019,  10.83499258],\n",
       "       [ 47.        ,  76.84104878,  75.52437833,   2.53074551],\n",
       "       [ 34.        ,  63.84358537,  57.34149887,   5.20967964],\n",
       "       [ 28.        ,  74.5147561 ,  64.06059157,   4.87962115],\n",
       "       [ 22.        ,  69.40017073,  61.82773098,   3.12765428],\n",
       "       [ 20.        ,  74.07441463,  65.34451247,   5.94111285],\n",
       "       [  8.        ,  60.02826829,  51.92032918,   2.39441375],\n",
       "       [ 25.        ,  71.1595122 ,  70.22801465,  15.38938011],\n",
       "       [ 18.        ,  63.5835122 ,  56.26373676,   2.66935028],\n",
       "       [ 53.        ,  63.39482927,  55.47430312,   2.71580989],\n",
       "       [ 19.        ,  62.40114634,  60.8588866 ,   4.54541925],\n",
       "       [ 55.        ,  81.4597561 ,  73.01622798,  12.24700761],\n",
       "       [ 38.        ,  58.24063415,  51.58122945,   2.42751435],\n",
       "       [ 29.        ,  72.47073171,  70.56100401,  14.0021463 ],\n",
       "       [ 16.        ,  69.47168293,  55.5625257 ,   3.09249914],\n",
       "       [ 26.        ,  65.6872439 ,  60.73650624,   3.74420306],\n",
       "       [ 50.        ,  75.17595122,  66.54746436,   7.2744231 ],\n",
       "       [ 20.        ,  63.17787805,  54.74019489,   2.53807696],\n",
       "       [ 26.        ,  57.76768293,  48.9600512 ,   2.50916876],\n",
       "       [ 36.        ,  61.68646341,  62.73118857,   4.01976048],\n",
       "       [ 20.55889207,  51.1947957 ,  50.21192323,   2.59145345],\n",
       "       [ 51.04312482,  64.7212804 ,  56.82595586,   3.42199943],\n",
       "       [ 41.16898088,  76.03931617,  71.41256524,  13.93789048],\n",
       "       [ 36.19421531,  61.0355619 ,  54.59269157,   3.06927576],\n",
       "       [ 41.04095048,  75.88628023,  70.58781666,  13.34728913],\n",
       "       [ 21.67265408,  55.18011692,  53.60211989,   2.72008978],\n",
       "       [ 42.        ,  75.88656314,  70.04818786,  15.07428352],\n",
       "       [ 43.11057377,  63.1402316 ,  55.8463406 ,   2.91606233],\n",
       "       [ 19.29824389,  66.95341741,  62.65078917,   4.46025828],\n",
       "       [ 38.00304223,  74.25268903,  67.98350668,   9.73393023],\n",
       "       [ 19.76849675,  68.44397055,  64.24367677,   4.75040206],\n",
       "       [ 12.79216818,  65.68507218,  54.10208146,   2.81258158],\n",
       "       [ 37.76516679,  74.73059225,  69.54974828,  12.12845057],\n",
       "       [ 19.88861859,  63.09136458,  55.42170338,   2.76165756],\n",
       "       [ 38.31547763,  74.47610328,  66.69248472,  10.51238752],\n",
       "       [ 20.96659565,  65.57138106,  65.92162089,   5.078182  ],\n",
       "       [ 36.8797634 ,  74.1885235 ,  66.7507531 ,   8.25116098],\n",
       "       [ 58.8594213 ,  71.31783346,  66.93258077,   8.54297057],\n",
       "       [ 28.79519723,  57.77257701,  50.21953172,   2.63703573],\n",
       "       [ 36.        ,  74.4424524 ,  70.20606296,   9.81808496],\n",
       "       [ 17.54207038,  68.29428587,  58.87659267,   3.73198516],\n",
       "       [ 19.87347619,  63.37695709,  54.766206  ,   2.55561386],\n",
       "       [ 20.02938969,  53.7959065 ,  51.21980495,   2.48443795],\n",
       "       [ 17.99155014,  52.00418033,  50.21797362,   2.67707919],\n",
       "       [ 38.448849  ,  74.35127575,  67.89157634,  10.4526098 ],\n",
       "       [ 43.46341599,  76.15695924,  68.07864166,  15.30592708],\n",
       "       [ 16.18493293,  58.11847877,  54.18114364,   3.11222558],\n",
       "       [ 20.87033055,  57.14973515,  53.2537304 ,   2.49169884],\n",
       "       [ 14.63532218,  67.86078061,  54.9412226 ,   2.97341643],\n",
       "       [ 20.94772075,  65.69401366,  66.19568366,   5.14428504],\n",
       "       [ 55.38960176,  71.70278383,  68.69261752,   8.3387637 ],\n",
       "       [ 46.20373199,  76.65546624,  66.5701402 ,  16.66721639],\n",
       "       [ 25.72879285,  52.27694403,  53.78695401,   2.91855711],\n",
       "       [ 20.86912151,  57.15810932,  53.25579536,   2.49176326],\n",
       "       [ 36.        ,  74.52666491,  70.44690083,  10.2590628 ],\n",
       "       [ 16.94385021,  74.4213255 ,  59.37600069,   3.77555558],\n",
       "       [ 36.        ,  74.00871518,  68.96562566,   7.54682523],\n",
       "       [ 25.22039782,  50.02628671,  56.15305705,   3.7904831 ],\n",
       "       [ 37.10644354,  74.79791089,  70.18033719,  11.16202768],\n",
       "       [  8.85652397,  59.34018518,  51.71610706,   2.40139457],\n",
       "       [ 43.84376562,  74.60684003,  67.15122839,  15.18168905],\n",
       "       [ 47.48516248,  76.99172951,  66.57631055,  17.80574964],\n",
       "       [ 19.2618067 ,  72.64308289,  59.0350978 ,   3.70577097],\n",
       "       [ 19.07808747,  70.00803805,  63.08634849,   4.51742791],\n",
       "       [ 10.33761018,  58.1553104 ,  52.67640556,   2.80218389],\n",
       "       [ 12.68309451,  56.27604352,  53.43502876,   3.21132759],\n",
       "       [ 41.93474067,  75.45024119,  67.4975585 ,  12.32006811],\n",
       "       [ 48.35019074,  73.31206715,  67.13152633,  12.74808777],\n",
       "       [ 44.06831935,  76.2862807 ,  67.87865296,  15.7002435 ],\n",
       "       [ 18.32865288,  63.98340781,  59.67365438,   4.22028134],\n",
       "       [ 37.58205203,  74.46027022,  69.22853227,   8.61300687],\n",
       "       [ 40.44156353,  74.85722232,  66.96184573,  13.78126519],\n",
       "       [ 16.19473547,  69.0127215 ,  55.90632215,   3.18681083],\n",
       "       [ 20.16616279,  54.14195076,  51.47520675,   2.48448742],\n",
       "       [ 12.67783487,  56.28025769,  53.43332759,   3.2104101 ],\n",
       "       [ 51.89298871,  64.57648896,  56.65024963,   4.07054681],\n",
       "       [ 40.694479  ,  75.01142517,  67.89622374,  14.9291672 ],\n",
       "       [ 19.46859778,  52.37706877,  50.17261606,   2.48423511],\n",
       "       [ 42.        ,  75.9768551 ,  70.39599059,  14.94147903],\n",
       "       [ 16.34024544,  53.32818482,  49.93175363,   2.46238817],\n",
       "       [ 18.78763411,  55.92585237,  53.2941779 ,   2.78701657],\n",
       "       [ 16.0102879 ,  69.46382794,  55.58463545,   3.09676546],\n",
       "       [ 20.7126166 ,  56.33509814,  53.00768304,   2.48279115],\n",
       "       [ 14.03591827,  67.15322816,  54.66832925,   2.92111205],\n",
       "       [ 51.15221147,  75.44062678,  66.68148609,  15.44164943],\n",
       "       [ 44.33924156,  75.91252891,  66.9329678 ,  16.99057444],\n",
       "       [ 25.23981539,  57.0290619 ,  51.12644742,   2.55609856],\n",
       "       [ 29.49038682,  60.83318083,  55.9404065 ,   3.15667513],\n",
       "       [ 46.18691967,  76.65105448,  66.57005925,  16.65227887],\n",
       "       [ 37.55489198,  74.15358406,  68.07592027,   9.01147276],\n",
       "       [ 62.00006713,  68.53215539,  65.90823786,   4.62468155],\n",
       "       [ 36.04460423,  73.82893655,  68.31311372,   6.59338902],\n",
       "       [ 36.33356625,  74.45426668,  69.20509868,   9.79000412],\n",
       "       [ 18.95241098,  64.82620827,  54.95556108,   2.6832786 ],\n",
       "       [ 40.39465893,  74.78157659,  67.49032859,  13.5894259 ],\n",
       "       [ 22.84831034,  62.541631  ,  59.27781535,   4.0682711 ],\n",
       "       [ 19.56381584,  52.61797626,  50.3504205 ,   2.48426955],\n",
       "       [ 28.44163269,  58.6983479 ,  51.31084178,   2.73037881],\n",
       "       [ 41.21217465,  74.99536095,  67.05947706,  14.96608727],\n",
       "       [ 52.66691584,  72.07179833,  67.11265364,  10.41693004],\n",
       "       [ 29.08341758,  60.38865279,  53.38182549,   2.91618134],\n",
       "       [ 26.85940175,  51.11506503,  54.16073843,   3.09483818],\n",
       "       [ 30.69823891,  58.34067209,  51.0183716 ,   2.71963258],\n",
       "       [ 18.94564552,  67.22263228,  61.89301921,   4.31403815],\n",
       "       [ 25.9993217 ,  56.12500428,  49.75498812,   2.57618955],\n",
       "       [ 47.42012369,  63.25117852,  55.68421652,   2.82879762],\n",
       "       [ 19.66603852,  62.91847957,  56.78360226,   3.20845197],\n",
       "       [ 16.9783406 ,  59.49794483,  58.02940523,   4.09888639],\n",
       "       [ 17.37033055,  66.2420255 ,  57.98178075,   3.75615941],\n",
       "       [ 36.83478792,  74.16915881,  66.83489027,   8.16188567],\n",
       "       [ 39.36071176,  74.66347042,  66.82490897,  12.11944512],\n",
       "       [ 18.6541018 ,  65.29558322,  55.01688828,   2.72462591],\n",
       "       [ 11.12872716,  63.72150177,  53.34475908,   2.66742859],\n",
       "       [ 10.64020969,  63.14484265,  53.1223495 ,   2.62480023],\n",
       "       [ 22.05512302,  55.36475312,  53.20065593,   2.58157455],\n",
       "       [ 26.21126391,  50.6845118 ,  54.94859321,   3.3699283 ],\n",
       "       [ 12.59530294,  61.23438587,  53.00017395,   2.44942841],\n",
       "       [ 34.48709114,  61.52258673,  55.07412717,   3.10021583],\n",
       "       [ 26.66669389,  50.9870506 ,  54.3949877 ,   3.17662947],\n",
       "       [ 19.61275845,  62.87709526,  57.10960656,   3.3154033 ],\n",
       "       [ 15.78846088,  57.59269238,  54.12304553,   3.17189266],\n",
       "       [ 20.05234824,  56.11207381,  53.14445299,   2.61424612],\n",
       "       [ 20.96382775,  65.68171569,  66.23029926,   5.1509645 ],\n",
       "       [ 42.69240542,  73.11552464,  66.64441165,   7.69003063],\n",
       "       [ 41.53772846,  75.34049717,  67.55769814,  11.93105155],\n",
       "       [ 23.24787564,  63.05602726,  55.25964774,   2.74706583],\n",
       "       [ 20.60353693,  58.99761932,  53.70939548,   2.50591572],\n",
       "       [ 45.37976017,  76.75567123,  68.75056269,  16.61982572],\n",
       "       [ 27.18856334,  52.4014531 ,  53.21594904,   2.95358349],\n",
       "       [ 25.25606974,  52.67427933,  53.71150993,   2.87519463],\n",
       "       [ 16.77447052,  55.62942631,  53.53250904,   3.06203142],\n",
       "       [ 20.27412575,  63.85667359,  57.91123836,   3.25844871],\n",
       "       [ 47.70143076,  77.04848099,  66.57735192,  17.99790101],\n",
       "       [ 27.96887754,  57.45577768,  49.95352926,   2.61581668],\n",
       "       [ 41.32293445,  76.00113986,  70.87126909,  13.68625052],\n",
       "       [ 38.15033915,  74.40413877,  68.07082179,   8.61188285],\n",
       "       [ 19.52019922,  62.80520157,  57.67594794,   3.50120135],\n",
       "       [ 39.85698987,  75.40402131,  69.39769042,  11.92409853],\n",
       "       [ 36.02059624,  73.81859964,  68.3580263 ,   6.5457337 ],\n",
       "       [ 36.        ,  73.9601215 ,  68.82665344,   7.29236496],\n",
       "       [ 17.89915621,  69.17939061,  60.16754475,   4.1440359 ]])"
      ]
     },
     "execution_count": 157,
     "metadata": {},
     "output_type": "execute_result"
    }
   ],
   "source": [
    "smox"
   ]
  },
  {
   "cell_type": "code",
   "execution_count": 158,
   "metadata": {
    "collapsed": true
   },
   "outputs": [],
   "source": [
    "X_train = pd.DataFrame(smox, columns=x_cols)\n",
    "y_train = pd.Series(smoy)"
   ]
  },
  {
   "cell_type": "code",
   "execution_count": 159,
   "metadata": {
    "collapsed": false
   },
   "outputs": [
    {
     "name": "stdout",
     "output_type": "stream",
     "text": [
      "[ 0.32563542  0.23178386  0.26370984  0.17887088]\n",
      "Accuracy: 0.8431372549019608\n",
      "Precision: 0.3\n",
      "Recall: 0.75\n",
      "f1: 0.4285714285714285\n"
     ]
    },
    {
     "data": {
      "text/plain": [
       "(0.84313725490196079, 0.29999999999999999, 0.75, 0.42857142857142849)"
      ]
     },
     "execution_count": 159,
     "metadata": {},
     "output_type": "execute_result"
    }
   ],
   "source": [
    "getScoreValues(X_train, X_test, y_train, y_test, model=RandomForestClassifier())"
   ]
  },
  {
   "cell_type": "code",
   "execution_count": 160,
   "metadata": {
    "collapsed": false
   },
   "outputs": [
    {
     "name": "stdout",
     "output_type": "stream",
     "text": [
      "Accuracy: 0.0784313725490196\n",
      "Precision: 0.0784313725490196\n",
      "Recall: 1.0\n",
      "f1: 0.14545454545454545\n"
     ]
    },
    {
     "data": {
      "text/plain": [
       "(0.078431372549019607, 0.078431372549019607, 1.0, 0.14545454545454545)"
      ]
     },
     "execution_count": 160,
     "metadata": {},
     "output_type": "execute_result"
    }
   ],
   "source": [
    "getScoreValues(X_train, X_test, y_train, y_test, model=BernoulliNB())"
   ]
  },
  {
   "cell_type": "code",
   "execution_count": 161,
   "metadata": {
    "collapsed": false
   },
   "outputs": [
    {
     "name": "stdout",
     "output_type": "stream",
     "text": [
      "Accuracy: 0.5294117647058824\n",
      "Precision: 0.08333333333333333\n",
      "Recall: 0.5\n",
      "f1: 0.14285714285714285\n"
     ]
    },
    {
     "data": {
      "text/plain": [
       "(0.52941176470588236, 0.083333333333333329, 0.5, 0.14285714285714285)"
      ]
     },
     "execution_count": 161,
     "metadata": {},
     "output_type": "execute_result"
    }
   ],
   "source": [
    "getScoreValues(X_train, X_test, y_train, y_test, model=GaussianNB())"
   ]
  },
  {
   "cell_type": "code",
   "execution_count": 162,
   "metadata": {
    "collapsed": false
   },
   "outputs": [
    {
     "name": "stdout",
     "output_type": "stream",
     "text": [
      "[ 0.31589153  0.32677885  0.20883952  0.1484901 ]\n",
      "Accuracy: 0.8627450980392157\n",
      "Precision: 0.3333333333333333\n",
      "Recall: 0.75\n",
      "f1: 0.46153846153846156\n"
     ]
    },
    {
     "data": {
      "text/plain": [
       "(0.86274509803921573, 0.33333333333333331, 0.75, 0.46153846153846156)"
      ]
     },
     "execution_count": 162,
     "metadata": {},
     "output_type": "execute_result"
    }
   ],
   "source": [
    "getScoreValues(X_train, X_test, y_train, y_test, model=DecisionTreeClassifier())"
   ]
  },
  {
   "cell_type": "code",
   "execution_count": 163,
   "metadata": {
    "collapsed": false
   },
   "outputs": [
    {
     "name": "stdout",
     "output_type": "stream",
     "text": [
      "Accuracy: 0.6078431372549019\n",
      "Precision: 0.13636363636363635\n",
      "Recall: 0.75\n",
      "f1: 0.23076923076923075\n"
     ]
    },
    {
     "data": {
      "text/plain": [
       "(0.60784313725490191, 0.13636363636363635, 0.75, 0.23076923076923075)"
      ]
     },
     "execution_count": 163,
     "metadata": {},
     "output_type": "execute_result"
    }
   ],
   "source": [
    "getScoreValues(X_train, X_test, y_train, y_test)"
   ]
  },
  {
   "cell_type": "markdown",
   "metadata": {},
   "source": [
    "## Cross validate with oversampling"
   ]
  },
  {
   "cell_type": "code",
   "execution_count": 164,
   "metadata": {
    "collapsed": false,
    "scrolled": true
   },
   "outputs": [],
   "source": [
    "def getCrossValScoresBySKF(local_X, local_y, n_iter=30, test_size=0.3, model=KNeighborsClassifier(n_neighbors=6), get_models_avg=False):\n",
    "    acc_array = []\n",
    "    prec_array = []\n",
    "    recall_array = []\n",
    "    f1_array = []\n",
    "    sss = StratifiedShuffleSplit(y, n_iter=n_iter, test_size=test_size)\n",
    "    \n",
    "    model_list = [\\\n",
    "                  KNeighborsClassifier(n_neighbors=6), \\\n",
    "                  LogisticRegression(), \\\n",
    "                  GaussianNB(), \\\n",
    "                  RandomForestClassifier(), \\\n",
    "                  DecisionTreeClassifier() \\\n",
    "                  ]\n",
    "    \n",
    "    \n",
    "    for train_index, test_index in sss:\n",
    "        #print(\"TRAIN:\", train_index, \"TEST:\", test_index)\n",
    "        X_train, X_test = X.ix[train_index], X.ix[test_index]\n",
    "        y_train, y_test = y.ix[train_index], y.ix[test_index]\n",
    "        \n",
    "        X_train = X_train.reset_index(drop=True).as_matrix()\n",
    "        y_train = y_train.reset_index(drop=True).as_matrix()\n",
    "\n",
    "        smote = SMOTE(ratio=ratio, verbose=verbose)\n",
    "        smox, smoy = smote.fit_transform(X_train, y_train)\n",
    "        X_train = pd.DataFrame(smox, columns=x_cols)\n",
    "        y_train = pd.Series(smoy)\n",
    "        \n",
    "        if get_models_avg:\n",
    "            y_predictions = []\n",
    "            \n",
    "            for a_model in model_list:\n",
    "                temp_model = a_model\n",
    "                model.fit(X_train, y_train)\n",
    "                y_pred = model.predict(X_test)\n",
    "                y_predictions.append(y_pred)\n",
    "                \n",
    "            average_prediction = np.mean(y_predictions, axis=0)\n",
    "            average_prediction = [int(round(n, 0)) for n in average_prediction]\n",
    "\n",
    "            accuracy_score_value = accuracy_score(y_test, y_pred)\n",
    "            precision_score_value = precision_score(y_test, y_pred)\n",
    "            recall_score_value = recall_score(y_test, y_pred)\n",
    "            f1_score_value = f1_score(y_test, y_pred)\n",
    "            \n",
    "            acc_array.append(accuracy_score_value)\n",
    "            prec_array.append(precision_score_value)\n",
    "            recall_array.append(recall_score_value)\n",
    "            f1_array.append(f1_score_value)\n",
    "        \n",
    "        else:\n",
    "        \n",
    "            accuracy_score_value, precision_score_value, \\\n",
    "            recall_score_value, f1_score_value = \\\n",
    "                                                getScoreValues(X_train, X_test, y_train, y_test, model=model, verbose=False)\n",
    "\n",
    "            acc_array.append(accuracy_score_value)\n",
    "            prec_array.append(precision_score_value)\n",
    "            recall_array.append(recall_score_value)\n",
    "            f1_array.append(f1_score_value)\n",
    "        \n",
    "    mean_acc = np.mean(acc_array)\n",
    "    mean_prec = np.mean(prec_array)\n",
    "    mean_recall = np.mean(recall_array)\n",
    "    mean_f1 = np.mean(f1_array)\n",
    "    \n",
    "    print('Accuracy: {}\\nPrecision: {}\\nRecall: {}\\nf1: {}'.format(mean_acc, \\\n",
    "                                                                   mean_prec, \\\n",
    "                                                                   mean_recall,\\\n",
    "                                                                   mean_f1))"
   ]
  },
  {
   "cell_type": "code",
   "execution_count": 165,
   "metadata": {
    "collapsed": true
   },
   "outputs": [],
   "source": [
    "X = data_2013[x_cols]\n",
    "y = data_2013['zscores']"
   ]
  },
  {
   "cell_type": "markdown",
   "metadata": {},
   "source": [
    "#### KNN various n\n"
   ]
  },
  {
   "cell_type": "code",
   "execution_count": 166,
   "metadata": {
    "collapsed": false,
    "scrolled": false
   },
   "outputs": [
    {
     "name": "stdout",
     "output_type": "stream",
     "text": [
      "n =  1\n",
      "Accuracy: 0.6993464052287585\n",
      "Precision: 0.25465373333710256\n",
      "Recall: 0.4666666666666667\n",
      "f1: 0.3242420195025821\n",
      "\n",
      "\n",
      "n =  2\n",
      "Accuracy: 0.7464052287581702\n",
      "Precision: 0.22909844784844785\n",
      "Recall: 0.31666666666666665\n",
      "f1: 0.2603541465588848\n",
      "\n",
      "\n",
      "n =  3\n",
      "Accuracy: 0.6562091503267976\n",
      "Precision: 0.2269099328890351\n",
      "Recall: 0.49166666666666664\n",
      "f1: 0.3080699852682082\n",
      "\n",
      "\n",
      "n =  4\n",
      "Accuracy: 0.7058823529411767\n",
      "Precision: 0.25506160970092856\n",
      "Recall: 0.4625\n",
      "f1: 0.32501983357208375\n",
      "\n",
      "\n",
      "n =  5\n",
      "Accuracy: 0.6575163398692813\n",
      "Precision: 0.24350735882624427\n",
      "Recall: 0.5666666666666667\n",
      "f1: 0.33718769440702595\n",
      "\n",
      "\n",
      "n =  6\n",
      "Accuracy: 0.6823529411764707\n",
      "Precision: 0.2533291726781766\n",
      "Recall: 0.5041666666666667\n",
      "f1: 0.3318368912109079\n",
      "\n",
      "\n",
      "n =  7\n",
      "Accuracy: 0.6189542483660132\n",
      "Precision: 0.2302516715389691\n",
      "Recall: 0.6083333333333333\n",
      "f1: 0.33007790406912424\n",
      "\n",
      "\n"
     ]
    }
   ],
   "source": [
    "for n in range(1,8):\n",
    "    print('n = ', n)\n",
    "    getCrossValScoresBySKF(X, y, model=KNeighborsClassifier(n_neighbors=n))\n",
    "    print('\\n')"
   ]
  },
  {
   "cell_type": "markdown",
   "metadata": {},
   "source": [
    "#### Logistic Regression"
   ]
  },
  {
   "cell_type": "code",
   "execution_count": 167,
   "metadata": {
    "collapsed": false,
    "scrolled": false
   },
   "outputs": [
    {
     "name": "stdout",
     "output_type": "stream",
     "text": [
      "Accuracy: 0.5333333333333333\n",
      "Precision: 0.20232950307349656\n",
      "Recall: 0.675\n",
      "f1: 0.3096609127430187\n"
     ]
    }
   ],
   "source": [
    "getCrossValScoresBySKF(X, y, model=LogisticRegression())"
   ]
  },
  {
   "cell_type": "markdown",
   "metadata": {},
   "source": [
    "#### GaussianNB"
   ]
  },
  {
   "cell_type": "code",
   "execution_count": 168,
   "metadata": {
    "collapsed": false
   },
   "outputs": [
    {
     "name": "stdout",
     "output_type": "stream",
     "text": [
      "Accuracy: 0.5980392156862745\n",
      "Precision: 0.23048529626299175\n",
      "Recall: 0.6583333333333333\n",
      "f1: 0.33819548793324794\n"
     ]
    }
   ],
   "source": [
    "getCrossValScoresBySKF(X, y, model=GaussianNB())"
   ]
  },
  {
   "cell_type": "markdown",
   "metadata": {},
   "source": [
    "#### BernoulliNB"
   ]
  },
  {
   "cell_type": "code",
   "execution_count": 169,
   "metadata": {
    "collapsed": false,
    "scrolled": true
   },
   "outputs": [
    {
     "name": "stdout",
     "output_type": "stream",
     "text": [
      "Accuracy: 0.15686274509803924\n",
      "Precision: 0.15686274509803924\n",
      "Recall: 1.0\n",
      "f1: 0.27118644067796616\n"
     ]
    }
   ],
   "source": [
    "getCrossValScoresBySKF(X, y, model=BernoulliNB())"
   ]
  },
  {
   "cell_type": "markdown",
   "metadata": {},
   "source": [
    "#### Random Forest"
   ]
  },
  {
   "cell_type": "code",
   "execution_count": 170,
   "metadata": {
    "collapsed": false,
    "scrolled": false
   },
   "outputs": [
    {
     "name": "stdout",
     "output_type": "stream",
     "text": [
      "[ 0.29092026  0.26805034  0.2477843   0.19324511]\n",
      "[ 0.33123398  0.26622879  0.2519017   0.15063553]\n",
      "[ 0.33258661  0.25245663  0.27165993  0.14329684]\n",
      "[ 0.39205381  0.21171676  0.22671666  0.16951277]\n",
      "[ 0.23158925  0.32903944  0.2582127   0.18115861]\n",
      "[ 0.3311209   0.2941901   0.18987954  0.18480946]\n",
      "[ 0.34861371  0.26163096  0.21385379  0.17590155]\n",
      "[ 0.34867519  0.25356258  0.22654479  0.17121744]\n",
      "[ 0.25365824  0.25025502  0.27158025  0.22450649]\n",
      "[ 0.35148141  0.2621886   0.19495321  0.19137678]\n",
      "[ 0.23639257  0.20325861  0.4053949   0.15495391]\n",
      "[ 0.25368788  0.24574864  0.30587492  0.19468856]\n",
      "[ 0.17304542  0.23943028  0.37492997  0.21259433]\n",
      "[ 0.23847633  0.24413709  0.2617652   0.25562138]\n",
      "[ 0.24614697  0.2773498   0.30494077  0.17156247]\n",
      "[ 0.26602074  0.22494715  0.34303623  0.16599588]\n",
      "[ 0.34767231  0.25762437  0.20069511  0.1940082 ]\n",
      "[ 0.30847683  0.28048407  0.2732752   0.1377639 ]\n",
      "[ 0.38574141  0.23183486  0.24751871  0.13490503]\n",
      "[ 0.35074418  0.26270182  0.19896704  0.18758696]\n",
      "[ 0.29999877  0.1821163   0.28092431  0.23696062]\n",
      "[ 0.33927854  0.24467862  0.24103454  0.17500831]\n",
      "[ 0.32210991  0.25058564  0.23002912  0.19727533]\n",
      "[ 0.31065759  0.21234602  0.26778455  0.20921184]\n",
      "[ 0.30027386  0.26518936  0.20063841  0.23389837]\n",
      "[ 0.36180822  0.21321459  0.25241806  0.17255913]\n",
      "[ 0.28710148  0.34722658  0.22988545  0.13578649]\n",
      "[ 0.38522751  0.20061787  0.15661589  0.25753872]\n",
      "[ 0.28808448  0.30612255  0.18925064  0.21654234]\n",
      "[ 0.29792436  0.28066757  0.26134533  0.16006274]\n",
      "Accuracy: 0.7411764705882355\n",
      "Precision: 0.27385521885521885\n",
      "Recall: 0.35833333333333334\n",
      "f1: 0.30069041197456864\n"
     ]
    }
   ],
   "source": [
    "getCrossValScoresBySKF(X, y, model=RandomForestClassifier())"
   ]
  },
  {
   "cell_type": "markdown",
   "metadata": {},
   "source": [
    "#### DecisionTreeClassifier"
   ]
  },
  {
   "cell_type": "code",
   "execution_count": 171,
   "metadata": {
    "collapsed": false
   },
   "outputs": [
    {
     "name": "stdout",
     "output_type": "stream",
     "text": [
      "[ 0.30704908  0.43574818  0.18629656  0.07090618]\n",
      "[ 0.29538908  0.08959203  0.37742975  0.23758914]\n",
      "[ 0.15338228  0.43385461  0.25597268  0.15679042]\n",
      "[ 0.20415143  0.3801639   0.25597282  0.15971185]\n",
      "[ 0.19484207  0.31409172  0.28112675  0.20993945]\n",
      "[ 0.18978576  0.39649685  0.24105557  0.17266183]\n",
      "[ 0.23011984  0.39780136  0.28851075  0.08356804]\n",
      "[ 0.2561746   0.19973783  0.39729577  0.1467918 ]\n",
      "[ 0.33253372  0.33855861  0.29209003  0.03681765]\n",
      "[ 0.38854718  0.24145114  0.15697654  0.21302514]\n",
      "[ 0.16275228  0.34135508  0.33825281  0.15763983]\n",
      "[ 0.15247899  0.37445706  0.31985037  0.15321359]\n",
      "[ 0.51937021  0.11627499  0.17174994  0.19260486]\n",
      "[ 0.30570807  0.31042181  0.22174129  0.16212883]\n",
      "[ 0.31736649  0.34074976  0.22810455  0.1137792 ]\n",
      "[ 0.43165945  0.21946317  0.18678052  0.16209687]\n",
      "[ 0.37167609  0.38844166  0.22203737  0.01784487]\n",
      "[ 0.31859349  0.26174858  0.20685663  0.2128013 ]\n",
      "[ 0.16026218  0.3288757   0.30576241  0.20509971]\n",
      "[ 0.24030081  0.33888872  0.31517067  0.1056398 ]\n",
      "[ 0.37932921  0.20965012  0.23790517  0.17311549]\n",
      "[ 0.39489523  0.20820232  0.19283969  0.20406276]\n",
      "[ 0.21059879  0.31100095  0.30448299  0.17391726]\n",
      "[ 0.23218545  0.39655603  0.28938251  0.08187601]\n",
      "[ 0.32946237  0.23976975  0.18520988  0.245558  ]\n",
      "[ 0.4296448   0.13085451  0.27585119  0.16364951]\n",
      "[ 0.27035645  0.12591802  0.43509632  0.16862922]\n",
      "[ 0.26556213  0.33894107  0.25615739  0.13933941]\n",
      "[ 0.20112474  0.4204451   0.2229421   0.15548806]\n",
      "[ 0.21436147  0.19964916  0.4615074   0.12448197]\n",
      "Accuracy: 0.7000000000000003\n",
      "Precision: 0.21183295190648133\n",
      "Recall: 0.3458333333333333\n",
      "f1: 0.2564529541591916\n"
     ]
    }
   ],
   "source": [
    "getCrossValScoresBySKF(X, y, model=DecisionTreeClassifier())"
   ]
  },
  {
   "cell_type": "markdown",
   "metadata": {
    "collapsed": true
   },
   "source": [
    "### Model averages:"
   ]
  },
  {
   "cell_type": "code",
   "execution_count": 172,
   "metadata": {
    "collapsed": false
   },
   "outputs": [
    {
     "name": "stdout",
     "output_type": "stream",
     "text": [
      "Accuracy: 0.673856209150327\n",
      "Precision: 0.2508512150617414\n",
      "Recall: 0.525\n",
      "f1: 0.33491431661373017\n"
     ]
    }
   ],
   "source": [
    "getCrossValScoresBySKF(X, y, get_models_avg=True)"
   ]
  },
  {
   "cell_type": "code",
   "execution_count": null,
   "metadata": {
    "collapsed": true
   },
   "outputs": [],
   "source": []
  }
 ],
 "metadata": {
  "kernelspec": {
   "display_name": "Python 3",
   "language": "python",
   "name": "python3"
  }
 },
 "nbformat": 4,
 "nbformat_minor": 0
}
