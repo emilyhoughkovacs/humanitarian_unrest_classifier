{
 "cells": [
  {
   "cell_type": "markdown",
   "metadata": {},
   "source": [
    "### This is the same notebook as analyze_sql_data.ipynb but includes multiple years"
   ]
  },
  {
   "cell_type": "code",
   "execution_count": 98,
   "metadata": {
    "collapsed": false
   },
   "outputs": [],
   "source": [
    "from sqlalchemy import create_engine\n",
    "import pandas as pd\n",
    "import numpy as np\n",
    "from copy import deepcopy\n",
    "import pickle\n",
    "import random\n",
    "\n",
    "from sklearn import datasets\n",
    "from sklearn.cross_validation import train_test_split, StratifiedShuffleSplit\n",
    "from sklearn.neighbors import KNeighborsClassifier\n",
    "from sklearn.grid_search import GridSearchCV\n",
    "from sklearn.metrics import (\n",
    "                            accuracy_score, \n",
    "                            precision_score, \n",
    "                            recall_score, \n",
    "                            f1_score, \n",
    "                            roc_curve, \n",
    "                            roc_auc_score, \n",
    "                            confusion_matrix,\n",
    "                            classification_report\n",
    "                            )\n",
    "from sklearn.linear_model import LogisticRegression, LinearRegression\n",
    "from sklearn.naive_bayes import GaussianNB, BernoulliNB\n",
    "from sklearn.svm import SVC\n",
    "from sklearn.tree import DecisionTreeClassifier\n",
    "from sklearn.tree import DecisionTreeRegressor\n",
    "from sklearn.ensemble import RandomForestClassifier\n",
    "from sklearn.learning_curve import learning_curve\n",
    "from sklearn.cross_validation import cross_val_score\n",
    "from sklearn.metrics import confusion_matrix\n",
    "\n",
    "from unbalanced_dataset import OverSampler, SMOTE\n",
    "\n",
    "import matplotlib.pyplot as plt\n",
    "import seaborn as sns\n",
    "\n",
    "\n",
    "%matplotlib inline"
   ]
  },
  {
   "cell_type": "code",
   "execution_count": 23,
   "metadata": {
    "collapsed": true
   },
   "outputs": [],
   "source": [
    "CONFIG = {}\n",
    "\n",
    "with open('config.txt', \"r\") as in_file:\n",
    "    for line in in_file:\n",
    "        line = line.split(\":\")\n",
    "        parameter = line[0].strip()\n",
    "        value = line[1].strip()\n",
    "        CONFIG[parameter] = value\n",
    "                \n",
    "engine_path = 'postgresql://'+CONFIG['username']+':'+\\\n",
    "                CONFIG['password']+'@'+CONFIG['ip']+\\\n",
    "                ':'+CONFIG['port']+'/'+CONFIG['database']\n",
    "        \n",
    "engine = create_engine(engine_path)"
   ]
  },
  {
   "cell_type": "markdown",
   "metadata": {},
   "source": [
    "### Want something like:\n",
    "\n",
    "    SELECT\n",
    "        table4.countrycode as 'countrycode',\n",
    "        b.table1 as 'table1',\n",
    "        b.table2 as 'table2',\n",
    "        b.table3 as 'table3',\n",
    "        table4.year as 'table4'\n",
    "        (SELECT\n",
    "            table3.countrycode as 'countrycode',\n",
    "            a.table1 as 'table1',\n",
    "            a.table2 as 'table2',\n",
    "            table3.year as 'table3'\n",
    "         FROM\n",
    "            (SELECT\n",
    "                 table1.countrycode as 'countrycode',\n",
    "                 table1.year as 'table1',\n",
    "                 table2.year as 'table2'\n",
    "             FROM\n",
    "                 table1\n",
    "             JOIN\n",
    "                 table2\n",
    "               ON \n",
    "                 table1.countrycode = table2.countrycode\n",
    "             ) a\n",
    "         JOIN\n",
    "             table3\n",
    "           ON\n",
    "             a.countrycode = table3.countrycode  \n",
    "        ) b    \n",
    "    JOIN\n",
    "        table4\n",
    "      ON\n",
    "        a.countrycode = table3.countrycode \n",
    "    \n",
    "        \n",
    "       \n"
   ]
  },
  {
   "cell_type": "code",
   "execution_count": 24,
   "metadata": {
    "collapsed": false
   },
   "outputs": [],
   "source": [
    "def makeSQLQuery(table_names, year):\n",
    "    dotyyear = '.y' + str(year)\n",
    "    current_unit = 'a'\n",
    "    query = '(SELECT ' + table_names[0] + '.countrycode AS countrycode, ' + \\\n",
    "            table_names[0] + dotyyear + ' AS ' + table_names[0] + ', ' + \\\n",
    "            table_names[1] + dotyyear + ' AS ' + table_names[1] + \\\n",
    "            ' FROM ' + table_names[0] + \\\n",
    "            ' JOIN ' + table_names[1] + \\\n",
    "            ' ON ' + table_names[0] + '.countrycode=' + table_names[1] + '.countrycode) '\n",
    "    query = query + current_unit\n",
    "    \n",
    "    for table in table_names[2:]:\n",
    "        curr_index = table_names.index(table)\n",
    "        temp_list = table_names[:curr_index+1]\n",
    "        \n",
    "        pre_string = '(SELECT ' + table + '.countrycode as countrycode'\n",
    "        \n",
    "        for temp_table in temp_list[:-1]:\n",
    "            pre_string = pre_string + ', ' + current_unit + '.' + temp_table + ' AS ' + temp_table\n",
    "        \n",
    "        pre_string = pre_string + ', ' + table + dotyyear + ' AS ' + table\n",
    "        \n",
    "        query = pre_string + ' FROM ' + query + ' JOIN ' + table + \\\n",
    "                ' ON ' + current_unit + '.countrycode=' + table + '.countrycode) '\n",
    "        \n",
    "        current_unit = current_unit + 'a'\n",
    "        query = query + current_unit\n",
    "        \n",
    "    query = query.rsplit(' ', 1)[0][1:-1]\n",
    "    \n",
    "    return query\n",
    "    \n",
    "    "
   ]
  },
  {
   "cell_type": "markdown",
   "metadata": {},
   "source": [
    "## Change these to select data"
   ]
  },
  {
   "cell_type": "code",
   "execution_count": 25,
   "metadata": {
    "collapsed": false
   },
   "outputs": [],
   "source": [
    "table_names = ['civil_liberties', \\\n",
    "               'political_rights', \\\n",
    "               #'freedom_status', \\\n",
    "               #'corruption_perception', \\\n",
    "               'female_legislators', \\\n",
    "               'population_growth', \\\n",
    "               'population_female', \\\n",
    "               #'under_5_mortality', \\\n",
    "               'life_expectancy', \\\n",
    "               #'population_0_14', \\\n",
    "               'population_15_64',  \\\n",
    "               #'population_65_up', \\\n",
    "               #'terror_new', \\\n",
    "               #'peace_new', \\\n",
    "               #'refugees_percapita', \\\n",
    "               #'zscores'\n",
    "                'zscores']"
   ]
  },
  {
   "cell_type": "code",
   "execution_count": 26,
   "metadata": {
    "collapsed": true
   },
   "outputs": [],
   "source": [
    "y_col = table_names[-1]"
   ]
  },
  {
   "cell_type": "code",
   "execution_count": 27,
   "metadata": {
    "collapsed": true
   },
   "outputs": [],
   "source": [
    "x_cols = table_names[:-1]"
   ]
  },
  {
   "cell_type": "code",
   "execution_count": 28,
   "metadata": {
    "collapsed": true
   },
   "outputs": [],
   "source": [
    "years = [2008, 2009, 2010, 2011, 2012, 2013]"
   ]
  },
  {
   "cell_type": "code",
   "execution_count": 29,
   "metadata": {
    "collapsed": true
   },
   "outputs": [],
   "source": [
    "full_data = pd.DataFrame()"
   ]
  },
  {
   "cell_type": "code",
   "execution_count": 30,
   "metadata": {
    "collapsed": false,
    "scrolled": false
   },
   "outputs": [],
   "source": [
    "for year in years:\n",
    "    query = makeSQLQuery(table_names, year)\n",
    "    year_data = pd.read_sql_query(query, engine)\n",
    "    year_data['year'] = year\n",
    "    year_data = year_data.set_index(['year', 'countrycode'])\n",
    "    full_data = pd.concat([full_data, year_data])\n",
    "    \n"
   ]
  },
  {
   "cell_type": "code",
   "execution_count": 31,
   "metadata": {
    "collapsed": false
   },
   "outputs": [
    {
     "data": {
      "text/plain": [
       "<matplotlib.axes._subplots.AxesSubplot at 0x10c5559b0>"
      ]
     },
     "execution_count": 31,
     "metadata": {},
     "output_type": "execute_result"
    },
    {
     "data": {
      "image/png": "[encoded data removed]",
      "text/plain": [
       "<matplotlib.figure.Figure at 0x10431d208>"
      ]
     },
     "metadata": {},
     "output_type": "display_data"
    }
   ],
   "source": [
    "sns.distplot(full_data.dropna()[y_col].astype(float))"
   ]
  },
  {
   "cell_type": "code",
   "execution_count": 32,
   "metadata": {
    "collapsed": false
   },
   "outputs": [
    {
     "data": {
      "text/plain": [
       "(array([ 989.,   22.,    7.,    7.,    7.,    2.,    3.,    3.,    5.,    4.]),\n",
       " array([-0.29313644,  0.67991785,  1.65297214,  2.62602643,  3.59908072,\n",
       "         4.57213501,  5.5451893 ,  6.51824359,  7.49129788,  8.46435217,\n",
       "         9.43740646]),\n",
       " <a list of 10 Patch objects>)"
      ]
     },
     "execution_count": 32,
     "metadata": {},
     "output_type": "execute_result"
    },
    {
     "data": {
      "image/png": "[encoded data removed]",
      "text/plain": [
       "<matplotlib.figure.Figure at 0x10d037400>"
      ]
     },
     "metadata": {},
     "output_type": "display_data"
    }
   ],
   "source": [
    "import pylab as pl\n",
    "\n",
    "pl.hist(sorted(list(full_data.dropna()[y_col].astype(float))))\n",
    "\n"
   ]
  },
  {
   "cell_type": "code",
   "execution_count": 33,
   "metadata": {
    "collapsed": false
   },
   "outputs": [
    {
     "data": {
      "text/html": [
       "<div>\n",
       "<table border=\"1\" class=\"dataframe\">\n",
       "  <thead>\n",
       "    <tr style=\"text-align: right;\">\n",
       "      <th></th>\n",
       "      <th></th>\n",
       "      <th>civil_liberties</th>\n",
       "      <th>political_rights</th>\n",
       "      <th>female_legislators</th>\n",
       "      <th>population_growth</th>\n",
       "      <th>population_female</th>\n",
       "      <th>life_expectancy</th>\n",
       "      <th>population_15_64</th>\n",
       "      <th>zscores</th>\n",
       "    </tr>\n",
       "    <tr>\n",
       "      <th>year</th>\n",
       "      <th>countrycode</th>\n",
       "      <th></th>\n",
       "      <th></th>\n",
       "      <th></th>\n",
       "      <th></th>\n",
       "      <th></th>\n",
       "      <th></th>\n",
       "      <th></th>\n",
       "      <th></th>\n",
       "    </tr>\n",
       "  </thead>\n",
       "  <tbody>\n",
       "    <tr>\n",
       "      <th rowspan=\"5\" valign=\"top\">2008</th>\n",
       "      <th>AFG</th>\n",
       "      <td>6</td>\n",
       "      <td>5</td>\n",
       "      <td>27.7</td>\n",
       "      <td>2.485315</td>\n",
       "      <td>48.512909</td>\n",
       "      <td>58.225024</td>\n",
       "      <td>49.946087</td>\n",
       "      <td>6.546331355</td>\n",
       "    </tr>\n",
       "    <tr>\n",
       "      <th>AGO</th>\n",
       "      <td>5</td>\n",
       "      <td>6</td>\n",
       "      <td>37.3</td>\n",
       "      <td>3.374180</td>\n",
       "      <td>50.493712</td>\n",
       "      <td>49.847390</td>\n",
       "      <td>49.356104</td>\n",
       "      <td>0.281696206</td>\n",
       "    </tr>\n",
       "    <tr>\n",
       "      <th>ALB</th>\n",
       "      <td>3</td>\n",
       "      <td>3</td>\n",
       "      <td>7.1</td>\n",
       "      <td>-0.767343</td>\n",
       "      <td>49.610212</td>\n",
       "      <td>76.632317</td>\n",
       "      <td>66.816430</td>\n",
       "      <td>0.055357722</td>\n",
       "    </tr>\n",
       "    <tr>\n",
       "      <th>ARE</th>\n",
       "      <td>5</td>\n",
       "      <td>6</td>\n",
       "      <td>22.5</td>\n",
       "      <td>13.810060</td>\n",
       "      <td>25.880062</td>\n",
       "      <td>76.307756</td>\n",
       "      <td>84.600650</td>\n",
       "      <td>-0.267222176</td>\n",
       "    </tr>\n",
       "    <tr>\n",
       "      <th>ARG</th>\n",
       "      <td>2</td>\n",
       "      <td>2</td>\n",
       "      <td>40.0</td>\n",
       "      <td>1.025393</td>\n",
       "      <td>51.087196</td>\n",
       "      <td>75.166268</td>\n",
       "      <td>63.456290</td>\n",
       "      <td>-0.26793528</td>\n",
       "    </tr>\n",
       "  </tbody>\n",
       "</table>\n",
       "</div>"
      ],
      "text/plain": [
       "                  civil_liberties  political_rights  female_legislators  \\\n",
       "year countrycode                                                          \n",
       "2008 AFG                        6                 5                27.7   \n",
       "     AGO                        5                 6                37.3   \n",
       "     ALB                        3                 3                 7.1   \n",
       "     ARE                        5                 6                22.5   \n",
       "     ARG                        2                 2                40.0   \n",
       "\n",
       "                  population_growth  population_female  life_expectancy  \\\n",
       "year countrycode                                                          \n",
       "2008 AFG                   2.485315          48.512909        58.225024   \n",
       "     AGO                   3.374180          50.493712        49.847390   \n",
       "     ALB                  -0.767343          49.610212        76.632317   \n",
       "     ARE                  13.810060          25.880062        76.307756   \n",
       "     ARG                   1.025393          51.087196        75.166268   \n",
       "\n",
       "                  population_15_64       zscores  \n",
       "year countrycode                                  \n",
       "2008 AFG                 49.946087   6.546331355  \n",
       "     AGO                 49.356104   0.281696206  \n",
       "     ALB                 66.816430   0.055357722  \n",
       "     ARE                 84.600650  -0.267222176  \n",
       "     ARG                 63.456290   -0.26793528  "
      ]
     },
     "execution_count": 33,
     "metadata": {},
     "output_type": "execute_result"
    }
   ],
   "source": [
    "full_data.head()"
   ]
  },
  {
   "cell_type": "code",
   "execution_count": 34,
   "metadata": {
    "collapsed": false,
    "scrolled": false
   },
   "outputs": [],
   "source": [
    "full_data[y_col] = full_data[y_col].astype(float)\n",
    "\n",
    "#full_data.loc[full_data[y_col] > 0, y_col] = 1\n",
    "#full_data.loc[full_data[y_col] <= 0, y_col] = 0\n",
    "\n",
    "cutoff = full_data[y_col].quantile(.90)\n",
    "full_data.loc[full_data[y_col] <= cutoff, y_col] = 0\n",
    "full_data.loc[full_data[y_col] > cutoff, y_col] = 1\n",
    "\n",
    "try:\n",
    "    full_data.loc[full_data['freedom_status'] == 'F', 'freedom_status'] = -1\n",
    "    full_data.loc[full_data['freedom_status'] == 'PF', 'freedom_status'] = 0\n",
    "    full_data.loc[full_data['freedom_status'] == 'NF', 'freedom_status'] = 1\n",
    "except:\n",
    "    pass\n"
   ]
  },
  {
   "cell_type": "code",
   "execution_count": 35,
   "metadata": {
    "collapsed": true
   },
   "outputs": [],
   "source": [
    "def pickleme(temp, filename):\n",
    "   with open(filename, 'wb') as picklefile:\n",
    "       pickle.dump(temp, picklefile)\n"
   ]
  },
  {
   "cell_type": "code",
   "execution_count": 36,
   "metadata": {
    "collapsed": true
   },
   "outputs": [],
   "source": [
    "pickleme(full_data, '../final_analysis/ken_m_data.pkl')"
   ]
  },
  {
   "cell_type": "code",
   "execution_count": 37,
   "metadata": {
    "collapsed": false
   },
   "outputs": [
    {
     "data": {
      "text/html": [
       "<div>\n",
       "<table border=\"1\" class=\"dataframe\">\n",
       "  <thead>\n",
       "    <tr style=\"text-align: right;\">\n",
       "      <th></th>\n",
       "      <th></th>\n",
       "      <th>civil_liberties</th>\n",
       "      <th>political_rights</th>\n",
       "      <th>female_legislators</th>\n",
       "      <th>population_growth</th>\n",
       "      <th>population_female</th>\n",
       "      <th>life_expectancy</th>\n",
       "      <th>population_15_64</th>\n",
       "      <th>zscores</th>\n",
       "    </tr>\n",
       "    <tr>\n",
       "      <th>year</th>\n",
       "      <th>countrycode</th>\n",
       "      <th></th>\n",
       "      <th></th>\n",
       "      <th></th>\n",
       "      <th></th>\n",
       "      <th></th>\n",
       "      <th></th>\n",
       "      <th></th>\n",
       "      <th></th>\n",
       "    </tr>\n",
       "  </thead>\n",
       "  <tbody>\n",
       "    <tr>\n",
       "      <th rowspan=\"7\" valign=\"top\">2008</th>\n",
       "      <th>FJI</th>\n",
       "      <td>4</td>\n",
       "      <td>6</td>\n",
       "      <td>NaN</td>\n",
       "      <td>1.010417</td>\n",
       "      <td>48.947707</td>\n",
       "      <td>69.022024</td>\n",
       "      <td>65.706245</td>\n",
       "      <td>0</td>\n",
       "    </tr>\n",
       "    <tr>\n",
       "      <th>GIN</th>\n",
       "      <td>5</td>\n",
       "      <td>7</td>\n",
       "      <td>NaN</td>\n",
       "      <td>2.671069</td>\n",
       "      <td>49.966108</td>\n",
       "      <td>54.777585</td>\n",
       "      <td>53.134073</td>\n",
       "      <td>0</td>\n",
       "    </tr>\n",
       "    <tr>\n",
       "      <th>LUX</th>\n",
       "      <td>1</td>\n",
       "      <td>1</td>\n",
       "      <td>23.3</td>\n",
       "      <td>1.787497</td>\n",
       "      <td>50.493425</td>\n",
       "      <td>80.539024</td>\n",
       "      <td>67.877191</td>\n",
       "      <td>NaN</td>\n",
       "    </tr>\n",
       "    <tr>\n",
       "      <th>MMR</th>\n",
       "      <td>7</td>\n",
       "      <td>7</td>\n",
       "      <td>NaN</td>\n",
       "      <td>0.651129</td>\n",
       "      <td>51.176312</td>\n",
       "      <td>64.367610</td>\n",
       "      <td>64.768113</td>\n",
       "      <td>0</td>\n",
       "    </tr>\n",
       "    <tr>\n",
       "      <th>SSD</th>\n",
       "      <td>NaN</td>\n",
       "      <td>NaN</td>\n",
       "      <td>NaN</td>\n",
       "      <td>4.362664</td>\n",
       "      <td>50.051550</td>\n",
       "      <td>52.593317</td>\n",
       "      <td>52.863172</td>\n",
       "      <td>NaN</td>\n",
       "    </tr>\n",
       "    <tr>\n",
       "      <th>TKM</th>\n",
       "      <td>7</td>\n",
       "      <td>7</td>\n",
       "      <td>NaN</td>\n",
       "      <td>1.213341</td>\n",
       "      <td>50.724437</td>\n",
       "      <td>64.756073</td>\n",
       "      <td>65.247102</td>\n",
       "      <td>0</td>\n",
       "    </tr>\n",
       "    <tr>\n",
       "      <th>VUT</th>\n",
       "      <td>2</td>\n",
       "      <td>2</td>\n",
       "      <td>3.8</td>\n",
       "      <td>2.416066</td>\n",
       "      <td>49.142388</td>\n",
       "      <td>70.254756</td>\n",
       "      <td>57.801496</td>\n",
       "      <td>NaN</td>\n",
       "    </tr>\n",
       "    <tr>\n",
       "      <th rowspan=\"8\" valign=\"top\">2009</th>\n",
       "      <th>FJI</th>\n",
       "      <td>4</td>\n",
       "      <td>6</td>\n",
       "      <td>NaN</td>\n",
       "      <td>1.020386</td>\n",
       "      <td>48.947824</td>\n",
       "      <td>69.202854</td>\n",
       "      <td>65.938529</td>\n",
       "      <td>0</td>\n",
       "    </tr>\n",
       "    <tr>\n",
       "      <th>GIN</th>\n",
       "      <td>6</td>\n",
       "      <td>7</td>\n",
       "      <td>NaN</td>\n",
       "      <td>2.728375</td>\n",
       "      <td>49.955495</td>\n",
       "      <td>55.556146</td>\n",
       "      <td>53.333078</td>\n",
       "      <td>0</td>\n",
       "    </tr>\n",
       "    <tr>\n",
       "      <th>LUX</th>\n",
       "      <td>1</td>\n",
       "      <td>1</td>\n",
       "      <td>20.0</td>\n",
       "      <td>1.851775</td>\n",
       "      <td>50.416014</td>\n",
       "      <td>80.636585</td>\n",
       "      <td>68.143119</td>\n",
       "      <td>NaN</td>\n",
       "    </tr>\n",
       "    <tr>\n",
       "      <th>MDG</th>\n",
       "      <td>4</td>\n",
       "      <td>6</td>\n",
       "      <td>NaN</td>\n",
       "      <td>2.814994</td>\n",
       "      <td>50.195519</td>\n",
       "      <td>62.918171</td>\n",
       "      <td>53.386568</td>\n",
       "      <td>0</td>\n",
       "    </tr>\n",
       "    <tr>\n",
       "      <th>MMR</th>\n",
       "      <td>7</td>\n",
       "      <td>7</td>\n",
       "      <td>NaN</td>\n",
       "      <td>0.663518</td>\n",
       "      <td>51.184720</td>\n",
       "      <td>64.643561</td>\n",
       "      <td>64.959838</td>\n",
       "      <td>1</td>\n",
       "    </tr>\n",
       "    <tr>\n",
       "      <th>SSD</th>\n",
       "      <td>NaN</td>\n",
       "      <td>NaN</td>\n",
       "      <td>NaN</td>\n",
       "      <td>4.403674</td>\n",
       "      <td>50.032723</td>\n",
       "      <td>53.122659</td>\n",
       "      <td>53.048921</td>\n",
       "      <td>NaN</td>\n",
       "    </tr>\n",
       "    <tr>\n",
       "      <th>VUT</th>\n",
       "      <td>2</td>\n",
       "      <td>2</td>\n",
       "      <td>3.8</td>\n",
       "      <td>2.388536</td>\n",
       "      <td>49.191878</td>\n",
       "      <td>70.555829</td>\n",
       "      <td>57.776170</td>\n",
       "      <td>NaN</td>\n",
       "    </tr>\n",
       "    <tr>\n",
       "      <th>WSM</th>\n",
       "      <td>2</td>\n",
       "      <td>2</td>\n",
       "      <td>8.2</td>\n",
       "      <td>0.684525</td>\n",
       "      <td>48.396318</td>\n",
       "      <td>72.130683</td>\n",
       "      <td>56.466703</td>\n",
       "      <td>NaN</td>\n",
       "    </tr>\n",
       "    <tr>\n",
       "      <th rowspan=\"6\" valign=\"top\">2010</th>\n",
       "      <th>FJI</th>\n",
       "      <td>4</td>\n",
       "      <td>6</td>\n",
       "      <td>NaN</td>\n",
       "      <td>0.946142</td>\n",
       "      <td>48.959593</td>\n",
       "      <td>69.384366</td>\n",
       "      <td>66.170903</td>\n",
       "      <td>0</td>\n",
       "    </tr>\n",
       "    <tr>\n",
       "      <th>GIN</th>\n",
       "      <td>5</td>\n",
       "      <td>5</td>\n",
       "      <td>NaN</td>\n",
       "      <td>2.730597</td>\n",
       "      <td>49.942592</td>\n",
       "      <td>56.305049</td>\n",
       "      <td>53.550087</td>\n",
       "      <td>0</td>\n",
       "    </tr>\n",
       "    <tr>\n",
       "      <th>LUX</th>\n",
       "      <td>1</td>\n",
       "      <td>1</td>\n",
       "      <td>20.0</td>\n",
       "      <td>1.825406</td>\n",
       "      <td>50.324776</td>\n",
       "      <td>80.631707</td>\n",
       "      <td>68.362969</td>\n",
       "      <td>NaN</td>\n",
       "    </tr>\n",
       "    <tr>\n",
       "      <th>NER</th>\n",
       "      <td>4</td>\n",
       "      <td>5</td>\n",
       "      <td>NaN</td>\n",
       "      <td>3.878552</td>\n",
       "      <td>49.658200</td>\n",
       "      <td>58.259000</td>\n",
       "      <td>47.517486</td>\n",
       "      <td>0</td>\n",
       "    </tr>\n",
       "    <tr>\n",
       "      <th>SSD</th>\n",
       "      <td>NaN</td>\n",
       "      <td>NaN</td>\n",
       "      <td>NaN</td>\n",
       "      <td>4.404235</td>\n",
       "      <td>50.013787</td>\n",
       "      <td>53.664902</td>\n",
       "      <td>53.276511</td>\n",
       "      <td>NaN</td>\n",
       "    </tr>\n",
       "    <tr>\n",
       "      <th>TZA</th>\n",
       "      <td>3</td>\n",
       "      <td>3</td>\n",
       "      <td>NaN</td>\n",
       "      <td>3.174634</td>\n",
       "      <td>50.346737</td>\n",
       "      <td>61.625610</td>\n",
       "      <td>51.791172</td>\n",
       "      <td>0</td>\n",
       "    </tr>\n",
       "    <tr>\n",
       "      <th rowspan=\"6\" valign=\"top\">2011</th>\n",
       "      <th>FJI</th>\n",
       "      <td>4</td>\n",
       "      <td>6</td>\n",
       "      <td>NaN</td>\n",
       "      <td>0.853949</td>\n",
       "      <td>48.983832</td>\n",
       "      <td>69.565000</td>\n",
       "      <td>66.001058</td>\n",
       "      <td>0</td>\n",
       "    </tr>\n",
       "    <tr>\n",
       "      <th>GIN</th>\n",
       "      <td>5</td>\n",
       "      <td>5</td>\n",
       "      <td>NaN</td>\n",
       "      <td>2.722622</td>\n",
       "      <td>49.926862</td>\n",
       "      <td>57.000537</td>\n",
       "      <td>53.672867</td>\n",
       "      <td>0</td>\n",
       "    </tr>\n",
       "    <tr>\n",
       "      <th>HRV</th>\n",
       "      <td>2</td>\n",
       "      <td>1</td>\n",
       "      <td>23.8</td>\n",
       "      <td>NaN</td>\n",
       "      <td>51.791799</td>\n",
       "      <td>76.775610</td>\n",
       "      <td>66.783153</td>\n",
       "      <td>1</td>\n",
       "    </tr>\n",
       "    <tr>\n",
       "      <th>LBY</th>\n",
       "      <td>6</td>\n",
       "      <td>7</td>\n",
       "      <td>NaN</td>\n",
       "      <td>0.365690</td>\n",
       "      <td>48.984059</td>\n",
       "      <td>71.683268</td>\n",
       "      <td>66.610428</td>\n",
       "      <td>0</td>\n",
       "    </tr>\n",
       "    <tr>\n",
       "      <th>LUX</th>\n",
       "      <td>1</td>\n",
       "      <td>1</td>\n",
       "      <td>25.0</td>\n",
       "      <td>2.222661</td>\n",
       "      <td>50.218373</td>\n",
       "      <td>80.987805</td>\n",
       "      <td>68.642123</td>\n",
       "      <td>NaN</td>\n",
       "    </tr>\n",
       "    <tr>\n",
       "      <th>ZAR</th>\n",
       "      <td>6</td>\n",
       "      <td>6</td>\n",
       "      <td>NaN</td>\n",
       "      <td>3.206612</td>\n",
       "      <td>50.189905</td>\n",
       "      <td>57.398634</td>\n",
       "      <td>50.620616</td>\n",
       "      <td>1</td>\n",
       "    </tr>\n",
       "    <tr>\n",
       "      <th rowspan=\"5\" valign=\"top\">2012</th>\n",
       "      <th>FJI</th>\n",
       "      <td>4</td>\n",
       "      <td>6</td>\n",
       "      <td>NaN</td>\n",
       "      <td>0.784507</td>\n",
       "      <td>49.019742</td>\n",
       "      <td>69.743220</td>\n",
       "      <td>65.855257</td>\n",
       "      <td>0</td>\n",
       "    </tr>\n",
       "    <tr>\n",
       "      <th>GHA</th>\n",
       "      <td>2</td>\n",
       "      <td>1</td>\n",
       "      <td>NaN</td>\n",
       "      <td>2.441273</td>\n",
       "      <td>50.452251</td>\n",
       "      <td>60.977024</td>\n",
       "      <td>57.553495</td>\n",
       "      <td>0</td>\n",
       "    </tr>\n",
       "    <tr>\n",
       "      <th>GIN</th>\n",
       "      <td>5</td>\n",
       "      <td>5</td>\n",
       "      <td>NaN</td>\n",
       "      <td>2.723327</td>\n",
       "      <td>49.909307</td>\n",
       "      <td>57.637634</td>\n",
       "      <td>53.827375</td>\n",
       "      <td>0</td>\n",
       "    </tr>\n",
       "    <tr>\n",
       "      <th>LKA</th>\n",
       "      <td>4</td>\n",
       "      <td>5</td>\n",
       "      <td>5.8</td>\n",
       "      <td>NaN</td>\n",
       "      <td>51.564191</td>\n",
       "      <td>74.068049</td>\n",
       "      <td>66.774724</td>\n",
       "      <td>1</td>\n",
       "    </tr>\n",
       "    <tr>\n",
       "      <th>LUX</th>\n",
       "      <td>1</td>\n",
       "      <td>1</td>\n",
       "      <td>21.7</td>\n",
       "      <td>2.401542</td>\n",
       "      <td>50.101319</td>\n",
       "      <td>81.392683</td>\n",
       "      <td>68.906004</td>\n",
       "      <td>NaN</td>\n",
       "    </tr>\n",
       "    <tr>\n",
       "      <th rowspan=\"5\" valign=\"top\">2013</th>\n",
       "      <th>ARG</th>\n",
       "      <td>2</td>\n",
       "      <td>2</td>\n",
       "      <td>NaN</td>\n",
       "      <td>1.047065</td>\n",
       "      <td>51.078024</td>\n",
       "      <td>75.986098</td>\n",
       "      <td>63.834426</td>\n",
       "      <td>0</td>\n",
       "    </tr>\n",
       "    <tr>\n",
       "      <th>CAF</th>\n",
       "      <td>7</td>\n",
       "      <td>7</td>\n",
       "      <td>NaN</td>\n",
       "      <td>1.954537</td>\n",
       "      <td>50.720342</td>\n",
       "      <td>49.879878</td>\n",
       "      <td>56.420965</td>\n",
       "      <td>1</td>\n",
       "    </tr>\n",
       "    <tr>\n",
       "      <th>EGY</th>\n",
       "      <td>5</td>\n",
       "      <td>6</td>\n",
       "      <td>NaN</td>\n",
       "      <td>2.254326</td>\n",
       "      <td>49.487699</td>\n",
       "      <td>70.925780</td>\n",
       "      <td>62.240369</td>\n",
       "      <td>0</td>\n",
       "    </tr>\n",
       "    <tr>\n",
       "      <th>FJI</th>\n",
       "      <td>4</td>\n",
       "      <td>6</td>\n",
       "      <td>NaN</td>\n",
       "      <td>0.721403</td>\n",
       "      <td>49.063189</td>\n",
       "      <td>69.917927</td>\n",
       "      <td>65.713066</td>\n",
       "      <td>0</td>\n",
       "    </tr>\n",
       "    <tr>\n",
       "      <th>GIN</th>\n",
       "      <td>5</td>\n",
       "      <td>5</td>\n",
       "      <td>NaN</td>\n",
       "      <td>2.714272</td>\n",
       "      <td>49.891009</td>\n",
       "      <td>58.216488</td>\n",
       "      <td>54.003724</td>\n",
       "      <td>0</td>\n",
       "    </tr>\n",
       "  </tbody>\n",
       "</table>\n",
       "</div>"
      ],
      "text/plain": [
       "                  civil_liberties  political_rights  female_legislators  \\\n",
       "year countrycode                                                          \n",
       "2008 FJI                        4                 6                 NaN   \n",
       "     GIN                        5                 7                 NaN   \n",
       "     LUX                        1                 1                23.3   \n",
       "     MMR                        7                 7                 NaN   \n",
       "     SSD                      NaN               NaN                 NaN   \n",
       "     TKM                        7                 7                 NaN   \n",
       "     VUT                        2                 2                 3.8   \n",
       "2009 FJI                        4                 6                 NaN   \n",
       "     GIN                        6                 7                 NaN   \n",
       "     LUX                        1                 1                20.0   \n",
       "     MDG                        4                 6                 NaN   \n",
       "     MMR                        7                 7                 NaN   \n",
       "     SSD                      NaN               NaN                 NaN   \n",
       "     VUT                        2                 2                 3.8   \n",
       "     WSM                        2                 2                 8.2   \n",
       "2010 FJI                        4                 6                 NaN   \n",
       "     GIN                        5                 5                 NaN   \n",
       "     LUX                        1                 1                20.0   \n",
       "     NER                        4                 5                 NaN   \n",
       "     SSD                      NaN               NaN                 NaN   \n",
       "     TZA                        3                 3                 NaN   \n",
       "2011 FJI                        4                 6                 NaN   \n",
       "     GIN                        5                 5                 NaN   \n",
       "     HRV                        2                 1                23.8   \n",
       "     LBY                        6                 7                 NaN   \n",
       "     LUX                        1                 1                25.0   \n",
       "     ZAR                        6                 6                 NaN   \n",
       "2012 FJI                        4                 6                 NaN   \n",
       "     GHA                        2                 1                 NaN   \n",
       "     GIN                        5                 5                 NaN   \n",
       "     LKA                        4                 5                 5.8   \n",
       "     LUX                        1                 1                21.7   \n",
       "2013 ARG                        2                 2                 NaN   \n",
       "     CAF                        7                 7                 NaN   \n",
       "     EGY                        5                 6                 NaN   \n",
       "     FJI                        4                 6                 NaN   \n",
       "     GIN                        5                 5                 NaN   \n",
       "\n",
       "                  population_growth  population_female  life_expectancy  \\\n",
       "year countrycode                                                          \n",
       "2008 FJI                   1.010417          48.947707        69.022024   \n",
       "     GIN                   2.671069          49.966108        54.777585   \n",
       "     LUX                   1.787497          50.493425        80.539024   \n",
       "     MMR                   0.651129          51.176312        64.367610   \n",
       "     SSD                   4.362664          50.051550        52.593317   \n",
       "     TKM                   1.213341          50.724437        64.756073   \n",
       "     VUT                   2.416066          49.142388        70.254756   \n",
       "2009 FJI                   1.020386          48.947824        69.202854   \n",
       "     GIN                   2.728375          49.955495        55.556146   \n",
       "     LUX                   1.851775          50.416014        80.636585   \n",
       "     MDG                   2.814994          50.195519        62.918171   \n",
       "     MMR                   0.663518          51.184720        64.643561   \n",
       "     SSD                   4.403674          50.032723        53.122659   \n",
       "     VUT                   2.388536          49.191878        70.555829   \n",
       "     WSM                   0.684525          48.396318        72.130683   \n",
       "2010 FJI                   0.946142          48.959593        69.384366   \n",
       "     GIN                   2.730597          49.942592        56.305049   \n",
       "     LUX                   1.825406          50.324776        80.631707   \n",
       "     NER                   3.878552          49.658200        58.259000   \n",
       "     SSD                   4.404235          50.013787        53.664902   \n",
       "     TZA                   3.174634          50.346737        61.625610   \n",
       "2011 FJI                   0.853949          48.983832        69.565000   \n",
       "     GIN                   2.722622          49.926862        57.000537   \n",
       "     HRV                        NaN          51.791799        76.775610   \n",
       "     LBY                   0.365690          48.984059        71.683268   \n",
       "     LUX                   2.222661          50.218373        80.987805   \n",
       "     ZAR                   3.206612          50.189905        57.398634   \n",
       "2012 FJI                   0.784507          49.019742        69.743220   \n",
       "     GHA                   2.441273          50.452251        60.977024   \n",
       "     GIN                   2.723327          49.909307        57.637634   \n",
       "     LKA                        NaN          51.564191        74.068049   \n",
       "     LUX                   2.401542          50.101319        81.392683   \n",
       "2013 ARG                   1.047065          51.078024        75.986098   \n",
       "     CAF                   1.954537          50.720342        49.879878   \n",
       "     EGY                   2.254326          49.487699        70.925780   \n",
       "     FJI                   0.721403          49.063189        69.917927   \n",
       "     GIN                   2.714272          49.891009        58.216488   \n",
       "\n",
       "                  population_15_64  zscores  \n",
       "year countrycode                             \n",
       "2008 FJI                 65.706245        0  \n",
       "     GIN                 53.134073        0  \n",
       "     LUX                 67.877191      NaN  \n",
       "     MMR                 64.768113        0  \n",
       "     SSD                 52.863172      NaN  \n",
       "     TKM                 65.247102        0  \n",
       "     VUT                 57.801496      NaN  \n",
       "2009 FJI                 65.938529        0  \n",
       "     GIN                 53.333078        0  \n",
       "     LUX                 68.143119      NaN  \n",
       "     MDG                 53.386568        0  \n",
       "     MMR                 64.959838        1  \n",
       "     SSD                 53.048921      NaN  \n",
       "     VUT                 57.776170      NaN  \n",
       "     WSM                 56.466703      NaN  \n",
       "2010 FJI                 66.170903        0  \n",
       "     GIN                 53.550087        0  \n",
       "     LUX                 68.362969      NaN  \n",
       "     NER                 47.517486        0  \n",
       "     SSD                 53.276511      NaN  \n",
       "     TZA                 51.791172        0  \n",
       "2011 FJI                 66.001058        0  \n",
       "     GIN                 53.672867        0  \n",
       "     HRV                 66.783153        1  \n",
       "     LBY                 66.610428        0  \n",
       "     LUX                 68.642123      NaN  \n",
       "     ZAR                 50.620616        1  \n",
       "2012 FJI                 65.855257        0  \n",
       "     GHA                 57.553495        0  \n",
       "     GIN                 53.827375        0  \n",
       "     LKA                 66.774724        1  \n",
       "     LUX                 68.906004      NaN  \n",
       "2013 ARG                 63.834426        0  \n",
       "     CAF                 56.420965        1  \n",
       "     EGY                 62.240369        0  \n",
       "     FJI                 65.713066        0  \n",
       "     GIN                 54.003724        0  "
      ]
     },
     "execution_count": 37,
     "metadata": {},
     "output_type": "execute_result"
    }
   ],
   "source": [
    "#The rows to be dropped\n",
    "full_data[full_data.isnull().any(axis=1)]"
   ]
  },
  {
   "cell_type": "code",
   "execution_count": 38,
   "metadata": {
    "collapsed": true
   },
   "outputs": [],
   "source": [
    "full_data = full_data.dropna()"
   ]
  },
  {
   "cell_type": "code",
   "execution_count": 39,
   "metadata": {
    "collapsed": false,
    "scrolled": false
   },
   "outputs": [],
   "source": [
    "#Get Z scores of rows\n",
    "#for col in x_cols:\n",
    "#    full_data[col] = full_data[col].astype(float)\n",
    "#    full_data[col] = (full_data[col] - full_data[col].mean())/full_data[col].std(ddof=0)\n"
   ]
  },
  {
   "cell_type": "markdown",
   "metadata": {},
   "source": [
    "#### Get the score values WITHOUT cross validating "
   ]
  },
  {
   "cell_type": "code",
   "execution_count": 40,
   "metadata": {
    "collapsed": false
   },
   "outputs": [],
   "source": [
    "def getScoreValues(X_train, \n",
    "                   X_test, \n",
    "                   y_train, \n",
    "                   y_test, \n",
    "                   model=KNeighborsClassifier(n_neighbors=6), \n",
    "                   verbose=True, \n",
    "                   get_features=True,\n",
    "                   get_prediction=False\n",
    "                  ):\n",
    "    y_test_index=y_test.index\n",
    "    \n",
    "    model = model\n",
    "    model.fit(X_train, y_train)\n",
    "    y_pred = model.predict(X_test)\n",
    "    \n",
    "    accuracy_score_value = accuracy_score(y_test, y_pred)\n",
    "    precision_score_value = precision_score(y_test, y_pred)\n",
    "    recall_score_value = recall_score(y_test, y_pred)\n",
    "    f1_score_value = f1_score(y_test, y_pred)  \n",
    "    roc_auc_value = roc_auc_score(y_test,y_pred)\n",
    "    \n",
    "    feature_importances = None\n",
    "    if get_features:\n",
    "        try:\n",
    "            feature_importances = model.feature_importances_\n",
    "            #print(feature_importances)\n",
    "        except AttributeError:\n",
    "            pass\n",
    "    \n",
    "    if verbose:\n",
    "        #print(pd.concat([y_test,pd.Series(y_pred, index=y_test.index)], axis = 1))\n",
    "        print('Accuracy: {}\\nPrecision: {}\\nRecall: {}\\nf1: {}\\nROC AUC: ()'.format(accuracy_score_value, \\\n",
    "                                                                       precision_score_value, \\\n",
    "                                                                       recall_score_value, \\\n",
    "                                                                       f1_score_value, \\\n",
    "                                                                       roc_auc_value))\n",
    "    elif get_prediction:\n",
    "        y_pred=pd.Series(y_pred, index=y_test_index)\n",
    "        return y_pred\n",
    "        \n",
    "    else:\n",
    "        return accuracy_score_value, \\\n",
    "               precision_score_value, \\\n",
    "               recall_score_value, \\\n",
    "               f1_score_value, \\\n",
    "               roc_auc_value, \\\n",
    "               feature_importances"
   ]
  },
  {
   "cell_type": "code",
   "execution_count": 41,
   "metadata": {
    "collapsed": false
   },
   "outputs": [],
   "source": [
    "X = full_data[x_cols]\n",
    "y = full_data[y_col]\n",
    "\n",
    "\n",
    "X_train, X_test, y_train, y_test = train_test_split(X, y, test_size = .30, random_state=4444)"
   ]
  },
  {
   "cell_type": "code",
   "execution_count": 42,
   "metadata": {
    "collapsed": false
   },
   "outputs": [
    {
     "name": "stdout",
     "output_type": "stream",
     "text": [
      "Accuracy: 0.9206349206349206\n",
      "Precision: 0.5925925925925926\n",
      "Recall: 0.5333333333333333\n",
      "f1: 0.5614035087719299\n",
      "ROC AUC: ()\n"
     ]
    }
   ],
   "source": [
    "getScoreValues(X_train, X_test, y_train, y_test, DecisionTreeClassifier())"
   ]
  },
  {
   "cell_type": "code",
   "execution_count": 43,
   "metadata": {
    "collapsed": false
   },
   "outputs": [
    {
     "name": "stdout",
     "output_type": "stream",
     "text": [
      "Accuracy: 0.9047619047619048\n",
      "Precision: 0.0\n",
      "Recall: 0.0\n",
      "f1: 0.0\n",
      "ROC AUC: ()\n"
     ]
    },
    {
     "name": "stderr",
     "output_type": "stream",
     "text": [
      "/Users/kenn/anaconda/lib/python3.5/site-packages/sklearn/metrics/classification.py:1074: UndefinedMetricWarning: Precision is ill-defined and being set to 0.0 due to no predicted samples.\n",
      "  'precision', 'predicted', average, warn_for)\n",
      "/Users/kenn/anaconda/lib/python3.5/site-packages/sklearn/metrics/classification.py:1074: UndefinedMetricWarning: F-score is ill-defined and being set to 0.0 due to no predicted samples.\n",
      "  'precision', 'predicted', average, warn_for)\n"
     ]
    }
   ],
   "source": [
    "getScoreValues(X_train, X_test, y_train, y_test, BernoulliNB())"
   ]
  },
  {
   "cell_type": "code",
   "execution_count": 44,
   "metadata": {
    "collapsed": false
   },
   "outputs": [
    {
     "name": "stdout",
     "output_type": "stream",
     "text": [
      "Accuracy: 0.7587301587301587\n",
      "Precision: 0.18055555555555555\n",
      "Recall: 0.43333333333333335\n",
      "f1: 0.2549019607843137\n",
      "ROC AUC: ()\n"
     ]
    }
   ],
   "source": [
    "getScoreValues(X_train, X_test, y_train, y_test, GaussianNB())"
   ]
  },
  {
   "cell_type": "code",
   "execution_count": 45,
   "metadata": {
    "collapsed": false
   },
   "outputs": [
    {
     "name": "stdout",
     "output_type": "stream",
     "text": [
      "Accuracy: 0.9492063492063492\n",
      "Precision: 0.85\n",
      "Recall: 0.5666666666666667\n",
      "f1: 0.68\n",
      "ROC AUC: ()\n"
     ]
    }
   ],
   "source": [
    "getScoreValues(X_train, X_test, y_train, y_test, model=SVC())"
   ]
  },
  {
   "cell_type": "code",
   "execution_count": 46,
   "metadata": {
    "collapsed": false
   },
   "outputs": [
    {
     "name": "stdout",
     "output_type": "stream",
     "text": [
      "Accuracy: 0.9365079365079365\n",
      "Precision: 0.7777777777777778\n",
      "Recall: 0.4666666666666667\n",
      "f1: 0.5833333333333334\n",
      "ROC AUC: ()\n"
     ]
    }
   ],
   "source": [
    "getScoreValues(X_train, X_test, y_train, y_test, model=RandomForestClassifier())"
   ]
  },
  {
   "cell_type": "markdown",
   "metadata": {},
   "source": [
    "#### Print the ROC curve for a model"
   ]
  },
  {
   "cell_type": "code",
   "execution_count": 47,
   "metadata": {
    "collapsed": true
   },
   "outputs": [],
   "source": [
    "def getROCcurve(X_train, X_test, y_train, y_test, model=KNeighborsClassifier(n_neighbors=2)):\n",
    "    model = model\n",
    "    model.fit(X_train, y_train)\n",
    "    y_scores = model.predict_proba(X_test)[:,1]\n",
    "    fpr, tpr, thresholds = roc_curve(y_test, y_scores)\n",
    "\n",
    "    auc = roc_auc_score(y_test, y_scores)\n",
    "    print('AUC: {}'.format(auc))\n",
    "    \n",
    "    fig,ax = plt.subplots()\n",
    "    ax.plot(fpr, tpr, label='ROC Curve')\n",
    "\n",
    "    fig.set_size_inches(12, 8, forward=True)\n",
    "    plt.xlabel('FPR')\n",
    "    plt.ylabel('TPR')\n",
    "    plt.title('ROC Curve')\n",
    "    plt.legend(loc='best')"
   ]
  },
  {
   "cell_type": "code",
   "execution_count": 48,
   "metadata": {
    "collapsed": false,
    "scrolled": false
   },
   "outputs": [
    {
     "name": "stdout",
     "output_type": "stream",
     "text": [
      "AUC: 0.8547368421052632\n"
     ]
    },
    {
     "data": {
      "image/png": "[encoded data removed]",
      "text/plain": [
       "<matplotlib.figure.Figure at 0x10d1d08d0>"
      ]
     },
     "metadata": {},
     "output_type": "display_data"
    }
   ],
   "source": [
    "getROCcurve(X_train, X_test, y_train, y_test, model=RandomForestClassifier())"
   ]
  },
  {
   "cell_type": "markdown",
   "metadata": {},
   "source": [
    "#### Cross Validate and Return Scores "
   ]
  },
  {
   "cell_type": "code",
   "execution_count": 49,
   "metadata": {
    "collapsed": true
   },
   "outputs": [],
   "source": [
    "def getScoreValuesByCV(X, y, model=KNeighborsClassifier(n_neighbors=1)):\n",
    "    \n",
    "    accuracy_score_value = np.mean(cross_val_score(model, X, y, scoring='accuracy', cv=5))\n",
    "    precision_score_value = np.mean(cross_val_score(model, X, y, scoring='precision', cv=5))\n",
    "    recall_score_value = np.mean(cross_val_score(model, X, y, scoring='recall', cv=5))\n",
    "    f1_score_value = np.mean(cross_val_score(model, X, y, scoring='f1', cv=5))\n",
    "    roc_auc_value = np.mean(cross_val_score(model, X, y, scoring='roc_auc', cv=5))\n",
    "    #roc_auc_value = 0  \n",
    "        \n",
    "    print('Accuracy: {}\\nPrecision: {}\\nRecall: {}\\nf1: {}\\nROC AUC: {}'.format(accuracy_score_value, \\\n",
    "                                                                   precision_score_value, \\\n",
    "                                                                   recall_score_value, \\\n",
    "                                                                   f1_score_value,\n",
    "                                                                   roc_auc_value))"
   ]
  },
  {
   "cell_type": "code",
   "execution_count": 50,
   "metadata": {
    "collapsed": false,
    "scrolled": false
   },
   "outputs": [
    {
     "name": "stdout",
     "output_type": "stream",
     "text": [
      "Accuracy: 0.9685164440614678\n",
      "Precision: 0.8513871635610766\n",
      "Recall: 0.8342857142857143\n",
      "f1: 0.8409563078252813\n",
      "ROC AUC: 0.9086856028961291\n"
     ]
    }
   ],
   "source": [
    "getScoreValuesByCV(X,y)"
   ]
  },
  {
   "cell_type": "code",
   "execution_count": 51,
   "metadata": {
    "collapsed": false,
    "scrolled": false
   },
   "outputs": [
    {
     "name": "stdout",
     "output_type": "stream",
     "text": [
      "Accuracy: 0.9656909831666629\n",
      "Precision: 0.9312820512820513\n",
      "Recall: 0.6780952380952382\n",
      "f1: 0.7486523675378164\n",
      "ROC AUC: 0.9558936362069194\n"
     ]
    }
   ],
   "source": [
    "getScoreValuesByCV(X,y, model=RandomForestClassifier())"
   ]
  },
  {
   "cell_type": "code",
   "execution_count": 52,
   "metadata": {
    "collapsed": false
   },
   "outputs": [
    {
     "name": "stdout",
     "output_type": "stream",
     "text": [
      "Accuracy: 0.7883553562924976\n",
      "Precision: 0.25860127699654345\n",
      "Recall: 0.6114285714285714\n",
      "f1: 0.3629679169275306\n",
      "ROC AUC: 0.7336091551630399\n"
     ]
    }
   ],
   "source": [
    "getScoreValuesByCV(X,y, model=GaussianNB())"
   ]
  },
  {
   "cell_type": "code",
   "execution_count": 53,
   "metadata": {
    "collapsed": false,
    "scrolled": false
   },
   "outputs": [
    {
     "name": "stdout",
     "output_type": "stream",
     "text": [
      "Accuracy: 0.946615893460493\n",
      "Precision: 0.7559360357415277\n",
      "Recall: 0.7566666666666666\n",
      "f1: 0.7488744588744589\n",
      "ROC AUC: 0.8577736006683375\n"
     ]
    }
   ],
   "source": [
    "getScoreValuesByCV(X,y, model=DecisionTreeClassifier())"
   ]
  },
  {
   "cell_type": "code",
   "execution_count": 54,
   "metadata": {
    "collapsed": false,
    "scrolled": false
   },
   "outputs": [
    {
     "name": "stderr",
     "output_type": "stream",
     "text": [
      "/Users/kenn/anaconda/lib/python3.5/site-packages/sklearn/metrics/classification.py:1074: UndefinedMetricWarning: Precision is ill-defined and being set to 0.0 due to no predicted samples.\n",
      "  'precision', 'predicted', average, warn_for)\n",
      "/Users/kenn/anaconda/lib/python3.5/site-packages/sklearn/metrics/classification.py:1074: UndefinedMetricWarning: F-score is ill-defined and being set to 0.0 due to no predicted samples.\n",
      "  'precision', 'predicted', average, warn_for)\n"
     ]
    },
    {
     "name": "stdout",
     "output_type": "stream",
     "text": [
      "Accuracy: 0.9132687168157361\n",
      "Precision: 0.75\n",
      "Recall: 0.1276190476190476\n",
      "f1: 0.2147826086956522\n",
      "ROC AUC: 0.7781949582952089\n"
     ]
    }
   ],
   "source": [
    "getScoreValuesByCV(X,y, model=LogisticRegression())"
   ]
  },
  {
   "cell_type": "markdown",
   "metadata": {},
   "source": [
    "## Modeling with Over Sampling of Training Set"
   ]
  },
  {
   "cell_type": "code",
   "execution_count": 55,
   "metadata": {
    "collapsed": true
   },
   "outputs": [],
   "source": [
    "def oversample_data(X_t, y_t, ratio):\n",
    "    x_columns = X_t.columns\n",
    "    \n",
    "    X_t = X_t.reset_index(drop=True).as_matrix()\n",
    "    y_t = y_t.reset_index(drop=True).as_matrix()\n",
    "\n",
    "    smote = OverSampler(ratio=ratio, verbose=False)\n",
    "    smox, smoy = smote.fit_transform(X_t, y_t)\n",
    "    X_t = pd.DataFrame(smox, columns=x_columns)\n",
    "    y_t = pd.Series(smoy)\n",
    "    return X_t, y_t\n"
   ]
  },
  {
   "cell_type": "code",
   "execution_count": 56,
   "metadata": {
    "collapsed": false
   },
   "outputs": [],
   "source": [
    "X = full_data[x_cols]\n",
    "y = full_data[y_col]\n",
    "\n",
    "X_train, X_test, y_train, y_test = train_test_split(X, y, test_size = .30, random_state=4444)"
   ]
  },
  {
   "cell_type": "code",
   "execution_count": 57,
   "metadata": {
    "collapsed": false
   },
   "outputs": [],
   "source": [
    "verbose = False\n",
    "ratio = float(y.value_counts()[0]) / float(y.value_counts()[1])\n",
    "\n",
    "X_train, y_train = oversample_data(X_train, y_train, ratio)"
   ]
  },
  {
   "cell_type": "code",
   "execution_count": 58,
   "metadata": {
    "collapsed": false
   },
   "outputs": [
    {
     "name": "stdout",
     "output_type": "stream",
     "text": [
      "Accuracy: 0.9142857142857143\n",
      "Precision: 0.5319148936170213\n",
      "Recall: 0.8333333333333334\n",
      "f1: 0.6493506493506493\n",
      "ROC AUC: ()\n"
     ]
    }
   ],
   "source": [
    "getScoreValues(X_train, X_test, y_train, y_test)"
   ]
  },
  {
   "cell_type": "code",
   "execution_count": 59,
   "metadata": {
    "collapsed": false
   },
   "outputs": [
    {
     "name": "stdout",
     "output_type": "stream",
     "text": [
      "Accuracy: 0.9396825396825397\n",
      "Precision: 0.72\n",
      "Recall: 0.6\n",
      "f1: 0.6545454545454547\n",
      "ROC AUC: ()\n"
     ]
    }
   ],
   "source": [
    "getScoreValues(X_train, X_test, y_train, y_test, model=RandomForestClassifier())"
   ]
  },
  {
   "cell_type": "code",
   "execution_count": 60,
   "metadata": {
    "collapsed": false
   },
   "outputs": [
    {
     "name": "stdout",
     "output_type": "stream",
     "text": [
      "Accuracy: 0.8158730158730159\n",
      "Precision: 0.13157894736842105\n",
      "Recall: 0.16666666666666666\n",
      "f1: 0.14705882352941177\n",
      "ROC AUC: ()\n"
     ]
    }
   ],
   "source": [
    "getScoreValues(X_train, X_test, y_train, y_test, model=BernoulliNB())"
   ]
  },
  {
   "cell_type": "code",
   "execution_count": 61,
   "metadata": {
    "collapsed": false,
    "scrolled": true
   },
   "outputs": [
    {
     "name": "stdout",
     "output_type": "stream",
     "text": [
      "Accuracy: 0.6126984126984127\n",
      "Precision: 0.140625\n",
      "Recall: 0.6\n",
      "f1: 0.22784810126582278\n",
      "ROC AUC: ()\n"
     ]
    }
   ],
   "source": [
    "getScoreValues(X_train, X_test, y_train, y_test, model=GaussianNB())"
   ]
  },
  {
   "cell_type": "code",
   "execution_count": 62,
   "metadata": {
    "collapsed": false
   },
   "outputs": [
    {
     "name": "stdout",
     "output_type": "stream",
     "text": [
      "Accuracy: 0.926984126984127\n",
      "Precision: 0.6060606060606061\n",
      "Recall: 0.6666666666666666\n",
      "f1: 0.6349206349206349\n",
      "ROC AUC: ()\n"
     ]
    }
   ],
   "source": [
    "getScoreValues(X_train, X_test, y_train, y_test, model=DecisionTreeClassifier())"
   ]
  },
  {
   "cell_type": "code",
   "execution_count": 63,
   "metadata": {
    "collapsed": false,
    "scrolled": false
   },
   "outputs": [
    {
     "name": "stdout",
     "output_type": "stream",
     "text": [
      "Accuracy: 0.7142857142857143\n",
      "Precision: 0.16666666666666666\n",
      "Recall: 0.5\n",
      "f1: 0.25\n",
      "ROC AUC: ()\n"
     ]
    }
   ],
   "source": [
    "getScoreValues(X_train, X_test, y_train, y_test, model=LogisticRegression())"
   ]
  },
  {
   "cell_type": "markdown",
   "metadata": {},
   "source": [
    "## Confusion Matrix"
   ]
  },
  {
   "cell_type": "code",
   "execution_count": 64,
   "metadata": {
    "collapsed": true
   },
   "outputs": [],
   "source": [
    "def plot_confusion_matrix(cm, title='Confusion matrix', cmap=plt.cm.Blues):\n",
    "    plt.imshow(cm, interpolation='nearest', cmap=cmap)\n",
    "    plt.title(title)\n",
    "    plt.colorbar()\n",
    "    plt.grid(False)\n",
    "    tick_marks = np.arange(2)\n",
    "    plt.xticks(tick_marks, ['Not at Risk', 'At Risk'], rotation=45)\n",
    "    plt.yticks(tick_marks, ['Not at Risk', 'At Risk'])\n",
    "    plt.tight_layout()\n",
    "    plt.ylabel('True label')\n",
    "    plt.xlabel('Predicted label')"
   ]
  },
  {
   "cell_type": "markdown",
   "metadata": {},
   "source": [
    "### Getting Ken C.'s tableau pickle"
   ]
  },
  {
   "cell_type": "code",
   "execution_count": 65,
   "metadata": {
    "collapsed": true
   },
   "outputs": [],
   "source": [
    "def getpickle(filename):\n",
    "\n",
    "    try:\n",
    "        with open(filename, 'rb') as picklefile:\n",
    "            return pickle.load(picklefile)\n",
    "    except:\n",
    "        return 'There was an error trying to read this file.  Please check the filename or path.'"
   ]
  },
  {
   "cell_type": "code",
   "execution_count": 66,
   "metadata": {
    "collapsed": false
   },
   "outputs": [],
   "source": [
    "colors = getpickle('../security/tableaucolors.pkl')"
   ]
  },
  {
   "cell_type": "markdown",
   "metadata": {},
   "source": [
    "## Cross validate with or without oversampling"
   ]
  },
  {
   "cell_type": "markdown",
   "metadata": {},
   "source": [
    "## getCrossValScoresBySSS\n",
    "\n",
    "This class is instantiated by doing the following:\n",
    "    \n",
    "    yourinstance = getCrossValScoresBySSS(X, y, test_size=0.3, n_iter=30)\n",
    "    \n",
    "Where:\n",
    "* X is a pandas dataframe of the features\n",
    "* y is a series of the classifiers\n",
    "* test_size is the test size for the train/test splits\n",
    "* n_iter is the number of iterations for cross validation\n",
    "\n",
    "This object has the following methods:\n",
    "\n",
    "    yourinstance.get_multi_models(oversample=True, year=None, year_delta=0)\n",
    "    \n",
    "    yourinstance.get_single_model(model=KNeighborsClassifier(n_neighbors=2), oversample=True, year=None, year_delta,  get_models_avg=False, get_features=True, get_cm=False, verbose=True)\n",
    "    \n",
    "    future_crisis_countries(model=KNeighborsClassifier(n_neighbors=2), oversample=True,year=None,year_delta=0)\n",
    "\n",
    "### get_multi_models\n",
    "\n",
    "    yourinstance.get_multi_models(oversample=True, year=None, year_delta=0)\n",
    "\n",
    "Where:\n",
    "* oversample is a boolean that determines if SMOTE should be performed on the training sets for each cross validation\n",
    "* year is the starting year for which features will be examined\n",
    "* year_delta is used in the equation predicted_year = year + year_delta \n",
    "\n",
    "This returns a dataframe with the Accuracy, Precision, Recall, F1, and ROC AUC scores for various models.\n",
    "\n",
    "### get_single_model\n",
    "\n",
    "    yourinstance.get_single_model(model=KNeighborsClassifier(n_neighbors=2), oversample=True, year=None, year_delta=0,  get_features=True, get_cm=False, verbose=True)\n",
    "    \n",
    "Where:\n",
    "* model is the model to be attempted on the data\n",
    "* oversample is a boolean that determines if SMOTE should be performed on the training sets for each cross validation\n",
    "* year is the starting year for which features will be examined\n",
    "* year_delta is used in the equation predicted_year = year + year_delta \n",
    "* get_features is a boolean value. If True it will attempt to get the feature importances of the model.\n",
    "* get_cm is a boolean value. If True it will output a confusion matrix of the model (or the average prediction).\n",
    "* verbose is a boolean value. If True it will print out the score values for Accuracy, Precision, Recall, F1, and ROC AUC. If False it will just return them.\n",
    "\n",
    "### future_crisis_countries\n",
    "\n",
    "    future_crisis_countries(model=KNeighborsClassifier(n_neighbors=2), oversample=True,year=None,year_delta=0)\n",
    "\n",
    "Where:\n",
    "* model is the model to be attempted on the data\n",
    "* oversample is a boolean that determines if SMOTE should be performed on the training sets for each cross validation\n",
    "* year is the starting year for which features will be examined\n",
    "* year_delta is used in the equation predicted_year = year + year_delta \n"
   ]
  },
  {
   "cell_type": "code",
   "execution_count": 125,
   "metadata": {
    "collapsed": false
   },
   "outputs": [],
   "source": [
    "class getCrossValScoresBySSS(object):\n",
    "\n",
    "    def __init__(self,\n",
    "                 local_X,\n",
    "                 local_y,\n",
    "                 test_size=0.3,\n",
    "                 n_iter=50\n",
    "                ):\n",
    "        self.model_list = [\\\n",
    "                          KNeighborsClassifier(n_neighbors=1), \\\n",
    "                          SVC(gamma=1, C=10, kernel='rbf'), \\\n",
    "                          SVC(),\\\n",
    "                          LogisticRegression(), \\\n",
    "                          BernoulliNB(), \\\n",
    "                          GaussianNB(), \\\n",
    "                          RandomForestClassifier(n_estimators=30), \\\n",
    "                          DecisionTreeClassifier() \\\n",
    "                          ]\n",
    "\n",
    "        self.index_func = [\\\n",
    "                          'KNeighborsClassifier(n_neighbors=1)', \\\n",
    "                          'SVC(gamma=1, C=10, kernel=\\'rbf\\')', \\\n",
    "                          'SVC()',\\\n",
    "                          'LogisticRegression()', \\\n",
    "                          'BernoulliNB()', \\\n",
    "                          'GaussianNB()', \\\n",
    "                          'RandomForestClassifier(n_estimators=30)', \\\n",
    "                          'DecisionTreeClassifier()' \\\n",
    "                          ]\n",
    "        self.test_size = test_size\n",
    "        self.n_iter = n_iter\n",
    "        self.initialize_scores()\n",
    "        self.score_dict = {}\n",
    "        self.colors =  getpickle('../security/tableaucolors.pkl')\n",
    "        self.X = local_X\n",
    "        self.y = local_y\n",
    "        self.x_cols = list(local_X.columns)\n",
    "        self.ratio = float(local_y.value_counts()[0]) / (float(local_y.value_counts()[1]))\n",
    "        self.sss = StratifiedShuffleSplit(local_y, n_iter=n_iter, test_size=test_size)\n",
    "\n",
    "    def initialize_scores(self):\n",
    "        self.acc_array = []\n",
    "        self.prec_array = []\n",
    "        self.recall_array = []\n",
    "        self.f1_array = []\n",
    "        self.roc_auc_array = []\n",
    "        self.feature_imp_array = []\n",
    "\n",
    "    def get_cm_pred(self, model, X_t, y_t, X_ts):\n",
    "        temp_model = model\n",
    "        temp_model.fit(X_t, y_t)\n",
    "        y_pd = temp_model.predict(X_ts)\n",
    "        return y_pd\n",
    "\n",
    "    def test_conversion_for_year(self, year, y_delta):\n",
    "        #try:\n",
    "            new_year = year+y_delta\n",
    "            X_columns = self.X.columns\n",
    "            y_col = self.y.name\n",
    "            X_te = self.X.loc[new_year, :]\n",
    "            y_te = self.y.loc[new_year, :]\n",
    "            y_te = y_te.reset_index('countrycode').reset_index(drop=True).set_index('countrycode')\n",
    "            full = pd.concat([X_te, y_te], axis=1)\n",
    "            full = full.dropna()\n",
    "            X_te = full[X_columns]\n",
    "            y_te = full[y_col]\n",
    "            return X_te, y_te\n",
    "            \n",
    "        #except:\n",
    "         #   print('Bad Year')\n",
    "            \n",
    "    #def future_prediction_generator(self, )   \n",
    "    \n",
    "\n",
    "    def set_score_arrays(self, oversample, year, year_delta, model, get_features):\n",
    "        random_num = random.randint(1,self.n_iter)\n",
    "        i = 1\n",
    "        \n",
    "        if year != None:\n",
    "            new_x_cols = self.X.columns\n",
    "            new_y_col = self.y.name\n",
    "            new_X = deepcopy(self.X)\n",
    "            new_y = deepcopy(self.y)\n",
    "            new_y = new_y.reset_index()\n",
    "            new_y.year = new_y.year.subtract(year_delta)\n",
    "            new_y = new_y.set_index(['year','countrycode'])\n",
    "            new_df = pd.DataFrame()\n",
    "            new_df = pd.concat([new_X, new_y], axis=1)\n",
    "            new_df = new_df.dropna()\n",
    "            new_X = new_df[new_x_cols]\n",
    "            new_y = new_df[new_y_col]\n",
    "\n",
    "            new_sss = StratifiedShuffleSplit(new_y, n_iter=self.n_iter, test_size=self.test_size)\n",
    "\n",
    "            for train_index, test_index in new_sss:\n",
    "                #print(\"TRAIN:\", train_index, \"TEST:\", test_index)\n",
    "                X_train, X_test = new_X.ix[train_index], new_X.ix[test_index]\n",
    "                y_train, y_test = new_y.ix[train_index], new_y.ix[test_index]\n",
    "\n",
    "                #remove data of test year from train set\n",
    "                X_train = X_train.loc[X_train.index.get_level_values('year') < year]\n",
    "                y_train = y_train.loc[y_train.index.get_level_values('year') < year]\n",
    "\n",
    "                #Year prior is used later as the comparison between the desired year and its year prior\n",
    "                _,year_prior = X_te = new_X.loc[year-1, :], new_y.loc[year-1, :]\n",
    "                X_test, y_test = X_te = new_X.loc[year, :], new_y.loc[year, :]\n",
    "\n",
    "                if oversample:\n",
    "                    X_train, y_train = oversample_data(X_train, y_train, self.ratio)\n",
    "                \n",
    "                if i == random_num:\n",
    "                    self.temp_X_train, self.temp_y_train, self.temp_X_test, self.temp_y_test, = X_train, y_train, X_test, y_test\n",
    "\n",
    "                accuracy_score_value, precision_score_value, \\\n",
    "                recall_score_value, f1_score_value, roc_auc_value, \\\n",
    "                feature_importances = getScoreValues(X_train,\n",
    "                                                     X_test,\n",
    "                                                     y_train,\n",
    "                                                     y_test,\n",
    "                                                     model=model,\n",
    "                                                     verbose=False,\n",
    "                                                     get_features=get_features)\n",
    "\n",
    "                self.acc_array.append(accuracy_score_value)\n",
    "                self.prec_array.append(precision_score_value)\n",
    "                self.recall_array.append(recall_score_value)\n",
    "                self.f1_array.append(f1_score_value)\n",
    "                self.roc_auc_array.append(roc_auc_value)\n",
    "                self.feature_imp_array.append(feature_importances)\n",
    "                \n",
    "                i += 1\n",
    "        \n",
    "        else:\n",
    "            for train_index, test_index in self.sss:\n",
    "                #print(\"TRAIN:\", train_index, \"TEST:\", test_index)\n",
    "                X_train, X_test = self.X.ix[train_index], self.X.ix[test_index]\n",
    "                y_train, y_test = self.y.ix[train_index], self.y.ix[test_index]\n",
    "\n",
    "                #remove data of test year and all years after from train set\n",
    "                if year != None:\n",
    "                    X_train = X_train.loc[X_train.index.get_level_values('year') < year+year_delta]\n",
    "                    y_train = y_train.loc[y_train.index.get_level_values('year') < year+year_delta]\n",
    "                    X_test, y_test = self.test_conversion_for_year(year=year, y_delta=year_delta)\n",
    "\n",
    "                if oversample:\n",
    "                    X_train, y_train = oversample_data(X_train, y_train, self.ratio)\n",
    "                \n",
    "                if i == random_num:\n",
    "                    self.temp_X_train, self.temp_y_train, self.temp_X_test, self.temp_y_test, = X_train, y_train, X_test, y_test\n",
    "\n",
    "                accuracy_score_value, precision_score_value, \\\n",
    "                recall_score_value, f1_score_value, roc_auc_value, \\\n",
    "                feature_importances = getScoreValues(X_train,\n",
    "                                                     X_test,\n",
    "                                                     y_train,\n",
    "                                                     y_test,\n",
    "                                                     model=model,\n",
    "                                                     verbose=False,\n",
    "                                                     get_features=get_features)\n",
    "\n",
    "                self.acc_array.append(accuracy_score_value)\n",
    "                self.prec_array.append(precision_score_value)\n",
    "                self.recall_array.append(recall_score_value)\n",
    "                self.f1_array.append(f1_score_value)\n",
    "                self.roc_auc_array.append(roc_auc_value)\n",
    "                self.feature_imp_array.append(feature_importances)\n",
    "                \n",
    "                i += 1\n",
    "\n",
    "    def multi_plot_multi_model_metrics(self):\n",
    "        index = list(range(len(self.model_list)))\n",
    "        bw = 0.35\n",
    "        score_list = ['Accuracy', 'Precision', 'Recall', 'F1', 'ROCAUC']\n",
    "\n",
    "        plt.figure(figsize=(18,5))\n",
    "\n",
    "        for j, scoring in enumerate(score_list):\n",
    "            ax = plt.subplot(151 + j)\n",
    "            ax.spines['right'].set_visible(False)\n",
    "            ax.spines['top'].set_visible(False)\n",
    "            sns.set_style(\"whitegrid\")\n",
    "\n",
    "            plt.bar(index, self.score_dict[scoring], bw,\n",
    "                    align = 'center',\n",
    "                    #color = colors[(i*2)],\n",
    "                    alpha = 0.6,\n",
    "                    label = self.index_func)\n",
    "\n",
    "            plt.title(scoring, fontsize=15, fontweight='bold')\n",
    "            plt.xticks(index, self.index_func, rotation='vertical')\n",
    "            plt.ylim(0.0, 1.1)\n",
    "            if j == 0:\n",
    "                plt.ylabel('Score',fontsize=20, fontweight='bold')\n",
    "            #if j == 4:\n",
    "            #    plt.legend()\n",
    "            plt.grid(False)\n",
    "\n",
    "    def single_plot_multi_model_metrics(self):\n",
    "        default_index = list(range(len(self.model_list)))\n",
    "        bw = 0.15\n",
    "        score_list = ['Accuracy', 'Precision', 'Recall', 'F1', 'ROCAUC']\n",
    "\n",
    "        plt.figure(figsize=(18,5))\n",
    "\n",
    "        for j,scoring in enumerate(score_list):\n",
    "            ax = plt.subplot(111)\n",
    "            ax.spines['right'].set_visible(False)\n",
    "            ax.spines['top'].set_visible(False)\n",
    "            sns.set_style(\"whitegrid\")\n",
    "\n",
    "            index = [i+bw*j for i in default_index]\n",
    "            plt.bar(index, self.score_dict[scoring], bw,\n",
    "                    align = 'center',\n",
    "                    color = self.colors[(3+j)],\n",
    "                    alpha = 0.6,\n",
    "                    label = scoring)\n",
    "\n",
    "            plt.title('Scores for Different Models', fontsize=15, fontweight='bold')\n",
    "            tick_location = [i for i in default_index]\n",
    "            plt.xticks(tick_location, self.index_func, rotation=60)\n",
    "            plt.ylim(0.0, 1.1)\n",
    "            if j == 0:\n",
    "                plt.ylabel('Score',fontsize=20, fontweight='bold')\n",
    "            if j == 4:\n",
    "                plt.legend(loc='best')\n",
    "            plt.grid(False)\n",
    "\n",
    "    def get_multi_models(self,\n",
    "                         oversample=True,\n",
    "                         year=None,\n",
    "                         year_delta=0,\n",
    "                         make_single_plot=False,\n",
    "                         make_multi_plots=False\n",
    "                        ):\n",
    "        self.score_dict = {}\n",
    "        models_acc = []\n",
    "        models_prec = []\n",
    "        models_rec = []\n",
    "        models_f1 = []\n",
    "        models_roc_auc = []\n",
    "\n",
    "        col_names = ['Accuracy', 'Precision', 'Recall', 'F1', 'ROCAUC']\n",
    "\n",
    "        for a_model in self.model_list:\n",
    "            self.initialize_scores()\n",
    "\n",
    "            self.set_score_arrays(oversample=oversample,\n",
    "                                  year=year,\n",
    "                                  year_delta=year_delta,\n",
    "                                  model=a_model,\n",
    "                                  get_features=False)\n",
    "\n",
    "            mean_acc = np.mean(self.acc_array)\n",
    "            mean_prec = np.mean(self.prec_array)\n",
    "            mean_recall = np.mean(self.recall_array)\n",
    "            mean_f1 = np.mean(self.f1_array)\n",
    "            mean_roc_auc = np.mean(self.roc_auc_array)\n",
    "\n",
    "            models_acc.append(mean_acc)\n",
    "            models_prec.append(mean_prec)\n",
    "            models_rec.append(mean_recall)\n",
    "            models_f1.append(mean_f1)\n",
    "            models_roc_auc.append(mean_roc_auc)\n",
    "\n",
    "        self.score_dict['Accuracy'] = models_acc\n",
    "        self.score_dict['Precision'] = models_prec\n",
    "        self.score_dict['Recall'] = models_rec\n",
    "        self.score_dict['F1'] = models_f1\n",
    "        self.score_dict['ROCAUC'] = models_roc_auc\n",
    "\n",
    "        if make_multi_plots:\n",
    "            self.plot_multi_model_metrics()\n",
    "        elif make_single_plot:\n",
    "            self.single_plot_multi_model_metrics()\n",
    "\n",
    "        df = pd.DataFrame(self.score_dict, columns=col_names, index=self.index_func)\n",
    "        return df\n",
    "\n",
    "    def get_single_model(self,\n",
    "                         model=KNeighborsClassifier(n_neighbors=2),\n",
    "                         oversample=True,\n",
    "                         year=None,\n",
    "                         year_delta=0,\n",
    "                         get_features=True,\n",
    "                         get_cm=False,\n",
    "                         verbose=True,\n",
    "                         output_prediction=False,\n",
    "                         output_filename='',\n",
    "                         return_features=False\n",
    "                        ):\n",
    "\n",
    "        self.initialize_scores()\n",
    "\n",
    "        self.set_score_arrays(oversample=oversample,\n",
    "                              year=year,\n",
    "                              year_delta=year_delta,\n",
    "                              model=model,\n",
    "                              get_features=get_features)\n",
    "        \n",
    "        if get_cm:\n",
    "            # For getting a confusion matrix of the last model in the cross validated set\n",
    "            y_pred = self.get_cm_pred(model, self.temp_X_train, self.temp_y_train, self.temp_X_test)\n",
    "            \n",
    "            if output_prediction:\n",
    "                pred_df = pd.DataFrame(y_pred, index=self.temp_X_test.index)\n",
    "                pred_df.to_csv(output_filename)\n",
    "                \n",
    "            cm = confusion_matrix(self.temp_y_test, y_pred)\n",
    "            print(cm)\n",
    "            plt.figure()\n",
    "            plot_confusion_matrix(cm)\n",
    "\n",
    "        mean_acc = np.mean(self.acc_array)\n",
    "        mean_prec = np.mean(self.prec_array)\n",
    "        mean_recall = np.mean(self.recall_array)\n",
    "        mean_f1 = np.mean(self.f1_array)\n",
    "        mean_roc_auc = np.mean(self.roc_auc_array)\n",
    "        try:\n",
    "            mean_feature_imp = np.mean(self.feature_imp_array, axis=0)\n",
    "        except TypeError:\n",
    "            mean_feature_imp = None\n",
    "\n",
    "        if verbose:\n",
    "            print('Avg Feature Importance: {}'.format(mean_feature_imp))\n",
    "            print('Accuracy: {}\\nPrecision: {}\\nRecall: {}\\nf1: {}\\nROC AUC: {}'.format(mean_acc, \\\n",
    "                                                                                        mean_prec, \\\n",
    "                                                                                        mean_recall,\\\n",
    "                                                                                        mean_f1, \\\n",
    "                                                                                        mean_roc_auc))\n",
    "\n",
    "        if return_features:\n",
    "            return zip(self.x_cols, mean_feature_imp)\n",
    "            \n",
    "        else:\n",
    "            return mean_acc, mean_prec, mean_recall, mean_f1, mean_roc_auc\n",
    "\n",
    "    def future_crisis_countries(self,\n",
    "                                model=KNeighborsClassifier(n_neighbors=2),\n",
    "                                oversample=True,\n",
    "                                year=None,\n",
    "                                year_delta=0):\n",
    "        assert year != None\n",
    "        \n",
    "        new_x_cols = self.X.columns\n",
    "        new_y_col = self.y.name\n",
    "        new_X = deepcopy(self.X)\n",
    "        new_y = deepcopy(self.y)\n",
    "        #print(len(new_y), len(new_X))\n",
    "        new_y = new_y.reset_index()\n",
    "        new_y.year = new_y.year.subtract(year_delta)\n",
    "        new_y = new_y.set_index(['year','countrycode'])\n",
    "        new_df = pd.DataFrame()\n",
    "        new_df = pd.concat([new_X, new_y], axis=1)\n",
    "        new_df = new_df.dropna()\n",
    "        new_X = new_df[new_x_cols]\n",
    "        new_y = new_df[new_y_col]\n",
    "        #print(len(new_y), len(new_X))\n",
    "        \n",
    "        new_sss = StratifiedShuffleSplit(new_y, n_iter=self.n_iter, test_size=self.test_size)\n",
    "\n",
    "        for train_index, test_index in new_sss:\n",
    "            #print(\"TRAIN:\", train_index, \"TEST:\", test_index)\n",
    "            X_train, X_test = new_X.ix[train_index], new_X.ix[test_index]\n",
    "            y_train, y_test = new_y.ix[train_index], new_y.ix[test_index]\n",
    "\n",
    "            #remove data of test year from train set\n",
    "            X_train = X_train.loc[X_train.index.get_level_values('year') < year]\n",
    "            y_train = y_train.loc[y_train.index.get_level_values('year') < year]\n",
    "\n",
    "            #Year prior is used later as the comparison between the desired year and its year prior\n",
    "            _,year_prior = X_te = new_X.loc[year-1, :], new_y.loc[year-1, :]\n",
    "            X_test, y_test = X_te = new_X.loc[year, :], new_y.loc[year, :]\n",
    "\n",
    "            if oversample:\n",
    "                X_train, y_train = oversample_data(X_train, y_train, self.ratio)\n",
    "\n",
    "            prediction = getScoreValues(X_train,\n",
    "                                       X_test,\n",
    "                                       y_train,\n",
    "                                       y_test,\n",
    "                                       model=model,\n",
    "                                       verbose=False,\n",
    "                                       get_features=False,\n",
    "                                       get_prediction=True\n",
    "                                      )\n",
    "            prediction_actual = deepcopy(y_test)\n",
    "            prediction_actual.name = 'prediction_actual'\n",
    "            year_prior.name='year_prior'\n",
    "            prediction.name='prediction'\n",
    "            compare_df = pd.concat([year_prior, prediction, prediction_actual], axis=1)\n",
    "            compare_df = compare_df.dropna()\n",
    "            compare_df['net'] = compare_df.year_prior.subtract(compare_df.prediction)\n",
    "            future_crisis = compare_df[compare_df.net < 0]\n",
    "            future_crisis = future_crisis[future_crisis.prediction_actual == 1]\n",
    "            print(future_crisis)\n",
    "\n",
    "    def SVC_grid_search(self, oversample=True, year=None, year_delta=0):\n",
    "        # This will perform cross val on one train/test from the SSS\n",
    "        i = 0\n",
    "        for tr_i, te_i in self.sss:\n",
    "            if i == 0:\n",
    "                train_index = tr_i\n",
    "                test_index = te_i\n",
    "            i += 1\n",
    "\n",
    "        X_train, X_test = X.ix[train_index], X.ix[test_index]\n",
    "        y_train, y_test = y.ix[train_index], y.ix[test_index]\n",
    "\n",
    "        #remove data of test year and all years after from train set\n",
    "        if year != None:\n",
    "            X_train = X_train.loc[X_train.index.get_level_values('year') < year+year_delta]\n",
    "            y_train = y_train.loc[y_train.index.get_level_values('year') < year+year_delta]\n",
    "            X_test, y_test = self.test_conversion_for_year(year=year, y_delta=year_delta)\n",
    "\n",
    "        if oversample:\n",
    "            X_train, y_train = oversample_data(X_train, y_train, self.ratio)\n",
    "\n",
    "        # Set the parameters by cross-validation\n",
    "        tuned_parameters = [{'kernel': ['rbf'],\n",
    "                             'gamma': [1,1e-1,1e-2,1e-3, 1e-4],\n",
    "                             'C': [1, 10, 100, 1000]\n",
    "                            },\n",
    "                            {'kernel': ['linear'],\n",
    "                             'C': [1, 10, 100, 1000]\n",
    "                            },\n",
    "                            {'kernel':['poly'],\n",
    "                             'degree':[1,2,3]\n",
    "                            }]\n",
    "\n",
    "        scores = ['accuracy', 'precision', 'recall', 'f1']\n",
    "\n",
    "        for score in scores:\n",
    "            print(\"# Tuning hyper-parameters for %s\" % score)\n",
    "            print()\n",
    "\n",
    "            clf = GridSearchCV(SVC(C=1), tuned_parameters, cv=5, scoring=score, n_jobs=-1)\n",
    "            clf.fit(X_train, y_train)\n",
    "\n",
    "            print(\"Best parameters set found on development set:\")\n",
    "            print()\n",
    "            print(clf.best_estimator_)\n",
    "            print()\n",
    "            print(\"Grid scores on development set:\")\n",
    "            print()\n",
    "            for params, mean_score, scores in clf.grid_scores_:\n",
    "                print(\"%0.3f (+/-%0.03f) for %r\"\n",
    "                      % (mean_score, scores.std() / 2, params))\n",
    "            print()\n",
    "\n",
    "            print(\"Detailed classification report:\")\n",
    "            print()\n",
    "            print(\"The model is trained on the full development set.\")\n",
    "            print(\"The scores are computed on the full evaluation set.\")\n",
    "            print()\n",
    "            y_true, y_pred = y_test, clf.predict(X_test)\n",
    "            print(classification_report(y_true, y_pred))\n",
    "            print()"
   ]
  },
  {
   "cell_type": "code",
   "execution_count": 126,
   "metadata": {
    "collapsed": false
   },
   "outputs": [],
   "source": [
    "X = full_data[x_cols]\n",
    "y = full_data[y_col]"
   ]
  },
  {
   "cell_type": "markdown",
   "metadata": {},
   "source": [
    "## Scores for various models"
   ]
  },
  {
   "cell_type": "markdown",
   "metadata": {},
   "source": [
    "#### With oversampling"
   ]
  },
  {
   "cell_type": "code",
   "execution_count": 127,
   "metadata": {
    "collapsed": true
   },
   "outputs": [],
   "source": [
    "pol_modeling = getCrossValScoresBySSS(X,y)"
   ]
  },
  {
   "cell_type": "code",
   "execution_count": 70,
   "metadata": {
    "collapsed": false,
    "scrolled": false
   },
   "outputs": [
    {
     "data": {
      "text/html": [
       "<div>\n",
       "<table border=\"1\" class=\"dataframe\">\n",
       "  <thead>\n",
       "    <tr style=\"text-align: right;\">\n",
       "      <th></th>\n",
       "      <th>Accuracy</th>\n",
       "      <th>Precision</th>\n",
       "      <th>Recall</th>\n",
       "      <th>F1</th>\n",
       "      <th>ROCAUC</th>\n",
       "    </tr>\n",
       "  </thead>\n",
       "  <tbody>\n",
       "    <tr>\n",
       "      <th>KNeighborsClassifier(n_neighbors=1)</th>\n",
       "      <td>0.968254</td>\n",
       "      <td>0.832047</td>\n",
       "      <td>0.854194</td>\n",
       "      <td>0.840673</td>\n",
       "      <td>0.917449</td>\n",
       "    </tr>\n",
       "    <tr>\n",
       "      <th>SVC(gamma=1, C=10, kernel='rbf')</th>\n",
       "      <td>0.951302</td>\n",
       "      <td>0.937821</td>\n",
       "      <td>0.543226</td>\n",
       "      <td>0.683410</td>\n",
       "      <td>0.769535</td>\n",
       "    </tr>\n",
       "    <tr>\n",
       "      <th>SVC()</th>\n",
       "      <td>0.961143</td>\n",
       "      <td>0.807087</td>\n",
       "      <td>0.801290</td>\n",
       "      <td>0.801901</td>\n",
       "      <td>0.889941</td>\n",
       "    </tr>\n",
       "    <tr>\n",
       "      <th>LogisticRegression()</th>\n",
       "      <td>0.686603</td>\n",
       "      <td>0.197531</td>\n",
       "      <td>0.710323</td>\n",
       "      <td>0.308781</td>\n",
       "      <td>0.697168</td>\n",
       "    </tr>\n",
       "    <tr>\n",
       "      <th>BernoulliNB()</th>\n",
       "      <td>0.220000</td>\n",
       "      <td>0.098402</td>\n",
       "      <td>0.872258</td>\n",
       "      <td>0.169558</td>\n",
       "      <td>0.510530</td>\n",
       "    </tr>\n",
       "    <tr>\n",
       "      <th>GaussianNB()</th>\n",
       "      <td>0.593143</td>\n",
       "      <td>0.150874</td>\n",
       "      <td>0.676129</td>\n",
       "      <td>0.246549</td>\n",
       "      <td>0.630107</td>\n",
       "    </tr>\n",
       "    <tr>\n",
       "      <th>RandomForestClassifier(n_estimators=30)</th>\n",
       "      <td>0.966540</td>\n",
       "      <td>0.875773</td>\n",
       "      <td>0.772258</td>\n",
       "      <td>0.818206</td>\n",
       "      <td>0.880002</td>\n",
       "    </tr>\n",
       "    <tr>\n",
       "      <th>DecisionTreeClassifier()</th>\n",
       "      <td>0.946032</td>\n",
       "      <td>0.749489</td>\n",
       "      <td>0.687097</td>\n",
       "      <td>0.713114</td>\n",
       "      <td>0.830696</td>\n",
       "    </tr>\n",
       "  </tbody>\n",
       "</table>\n",
       "</div>"
      ],
      "text/plain": [
       "                                         Accuracy  Precision    Recall  \\\n",
       "KNeighborsClassifier(n_neighbors=1)      0.968254   0.832047  0.854194   \n",
       "SVC(gamma=1, C=10, kernel='rbf')         0.951302   0.937821  0.543226   \n",
       "SVC()                                    0.961143   0.807087  0.801290   \n",
       "LogisticRegression()                     0.686603   0.197531  0.710323   \n",
       "BernoulliNB()                            0.220000   0.098402  0.872258   \n",
       "GaussianNB()                             0.593143   0.150874  0.676129   \n",
       "RandomForestClassifier(n_estimators=30)  0.966540   0.875773  0.772258   \n",
       "DecisionTreeClassifier()                 0.946032   0.749489  0.687097   \n",
       "\n",
       "                                               F1    ROCAUC  \n",
       "KNeighborsClassifier(n_neighbors=1)      0.840673  0.917449  \n",
       "SVC(gamma=1, C=10, kernel='rbf')         0.683410  0.769535  \n",
       "SVC()                                    0.801901  0.889941  \n",
       "LogisticRegression()                     0.308781  0.697168  \n",
       "BernoulliNB()                            0.169558  0.510530  \n",
       "GaussianNB()                             0.246549  0.630107  \n",
       "RandomForestClassifier(n_estimators=30)  0.818206  0.880002  \n",
       "DecisionTreeClassifier()                 0.713114  0.830696  "
      ]
     },
     "execution_count": 70,
     "metadata": {},
     "output_type": "execute_result"
    },
    {
     "data": {
      "image/png": "[encoded data removed]",
      "text/plain": [
       "<matplotlib.figure.Figure at 0x10d12dc18>"
      ]
     },
     "metadata": {},
     "output_type": "display_data"
    }
   ],
   "source": [
    "pol_modeling.get_multi_models(make_single_plot=True)"
   ]
  },
  {
   "cell_type": "code",
   "execution_count": 144,
   "metadata": {
    "collapsed": false
   },
   "outputs": [
    {
     "name": "stdout",
     "output_type": "stream",
     "text": [
      "[[154   6]\n",
      " [  2  14]]\n",
      "Avg Feature Importance: None\n",
      "Accuracy: 0.9398863636363637\n",
      "Precision: 0.6233305757552897\n",
      "Recall: 0.87125\n",
      "f1: 0.7255848325578748\n",
      "ROC AUC: 0.909\n"
     ]
    },
    {
     "data": {
      "image/png": "[encoded data removed]",
      "text/plain": [
       "<matplotlib.figure.Figure at 0x10ea34c50>"
      ]
     },
     "metadata": {},
     "output_type": "display_data"
    }
   ],
   "source": [
    "pol_modeling.get_single_model(model=KNeighborsClassifier(n_neighbors=1), \n",
    "                              year=2013, \n",
    "                              get_cm=True, \n",
    "                              output_prediction=True,\n",
    "                              output_filename='prediction_2013.csv')"
   ]
  },
  {
   "cell_type": "markdown",
   "metadata": {},
   "source": [
    "#### Without oversampling"
   ]
  },
  {
   "cell_type": "code",
   "execution_count": 71,
   "metadata": {
    "collapsed": false,
    "scrolled": true
   },
   "outputs": [
    {
     "name": "stderr",
     "output_type": "stream",
     "text": [
      "/Users/kenn/anaconda/lib/python3.5/site-packages/sklearn/metrics/classification.py:1074: UndefinedMetricWarning: Precision is ill-defined and being set to 0.0 due to no predicted samples.\n",
      "  'precision', 'predicted', average, warn_for)\n",
      "/Users/kenn/anaconda/lib/python3.5/site-packages/sklearn/metrics/classification.py:1074: UndefinedMetricWarning: F-score is ill-defined and being set to 0.0 due to no predicted samples.\n",
      "  'precision', 'predicted', average, warn_for)\n"
     ]
    },
    {
     "data": {
      "text/html": [
       "<div>\n",
       "<table border=\"1\" class=\"dataframe\">\n",
       "  <thead>\n",
       "    <tr style=\"text-align: right;\">\n",
       "      <th></th>\n",
       "      <th>Accuracy</th>\n",
       "      <th>Precision</th>\n",
       "      <th>Recall</th>\n",
       "      <th>F1</th>\n",
       "      <th>ROCAUC</th>\n",
       "    </tr>\n",
       "  </thead>\n",
       "  <tbody>\n",
       "    <tr>\n",
       "      <th>KNeighborsClassifier(n_neighbors=1)</th>\n",
       "      <td>0.961651</td>\n",
       "      <td>0.799209</td>\n",
       "      <td>0.827742</td>\n",
       "      <td>0.810160</td>\n",
       "      <td>0.902005</td>\n",
       "    </tr>\n",
       "    <tr>\n",
       "      <th>SVC(gamma=1, C=10, kernel='rbf')</th>\n",
       "      <td>0.950032</td>\n",
       "      <td>0.942795</td>\n",
       "      <td>0.524516</td>\n",
       "      <td>0.670609</td>\n",
       "      <td>0.760498</td>\n",
       "    </tr>\n",
       "    <tr>\n",
       "      <th>SVC()</th>\n",
       "      <td>0.957206</td>\n",
       "      <td>0.929538</td>\n",
       "      <td>0.615484</td>\n",
       "      <td>0.735168</td>\n",
       "      <td>0.804995</td>\n",
       "    </tr>\n",
       "    <tr>\n",
       "      <th>LogisticRegression()</th>\n",
       "      <td>0.912381</td>\n",
       "      <td>0.896476</td>\n",
       "      <td>0.120645</td>\n",
       "      <td>0.208001</td>\n",
       "      <td>0.559724</td>\n",
       "    </tr>\n",
       "    <tr>\n",
       "      <th>BernoulliNB()</th>\n",
       "      <td>0.901587</td>\n",
       "      <td>0.000000</td>\n",
       "      <td>0.000000</td>\n",
       "      <td>0.000000</td>\n",
       "      <td>0.500000</td>\n",
       "    </tr>\n",
       "    <tr>\n",
       "      <th>GaussianNB()</th>\n",
       "      <td>0.790159</td>\n",
       "      <td>0.261628</td>\n",
       "      <td>0.603226</td>\n",
       "      <td>0.363675</td>\n",
       "      <td>0.706895</td>\n",
       "    </tr>\n",
       "    <tr>\n",
       "      <th>RandomForestClassifier(n_estimators=30)</th>\n",
       "      <td>0.963111</td>\n",
       "      <td>0.914642</td>\n",
       "      <td>0.693548</td>\n",
       "      <td>0.783922</td>\n",
       "      <td>0.843042</td>\n",
       "    </tr>\n",
       "    <tr>\n",
       "      <th>DecisionTreeClassifier()</th>\n",
       "      <td>0.950286</td>\n",
       "      <td>0.747814</td>\n",
       "      <td>0.752903</td>\n",
       "      <td>0.747435</td>\n",
       "      <td>0.862367</td>\n",
       "    </tr>\n",
       "  </tbody>\n",
       "</table>\n",
       "</div>"
      ],
      "text/plain": [
       "                                         Accuracy  Precision    Recall  \\\n",
       "KNeighborsClassifier(n_neighbors=1)      0.961651   0.799209  0.827742   \n",
       "SVC(gamma=1, C=10, kernel='rbf')         0.950032   0.942795  0.524516   \n",
       "SVC()                                    0.957206   0.929538  0.615484   \n",
       "LogisticRegression()                     0.912381   0.896476  0.120645   \n",
       "BernoulliNB()                            0.901587   0.000000  0.000000   \n",
       "GaussianNB()                             0.790159   0.261628  0.603226   \n",
       "RandomForestClassifier(n_estimators=30)  0.963111   0.914642  0.693548   \n",
       "DecisionTreeClassifier()                 0.950286   0.747814  0.752903   \n",
       "\n",
       "                                               F1    ROCAUC  \n",
       "KNeighborsClassifier(n_neighbors=1)      0.810160  0.902005  \n",
       "SVC(gamma=1, C=10, kernel='rbf')         0.670609  0.760498  \n",
       "SVC()                                    0.735168  0.804995  \n",
       "LogisticRegression()                     0.208001  0.559724  \n",
       "BernoulliNB()                            0.000000  0.500000  \n",
       "GaussianNB()                             0.363675  0.706895  \n",
       "RandomForestClassifier(n_estimators=30)  0.783922  0.843042  \n",
       "DecisionTreeClassifier()                 0.747435  0.862367  "
      ]
     },
     "execution_count": 71,
     "metadata": {},
     "output_type": "execute_result"
    }
   ],
   "source": [
    "pol_modeling.get_multi_models(oversample=False)"
   ]
  },
  {
   "cell_type": "markdown",
   "metadata": {},
   "source": [
    "#### KNN various n\n"
   ]
  },
  {
   "cell_type": "code",
   "execution_count": 117,
   "metadata": {
    "collapsed": false,
    "scrolled": false
   },
   "outputs": [
    {
     "name": "stdout",
     "output_type": "stream",
     "text": [
      "n =  1\n",
      "[[149  11]\n",
      " [  2  14]]\n",
      "Avg Feature Importance: None\n",
      "Accuracy: 0.9387499999999999\n",
      "Precision: 0.6176424760848102\n",
      "Recall: 0.8775\n",
      "f1: 0.7234714714009874\n",
      "ROC AUC: 0.9111874999999999\n",
      "\n",
      "\n",
      "n =  2\n",
      "[[152   8]\n",
      " [  2  14]]\n",
      "Avg Feature Importance: None\n",
      "Accuracy: 0.9367045454545455\n",
      "Precision: 0.608126154953615\n",
      "Recall: 0.8675\n",
      "f1: 0.7136964503285951\n",
      "ROC AUC: 0.9055625\n",
      "\n",
      "\n",
      "n =  3\n",
      "[[147  13]\n",
      " [  1  15]]\n",
      "Avg Feature Importance: None\n",
      "Accuracy: 0.9088636363636364\n",
      "Precision: 0.5027912916150921\n",
      "Recall: 0.9175\n",
      "f1: 0.6482160040189819\n",
      "ROC AUC: 0.91275\n",
      "\n",
      "\n"
     ]
    },
    {
     "data": {
      "image/png": "[encoded data removed]",
      "text/plain": [
       "<matplotlib.figure.Figure at 0x10dcc5400>"
      ]
     },
     "metadata": {},
     "output_type": "display_data"
    },
    {
     "data": {
      "image/png": "[encoded data removed]",
      "text/plain": [
       "<matplotlib.figure.Figure at 0x10d828d30>"
      ]
     },
     "metadata": {},
     "output_type": "display_data"
    },
    {
     "data": {
      "image/png": "[encoded data removed]",
      "text/plain": [
       "<matplotlib.figure.Figure at 0x10d7f9ef0>"
      ]
     },
     "metadata": {},
     "output_type": "display_data"
    }
   ],
   "source": [
    "for n in range(1,4):\n",
    "    print('n = ', n)\n",
    "    pol_modeling.get_single_model(model=KNeighborsClassifier(n_neighbors=n), year=2013, get_cm=True)\n",
    "    print('\\n')"
   ]
  },
  {
   "cell_type": "markdown",
   "metadata": {},
   "source": [
    "#### Random Forest for important features"
   ]
  },
  {
   "cell_type": "code",
   "execution_count": 110,
   "metadata": {
    "collapsed": false,
    "scrolled": false
   },
   "outputs": [
    {
     "name": "stdout",
     "output_type": "stream",
     "text": [
      "[[282   2]\n",
      " [  4  27]]\n",
      "Avg Feature Importance: [ 0.13885483  0.07160163  0.13168972  0.17586417  0.11658507  0.1539734\n",
      "  0.21143118]\n",
      "Accuracy: 0.9663492063492062\n",
      "Precision: 0.8871463179262179\n",
      "Recall: 0.756774193548387\n",
      "f1: 0.8137881192939328\n",
      "ROC AUC: 0.8729997728305317\n"
     ]
    },
    {
     "data": {
      "image/png": "[encoded data removed]",
      "text/plain": [
       "<matplotlib.figure.Figure at 0x10e8d8dd8>"
      ]
     },
     "metadata": {},
     "output_type": "display_data"
    }
   ],
   "source": [
    "pol_modeling.get_single_model(model=RandomForestClassifier(n_estimators=100), get_cm = True)"
   ]
  },
  {
   "cell_type": "code",
   "execution_count": 74,
   "metadata": {
    "collapsed": false
   },
   "outputs": [
    {
     "name": "stdout",
     "output_type": "stream",
     "text": [
      "Avg Feature Importance: [ 0.13361204  0.0729623   0.13351389  0.17793296  0.11833687  0.15242612\n",
      "  0.21121581]\n",
      "Accuracy: 0.9677460317460316\n",
      "Precision: 0.879246889012347\n",
      "Recall: 0.7812903225806452\n",
      "f1: 0.8249810505830808\n",
      "ROC AUC: 0.8846944570649705\n"
     ]
    },
    {
     "data": {
      "image/png": "[encoded data removed]",
      "text/plain": [
       "<matplotlib.figure.Figure at 0x10db7cf28>"
      ]
     },
     "metadata": {},
     "output_type": "display_data"
    }
   ],
   "source": [
    "pol_modeling.get_single_model(model=RandomForestClassifier(n_estimators=30), get_cm = True)"
   ]
  },
  {
   "cell_type": "markdown",
   "metadata": {},
   "source": [
    "#### DecisionTreeClassifier for important features"
   ]
  },
  {
   "cell_type": "code",
   "execution_count": 75,
   "metadata": {
    "collapsed": false
   },
   "outputs": [
    {
     "name": "stdout",
     "output_type": "stream",
     "text": [
      "Avg Feature Importance: [ 0.17853601  0.01546594  0.15180934  0.22430025  0.11378977  0.08804226\n",
      "  0.22805642]\n",
      "Accuracy: 0.9500952380952381\n",
      "Precision: 0.7732391272921789\n",
      "Recall: 0.7051612903225805\n",
      "f1: 0.734356740748565\n",
      "ROC AUC: 0.8409961381190368\n"
     ]
    },
    {
     "data": {
      "image/png": "[encoded data removed]",
      "text/plain": [
       "<matplotlib.figure.Figure at 0x10db50c50>"
      ]
     },
     "metadata": {},
     "output_type": "display_data"
    }
   ],
   "source": [
    "pol_modeling.get_single_model(model=DecisionTreeClassifier(), get_cm = True)"
   ]
  },
  {
   "cell_type": "markdown",
   "metadata": {},
   "source": [
    "### Random forest, different number of trees"
   ]
  },
  {
   "cell_type": "code",
   "execution_count": 76,
   "metadata": {
    "collapsed": false
   },
   "outputs": [
    {
     "data": {
      "image/png": "[encoded data removed]",
      "text/plain": [
       "<matplotlib.figure.Figure at 0x10c557cc0>"
      ]
     },
     "metadata": {},
     "output_type": "display_data"
    }
   ],
   "source": [
    "forest_acc = []\n",
    "forest_prec = []\n",
    "forest_rec = []\n",
    "forest_f1 = []\n",
    "forest_range = list(range(1,30))\n",
    "for trees in forest_range:\n",
    "    acc, prec, rec, f1, _ = pol_modeling.get_single_model(model=RandomForestClassifier(n_estimators=trees), verbose=False)\n",
    "    forest_acc.append(acc)\n",
    "    forest_prec.append(prec)\n",
    "    forest_rec.append(rec)\n",
    "    forest_f1.append(f1)\n",
    "\n",
    "plt.figure(figsize=(11,7))\n",
    "plt.plot(forest_range, forest_acc, label='Accuracy')\n",
    "plt.plot(forest_range, forest_prec,label='Precision')\n",
    "plt.plot(forest_range, forest_rec,label='Recall')\n",
    "plt.plot(forest_range, forest_f1,label='F1')\n",
    "\n",
    "plt.legend(loc='best')\n",
    "plt.xlabel('Num Trees')\n",
    "plt.ylabel('Score')\n",
    "plt.title('Scores at various tree sizes')\n",
    "plt.show()\n",
    "\n",
    "    "
   ]
  },
  {
   "cell_type": "markdown",
   "metadata": {
    "collapsed": true
   },
   "source": [
    "## Testing for a single year"
   ]
  },
  {
   "cell_type": "markdown",
   "metadata": {},
   "source": [
    "### With Oversampling"
   ]
  },
  {
   "cell_type": "code",
   "execution_count": 111,
   "metadata": {
    "collapsed": false,
    "scrolled": false
   },
   "outputs": [
    {
     "data": {
      "text/html": [
       "<div>\n",
       "<table border=\"1\" class=\"dataframe\">\n",
       "  <thead>\n",
       "    <tr style=\"text-align: right;\">\n",
       "      <th></th>\n",
       "      <th>Accuracy</th>\n",
       "      <th>Precision</th>\n",
       "      <th>Recall</th>\n",
       "      <th>F1</th>\n",
       "      <th>ROCAUC</th>\n",
       "    </tr>\n",
       "  </thead>\n",
       "  <tbody>\n",
       "    <tr>\n",
       "      <th>KNeighborsClassifier(n_neighbors=1)</th>\n",
       "      <td>0.939318</td>\n",
       "      <td>0.620418</td>\n",
       "      <td>0.87750</td>\n",
       "      <td>0.725408</td>\n",
       "      <td>0.911500</td>\n",
       "    </tr>\n",
       "    <tr>\n",
       "      <th>SVC(gamma=1, C=10, kernel='rbf')</th>\n",
       "      <td>0.947045</td>\n",
       "      <td>0.818446</td>\n",
       "      <td>0.54125</td>\n",
       "      <td>0.648577</td>\n",
       "      <td>0.764438</td>\n",
       "    </tr>\n",
       "    <tr>\n",
       "      <th>SVC()</th>\n",
       "      <td>0.942159</td>\n",
       "      <td>0.680321</td>\n",
       "      <td>0.68750</td>\n",
       "      <td>0.682381</td>\n",
       "      <td>0.827562</td>\n",
       "    </tr>\n",
       "    <tr>\n",
       "      <th>LogisticRegression()</th>\n",
       "      <td>0.681250</td>\n",
       "      <td>0.176530</td>\n",
       "      <td>0.68250</td>\n",
       "      <td>0.280048</td>\n",
       "      <td>0.681813</td>\n",
       "    </tr>\n",
       "    <tr>\n",
       "      <th>BernoulliNB()</th>\n",
       "      <td>0.640455</td>\n",
       "      <td>0.134908</td>\n",
       "      <td>0.39875</td>\n",
       "      <td>0.167123</td>\n",
       "      <td>0.531687</td>\n",
       "    </tr>\n",
       "    <tr>\n",
       "      <th>GaussianNB()</th>\n",
       "      <td>0.621591</td>\n",
       "      <td>0.151699</td>\n",
       "      <td>0.68625</td>\n",
       "      <td>0.248375</td>\n",
       "      <td>0.650687</td>\n",
       "    </tr>\n",
       "    <tr>\n",
       "      <th>RandomForestClassifier(n_estimators=30)</th>\n",
       "      <td>0.937841</td>\n",
       "      <td>0.660737</td>\n",
       "      <td>0.65375</td>\n",
       "      <td>0.654936</td>\n",
       "      <td>0.810000</td>\n",
       "    </tr>\n",
       "    <tr>\n",
       "      <th>DecisionTreeClassifier()</th>\n",
       "      <td>0.924432</td>\n",
       "      <td>0.580059</td>\n",
       "      <td>0.62625</td>\n",
       "      <td>0.599689</td>\n",
       "      <td>0.790250</td>\n",
       "    </tr>\n",
       "  </tbody>\n",
       "</table>\n",
       "</div>"
      ],
      "text/plain": [
       "                                         Accuracy  Precision   Recall  \\\n",
       "KNeighborsClassifier(n_neighbors=1)      0.939318   0.620418  0.87750   \n",
       "SVC(gamma=1, C=10, kernel='rbf')         0.947045   0.818446  0.54125   \n",
       "SVC()                                    0.942159   0.680321  0.68750   \n",
       "LogisticRegression()                     0.681250   0.176530  0.68250   \n",
       "BernoulliNB()                            0.640455   0.134908  0.39875   \n",
       "GaussianNB()                             0.621591   0.151699  0.68625   \n",
       "RandomForestClassifier(n_estimators=30)  0.937841   0.660737  0.65375   \n",
       "DecisionTreeClassifier()                 0.924432   0.580059  0.62625   \n",
       "\n",
       "                                               F1    ROCAUC  \n",
       "KNeighborsClassifier(n_neighbors=1)      0.725408  0.911500  \n",
       "SVC(gamma=1, C=10, kernel='rbf')         0.648577  0.764438  \n",
       "SVC()                                    0.682381  0.827562  \n",
       "LogisticRegression()                     0.280048  0.681813  \n",
       "BernoulliNB()                            0.167123  0.531687  \n",
       "GaussianNB()                             0.248375  0.650687  \n",
       "RandomForestClassifier(n_estimators=30)  0.654936  0.810000  \n",
       "DecisionTreeClassifier()                 0.599689  0.790250  "
      ]
     },
     "execution_count": 111,
     "metadata": {},
     "output_type": "execute_result"
    },
    {
     "data": {
      "image/png": "[encoded data removed]",
      "text/plain": [
       "<matplotlib.figure.Figure at 0x10e9e1eb8>"
      ]
     },
     "metadata": {},
     "output_type": "display_data"
    }
   ],
   "source": [
    "pol_modeling.get_multi_models(year=2013, make_single_plot=True)"
   ]
  },
  {
   "cell_type": "code",
   "execution_count": 78,
   "metadata": {
    "collapsed": false,
    "scrolled": false
   },
   "outputs": [
    {
     "data": {
      "text/html": [
       "<div>\n",
       "<table border=\"1\" class=\"dataframe\">\n",
       "  <thead>\n",
       "    <tr style=\"text-align: right;\">\n",
       "      <th></th>\n",
       "      <th>Accuracy</th>\n",
       "      <th>Precision</th>\n",
       "      <th>Recall</th>\n",
       "      <th>F1</th>\n",
       "      <th>ROCAUC</th>\n",
       "    </tr>\n",
       "  </thead>\n",
       "  <tbody>\n",
       "    <tr>\n",
       "      <th>KNeighborsClassifier(n_neighbors=1)</th>\n",
       "      <td>0.933295</td>\n",
       "      <td>0.735664</td>\n",
       "      <td>0.690476</td>\n",
       "      <td>0.711176</td>\n",
       "      <td>0.828335</td>\n",
       "    </tr>\n",
       "    <tr>\n",
       "      <th>SVC(gamma=1, C=10, kernel='rbf')</th>\n",
       "      <td>0.929318</td>\n",
       "      <td>1.000000</td>\n",
       "      <td>0.407619</td>\n",
       "      <td>0.575894</td>\n",
       "      <td>0.703810</td>\n",
       "    </tr>\n",
       "    <tr>\n",
       "      <th>SVC()</th>\n",
       "      <td>0.934545</td>\n",
       "      <td>0.821968</td>\n",
       "      <td>0.578095</td>\n",
       "      <td>0.677470</td>\n",
       "      <td>0.780467</td>\n",
       "    </tr>\n",
       "    <tr>\n",
       "      <th>LogisticRegression()</th>\n",
       "      <td>0.667273</td>\n",
       "      <td>0.215651</td>\n",
       "      <td>0.677143</td>\n",
       "      <td>0.326586</td>\n",
       "      <td>0.671539</td>\n",
       "    </tr>\n",
       "    <tr>\n",
       "      <th>BernoulliNB()</th>\n",
       "      <td>0.528523</td>\n",
       "      <td>0.166983</td>\n",
       "      <td>0.530476</td>\n",
       "      <td>0.204099</td>\n",
       "      <td>0.529367</td>\n",
       "    </tr>\n",
       "    <tr>\n",
       "      <th>GaussianNB()</th>\n",
       "      <td>0.605000</td>\n",
       "      <td>0.183483</td>\n",
       "      <td>0.667619</td>\n",
       "      <td>0.287749</td>\n",
       "      <td>0.632068</td>\n",
       "    </tr>\n",
       "    <tr>\n",
       "      <th>RandomForestClassifier(n_estimators=30)</th>\n",
       "      <td>0.940909</td>\n",
       "      <td>0.843927</td>\n",
       "      <td>0.623810</td>\n",
       "      <td>0.715652</td>\n",
       "      <td>0.803840</td>\n",
       "    </tr>\n",
       "    <tr>\n",
       "      <th>DecisionTreeClassifier()</th>\n",
       "      <td>0.917273</td>\n",
       "      <td>0.685261</td>\n",
       "      <td>0.580000</td>\n",
       "      <td>0.625065</td>\n",
       "      <td>0.771484</td>\n",
       "    </tr>\n",
       "  </tbody>\n",
       "</table>\n",
       "</div>"
      ],
      "text/plain": [
       "                                         Accuracy  Precision    Recall  \\\n",
       "KNeighborsClassifier(n_neighbors=1)      0.933295   0.735664  0.690476   \n",
       "SVC(gamma=1, C=10, kernel='rbf')         0.929318   1.000000  0.407619   \n",
       "SVC()                                    0.934545   0.821968  0.578095   \n",
       "LogisticRegression()                     0.667273   0.215651  0.677143   \n",
       "BernoulliNB()                            0.528523   0.166983  0.530476   \n",
       "GaussianNB()                             0.605000   0.183483  0.667619   \n",
       "RandomForestClassifier(n_estimators=30)  0.940909   0.843927  0.623810   \n",
       "DecisionTreeClassifier()                 0.917273   0.685261  0.580000   \n",
       "\n",
       "                                               F1    ROCAUC  \n",
       "KNeighborsClassifier(n_neighbors=1)      0.711176  0.828335  \n",
       "SVC(gamma=1, C=10, kernel='rbf')         0.575894  0.703810  \n",
       "SVC()                                    0.677470  0.780467  \n",
       "LogisticRegression()                     0.326586  0.671539  \n",
       "BernoulliNB()                            0.204099  0.529367  \n",
       "GaussianNB()                             0.287749  0.632068  \n",
       "RandomForestClassifier(n_estimators=30)  0.715652  0.803840  \n",
       "DecisionTreeClassifier()                 0.625065  0.771484  "
      ]
     },
     "execution_count": 78,
     "metadata": {},
     "output_type": "execute_result"
    }
   ],
   "source": [
    "pol_modeling.get_multi_models(year=2012)"
   ]
  },
  {
   "cell_type": "code",
   "execution_count": 79,
   "metadata": {
    "collapsed": false
   },
   "outputs": [
    {
     "name": "stdout",
     "output_type": "stream",
     "text": [
      "Avg Feature Importance: None\n",
      "Accuracy: 0.9329545454545455\n",
      "Precision: 0.7329946568739137\n",
      "Recall: 0.6933333333333331\n",
      "f1: 0.7111346774218376\n",
      "ROC AUC: 0.8293763440860217\n"
     ]
    },
    {
     "data": {
      "image/png": "[encoded data removed]",
      "text/plain": [
       "<matplotlib.figure.Figure at 0x10de9b860>"
      ]
     },
     "metadata": {},
     "output_type": "display_data"
    }
   ],
   "source": [
    "pol_modeling.get_single_model(year=2012, get_cm=True)"
   ]
  },
  {
   "cell_type": "code",
   "execution_count": 80,
   "metadata": {
    "collapsed": false,
    "scrolled": false
   },
   "outputs": [
    {
     "data": {
      "text/html": [
       "<div>\n",
       "<table border=\"1\" class=\"dataframe\">\n",
       "  <thead>\n",
       "    <tr style=\"text-align: right;\">\n",
       "      <th></th>\n",
       "      <th>Accuracy</th>\n",
       "      <th>Precision</th>\n",
       "      <th>Recall</th>\n",
       "      <th>F1</th>\n",
       "      <th>ROCAUC</th>\n",
       "    </tr>\n",
       "  </thead>\n",
       "  <tbody>\n",
       "    <tr>\n",
       "      <th>KNeighborsClassifier(n_neighbors=1)</th>\n",
       "      <td>0.948671</td>\n",
       "      <td>0.796863</td>\n",
       "      <td>0.720000</td>\n",
       "      <td>0.755053</td>\n",
       "      <td>0.848442</td>\n",
       "    </tr>\n",
       "    <tr>\n",
       "      <th>SVC(gamma=1, C=10, kernel='rbf')</th>\n",
       "      <td>0.929595</td>\n",
       "      <td>0.988333</td>\n",
       "      <td>0.364211</td>\n",
       "      <td>0.528690</td>\n",
       "      <td>0.681781</td>\n",
       "    </tr>\n",
       "    <tr>\n",
       "      <th>SVC()</th>\n",
       "      <td>0.951098</td>\n",
       "      <td>0.912439</td>\n",
       "      <td>0.613684</td>\n",
       "      <td>0.732658</td>\n",
       "      <td>0.803206</td>\n",
       "    </tr>\n",
       "    <tr>\n",
       "      <th>LogisticRegression()</th>\n",
       "      <td>0.703931</td>\n",
       "      <td>0.224428</td>\n",
       "      <td>0.684211</td>\n",
       "      <td>0.337382</td>\n",
       "      <td>0.695287</td>\n",
       "    </tr>\n",
       "    <tr>\n",
       "      <th>BernoulliNB()</th>\n",
       "      <td>0.574566</td>\n",
       "      <td>0.120447</td>\n",
       "      <td>0.425263</td>\n",
       "      <td>0.145820</td>\n",
       "      <td>0.509125</td>\n",
       "    </tr>\n",
       "    <tr>\n",
       "      <th>GaussianNB()</th>\n",
       "      <td>0.600116</td>\n",
       "      <td>0.171470</td>\n",
       "      <td>0.686316</td>\n",
       "      <td>0.274229</td>\n",
       "      <td>0.637898</td>\n",
       "    </tr>\n",
       "    <tr>\n",
       "      <th>RandomForestClassifier(n_estimators=30)</th>\n",
       "      <td>0.948208</td>\n",
       "      <td>0.835454</td>\n",
       "      <td>0.664211</td>\n",
       "      <td>0.737398</td>\n",
       "      <td>0.823729</td>\n",
       "    </tr>\n",
       "    <tr>\n",
       "      <th>DecisionTreeClassifier()</th>\n",
       "      <td>0.918728</td>\n",
       "      <td>0.646814</td>\n",
       "      <td>0.602105</td>\n",
       "      <td>0.620198</td>\n",
       "      <td>0.779949</td>\n",
       "    </tr>\n",
       "  </tbody>\n",
       "</table>\n",
       "</div>"
      ],
      "text/plain": [
       "                                         Accuracy  Precision    Recall  \\\n",
       "KNeighborsClassifier(n_neighbors=1)      0.948671   0.796863  0.720000   \n",
       "SVC(gamma=1, C=10, kernel='rbf')         0.929595   0.988333  0.364211   \n",
       "SVC()                                    0.951098   0.912439  0.613684   \n",
       "LogisticRegression()                     0.703931   0.224428  0.684211   \n",
       "BernoulliNB()                            0.574566   0.120447  0.425263   \n",
       "GaussianNB()                             0.600116   0.171470  0.686316   \n",
       "RandomForestClassifier(n_estimators=30)  0.948208   0.835454  0.664211   \n",
       "DecisionTreeClassifier()                 0.918728   0.646814  0.602105   \n",
       "\n",
       "                                               F1    ROCAUC  \n",
       "KNeighborsClassifier(n_neighbors=1)      0.755053  0.848442  \n",
       "SVC(gamma=1, C=10, kernel='rbf')         0.528690  0.681781  \n",
       "SVC()                                    0.732658  0.803206  \n",
       "LogisticRegression()                     0.337382  0.695287  \n",
       "BernoulliNB()                            0.145820  0.509125  \n",
       "GaussianNB()                             0.274229  0.637898  \n",
       "RandomForestClassifier(n_estimators=30)  0.737398  0.823729  \n",
       "DecisionTreeClassifier()                 0.620198  0.779949  "
      ]
     },
     "execution_count": 80,
     "metadata": {},
     "output_type": "execute_result"
    },
    {
     "data": {
      "image/png": "[encoded data removed]",
      "text/plain": [
       "<matplotlib.figure.Figure at 0x10db3eac8>"
      ]
     },
     "metadata": {},
     "output_type": "display_data"
    }
   ],
   "source": [
    "pol_modeling.get_multi_models(year=2011, year_delta=1, make_single_plot=True)"
   ]
  },
  {
   "cell_type": "code",
   "execution_count": 81,
   "metadata": {
    "collapsed": false
   },
   "outputs": [
    {
     "data": {
      "text/html": [
       "<div>\n",
       "<table border=\"1\" class=\"dataframe\">\n",
       "  <thead>\n",
       "    <tr style=\"text-align: right;\">\n",
       "      <th></th>\n",
       "      <th>Accuracy</th>\n",
       "      <th>Precision</th>\n",
       "      <th>Recall</th>\n",
       "      <th>F1</th>\n",
       "      <th>ROCAUC</th>\n",
       "    </tr>\n",
       "  </thead>\n",
       "  <tbody>\n",
       "    <tr>\n",
       "      <th>KNeighborsClassifier(n_neighbors=1)</th>\n",
       "      <td>0.950233</td>\n",
       "      <td>0.673223</td>\n",
       "      <td>0.846667</td>\n",
       "      <td>0.748278</td>\n",
       "      <td>0.903397</td>\n",
       "    </tr>\n",
       "    <tr>\n",
       "      <th>SVC(gamma=1, C=10, kernel='rbf')</th>\n",
       "      <td>0.945116</td>\n",
       "      <td>0.856405</td>\n",
       "      <td>0.444000</td>\n",
       "      <td>0.581428</td>\n",
       "      <td>0.718497</td>\n",
       "    </tr>\n",
       "    <tr>\n",
       "      <th>SVC()</th>\n",
       "      <td>0.950581</td>\n",
       "      <td>0.703277</td>\n",
       "      <td>0.756000</td>\n",
       "      <td>0.726982</td>\n",
       "      <td>0.862586</td>\n",
       "    </tr>\n",
       "    <tr>\n",
       "      <th>LogisticRegression()</th>\n",
       "      <td>0.709884</td>\n",
       "      <td>0.197099</td>\n",
       "      <td>0.752000</td>\n",
       "      <td>0.311929</td>\n",
       "      <td>0.728930</td>\n",
       "    </tr>\n",
       "    <tr>\n",
       "      <th>BernoulliNB()</th>\n",
       "      <td>0.563953</td>\n",
       "      <td>0.072904</td>\n",
       "      <td>0.416000</td>\n",
       "      <td>0.102594</td>\n",
       "      <td>0.497045</td>\n",
       "    </tr>\n",
       "    <tr>\n",
       "      <th>GaussianNB()</th>\n",
       "      <td>0.607326</td>\n",
       "      <td>0.148086</td>\n",
       "      <td>0.733333</td>\n",
       "      <td>0.246261</td>\n",
       "      <td>0.664310</td>\n",
       "    </tr>\n",
       "    <tr>\n",
       "      <th>RandomForestClassifier(n_estimators=30)</th>\n",
       "      <td>0.950349</td>\n",
       "      <td>0.719014</td>\n",
       "      <td>0.712000</td>\n",
       "      <td>0.713486</td>\n",
       "      <td>0.842561</td>\n",
       "    </tr>\n",
       "    <tr>\n",
       "      <th>DecisionTreeClassifier()</th>\n",
       "      <td>0.924535</td>\n",
       "      <td>0.566934</td>\n",
       "      <td>0.656000</td>\n",
       "      <td>0.603727</td>\n",
       "      <td>0.803096</td>\n",
       "    </tr>\n",
       "  </tbody>\n",
       "</table>\n",
       "</div>"
      ],
      "text/plain": [
       "                                         Accuracy  Precision    Recall  \\\n",
       "KNeighborsClassifier(n_neighbors=1)      0.950233   0.673223  0.846667   \n",
       "SVC(gamma=1, C=10, kernel='rbf')         0.945116   0.856405  0.444000   \n",
       "SVC()                                    0.950581   0.703277  0.756000   \n",
       "LogisticRegression()                     0.709884   0.197099  0.752000   \n",
       "BernoulliNB()                            0.563953   0.072904  0.416000   \n",
       "GaussianNB()                             0.607326   0.148086  0.733333   \n",
       "RandomForestClassifier(n_estimators=30)  0.950349   0.719014  0.712000   \n",
       "DecisionTreeClassifier()                 0.924535   0.566934  0.656000   \n",
       "\n",
       "                                               F1    ROCAUC  \n",
       "KNeighborsClassifier(n_neighbors=1)      0.748278  0.903397  \n",
       "SVC(gamma=1, C=10, kernel='rbf')         0.581428  0.718497  \n",
       "SVC()                                    0.726982  0.862586  \n",
       "LogisticRegression()                     0.311929  0.728930  \n",
       "BernoulliNB()                            0.102594  0.497045  \n",
       "GaussianNB()                             0.246261  0.664310  \n",
       "RandomForestClassifier(n_estimators=30)  0.713486  0.842561  \n",
       "DecisionTreeClassifier()                 0.603727  0.803096  "
      ]
     },
     "execution_count": 81,
     "metadata": {},
     "output_type": "execute_result"
    }
   ],
   "source": [
    "pol_modeling.get_multi_models(year=2011, year_delta=2)"
   ]
  },
  {
   "cell_type": "code",
   "execution_count": 82,
   "metadata": {
    "collapsed": false
   },
   "outputs": [],
   "source": [
    "#full_data[full_data.zscores == 1]"
   ]
  },
  {
   "cell_type": "code",
   "execution_count": 83,
   "metadata": {
    "collapsed": false,
    "scrolled": false
   },
   "outputs": [
    {
     "name": "stdout",
     "output_type": "stream",
     "text": [
      "Empty DataFrame\n",
      "Columns: [year_prior, prediction, prediction_actual, net]\n",
      "Index: []\n",
      "Empty DataFrame\n",
      "Columns: [year_prior, prediction, prediction_actual, net]\n",
      "Index: []\n",
      "Empty DataFrame\n",
      "Columns: [year_prior, prediction, prediction_actual, net]\n",
      "Index: []\n",
      "Empty DataFrame\n",
      "Columns: [year_prior, prediction, prediction_actual, net]\n",
      "Index: []\n",
      "Empty DataFrame\n",
      "Columns: [year_prior, prediction, prediction_actual, net]\n",
      "Index: []\n",
      "Empty DataFrame\n",
      "Columns: [year_prior, prediction, prediction_actual, net]\n",
      "Index: []\n",
      "Empty DataFrame\n",
      "Columns: [year_prior, prediction, prediction_actual, net]\n",
      "Index: []\n",
      "Empty DataFrame\n",
      "Columns: [year_prior, prediction, prediction_actual, net]\n",
      "Index: []\n",
      "Empty DataFrame\n",
      "Columns: [year_prior, prediction, prediction_actual, net]\n",
      "Index: []\n",
      "Empty DataFrame\n",
      "Columns: [year_prior, prediction, prediction_actual, net]\n",
      "Index: []\n",
      "Empty DataFrame\n",
      "Columns: [year_prior, prediction, prediction_actual, net]\n",
      "Index: []\n",
      "Empty DataFrame\n",
      "Columns: [year_prior, prediction, prediction_actual, net]\n",
      "Index: []\n",
      "Empty DataFrame\n",
      "Columns: [year_prior, prediction, prediction_actual, net]\n",
      "Index: []\n",
      "Empty DataFrame\n",
      "Columns: [year_prior, prediction, prediction_actual, net]\n",
      "Index: []\n",
      "Empty DataFrame\n",
      "Columns: [year_prior, prediction, prediction_actual, net]\n",
      "Index: []\n",
      "Empty DataFrame\n",
      "Columns: [year_prior, prediction, prediction_actual, net]\n",
      "Index: []\n",
      "Empty DataFrame\n",
      "Columns: [year_prior, prediction, prediction_actual, net]\n",
      "Index: []\n",
      "Empty DataFrame\n",
      "Columns: [year_prior, prediction, prediction_actual, net]\n",
      "Index: []\n",
      "Empty DataFrame\n",
      "Columns: [year_prior, prediction, prediction_actual, net]\n",
      "Index: []\n",
      "Empty DataFrame\n",
      "Columns: [year_prior, prediction, prediction_actual, net]\n",
      "Index: []\n",
      "Empty DataFrame\n",
      "Columns: [year_prior, prediction, prediction_actual, net]\n",
      "Index: []\n",
      "Empty DataFrame\n",
      "Columns: [year_prior, prediction, prediction_actual, net]\n",
      "Index: []\n",
      "Empty DataFrame\n",
      "Columns: [year_prior, prediction, prediction_actual, net]\n",
      "Index: []\n",
      "Empty DataFrame\n",
      "Columns: [year_prior, prediction, prediction_actual, net]\n",
      "Index: []\n",
      "Empty DataFrame\n",
      "Columns: [year_prior, prediction, prediction_actual, net]\n",
      "Index: []\n",
      "Empty DataFrame\n",
      "Columns: [year_prior, prediction, prediction_actual, net]\n",
      "Index: []\n",
      "Empty DataFrame\n",
      "Columns: [year_prior, prediction, prediction_actual, net]\n",
      "Index: []\n",
      "Empty DataFrame\n",
      "Columns: [year_prior, prediction, prediction_actual, net]\n",
      "Index: []\n",
      "Empty DataFrame\n",
      "Columns: [year_prior, prediction, prediction_actual, net]\n",
      "Index: []\n",
      "Empty DataFrame\n",
      "Columns: [year_prior, prediction, prediction_actual, net]\n",
      "Index: []\n",
      "Empty DataFrame\n",
      "Columns: [year_prior, prediction, prediction_actual, net]\n",
      "Index: []\n",
      "Empty DataFrame\n",
      "Columns: [year_prior, prediction, prediction_actual, net]\n",
      "Index: []\n",
      "Empty DataFrame\n",
      "Columns: [year_prior, prediction, prediction_actual, net]\n",
      "Index: []\n",
      "Empty DataFrame\n",
      "Columns: [year_prior, prediction, prediction_actual, net]\n",
      "Index: []\n",
      "Empty DataFrame\n",
      "Columns: [year_prior, prediction, prediction_actual, net]\n",
      "Index: []\n",
      "Empty DataFrame\n",
      "Columns: [year_prior, prediction, prediction_actual, net]\n",
      "Index: []\n",
      "Empty DataFrame\n",
      "Columns: [year_prior, prediction, prediction_actual, net]\n",
      "Index: []\n",
      "Empty DataFrame\n",
      "Columns: [year_prior, prediction, prediction_actual, net]\n",
      "Index: []\n",
      "Empty DataFrame\n",
      "Columns: [year_prior, prediction, prediction_actual, net]\n",
      "Index: []\n",
      "Empty DataFrame\n",
      "Columns: [year_prior, prediction, prediction_actual, net]\n",
      "Index: []\n",
      "Empty DataFrame\n",
      "Columns: [year_prior, prediction, prediction_actual, net]\n",
      "Index: []\n",
      "Empty DataFrame\n",
      "Columns: [year_prior, prediction, prediction_actual, net]\n",
      "Index: []\n",
      "Empty DataFrame\n",
      "Columns: [year_prior, prediction, prediction_actual, net]\n",
      "Index: []\n",
      "Empty DataFrame\n",
      "Columns: [year_prior, prediction, prediction_actual, net]\n",
      "Index: []\n",
      "Empty DataFrame\n",
      "Columns: [year_prior, prediction, prediction_actual, net]\n",
      "Index: []\n",
      "Empty DataFrame\n",
      "Columns: [year_prior, prediction, prediction_actual, net]\n",
      "Index: []\n",
      "Empty DataFrame\n",
      "Columns: [year_prior, prediction, prediction_actual, net]\n",
      "Index: []\n",
      "Empty DataFrame\n",
      "Columns: [year_prior, prediction, prediction_actual, net]\n",
      "Index: []\n",
      "Empty DataFrame\n",
      "Columns: [year_prior, prediction, prediction_actual, net]\n",
      "Index: []\n",
      "Empty DataFrame\n",
      "Columns: [year_prior, prediction, prediction_actual, net]\n",
      "Index: []\n"
     ]
    }
   ],
   "source": [
    "pol_modeling.future_crisis_countries(model=RandomForestClassifier(n_estimators=30), year=2011, year_delta=1)"
   ]
  },
  {
   "cell_type": "code",
   "execution_count": 84,
   "metadata": {
    "collapsed": false,
    "scrolled": false
   },
   "outputs": [],
   "source": [
    "#pol_modeling.SVC_grid_search(year=2011, year_delta=2)"
   ]
  },
  {
   "cell_type": "code",
   "execution_count": null,
   "metadata": {
    "collapsed": true
   },
   "outputs": [],
   "source": []
  }
 ],
 "metadata": {
  "kernelspec": {
   "display_name": "Python 3",
   "language": "python",
   "name": "python3"
  }
 },
 "nbformat": 4,
 "nbformat_minor": 0
}
