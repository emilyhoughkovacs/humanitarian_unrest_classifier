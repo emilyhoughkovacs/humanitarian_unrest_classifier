{
 "cells": [
  {
   "cell_type": "markdown",
   "metadata": {},
   "source": [
    "### This is the same notebook as analyze_sql_data.ipynb but includes multiple years"
   ]
  },
  {
   "cell_type": "code",
   "execution_count": 317,
   "metadata": {
    "collapsed": false
   },
   "outputs": [],
   "source": [
    "from sqlalchemy import create_engine\n",
    "import pandas as pd\n",
    "import numpy as np\n",
    "\n",
    "from sklearn.cross_validation import train_test_split, StratifiedShuffleSplit\n",
    "from sklearn.neighbors import KNeighborsClassifier\n",
    "from sklearn.metrics import (\n",
    "                            accuracy_score, \n",
    "                            precision_score, \n",
    "                            recall_score, \n",
    "                            f1_score, \n",
    "                            roc_curve, \n",
    "                            roc_auc_score, \n",
    "                            confusion_matrix\n",
    "                            )\n",
    "from sklearn.linear_model import LogisticRegression, LinearRegression\n",
    "from sklearn.naive_bayes import GaussianNB, BernoulliNB\n",
    "from sklearn.svm import SVC\n",
    "from sklearn.tree import DecisionTreeClassifier\n",
    "from sklearn.tree import DecisionTreeRegressor\n",
    "from sklearn.ensemble import RandomForestClassifier\n",
    "from sklearn.learning_curve import learning_curve\n",
    "from sklearn.cross_validation import cross_val_score\n",
    "from sklearn.metrics import confusion_matrix\n",
    "\n",
    "from unbalanced_dataset import OverSampler, SMOTE\n",
    "\n",
    "import matplotlib.pyplot as plt\n",
    "import seaborn as sns\n",
    "\n",
    "\n",
    "%matplotlib inline"
   ]
  },
  {
   "cell_type": "code",
   "execution_count": 318,
   "metadata": {
    "collapsed": true
   },
   "outputs": [],
   "source": [
    "CONFIG = {}\n",
    "\n",
    "with open('config.txt', \"r\") as in_file:\n",
    "    for line in in_file:\n",
    "        line = line.split(\":\")\n",
    "        parameter = line[0].strip()\n",
    "        value = line[1].strip()\n",
    "        CONFIG[parameter] = value\n",
    "                \n",
    "engine_path = 'postgresql://'+CONFIG['username']+':'+\\\n",
    "                CONFIG['password']+'@'+CONFIG['ip']+\\\n",
    "                ':'+CONFIG['port']+'/'+CONFIG['database']\n",
    "        \n",
    "engine = create_engine(engine_path)"
   ]
  },
  {
   "cell_type": "markdown",
   "metadata": {},
   "source": [
    "### Want something like:\n",
    "\n",
    "    SELECT\n",
    "        table4.countrycode as 'countrycode',\n",
    "        b.table1 as 'table1',\n",
    "        b.table2 as 'table2',\n",
    "        b.table3 as 'table3',\n",
    "        table4.year as 'table4'\n",
    "        (SELECT\n",
    "            table3.countrycode as 'countrycode',\n",
    "            a.table1 as 'table1',\n",
    "            a.table2 as 'table2',\n",
    "            table3.year as 'table3'\n",
    "         FROM\n",
    "            (SELECT\n",
    "                 table1.countrycode as 'countrycode',\n",
    "                 table1.year as 'table1',\n",
    "                 table2.year as 'table2'\n",
    "             FROM\n",
    "                 table1\n",
    "             JOIN\n",
    "                 table2\n",
    "               ON \n",
    "                 table1.countrycode = table2.countrycode\n",
    "             ) a\n",
    "         JOIN\n",
    "             table3\n",
    "           ON\n",
    "             a.countrycode = table3.countrycode  \n",
    "        ) b    \n",
    "    JOIN\n",
    "        table4\n",
    "      ON\n",
    "        a.countrycode = table3.countrycode \n",
    "    \n",
    "        \n",
    "       \n"
   ]
  },
  {
   "cell_type": "code",
   "execution_count": 319,
   "metadata": {
    "collapsed": false
   },
   "outputs": [],
   "source": [
    "def makeSQLQuery(table_names, year):\n",
    "    dotyyear = '.y' + str(year)\n",
    "    current_unit = 'a'\n",
    "    query = '(SELECT ' + table_names[0] + '.countrycode AS countrycode, ' + \\\n",
    "            table_names[0] + dotyyear + ' AS ' + table_names[0] + ', ' + \\\n",
    "            table_names[1] + dotyyear + ' AS ' + table_names[1] + \\\n",
    "            ' FROM ' + table_names[0] + \\\n",
    "            ' JOIN ' + table_names[1] + \\\n",
    "            ' ON ' + table_names[0] + '.countrycode=' + table_names[1] + '.countrycode) '\n",
    "    query = query + current_unit\n",
    "    \n",
    "    for table in table_names[2:]:\n",
    "        curr_index = table_names.index(table)\n",
    "        temp_list = table_names[:curr_index+1]\n",
    "        \n",
    "        pre_string = '(SELECT ' + table + '.countrycode as countrycode'\n",
    "        \n",
    "        for temp_table in temp_list[:-1]:\n",
    "            pre_string = pre_string + ', ' + current_unit + '.' + temp_table + ' AS ' + temp_table\n",
    "        \n",
    "        pre_string = pre_string + ', ' + table + dotyyear + ' AS ' + table\n",
    "        \n",
    "        query = pre_string + ' FROM ' + query + ' JOIN ' + table + \\\n",
    "                ' ON ' + current_unit + '.countrycode=' + table + '.countrycode) '\n",
    "        \n",
    "        current_unit = current_unit + 'a'\n",
    "        query = query + current_unit\n",
    "        \n",
    "    query = query.rsplit(' ', 1)[0][1:-1]\n",
    "    \n",
    "    return query\n",
    "    \n",
    "    "
   ]
  },
  {
   "cell_type": "markdown",
   "metadata": {},
   "source": [
    "## Change these to select data"
   ]
  },
  {
   "cell_type": "code",
   "execution_count": 320,
   "metadata": {
    "collapsed": false
   },
   "outputs": [],
   "source": [
    "table_names = ['civil_liberties', \\\n",
    "               'political_rights', \\\n",
    "               #'freedom_status', \\\n",
    "               #'corruption_perception', \\\n",
    "               'female_legislators', \\\n",
    "               'population_growth', \\\n",
    "               'population_female', \\\n",
    "               #'under_5_mortality', \\\n",
    "               'life_expectancy', \\\n",
    "               #'population_0_14', \\\n",
    "               'population_15_64',  \\\n",
    "               #'population_65_up', \\\n",
    "               #'terror_new', \\\n",
    "               #'peace_new', \\\n",
    "               #'refugees_percapita', \\\n",
    "               'zscores']"
   ]
  },
  {
   "cell_type": "code",
   "execution_count": 321,
   "metadata": {
    "collapsed": true
   },
   "outputs": [],
   "source": [
    "x_cols = table_names[:-1]"
   ]
  },
  {
   "cell_type": "code",
   "execution_count": 322,
   "metadata": {
    "collapsed": true
   },
   "outputs": [],
   "source": [
    "years = [2008, 2009, 2010, 2011, 2012, 2013]"
   ]
  },
  {
   "cell_type": "code",
   "execution_count": 323,
   "metadata": {
    "collapsed": true
   },
   "outputs": [],
   "source": [
    "full_data = pd.DataFrame()"
   ]
  },
  {
   "cell_type": "code",
   "execution_count": 324,
   "metadata": {
    "collapsed": false,
    "scrolled": false
   },
   "outputs": [],
   "source": [
    "for year in years:\n",
    "    query = makeSQLQuery(table_names, year)\n",
    "    year_data = pd.read_sql_query(query, engine)\n",
    "    year_data['year'] = year\n",
    "    year_data = year_data.set_index(['year', 'countrycode'])\n",
    "    full_data = pd.concat([full_data, year_data])\n",
    "    \n"
   ]
  },
  {
   "cell_type": "code",
   "execution_count": 325,
   "metadata": {
    "collapsed": false
   },
   "outputs": [
    {
     "data": {
      "text/plain": [
       "<matplotlib.axes._subplots.AxesSubplot at 0x10ebcc470>"
      ]
     },
     "execution_count": 325,
     "metadata": {},
     "output_type": "execute_result"
    },
    {
     "data": {
      "image/png": "[encoded data removed]",
      "text/plain": [
       "<matplotlib.figure.Figure at 0x10fac0710>"
      ]
     },
     "metadata": {},
     "output_type": "display_data"
    }
   ],
   "source": [
    "sns.distplot(full_data.dropna()['zscores'].astype(float))"
   ]
  },
  {
   "cell_type": "code",
   "execution_count": 326,
   "metadata": {
    "collapsed": false
   },
   "outputs": [
    {
     "data": {
      "text/plain": [
       "(array([ 989.,   22.,    7.,    7.,    7.,    2.,    3.,    3.,    5.,    4.]),\n",
       " array([-0.29313644,  0.67991785,  1.65297214,  2.62602643,  3.59908072,\n",
       "         4.57213501,  5.5451893 ,  6.51824359,  7.49129788,  8.46435217,\n",
       "         9.43740646]),\n",
       " <a list of 10 Patch objects>)"
      ]
     },
     "execution_count": 326,
     "metadata": {},
     "output_type": "execute_result"
    },
    {
     "data": {
      "image/png": "[encoded data removed]",
      "text/plain": [
       "<matplotlib.figure.Figure at 0x10f8b1668>"
      ]
     },
     "metadata": {},
     "output_type": "display_data"
    }
   ],
   "source": [
    "import pylab as pl\n",
    "\n",
    "pl.hist(sorted(list(full_data.dropna()['zscores'].astype(float))))\n",
    "\n"
   ]
  },
  {
   "cell_type": "code",
   "execution_count": 327,
   "metadata": {
    "collapsed": false
   },
   "outputs": [
    {
     "data": {
      "text/html": [
       "<div>\n",
       "<table border=\"1\" class=\"dataframe\">\n",
       "  <thead>\n",
       "    <tr style=\"text-align: right;\">\n",
       "      <th></th>\n",
       "      <th></th>\n",
       "      <th>civil_liberties</th>\n",
       "      <th>political_rights</th>\n",
       "      <th>female_legislators</th>\n",
       "      <th>population_growth</th>\n",
       "      <th>population_female</th>\n",
       "      <th>life_expectancy</th>\n",
       "      <th>population_15_64</th>\n",
       "      <th>zscores</th>\n",
       "    </tr>\n",
       "    <tr>\n",
       "      <th>year</th>\n",
       "      <th>countrycode</th>\n",
       "      <th></th>\n",
       "      <th></th>\n",
       "      <th></th>\n",
       "      <th></th>\n",
       "      <th></th>\n",
       "      <th></th>\n",
       "      <th></th>\n",
       "      <th></th>\n",
       "    </tr>\n",
       "  </thead>\n",
       "  <tbody>\n",
       "    <tr>\n",
       "      <th rowspan=\"5\" valign=\"top\">2008</th>\n",
       "      <th>AFG</th>\n",
       "      <td>6</td>\n",
       "      <td>5</td>\n",
       "      <td>27.7</td>\n",
       "      <td>2.485315</td>\n",
       "      <td>48.512909</td>\n",
       "      <td>58.225024</td>\n",
       "      <td>49.946087</td>\n",
       "      <td>6.546331355</td>\n",
       "    </tr>\n",
       "    <tr>\n",
       "      <th>AGO</th>\n",
       "      <td>5</td>\n",
       "      <td>6</td>\n",
       "      <td>37.3</td>\n",
       "      <td>3.374180</td>\n",
       "      <td>50.493712</td>\n",
       "      <td>49.847390</td>\n",
       "      <td>49.356104</td>\n",
       "      <td>0.281696206</td>\n",
       "    </tr>\n",
       "    <tr>\n",
       "      <th>ALB</th>\n",
       "      <td>3</td>\n",
       "      <td>3</td>\n",
       "      <td>7.1</td>\n",
       "      <td>-0.767343</td>\n",
       "      <td>49.610212</td>\n",
       "      <td>76.632317</td>\n",
       "      <td>66.816430</td>\n",
       "      <td>0.055357722</td>\n",
       "    </tr>\n",
       "    <tr>\n",
       "      <th>ARE</th>\n",
       "      <td>5</td>\n",
       "      <td>6</td>\n",
       "      <td>22.5</td>\n",
       "      <td>13.810060</td>\n",
       "      <td>25.880062</td>\n",
       "      <td>76.307756</td>\n",
       "      <td>84.600650</td>\n",
       "      <td>-0.267222176</td>\n",
       "    </tr>\n",
       "    <tr>\n",
       "      <th>ARG</th>\n",
       "      <td>2</td>\n",
       "      <td>2</td>\n",
       "      <td>40.0</td>\n",
       "      <td>1.025393</td>\n",
       "      <td>51.087196</td>\n",
       "      <td>75.166268</td>\n",
       "      <td>63.456290</td>\n",
       "      <td>-0.26793528</td>\n",
       "    </tr>\n",
       "  </tbody>\n",
       "</table>\n",
       "</div>"
      ],
      "text/plain": [
       "                  civil_liberties  political_rights  female_legislators  \\\n",
       "year countrycode                                                          \n",
       "2008 AFG                        6                 5                27.7   \n",
       "     AGO                        5                 6                37.3   \n",
       "     ALB                        3                 3                 7.1   \n",
       "     ARE                        5                 6                22.5   \n",
       "     ARG                        2                 2                40.0   \n",
       "\n",
       "                  population_growth  population_female  life_expectancy  \\\n",
       "year countrycode                                                          \n",
       "2008 AFG                   2.485315          48.512909        58.225024   \n",
       "     AGO                   3.374180          50.493712        49.847390   \n",
       "     ALB                  -0.767343          49.610212        76.632317   \n",
       "     ARE                  13.810060          25.880062        76.307756   \n",
       "     ARG                   1.025393          51.087196        75.166268   \n",
       "\n",
       "                  population_15_64       zscores  \n",
       "year countrycode                                  \n",
       "2008 AFG                 49.946087   6.546331355  \n",
       "     AGO                 49.356104   0.281696206  \n",
       "     ALB                 66.816430   0.055357722  \n",
       "     ARE                 84.600650  -0.267222176  \n",
       "     ARG                 63.456290   -0.26793528  "
      ]
     },
     "execution_count": 327,
     "metadata": {},
     "output_type": "execute_result"
    }
   ],
   "source": [
    "full_data.head()"
   ]
  },
  {
   "cell_type": "code",
   "execution_count": 328,
   "metadata": {
    "collapsed": false,
    "scrolled": false
   },
   "outputs": [],
   "source": [
    "full_data['zscores'] = full_data['zscores'].astype(float)\n",
    "\n",
    "full_data.loc[full_data['zscores'] > 0, 'zscores'] = 1\n",
    "full_data.loc[full_data['zscores'] <= 0, 'zscores'] = 0\n",
    "\n",
    "try:\n",
    "    full_data.loc[full_data['freedom_status'] == 'F', 'freedom_status'] = -1\n",
    "    full_data.loc[full_data['freedom_status'] == 'PF', 'freedom_status'] = 0\n",
    "    full_data.loc[full_data['freedom_status'] == 'NF', 'freedom_status'] = 1\n",
    "except:\n",
    "    pass\n"
   ]
  },
  {
   "cell_type": "code",
   "execution_count": 329,
   "metadata": {
    "collapsed": false
   },
   "outputs": [
    {
     "data": {
      "text/html": [
       "<div>\n",
       "<table border=\"1\" class=\"dataframe\">\n",
       "  <thead>\n",
       "    <tr style=\"text-align: right;\">\n",
       "      <th></th>\n",
       "      <th></th>\n",
       "      <th>civil_liberties</th>\n",
       "      <th>political_rights</th>\n",
       "      <th>female_legislators</th>\n",
       "      <th>population_growth</th>\n",
       "      <th>population_female</th>\n",
       "      <th>life_expectancy</th>\n",
       "      <th>population_15_64</th>\n",
       "      <th>zscores</th>\n",
       "    </tr>\n",
       "    <tr>\n",
       "      <th>year</th>\n",
       "      <th>countrycode</th>\n",
       "      <th></th>\n",
       "      <th></th>\n",
       "      <th></th>\n",
       "      <th></th>\n",
       "      <th></th>\n",
       "      <th></th>\n",
       "      <th></th>\n",
       "      <th></th>\n",
       "    </tr>\n",
       "  </thead>\n",
       "  <tbody>\n",
       "    <tr>\n",
       "      <th rowspan=\"7\" valign=\"top\">2008</th>\n",
       "      <th>FJI</th>\n",
       "      <td>4</td>\n",
       "      <td>6</td>\n",
       "      <td>NaN</td>\n",
       "      <td>1.010417</td>\n",
       "      <td>48.947707</td>\n",
       "      <td>69.022024</td>\n",
       "      <td>65.706245</td>\n",
       "      <td>0</td>\n",
       "    </tr>\n",
       "    <tr>\n",
       "      <th>GIN</th>\n",
       "      <td>5</td>\n",
       "      <td>7</td>\n",
       "      <td>NaN</td>\n",
       "      <td>2.671069</td>\n",
       "      <td>49.966108</td>\n",
       "      <td>54.777585</td>\n",
       "      <td>53.134073</td>\n",
       "      <td>0</td>\n",
       "    </tr>\n",
       "    <tr>\n",
       "      <th>LUX</th>\n",
       "      <td>1</td>\n",
       "      <td>1</td>\n",
       "      <td>23.3</td>\n",
       "      <td>1.787497</td>\n",
       "      <td>50.493425</td>\n",
       "      <td>80.539024</td>\n",
       "      <td>67.877191</td>\n",
       "      <td>NaN</td>\n",
       "    </tr>\n",
       "    <tr>\n",
       "      <th>MMR</th>\n",
       "      <td>7</td>\n",
       "      <td>7</td>\n",
       "      <td>NaN</td>\n",
       "      <td>0.651129</td>\n",
       "      <td>51.176312</td>\n",
       "      <td>64.367610</td>\n",
       "      <td>64.768113</td>\n",
       "      <td>0</td>\n",
       "    </tr>\n",
       "    <tr>\n",
       "      <th>SSD</th>\n",
       "      <td>NaN</td>\n",
       "      <td>NaN</td>\n",
       "      <td>NaN</td>\n",
       "      <td>4.362664</td>\n",
       "      <td>50.051550</td>\n",
       "      <td>52.593317</td>\n",
       "      <td>52.863172</td>\n",
       "      <td>NaN</td>\n",
       "    </tr>\n",
       "    <tr>\n",
       "      <th>TKM</th>\n",
       "      <td>7</td>\n",
       "      <td>7</td>\n",
       "      <td>NaN</td>\n",
       "      <td>1.213341</td>\n",
       "      <td>50.724437</td>\n",
       "      <td>64.756073</td>\n",
       "      <td>65.247102</td>\n",
       "      <td>0</td>\n",
       "    </tr>\n",
       "    <tr>\n",
       "      <th>VUT</th>\n",
       "      <td>2</td>\n",
       "      <td>2</td>\n",
       "      <td>3.8</td>\n",
       "      <td>2.416066</td>\n",
       "      <td>49.142388</td>\n",
       "      <td>70.254756</td>\n",
       "      <td>57.801496</td>\n",
       "      <td>NaN</td>\n",
       "    </tr>\n",
       "    <tr>\n",
       "      <th rowspan=\"8\" valign=\"top\">2009</th>\n",
       "      <th>FJI</th>\n",
       "      <td>4</td>\n",
       "      <td>6</td>\n",
       "      <td>NaN</td>\n",
       "      <td>1.020386</td>\n",
       "      <td>48.947824</td>\n",
       "      <td>69.202854</td>\n",
       "      <td>65.938529</td>\n",
       "      <td>0</td>\n",
       "    </tr>\n",
       "    <tr>\n",
       "      <th>GIN</th>\n",
       "      <td>6</td>\n",
       "      <td>7</td>\n",
       "      <td>NaN</td>\n",
       "      <td>2.728375</td>\n",
       "      <td>49.955495</td>\n",
       "      <td>55.556146</td>\n",
       "      <td>53.333078</td>\n",
       "      <td>0</td>\n",
       "    </tr>\n",
       "    <tr>\n",
       "      <th>LUX</th>\n",
       "      <td>1</td>\n",
       "      <td>1</td>\n",
       "      <td>20.0</td>\n",
       "      <td>1.851775</td>\n",
       "      <td>50.416014</td>\n",
       "      <td>80.636585</td>\n",
       "      <td>68.143119</td>\n",
       "      <td>NaN</td>\n",
       "    </tr>\n",
       "    <tr>\n",
       "      <th>MDG</th>\n",
       "      <td>4</td>\n",
       "      <td>6</td>\n",
       "      <td>NaN</td>\n",
       "      <td>2.814994</td>\n",
       "      <td>50.195519</td>\n",
       "      <td>62.918171</td>\n",
       "      <td>53.386568</td>\n",
       "      <td>0</td>\n",
       "    </tr>\n",
       "    <tr>\n",
       "      <th>MMR</th>\n",
       "      <td>7</td>\n",
       "      <td>7</td>\n",
       "      <td>NaN</td>\n",
       "      <td>0.663518</td>\n",
       "      <td>51.184720</td>\n",
       "      <td>64.643561</td>\n",
       "      <td>64.959838</td>\n",
       "      <td>1</td>\n",
       "    </tr>\n",
       "    <tr>\n",
       "      <th>SSD</th>\n",
       "      <td>NaN</td>\n",
       "      <td>NaN</td>\n",
       "      <td>NaN</td>\n",
       "      <td>4.403674</td>\n",
       "      <td>50.032723</td>\n",
       "      <td>53.122659</td>\n",
       "      <td>53.048921</td>\n",
       "      <td>NaN</td>\n",
       "    </tr>\n",
       "    <tr>\n",
       "      <th>VUT</th>\n",
       "      <td>2</td>\n",
       "      <td>2</td>\n",
       "      <td>3.8</td>\n",
       "      <td>2.388536</td>\n",
       "      <td>49.191878</td>\n",
       "      <td>70.555829</td>\n",
       "      <td>57.776170</td>\n",
       "      <td>NaN</td>\n",
       "    </tr>\n",
       "    <tr>\n",
       "      <th>WSM</th>\n",
       "      <td>2</td>\n",
       "      <td>2</td>\n",
       "      <td>8.2</td>\n",
       "      <td>0.684525</td>\n",
       "      <td>48.396318</td>\n",
       "      <td>72.130683</td>\n",
       "      <td>56.466703</td>\n",
       "      <td>NaN</td>\n",
       "    </tr>\n",
       "    <tr>\n",
       "      <th rowspan=\"6\" valign=\"top\">2010</th>\n",
       "      <th>FJI</th>\n",
       "      <td>4</td>\n",
       "      <td>6</td>\n",
       "      <td>NaN</td>\n",
       "      <td>0.946142</td>\n",
       "      <td>48.959593</td>\n",
       "      <td>69.384366</td>\n",
       "      <td>66.170903</td>\n",
       "      <td>0</td>\n",
       "    </tr>\n",
       "    <tr>\n",
       "      <th>GIN</th>\n",
       "      <td>5</td>\n",
       "      <td>5</td>\n",
       "      <td>NaN</td>\n",
       "      <td>2.730597</td>\n",
       "      <td>49.942592</td>\n",
       "      <td>56.305049</td>\n",
       "      <td>53.550087</td>\n",
       "      <td>0</td>\n",
       "    </tr>\n",
       "    <tr>\n",
       "      <th>LUX</th>\n",
       "      <td>1</td>\n",
       "      <td>1</td>\n",
       "      <td>20.0</td>\n",
       "      <td>1.825406</td>\n",
       "      <td>50.324776</td>\n",
       "      <td>80.631707</td>\n",
       "      <td>68.362969</td>\n",
       "      <td>NaN</td>\n",
       "    </tr>\n",
       "    <tr>\n",
       "      <th>NER</th>\n",
       "      <td>4</td>\n",
       "      <td>5</td>\n",
       "      <td>NaN</td>\n",
       "      <td>3.878552</td>\n",
       "      <td>49.658200</td>\n",
       "      <td>58.259000</td>\n",
       "      <td>47.517486</td>\n",
       "      <td>0</td>\n",
       "    </tr>\n",
       "    <tr>\n",
       "      <th>SSD</th>\n",
       "      <td>NaN</td>\n",
       "      <td>NaN</td>\n",
       "      <td>NaN</td>\n",
       "      <td>4.404235</td>\n",
       "      <td>50.013787</td>\n",
       "      <td>53.664902</td>\n",
       "      <td>53.276511</td>\n",
       "      <td>NaN</td>\n",
       "    </tr>\n",
       "    <tr>\n",
       "      <th>TZA</th>\n",
       "      <td>3</td>\n",
       "      <td>3</td>\n",
       "      <td>NaN</td>\n",
       "      <td>3.174634</td>\n",
       "      <td>50.346737</td>\n",
       "      <td>61.625610</td>\n",
       "      <td>51.791172</td>\n",
       "      <td>0</td>\n",
       "    </tr>\n",
       "    <tr>\n",
       "      <th rowspan=\"6\" valign=\"top\">2011</th>\n",
       "      <th>FJI</th>\n",
       "      <td>4</td>\n",
       "      <td>6</td>\n",
       "      <td>NaN</td>\n",
       "      <td>0.853949</td>\n",
       "      <td>48.983832</td>\n",
       "      <td>69.565000</td>\n",
       "      <td>66.001058</td>\n",
       "      <td>0</td>\n",
       "    </tr>\n",
       "    <tr>\n",
       "      <th>GIN</th>\n",
       "      <td>5</td>\n",
       "      <td>5</td>\n",
       "      <td>NaN</td>\n",
       "      <td>2.722622</td>\n",
       "      <td>49.926862</td>\n",
       "      <td>57.000537</td>\n",
       "      <td>53.672867</td>\n",
       "      <td>0</td>\n",
       "    </tr>\n",
       "    <tr>\n",
       "      <th>HRV</th>\n",
       "      <td>2</td>\n",
       "      <td>1</td>\n",
       "      <td>23.8</td>\n",
       "      <td>NaN</td>\n",
       "      <td>51.791799</td>\n",
       "      <td>76.775610</td>\n",
       "      <td>66.783153</td>\n",
       "      <td>1</td>\n",
       "    </tr>\n",
       "    <tr>\n",
       "      <th>LBY</th>\n",
       "      <td>6</td>\n",
       "      <td>7</td>\n",
       "      <td>NaN</td>\n",
       "      <td>0.365690</td>\n",
       "      <td>48.984059</td>\n",
       "      <td>71.683268</td>\n",
       "      <td>66.610428</td>\n",
       "      <td>0</td>\n",
       "    </tr>\n",
       "    <tr>\n",
       "      <th>LUX</th>\n",
       "      <td>1</td>\n",
       "      <td>1</td>\n",
       "      <td>25.0</td>\n",
       "      <td>2.222661</td>\n",
       "      <td>50.218373</td>\n",
       "      <td>80.987805</td>\n",
       "      <td>68.642123</td>\n",
       "      <td>NaN</td>\n",
       "    </tr>\n",
       "    <tr>\n",
       "      <th>ZAR</th>\n",
       "      <td>6</td>\n",
       "      <td>6</td>\n",
       "      <td>NaN</td>\n",
       "      <td>3.206612</td>\n",
       "      <td>50.189905</td>\n",
       "      <td>57.398634</td>\n",
       "      <td>50.620616</td>\n",
       "      <td>1</td>\n",
       "    </tr>\n",
       "    <tr>\n",
       "      <th rowspan=\"5\" valign=\"top\">2012</th>\n",
       "      <th>FJI</th>\n",
       "      <td>4</td>\n",
       "      <td>6</td>\n",
       "      <td>NaN</td>\n",
       "      <td>0.784507</td>\n",
       "      <td>49.019742</td>\n",
       "      <td>69.743220</td>\n",
       "      <td>65.855257</td>\n",
       "      <td>0</td>\n",
       "    </tr>\n",
       "    <tr>\n",
       "      <th>GHA</th>\n",
       "      <td>2</td>\n",
       "      <td>1</td>\n",
       "      <td>NaN</td>\n",
       "      <td>2.441273</td>\n",
       "      <td>50.452251</td>\n",
       "      <td>60.977024</td>\n",
       "      <td>57.553495</td>\n",
       "      <td>0</td>\n",
       "    </tr>\n",
       "    <tr>\n",
       "      <th>GIN</th>\n",
       "      <td>5</td>\n",
       "      <td>5</td>\n",
       "      <td>NaN</td>\n",
       "      <td>2.723327</td>\n",
       "      <td>49.909307</td>\n",
       "      <td>57.637634</td>\n",
       "      <td>53.827375</td>\n",
       "      <td>0</td>\n",
       "    </tr>\n",
       "    <tr>\n",
       "      <th>LKA</th>\n",
       "      <td>4</td>\n",
       "      <td>5</td>\n",
       "      <td>5.8</td>\n",
       "      <td>NaN</td>\n",
       "      <td>51.564191</td>\n",
       "      <td>74.068049</td>\n",
       "      <td>66.774724</td>\n",
       "      <td>1</td>\n",
       "    </tr>\n",
       "    <tr>\n",
       "      <th>LUX</th>\n",
       "      <td>1</td>\n",
       "      <td>1</td>\n",
       "      <td>21.7</td>\n",
       "      <td>2.401542</td>\n",
       "      <td>50.101319</td>\n",
       "      <td>81.392683</td>\n",
       "      <td>68.906004</td>\n",
       "      <td>NaN</td>\n",
       "    </tr>\n",
       "    <tr>\n",
       "      <th rowspan=\"5\" valign=\"top\">2013</th>\n",
       "      <th>ARG</th>\n",
       "      <td>2</td>\n",
       "      <td>2</td>\n",
       "      <td>NaN</td>\n",
       "      <td>1.047065</td>\n",
       "      <td>51.078024</td>\n",
       "      <td>75.986098</td>\n",
       "      <td>63.834426</td>\n",
       "      <td>0</td>\n",
       "    </tr>\n",
       "    <tr>\n",
       "      <th>CAF</th>\n",
       "      <td>7</td>\n",
       "      <td>7</td>\n",
       "      <td>NaN</td>\n",
       "      <td>1.954537</td>\n",
       "      <td>50.720342</td>\n",
       "      <td>49.879878</td>\n",
       "      <td>56.420965</td>\n",
       "      <td>1</td>\n",
       "    </tr>\n",
       "    <tr>\n",
       "      <th>EGY</th>\n",
       "      <td>5</td>\n",
       "      <td>6</td>\n",
       "      <td>NaN</td>\n",
       "      <td>2.254326</td>\n",
       "      <td>49.487699</td>\n",
       "      <td>70.925780</td>\n",
       "      <td>62.240369</td>\n",
       "      <td>0</td>\n",
       "    </tr>\n",
       "    <tr>\n",
       "      <th>FJI</th>\n",
       "      <td>4</td>\n",
       "      <td>6</td>\n",
       "      <td>NaN</td>\n",
       "      <td>0.721403</td>\n",
       "      <td>49.063189</td>\n",
       "      <td>69.917927</td>\n",
       "      <td>65.713066</td>\n",
       "      <td>0</td>\n",
       "    </tr>\n",
       "    <tr>\n",
       "      <th>GIN</th>\n",
       "      <td>5</td>\n",
       "      <td>5</td>\n",
       "      <td>NaN</td>\n",
       "      <td>2.714272</td>\n",
       "      <td>49.891009</td>\n",
       "      <td>58.216488</td>\n",
       "      <td>54.003724</td>\n",
       "      <td>0</td>\n",
       "    </tr>\n",
       "  </tbody>\n",
       "</table>\n",
       "</div>"
      ],
      "text/plain": [
       "                  civil_liberties  political_rights  female_legislators  \\\n",
       "year countrycode                                                          \n",
       "2008 FJI                        4                 6                 NaN   \n",
       "     GIN                        5                 7                 NaN   \n",
       "     LUX                        1                 1                23.3   \n",
       "     MMR                        7                 7                 NaN   \n",
       "     SSD                      NaN               NaN                 NaN   \n",
       "     TKM                        7                 7                 NaN   \n",
       "     VUT                        2                 2                 3.8   \n",
       "2009 FJI                        4                 6                 NaN   \n",
       "     GIN                        6                 7                 NaN   \n",
       "     LUX                        1                 1                20.0   \n",
       "     MDG                        4                 6                 NaN   \n",
       "     MMR                        7                 7                 NaN   \n",
       "     SSD                      NaN               NaN                 NaN   \n",
       "     VUT                        2                 2                 3.8   \n",
       "     WSM                        2                 2                 8.2   \n",
       "2010 FJI                        4                 6                 NaN   \n",
       "     GIN                        5                 5                 NaN   \n",
       "     LUX                        1                 1                20.0   \n",
       "     NER                        4                 5                 NaN   \n",
       "     SSD                      NaN               NaN                 NaN   \n",
       "     TZA                        3                 3                 NaN   \n",
       "2011 FJI                        4                 6                 NaN   \n",
       "     GIN                        5                 5                 NaN   \n",
       "     HRV                        2                 1                23.8   \n",
       "     LBY                        6                 7                 NaN   \n",
       "     LUX                        1                 1                25.0   \n",
       "     ZAR                        6                 6                 NaN   \n",
       "2012 FJI                        4                 6                 NaN   \n",
       "     GHA                        2                 1                 NaN   \n",
       "     GIN                        5                 5                 NaN   \n",
       "     LKA                        4                 5                 5.8   \n",
       "     LUX                        1                 1                21.7   \n",
       "2013 ARG                        2                 2                 NaN   \n",
       "     CAF                        7                 7                 NaN   \n",
       "     EGY                        5                 6                 NaN   \n",
       "     FJI                        4                 6                 NaN   \n",
       "     GIN                        5                 5                 NaN   \n",
       "\n",
       "                  population_growth  population_female  life_expectancy  \\\n",
       "year countrycode                                                          \n",
       "2008 FJI                   1.010417          48.947707        69.022024   \n",
       "     GIN                   2.671069          49.966108        54.777585   \n",
       "     LUX                   1.787497          50.493425        80.539024   \n",
       "     MMR                   0.651129          51.176312        64.367610   \n",
       "     SSD                   4.362664          50.051550        52.593317   \n",
       "     TKM                   1.213341          50.724437        64.756073   \n",
       "     VUT                   2.416066          49.142388        70.254756   \n",
       "2009 FJI                   1.020386          48.947824        69.202854   \n",
       "     GIN                   2.728375          49.955495        55.556146   \n",
       "     LUX                   1.851775          50.416014        80.636585   \n",
       "     MDG                   2.814994          50.195519        62.918171   \n",
       "     MMR                   0.663518          51.184720        64.643561   \n",
       "     SSD                   4.403674          50.032723        53.122659   \n",
       "     VUT                   2.388536          49.191878        70.555829   \n",
       "     WSM                   0.684525          48.396318        72.130683   \n",
       "2010 FJI                   0.946142          48.959593        69.384366   \n",
       "     GIN                   2.730597          49.942592        56.305049   \n",
       "     LUX                   1.825406          50.324776        80.631707   \n",
       "     NER                   3.878552          49.658200        58.259000   \n",
       "     SSD                   4.404235          50.013787        53.664902   \n",
       "     TZA                   3.174634          50.346737        61.625610   \n",
       "2011 FJI                   0.853949          48.983832        69.565000   \n",
       "     GIN                   2.722622          49.926862        57.000537   \n",
       "     HRV                        NaN          51.791799        76.775610   \n",
       "     LBY                   0.365690          48.984059        71.683268   \n",
       "     LUX                   2.222661          50.218373        80.987805   \n",
       "     ZAR                   3.206612          50.189905        57.398634   \n",
       "2012 FJI                   0.784507          49.019742        69.743220   \n",
       "     GHA                   2.441273          50.452251        60.977024   \n",
       "     GIN                   2.723327          49.909307        57.637634   \n",
       "     LKA                        NaN          51.564191        74.068049   \n",
       "     LUX                   2.401542          50.101319        81.392683   \n",
       "2013 ARG                   1.047065          51.078024        75.986098   \n",
       "     CAF                   1.954537          50.720342        49.879878   \n",
       "     EGY                   2.254326          49.487699        70.925780   \n",
       "     FJI                   0.721403          49.063189        69.917927   \n",
       "     GIN                   2.714272          49.891009        58.216488   \n",
       "\n",
       "                  population_15_64  zscores  \n",
       "year countrycode                             \n",
       "2008 FJI                 65.706245        0  \n",
       "     GIN                 53.134073        0  \n",
       "     LUX                 67.877191      NaN  \n",
       "     MMR                 64.768113        0  \n",
       "     SSD                 52.863172      NaN  \n",
       "     TKM                 65.247102        0  \n",
       "     VUT                 57.801496      NaN  \n",
       "2009 FJI                 65.938529        0  \n",
       "     GIN                 53.333078        0  \n",
       "     LUX                 68.143119      NaN  \n",
       "     MDG                 53.386568        0  \n",
       "     MMR                 64.959838        1  \n",
       "     SSD                 53.048921      NaN  \n",
       "     VUT                 57.776170      NaN  \n",
       "     WSM                 56.466703      NaN  \n",
       "2010 FJI                 66.170903        0  \n",
       "     GIN                 53.550087        0  \n",
       "     LUX                 68.362969      NaN  \n",
       "     NER                 47.517486        0  \n",
       "     SSD                 53.276511      NaN  \n",
       "     TZA                 51.791172        0  \n",
       "2011 FJI                 66.001058        0  \n",
       "     GIN                 53.672867        0  \n",
       "     HRV                 66.783153        1  \n",
       "     LBY                 66.610428        0  \n",
       "     LUX                 68.642123      NaN  \n",
       "     ZAR                 50.620616        1  \n",
       "2012 FJI                 65.855257        0  \n",
       "     GHA                 57.553495        0  \n",
       "     GIN                 53.827375        0  \n",
       "     LKA                 66.774724        1  \n",
       "     LUX                 68.906004      NaN  \n",
       "2013 ARG                 63.834426        0  \n",
       "     CAF                 56.420965        1  \n",
       "     EGY                 62.240369        0  \n",
       "     FJI                 65.713066        0  \n",
       "     GIN                 54.003724        0  "
      ]
     },
     "execution_count": 329,
     "metadata": {},
     "output_type": "execute_result"
    }
   ],
   "source": [
    "#The rows to be dropped\n",
    "full_data[full_data.isnull().any(axis=1)]"
   ]
  },
  {
   "cell_type": "code",
   "execution_count": 330,
   "metadata": {
    "collapsed": true
   },
   "outputs": [],
   "source": [
    "full_data = full_data.dropna()"
   ]
  },
  {
   "cell_type": "code",
   "execution_count": 331,
   "metadata": {
    "collapsed": false,
    "scrolled": false
   },
   "outputs": [],
   "source": [
    "#Get Z scores of rows\n",
    "#for col in x_cols:\n",
    "#    full_data[col] = full_data[col].astype(float)\n",
    "#    full_data[col] = (full_data[col] - full_data[col].mean())/full_data[col].std(ddof=0)\n"
   ]
  },
  {
   "cell_type": "markdown",
   "metadata": {},
   "source": [
    "#### Get the score values WITHOUT cross validating "
   ]
  },
  {
   "cell_type": "code",
   "execution_count": 437,
   "metadata": {
    "collapsed": false
   },
   "outputs": [],
   "source": [
    "def getScoreValues(X_train, \n",
    "                   X_test, \n",
    "                   y_train, \n",
    "                   y_test, \n",
    "                   model=KNeighborsClassifier(n_neighbors=6), \n",
    "                   verbose=True, \n",
    "                   get_features=True,\n",
    "                   get_prediction=False\n",
    "                  ):\n",
    "    y_test_index=y_test.index\n",
    "    \n",
    "    model = model\n",
    "    model.fit(X_train, y_train)\n",
    "    y_pred = model.predict(X_test)\n",
    "    \n",
    "    accuracy_score_value = accuracy_score(y_test, y_pred)\n",
    "    precision_score_value = precision_score(y_test, y_pred)\n",
    "    recall_score_value = recall_score(y_test, y_pred)\n",
    "    f1_score_value = f1_score(y_test, y_pred)  \n",
    "    roc_auc_value = roc_auc_score(y_test,y_pred)\n",
    "    \n",
    "    feature_importances = None\n",
    "    if get_features:\n",
    "        try:\n",
    "            feature_importances = model.feature_importances_\n",
    "            #print(feature_importances)\n",
    "        except AttributeError:\n",
    "            pass\n",
    "    \n",
    "    if verbose:\n",
    "        #print(pd.concat([y_test,pd.Series(y_pred, index=y_test.index)], axis = 1))\n",
    "        print('Accuracy: {}\\nPrecision: {}\\nRecall: {}\\nf1: {}\\nROC AUC: ()'.format(accuracy_score_value, \\\n",
    "                                                                       precision_score_value, \\\n",
    "                                                                       recall_score_value, \\\n",
    "                                                                       f1_score_value, \\\n",
    "                                                                       roc_auc_value))\n",
    "    elif get_prediction:\n",
    "        y_pred=pd.Series(y_pred, index=y_test_index)\n",
    "        return y_pred\n",
    "        \n",
    "    else:\n",
    "        return accuracy_score_value, \\\n",
    "               precision_score_value, \\\n",
    "               recall_score_value, \\\n",
    "               f1_score_value, \\\n",
    "               roc_auc_value, \\\n",
    "               feature_importances"
   ]
  },
  {
   "cell_type": "code",
   "execution_count": 333,
   "metadata": {
    "collapsed": false
   },
   "outputs": [],
   "source": [
    "X = full_data[x_cols]\n",
    "y = full_data['zscores']\n",
    "\n",
    "\n",
    "X_train, X_test, y_train, y_test = train_test_split(X, y, test_size = .30, random_state=4444)"
   ]
  },
  {
   "cell_type": "code",
   "execution_count": 334,
   "metadata": {
    "collapsed": false
   },
   "outputs": [
    {
     "name": "stdout",
     "output_type": "stream",
     "text": [
      "Accuracy: 0.9015873015873016\n",
      "Precision: 0.6296296296296297\n",
      "Recall: 0.7555555555555555\n",
      "f1: 0.6868686868686867\n",
      "ROC AUC: ()\n"
     ]
    }
   ],
   "source": [
    "getScoreValues(X_train, X_test, y_train, y_test, DecisionTreeClassifier())"
   ]
  },
  {
   "cell_type": "code",
   "execution_count": 335,
   "metadata": {
    "collapsed": false
   },
   "outputs": [
    {
     "name": "stdout",
     "output_type": "stream",
     "text": [
      "Accuracy: 0.8571428571428571\n",
      "Precision: 0.0\n",
      "Recall: 0.0\n",
      "f1: 0.0\n",
      "ROC AUC: ()\n"
     ]
    },
    {
     "name": "stderr",
     "output_type": "stream",
     "text": [
      "/Users/kenn/anaconda/lib/python3.5/site-packages/sklearn/metrics/classification.py:1074: UndefinedMetricWarning: Precision is ill-defined and being set to 0.0 due to no predicted samples.\n",
      "  'precision', 'predicted', average, warn_for)\n",
      "/Users/kenn/anaconda/lib/python3.5/site-packages/sklearn/metrics/classification.py:1074: UndefinedMetricWarning: F-score is ill-defined and being set to 0.0 due to no predicted samples.\n",
      "  'precision', 'predicted', average, warn_for)\n"
     ]
    }
   ],
   "source": [
    "getScoreValues(X_train, X_test, y_train, y_test, BernoulliNB())"
   ]
  },
  {
   "cell_type": "code",
   "execution_count": 336,
   "metadata": {
    "collapsed": false
   },
   "outputs": [
    {
     "name": "stdout",
     "output_type": "stream",
     "text": [
      "Accuracy: 0.7492063492063492\n",
      "Precision: 0.3111111111111111\n",
      "Recall: 0.6222222222222222\n",
      "f1: 0.4148148148148148\n",
      "ROC AUC: ()\n"
     ]
    }
   ],
   "source": [
    "getScoreValues(X_train, X_test, y_train, y_test, GaussianNB())"
   ]
  },
  {
   "cell_type": "code",
   "execution_count": 337,
   "metadata": {
    "collapsed": false
   },
   "outputs": [
    {
     "name": "stdout",
     "output_type": "stream",
     "text": [
      "Accuracy: 0.9238095238095239\n",
      "Precision: 0.8\n",
      "Recall: 0.6222222222222222\n",
      "f1: 0.7000000000000001\n",
      "ROC AUC: ()\n"
     ]
    }
   ],
   "source": [
    "getScoreValues(X_train, X_test, y_train, y_test, model=SVC())"
   ]
  },
  {
   "cell_type": "code",
   "execution_count": 338,
   "metadata": {
    "collapsed": false
   },
   "outputs": [
    {
     "name": "stdout",
     "output_type": "stream",
     "text": [
      "Accuracy: 0.9174603174603174\n",
      "Precision: 0.7714285714285715\n",
      "Recall: 0.6\n",
      "f1: 0.675\n",
      "ROC AUC: ()\n"
     ]
    }
   ],
   "source": [
    "getScoreValues(X_train, X_test, y_train, y_test, model=RandomForestClassifier())"
   ]
  },
  {
   "cell_type": "markdown",
   "metadata": {},
   "source": [
    "#### Print the ROC curve for a model"
   ]
  },
  {
   "cell_type": "code",
   "execution_count": 339,
   "metadata": {
    "collapsed": true
   },
   "outputs": [],
   "source": [
    "def getROCcurve(X_train, X_test, y_train, y_test, model=KNeighborsClassifier(n_neighbors=6)):\n",
    "    model = model\n",
    "    model.fit(X_train, y_train)\n",
    "    y_scores = model.predict_proba(X_test)[:,1]\n",
    "    fpr, tpr, thresholds = roc_curve(y_test, y_scores)\n",
    "\n",
    "    auc = roc_auc_score(y_test, y_scores)\n",
    "    print('AUC: {}'.format(auc))\n",
    "    \n",
    "    fig,ax = plt.subplots()\n",
    "    ax.plot(fpr, tpr, label='ROC Curve')\n",
    "\n",
    "    fig.set_size_inches(12, 8, forward=True)\n",
    "    plt.xlabel('FPR')\n",
    "    plt.ylabel('TPR')\n",
    "    plt.title('ROC Curve')\n",
    "    plt.legend(loc='best')"
   ]
  },
  {
   "cell_type": "code",
   "execution_count": 340,
   "metadata": {
    "collapsed": false,
    "scrolled": false
   },
   "outputs": [
    {
     "name": "stdout",
     "output_type": "stream",
     "text": [
      "AUC: 0.9538271604938271\n"
     ]
    },
    {
     "data": {
      "image/png": "[encoded data removed]",
      "text/plain": [
       "<matplotlib.figure.Figure at 0x10f8cf668>"
      ]
     },
     "metadata": {},
     "output_type": "display_data"
    }
   ],
   "source": [
    "getROCcurve(X_train, X_test, y_train, y_test, model=RandomForestClassifier())"
   ]
  },
  {
   "cell_type": "markdown",
   "metadata": {},
   "source": [
    "#### Cross Validate and Return Scores "
   ]
  },
  {
   "cell_type": "code",
   "execution_count": 341,
   "metadata": {
    "collapsed": true
   },
   "outputs": [],
   "source": [
    "def getScoreValuesByCV(X, y, model=KNeighborsClassifier(n_neighbors=1)):\n",
    "    \n",
    "    accuracy_score_value = np.mean(cross_val_score(model, X, y, scoring='accuracy', cv=5))\n",
    "    precision_score_value = np.mean(cross_val_score(model, X, y, scoring='precision', cv=5))\n",
    "    recall_score_value = np.mean(cross_val_score(model, X, y, scoring='recall', cv=5))\n",
    "    f1_score_value = np.mean(cross_val_score(model, X, y, scoring='f1', cv=5))\n",
    "    roc_auc_value = np.mean(cross_val_score(model, X, y, scoring='roc_auc', cv=5))\n",
    "    #roc_auc_value = 0  \n",
    "        \n",
    "    print('Accuracy: {}\\nPrecision: {}\\nRecall: {}\\nf1: {}\\nROC AUC: {}'.format(accuracy_score_value, \\\n",
    "                                                                   precision_score_value, \\\n",
    "                                                                   recall_score_value, \\\n",
    "                                                                   f1_score_value,\n",
    "                                                                   roc_auc_value))"
   ]
  },
  {
   "cell_type": "code",
   "execution_count": 342,
   "metadata": {
    "collapsed": false,
    "scrolled": false
   },
   "outputs": [
    {
     "name": "stdout",
     "output_type": "stream",
     "text": [
      "Accuracy: 0.9647202884419148\n",
      "Precision: 0.8726392961876833\n",
      "Recall: 0.897983870967742\n",
      "f1: 0.8842950890033432\n",
      "ROC AUC: 0.9372192909543374\n"
     ]
    }
   ],
   "source": [
    "getScoreValuesByCV(X,y)"
   ]
  },
  {
   "cell_type": "code",
   "execution_count": 343,
   "metadata": {
    "collapsed": false,
    "scrolled": false
   },
   "outputs": [
    {
     "name": "stdout",
     "output_type": "stream",
     "text": [
      "Accuracy: 0.9494274246581554\n",
      "Precision: 0.9077182077182078\n",
      "Recall: 0.6689516129032259\n",
      "f1: 0.7814942391973806\n",
      "ROC AUC: 0.9714285687167037\n"
     ]
    }
   ],
   "source": [
    "getScoreValuesByCV(X,y, model=RandomForestClassifier())"
   ]
  },
  {
   "cell_type": "code",
   "execution_count": 344,
   "metadata": {
    "collapsed": false
   },
   "outputs": [
    {
     "name": "stdout",
     "output_type": "stream",
     "text": [
      "Accuracy: 0.7207147554366313\n",
      "Precision: 0.28659782556715907\n",
      "Recall: 0.5798387096774194\n",
      "f1: 0.38337993592387665\n",
      "ROC AUC: 0.7184708855325689\n"
     ]
    }
   ],
   "source": [
    "getScoreValuesByCV(X,y, model=GaussianNB())"
   ]
  },
  {
   "cell_type": "code",
   "execution_count": 345,
   "metadata": {
    "collapsed": false,
    "scrolled": false
   },
   "outputs": [
    {
     "name": "stdout",
     "output_type": "stream",
     "text": [
      "Accuracy: 0.9351731331776231\n",
      "Precision: 0.8257792207792208\n",
      "Recall: 0.7570564516129032\n",
      "f1: 0.7797050971627243\n",
      "ROC AUC: 0.8644924634664409\n"
     ]
    }
   ],
   "source": [
    "getScoreValuesByCV(X,y, model=DecisionTreeClassifier())"
   ]
  },
  {
   "cell_type": "code",
   "execution_count": 346,
   "metadata": {
    "collapsed": false,
    "scrolled": false
   },
   "outputs": [
    {
     "name": "stdout",
     "output_type": "stream",
     "text": [
      "Accuracy: 0.8656069298623551\n",
      "Precision: 1.0\n",
      "Recall: 0.10221774193548387\n",
      "f1: 0.18270944741532977\n",
      "ROC AUC: 0.7415923711327682\n"
     ]
    }
   ],
   "source": [
    "getScoreValuesByCV(X,y, model=LogisticRegression())"
   ]
  },
  {
   "cell_type": "markdown",
   "metadata": {},
   "source": [
    "## Modeling with Over Sampling of Training Set"
   ]
  },
  {
   "cell_type": "code",
   "execution_count": 347,
   "metadata": {
    "collapsed": true
   },
   "outputs": [],
   "source": [
    "def oversample_data(X_t, y_t, ratio):\n",
    "    x_columns = X_t.columns\n",
    "    \n",
    "    X_t = X_t.reset_index(drop=True).as_matrix()\n",
    "    y_t = y_t.reset_index(drop=True).as_matrix()\n",
    "\n",
    "    smote = OverSampler(ratio=ratio, verbose=False)\n",
    "    smox, smoy = smote.fit_transform(X_t, y_t)\n",
    "    X_t = pd.DataFrame(smox, columns=x_columns)\n",
    "    y_t = pd.Series(smoy)\n",
    "    return X_t, y_t\n"
   ]
  },
  {
   "cell_type": "code",
   "execution_count": 348,
   "metadata": {
    "collapsed": false
   },
   "outputs": [],
   "source": [
    "X = full_data[x_cols]\n",
    "y = full_data['zscores']\n",
    "\n",
    "X_train, X_test, y_train, y_test = train_test_split(X, y, test_size = .30, random_state=4444)"
   ]
  },
  {
   "cell_type": "code",
   "execution_count": 349,
   "metadata": {
    "collapsed": false
   },
   "outputs": [],
   "source": [
    "verbose = False\n",
    "ratio = float(y.value_counts()[0]) / float(y.value_counts()[1])\n",
    "\n",
    "X_train, y_train = oversample_data(X_train, y_train, ratio)"
   ]
  },
  {
   "cell_type": "code",
   "execution_count": 350,
   "metadata": {
    "collapsed": false
   },
   "outputs": [
    {
     "name": "stdout",
     "output_type": "stream",
     "text": [
      "Accuracy: 0.8888888888888888\n",
      "Precision: 0.5714285714285714\n",
      "Recall: 0.8888888888888888\n",
      "f1: 0.6956521739130435\n",
      "ROC AUC: ()\n"
     ]
    }
   ],
   "source": [
    "getScoreValues(X_train, X_test, y_train, y_test)"
   ]
  },
  {
   "cell_type": "code",
   "execution_count": 351,
   "metadata": {
    "collapsed": false
   },
   "outputs": [
    {
     "name": "stdout",
     "output_type": "stream",
     "text": [
      "Accuracy: 0.9428571428571428\n",
      "Precision: 0.7872340425531915\n",
      "Recall: 0.8222222222222222\n",
      "f1: 0.8043478260869565\n",
      "ROC AUC: ()\n"
     ]
    }
   ],
   "source": [
    "getScoreValues(X_train, X_test, y_train, y_test, model=RandomForestClassifier())"
   ]
  },
  {
   "cell_type": "code",
   "execution_count": 352,
   "metadata": {
    "collapsed": false
   },
   "outputs": [
    {
     "name": "stdout",
     "output_type": "stream",
     "text": [
      "Accuracy: 0.7873015873015873\n",
      "Precision: 0.21052631578947367\n",
      "Recall: 0.17777777777777778\n",
      "f1: 0.19277108433734938\n",
      "ROC AUC: ()\n"
     ]
    }
   ],
   "source": [
    "getScoreValues(X_train, X_test, y_train, y_test, model=BernoulliNB())"
   ]
  },
  {
   "cell_type": "code",
   "execution_count": 353,
   "metadata": {
    "collapsed": false,
    "scrolled": true
   },
   "outputs": [
    {
     "name": "stdout",
     "output_type": "stream",
     "text": [
      "Accuracy: 0.6063492063492063\n",
      "Precision: 0.2074074074074074\n",
      "Recall: 0.6222222222222222\n",
      "f1: 0.3111111111111111\n",
      "ROC AUC: ()\n"
     ]
    }
   ],
   "source": [
    "getScoreValues(X_train, X_test, y_train, y_test, model=GaussianNB())"
   ]
  },
  {
   "cell_type": "code",
   "execution_count": 354,
   "metadata": {
    "collapsed": false
   },
   "outputs": [
    {
     "name": "stdout",
     "output_type": "stream",
     "text": [
      "Accuracy: 0.9142857142857143\n",
      "Precision: 0.68\n",
      "Recall: 0.7555555555555555\n",
      "f1: 0.7157894736842104\n",
      "ROC AUC: ()\n"
     ]
    }
   ],
   "source": [
    "getScoreValues(X_train, X_test, y_train, y_test, model=DecisionTreeClassifier())"
   ]
  },
  {
   "cell_type": "code",
   "execution_count": 355,
   "metadata": {
    "collapsed": false,
    "scrolled": false
   },
   "outputs": [
    {
     "name": "stdout",
     "output_type": "stream",
     "text": [
      "Accuracy: 0.6984126984126984\n",
      "Precision: 0.2549019607843137\n",
      "Recall: 0.5777777777777777\n",
      "f1: 0.35374149659863946\n",
      "ROC AUC: ()\n"
     ]
    }
   ],
   "source": [
    "getScoreValues(X_train, X_test, y_train, y_test, model=LogisticRegression())"
   ]
  },
  {
   "cell_type": "markdown",
   "metadata": {},
   "source": [
    "## Confusion Matrix"
   ]
  },
  {
   "cell_type": "code",
   "execution_count": 356,
   "metadata": {
    "collapsed": true
   },
   "outputs": [],
   "source": [
    "def plot_confusion_matrix(cm, title='Confusion matrix', cmap=plt.cm.Blues):\n",
    "    plt.imshow(cm, interpolation='nearest', cmap=cmap)\n",
    "    plt.title(title)\n",
    "    plt.colorbar()\n",
    "    plt.grid(False)\n",
    "    tick_marks = np.arange(2)\n",
    "    plt.xticks(tick_marks, ['Not at Risk', 'At Risk'], rotation=45)\n",
    "    plt.yticks(tick_marks, ['Not at Risk', 'At Risk'])\n",
    "    plt.tight_layout()\n",
    "    plt.ylabel('True label')\n",
    "    plt.xlabel('Predicted label')"
   ]
  },
  {
   "cell_type": "markdown",
   "metadata": {},
   "source": [
    "## Cross validate with or without oversampling"
   ]
  },
  {
   "cell_type": "markdown",
   "metadata": {},
   "source": [
    "## getCrossValScoresBySSS\n",
    "\n",
    "This class is instantiated by doing the following:\n",
    "    \n",
    "    yourinstance = getCrossValScoresBySSS(X, y, test_size=0.3, n_iter=30)\n",
    "    \n",
    "Where:\n",
    "* X is a pandas dataframe of the features\n",
    "* y is a series of the classifiers\n",
    "* test_size is the test size for the train/test splits\n",
    "* n_iter is the number of iterations for cross validation\n",
    "\n",
    "This object has the following methods:\n",
    "\n",
    "    yourinstance.get_multi_models(oversample=True, year=None, year_delta=0)\n",
    "    \n",
    "    yourinstance.get_single_model(model=KNeighborsClassifier(n_neighbors=2), oversample=True, year=None, year_delta,  get_models_avg=False, get_features=True, get_cm=False, verbose=True)\n",
    "    \n",
    "    future_crisis_countries(model=KNeighborsClassifier(n_neighbors=2), oversample=True,year=None,year_delta=0)\n",
    "\n",
    "### get_multi_models\n",
    "\n",
    "    yourinstance.get_multi_models(oversample=True, year=None, year_delta=0)\n",
    "\n",
    "Where:\n",
    "* oversample is a boolean that determines if SMOTE should be performed on the training sets for each cross validation\n",
    "* year is the starting year for which features will be examined\n",
    "* year_delta is used in the equation predicted_year = year + year_delta \n",
    "\n",
    "This returns a dataframe with the Accuracy, Precision, Recall, F1, and ROC AUC scores for various models.\n",
    "\n",
    "### get_single_model\n",
    "\n",
    "    yourinstance.get_single_model(model=KNeighborsClassifier(n_neighbors=2), oversample=True, year=None, year_delta=0,  get_features=True, get_cm=False, verbose=True)\n",
    "    \n",
    "Where:\n",
    "* model is the model to be attempted on the data\n",
    "* oversample is a boolean that determines if SMOTE should be performed on the training sets for each cross validation\n",
    "* year is the starting year for which features will be examined\n",
    "* year_delta is used in the equation predicted_year = year + year_delta \n",
    "* get_features is a boolean value. If True it will attempt to get the feature importances of the model.\n",
    "* get_cm is a boolean value. If True it will output a confusion matrix of the model (or the average prediction).\n",
    "* verbose is a boolean value. If True it will print out the score values for Accuracy, Precision, Recall, F1, and ROC AUC. If False it will just return them.\n",
    "\n",
    "### future_crisis_countries\n",
    "\n",
    "    future_crisis_countries(model=KNeighborsClassifier(n_neighbors=2), oversample=True,year=None,year_delta=0)\n",
    "\n",
    "Where:\n",
    "* model is the model to be attempted on the data\n",
    "* oversample is a boolean that determines if SMOTE should be performed on the training sets for each cross validation\n",
    "* year is the starting year for which features will be examined\n",
    "* year_delta is used in the equation predicted_year = year + year_delta \n"
   ]
  },
  {
   "cell_type": "code",
   "execution_count": 458,
   "metadata": {
    "collapsed": false
   },
   "outputs": [],
   "source": [
    "class getCrossValScoresBySSS(object):\n",
    "    \n",
    "    def __init__(self, \n",
    "                 local_X, \n",
    "                 local_y,\n",
    "                 test_size=0.3,\n",
    "                 n_iter=50\n",
    "                ):\n",
    "        self.model_list = [\\\n",
    "                          KNeighborsClassifier(n_neighbors=2), \\\n",
    "                          SVC(), \\\n",
    "                          LogisticRegression(), \\\n",
    "                          BernoulliNB(), \\\n",
    "                          GaussianNB(), \\\n",
    "                          RandomForestClassifier(n_estimators=30), \\\n",
    "                          DecisionTreeClassifier() \\\n",
    "                          ]\n",
    "        \n",
    "        self.index_func = [\\\n",
    "                          'KNeighborsClassifier(n_neighbors=2)', \\\n",
    "                          'SVC()', \\\n",
    "                          'LogisticRegression()', \\\n",
    "                          'BernoulliNB()', \\\n",
    "                          'GaussianNB()', \\\n",
    "                          'RandomForestClassifier(n_estimators=30)', \\\n",
    "                          'DecisionTreeClassifier()' \\\n",
    "                          ]\n",
    "        \n",
    "        self.initialize_scores()\n",
    "        self.score_dict = {}\n",
    "        \n",
    "        self.X = local_X\n",
    "        self.y = local_y\n",
    "        self.x_cols = list(local_X.columns)\n",
    "        self.ratio = float(local_y.value_counts()[0]) / (float(local_y.value_counts()[1]))\n",
    "        self.sss = StratifiedShuffleSplit(y, n_iter=n_iter, test_size=test_size)\n",
    "    \n",
    "    def initialize_scores(self):\n",
    "        self.acc_array = []\n",
    "        self.prec_array = []\n",
    "        self.recall_array = []\n",
    "        self.f1_array = []\n",
    "        self.roc_auc_array = []\n",
    "        self.feature_imp_array = []\n",
    "        \n",
    "    def get_cm_pred(self, model, X_t, y_t, X_ts):\n",
    "        temp_model = model\n",
    "        temp_model.fit(X_t, y_t)\n",
    "        y_pd = temp_model.predict(X_ts)\n",
    "        return y_pd\n",
    "    \n",
    "    def test_conversion_for_year(self, year, y_delta):\n",
    "        #try:\n",
    "            new_year = year+y_delta\n",
    "            X_columns = self.X.columns\n",
    "            X_te = self.X.loc[year, :]\n",
    "            y_te = self.y.loc[new_year, :]\n",
    "            y_te = y_te.reset_index('countrycode').reset_index(drop=True).set_index('countrycode')\n",
    "            full = pd.concat([X_te, y_te], axis=1)\n",
    "            full = full.dropna()\n",
    "            X_te = full[X_columns]\n",
    "            y_te = full['zscores']\n",
    "            return X_te, y_te\n",
    "\n",
    "        #except:\n",
    "         #   print('Bad Year')\n",
    "    \n",
    "    def set_score_arrays(self, oversample, year, year_delta, model, get_features):\n",
    "        for train_index, test_index in self.sss:\n",
    "            #print(\"TRAIN:\", train_index, \"TEST:\", test_index)\n",
    "            X_train, X_test = X.ix[train_index], X.ix[test_index]\n",
    "            y_train, y_test = y.ix[train_index], y.ix[test_index]\n",
    "\n",
    "            if oversample:\n",
    "                X_train, y_train = oversample_data(X_train, y_train, self.ratio)\n",
    "\n",
    "            if year != None:\n",
    "                X_test, y_test = self.test_conversion_for_year(year=year, y_delta=year_delta)\n",
    "\n",
    "            accuracy_score_value, precision_score_value, \\\n",
    "            recall_score_value, f1_score_value, roc_auc_value, \\\n",
    "            feature_importances = getScoreValues(X_train,\n",
    "                                                 X_test,\n",
    "                                                 y_train,\n",
    "                                                 y_test,\n",
    "                                                 model=model,\n",
    "                                                 verbose=False,\n",
    "                                                 get_features=get_features)\n",
    "\n",
    "            self.acc_array.append(accuracy_score_value)\n",
    "            self.prec_array.append(precision_score_value)\n",
    "            self.recall_array.append(recall_score_value)\n",
    "            self.f1_array.append(f1_score_value)\n",
    "            self.roc_auc_array.append(roc_auc_value)\n",
    "            self.feature_imp_array.append(feature_importances) \n",
    "    \n",
    "    def get_multi_models(self, oversample=True, year=None, year_delta=0):\n",
    "        self.score_dict = {}\n",
    "        models_acc = []\n",
    "        models_prec = []\n",
    "        models_rec = []\n",
    "        models_f1 = []\n",
    "        models_roc_auc = []\n",
    "        \n",
    "        col_names = ['Accuracy', 'Precision', 'Recall', 'F1', 'ROCAUC']\n",
    "        \n",
    "        for a_model in self.model_list:\n",
    "            self.initialize_scores()\n",
    "            \n",
    "            self.set_score_arrays(oversample=oversample,\n",
    "                                  year=year,\n",
    "                                  year_delta=year_delta,\n",
    "                                  model=a_model,\n",
    "                                  get_features=False)\n",
    "                \n",
    "            mean_acc = np.mean(self.acc_array)\n",
    "            mean_prec = np.mean(self.prec_array)\n",
    "            mean_recall = np.mean(self.recall_array)\n",
    "            mean_f1 = np.mean(self.f1_array)\n",
    "            mean_roc_auc = np.mean(self.roc_auc_array)\n",
    "            \n",
    "            models_acc.append(mean_acc)\n",
    "            models_prec.append(mean_prec)\n",
    "            models_rec.append(mean_recall)\n",
    "            models_f1.append(mean_f1)\n",
    "            models_roc_auc.append(mean_roc_auc)\n",
    "            \n",
    "        self.score_dict['Accuracy'] = models_acc\n",
    "        self.score_dict['Precision'] = models_prec\n",
    "        self.score_dict['Recall'] = models_rec\n",
    "        self.score_dict['F1'] = models_f1\n",
    "        self.score_dict['ROCAUC'] = models_roc_auc\n",
    "        \n",
    "        df = pd.DataFrame(self.score_dict, columns=col_names, index=self.index_func)\n",
    "        return df\n",
    "    \n",
    "    def get_single_model(self,\n",
    "                         model=KNeighborsClassifier(n_neighbors=2),\n",
    "                         oversample=True,\n",
    "                         year=None,\n",
    "                         year_delta=0,\n",
    "                         get_features=True,\n",
    "                         get_cm=False,\n",
    "                         verbose=True\n",
    "                        ):\n",
    "        \n",
    "        self.initialize_scores()\n",
    "        \n",
    "        self.set_score_arrays(oversample=oversample,\n",
    "                              year=year,\n",
    "                              year_delta=year_delta,\n",
    "                              model=model,\n",
    "                              get_features=get_features) \n",
    "            \n",
    "        if get_cm:\n",
    "            # For getting a confusion matrix of the last model in the cross validated set\n",
    "            y_pred = self.get_cm_pred(model, X_train, y_train, X_test)\n",
    "            cm = confusion_matrix(y_test, y_pred)\n",
    "            plt.figure()\n",
    "            plot_confusion_matrix(cm)\n",
    "\n",
    "        mean_acc = np.mean(self.acc_array)\n",
    "        mean_prec = np.mean(self.prec_array)\n",
    "        mean_recall = np.mean(self.recall_array)\n",
    "        mean_f1 = np.mean(self.f1_array)\n",
    "        mean_roc_auc = np.mean(self.roc_auc_array)\n",
    "        try:\n",
    "            mean_feature_imp = np.mean(self.feature_imp_array, axis=0)\n",
    "        except TypeError:\n",
    "            mean_feature_imp = None\n",
    "               \n",
    "        if verbose:\n",
    "            print('Avg Feature Importance: {}'.format(mean_feature_imp))\n",
    "            print('Accuracy: {}\\nPrecision: {}\\nRecall: {}\\nf1: {}\\nROC AUC: {}'.format(mean_acc, \\\n",
    "                                                                                        mean_prec, \\\n",
    "                                                                                        mean_recall,\\\n",
    "                                                                                        mean_f1, \\\n",
    "                                                                                        mean_roc_auc))\n",
    "\n",
    "        else:\n",
    "            return mean_acc, mean_prec, mean_recall, mean_f1, mean_roc_auc\n",
    "        \n",
    "    def future_crisis_countries(self,\n",
    "                                model=KNeighborsClassifier(n_neighbors=2),\n",
    "                                oversample=True,\n",
    "                                year=None,\n",
    "                                year_delta=0):\n",
    "        \n",
    "        for train_index, test_index in self.sss:\n",
    "            #print(\"TRAIN:\", train_index, \"TEST:\", test_index)\n",
    "            X_train, X_test = X.ix[train_index], X.ix[test_index]\n",
    "            y_train, y_test = y.ix[train_index], y.ix[test_index]\n",
    "\n",
    "            if oversample:\n",
    "                X_train, y_train = oversample_data(X_train, y_train, self.ratio)\n",
    "            \n",
    "            #Year prior is used later as the comparison between the desired year and its year prior\n",
    "            _,year_prior = self.test_conversion_for_year(year=year, y_delta=(year_delta-1))\n",
    "            if year != None:\n",
    "                X_test, y_test = self.test_conversion_for_year(year=year, y_delta=year_delta)\n",
    "            \n",
    "            prediction = getScoreValues(X_train, \n",
    "                                       X_test, \n",
    "                                       y_train, \n",
    "                                       y_test, \n",
    "                                       model=model, \n",
    "                                       verbose=False, \n",
    "                                       get_features=False,\n",
    "                                       get_prediction=True\n",
    "                                      )\n",
    "\n",
    "            year_prior.name='year_prior'\n",
    "            prediction.name='prediction'\n",
    "            compare_df = pd.concat([year_prior, prediction], axis=1)\n",
    "            compare_df = compare_df.dropna()\n",
    "            compare_df['net'] = compare_df.year_prior.subtract(compare_df.prediction)\n",
    "            future_crisis = compare_df[compare_df.net < 0]\n",
    "            print(future_crisis)\n",
    "            \n",
    "    \n",
    "    \n",
    "    "
   ]
  },
  {
   "cell_type": "code",
   "execution_count": 459,
   "metadata": {
    "collapsed": false
   },
   "outputs": [],
   "source": [
    "X = full_data[x_cols]\n",
    "y = full_data['zscores']"
   ]
  },
  {
   "cell_type": "markdown",
   "metadata": {},
   "source": [
    "## Scores for various models"
   ]
  },
  {
   "cell_type": "markdown",
   "metadata": {},
   "source": [
    "#### With oversampling"
   ]
  },
  {
   "cell_type": "code",
   "execution_count": 460,
   "metadata": {
    "collapsed": true
   },
   "outputs": [],
   "source": [
    "pol_modeling = getCrossValScoresBySSS(X,y)"
   ]
  },
  {
   "cell_type": "code",
   "execution_count": 461,
   "metadata": {
    "collapsed": false,
    "scrolled": false
   },
   "outputs": [
    {
     "name": "stdout",
     "output_type": "stream",
     "text": [
      "     year_prior  prediction  net\n",
      "AGO           0           1   -1\n",
      "TCD           0           1   -1\n",
      "     year_prior  prediction  net\n",
      "AGO           0           1   -1\n",
      "LCA           0           1   -1\n",
      "     year_prior  prediction  net\n",
      "AGO           0           1   -1\n",
      "MDV           0           1   -1\n",
      "     year_prior  prediction  net\n",
      "AGO           0           1   -1\n",
      "     year_prior  prediction  net\n",
      "AGO           0           1   -1\n",
      "     year_prior  prediction  net\n",
      "AGO           0           1   -1\n",
      "DZA           0           1   -1\n",
      "MDG           0           1   -1\n",
      "     year_prior  prediction  net\n",
      "AGO           0           1   -1\n",
      "     year_prior  prediction  net\n",
      "AGO           0           1   -1\n",
      "     year_prior  prediction  net\n",
      "AGO           0           1   -1\n",
      "     year_prior  prediction  net\n",
      "AGO           0           1   -1\n",
      "EST           0           1   -1\n",
      "     year_prior  prediction  net\n",
      "AGO           0           1   -1\n",
      "LBN           0           1   -1\n",
      "     year_prior  prediction  net\n",
      "AGO           0           1   -1\n",
      "COG           0           1   -1\n",
      "KEN           0           1   -1\n",
      "     year_prior  prediction  net\n",
      "AGO           0           1   -1\n",
      "     year_prior  prediction  net\n",
      "AGO           0           1   -1\n",
      "     year_prior  prediction  net\n",
      "AGO           0           1   -1\n",
      "GEO           0           1   -1\n",
      "     year_prior  prediction  net\n",
      "AGO           0           1   -1\n",
      "     year_prior  prediction  net\n",
      "AGO           0           1   -1\n",
      "     year_prior  prediction  net\n",
      "AGO           0           1   -1\n",
      "     year_prior  prediction  net\n",
      "AGO           0           1   -1\n",
      "     year_prior  prediction  net\n",
      "AGO           0           1   -1\n",
      "     year_prior  prediction  net\n",
      "AGO           0           1   -1\n",
      "     year_prior  prediction  net\n",
      "AGO           0           1   -1\n",
      "     year_prior  prediction  net\n",
      "AGO           0           1   -1\n",
      "COG           0           1   -1\n",
      "     year_prior  prediction  net\n",
      "AGO           0           1   -1\n",
      "     year_prior  prediction  net\n",
      "AGO           0           1   -1\n",
      "     year_prior  prediction  net\n",
      "AGO           0           1   -1\n",
      "ROM           0           1   -1\n",
      "     year_prior  prediction  net\n",
      "AGO           0           1   -1\n",
      "     year_prior  prediction  net\n",
      "AGO           0           1   -1\n",
      "SLE           0           1   -1\n",
      "     year_prior  prediction  net\n",
      "AGO           0           1   -1\n",
      "     year_prior  prediction  net\n",
      "AGO           0           1   -1\n",
      "TCD           0           1   -1\n",
      "     year_prior  prediction  net\n",
      "AGO           0           1   -1\n",
      "ETH           0           1   -1\n",
      "TCD           0           1   -1\n",
      "     year_prior  prediction  net\n",
      "AGO           0           1   -1\n",
      "     year_prior  prediction  net\n",
      "AGO           0           1   -1\n",
      "BGR           0           1   -1\n",
      "     year_prior  prediction  net\n",
      "AGO           0           1   -1\n",
      "     year_prior  prediction  net\n",
      "AGO           0           1   -1\n",
      "COG           0           1   -1\n",
      "LCA           0           1   -1\n",
      "     year_prior  prediction  net\n",
      "AGO           0           1   -1\n",
      "ZMB           0           1   -1\n",
      "     year_prior  prediction  net\n",
      "AGO           0           1   -1\n",
      "     year_prior  prediction  net\n",
      "AGO           0           1   -1\n",
      "TCD           0           1   -1\n",
      "     year_prior  prediction  net\n",
      "AGO           0           1   -1\n",
      "     year_prior  prediction  net\n",
      "AGO           0           1   -1\n",
      "EST           0           1   -1\n",
      "ROM           0           1   -1\n",
      "     year_prior  prediction  net\n",
      "AGO           0           1   -1\n",
      "BGR           0           1   -1\n",
      "     year_prior  prediction  net\n",
      "AGO           0           1   -1\n",
      "     year_prior  prediction  net\n",
      "AGO           0           1   -1\n",
      "     year_prior  prediction  net\n",
      "AGO           0           1   -1\n",
      "     year_prior  prediction  net\n",
      "AGO           0           1   -1\n",
      "SLE           0           1   -1\n",
      "     year_prior  prediction  net\n",
      "AGO           0           1   -1\n",
      "     year_prior  prediction  net\n",
      "AGO           0           1   -1\n",
      "COG           0           1   -1\n",
      "     year_prior  prediction  net\n",
      "AGO           0           1   -1\n",
      "     year_prior  prediction  net\n",
      "AGO           0           1   -1\n",
      "     year_prior  prediction  net\n",
      "AGO           0           1   -1\n"
     ]
    }
   ],
   "source": [
    "pol_modeling.future_crisis_countries(year=2011, year_delta=2)"
   ]
  },
  {
   "cell_type": "code",
   "execution_count": 398,
   "metadata": {
    "collapsed": false,
    "scrolled": true
   },
   "outputs": [
    {
     "data": {
      "text/html": [
       "<div>\n",
       "<table border=\"1\" class=\"dataframe\">\n",
       "  <thead>\n",
       "    <tr style=\"text-align: right;\">\n",
       "      <th></th>\n",
       "      <th>Accuracy</th>\n",
       "      <th>Precision</th>\n",
       "      <th>Recall</th>\n",
       "      <th>F1</th>\n",
       "      <th>ROCAUC</th>\n",
       "    </tr>\n",
       "  </thead>\n",
       "  <tbody>\n",
       "    <tr>\n",
       "      <th>KNeighborsClassifier(n_neighbors=2)</th>\n",
       "      <td>0.952889</td>\n",
       "      <td>0.830227</td>\n",
       "      <td>0.864681</td>\n",
       "      <td>0.845039</td>\n",
       "      <td>0.916520</td>\n",
       "    </tr>\n",
       "    <tr>\n",
       "      <th>SVC()</th>\n",
       "      <td>0.955175</td>\n",
       "      <td>0.854650</td>\n",
       "      <td>0.846809</td>\n",
       "      <td>0.848831</td>\n",
       "      <td>0.910494</td>\n",
       "    </tr>\n",
       "    <tr>\n",
       "      <th>LogisticRegression()</th>\n",
       "      <td>0.661524</td>\n",
       "      <td>0.255206</td>\n",
       "      <td>0.660851</td>\n",
       "      <td>0.367707</td>\n",
       "      <td>0.661246</td>\n",
       "    </tr>\n",
       "    <tr>\n",
       "      <th>BernoulliNB()</th>\n",
       "      <td>0.785714</td>\n",
       "      <td>0.240333</td>\n",
       "      <td>0.182979</td>\n",
       "      <td>0.197596</td>\n",
       "      <td>0.537198</td>\n",
       "    </tr>\n",
       "    <tr>\n",
       "      <th>GaussianNB()</th>\n",
       "      <td>0.579111</td>\n",
       "      <td>0.210063</td>\n",
       "      <td>0.662128</td>\n",
       "      <td>0.318679</td>\n",
       "      <td>0.613340</td>\n",
       "    </tr>\n",
       "    <tr>\n",
       "      <th>RandomForestClassifier(n_estimators=30)</th>\n",
       "      <td>0.956762</td>\n",
       "      <td>0.865203</td>\n",
       "      <td>0.844681</td>\n",
       "      <td>0.853302</td>\n",
       "      <td>0.910549</td>\n",
       "    </tr>\n",
       "    <tr>\n",
       "      <th>DecisionTreeClassifier()</th>\n",
       "      <td>0.932254</td>\n",
       "      <td>0.785769</td>\n",
       "      <td>0.755745</td>\n",
       "      <td>0.768468</td>\n",
       "      <td>0.859477</td>\n",
       "    </tr>\n",
       "  </tbody>\n",
       "</table>\n",
       "</div>"
      ],
      "text/plain": [
       "                                         Accuracy  Precision    Recall  \\\n",
       "KNeighborsClassifier(n_neighbors=2)      0.952889   0.830227  0.864681   \n",
       "SVC()                                    0.955175   0.854650  0.846809   \n",
       "LogisticRegression()                     0.661524   0.255206  0.660851   \n",
       "BernoulliNB()                            0.785714   0.240333  0.182979   \n",
       "GaussianNB()                             0.579111   0.210063  0.662128   \n",
       "RandomForestClassifier(n_estimators=30)  0.956762   0.865203  0.844681   \n",
       "DecisionTreeClassifier()                 0.932254   0.785769  0.755745   \n",
       "\n",
       "                                               F1    ROCAUC  \n",
       "KNeighborsClassifier(n_neighbors=2)      0.845039  0.916520  \n",
       "SVC()                                    0.848831  0.910494  \n",
       "LogisticRegression()                     0.367707  0.661246  \n",
       "BernoulliNB()                            0.197596  0.537198  \n",
       "GaussianNB()                             0.318679  0.613340  \n",
       "RandomForestClassifier(n_estimators=30)  0.853302  0.910549  \n",
       "DecisionTreeClassifier()                 0.768468  0.859477  "
      ]
     },
     "execution_count": 398,
     "metadata": {},
     "output_type": "execute_result"
    }
   ],
   "source": [
    "pol_modeling.get_multi_models()"
   ]
  },
  {
   "cell_type": "markdown",
   "metadata": {},
   "source": [
    "#### Without oversampling"
   ]
  },
  {
   "cell_type": "code",
   "execution_count": 361,
   "metadata": {
    "collapsed": false,
    "scrolled": true
   },
   "outputs": [
    {
     "name": "stderr",
     "output_type": "stream",
     "text": [
      "/Users/kenn/anaconda/lib/python3.5/site-packages/sklearn/metrics/classification.py:1074: UndefinedMetricWarning: Precision is ill-defined and being set to 0.0 due to no predicted samples.\n",
      "  'precision', 'predicted', average, warn_for)\n",
      "/Users/kenn/anaconda/lib/python3.5/site-packages/sklearn/metrics/classification.py:1074: UndefinedMetricWarning: F-score is ill-defined and being set to 0.0 due to no predicted samples.\n",
      "  'precision', 'predicted', average, warn_for)\n"
     ]
    },
    {
     "data": {
      "text/html": [
       "<div>\n",
       "<table border=\"1\" class=\"dataframe\">\n",
       "  <thead>\n",
       "    <tr style=\"text-align: right;\">\n",
       "      <th></th>\n",
       "      <th>Accuracy</th>\n",
       "      <th>Precision</th>\n",
       "      <th>Recall</th>\n",
       "      <th>F1</th>\n",
       "      <th>ROCAUC</th>\n",
       "    </tr>\n",
       "  </thead>\n",
       "  <tbody>\n",
       "    <tr>\n",
       "      <th>KNeighborsClassifier(n_neighbors=2)</th>\n",
       "      <td>0.933714</td>\n",
       "      <td>0.867747</td>\n",
       "      <td>0.658723</td>\n",
       "      <td>0.746120</td>\n",
       "      <td>0.820332</td>\n",
       "    </tr>\n",
       "    <tr>\n",
       "      <th>SVC()</th>\n",
       "      <td>0.939492</td>\n",
       "      <td>0.912225</td>\n",
       "      <td>0.659149</td>\n",
       "      <td>0.762346</td>\n",
       "      <td>0.823903</td>\n",
       "    </tr>\n",
       "    <tr>\n",
       "      <th>LogisticRegression()</th>\n",
       "      <td>0.864444</td>\n",
       "      <td>0.906198</td>\n",
       "      <td>0.102979</td>\n",
       "      <td>0.182045</td>\n",
       "      <td>0.550482</td>\n",
       "    </tr>\n",
       "    <tr>\n",
       "      <th>BernoulliNB()</th>\n",
       "      <td>0.850794</td>\n",
       "      <td>0.000000</td>\n",
       "      <td>0.000000</td>\n",
       "      <td>0.000000</td>\n",
       "      <td>0.500000</td>\n",
       "    </tr>\n",
       "    <tr>\n",
       "      <th>GaussianNB()</th>\n",
       "      <td>0.719365</td>\n",
       "      <td>0.282105</td>\n",
       "      <td>0.565532</td>\n",
       "      <td>0.375698</td>\n",
       "      <td>0.655938</td>\n",
       "    </tr>\n",
       "    <tr>\n",
       "      <th>RandomForestClassifier(n_estimators=30)</th>\n",
       "      <td>0.944000</td>\n",
       "      <td>0.883053</td>\n",
       "      <td>0.722553</td>\n",
       "      <td>0.792526</td>\n",
       "      <td>0.852695</td>\n",
       "    </tr>\n",
       "    <tr>\n",
       "      <th>DecisionTreeClassifier()</th>\n",
       "      <td>0.929587</td>\n",
       "      <td>0.761747</td>\n",
       "      <td>0.774894</td>\n",
       "      <td>0.766368</td>\n",
       "      <td>0.865805</td>\n",
       "    </tr>\n",
       "  </tbody>\n",
       "</table>\n",
       "</div>"
      ],
      "text/plain": [
       "                                         Accuracy  Precision    Recall  \\\n",
       "KNeighborsClassifier(n_neighbors=2)      0.933714   0.867747  0.658723   \n",
       "SVC()                                    0.939492   0.912225  0.659149   \n",
       "LogisticRegression()                     0.864444   0.906198  0.102979   \n",
       "BernoulliNB()                            0.850794   0.000000  0.000000   \n",
       "GaussianNB()                             0.719365   0.282105  0.565532   \n",
       "RandomForestClassifier(n_estimators=30)  0.944000   0.883053  0.722553   \n",
       "DecisionTreeClassifier()                 0.929587   0.761747  0.774894   \n",
       "\n",
       "                                               F1    ROCAUC  \n",
       "KNeighborsClassifier(n_neighbors=2)      0.746120  0.820332  \n",
       "SVC()                                    0.762346  0.823903  \n",
       "LogisticRegression()                     0.182045  0.550482  \n",
       "BernoulliNB()                            0.000000  0.500000  \n",
       "GaussianNB()                             0.375698  0.655938  \n",
       "RandomForestClassifier(n_estimators=30)  0.792526  0.852695  \n",
       "DecisionTreeClassifier()                 0.766368  0.865805  "
      ]
     },
     "execution_count": 361,
     "metadata": {},
     "output_type": "execute_result"
    }
   ],
   "source": [
    "pol_modeling.get_multi_models(oversample=False)"
   ]
  },
  {
   "cell_type": "markdown",
   "metadata": {},
   "source": [
    "#### KNN various n\n"
   ]
  },
  {
   "cell_type": "code",
   "execution_count": 399,
   "metadata": {
    "collapsed": false,
    "scrolled": false
   },
   "outputs": [
    {
     "name": "stdout",
     "output_type": "stream",
     "text": [
      "n =  1\n",
      "Avg Feature Importance: None\n",
      "Accuracy: 0.9554920634920636\n",
      "Precision: 0.8318930059410446\n",
      "Recall: 0.8825531914893616\n",
      "f1: 0.8549977188416509\n",
      "ROC AUC: 0.925418386789457\n",
      "\n",
      "\n",
      "n =  2\n",
      "Avg Feature Importance: None\n",
      "Accuracy: 0.95415873015873\n",
      "Precision: 0.8387063064189795\n",
      "Recall: 0.8642553191489363\n",
      "f1: 0.8491755949181352\n",
      "ROC AUC: 0.9170903461416323\n",
      "\n",
      "\n",
      "n =  3\n",
      "Avg Feature Importance: None\n",
      "Accuracy: 0.9307301587301586\n",
      "Precision: 0.7082650276696876\n",
      "Recall: 0.9238297872340426\n",
      "f1: 0.8003154575483954\n",
      "ROC AUC: 0.9278850428707528\n",
      "\n",
      "\n"
     ]
    },
    {
     "data": {
      "image/png": "[encoded data removed]",
      "text/plain": [
       "<matplotlib.figure.Figure at 0x1239df9e8>"
      ]
     },
     "metadata": {},
     "output_type": "display_data"
    },
    {
     "data": {
      "image/png": "[encoded data removed]",
      "text/plain": [
       "<matplotlib.figure.Figure at 0x1239f7f60>"
      ]
     },
     "metadata": {},
     "output_type": "display_data"
    },
    {
     "data": {
      "image/png": "[encoded data removed]",
      "text/plain": [
       "<matplotlib.figure.Figure at 0x123d397f0>"
      ]
     },
     "metadata": {},
     "output_type": "display_data"
    }
   ],
   "source": [
    "for n in range(1,4):\n",
    "    print('n = ', n)\n",
    "    pol_modeling.get_single_model(model=KNeighborsClassifier(n_neighbors=n), get_cm=True)\n",
    "    print('\\n')"
   ]
  },
  {
   "cell_type": "markdown",
   "metadata": {},
   "source": [
    "#### Random Forest for important features"
   ]
  },
  {
   "cell_type": "code",
   "execution_count": 363,
   "metadata": {
    "collapsed": false,
    "scrolled": false
   },
   "outputs": [
    {
     "name": "stdout",
     "output_type": "stream",
     "text": [
      "Avg Feature Importance: [ 0.11624623  0.10279617  0.11928315  0.17029404  0.13046064  0.15436553\n",
      "  0.20655425]\n",
      "Accuracy: 0.9537142857142858\n",
      "Precision: 0.8503097825708151\n",
      "Recall: 0.8425531914893617\n",
      "f1: 0.8444345870307346\n",
      "ROC AUC: 0.9078810733566212\n"
     ]
    },
    {
     "data": {
      "image/png": "[encoded data removed]",
      "text/plain": [
       "<matplotlib.figure.Figure at 0x109163f28>"
      ]
     },
     "metadata": {},
     "output_type": "display_data"
    }
   ],
   "source": [
    "pol_modeling.get_single_model(model=RandomForestClassifier(n_estimators=100), get_cm = True)"
   ]
  },
  {
   "cell_type": "code",
   "execution_count": 364,
   "metadata": {
    "collapsed": false
   },
   "outputs": [
    {
     "name": "stdout",
     "output_type": "stream",
     "text": [
      "Avg Feature Importance: [ 0.11862208  0.10131816  0.12073699  0.16691143  0.13025031  0.15485032\n",
      "  0.20731072]\n",
      "Accuracy: 0.9554285714285713\n",
      "Precision: 0.8610334582774078\n",
      "Recall: 0.84\n",
      "f1: 0.8488508272481375\n",
      "ROC AUC: 0.9078358208955225\n"
     ]
    },
    {
     "data": {
      "image/png": "[encoded data removed]",
      "text/plain": [
       "<matplotlib.figure.Figure at 0x10e9ba9b0>"
      ]
     },
     "metadata": {},
     "output_type": "display_data"
    }
   ],
   "source": [
    "pol_modeling.get_single_model(model=RandomForestClassifier(n_estimators=30), get_cm = True)"
   ]
  },
  {
   "cell_type": "markdown",
   "metadata": {},
   "source": [
    "#### DecisionTreeClassifier for important features"
   ]
  },
  {
   "cell_type": "code",
   "execution_count": 365,
   "metadata": {
    "collapsed": false
   },
   "outputs": [
    {
     "name": "stdout",
     "output_type": "stream",
     "text": [
      "Avg Feature Importance: [ 0.11003149  0.1126935   0.10706353  0.19668732  0.15238484  0.11375618\n",
      "  0.20738314]\n",
      "Accuracy: 0.9326349206349207\n",
      "Precision: 0.7952002850644498\n",
      "Recall: 0.7442553191489361\n",
      "f1: 0.7666544001721708\n",
      "ROC AUC: 0.8549634804699905\n"
     ]
    },
    {
     "data": {
      "image/png": "[encoded data removed]",
      "text/plain": [
       "<matplotlib.figure.Figure at 0x10e845240>"
      ]
     },
     "metadata": {},
     "output_type": "display_data"
    }
   ],
   "source": [
    "pol_modeling.get_single_model(model=DecisionTreeClassifier(), get_cm = True)"
   ]
  },
  {
   "cell_type": "markdown",
   "metadata": {},
   "source": [
    "### Random forest, different number of trees"
   ]
  },
  {
   "cell_type": "code",
   "execution_count": 366,
   "metadata": {
    "collapsed": false
   },
   "outputs": [
    {
     "data": {
      "image/png": "[encoded data removed]",
      "text/plain": [
       "<matplotlib.figure.Figure at 0x10e50ceb8>"
      ]
     },
     "metadata": {},
     "output_type": "display_data"
    }
   ],
   "source": [
    "forest_acc = []\n",
    "forest_prec = []\n",
    "forest_rec = []\n",
    "forest_f1 = []\n",
    "forest_range = list(range(1,30))\n",
    "for trees in forest_range:\n",
    "    acc, prec, rec, f1, _ = pol_modeling.get_single_model(model=RandomForestClassifier(n_estimators=trees), verbose=False)\n",
    "    forest_acc.append(acc)\n",
    "    forest_prec.append(prec)\n",
    "    forest_rec.append(rec)\n",
    "    forest_f1.append(f1)\n",
    "\n",
    "plt.figure(figsize=(11,7))\n",
    "plt.plot(forest_range, forest_acc, label='Accuracy')\n",
    "plt.plot(forest_range, forest_prec,label='Precision')\n",
    "plt.plot(forest_range, forest_rec,label='Recall')\n",
    "plt.plot(forest_range, forest_f1,label='F1')\n",
    "\n",
    "plt.legend(loc='best')\n",
    "plt.xlabel('Num Trees')\n",
    "plt.ylabel('Score')\n",
    "plt.title('Scores at various tree sizes')\n",
    "plt.show()\n",
    "\n",
    "    "
   ]
  },
  {
   "cell_type": "markdown",
   "metadata": {
    "collapsed": true
   },
   "source": [
    "## Testing for a single year"
   ]
  },
  {
   "cell_type": "markdown",
   "metadata": {},
   "source": [
    "### With Oversampling"
   ]
  },
  {
   "cell_type": "code",
   "execution_count": 378,
   "metadata": {
    "collapsed": false,
    "scrolled": false
   },
   "outputs": [
    {
     "data": {
      "text/html": [
       "<div>\n",
       "<table border=\"1\" class=\"dataframe\">\n",
       "  <thead>\n",
       "    <tr style=\"text-align: right;\">\n",
       "      <th></th>\n",
       "      <th>Accuracy</th>\n",
       "      <th>Precision</th>\n",
       "      <th>Recall</th>\n",
       "      <th>F1</th>\n",
       "      <th>ROCAUC</th>\n",
       "    </tr>\n",
       "  </thead>\n",
       "  <tbody>\n",
       "    <tr>\n",
       "      <th>KNeighborsClassifier(n_neighbors=2)</th>\n",
       "      <td>0.973750</td>\n",
       "      <td>0.888816</td>\n",
       "      <td>0.944615</td>\n",
       "      <td>0.914414</td>\n",
       "      <td>0.961708</td>\n",
       "    </tr>\n",
       "    <tr>\n",
       "      <th>SVC()</th>\n",
       "      <td>0.966136</td>\n",
       "      <td>0.880846</td>\n",
       "      <td>0.893077</td>\n",
       "      <td>0.885880</td>\n",
       "      <td>0.935938</td>\n",
       "    </tr>\n",
       "    <tr>\n",
       "      <th>LogisticRegression()</th>\n",
       "      <td>0.701250</td>\n",
       "      <td>0.288855</td>\n",
       "      <td>0.696154</td>\n",
       "      <td>0.408086</td>\n",
       "      <td>0.699144</td>\n",
       "    </tr>\n",
       "    <tr>\n",
       "      <th>BernoulliNB()</th>\n",
       "      <td>0.784091</td>\n",
       "      <td>0.200000</td>\n",
       "      <td>0.153846</td>\n",
       "      <td>0.173913</td>\n",
       "      <td>0.523590</td>\n",
       "    </tr>\n",
       "    <tr>\n",
       "      <th>GaussianNB()</th>\n",
       "      <td>0.607159</td>\n",
       "      <td>0.227437</td>\n",
       "      <td>0.691538</td>\n",
       "      <td>0.342137</td>\n",
       "      <td>0.642036</td>\n",
       "    </tr>\n",
       "    <tr>\n",
       "      <th>RandomForestClassifier(n_estimators=30)</th>\n",
       "      <td>0.975455</td>\n",
       "      <td>0.919384</td>\n",
       "      <td>0.916154</td>\n",
       "      <td>0.916882</td>\n",
       "      <td>0.950944</td>\n",
       "    </tr>\n",
       "    <tr>\n",
       "      <th>DecisionTreeClassifier()</th>\n",
       "      <td>0.969545</td>\n",
       "      <td>0.903841</td>\n",
       "      <td>0.891538</td>\n",
       "      <td>0.896095</td>\n",
       "      <td>0.937303</td>\n",
       "    </tr>\n",
       "  </tbody>\n",
       "</table>\n",
       "</div>"
      ],
      "text/plain": [
       "                                         Accuracy  Precision    Recall  \\\n",
       "KNeighborsClassifier(n_neighbors=2)      0.973750   0.888816  0.944615   \n",
       "SVC()                                    0.966136   0.880846  0.893077   \n",
       "LogisticRegression()                     0.701250   0.288855  0.696154   \n",
       "BernoulliNB()                            0.784091   0.200000  0.153846   \n",
       "GaussianNB()                             0.607159   0.227437  0.691538   \n",
       "RandomForestClassifier(n_estimators=30)  0.975455   0.919384  0.916154   \n",
       "DecisionTreeClassifier()                 0.969545   0.903841  0.891538   \n",
       "\n",
       "                                               F1    ROCAUC  \n",
       "KNeighborsClassifier(n_neighbors=2)      0.914414  0.961708  \n",
       "SVC()                                    0.885880  0.935938  \n",
       "LogisticRegression()                     0.408086  0.699144  \n",
       "BernoulliNB()                            0.173913  0.523590  \n",
       "GaussianNB()                             0.342137  0.642036  \n",
       "RandomForestClassifier(n_estimators=30)  0.916882  0.950944  \n",
       "DecisionTreeClassifier()                 0.896095  0.937303  "
      ]
     },
     "execution_count": 378,
     "metadata": {},
     "output_type": "execute_result"
    }
   ],
   "source": [
    "pol_modeling.get_multi_models(year=2013)"
   ]
  },
  {
   "cell_type": "code",
   "execution_count": 379,
   "metadata": {
    "collapsed": false,
    "scrolled": true
   },
   "outputs": [
    {
     "data": {
      "text/html": [
       "<div>\n",
       "<table border=\"1\" class=\"dataframe\">\n",
       "  <thead>\n",
       "    <tr style=\"text-align: right;\">\n",
       "      <th></th>\n",
       "      <th>Accuracy</th>\n",
       "      <th>Precision</th>\n",
       "      <th>Recall</th>\n",
       "      <th>F1</th>\n",
       "      <th>ROCAUC</th>\n",
       "    </tr>\n",
       "  </thead>\n",
       "  <tbody>\n",
       "    <tr>\n",
       "      <th>KNeighborsClassifier(n_neighbors=2)</th>\n",
       "      <td>0.985455</td>\n",
       "      <td>0.958417</td>\n",
       "      <td>0.950714</td>\n",
       "      <td>0.954118</td>\n",
       "      <td>0.971371</td>\n",
       "    </tr>\n",
       "    <tr>\n",
       "      <th>SVC()</th>\n",
       "      <td>0.980341</td>\n",
       "      <td>0.914809</td>\n",
       "      <td>0.967143</td>\n",
       "      <td>0.939906</td>\n",
       "      <td>0.974990</td>\n",
       "    </tr>\n",
       "    <tr>\n",
       "      <th>LogisticRegression()</th>\n",
       "      <td>0.681136</td>\n",
       "      <td>0.284453</td>\n",
       "      <td>0.662143</td>\n",
       "      <td>0.397826</td>\n",
       "      <td>0.673436</td>\n",
       "    </tr>\n",
       "    <tr>\n",
       "      <th>BernoulliNB()</th>\n",
       "      <td>0.771932</td>\n",
       "      <td>0.248237</td>\n",
       "      <td>0.195000</td>\n",
       "      <td>0.209739</td>\n",
       "      <td>0.538041</td>\n",
       "    </tr>\n",
       "    <tr>\n",
       "      <th>GaussianNB()</th>\n",
       "      <td>0.587727</td>\n",
       "      <td>0.233024</td>\n",
       "      <td>0.692857</td>\n",
       "      <td>0.348598</td>\n",
       "      <td>0.630347</td>\n",
       "    </tr>\n",
       "    <tr>\n",
       "      <th>RandomForestClassifier(n_estimators=30)</th>\n",
       "      <td>0.987045</td>\n",
       "      <td>0.967800</td>\n",
       "      <td>0.951429</td>\n",
       "      <td>0.958999</td>\n",
       "      <td>0.972606</td>\n",
       "    </tr>\n",
       "    <tr>\n",
       "      <th>DecisionTreeClassifier()</th>\n",
       "      <td>0.986023</td>\n",
       "      <td>0.971202</td>\n",
       "      <td>0.940714</td>\n",
       "      <td>0.955037</td>\n",
       "      <td>0.967654</td>\n",
       "    </tr>\n",
       "  </tbody>\n",
       "</table>\n",
       "</div>"
      ],
      "text/plain": [
       "                                         Accuracy  Precision    Recall  \\\n",
       "KNeighborsClassifier(n_neighbors=2)      0.985455   0.958417  0.950714   \n",
       "SVC()                                    0.980341   0.914809  0.967143   \n",
       "LogisticRegression()                     0.681136   0.284453  0.662143   \n",
       "BernoulliNB()                            0.771932   0.248237  0.195000   \n",
       "GaussianNB()                             0.587727   0.233024  0.692857   \n",
       "RandomForestClassifier(n_estimators=30)  0.987045   0.967800  0.951429   \n",
       "DecisionTreeClassifier()                 0.986023   0.971202  0.940714   \n",
       "\n",
       "                                               F1    ROCAUC  \n",
       "KNeighborsClassifier(n_neighbors=2)      0.954118  0.971371  \n",
       "SVC()                                    0.939906  0.974990  \n",
       "LogisticRegression()                     0.397826  0.673436  \n",
       "BernoulliNB()                            0.209739  0.538041  \n",
       "GaussianNB()                             0.348598  0.630347  \n",
       "RandomForestClassifier(n_estimators=30)  0.958999  0.972606  \n",
       "DecisionTreeClassifier()                 0.955037  0.967654  "
      ]
     },
     "execution_count": 379,
     "metadata": {},
     "output_type": "execute_result"
    }
   ],
   "source": [
    "pol_modeling.get_multi_models(year=2012)"
   ]
  },
  {
   "cell_type": "code",
   "execution_count": 380,
   "metadata": {
    "collapsed": false
   },
   "outputs": [
    {
     "name": "stdout",
     "output_type": "stream",
     "text": [
      "Avg Feature Importance: None\n",
      "Accuracy: 0.9848863636363636\n",
      "Precision: 0.9567883933353343\n",
      "Recall: 0.9492857142857143\n",
      "f1: 0.9522242288207127\n",
      "ROC AUC: 0.970453667953668\n"
     ]
    },
    {
     "data": {
      "image/png": "[encoded data removed]",
      "text/plain": [
       "<matplotlib.figure.Figure at 0x10e2f7358>"
      ]
     },
     "metadata": {},
     "output_type": "display_data"
    }
   ],
   "source": [
    "pol_modeling.get_single_model(year=2012, get_cm=True)"
   ]
  },
  {
   "cell_type": "code",
   "execution_count": 381,
   "metadata": {
    "collapsed": false,
    "scrolled": false
   },
   "outputs": [
    {
     "data": {
      "text/html": [
       "<div>\n",
       "<table border=\"1\" class=\"dataframe\">\n",
       "  <thead>\n",
       "    <tr style=\"text-align: right;\">\n",
       "      <th></th>\n",
       "      <th>Accuracy</th>\n",
       "      <th>Precision</th>\n",
       "      <th>Recall</th>\n",
       "      <th>F1</th>\n",
       "      <th>ROCAUC</th>\n",
       "    </tr>\n",
       "  </thead>\n",
       "  <tbody>\n",
       "    <tr>\n",
       "      <th>KNeighborsClassifier(n_neighbors=2)</th>\n",
       "      <td>0.968439</td>\n",
       "      <td>0.933328</td>\n",
       "      <td>0.851538</td>\n",
       "      <td>0.889872</td>\n",
       "      <td>0.920327</td>\n",
       "    </tr>\n",
       "    <tr>\n",
       "      <th>SVC()</th>\n",
       "      <td>0.967746</td>\n",
       "      <td>0.872256</td>\n",
       "      <td>0.920769</td>\n",
       "      <td>0.895441</td>\n",
       "      <td>0.948412</td>\n",
       "    </tr>\n",
       "    <tr>\n",
       "      <th>LogisticRegression()</th>\n",
       "      <td>0.669017</td>\n",
       "      <td>0.258922</td>\n",
       "      <td>0.645385</td>\n",
       "      <td>0.369458</td>\n",
       "      <td>0.659291</td>\n",
       "    </tr>\n",
       "    <tr>\n",
       "      <th>BernoulliNB()</th>\n",
       "      <td>0.791908</td>\n",
       "      <td>0.187500</td>\n",
       "      <td>0.115385</td>\n",
       "      <td>0.142857</td>\n",
       "      <td>0.513475</td>\n",
       "    </tr>\n",
       "    <tr>\n",
       "      <th>GaussianNB()</th>\n",
       "      <td>0.594220</td>\n",
       "      <td>0.227118</td>\n",
       "      <td>0.706154</td>\n",
       "      <td>0.343574</td>\n",
       "      <td>0.640288</td>\n",
       "    </tr>\n",
       "    <tr>\n",
       "      <th>RandomForestClassifier(n_estimators=30)</th>\n",
       "      <td>0.969480</td>\n",
       "      <td>0.943347</td>\n",
       "      <td>0.848462</td>\n",
       "      <td>0.892733</td>\n",
       "      <td>0.919673</td>\n",
       "    </tr>\n",
       "    <tr>\n",
       "      <th>DecisionTreeClassifier()</th>\n",
       "      <td>0.963237</td>\n",
       "      <td>0.929916</td>\n",
       "      <td>0.817692</td>\n",
       "      <td>0.869209</td>\n",
       "      <td>0.903336</td>\n",
       "    </tr>\n",
       "  </tbody>\n",
       "</table>\n",
       "</div>"
      ],
      "text/plain": [
       "                                         Accuracy  Precision    Recall  \\\n",
       "KNeighborsClassifier(n_neighbors=2)      0.968439   0.933328  0.851538   \n",
       "SVC()                                    0.967746   0.872256  0.920769   \n",
       "LogisticRegression()                     0.669017   0.258922  0.645385   \n",
       "BernoulliNB()                            0.791908   0.187500  0.115385   \n",
       "GaussianNB()                             0.594220   0.227118  0.706154   \n",
       "RandomForestClassifier(n_estimators=30)  0.969480   0.943347  0.848462   \n",
       "DecisionTreeClassifier()                 0.963237   0.929916  0.817692   \n",
       "\n",
       "                                               F1    ROCAUC  \n",
       "KNeighborsClassifier(n_neighbors=2)      0.889872  0.920327  \n",
       "SVC()                                    0.895441  0.948412  \n",
       "LogisticRegression()                     0.369458  0.659291  \n",
       "BernoulliNB()                            0.142857  0.513475  \n",
       "GaussianNB()                             0.343574  0.640288  \n",
       "RandomForestClassifier(n_estimators=30)  0.892733  0.919673  \n",
       "DecisionTreeClassifier()                 0.869209  0.903336  "
      ]
     },
     "execution_count": 381,
     "metadata": {},
     "output_type": "execute_result"
    }
   ],
   "source": [
    "pol_modeling.get_multi_models(year=2011, year_delta=1)"
   ]
  },
  {
   "cell_type": "code",
   "execution_count": 382,
   "metadata": {
    "collapsed": false
   },
   "outputs": [
    {
     "data": {
      "text/html": [
       "<div>\n",
       "<table border=\"1\" class=\"dataframe\">\n",
       "  <thead>\n",
       "    <tr style=\"text-align: right;\">\n",
       "      <th></th>\n",
       "      <th>Accuracy</th>\n",
       "      <th>Precision</th>\n",
       "      <th>Recall</th>\n",
       "      <th>F1</th>\n",
       "      <th>ROCAUC</th>\n",
       "    </tr>\n",
       "  </thead>\n",
       "  <tbody>\n",
       "    <tr>\n",
       "      <th>KNeighborsClassifier(n_neighbors=2)</th>\n",
       "      <td>0.939767</td>\n",
       "      <td>0.785518</td>\n",
       "      <td>0.783333</td>\n",
       "      <td>0.783870</td>\n",
       "      <td>0.874234</td>\n",
       "    </tr>\n",
       "    <tr>\n",
       "      <th>SVC()</th>\n",
       "      <td>0.946512</td>\n",
       "      <td>0.767466</td>\n",
       "      <td>0.885000</td>\n",
       "      <td>0.821640</td>\n",
       "      <td>0.920743</td>\n",
       "    </tr>\n",
       "    <tr>\n",
       "      <th>LogisticRegression()</th>\n",
       "      <td>0.675581</td>\n",
       "      <td>0.252453</td>\n",
       "      <td>0.674167</td>\n",
       "      <td>0.367221</td>\n",
       "      <td>0.674989</td>\n",
       "    </tr>\n",
       "    <tr>\n",
       "      <th>BernoulliNB()</th>\n",
       "      <td>0.790698</td>\n",
       "      <td>0.125000</td>\n",
       "      <td>0.083333</td>\n",
       "      <td>0.100000</td>\n",
       "      <td>0.494369</td>\n",
       "    </tr>\n",
       "    <tr>\n",
       "      <th>GaussianNB()</th>\n",
       "      <td>0.606047</td>\n",
       "      <td>0.228610</td>\n",
       "      <td>0.765000</td>\n",
       "      <td>0.351814</td>\n",
       "      <td>0.672635</td>\n",
       "    </tr>\n",
       "    <tr>\n",
       "      <th>RandomForestClassifier(n_estimators=30)</th>\n",
       "      <td>0.938372</td>\n",
       "      <td>0.784269</td>\n",
       "      <td>0.770000</td>\n",
       "      <td>0.776691</td>\n",
       "      <td>0.867838</td>\n",
       "    </tr>\n",
       "    <tr>\n",
       "      <th>DecisionTreeClassifier()</th>\n",
       "      <td>0.933837</td>\n",
       "      <td>0.770794</td>\n",
       "      <td>0.750833</td>\n",
       "      <td>0.759692</td>\n",
       "      <td>0.857173</td>\n",
       "    </tr>\n",
       "  </tbody>\n",
       "</table>\n",
       "</div>"
      ],
      "text/plain": [
       "                                         Accuracy  Precision    Recall  \\\n",
       "KNeighborsClassifier(n_neighbors=2)      0.939767   0.785518  0.783333   \n",
       "SVC()                                    0.946512   0.767466  0.885000   \n",
       "LogisticRegression()                     0.675581   0.252453  0.674167   \n",
       "BernoulliNB()                            0.790698   0.125000  0.083333   \n",
       "GaussianNB()                             0.606047   0.228610  0.765000   \n",
       "RandomForestClassifier(n_estimators=30)  0.938372   0.784269  0.770000   \n",
       "DecisionTreeClassifier()                 0.933837   0.770794  0.750833   \n",
       "\n",
       "                                               F1    ROCAUC  \n",
       "KNeighborsClassifier(n_neighbors=2)      0.783870  0.874234  \n",
       "SVC()                                    0.821640  0.920743  \n",
       "LogisticRegression()                     0.367221  0.674989  \n",
       "BernoulliNB()                            0.100000  0.494369  \n",
       "GaussianNB()                             0.351814  0.672635  \n",
       "RandomForestClassifier(n_estimators=30)  0.776691  0.867838  \n",
       "DecisionTreeClassifier()                 0.759692  0.857173  "
      ]
     },
     "execution_count": 382,
     "metadata": {},
     "output_type": "execute_result"
    }
   ],
   "source": [
    "pol_modeling.get_multi_models(year=2011, year_delta=2)"
   ]
  },
  {
   "cell_type": "code",
   "execution_count": 384,
   "metadata": {
    "collapsed": false
   },
   "outputs": [],
   "source": [
    "#full_data[full_data.zscores == 1]"
   ]
  },
  {
   "cell_type": "code",
   "execution_count": null,
   "metadata": {
    "collapsed": true
   },
   "outputs": [],
   "source": []
  },
  {
   "cell_type": "code",
   "execution_count": null,
   "metadata": {
    "collapsed": true
   },
   "outputs": [],
   "source": []
  }
 ],
 "metadata": {
  "kernelspec": {
   "display_name": "Python 3",
   "language": "python",
   "name": "python3"
  },
  "language_info": {
   "codemirror_mode": {
    "name": "ipython",
    "version": 3
   },
   "file_extension": ".py",
   "mimetype": "text/x-python",
   "name": "python",
   "nbconvert_exporter": "python",
   "pygments_lexer": "ipython3",
   "version": "3.5.0"
  }
 },
 "nbformat": 4,
 "nbformat_minor": 0
}
