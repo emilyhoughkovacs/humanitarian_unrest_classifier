{
 "cells": [
  {
   "cell_type": "markdown",
   "metadata": {},
   "source": [
    "### This is the same notebook as analyze_sql_data.ipynb but includes multiple years"
   ]
  },
  {
   "cell_type": "code",
   "execution_count": 337,
   "metadata": {
    "collapsed": false
   },
   "outputs": [],
   "source": [
    "from sqlalchemy import create_engine\n",
    "import pandas as pd\n",
    "import numpy as np\n",
    "\n",
    "from sklearn.cross_validation import train_test_split, StratifiedShuffleSplit\n",
    "from sklearn.neighbors import KNeighborsClassifier\n",
    "from sklearn.metrics import (\n",
    "                            accuracy_score, \n",
    "                            precision_score, \n",
    "                            recall_score, \n",
    "                            f1_score, \n",
    "                            roc_curve, \n",
    "                            roc_auc_score, \n",
    "                            confusion_matrix\n",
    "                            )\n",
    "from sklearn.linear_model import LogisticRegression, LinearRegression\n",
    "from sklearn.naive_bayes import GaussianNB, BernoulliNB\n",
    "from sklearn.svm import SVC\n",
    "from sklearn.tree import DecisionTreeClassifier\n",
    "from sklearn.tree import DecisionTreeRegressor\n",
    "from sklearn.ensemble import RandomForestClassifier\n",
    "from sklearn.learning_curve import learning_curve\n",
    "from sklearn.cross_validation import cross_val_score\n",
    "from sklearn.metrics import confusion_matrix\n",
    "\n",
    "from unbalanced_dataset import OverSampler, SMOTE\n",
    "\n",
    "import matplotlib.pyplot as plt\n",
    "import seaborn as sns\n",
    "\n",
    "\n",
    "%matplotlib inline"
   ]
  },
  {
   "cell_type": "code",
   "execution_count": 338,
   "metadata": {
    "collapsed": true
   },
   "outputs": [],
   "source": [
    "CONFIG = {}\n",
    "\n",
    "with open('config.txt', \"r\") as in_file:\n",
    "    for line in in_file:\n",
    "        line = line.split(\":\")\n",
    "        parameter = line[0].strip()\n",
    "        value = line[1].strip()\n",
    "        CONFIG[parameter] = value\n",
    "                \n",
    "engine_path = 'postgresql://'+CONFIG['username']+':'+\\\n",
    "                CONFIG['password']+'@'+CONFIG['ip']+\\\n",
    "                ':'+CONFIG['port']+'/'+CONFIG['database']\n",
    "        \n",
    "engine = create_engine(engine_path)"
   ]
  },
  {
   "cell_type": "markdown",
   "metadata": {},
   "source": [
    "### Want something like:\n",
    "\n",
    "    SELECT\n",
    "        table4.countrycode as 'countrycode',\n",
    "        b.table1 as 'table1',\n",
    "        b.table2 as 'table2',\n",
    "        b.table3 as 'table3',\n",
    "        table4.year as 'table4'\n",
    "        (SELECT\n",
    "            table3.countrycode as 'countrycode',\n",
    "            a.table1 as 'table1',\n",
    "            a.table2 as 'table2',\n",
    "            table3.year as 'table3'\n",
    "         FROM\n",
    "            (SELECT\n",
    "                 table1.countrycode as 'countrycode',\n",
    "                 table1.year as 'table1',\n",
    "                 table2.year as 'table2'\n",
    "             FROM\n",
    "                 table1\n",
    "             JOIN\n",
    "                 table2\n",
    "               ON \n",
    "                 table1.countrycode = table2.countrycode\n",
    "             ) a\n",
    "         JOIN\n",
    "             table3\n",
    "           ON\n",
    "             a.countrycode = table3.countrycode  \n",
    "        ) b    \n",
    "    JOIN\n",
    "        table4\n",
    "      ON\n",
    "        a.countrycode = table3.countrycode \n",
    "    \n",
    "        \n",
    "       \n"
   ]
  },
  {
   "cell_type": "code",
   "execution_count": 339,
   "metadata": {
    "collapsed": false
   },
   "outputs": [],
   "source": [
    "def makeSQLQuery(table_names, year):\n",
    "    dotyyear = '.y' + str(year)\n",
    "    current_unit = 'a'\n",
    "    query = '(SELECT ' + table_names[0] + '.countrycode AS countrycode, ' + \\\n",
    "            table_names[0] + dotyyear + ' AS ' + table_names[0] + ', ' + \\\n",
    "            table_names[1] + dotyyear + ' AS ' + table_names[1] + \\\n",
    "            ' FROM ' + table_names[0] + \\\n",
    "            ' JOIN ' + table_names[1] + \\\n",
    "            ' ON ' + table_names[0] + '.countrycode=' + table_names[1] + '.countrycode) '\n",
    "    query = query + current_unit\n",
    "    \n",
    "    for table in table_names[2:]:\n",
    "        curr_index = table_names.index(table)\n",
    "        temp_list = table_names[:curr_index+1]\n",
    "        \n",
    "        pre_string = '(SELECT ' + table + '.countrycode as countrycode'\n",
    "        \n",
    "        for temp_table in temp_list[:-1]:\n",
    "            pre_string = pre_string + ', ' + current_unit + '.' + temp_table + ' AS ' + temp_table\n",
    "        \n",
    "        pre_string = pre_string + ', ' + table + dotyyear + ' AS ' + table\n",
    "        \n",
    "        query = pre_string + ' FROM ' + query + ' JOIN ' + table + \\\n",
    "                ' ON ' + current_unit + '.countrycode=' + table + '.countrycode) '\n",
    "        \n",
    "        current_unit = current_unit + 'a'\n",
    "        query = query + current_unit\n",
    "        \n",
    "    query = query.rsplit(' ', 1)[0][1:-1]\n",
    "    \n",
    "    return query\n",
    "    \n",
    "    "
   ]
  },
  {
   "cell_type": "markdown",
   "metadata": {},
   "source": [
    "## Change these to select data"
   ]
  },
  {
   "cell_type": "code",
   "execution_count": 340,
   "metadata": {
    "collapsed": false
   },
   "outputs": [],
   "source": [
    "table_names = ['civil_liberties', \\\n",
    "               'political_rights', \\\n",
    "               #'freedom_status', \\\n",
    "               #'corruption_perception', \\\n",
    "               'female_legislators', \\\n",
    "               'population_growth', \\\n",
    "               'population_female', \\\n",
    "               #'under_5_mortality', \\\n",
    "               'life_expectancy', \\\n",
    "               #'population_0_14', \\\n",
    "               'population_15_64',  \\\n",
    "               #'population_65_up', \\\n",
    "               #'terror_new', \\\n",
    "               #'peace_new', \\\n",
    "               'zscores']"
   ]
  },
  {
   "cell_type": "code",
   "execution_count": 341,
   "metadata": {
    "collapsed": true
   },
   "outputs": [],
   "source": [
    "x_cols = table_names[:-1]"
   ]
  },
  {
   "cell_type": "code",
   "execution_count": 342,
   "metadata": {
    "collapsed": true
   },
   "outputs": [],
   "source": [
    "years = [2008, 2009, 2010, 2011, 2012, 2013]"
   ]
  },
  {
   "cell_type": "code",
   "execution_count": 343,
   "metadata": {
    "collapsed": true
   },
   "outputs": [],
   "source": [
    "full_data = pd.DataFrame()"
   ]
  },
  {
   "cell_type": "code",
   "execution_count": 344,
   "metadata": {
    "collapsed": false,
    "scrolled": false
   },
   "outputs": [],
   "source": [
    "for year in years:\n",
    "    query = makeSQLQuery(table_names, year)\n",
    "    year_data = pd.read_sql_query(query, engine)\n",
    "    year_data['year'] = year\n",
    "    year_data = year_data.set_index(['countrycode', 'year'])\n",
    "    full_data = pd.concat([full_data, year_data])\n",
    "    \n"
   ]
  },
  {
   "cell_type": "code",
   "execution_count": 345,
   "metadata": {
    "collapsed": false
   },
   "outputs": [
    {
     "data": {
      "text/html": [
       "<div>\n",
       "<table border=\"1\" class=\"dataframe\">\n",
       "  <thead>\n",
       "    <tr style=\"text-align: right;\">\n",
       "      <th></th>\n",
       "      <th></th>\n",
       "      <th>civil_liberties</th>\n",
       "      <th>political_rights</th>\n",
       "      <th>population_growth</th>\n",
       "      <th>population_female</th>\n",
       "      <th>female_legislators</th>\n",
       "      <th>life_expectancy</th>\n",
       "      <th>population_15_64</th>\n",
       "      <th>zscores</th>\n",
       "    </tr>\n",
       "    <tr>\n",
       "      <th>countrycode</th>\n",
       "      <th>year</th>\n",
       "      <th></th>\n",
       "      <th></th>\n",
       "      <th></th>\n",
       "      <th></th>\n",
       "      <th></th>\n",
       "      <th></th>\n",
       "      <th></th>\n",
       "      <th></th>\n",
       "    </tr>\n",
       "  </thead>\n",
       "  <tbody>\n",
       "    <tr>\n",
       "      <th>AFG</th>\n",
       "      <th>2008</th>\n",
       "      <td>6</td>\n",
       "      <td>5</td>\n",
       "      <td>2.485315</td>\n",
       "      <td>48.512909</td>\n",
       "      <td>27.7</td>\n",
       "      <td>58.225024</td>\n",
       "      <td>49.946087</td>\n",
       "      <td>6.546331355</td>\n",
       "    </tr>\n",
       "    <tr>\n",
       "      <th>AGO</th>\n",
       "      <th>2008</th>\n",
       "      <td>5</td>\n",
       "      <td>6</td>\n",
       "      <td>3.374180</td>\n",
       "      <td>50.493712</td>\n",
       "      <td>37.3</td>\n",
       "      <td>49.847390</td>\n",
       "      <td>49.356104</td>\n",
       "      <td>0.281696206</td>\n",
       "    </tr>\n",
       "    <tr>\n",
       "      <th>ALB</th>\n",
       "      <th>2008</th>\n",
       "      <td>3</td>\n",
       "      <td>3</td>\n",
       "      <td>-0.767343</td>\n",
       "      <td>49.610212</td>\n",
       "      <td>7.1</td>\n",
       "      <td>76.632317</td>\n",
       "      <td>66.816430</td>\n",
       "      <td>0.055357722</td>\n",
       "    </tr>\n",
       "    <tr>\n",
       "      <th>ARE</th>\n",
       "      <th>2008</th>\n",
       "      <td>5</td>\n",
       "      <td>6</td>\n",
       "      <td>13.810060</td>\n",
       "      <td>25.880062</td>\n",
       "      <td>22.5</td>\n",
       "      <td>76.307756</td>\n",
       "      <td>84.600650</td>\n",
       "      <td>-0.267222176</td>\n",
       "    </tr>\n",
       "    <tr>\n",
       "      <th>ARG</th>\n",
       "      <th>2008</th>\n",
       "      <td>2</td>\n",
       "      <td>2</td>\n",
       "      <td>1.025393</td>\n",
       "      <td>51.087196</td>\n",
       "      <td>40.0</td>\n",
       "      <td>75.166268</td>\n",
       "      <td>63.456290</td>\n",
       "      <td>-0.26793528</td>\n",
       "    </tr>\n",
       "  </tbody>\n",
       "</table>\n",
       "</div>"
      ],
      "text/plain": [
       "                  civil_liberties  political_rights  population_growth  \\\n",
       "countrycode year                                                         \n",
       "AFG         2008                6                 5           2.485315   \n",
       "AGO         2008                5                 6           3.374180   \n",
       "ALB         2008                3                 3          -0.767343   \n",
       "ARE         2008                5                 6          13.810060   \n",
       "ARG         2008                2                 2           1.025393   \n",
       "\n",
       "                  population_female  female_legislators  life_expectancy  \\\n",
       "countrycode year                                                           \n",
       "AFG         2008          48.512909                27.7        58.225024   \n",
       "AGO         2008          50.493712                37.3        49.847390   \n",
       "ALB         2008          49.610212                 7.1        76.632317   \n",
       "ARE         2008          25.880062                22.5        76.307756   \n",
       "ARG         2008          51.087196                40.0        75.166268   \n",
       "\n",
       "                  population_15_64       zscores  \n",
       "countrycode year                                  \n",
       "AFG         2008         49.946087   6.546331355  \n",
       "AGO         2008         49.356104   0.281696206  \n",
       "ALB         2008         66.816430   0.055357722  \n",
       "ARE         2008         84.600650  -0.267222176  \n",
       "ARG         2008         63.456290   -0.26793528  "
      ]
     },
     "execution_count": 345,
     "metadata": {},
     "output_type": "execute_result"
    }
   ],
   "source": [
    "full_data.head()"
   ]
  },
  {
   "cell_type": "code",
   "execution_count": 346,
   "metadata": {
    "collapsed": false,
    "scrolled": false
   },
   "outputs": [],
   "source": [
    "full_data['zscores'] = full_data['zscores'].astype(float)\n",
    "\n",
    "full_data.loc[full_data['zscores'] > 0, 'zscores'] = 1\n",
    "full_data.loc[full_data['zscores'] <= 0, 'zscores'] = 0\n",
    "\n",
    "try:\n",
    "    full_data.loc[full_data['freedom_status'] == 'F', 'freedom_status'] = -1\n",
    "    full_data.loc[full_data['freedom_status'] == 'PF', 'freedom_status'] = 0\n",
    "    full_data.loc[full_data['freedom_status'] == 'NF', 'freedom_status'] = 1\n",
    "except:\n",
    "    pass\n"
   ]
  },
  {
   "cell_type": "code",
   "execution_count": 347,
   "metadata": {
    "collapsed": false
   },
   "outputs": [
    {
     "data": {
      "text/html": [
       "<div>\n",
       "<table border=\"1\" class=\"dataframe\">\n",
       "  <thead>\n",
       "    <tr style=\"text-align: right;\">\n",
       "      <th></th>\n",
       "      <th></th>\n",
       "      <th>civil_liberties</th>\n",
       "      <th>political_rights</th>\n",
       "      <th>population_growth</th>\n",
       "      <th>population_female</th>\n",
       "      <th>female_legislators</th>\n",
       "      <th>life_expectancy</th>\n",
       "      <th>population_15_64</th>\n",
       "      <th>zscores</th>\n",
       "    </tr>\n",
       "    <tr>\n",
       "      <th>countrycode</th>\n",
       "      <th>year</th>\n",
       "      <th></th>\n",
       "      <th></th>\n",
       "      <th></th>\n",
       "      <th></th>\n",
       "      <th></th>\n",
       "      <th></th>\n",
       "      <th></th>\n",
       "      <th></th>\n",
       "    </tr>\n",
       "  </thead>\n",
       "  <tbody>\n",
       "    <tr>\n",
       "      <th>FJI</th>\n",
       "      <th>2008</th>\n",
       "      <td>4</td>\n",
       "      <td>6</td>\n",
       "      <td>1.010417</td>\n",
       "      <td>48.947707</td>\n",
       "      <td>NaN</td>\n",
       "      <td>69.022024</td>\n",
       "      <td>65.706245</td>\n",
       "      <td>0</td>\n",
       "    </tr>\n",
       "    <tr>\n",
       "      <th>GIN</th>\n",
       "      <th>2008</th>\n",
       "      <td>5</td>\n",
       "      <td>7</td>\n",
       "      <td>2.671069</td>\n",
       "      <td>49.966108</td>\n",
       "      <td>NaN</td>\n",
       "      <td>54.777585</td>\n",
       "      <td>53.134073</td>\n",
       "      <td>0</td>\n",
       "    </tr>\n",
       "    <tr>\n",
       "      <th>LUX</th>\n",
       "      <th>2008</th>\n",
       "      <td>1</td>\n",
       "      <td>1</td>\n",
       "      <td>1.787497</td>\n",
       "      <td>50.493425</td>\n",
       "      <td>23.3</td>\n",
       "      <td>80.539024</td>\n",
       "      <td>67.877191</td>\n",
       "      <td>NaN</td>\n",
       "    </tr>\n",
       "    <tr>\n",
       "      <th>MMR</th>\n",
       "      <th>2008</th>\n",
       "      <td>7</td>\n",
       "      <td>7</td>\n",
       "      <td>0.651129</td>\n",
       "      <td>51.176312</td>\n",
       "      <td>NaN</td>\n",
       "      <td>64.367610</td>\n",
       "      <td>64.768113</td>\n",
       "      <td>0</td>\n",
       "    </tr>\n",
       "    <tr>\n",
       "      <th>SSD</th>\n",
       "      <th>2008</th>\n",
       "      <td>NaN</td>\n",
       "      <td>NaN</td>\n",
       "      <td>4.362664</td>\n",
       "      <td>50.051550</td>\n",
       "      <td>NaN</td>\n",
       "      <td>52.593317</td>\n",
       "      <td>52.863172</td>\n",
       "      <td>NaN</td>\n",
       "    </tr>\n",
       "    <tr>\n",
       "      <th>TKM</th>\n",
       "      <th>2008</th>\n",
       "      <td>7</td>\n",
       "      <td>7</td>\n",
       "      <td>1.213341</td>\n",
       "      <td>50.724437</td>\n",
       "      <td>NaN</td>\n",
       "      <td>64.756073</td>\n",
       "      <td>65.247102</td>\n",
       "      <td>0</td>\n",
       "    </tr>\n",
       "    <tr>\n",
       "      <th>VUT</th>\n",
       "      <th>2008</th>\n",
       "      <td>2</td>\n",
       "      <td>2</td>\n",
       "      <td>2.416066</td>\n",
       "      <td>49.142388</td>\n",
       "      <td>3.8</td>\n",
       "      <td>70.254756</td>\n",
       "      <td>57.801496</td>\n",
       "      <td>NaN</td>\n",
       "    </tr>\n",
       "    <tr>\n",
       "      <th>FJI</th>\n",
       "      <th>2009</th>\n",
       "      <td>4</td>\n",
       "      <td>6</td>\n",
       "      <td>1.020386</td>\n",
       "      <td>48.947824</td>\n",
       "      <td>NaN</td>\n",
       "      <td>69.202854</td>\n",
       "      <td>65.938529</td>\n",
       "      <td>0</td>\n",
       "    </tr>\n",
       "    <tr>\n",
       "      <th>GIN</th>\n",
       "      <th>2009</th>\n",
       "      <td>6</td>\n",
       "      <td>7</td>\n",
       "      <td>2.728375</td>\n",
       "      <td>49.955495</td>\n",
       "      <td>NaN</td>\n",
       "      <td>55.556146</td>\n",
       "      <td>53.333078</td>\n",
       "      <td>0</td>\n",
       "    </tr>\n",
       "    <tr>\n",
       "      <th>LUX</th>\n",
       "      <th>2009</th>\n",
       "      <td>1</td>\n",
       "      <td>1</td>\n",
       "      <td>1.851775</td>\n",
       "      <td>50.416014</td>\n",
       "      <td>20.0</td>\n",
       "      <td>80.636585</td>\n",
       "      <td>68.143119</td>\n",
       "      <td>NaN</td>\n",
       "    </tr>\n",
       "    <tr>\n",
       "      <th>MDG</th>\n",
       "      <th>2009</th>\n",
       "      <td>4</td>\n",
       "      <td>6</td>\n",
       "      <td>2.814994</td>\n",
       "      <td>50.195519</td>\n",
       "      <td>NaN</td>\n",
       "      <td>62.918171</td>\n",
       "      <td>53.386568</td>\n",
       "      <td>0</td>\n",
       "    </tr>\n",
       "    <tr>\n",
       "      <th>MMR</th>\n",
       "      <th>2009</th>\n",
       "      <td>7</td>\n",
       "      <td>7</td>\n",
       "      <td>0.663518</td>\n",
       "      <td>51.184720</td>\n",
       "      <td>NaN</td>\n",
       "      <td>64.643561</td>\n",
       "      <td>64.959838</td>\n",
       "      <td>1</td>\n",
       "    </tr>\n",
       "    <tr>\n",
       "      <th>SSD</th>\n",
       "      <th>2009</th>\n",
       "      <td>NaN</td>\n",
       "      <td>NaN</td>\n",
       "      <td>4.403674</td>\n",
       "      <td>50.032723</td>\n",
       "      <td>NaN</td>\n",
       "      <td>53.122659</td>\n",
       "      <td>53.048921</td>\n",
       "      <td>NaN</td>\n",
       "    </tr>\n",
       "    <tr>\n",
       "      <th>VUT</th>\n",
       "      <th>2009</th>\n",
       "      <td>2</td>\n",
       "      <td>2</td>\n",
       "      <td>2.388536</td>\n",
       "      <td>49.191878</td>\n",
       "      <td>3.8</td>\n",
       "      <td>70.555829</td>\n",
       "      <td>57.776170</td>\n",
       "      <td>NaN</td>\n",
       "    </tr>\n",
       "    <tr>\n",
       "      <th>WSM</th>\n",
       "      <th>2009</th>\n",
       "      <td>2</td>\n",
       "      <td>2</td>\n",
       "      <td>0.684525</td>\n",
       "      <td>48.396318</td>\n",
       "      <td>8.2</td>\n",
       "      <td>72.130683</td>\n",
       "      <td>56.466703</td>\n",
       "      <td>NaN</td>\n",
       "    </tr>\n",
       "    <tr>\n",
       "      <th>FJI</th>\n",
       "      <th>2010</th>\n",
       "      <td>4</td>\n",
       "      <td>6</td>\n",
       "      <td>0.946142</td>\n",
       "      <td>48.959593</td>\n",
       "      <td>NaN</td>\n",
       "      <td>69.384366</td>\n",
       "      <td>66.170903</td>\n",
       "      <td>0</td>\n",
       "    </tr>\n",
       "    <tr>\n",
       "      <th>GIN</th>\n",
       "      <th>2010</th>\n",
       "      <td>5</td>\n",
       "      <td>5</td>\n",
       "      <td>2.730597</td>\n",
       "      <td>49.942592</td>\n",
       "      <td>NaN</td>\n",
       "      <td>56.305049</td>\n",
       "      <td>53.550087</td>\n",
       "      <td>0</td>\n",
       "    </tr>\n",
       "    <tr>\n",
       "      <th>LUX</th>\n",
       "      <th>2010</th>\n",
       "      <td>1</td>\n",
       "      <td>1</td>\n",
       "      <td>1.825406</td>\n",
       "      <td>50.324776</td>\n",
       "      <td>20.0</td>\n",
       "      <td>80.631707</td>\n",
       "      <td>68.362969</td>\n",
       "      <td>NaN</td>\n",
       "    </tr>\n",
       "    <tr>\n",
       "      <th>NER</th>\n",
       "      <th>2010</th>\n",
       "      <td>4</td>\n",
       "      <td>5</td>\n",
       "      <td>3.878552</td>\n",
       "      <td>49.658200</td>\n",
       "      <td>NaN</td>\n",
       "      <td>58.259000</td>\n",
       "      <td>47.517486</td>\n",
       "      <td>0</td>\n",
       "    </tr>\n",
       "    <tr>\n",
       "      <th>SSD</th>\n",
       "      <th>2010</th>\n",
       "      <td>NaN</td>\n",
       "      <td>NaN</td>\n",
       "      <td>4.404235</td>\n",
       "      <td>50.013787</td>\n",
       "      <td>NaN</td>\n",
       "      <td>53.664902</td>\n",
       "      <td>53.276511</td>\n",
       "      <td>NaN</td>\n",
       "    </tr>\n",
       "    <tr>\n",
       "      <th>TZA</th>\n",
       "      <th>2010</th>\n",
       "      <td>3</td>\n",
       "      <td>3</td>\n",
       "      <td>3.174634</td>\n",
       "      <td>50.346737</td>\n",
       "      <td>NaN</td>\n",
       "      <td>61.625610</td>\n",
       "      <td>51.791172</td>\n",
       "      <td>0</td>\n",
       "    </tr>\n",
       "    <tr>\n",
       "      <th>FJI</th>\n",
       "      <th>2011</th>\n",
       "      <td>4</td>\n",
       "      <td>6</td>\n",
       "      <td>0.853949</td>\n",
       "      <td>48.983832</td>\n",
       "      <td>NaN</td>\n",
       "      <td>69.565000</td>\n",
       "      <td>66.001058</td>\n",
       "      <td>0</td>\n",
       "    </tr>\n",
       "    <tr>\n",
       "      <th>GIN</th>\n",
       "      <th>2011</th>\n",
       "      <td>5</td>\n",
       "      <td>5</td>\n",
       "      <td>2.722622</td>\n",
       "      <td>49.926862</td>\n",
       "      <td>NaN</td>\n",
       "      <td>57.000537</td>\n",
       "      <td>53.672867</td>\n",
       "      <td>0</td>\n",
       "    </tr>\n",
       "    <tr>\n",
       "      <th>HRV</th>\n",
       "      <th>2011</th>\n",
       "      <td>2</td>\n",
       "      <td>1</td>\n",
       "      <td>NaN</td>\n",
       "      <td>51.791799</td>\n",
       "      <td>23.8</td>\n",
       "      <td>76.775610</td>\n",
       "      <td>66.783153</td>\n",
       "      <td>1</td>\n",
       "    </tr>\n",
       "    <tr>\n",
       "      <th>LBY</th>\n",
       "      <th>2011</th>\n",
       "      <td>6</td>\n",
       "      <td>7</td>\n",
       "      <td>0.365690</td>\n",
       "      <td>48.984059</td>\n",
       "      <td>NaN</td>\n",
       "      <td>71.683268</td>\n",
       "      <td>66.610428</td>\n",
       "      <td>0</td>\n",
       "    </tr>\n",
       "    <tr>\n",
       "      <th>LUX</th>\n",
       "      <th>2011</th>\n",
       "      <td>1</td>\n",
       "      <td>1</td>\n",
       "      <td>2.222661</td>\n",
       "      <td>50.218373</td>\n",
       "      <td>25.0</td>\n",
       "      <td>80.987805</td>\n",
       "      <td>68.642123</td>\n",
       "      <td>NaN</td>\n",
       "    </tr>\n",
       "    <tr>\n",
       "      <th>ZAR</th>\n",
       "      <th>2011</th>\n",
       "      <td>6</td>\n",
       "      <td>6</td>\n",
       "      <td>3.206612</td>\n",
       "      <td>50.189905</td>\n",
       "      <td>NaN</td>\n",
       "      <td>57.398634</td>\n",
       "      <td>50.620616</td>\n",
       "      <td>1</td>\n",
       "    </tr>\n",
       "    <tr>\n",
       "      <th>FJI</th>\n",
       "      <th>2012</th>\n",
       "      <td>4</td>\n",
       "      <td>6</td>\n",
       "      <td>0.784507</td>\n",
       "      <td>49.019742</td>\n",
       "      <td>NaN</td>\n",
       "      <td>69.743220</td>\n",
       "      <td>65.855257</td>\n",
       "      <td>0</td>\n",
       "    </tr>\n",
       "    <tr>\n",
       "      <th>GHA</th>\n",
       "      <th>2012</th>\n",
       "      <td>2</td>\n",
       "      <td>1</td>\n",
       "      <td>2.441273</td>\n",
       "      <td>50.452251</td>\n",
       "      <td>NaN</td>\n",
       "      <td>60.977024</td>\n",
       "      <td>57.553495</td>\n",
       "      <td>0</td>\n",
       "    </tr>\n",
       "    <tr>\n",
       "      <th>GIN</th>\n",
       "      <th>2012</th>\n",
       "      <td>5</td>\n",
       "      <td>5</td>\n",
       "      <td>2.723327</td>\n",
       "      <td>49.909307</td>\n",
       "      <td>NaN</td>\n",
       "      <td>57.637634</td>\n",
       "      <td>53.827375</td>\n",
       "      <td>0</td>\n",
       "    </tr>\n",
       "    <tr>\n",
       "      <th>LKA</th>\n",
       "      <th>2012</th>\n",
       "      <td>4</td>\n",
       "      <td>5</td>\n",
       "      <td>NaN</td>\n",
       "      <td>51.564191</td>\n",
       "      <td>5.8</td>\n",
       "      <td>74.068049</td>\n",
       "      <td>66.774724</td>\n",
       "      <td>1</td>\n",
       "    </tr>\n",
       "    <tr>\n",
       "      <th>LUX</th>\n",
       "      <th>2012</th>\n",
       "      <td>1</td>\n",
       "      <td>1</td>\n",
       "      <td>2.401542</td>\n",
       "      <td>50.101319</td>\n",
       "      <td>21.7</td>\n",
       "      <td>81.392683</td>\n",
       "      <td>68.906004</td>\n",
       "      <td>NaN</td>\n",
       "    </tr>\n",
       "    <tr>\n",
       "      <th>ARG</th>\n",
       "      <th>2013</th>\n",
       "      <td>2</td>\n",
       "      <td>2</td>\n",
       "      <td>1.047065</td>\n",
       "      <td>51.078024</td>\n",
       "      <td>NaN</td>\n",
       "      <td>75.986098</td>\n",
       "      <td>63.834426</td>\n",
       "      <td>0</td>\n",
       "    </tr>\n",
       "    <tr>\n",
       "      <th>CAF</th>\n",
       "      <th>2013</th>\n",
       "      <td>7</td>\n",
       "      <td>7</td>\n",
       "      <td>1.954537</td>\n",
       "      <td>50.720342</td>\n",
       "      <td>NaN</td>\n",
       "      <td>49.879878</td>\n",
       "      <td>56.420965</td>\n",
       "      <td>1</td>\n",
       "    </tr>\n",
       "    <tr>\n",
       "      <th>EGY</th>\n",
       "      <th>2013</th>\n",
       "      <td>5</td>\n",
       "      <td>6</td>\n",
       "      <td>2.254326</td>\n",
       "      <td>49.487699</td>\n",
       "      <td>NaN</td>\n",
       "      <td>70.925780</td>\n",
       "      <td>62.240369</td>\n",
       "      <td>0</td>\n",
       "    </tr>\n",
       "    <tr>\n",
       "      <th>FJI</th>\n",
       "      <th>2013</th>\n",
       "      <td>4</td>\n",
       "      <td>6</td>\n",
       "      <td>0.721403</td>\n",
       "      <td>49.063189</td>\n",
       "      <td>NaN</td>\n",
       "      <td>69.917927</td>\n",
       "      <td>65.713066</td>\n",
       "      <td>0</td>\n",
       "    </tr>\n",
       "    <tr>\n",
       "      <th>GIN</th>\n",
       "      <th>2013</th>\n",
       "      <td>5</td>\n",
       "      <td>5</td>\n",
       "      <td>2.714272</td>\n",
       "      <td>49.891009</td>\n",
       "      <td>NaN</td>\n",
       "      <td>58.216488</td>\n",
       "      <td>54.003724</td>\n",
       "      <td>0</td>\n",
       "    </tr>\n",
       "  </tbody>\n",
       "</table>\n",
       "</div>"
      ],
      "text/plain": [
       "                  civil_liberties  political_rights  population_growth  \\\n",
       "countrycode year                                                         \n",
       "FJI         2008                4                 6           1.010417   \n",
       "GIN         2008                5                 7           2.671069   \n",
       "LUX         2008                1                 1           1.787497   \n",
       "MMR         2008                7                 7           0.651129   \n",
       "SSD         2008              NaN               NaN           4.362664   \n",
       "TKM         2008                7                 7           1.213341   \n",
       "VUT         2008                2                 2           2.416066   \n",
       "FJI         2009                4                 6           1.020386   \n",
       "GIN         2009                6                 7           2.728375   \n",
       "LUX         2009                1                 1           1.851775   \n",
       "MDG         2009                4                 6           2.814994   \n",
       "MMR         2009                7                 7           0.663518   \n",
       "SSD         2009              NaN               NaN           4.403674   \n",
       "VUT         2009                2                 2           2.388536   \n",
       "WSM         2009                2                 2           0.684525   \n",
       "FJI         2010                4                 6           0.946142   \n",
       "GIN         2010                5                 5           2.730597   \n",
       "LUX         2010                1                 1           1.825406   \n",
       "NER         2010                4                 5           3.878552   \n",
       "SSD         2010              NaN               NaN           4.404235   \n",
       "TZA         2010                3                 3           3.174634   \n",
       "FJI         2011                4                 6           0.853949   \n",
       "GIN         2011                5                 5           2.722622   \n",
       "HRV         2011                2                 1                NaN   \n",
       "LBY         2011                6                 7           0.365690   \n",
       "LUX         2011                1                 1           2.222661   \n",
       "ZAR         2011                6                 6           3.206612   \n",
       "FJI         2012                4                 6           0.784507   \n",
       "GHA         2012                2                 1           2.441273   \n",
       "GIN         2012                5                 5           2.723327   \n",
       "LKA         2012                4                 5                NaN   \n",
       "LUX         2012                1                 1           2.401542   \n",
       "ARG         2013                2                 2           1.047065   \n",
       "CAF         2013                7                 7           1.954537   \n",
       "EGY         2013                5                 6           2.254326   \n",
       "FJI         2013                4                 6           0.721403   \n",
       "GIN         2013                5                 5           2.714272   \n",
       "\n",
       "                  population_female  female_legislators  life_expectancy  \\\n",
       "countrycode year                                                           \n",
       "FJI         2008          48.947707                 NaN        69.022024   \n",
       "GIN         2008          49.966108                 NaN        54.777585   \n",
       "LUX         2008          50.493425                23.3        80.539024   \n",
       "MMR         2008          51.176312                 NaN        64.367610   \n",
       "SSD         2008          50.051550                 NaN        52.593317   \n",
       "TKM         2008          50.724437                 NaN        64.756073   \n",
       "VUT         2008          49.142388                 3.8        70.254756   \n",
       "FJI         2009          48.947824                 NaN        69.202854   \n",
       "GIN         2009          49.955495                 NaN        55.556146   \n",
       "LUX         2009          50.416014                20.0        80.636585   \n",
       "MDG         2009          50.195519                 NaN        62.918171   \n",
       "MMR         2009          51.184720                 NaN        64.643561   \n",
       "SSD         2009          50.032723                 NaN        53.122659   \n",
       "VUT         2009          49.191878                 3.8        70.555829   \n",
       "WSM         2009          48.396318                 8.2        72.130683   \n",
       "FJI         2010          48.959593                 NaN        69.384366   \n",
       "GIN         2010          49.942592                 NaN        56.305049   \n",
       "LUX         2010          50.324776                20.0        80.631707   \n",
       "NER         2010          49.658200                 NaN        58.259000   \n",
       "SSD         2010          50.013787                 NaN        53.664902   \n",
       "TZA         2010          50.346737                 NaN        61.625610   \n",
       "FJI         2011          48.983832                 NaN        69.565000   \n",
       "GIN         2011          49.926862                 NaN        57.000537   \n",
       "HRV         2011          51.791799                23.8        76.775610   \n",
       "LBY         2011          48.984059                 NaN        71.683268   \n",
       "LUX         2011          50.218373                25.0        80.987805   \n",
       "ZAR         2011          50.189905                 NaN        57.398634   \n",
       "FJI         2012          49.019742                 NaN        69.743220   \n",
       "GHA         2012          50.452251                 NaN        60.977024   \n",
       "GIN         2012          49.909307                 NaN        57.637634   \n",
       "LKA         2012          51.564191                 5.8        74.068049   \n",
       "LUX         2012          50.101319                21.7        81.392683   \n",
       "ARG         2013          51.078024                 NaN        75.986098   \n",
       "CAF         2013          50.720342                 NaN        49.879878   \n",
       "EGY         2013          49.487699                 NaN        70.925780   \n",
       "FJI         2013          49.063189                 NaN        69.917927   \n",
       "GIN         2013          49.891009                 NaN        58.216488   \n",
       "\n",
       "                  population_15_64  zscores  \n",
       "countrycode year                             \n",
       "FJI         2008         65.706245        0  \n",
       "GIN         2008         53.134073        0  \n",
       "LUX         2008         67.877191      NaN  \n",
       "MMR         2008         64.768113        0  \n",
       "SSD         2008         52.863172      NaN  \n",
       "TKM         2008         65.247102        0  \n",
       "VUT         2008         57.801496      NaN  \n",
       "FJI         2009         65.938529        0  \n",
       "GIN         2009         53.333078        0  \n",
       "LUX         2009         68.143119      NaN  \n",
       "MDG         2009         53.386568        0  \n",
       "MMR         2009         64.959838        1  \n",
       "SSD         2009         53.048921      NaN  \n",
       "VUT         2009         57.776170      NaN  \n",
       "WSM         2009         56.466703      NaN  \n",
       "FJI         2010         66.170903        0  \n",
       "GIN         2010         53.550087        0  \n",
       "LUX         2010         68.362969      NaN  \n",
       "NER         2010         47.517486        0  \n",
       "SSD         2010         53.276511      NaN  \n",
       "TZA         2010         51.791172        0  \n",
       "FJI         2011         66.001058        0  \n",
       "GIN         2011         53.672867        0  \n",
       "HRV         2011         66.783153        1  \n",
       "LBY         2011         66.610428        0  \n",
       "LUX         2011         68.642123      NaN  \n",
       "ZAR         2011         50.620616        1  \n",
       "FJI         2012         65.855257        0  \n",
       "GHA         2012         57.553495        0  \n",
       "GIN         2012         53.827375        0  \n",
       "LKA         2012         66.774724        1  \n",
       "LUX         2012         68.906004      NaN  \n",
       "ARG         2013         63.834426        0  \n",
       "CAF         2013         56.420965        1  \n",
       "EGY         2013         62.240369        0  \n",
       "FJI         2013         65.713066        0  \n",
       "GIN         2013         54.003724        0  "
      ]
     },
     "execution_count": 347,
     "metadata": {},
     "output_type": "execute_result"
    }
   ],
   "source": [
    "#The rows to be dropped\n",
    "full_data[full_data.isnull().any(axis=1)]"
   ]
  },
  {
   "cell_type": "code",
   "execution_count": 348,
   "metadata": {
    "collapsed": true
   },
   "outputs": [],
   "source": [
    "full_data = full_data.dropna()"
   ]
  },
  {
   "cell_type": "code",
   "execution_count": 349,
   "metadata": {
    "collapsed": false,
    "scrolled": false
   },
   "outputs": [],
   "source": [
    "#Get Z scores of rows\n",
    "for col in x_cols:\n",
    "    full_data[col] = full_data[col].astype(float)\n",
    "    full_data[col] = (full_data[col] - full_data[col].mean())/full_data[col].std(ddof=0)\n"
   ]
  },
  {
   "cell_type": "markdown",
   "metadata": {},
   "source": [
    "#### Get the score values WITHOUT cross validating "
   ]
  },
  {
   "cell_type": "code",
   "execution_count": 350,
   "metadata": {
    "collapsed": false
   },
   "outputs": [],
   "source": [
    "def getScoreValues(X_train, \n",
    "                   X_test, \n",
    "                   y_train, \n",
    "                   y_test, \n",
    "                   model=KNeighborsClassifier(n_neighbors=6), \n",
    "                   verbose=True, \n",
    "                   get_features=True\n",
    "                  ):\n",
    "    model = model\n",
    "    model.fit(X_train, y_train)\n",
    "    y_pred = model.predict(X_test)\n",
    "    \n",
    "    \n",
    "    \n",
    "    accuracy_score_value = accuracy_score(y_test, y_pred)\n",
    "    precision_score_value = precision_score(y_test, y_pred)\n",
    "    recall_score_value = recall_score(y_test, y_pred)\n",
    "    f1_score_value = f1_score(y_test, y_pred)  \n",
    "    \n",
    "    feature_importances = None\n",
    "    if get_features:\n",
    "        try:\n",
    "            feature_importances = model.feature_importances_\n",
    "            #print(feature_importances)\n",
    "        except AttributeError:\n",
    "            pass\n",
    "    \n",
    "    if verbose:\n",
    "        #print(pd.concat([y_test,pd.Series(y_pred, index=y_test.index)], axis = 1))\n",
    "        print('Accuracy: {}\\nPrecision: {}\\nRecall: {}\\nf1: {}'.format(accuracy_score_value, \\\n",
    "                                                                       precision_score_value, \\\n",
    "                                                                       recall_score_value, \\\n",
    "                                                                       f1_score_value))\n",
    "    else:\n",
    "        return accuracy_score_value, precision_score_value, recall_score_value, f1_score_value, feature_importances"
   ]
  },
  {
   "cell_type": "code",
   "execution_count": 351,
   "metadata": {
    "collapsed": false
   },
   "outputs": [],
   "source": [
    "X = full_data[x_cols]\n",
    "y = full_data['zscores']\n",
    "\n",
    "\n",
    "X_train, X_test, y_train, y_test = train_test_split(X, y, test_size = .30, random_state=4444)"
   ]
  },
  {
   "cell_type": "code",
   "execution_count": 352,
   "metadata": {
    "collapsed": false
   },
   "outputs": [
    {
     "name": "stdout",
     "output_type": "stream",
     "text": [
      "Accuracy: 0.9047619047619048\n",
      "Precision: 0.6530612244897959\n",
      "Recall: 0.7111111111111111\n",
      "f1: 0.6808510638297872\n"
     ]
    }
   ],
   "source": [
    "getScoreValues(X_train, X_test, y_train, y_test, DecisionTreeClassifier())"
   ]
  },
  {
   "cell_type": "code",
   "execution_count": 353,
   "metadata": {
    "collapsed": false
   },
   "outputs": [
    {
     "name": "stdout",
     "output_type": "stream",
     "text": [
      "Accuracy: 0.8063492063492064\n",
      "Precision: 0.3620689655172414\n",
      "Recall: 0.4666666666666667\n",
      "f1: 0.4077669902912621\n"
     ]
    }
   ],
   "source": [
    "getScoreValues(X_train, X_test, y_train, y_test, BernoulliNB())"
   ]
  },
  {
   "cell_type": "code",
   "execution_count": 354,
   "metadata": {
    "collapsed": false
   },
   "outputs": [
    {
     "name": "stdout",
     "output_type": "stream",
     "text": [
      "Accuracy: 0.7492063492063492\n",
      "Precision: 0.3111111111111111\n",
      "Recall: 0.6222222222222222\n",
      "f1: 0.4148148148148148\n"
     ]
    }
   ],
   "source": [
    "getScoreValues(X_train, X_test, y_train, y_test, GaussianNB())"
   ]
  },
  {
   "cell_type": "code",
   "execution_count": 355,
   "metadata": {
    "collapsed": false
   },
   "outputs": [
    {
     "name": "stdout",
     "output_type": "stream",
     "text": [
      "Accuracy: 0.8698412698412699\n",
      "Precision: 0.6666666666666666\n",
      "Recall: 0.17777777777777778\n",
      "f1: 0.2807017543859649\n"
     ]
    }
   ],
   "source": [
    "getScoreValues(X_train, X_test, y_train, y_test, model=SVC())"
   ]
  },
  {
   "cell_type": "code",
   "execution_count": 356,
   "metadata": {
    "collapsed": false
   },
   "outputs": [
    {
     "name": "stdout",
     "output_type": "stream",
     "text": [
      "Accuracy: 0.926984126984127\n",
      "Precision: 0.8055555555555556\n",
      "Recall: 0.6444444444444445\n",
      "f1: 0.7160493827160493\n"
     ]
    }
   ],
   "source": [
    "getScoreValues(X_train, X_test, y_train, y_test, model=RandomForestClassifier())"
   ]
  },
  {
   "cell_type": "markdown",
   "metadata": {},
   "source": [
    "#### Print the ROC curve for a model"
   ]
  },
  {
   "cell_type": "code",
   "execution_count": 357,
   "metadata": {
    "collapsed": true
   },
   "outputs": [],
   "source": [
    "def getROCcurve(X_train, X_test, y_train, y_test, model=KNeighborsClassifier(n_neighbors=6)):\n",
    "    model = model\n",
    "    model.fit(X_train, y_train)\n",
    "    y_scores = model.predict_proba(X_test)[:,1]\n",
    "    fpr, tpr, thresholds = roc_curve(y_test, y_scores)\n",
    "\n",
    "    auc = roc_auc_score(y_test, y_scores)\n",
    "    print('AUC: {}'.format(auc))\n",
    "    \n",
    "    fig,ax = plt.subplots()\n",
    "    ax.plot(fpr, tpr, label='ROC Curve')\n",
    "\n",
    "    fig.set_size_inches(12, 8, forward=True)\n",
    "    plt.xlabel('FPR')\n",
    "    plt.ylabel('TPR')\n",
    "    plt.title('ROC Curve')\n",
    "    plt.legend(loc='best')"
   ]
  },
  {
   "cell_type": "code",
   "execution_count": 380,
   "metadata": {
    "collapsed": false,
    "scrolled": false
   },
   "outputs": [
    {
     "name": "stdout",
     "output_type": "stream",
     "text": [
      "AUC: 0.9786419753086419\n"
     ]
    },
    {
     "data": {
      "image/png": "[encoded data removed]",
      "text/plain": [
       "<matplotlib.figure.Figure at 0x10de817b8>"
      ]
     },
     "metadata": {},
     "output_type": "display_data"
    }
   ],
   "source": [
    "getROCcurve(X_train, X_test, y_train, y_test, model=RandomForestClassifier())"
   ]
  },
  {
   "cell_type": "markdown",
   "metadata": {},
   "source": [
    "#### Cross Validate and Return Scores "
   ]
  },
  {
   "cell_type": "code",
   "execution_count": 359,
   "metadata": {
    "collapsed": true
   },
   "outputs": [],
   "source": [
    "def getScoreValuesByCV(X, y, model=KNeighborsClassifier(n_neighbors=1)):\n",
    "    \n",
    "    accuracy_score_value = np.mean(cross_val_score(model, X, y, scoring='accuracy', cv=5))\n",
    "    precision_score_value = np.mean(cross_val_score(model, X, y, scoring='precision', cv=5))\n",
    "    recall_score_value = np.mean(cross_val_score(model, X, y, scoring='recall', cv=5))\n",
    "    f1_score_value = np.mean(cross_val_score(model, X, y, scoring='f1', cv=5))\n",
    "    roc_auc_value = np.mean(cross_val_score(model, X, y, scoring='roc_auc', cv=5))\n",
    "    #roc_auc_value = 0  \n",
    "        \n",
    "    print('Accuracy: {}\\nPrecision: {}\\nRecall: {}\\nf1: {}\\nROC AUC: {}'.format(accuracy_score_value, \\\n",
    "                                                                   precision_score_value, \\\n",
    "                                                                   recall_score_value, \\\n",
    "                                                                   f1_score_value,\n",
    "                                                                   roc_auc_value))"
   ]
  },
  {
   "cell_type": "code",
   "execution_count": 360,
   "metadata": {
    "collapsed": false,
    "scrolled": false
   },
   "outputs": [
    {
     "name": "stdout",
     "output_type": "stream",
     "text": [
      "Accuracy: 0.9589695911471916\n",
      "Precision: 0.8623891866383524\n",
      "Recall: 0.8653225806451614\n",
      "f1: 0.8628064029582057\n",
      "ROC AUC: 0.92032998657517\n"
     ]
    }
   ],
   "source": [
    "getScoreValuesByCV(X,y)"
   ]
  },
  {
   "cell_type": "code",
   "execution_count": 361,
   "metadata": {
    "collapsed": false,
    "scrolled": false
   },
   "outputs": [
    {
     "name": "stdout",
     "output_type": "stream",
     "text": [
      "Accuracy: 0.9446971586657293\n",
      "Precision: 0.8712931433442943\n",
      "Recall: 0.7387096774193549\n",
      "f1: 0.8070988327608382\n",
      "ROC AUC: 0.9657330136921118\n"
     ]
    }
   ],
   "source": [
    "getScoreValuesByCV(X,y, model=RandomForestClassifier())"
   ]
  },
  {
   "cell_type": "code",
   "execution_count": 362,
   "metadata": {
    "collapsed": false
   },
   "outputs": [
    {
     "name": "stdout",
     "output_type": "stream",
     "text": [
      "Accuracy: 0.7207147554366313\n",
      "Precision: 0.28659782556715907\n",
      "Recall: 0.5798387096774194\n",
      "f1: 0.38337993592387665\n",
      "ROC AUC: 0.7184708855325689\n"
     ]
    }
   ],
   "source": [
    "getScoreValuesByCV(X,y, model=GaussianNB())"
   ]
  },
  {
   "cell_type": "code",
   "execution_count": 363,
   "metadata": {
    "collapsed": false,
    "scrolled": false
   },
   "outputs": [
    {
     "name": "stdout",
     "output_type": "stream",
     "text": [
      "Accuracy: 0.9361300709766661\n",
      "Precision: 0.8115381773399015\n",
      "Recall: 0.7762096774193549\n",
      "f1: 0.7824170123640515\n",
      "ROC AUC: 0.8676080478616452\n"
     ]
    }
   ],
   "source": [
    "getScoreValuesByCV(X,y, model=DecisionTreeClassifier())"
   ]
  },
  {
   "cell_type": "code",
   "execution_count": 364,
   "metadata": {
    "collapsed": false,
    "scrolled": false
   },
   "outputs": [
    {
     "name": "stdout",
     "output_type": "stream",
     "text": [
      "Accuracy: 0.8627633279666205\n",
      "Precision: 0.8333333333333333\n",
      "Recall: 0.10221774193548387\n",
      "f1: 0.18001375988992088\n",
      "ROC AUC: 0.743819996922211\n"
     ]
    }
   ],
   "source": [
    "getScoreValuesByCV(X,y, model=LogisticRegression())"
   ]
  },
  {
   "cell_type": "markdown",
   "metadata": {},
   "source": [
    "## Modeling with Over Sampling of Training Set"
   ]
  },
  {
   "cell_type": "code",
   "execution_count": 365,
   "metadata": {
    "collapsed": false
   },
   "outputs": [],
   "source": [
    "X = full_data[x_cols]\n",
    "y = full_data['zscores']\n",
    "\n",
    "X_train, X_test, y_train, y_test = train_test_split(X, y, test_size = .30, random_state=4444)"
   ]
  },
  {
   "cell_type": "code",
   "execution_count": 366,
   "metadata": {
    "collapsed": false
   },
   "outputs": [],
   "source": [
    "verbose = False\n",
    "ratio = float(y.value_counts()[0]) / float(y.value_counts()[1])\n",
    "X_train = X_train.reset_index(drop=True).as_matrix()\n",
    "y_train = y_train.reset_index(drop=True).as_matrix()\n",
    "\n",
    "smote = SMOTE(ratio=ratio, verbose=verbose)\n",
    "smox, smoy = smote.fit_transform(X_train, y_train)"
   ]
  },
  {
   "cell_type": "code",
   "execution_count": 367,
   "metadata": {
    "collapsed": false
   },
   "outputs": [],
   "source": [
    "#smox"
   ]
  },
  {
   "cell_type": "code",
   "execution_count": 368,
   "metadata": {
    "collapsed": true
   },
   "outputs": [],
   "source": [
    "X_train = pd.DataFrame(smox, columns=x_cols)\n",
    "y_train = pd.Series(smoy)"
   ]
  },
  {
   "cell_type": "code",
   "execution_count": 369,
   "metadata": {
    "collapsed": false
   },
   "outputs": [
    {
     "name": "stdout",
     "output_type": "stream",
     "text": [
      "Accuracy: 0.926984126984127\n",
      "Precision: 0.6774193548387096\n",
      "Recall: 0.9333333333333333\n",
      "f1: 0.7850467289719625\n"
     ]
    }
   ],
   "source": [
    "getScoreValues(X_train, X_test, y_train, y_test)"
   ]
  },
  {
   "cell_type": "code",
   "execution_count": 370,
   "metadata": {
    "collapsed": false
   },
   "outputs": [
    {
     "name": "stdout",
     "output_type": "stream",
     "text": [
      "Accuracy: 0.9428571428571428\n",
      "Precision: 0.7755102040816326\n",
      "Recall: 0.8444444444444444\n",
      "f1: 0.8085106382978723\n"
     ]
    }
   ],
   "source": [
    "getScoreValues(X_train, X_test, y_train, y_test, model=RandomForestClassifier())"
   ]
  },
  {
   "cell_type": "code",
   "execution_count": 371,
   "metadata": {
    "collapsed": false
   },
   "outputs": [
    {
     "name": "stdout",
     "output_type": "stream",
     "text": [
      "Accuracy: 0.6190476190476191\n",
      "Precision: 0.2222222222222222\n",
      "Recall: 0.6666666666666666\n",
      "f1: 0.3333333333333333\n"
     ]
    }
   ],
   "source": [
    "getScoreValues(X_train, X_test, y_train, y_test, model=BernoulliNB())"
   ]
  },
  {
   "cell_type": "code",
   "execution_count": 372,
   "metadata": {
    "collapsed": false,
    "scrolled": true
   },
   "outputs": [
    {
     "name": "stdout",
     "output_type": "stream",
     "text": [
      "Accuracy: 0.6095238095238096\n",
      "Precision: 0.22916666666666666\n",
      "Recall: 0.7333333333333333\n",
      "f1: 0.3492063492063492\n"
     ]
    }
   ],
   "source": [
    "getScoreValues(X_train, X_test, y_train, y_test, model=GaussianNB())"
   ]
  },
  {
   "cell_type": "code",
   "execution_count": 373,
   "metadata": {
    "collapsed": false
   },
   "outputs": [
    {
     "name": "stdout",
     "output_type": "stream",
     "text": [
      "Accuracy: 0.9206349206349206\n",
      "Precision: 0.6785714285714286\n",
      "Recall: 0.8444444444444444\n",
      "f1: 0.7524752475247526\n"
     ]
    }
   ],
   "source": [
    "getScoreValues(X_train, X_test, y_train, y_test, model=DecisionTreeClassifier())"
   ]
  },
  {
   "cell_type": "code",
   "execution_count": 374,
   "metadata": {
    "collapsed": false,
    "scrolled": false
   },
   "outputs": [
    {
     "name": "stdout",
     "output_type": "stream",
     "text": [
      "Accuracy: 0.6444444444444445\n",
      "Precision: 0.23622047244094488\n",
      "Recall: 0.6666666666666666\n",
      "f1: 0.3488372093023256\n"
     ]
    }
   ],
   "source": [
    "getScoreValues(X_train, X_test, y_train, y_test, model=LogisticRegression())"
   ]
  },
  {
   "cell_type": "markdown",
   "metadata": {},
   "source": [
    "## Confusion Matrix"
   ]
  },
  {
   "cell_type": "code",
   "execution_count": 375,
   "metadata": {
    "collapsed": true
   },
   "outputs": [],
   "source": [
    "def plot_confusion_matrix(cm, title='Confusion matrix', cmap=plt.cm.Blues):\n",
    "    plt.imshow(cm, interpolation='nearest', cmap=cmap)\n",
    "    plt.title(title)\n",
    "    plt.colorbar()\n",
    "    plt.grid(False)\n",
    "    tick_marks = np.arange(2)\n",
    "    plt.xticks(tick_marks, ['Not at Risk', 'At Risk'], rotation=45)\n",
    "    plt.yticks(tick_marks, ['Not at Risk', 'At Risk'])\n",
    "    plt.tight_layout()\n",
    "    plt.ylabel('True label')\n",
    "    plt.xlabel('Predicted label')"
   ]
  },
  {
   "cell_type": "markdown",
   "metadata": {},
   "source": [
    "## Cross validate with or without oversampling"
   ]
  },
  {
   "cell_type": "code",
   "execution_count": 434,
   "metadata": {
    "collapsed": true
   },
   "outputs": [],
   "source": [
    "class getCrossValScoresBySSS2(object):\n",
    "    \n",
    "    def __init__(self, \n",
    "                 local_X, \n",
    "                 local_y,\n",
    "                 test_size=0.3,\n",
    "                 n_iter=30 \n",
    "                ):\n",
    "        self.model_list = [\\\n",
    "                          KNeighborsClassifier(n_neighbors=2), \\\n",
    "                          SVC(), \\\n",
    "                          LogisticRegression(), \\\n",
    "                          BernoulliNB(), \\\n",
    "                          GaussianNB(), \\\n",
    "                          RandomForestClassifier(n_estimators=30), \\\n",
    "                          DecisionTreeClassifier() \\\n",
    "                          ]\n",
    "        \n",
    "        self.index_func = [\\\n",
    "                      'KNeighborsClassifier(n_neighbors=2)', \\\n",
    "                      'SVC()', \\\n",
    "                      'LogisticRegression()', \\\n",
    "                      'BernoulliNB()', \\\n",
    "                      'GaussianNB()', \\\n",
    "                      'RandomForestClassifier(n_estimators=30)', \\\n",
    "                      'DecisionTreeClassifier()' \\\n",
    "                      ]\n",
    "        \n",
    "        self.score_dict = {}\n",
    "        self.acc_array = []\n",
    "        self.prec_array = []\n",
    "        self.recall_array = []\n",
    "        self.f1_array = []\n",
    "        self.feature_imp_array = []\n",
    "\n",
    "        self.x_cols = list(local_X.columns)\n",
    "        self.ratio = float(local_y.value_counts()[0]) / (float(local_y.value_counts()[1]))\n",
    "        self.sss = StratifiedShuffleSplit(y, n_iter=n_iter, test_size=test_size)\n",
    "    \n",
    "    def oversample_training(self, X_t, y_t):\n",
    "        X_t = X_t.reset_index(drop=True).as_matrix()\n",
    "        y_t = y_t.reset_index(drop=True).as_matrix()\n",
    "\n",
    "        smote = OverSampler(ratio=self.ratio, verbose=False)\n",
    "        smox, smoy = smote.fit_transform(X_t, y_t)\n",
    "        X_t = pd.DataFrame(smox, columns=self.x_cols)\n",
    "        y_t = pd.Series(smoy)\n",
    "        return X_t, y_t\n",
    "    \n",
    "    def get_multi_models(self, oversample=True):\n",
    "        self.score_dict = {}\n",
    "        model_acc = []\n",
    "        model_prec = []\n",
    "        model_rec = []\n",
    "        model_f1 = []\n",
    "        \n",
    "        col_names = ['Accuracy', 'Precision', 'Recall', 'F1']\n",
    "        \n",
    "        \n",
    "        \n",
    "        for a_model in self.model_list:\n",
    "            self.acc_array = []\n",
    "            self.prec_array = []\n",
    "            self.recall_array = []\n",
    "            self.f1_array = []\n",
    "            for train_index, test_index in self.sss:\n",
    "                #print(\"TRAIN:\", train_index, \"TEST:\", test_index)\n",
    "                X_train, X_test = X.ix[train_index], X.ix[test_index]\n",
    "                y_train, y_test = y.ix[train_index], y.ix[test_index]\n",
    "                \n",
    "                if oversample:\n",
    "                    X_train, y_train = self.oversample_training(X_train, y_train)\n",
    "            \n",
    "                accuracy_score_value, precision_score_value, \\\n",
    "                recall_score_value, f1_score_value, _ = getScoreValues(X_train, \n",
    "                                                                   X_test, \n",
    "                                                                   y_train, \n",
    "                                                                   y_test, \n",
    "                                                                   model=a_model, \n",
    "                                                                   verbose=False,\n",
    "                                                                   get_features=False)\n",
    "                \n",
    "                self.acc_array.append(accuracy_score_value)\n",
    "                self.prec_array.append(precision_score_value)\n",
    "                self.recall_array.append(recall_score_value)\n",
    "                self.f1_array.append(f1_score_value)\n",
    "                \n",
    "            mean_acc = np.mean(self.acc_array)\n",
    "            mean_prec = np.mean(self.prec_array)\n",
    "            mean_recall = np.mean(self.recall_array)\n",
    "            mean_f1 = np.mean(self.f1_array)\n",
    "            \n",
    "            model_acc.append(mean_acc)\n",
    "            model_prec.append(mean_prec)\n",
    "            model_rec.append(mean_recall)\n",
    "            model_f1.append(mean_f1)\n",
    "            \n",
    "        self.score_dict['Accuracy'] = model_acc\n",
    "        self.score_dict['Precision'] = model_prec\n",
    "        self.score_dict['Recall'] = model_rec\n",
    "        self.score_dict['F1'] = model_f1\n",
    "        \n",
    "        df = pd.DataFrame(self.score_dict, columns=col_names, index=self.index_func)\n",
    "        return df\n",
    "    \n",
    "    def get_single_model(self,\n",
    "                         model=KNeighborsClassifier(n_neighbors=2),\n",
    "                         oversample=True,\n",
    "                         get_models_avg=False,\n",
    "                         get_features=True,\n",
    "                         get_cm=False,\n",
    "                         verbose=True\n",
    "                        ):\n",
    "        \n",
    "        self.acc_array = []\n",
    "        self.prec_array = []\n",
    "        self.recall_array = []\n",
    "        self.f1_array = []\n",
    "        self.feature_imp_array = []\n",
    "        \n",
    "        for train_index, test_index in self.sss:\n",
    "            #print(\"TRAIN:\", train_index, \"TEST:\", test_index)\n",
    "            X_train, X_test = X.ix[train_index], X.ix[test_index]\n",
    "            y_train, y_test = y.ix[train_index], y.ix[test_index]\n",
    "\n",
    "            if oversample:\n",
    "                X_train, y_train = self.oversample_training(X_train, y_train)\n",
    "\n",
    "            #Get scores of the average prediction of multiple models\n",
    "            if get_models_avg:\n",
    "                y_predictions = []\n",
    "\n",
    "                for a_model in self.model_list:\n",
    "                    temp_model = a_model\n",
    "                    model.fit(X_train, y_train)\n",
    "                    y_pred = model.predict(X_test)\n",
    "                    y_predictions.append(y_pred)\n",
    "\n",
    "                average_prediction = np.mean(y_predictions, axis=0)\n",
    "                average_prediction = [int(round(n, 0)) for n in average_prediction]\n",
    "\n",
    "                accuracy_score_value = accuracy_score(y_test, y_pred)\n",
    "                precision_score_value = precision_score(y_test, y_pred)\n",
    "                recall_score_value = recall_score(y_test, y_pred)\n",
    "                f1_score_value = f1_score(y_test, y_pred)\n",
    "\n",
    "                self.acc_array.append(accuracy_score_value)\n",
    "                self.prec_array.append(precision_score_value)\n",
    "                self.recall_array.append(recall_score_value)\n",
    "                self.f1_array.append(f1_score_value)\n",
    "\n",
    "            #Get score values for each fold\n",
    "            else:\n",
    "                accuracy_score_value, precision_score_value, \\\n",
    "                recall_score_value, f1_score_value, \\\n",
    "                feature_importances = getScoreValues(X_train, \n",
    "                                                     X_test, \n",
    "                                                     y_train,\n",
    "                                                     y_test, \n",
    "                                                     model=model, \n",
    "                                                     verbose=False,\n",
    "                                                     get_features=get_features)\n",
    "\n",
    "\n",
    "                if get_cm:\n",
    "                    # For getting a confusion matrix of the last model in the cross validated set\n",
    "                    y_pred = self.get_cm_pred(model, X_train, y_train, X_test)\n",
    "\n",
    "                self.acc_array.append(accuracy_score_value)\n",
    "                self.prec_array.append(precision_score_value)\n",
    "                self.recall_array.append(recall_score_value)\n",
    "                self.f1_array.append(f1_score_value)\n",
    "                self.feature_imp_array.append(feature_importances)\n",
    "\n",
    "        if get_cm:\n",
    "            try:\n",
    "                cm = confusion_matrix(y_test, average_prediction)\n",
    "            except:\n",
    "                cm = confusion_matrix(y_test, y_pred)\n",
    "            plt.figure()\n",
    "            plot_confusion_matrix(cm)\n",
    "\n",
    "        mean_acc = np.mean(self.acc_array)\n",
    "        mean_prec = np.mean(self.prec_array)\n",
    "        mean_recall = np.mean(self.recall_array)\n",
    "        mean_f1 = np.mean(self.f1_array)\n",
    "        try:\n",
    "            mean_feature_imp = np.mean(self.feature_imp_array, axis=0)\n",
    "        except TypeError:\n",
    "            mean_feature_imp = None\n",
    "            \n",
    "            \n",
    "        if verbose:\n",
    "            print('Avg Feature Importance: {}'.format(mean_feature_imp))\n",
    "            print('Accuracy: {}\\nPrecision: {}\\nRecall: {}\\nf1: {}'.format(mean_acc, \\\n",
    "                                                                           mean_prec, \\\n",
    "                                                                           mean_recall,\\\n",
    "                                                                           mean_f1))\n",
    "        \n",
    "        else:\n",
    "            return mean_acc, mean_prec, mean_recall, mean_f1\n",
    "    \n",
    "    def get_cm_pred(self, model, X_t, y_t, X_ts):\n",
    "        temp_model = model\n",
    "        temp_model.fit(X_t, y_t)\n",
    "        y_pd = temp_model.predict(X_ts)\n",
    "        return y_pd\n",
    "    "
   ]
  },
  {
   "cell_type": "code",
   "execution_count": 426,
   "metadata": {
    "collapsed": false
   },
   "outputs": [],
   "source": [
    "X = full_data[x_cols]\n",
    "y = full_data['zscores']"
   ]
  },
  {
   "cell_type": "markdown",
   "metadata": {},
   "source": [
    "## Scores for various models"
   ]
  },
  {
   "cell_type": "markdown",
   "metadata": {},
   "source": [
    "#### With oversampling"
   ]
  },
  {
   "cell_type": "code",
   "execution_count": 435,
   "metadata": {
    "collapsed": false
   },
   "outputs": [],
   "source": [
    "aaaa = getCrossValScoresBySSS2(X,y)"
   ]
  },
  {
   "cell_type": "code",
   "execution_count": 407,
   "metadata": {
    "collapsed": false
   },
   "outputs": [
    {
     "data": {
      "text/html": [
       "<div>\n",
       "<table border=\"1\" class=\"dataframe\">\n",
       "  <thead>\n",
       "    <tr style=\"text-align: right;\">\n",
       "      <th></th>\n",
       "      <th>Accuracy</th>\n",
       "      <th>Precision</th>\n",
       "      <th>Recall</th>\n",
       "      <th>F1</th>\n",
       "    </tr>\n",
       "  </thead>\n",
       "  <tbody>\n",
       "    <tr>\n",
       "      <th>KNeighborsClassifier(n_neighbors=2)</th>\n",
       "      <td>0.958307</td>\n",
       "      <td>0.854545</td>\n",
       "      <td>0.875887</td>\n",
       "      <td>0.862565</td>\n",
       "    </tr>\n",
       "    <tr>\n",
       "      <th>SVC()</th>\n",
       "      <td>0.809101</td>\n",
       "      <td>0.432155</td>\n",
       "      <td>0.855319</td>\n",
       "      <td>0.572313</td>\n",
       "    </tr>\n",
       "    <tr>\n",
       "      <th>LogisticRegression()</th>\n",
       "      <td>0.662434</td>\n",
       "      <td>0.257912</td>\n",
       "      <td>0.671631</td>\n",
       "      <td>0.372318</td>\n",
       "    </tr>\n",
       "    <tr>\n",
       "      <th>BernoulliNB()</th>\n",
       "      <td>0.609524</td>\n",
       "      <td>0.219443</td>\n",
       "      <td>0.629787</td>\n",
       "      <td>0.325003</td>\n",
       "    </tr>\n",
       "    <tr>\n",
       "      <th>GaussianNB()</th>\n",
       "      <td>0.578413</td>\n",
       "      <td>0.212204</td>\n",
       "      <td>0.672340</td>\n",
       "      <td>0.322281</td>\n",
       "    </tr>\n",
       "    <tr>\n",
       "      <th>RandomForestClassifier(n_estimators=30)</th>\n",
       "      <td>0.956720</td>\n",
       "      <td>0.860961</td>\n",
       "      <td>0.848936</td>\n",
       "      <td>0.853553</td>\n",
       "    </tr>\n",
       "    <tr>\n",
       "      <th>DecisionTreeClassifier()</th>\n",
       "      <td>0.930899</td>\n",
       "      <td>0.770546</td>\n",
       "      <td>0.766667</td>\n",
       "      <td>0.766736</td>\n",
       "    </tr>\n",
       "  </tbody>\n",
       "</table>\n",
       "</div>"
      ],
      "text/plain": [
       "                                         Accuracy  Precision    Recall  \\\n",
       "KNeighborsClassifier(n_neighbors=2)      0.958307   0.854545  0.875887   \n",
       "SVC()                                    0.809101   0.432155  0.855319   \n",
       "LogisticRegression()                     0.662434   0.257912  0.671631   \n",
       "BernoulliNB()                            0.609524   0.219443  0.629787   \n",
       "GaussianNB()                             0.578413   0.212204  0.672340   \n",
       "RandomForestClassifier(n_estimators=30)  0.956720   0.860961  0.848936   \n",
       "DecisionTreeClassifier()                 0.930899   0.770546  0.766667   \n",
       "\n",
       "                                               F1  \n",
       "KNeighborsClassifier(n_neighbors=2)      0.862565  \n",
       "SVC()                                    0.572313  \n",
       "LogisticRegression()                     0.372318  \n",
       "BernoulliNB()                            0.325003  \n",
       "GaussianNB()                             0.322281  \n",
       "RandomForestClassifier(n_estimators=30)  0.853553  \n",
       "DecisionTreeClassifier()                 0.766736  "
      ]
     },
     "execution_count": 407,
     "metadata": {},
     "output_type": "execute_result"
    }
   ],
   "source": [
    "aaaa.get_multi_models()"
   ]
  },
  {
   "cell_type": "markdown",
   "metadata": {},
   "source": [
    "#### Without oversampling"
   ]
  },
  {
   "cell_type": "code",
   "execution_count": 408,
   "metadata": {
    "collapsed": false,
    "scrolled": true
   },
   "outputs": [
    {
     "data": {
      "text/html": [
       "<div>\n",
       "<table border=\"1\" class=\"dataframe\">\n",
       "  <thead>\n",
       "    <tr style=\"text-align: right;\">\n",
       "      <th></th>\n",
       "      <th>Accuracy</th>\n",
       "      <th>Precision</th>\n",
       "      <th>Recall</th>\n",
       "      <th>F1</th>\n",
       "    </tr>\n",
       "  </thead>\n",
       "  <tbody>\n",
       "    <tr>\n",
       "      <th>KNeighborsClassifier(n_neighbors=2)</th>\n",
       "      <td>0.942540</td>\n",
       "      <td>0.881990</td>\n",
       "      <td>0.716312</td>\n",
       "      <td>0.787755</td>\n",
       "    </tr>\n",
       "    <tr>\n",
       "      <th>SVC()</th>\n",
       "      <td>0.884762</td>\n",
       "      <td>0.816590</td>\n",
       "      <td>0.298582</td>\n",
       "      <td>0.432695</td>\n",
       "    </tr>\n",
       "    <tr>\n",
       "      <th>LogisticRegression()</th>\n",
       "      <td>0.860529</td>\n",
       "      <td>0.783677</td>\n",
       "      <td>0.084397</td>\n",
       "      <td>0.149342</td>\n",
       "    </tr>\n",
       "    <tr>\n",
       "      <th>BernoulliNB()</th>\n",
       "      <td>0.808360</td>\n",
       "      <td>0.395339</td>\n",
       "      <td>0.526241</td>\n",
       "      <td>0.450097</td>\n",
       "    </tr>\n",
       "    <tr>\n",
       "      <th>GaussianNB()</th>\n",
       "      <td>0.723069</td>\n",
       "      <td>0.285780</td>\n",
       "      <td>0.564539</td>\n",
       "      <td>0.378754</td>\n",
       "    </tr>\n",
       "    <tr>\n",
       "      <th>RandomForestClassifier(n_estimators=30)</th>\n",
       "      <td>0.948360</td>\n",
       "      <td>0.894151</td>\n",
       "      <td>0.743972</td>\n",
       "      <td>0.809889</td>\n",
       "    </tr>\n",
       "    <tr>\n",
       "      <th>DecisionTreeClassifier()</th>\n",
       "      <td>0.931005</td>\n",
       "      <td>0.764742</td>\n",
       "      <td>0.782979</td>\n",
       "      <td>0.771641</td>\n",
       "    </tr>\n",
       "  </tbody>\n",
       "</table>\n",
       "</div>"
      ],
      "text/plain": [
       "                                         Accuracy  Precision    Recall  \\\n",
       "KNeighborsClassifier(n_neighbors=2)      0.942540   0.881990  0.716312   \n",
       "SVC()                                    0.884762   0.816590  0.298582   \n",
       "LogisticRegression()                     0.860529   0.783677  0.084397   \n",
       "BernoulliNB()                            0.808360   0.395339  0.526241   \n",
       "GaussianNB()                             0.723069   0.285780  0.564539   \n",
       "RandomForestClassifier(n_estimators=30)  0.948360   0.894151  0.743972   \n",
       "DecisionTreeClassifier()                 0.931005   0.764742  0.782979   \n",
       "\n",
       "                                               F1  \n",
       "KNeighborsClassifier(n_neighbors=2)      0.787755  \n",
       "SVC()                                    0.432695  \n",
       "LogisticRegression()                     0.149342  \n",
       "BernoulliNB()                            0.450097  \n",
       "GaussianNB()                             0.378754  \n",
       "RandomForestClassifier(n_estimators=30)  0.809889  \n",
       "DecisionTreeClassifier()                 0.771641  "
      ]
     },
     "execution_count": 408,
     "metadata": {},
     "output_type": "execute_result"
    }
   ],
   "source": [
    "aaaa.get_multi_models(oversample=False)"
   ]
  },
  {
   "cell_type": "markdown",
   "metadata": {},
   "source": [
    "#### KNN various n\n"
   ]
  },
  {
   "cell_type": "code",
   "execution_count": 428,
   "metadata": {
    "collapsed": false,
    "scrolled": true
   },
   "outputs": [
    {
     "name": "stdout",
     "output_type": "stream",
     "text": [
      "n =  1\n",
      "Avg Feature Importance: None\n",
      "Accuracy: 0.9541798941798941\n",
      "Precision: 0.8391793736811957\n",
      "Recall: 0.8624113475177304\n",
      "f1: 0.8490414672375979\n",
      "\n",
      "\n",
      "n =  2\n",
      "Avg Feature Importance: None\n",
      "Accuracy: 0.9539682539682539\n",
      "Precision: 0.8355206008206051\n",
      "Recall: 0.8687943262411348\n",
      "f1: 0.849430578398166\n",
      "\n",
      "\n",
      "n =  3\n",
      "Avg Feature Importance: None\n",
      "Accuracy: 0.927936507936508\n",
      "Precision: 0.6986533122611616\n",
      "Recall: 0.9163120567375886\n",
      "f1: 0.791815056823295\n",
      "\n",
      "\n",
      "n =  4\n",
      "Avg Feature Importance: None\n",
      "Accuracy: 0.9304761904761905\n",
      "Precision: 0.7159839791405109\n",
      "Recall: 0.9007092198581561\n",
      "f1: 0.7958225040621945\n",
      "\n",
      "\n",
      "n =  5\n",
      "Avg Feature Importance: None\n",
      "Accuracy: 0.9082539682539683\n",
      "Precision: 0.6336652724421872\n",
      "Recall: 0.9297872340425533\n",
      "f1: 0.7523298867357077\n",
      "\n",
      "\n",
      "n =  6\n",
      "Avg Feature Importance: None\n",
      "Accuracy: 0.9067724867724869\n",
      "Precision: 0.6322708197395832\n",
      "Recall: 0.9099290780141845\n",
      "f1: 0.745032595260151\n",
      "\n",
      "\n",
      "n =  7\n",
      "Avg Feature Importance: None\n",
      "Accuracy: 0.8775661375661377\n",
      "Precision: 0.5569143178971624\n",
      "Recall: 0.9156028368794329\n",
      "f1: 0.6913753351263492\n",
      "\n",
      "\n"
     ]
    },
    {
     "data": {
      "image/png": "[encoded data removed]",
      "text/plain": [
       "<matplotlib.figure.Figure at 0x10deec4a8>"
      ]
     },
     "metadata": {},
     "output_type": "display_data"
    },
    {
     "data": {
      "image/png": "[encoded data removed]",
      "text/plain": [
       "<matplotlib.figure.Figure at 0x10d099780>"
      ]
     },
     "metadata": {},
     "output_type": "display_data"
    },
    {
     "data": {
      "image/png": "[encoded data removed]",
      "text/plain": [
       "<matplotlib.figure.Figure at 0x10eb28f60>"
      ]
     },
     "metadata": {},
     "output_type": "display_data"
    },
    {
     "data": {
      "image/png": "[encoded data removed]",
      "text/plain": [
       "<matplotlib.figure.Figure at 0x10dbe6470>"
      ]
     },
     "metadata": {},
     "output_type": "display_data"
    },
    {
     "data": {
      "image/png": "[encoded data removed]",
      "text/plain": [
       "<matplotlib.figure.Figure at 0x10d84dac8>"
      ]
     },
     "metadata": {},
     "output_type": "display_data"
    },
    {
     "data": {
      "image/png": "[encoded data removed]",
      "text/plain": [
       "<matplotlib.figure.Figure at 0x10eb33128>"
      ]
     },
     "metadata": {},
     "output_type": "display_data"
    },
    {
     "data": {
      "image/png": "[encoded data removed]",
      "text/plain": [
       "<matplotlib.figure.Figure at 0x10de922b0>"
      ]
     },
     "metadata": {},
     "output_type": "display_data"
    }
   ],
   "source": [
    "for n in range(1,8):\n",
    "    print('n = ', n)\n",
    "    aaaa.get_single_model(model=KNeighborsClassifier(n_neighbors=n), get_cm=True)\n",
    "    print('\\n')"
   ]
  },
  {
   "cell_type": "markdown",
   "metadata": {},
   "source": [
    "#### Random Forest for important features"
   ]
  },
  {
   "cell_type": "code",
   "execution_count": 429,
   "metadata": {
    "collapsed": false,
    "scrolled": false
   },
   "outputs": [
    {
     "name": "stdout",
     "output_type": "stream",
     "text": [
      "Avg Feature Importance: [ 0.11910583  0.10106709  0.16848037  0.13113441  0.11901138  0.15348134\n",
      "  0.20771958]\n",
      "Accuracy: 0.9564021164021164\n",
      "Precision: 0.8571532108116542\n",
      "Recall: 0.8560283687943261\n",
      "f1: 0.8543962415736812\n"
     ]
    },
    {
     "data": {
      "image/png": "[encoded data removed]",
      "text/plain": [
       "<matplotlib.figure.Figure at 0x10d9a06a0>"
      ]
     },
     "metadata": {},
     "output_type": "display_data"
    }
   ],
   "source": [
    "aaaa.get_single_model(model=RandomForestClassifier(n_estimators=100), get_cm = True)"
   ]
  },
  {
   "cell_type": "code",
   "execution_count": 430,
   "metadata": {
    "collapsed": false
   },
   "outputs": [
    {
     "name": "stdout",
     "output_type": "stream",
     "text": [
      "Avg Feature Importance: [ 0.12172426  0.10641522  0.1665361   0.13049466  0.12021506  0.14983158\n",
      "  0.20478312]\n",
      "Accuracy: 0.9548148148148149\n",
      "Precision: 0.8546938911821346\n",
      "Recall: 0.8432624113475174\n",
      "f1: 0.8476577621302332\n"
     ]
    },
    {
     "data": {
      "image/png": "[encoded data removed]",
      "text/plain": [
       "<matplotlib.figure.Figure at 0x10cbc8358>"
      ]
     },
     "metadata": {},
     "output_type": "display_data"
    }
   ],
   "source": [
    "aaaa.get_single_model(model=RandomForestClassifier(n_estimators=30), get_cm = True)"
   ]
  },
  {
   "cell_type": "markdown",
   "metadata": {},
   "source": [
    "#### DecisionTreeClassifier for important features"
   ]
  },
  {
   "cell_type": "code",
   "execution_count": 431,
   "metadata": {
    "collapsed": false
   },
   "outputs": [
    {
     "name": "stdout",
     "output_type": "stream",
     "text": [
      "Avg Feature Importance: [ 0.09996413  0.1260407   0.18931113  0.14416937  0.11291873  0.13840196\n",
      "  0.18919398]\n",
      "Accuracy: 0.9311111111111111\n",
      "Precision: 0.7874820191261079\n",
      "Recall: 0.748936170212766\n",
      "f1: 0.764614758961548\n"
     ]
    },
    {
     "data": {
      "image/png": "[encoded data removed]",
      "text/plain": [
       "<matplotlib.figure.Figure at 0x10d8cf550>"
      ]
     },
     "metadata": {},
     "output_type": "display_data"
    }
   ],
   "source": [
    "aaaa.get_single_model(model=DecisionTreeClassifier(), get_cm = True)"
   ]
  },
  {
   "cell_type": "markdown",
   "metadata": {},
   "source": [
    "### Random forest, different number of trees"
   ]
  },
  {
   "cell_type": "code",
   "execution_count": 432,
   "metadata": {
    "collapsed": false
   },
   "outputs": [
    {
     "data": {
      "image/png": "[encoded data removed]",
      "text/plain": [
       "<matplotlib.figure.Figure at 0x10ca86cf8>"
      ]
     },
     "metadata": {},
     "output_type": "display_data"
    }
   ],
   "source": [
    "forest_acc = []\n",
    "forest_prec = []\n",
    "forest_rec = []\n",
    "forest_f1 = []\n",
    "forest_range = list(range(1,30))\n",
    "for trees in forest_range:\n",
    "    acc, prec, rec, f1 = aaaa.get_single_model(model=RandomForestClassifier(n_estimators=trees), verbose=False)\n",
    "    forest_acc.append(acc)\n",
    "    forest_prec.append(prec)\n",
    "    forest_rec.append(rec)\n",
    "    forest_f1.append(f1)\n",
    "\n",
    "plt.figure(figsize=(11,7))\n",
    "plt.plot(forest_range, forest_acc, label='Accuracy')\n",
    "plt.plot(forest_range, forest_prec,label='Precision')\n",
    "plt.plot(forest_range, forest_rec,label='Recall')\n",
    "plt.plot(forest_range, forest_f1,label='F1')\n",
    "\n",
    "plt.legend(loc='best')\n",
    "plt.xlabel('Num Trees')\n",
    "plt.ylabel('Score')\n",
    "plt.title('Scores at various tree sizes')\n",
    "plt.show()\n",
    "\n",
    "    "
   ]
  },
  {
   "cell_type": "markdown",
   "metadata": {
    "collapsed": true
   },
   "source": [
    "### Model averages:"
   ]
  },
  {
   "cell_type": "code",
   "execution_count": 436,
   "metadata": {
    "collapsed": false,
    "scrolled": true
   },
   "outputs": [
    {
     "name": "stdout",
     "output_type": "stream",
     "text": [
      "Avg Feature Importance: nan\n",
      "Accuracy: 0.9573544973544973\n",
      "Precision: 0.8480837645809978\n",
      "Recall: 0.8758865248226951\n",
      "f1: 0.8598691148336614\n"
     ]
    },
    {
     "name": "stderr",
     "output_type": "stream",
     "text": [
      "/Users/kenn/anaconda/lib/python3.5/site-packages/numpy/core/_methods.py:59: RuntimeWarning: Mean of empty slice.\n",
      "  warnings.warn(\"Mean of empty slice.\", RuntimeWarning)\n"
     ]
    }
   ],
   "source": [
    "aaaa.get_single_model(get_models_avg=True)"
   ]
  },
  {
   "cell_type": "code",
   "execution_count": null,
   "metadata": {
    "collapsed": true
   },
   "outputs": [],
   "source": []
  },
  {
   "cell_type": "code",
   "execution_count": null,
   "metadata": {
    "collapsed": true
   },
   "outputs": [],
   "source": []
  },
  {
   "cell_type": "code",
   "execution_count": null,
   "metadata": {
    "collapsed": true
   },
   "outputs": [],
   "source": []
  },
  {
   "cell_type": "code",
   "execution_count": null,
   "metadata": {
    "collapsed": true
   },
   "outputs": [],
   "source": []
  }
 ],
 "metadata": {
  "kernelspec": {
   "display_name": "Python 3",
   "language": "python",
   "name": "python3"
  },
  "language_info": {
   "codemirror_mode": {
    "name": "ipython",
    "version": 3
   },
   "file_extension": ".py",
   "mimetype": "text/x-python",
   "name": "python",
   "nbconvert_exporter": "python",
   "pygments_lexer": "ipython3",
   "version": "3.5.0"
  }
 },
 "nbformat": 4,
 "nbformat_minor": 0
}
