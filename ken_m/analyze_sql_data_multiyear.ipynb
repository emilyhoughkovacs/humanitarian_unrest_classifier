{
 "cells": [
  {
   "cell_type": "markdown",
   "metadata": {},
   "source": [
    "### This is the same notebook as analyze_sql_data.ipynb but includes multiple years"
   ]
  },
  {
   "cell_type": "code",
   "execution_count": 13,
   "metadata": {
    "collapsed": false
   },
   "outputs": [],
   "source": [
    "from sqlalchemy import create_engine\n",
    "import pandas as pd\n",
    "import numpy as np\n",
    "\n",
    "from sklearn.cross_validation import train_test_split, StratifiedShuffleSplit\n",
    "from sklearn.neighbors import KNeighborsClassifier\n",
    "from sklearn.metrics import (\n",
    "                            accuracy_score, \n",
    "                            precision_score, \n",
    "                            recall_score, \n",
    "                            f1_score, \n",
    "                            roc_curve, \n",
    "                            roc_auc_score, \n",
    "                            confusion_matrix\n",
    "                            )\n",
    "from sklearn.linear_model import LogisticRegression, LinearRegression\n",
    "from sklearn.naive_bayes import GaussianNB, BernoulliNB\n",
    "from sklearn.svm import SVC\n",
    "from sklearn.tree import DecisionTreeClassifier\n",
    "from sklearn.tree import DecisionTreeRegressor\n",
    "from sklearn.ensemble import RandomForestClassifier\n",
    "from sklearn.learning_curve import learning_curve\n",
    "from sklearn.cross_validation import cross_val_score\n",
    "from sklearn.metrics import confusion_matrix\n",
    "\n",
    "from unbalanced_dataset import OverSampler, SMOTE\n",
    "\n",
    "import matplotlib.pyplot as plt\n",
    "import seaborn as sns\n",
    "\n",
    "\n",
    "%matplotlib inline"
   ]
  },
  {
   "cell_type": "code",
   "execution_count": 14,
   "metadata": {
    "collapsed": true
   },
   "outputs": [],
   "source": [
    "CONFIG = {}\n",
    "\n",
    "with open('config.txt', \"r\") as in_file:\n",
    "    for line in in_file:\n",
    "        line = line.split(\":\")\n",
    "        parameter = line[0].strip()\n",
    "        value = line[1].strip()\n",
    "        CONFIG[parameter] = value\n",
    "                \n",
    "engine_path = 'postgresql://'+CONFIG['username']+':'+\\\n",
    "                CONFIG['password']+'@'+CONFIG['ip']+\\\n",
    "                ':'+CONFIG['port']+'/'+CONFIG['database']\n",
    "        \n",
    "engine = create_engine(engine_path)"
   ]
  },
  {
   "cell_type": "markdown",
   "metadata": {},
   "source": [
    "### Want something like:\n",
    "\n",
    "    SELECT\n",
    "        table4.countrycode as 'countrycode',\n",
    "        b.table1 as 'table1',\n",
    "        b.table2 as 'table2',\n",
    "        b.table3 as 'table3',\n",
    "        table4.year as 'table4'\n",
    "        (SELECT\n",
    "            table3.countrycode as 'countrycode',\n",
    "            a.table1 as 'table1',\n",
    "            a.table2 as 'table2',\n",
    "            table3.year as 'table3'\n",
    "         FROM\n",
    "            (SELECT\n",
    "                 table1.countrycode as 'countrycode',\n",
    "                 table1.year as 'table1',\n",
    "                 table2.year as 'table2'\n",
    "             FROM\n",
    "                 table1\n",
    "             JOIN\n",
    "                 table2\n",
    "               ON \n",
    "                 table1.countrycode = table2.countrycode\n",
    "             ) a\n",
    "         JOIN\n",
    "             table3\n",
    "           ON\n",
    "             a.countrycode = table3.countrycode  \n",
    "        ) b    \n",
    "    JOIN\n",
    "        table4\n",
    "      ON\n",
    "        a.countrycode = table3.countrycode \n",
    "    \n",
    "        \n",
    "       \n"
   ]
  },
  {
   "cell_type": "code",
   "execution_count": 15,
   "metadata": {
    "collapsed": false
   },
   "outputs": [],
   "source": [
    "def makeSQLQuery(table_names, year):\n",
    "    dotyyear = '.y' + str(year)\n",
    "    current_unit = 'a'\n",
    "    query = '(SELECT ' + table_names[0] + '.countrycode AS countrycode, ' + \\\n",
    "            table_names[0] + dotyyear + ' AS ' + table_names[0] + ', ' + \\\n",
    "            table_names[1] + dotyyear + ' AS ' + table_names[1] + \\\n",
    "            ' FROM ' + table_names[0] + \\\n",
    "            ' JOIN ' + table_names[1] + \\\n",
    "            ' ON ' + table_names[0] + '.countrycode=' + table_names[1] + '.countrycode) '\n",
    "    query = query + current_unit\n",
    "    \n",
    "    for table in table_names[2:]:\n",
    "        curr_index = table_names.index(table)\n",
    "        temp_list = table_names[:curr_index+1]\n",
    "        \n",
    "        pre_string = '(SELECT ' + table + '.countrycode as countrycode'\n",
    "        \n",
    "        for temp_table in temp_list[:-1]:\n",
    "            pre_string = pre_string + ', ' + current_unit + '.' + temp_table + ' AS ' + temp_table\n",
    "        \n",
    "        pre_string = pre_string + ', ' + table + dotyyear + ' AS ' + table\n",
    "        \n",
    "        query = pre_string + ' FROM ' + query + ' JOIN ' + table + \\\n",
    "                ' ON ' + current_unit + '.countrycode=' + table + '.countrycode) '\n",
    "        \n",
    "        current_unit = current_unit + 'a'\n",
    "        query = query + current_unit\n",
    "        \n",
    "    query = query.rsplit(' ', 1)[0][1:-1]\n",
    "    \n",
    "    return query\n",
    "    \n",
    "    "
   ]
  },
  {
   "cell_type": "markdown",
   "metadata": {},
   "source": [
    "## Change these to select data"
   ]
  },
  {
   "cell_type": "code",
   "execution_count": 16,
   "metadata": {
    "collapsed": false
   },
   "outputs": [],
   "source": [
    "table_names = ['civil_liberties', \\\n",
    "               'political_rights', \\\n",
    "               #'freedom_status', \\\n",
    "               #'corruption_perception', \\\n",
    "               'female_legislators', \\\n",
    "               'population_growth', \\\n",
    "               'population_female', \\\n",
    "               #'under_5_mortality', \\\n",
    "               'life_expectancy', \\\n",
    "               #'population_0_14', \\\n",
    "               'population_15_64',  \\\n",
    "               #'population_65_up', \\\n",
    "               #'terror_new', \\\n",
    "               #'peace_new', \\\n",
    "               #'refugees_percapita', \\\n",
    "               'zscores']"
   ]
  },
  {
   "cell_type": "code",
   "execution_count": 17,
   "metadata": {
    "collapsed": true
   },
   "outputs": [],
   "source": [
    "x_cols = table_names[:-1]"
   ]
  },
  {
   "cell_type": "code",
   "execution_count": 18,
   "metadata": {
    "collapsed": true
   },
   "outputs": [],
   "source": [
    "years = [2008, 2009, 2010, 2011, 2012, 2013]"
   ]
  },
  {
   "cell_type": "code",
   "execution_count": 19,
   "metadata": {
    "collapsed": true
   },
   "outputs": [],
   "source": [
    "full_data = pd.DataFrame()"
   ]
  },
  {
   "cell_type": "code",
   "execution_count": 20,
   "metadata": {
    "collapsed": false,
    "scrolled": false
   },
   "outputs": [],
   "source": [
    "for year in years:\n",
    "    query = makeSQLQuery(table_names, year)\n",
    "    year_data = pd.read_sql_query(query, engine)\n",
    "    year_data['year'] = year\n",
    "    year_data = year_data.set_index(['year', 'countrycode'])\n",
    "    full_data = pd.concat([full_data, year_data])\n",
    "    \n"
   ]
  },
  {
   "cell_type": "code",
   "execution_count": 21,
   "metadata": {
    "collapsed": false
   },
   "outputs": [
    {
     "data": {
      "text/plain": [
       "<matplotlib.axes._subplots.AxesSubplot at 0x10dae6dd8>"
      ]
     },
     "execution_count": 21,
     "metadata": {},
     "output_type": "execute_result"
    },
    {
     "data": {
      "image/png": "[encoded data removed]",
      "text/plain": [
       "<matplotlib.figure.Figure at 0x10c4b3eb8>"
      ]
     },
     "metadata": {},
     "output_type": "display_data"
    }
   ],
   "source": [
    "sns.distplot(full_data.dropna()['zscores'].astype(float))"
   ]
  },
  {
   "cell_type": "code",
   "execution_count": 22,
   "metadata": {
    "collapsed": false
   },
   "outputs": [
    {
     "data": {
      "text/plain": [
       "(array([ 989.,   22.,    7.,    7.,    7.,    2.,    3.,    3.,    5.,    4.]),\n",
       " array([-0.29313644,  0.67991785,  1.65297214,  2.62602643,  3.59908072,\n",
       "         4.57213501,  5.5451893 ,  6.51824359,  7.49129788,  8.46435217,\n",
       "         9.43740646]),\n",
       " <a list of 10 Patch objects>)"
      ]
     },
     "execution_count": 22,
     "metadata": {},
     "output_type": "execute_result"
    },
    {
     "data": {
      "image/png": "[encoded data removed]",
      "text/plain": [
       "<matplotlib.figure.Figure at 0x10dd2c2b0>"
      ]
     },
     "metadata": {},
     "output_type": "display_data"
    }
   ],
   "source": [
    "import pylab as pl\n",
    "\n",
    "pl.hist(sorted(list(full_data.dropna()['zscores'].astype(float))))\n",
    "\n"
   ]
  },
  {
   "cell_type": "code",
   "execution_count": 23,
   "metadata": {
    "collapsed": false
   },
   "outputs": [
    {
     "data": {
      "text/html": [
       "<div>\n",
       "<table border=\"1\" class=\"dataframe\">\n",
       "  <thead>\n",
       "    <tr style=\"text-align: right;\">\n",
       "      <th></th>\n",
       "      <th></th>\n",
       "      <th>civil_liberties</th>\n",
       "      <th>political_rights</th>\n",
       "      <th>female_legislators</th>\n",
       "      <th>population_growth</th>\n",
       "      <th>population_female</th>\n",
       "      <th>life_expectancy</th>\n",
       "      <th>population_15_64</th>\n",
       "      <th>zscores</th>\n",
       "    </tr>\n",
       "    <tr>\n",
       "      <th>year</th>\n",
       "      <th>countrycode</th>\n",
       "      <th></th>\n",
       "      <th></th>\n",
       "      <th></th>\n",
       "      <th></th>\n",
       "      <th></th>\n",
       "      <th></th>\n",
       "      <th></th>\n",
       "      <th></th>\n",
       "    </tr>\n",
       "  </thead>\n",
       "  <tbody>\n",
       "    <tr>\n",
       "      <th rowspan=\"5\" valign=\"top\">2008</th>\n",
       "      <th>AFG</th>\n",
       "      <td>6</td>\n",
       "      <td>5</td>\n",
       "      <td>27.7</td>\n",
       "      <td>2.485315</td>\n",
       "      <td>48.512909</td>\n",
       "      <td>58.225024</td>\n",
       "      <td>49.946087</td>\n",
       "      <td>6.546331355</td>\n",
       "    </tr>\n",
       "    <tr>\n",
       "      <th>AGO</th>\n",
       "      <td>5</td>\n",
       "      <td>6</td>\n",
       "      <td>37.3</td>\n",
       "      <td>3.374180</td>\n",
       "      <td>50.493712</td>\n",
       "      <td>49.847390</td>\n",
       "      <td>49.356104</td>\n",
       "      <td>0.281696206</td>\n",
       "    </tr>\n",
       "    <tr>\n",
       "      <th>ALB</th>\n",
       "      <td>3</td>\n",
       "      <td>3</td>\n",
       "      <td>7.1</td>\n",
       "      <td>-0.767343</td>\n",
       "      <td>49.610212</td>\n",
       "      <td>76.632317</td>\n",
       "      <td>66.816430</td>\n",
       "      <td>0.055357722</td>\n",
       "    </tr>\n",
       "    <tr>\n",
       "      <th>ARE</th>\n",
       "      <td>5</td>\n",
       "      <td>6</td>\n",
       "      <td>22.5</td>\n",
       "      <td>13.810060</td>\n",
       "      <td>25.880062</td>\n",
       "      <td>76.307756</td>\n",
       "      <td>84.600650</td>\n",
       "      <td>-0.267222176</td>\n",
       "    </tr>\n",
       "    <tr>\n",
       "      <th>ARG</th>\n",
       "      <td>2</td>\n",
       "      <td>2</td>\n",
       "      <td>40.0</td>\n",
       "      <td>1.025393</td>\n",
       "      <td>51.087196</td>\n",
       "      <td>75.166268</td>\n",
       "      <td>63.456290</td>\n",
       "      <td>-0.26793528</td>\n",
       "    </tr>\n",
       "  </tbody>\n",
       "</table>\n",
       "</div>"
      ],
      "text/plain": [
       "                  civil_liberties  political_rights  female_legislators  \\\n",
       "year countrycode                                                          \n",
       "2008 AFG                        6                 5                27.7   \n",
       "     AGO                        5                 6                37.3   \n",
       "     ALB                        3                 3                 7.1   \n",
       "     ARE                        5                 6                22.5   \n",
       "     ARG                        2                 2                40.0   \n",
       "\n",
       "                  population_growth  population_female  life_expectancy  \\\n",
       "year countrycode                                                          \n",
       "2008 AFG                   2.485315          48.512909        58.225024   \n",
       "     AGO                   3.374180          50.493712        49.847390   \n",
       "     ALB                  -0.767343          49.610212        76.632317   \n",
       "     ARE                  13.810060          25.880062        76.307756   \n",
       "     ARG                   1.025393          51.087196        75.166268   \n",
       "\n",
       "                  population_15_64       zscores  \n",
       "year countrycode                                  \n",
       "2008 AFG                 49.946087   6.546331355  \n",
       "     AGO                 49.356104   0.281696206  \n",
       "     ALB                 66.816430   0.055357722  \n",
       "     ARE                 84.600650  -0.267222176  \n",
       "     ARG                 63.456290   -0.26793528  "
      ]
     },
     "execution_count": 23,
     "metadata": {},
     "output_type": "execute_result"
    }
   ],
   "source": [
    "full_data.head()"
   ]
  },
  {
   "cell_type": "code",
   "execution_count": 24,
   "metadata": {
    "collapsed": false,
    "scrolled": false
   },
   "outputs": [],
   "source": [
    "full_data['zscores'] = full_data['zscores'].astype(float)\n",
    "\n",
    "full_data.loc[full_data['zscores'] > 0, 'zscores'] = 1\n",
    "full_data.loc[full_data['zscores'] <= 0, 'zscores'] = 0\n",
    "\n",
    "try:\n",
    "    full_data.loc[full_data['freedom_status'] == 'F', 'freedom_status'] = -1\n",
    "    full_data.loc[full_data['freedom_status'] == 'PF', 'freedom_status'] = 0\n",
    "    full_data.loc[full_data['freedom_status'] == 'NF', 'freedom_status'] = 1\n",
    "except:\n",
    "    pass\n"
   ]
  },
  {
   "cell_type": "code",
   "execution_count": 25,
   "metadata": {
    "collapsed": false
   },
   "outputs": [
    {
     "data": {
      "text/html": [
       "<div>\n",
       "<table border=\"1\" class=\"dataframe\">\n",
       "  <thead>\n",
       "    <tr style=\"text-align: right;\">\n",
       "      <th></th>\n",
       "      <th></th>\n",
       "      <th>civil_liberties</th>\n",
       "      <th>political_rights</th>\n",
       "      <th>female_legislators</th>\n",
       "      <th>population_growth</th>\n",
       "      <th>population_female</th>\n",
       "      <th>life_expectancy</th>\n",
       "      <th>population_15_64</th>\n",
       "      <th>zscores</th>\n",
       "    </tr>\n",
       "    <tr>\n",
       "      <th>year</th>\n",
       "      <th>countrycode</th>\n",
       "      <th></th>\n",
       "      <th></th>\n",
       "      <th></th>\n",
       "      <th></th>\n",
       "      <th></th>\n",
       "      <th></th>\n",
       "      <th></th>\n",
       "      <th></th>\n",
       "    </tr>\n",
       "  </thead>\n",
       "  <tbody>\n",
       "    <tr>\n",
       "      <th rowspan=\"7\" valign=\"top\">2008</th>\n",
       "      <th>FJI</th>\n",
       "      <td>4</td>\n",
       "      <td>6</td>\n",
       "      <td>NaN</td>\n",
       "      <td>1.010417</td>\n",
       "      <td>48.947707</td>\n",
       "      <td>69.022024</td>\n",
       "      <td>65.706245</td>\n",
       "      <td>0</td>\n",
       "    </tr>\n",
       "    <tr>\n",
       "      <th>GIN</th>\n",
       "      <td>5</td>\n",
       "      <td>7</td>\n",
       "      <td>NaN</td>\n",
       "      <td>2.671069</td>\n",
       "      <td>49.966108</td>\n",
       "      <td>54.777585</td>\n",
       "      <td>53.134073</td>\n",
       "      <td>0</td>\n",
       "    </tr>\n",
       "    <tr>\n",
       "      <th>LUX</th>\n",
       "      <td>1</td>\n",
       "      <td>1</td>\n",
       "      <td>23.3</td>\n",
       "      <td>1.787497</td>\n",
       "      <td>50.493425</td>\n",
       "      <td>80.539024</td>\n",
       "      <td>67.877191</td>\n",
       "      <td>NaN</td>\n",
       "    </tr>\n",
       "    <tr>\n",
       "      <th>MMR</th>\n",
       "      <td>7</td>\n",
       "      <td>7</td>\n",
       "      <td>NaN</td>\n",
       "      <td>0.651129</td>\n",
       "      <td>51.176312</td>\n",
       "      <td>64.367610</td>\n",
       "      <td>64.768113</td>\n",
       "      <td>0</td>\n",
       "    </tr>\n",
       "    <tr>\n",
       "      <th>SSD</th>\n",
       "      <td>NaN</td>\n",
       "      <td>NaN</td>\n",
       "      <td>NaN</td>\n",
       "      <td>4.362664</td>\n",
       "      <td>50.051550</td>\n",
       "      <td>52.593317</td>\n",
       "      <td>52.863172</td>\n",
       "      <td>NaN</td>\n",
       "    </tr>\n",
       "    <tr>\n",
       "      <th>TKM</th>\n",
       "      <td>7</td>\n",
       "      <td>7</td>\n",
       "      <td>NaN</td>\n",
       "      <td>1.213341</td>\n",
       "      <td>50.724437</td>\n",
       "      <td>64.756073</td>\n",
       "      <td>65.247102</td>\n",
       "      <td>0</td>\n",
       "    </tr>\n",
       "    <tr>\n",
       "      <th>VUT</th>\n",
       "      <td>2</td>\n",
       "      <td>2</td>\n",
       "      <td>3.8</td>\n",
       "      <td>2.416066</td>\n",
       "      <td>49.142388</td>\n",
       "      <td>70.254756</td>\n",
       "      <td>57.801496</td>\n",
       "      <td>NaN</td>\n",
       "    </tr>\n",
       "    <tr>\n",
       "      <th rowspan=\"8\" valign=\"top\">2009</th>\n",
       "      <th>FJI</th>\n",
       "      <td>4</td>\n",
       "      <td>6</td>\n",
       "      <td>NaN</td>\n",
       "      <td>1.020386</td>\n",
       "      <td>48.947824</td>\n",
       "      <td>69.202854</td>\n",
       "      <td>65.938529</td>\n",
       "      <td>0</td>\n",
       "    </tr>\n",
       "    <tr>\n",
       "      <th>GIN</th>\n",
       "      <td>6</td>\n",
       "      <td>7</td>\n",
       "      <td>NaN</td>\n",
       "      <td>2.728375</td>\n",
       "      <td>49.955495</td>\n",
       "      <td>55.556146</td>\n",
       "      <td>53.333078</td>\n",
       "      <td>0</td>\n",
       "    </tr>\n",
       "    <tr>\n",
       "      <th>LUX</th>\n",
       "      <td>1</td>\n",
       "      <td>1</td>\n",
       "      <td>20.0</td>\n",
       "      <td>1.851775</td>\n",
       "      <td>50.416014</td>\n",
       "      <td>80.636585</td>\n",
       "      <td>68.143119</td>\n",
       "      <td>NaN</td>\n",
       "    </tr>\n",
       "    <tr>\n",
       "      <th>MDG</th>\n",
       "      <td>4</td>\n",
       "      <td>6</td>\n",
       "      <td>NaN</td>\n",
       "      <td>2.814994</td>\n",
       "      <td>50.195519</td>\n",
       "      <td>62.918171</td>\n",
       "      <td>53.386568</td>\n",
       "      <td>0</td>\n",
       "    </tr>\n",
       "    <tr>\n",
       "      <th>MMR</th>\n",
       "      <td>7</td>\n",
       "      <td>7</td>\n",
       "      <td>NaN</td>\n",
       "      <td>0.663518</td>\n",
       "      <td>51.184720</td>\n",
       "      <td>64.643561</td>\n",
       "      <td>64.959838</td>\n",
       "      <td>1</td>\n",
       "    </tr>\n",
       "    <tr>\n",
       "      <th>SSD</th>\n",
       "      <td>NaN</td>\n",
       "      <td>NaN</td>\n",
       "      <td>NaN</td>\n",
       "      <td>4.403674</td>\n",
       "      <td>50.032723</td>\n",
       "      <td>53.122659</td>\n",
       "      <td>53.048921</td>\n",
       "      <td>NaN</td>\n",
       "    </tr>\n",
       "    <tr>\n",
       "      <th>VUT</th>\n",
       "      <td>2</td>\n",
       "      <td>2</td>\n",
       "      <td>3.8</td>\n",
       "      <td>2.388536</td>\n",
       "      <td>49.191878</td>\n",
       "      <td>70.555829</td>\n",
       "      <td>57.776170</td>\n",
       "      <td>NaN</td>\n",
       "    </tr>\n",
       "    <tr>\n",
       "      <th>WSM</th>\n",
       "      <td>2</td>\n",
       "      <td>2</td>\n",
       "      <td>8.2</td>\n",
       "      <td>0.684525</td>\n",
       "      <td>48.396318</td>\n",
       "      <td>72.130683</td>\n",
       "      <td>56.466703</td>\n",
       "      <td>NaN</td>\n",
       "    </tr>\n",
       "    <tr>\n",
       "      <th rowspan=\"6\" valign=\"top\">2010</th>\n",
       "      <th>FJI</th>\n",
       "      <td>4</td>\n",
       "      <td>6</td>\n",
       "      <td>NaN</td>\n",
       "      <td>0.946142</td>\n",
       "      <td>48.959593</td>\n",
       "      <td>69.384366</td>\n",
       "      <td>66.170903</td>\n",
       "      <td>0</td>\n",
       "    </tr>\n",
       "    <tr>\n",
       "      <th>GIN</th>\n",
       "      <td>5</td>\n",
       "      <td>5</td>\n",
       "      <td>NaN</td>\n",
       "      <td>2.730597</td>\n",
       "      <td>49.942592</td>\n",
       "      <td>56.305049</td>\n",
       "      <td>53.550087</td>\n",
       "      <td>0</td>\n",
       "    </tr>\n",
       "    <tr>\n",
       "      <th>LUX</th>\n",
       "      <td>1</td>\n",
       "      <td>1</td>\n",
       "      <td>20.0</td>\n",
       "      <td>1.825406</td>\n",
       "      <td>50.324776</td>\n",
       "      <td>80.631707</td>\n",
       "      <td>68.362969</td>\n",
       "      <td>NaN</td>\n",
       "    </tr>\n",
       "    <tr>\n",
       "      <th>NER</th>\n",
       "      <td>4</td>\n",
       "      <td>5</td>\n",
       "      <td>NaN</td>\n",
       "      <td>3.878552</td>\n",
       "      <td>49.658200</td>\n",
       "      <td>58.259000</td>\n",
       "      <td>47.517486</td>\n",
       "      <td>0</td>\n",
       "    </tr>\n",
       "    <tr>\n",
       "      <th>SSD</th>\n",
       "      <td>NaN</td>\n",
       "      <td>NaN</td>\n",
       "      <td>NaN</td>\n",
       "      <td>4.404235</td>\n",
       "      <td>50.013787</td>\n",
       "      <td>53.664902</td>\n",
       "      <td>53.276511</td>\n",
       "      <td>NaN</td>\n",
       "    </tr>\n",
       "    <tr>\n",
       "      <th>TZA</th>\n",
       "      <td>3</td>\n",
       "      <td>3</td>\n",
       "      <td>NaN</td>\n",
       "      <td>3.174634</td>\n",
       "      <td>50.346737</td>\n",
       "      <td>61.625610</td>\n",
       "      <td>51.791172</td>\n",
       "      <td>0</td>\n",
       "    </tr>\n",
       "    <tr>\n",
       "      <th rowspan=\"6\" valign=\"top\">2011</th>\n",
       "      <th>FJI</th>\n",
       "      <td>4</td>\n",
       "      <td>6</td>\n",
       "      <td>NaN</td>\n",
       "      <td>0.853949</td>\n",
       "      <td>48.983832</td>\n",
       "      <td>69.565000</td>\n",
       "      <td>66.001058</td>\n",
       "      <td>0</td>\n",
       "    </tr>\n",
       "    <tr>\n",
       "      <th>GIN</th>\n",
       "      <td>5</td>\n",
       "      <td>5</td>\n",
       "      <td>NaN</td>\n",
       "      <td>2.722622</td>\n",
       "      <td>49.926862</td>\n",
       "      <td>57.000537</td>\n",
       "      <td>53.672867</td>\n",
       "      <td>0</td>\n",
       "    </tr>\n",
       "    <tr>\n",
       "      <th>HRV</th>\n",
       "      <td>2</td>\n",
       "      <td>1</td>\n",
       "      <td>23.8</td>\n",
       "      <td>NaN</td>\n",
       "      <td>51.791799</td>\n",
       "      <td>76.775610</td>\n",
       "      <td>66.783153</td>\n",
       "      <td>1</td>\n",
       "    </tr>\n",
       "    <tr>\n",
       "      <th>LBY</th>\n",
       "      <td>6</td>\n",
       "      <td>7</td>\n",
       "      <td>NaN</td>\n",
       "      <td>0.365690</td>\n",
       "      <td>48.984059</td>\n",
       "      <td>71.683268</td>\n",
       "      <td>66.610428</td>\n",
       "      <td>0</td>\n",
       "    </tr>\n",
       "    <tr>\n",
       "      <th>LUX</th>\n",
       "      <td>1</td>\n",
       "      <td>1</td>\n",
       "      <td>25.0</td>\n",
       "      <td>2.222661</td>\n",
       "      <td>50.218373</td>\n",
       "      <td>80.987805</td>\n",
       "      <td>68.642123</td>\n",
       "      <td>NaN</td>\n",
       "    </tr>\n",
       "    <tr>\n",
       "      <th>ZAR</th>\n",
       "      <td>6</td>\n",
       "      <td>6</td>\n",
       "      <td>NaN</td>\n",
       "      <td>3.206612</td>\n",
       "      <td>50.189905</td>\n",
       "      <td>57.398634</td>\n",
       "      <td>50.620616</td>\n",
       "      <td>1</td>\n",
       "    </tr>\n",
       "    <tr>\n",
       "      <th rowspan=\"5\" valign=\"top\">2012</th>\n",
       "      <th>FJI</th>\n",
       "      <td>4</td>\n",
       "      <td>6</td>\n",
       "      <td>NaN</td>\n",
       "      <td>0.784507</td>\n",
       "      <td>49.019742</td>\n",
       "      <td>69.743220</td>\n",
       "      <td>65.855257</td>\n",
       "      <td>0</td>\n",
       "    </tr>\n",
       "    <tr>\n",
       "      <th>GHA</th>\n",
       "      <td>2</td>\n",
       "      <td>1</td>\n",
       "      <td>NaN</td>\n",
       "      <td>2.441273</td>\n",
       "      <td>50.452251</td>\n",
       "      <td>60.977024</td>\n",
       "      <td>57.553495</td>\n",
       "      <td>0</td>\n",
       "    </tr>\n",
       "    <tr>\n",
       "      <th>GIN</th>\n",
       "      <td>5</td>\n",
       "      <td>5</td>\n",
       "      <td>NaN</td>\n",
       "      <td>2.723327</td>\n",
       "      <td>49.909307</td>\n",
       "      <td>57.637634</td>\n",
       "      <td>53.827375</td>\n",
       "      <td>0</td>\n",
       "    </tr>\n",
       "    <tr>\n",
       "      <th>LKA</th>\n",
       "      <td>4</td>\n",
       "      <td>5</td>\n",
       "      <td>5.8</td>\n",
       "      <td>NaN</td>\n",
       "      <td>51.564191</td>\n",
       "      <td>74.068049</td>\n",
       "      <td>66.774724</td>\n",
       "      <td>1</td>\n",
       "    </tr>\n",
       "    <tr>\n",
       "      <th>LUX</th>\n",
       "      <td>1</td>\n",
       "      <td>1</td>\n",
       "      <td>21.7</td>\n",
       "      <td>2.401542</td>\n",
       "      <td>50.101319</td>\n",
       "      <td>81.392683</td>\n",
       "      <td>68.906004</td>\n",
       "      <td>NaN</td>\n",
       "    </tr>\n",
       "    <tr>\n",
       "      <th rowspan=\"5\" valign=\"top\">2013</th>\n",
       "      <th>ARG</th>\n",
       "      <td>2</td>\n",
       "      <td>2</td>\n",
       "      <td>NaN</td>\n",
       "      <td>1.047065</td>\n",
       "      <td>51.078024</td>\n",
       "      <td>75.986098</td>\n",
       "      <td>63.834426</td>\n",
       "      <td>0</td>\n",
       "    </tr>\n",
       "    <tr>\n",
       "      <th>CAF</th>\n",
       "      <td>7</td>\n",
       "      <td>7</td>\n",
       "      <td>NaN</td>\n",
       "      <td>1.954537</td>\n",
       "      <td>50.720342</td>\n",
       "      <td>49.879878</td>\n",
       "      <td>56.420965</td>\n",
       "      <td>1</td>\n",
       "    </tr>\n",
       "    <tr>\n",
       "      <th>EGY</th>\n",
       "      <td>5</td>\n",
       "      <td>6</td>\n",
       "      <td>NaN</td>\n",
       "      <td>2.254326</td>\n",
       "      <td>49.487699</td>\n",
       "      <td>70.925780</td>\n",
       "      <td>62.240369</td>\n",
       "      <td>0</td>\n",
       "    </tr>\n",
       "    <tr>\n",
       "      <th>FJI</th>\n",
       "      <td>4</td>\n",
       "      <td>6</td>\n",
       "      <td>NaN</td>\n",
       "      <td>0.721403</td>\n",
       "      <td>49.063189</td>\n",
       "      <td>69.917927</td>\n",
       "      <td>65.713066</td>\n",
       "      <td>0</td>\n",
       "    </tr>\n",
       "    <tr>\n",
       "      <th>GIN</th>\n",
       "      <td>5</td>\n",
       "      <td>5</td>\n",
       "      <td>NaN</td>\n",
       "      <td>2.714272</td>\n",
       "      <td>49.891009</td>\n",
       "      <td>58.216488</td>\n",
       "      <td>54.003724</td>\n",
       "      <td>0</td>\n",
       "    </tr>\n",
       "  </tbody>\n",
       "</table>\n",
       "</div>"
      ],
      "text/plain": [
       "                  civil_liberties  political_rights  female_legislators  \\\n",
       "year countrycode                                                          \n",
       "2008 FJI                        4                 6                 NaN   \n",
       "     GIN                        5                 7                 NaN   \n",
       "     LUX                        1                 1                23.3   \n",
       "     MMR                        7                 7                 NaN   \n",
       "     SSD                      NaN               NaN                 NaN   \n",
       "     TKM                        7                 7                 NaN   \n",
       "     VUT                        2                 2                 3.8   \n",
       "2009 FJI                        4                 6                 NaN   \n",
       "     GIN                        6                 7                 NaN   \n",
       "     LUX                        1                 1                20.0   \n",
       "     MDG                        4                 6                 NaN   \n",
       "     MMR                        7                 7                 NaN   \n",
       "     SSD                      NaN               NaN                 NaN   \n",
       "     VUT                        2                 2                 3.8   \n",
       "     WSM                        2                 2                 8.2   \n",
       "2010 FJI                        4                 6                 NaN   \n",
       "     GIN                        5                 5                 NaN   \n",
       "     LUX                        1                 1                20.0   \n",
       "     NER                        4                 5                 NaN   \n",
       "     SSD                      NaN               NaN                 NaN   \n",
       "     TZA                        3                 3                 NaN   \n",
       "2011 FJI                        4                 6                 NaN   \n",
       "     GIN                        5                 5                 NaN   \n",
       "     HRV                        2                 1                23.8   \n",
       "     LBY                        6                 7                 NaN   \n",
       "     LUX                        1                 1                25.0   \n",
       "     ZAR                        6                 6                 NaN   \n",
       "2012 FJI                        4                 6                 NaN   \n",
       "     GHA                        2                 1                 NaN   \n",
       "     GIN                        5                 5                 NaN   \n",
       "     LKA                        4                 5                 5.8   \n",
       "     LUX                        1                 1                21.7   \n",
       "2013 ARG                        2                 2                 NaN   \n",
       "     CAF                        7                 7                 NaN   \n",
       "     EGY                        5                 6                 NaN   \n",
       "     FJI                        4                 6                 NaN   \n",
       "     GIN                        5                 5                 NaN   \n",
       "\n",
       "                  population_growth  population_female  life_expectancy  \\\n",
       "year countrycode                                                          \n",
       "2008 FJI                   1.010417          48.947707        69.022024   \n",
       "     GIN                   2.671069          49.966108        54.777585   \n",
       "     LUX                   1.787497          50.493425        80.539024   \n",
       "     MMR                   0.651129          51.176312        64.367610   \n",
       "     SSD                   4.362664          50.051550        52.593317   \n",
       "     TKM                   1.213341          50.724437        64.756073   \n",
       "     VUT                   2.416066          49.142388        70.254756   \n",
       "2009 FJI                   1.020386          48.947824        69.202854   \n",
       "     GIN                   2.728375          49.955495        55.556146   \n",
       "     LUX                   1.851775          50.416014        80.636585   \n",
       "     MDG                   2.814994          50.195519        62.918171   \n",
       "     MMR                   0.663518          51.184720        64.643561   \n",
       "     SSD                   4.403674          50.032723        53.122659   \n",
       "     VUT                   2.388536          49.191878        70.555829   \n",
       "     WSM                   0.684525          48.396318        72.130683   \n",
       "2010 FJI                   0.946142          48.959593        69.384366   \n",
       "     GIN                   2.730597          49.942592        56.305049   \n",
       "     LUX                   1.825406          50.324776        80.631707   \n",
       "     NER                   3.878552          49.658200        58.259000   \n",
       "     SSD                   4.404235          50.013787        53.664902   \n",
       "     TZA                   3.174634          50.346737        61.625610   \n",
       "2011 FJI                   0.853949          48.983832        69.565000   \n",
       "     GIN                   2.722622          49.926862        57.000537   \n",
       "     HRV                        NaN          51.791799        76.775610   \n",
       "     LBY                   0.365690          48.984059        71.683268   \n",
       "     LUX                   2.222661          50.218373        80.987805   \n",
       "     ZAR                   3.206612          50.189905        57.398634   \n",
       "2012 FJI                   0.784507          49.019742        69.743220   \n",
       "     GHA                   2.441273          50.452251        60.977024   \n",
       "     GIN                   2.723327          49.909307        57.637634   \n",
       "     LKA                        NaN          51.564191        74.068049   \n",
       "     LUX                   2.401542          50.101319        81.392683   \n",
       "2013 ARG                   1.047065          51.078024        75.986098   \n",
       "     CAF                   1.954537          50.720342        49.879878   \n",
       "     EGY                   2.254326          49.487699        70.925780   \n",
       "     FJI                   0.721403          49.063189        69.917927   \n",
       "     GIN                   2.714272          49.891009        58.216488   \n",
       "\n",
       "                  population_15_64  zscores  \n",
       "year countrycode                             \n",
       "2008 FJI                 65.706245        0  \n",
       "     GIN                 53.134073        0  \n",
       "     LUX                 67.877191      NaN  \n",
       "     MMR                 64.768113        0  \n",
       "     SSD                 52.863172      NaN  \n",
       "     TKM                 65.247102        0  \n",
       "     VUT                 57.801496      NaN  \n",
       "2009 FJI                 65.938529        0  \n",
       "     GIN                 53.333078        0  \n",
       "     LUX                 68.143119      NaN  \n",
       "     MDG                 53.386568        0  \n",
       "     MMR                 64.959838        1  \n",
       "     SSD                 53.048921      NaN  \n",
       "     VUT                 57.776170      NaN  \n",
       "     WSM                 56.466703      NaN  \n",
       "2010 FJI                 66.170903        0  \n",
       "     GIN                 53.550087        0  \n",
       "     LUX                 68.362969      NaN  \n",
       "     NER                 47.517486        0  \n",
       "     SSD                 53.276511      NaN  \n",
       "     TZA                 51.791172        0  \n",
       "2011 FJI                 66.001058        0  \n",
       "     GIN                 53.672867        0  \n",
       "     HRV                 66.783153        1  \n",
       "     LBY                 66.610428        0  \n",
       "     LUX                 68.642123      NaN  \n",
       "     ZAR                 50.620616        1  \n",
       "2012 FJI                 65.855257        0  \n",
       "     GHA                 57.553495        0  \n",
       "     GIN                 53.827375        0  \n",
       "     LKA                 66.774724        1  \n",
       "     LUX                 68.906004      NaN  \n",
       "2013 ARG                 63.834426        0  \n",
       "     CAF                 56.420965        1  \n",
       "     EGY                 62.240369        0  \n",
       "     FJI                 65.713066        0  \n",
       "     GIN                 54.003724        0  "
      ]
     },
     "execution_count": 25,
     "metadata": {},
     "output_type": "execute_result"
    }
   ],
   "source": [
    "#The rows to be dropped\n",
    "full_data[full_data.isnull().any(axis=1)]"
   ]
  },
  {
   "cell_type": "code",
   "execution_count": 26,
   "metadata": {
    "collapsed": true
   },
   "outputs": [],
   "source": [
    "full_data = full_data.dropna()"
   ]
  },
  {
   "cell_type": "code",
   "execution_count": 27,
   "metadata": {
    "collapsed": false,
    "scrolled": false
   },
   "outputs": [],
   "source": [
    "#Get Z scores of rows\n",
    "for col in x_cols:\n",
    "    full_data[col] = full_data[col].astype(float)\n",
    "    full_data[col] = (full_data[col] - full_data[col].mean())/full_data[col].std(ddof=0)\n"
   ]
  },
  {
   "cell_type": "markdown",
   "metadata": {},
   "source": [
    "#### Get the score values WITHOUT cross validating "
   ]
  },
  {
   "cell_type": "code",
   "execution_count": 28,
   "metadata": {
    "collapsed": false
   },
   "outputs": [],
   "source": [
    "def getScoreValues(X_train, \n",
    "                   X_test, \n",
    "                   y_train, \n",
    "                   y_test, \n",
    "                   model=KNeighborsClassifier(n_neighbors=6), \n",
    "                   verbose=True, \n",
    "                   get_features=True\n",
    "                  ):\n",
    "    model = model\n",
    "    model.fit(X_train, y_train)\n",
    "    y_pred = model.predict(X_test)\n",
    "    \n",
    "    \n",
    "    \n",
    "    accuracy_score_value = accuracy_score(y_test, y_pred)\n",
    "    precision_score_value = precision_score(y_test, y_pred)\n",
    "    recall_score_value = recall_score(y_test, y_pred)\n",
    "    f1_score_value = f1_score(y_test, y_pred)  \n",
    "    roc_auc_value = roc_auc_score(y_test,y_pred)\n",
    "    \n",
    "    feature_importances = None\n",
    "    if get_features:\n",
    "        try:\n",
    "            feature_importances = model.feature_importances_\n",
    "            #print(feature_importances)\n",
    "        except AttributeError:\n",
    "            pass\n",
    "    \n",
    "    if verbose:\n",
    "        #print(pd.concat([y_test,pd.Series(y_pred, index=y_test.index)], axis = 1))\n",
    "        print('Accuracy: {}\\nPrecision: {}\\nRecall: {}\\nf1: {}\\nROC AUC: ()'.format(accuracy_score_value, \\\n",
    "                                                                       precision_score_value, \\\n",
    "                                                                       recall_score_value, \\\n",
    "                                                                       f1_score_value, \\\n",
    "                                                                       roc_auc_value))\n",
    "    else:\n",
    "        return accuracy_score_value, \\\n",
    "               precision_score_value, \\\n",
    "               recall_score_value, \\\n",
    "               f1_score_value, \\\n",
    "               roc_auc_value, \\\n",
    "               feature_importances"
   ]
  },
  {
   "cell_type": "code",
   "execution_count": 29,
   "metadata": {
    "collapsed": false
   },
   "outputs": [],
   "source": [
    "X = full_data[x_cols]\n",
    "y = full_data['zscores']\n",
    "\n",
    "\n",
    "X_train, X_test, y_train, y_test = train_test_split(X, y, test_size = .30, random_state=4444)"
   ]
  },
  {
   "cell_type": "code",
   "execution_count": 30,
   "metadata": {
    "collapsed": false
   },
   "outputs": [
    {
     "name": "stdout",
     "output_type": "stream",
     "text": [
      "Accuracy: 0.9111111111111111\n",
      "Precision: 0.6666666666666666\n",
      "Recall: 0.7555555555555555\n",
      "f1: 0.7083333333333334\n",
      "ROC AUC: ()\n"
     ]
    }
   ],
   "source": [
    "getScoreValues(X_train, X_test, y_train, y_test, DecisionTreeClassifier())"
   ]
  },
  {
   "cell_type": "code",
   "execution_count": 31,
   "metadata": {
    "collapsed": false
   },
   "outputs": [
    {
     "name": "stdout",
     "output_type": "stream",
     "text": [
      "Accuracy: 0.8063492063492064\n",
      "Precision: 0.3620689655172414\n",
      "Recall: 0.4666666666666667\n",
      "f1: 0.4077669902912621\n",
      "ROC AUC: ()\n"
     ]
    }
   ],
   "source": [
    "getScoreValues(X_train, X_test, y_train, y_test, BernoulliNB())"
   ]
  },
  {
   "cell_type": "code",
   "execution_count": 32,
   "metadata": {
    "collapsed": false
   },
   "outputs": [
    {
     "name": "stdout",
     "output_type": "stream",
     "text": [
      "Accuracy: 0.7492063492063492\n",
      "Precision: 0.3111111111111111\n",
      "Recall: 0.6222222222222222\n",
      "f1: 0.4148148148148148\n",
      "ROC AUC: ()\n"
     ]
    }
   ],
   "source": [
    "getScoreValues(X_train, X_test, y_train, y_test, GaussianNB())"
   ]
  },
  {
   "cell_type": "code",
   "execution_count": 33,
   "metadata": {
    "collapsed": false
   },
   "outputs": [
    {
     "name": "stdout",
     "output_type": "stream",
     "text": [
      "Accuracy: 0.8698412698412699\n",
      "Precision: 0.6666666666666666\n",
      "Recall: 0.17777777777777778\n",
      "f1: 0.2807017543859649\n",
      "ROC AUC: ()\n"
     ]
    }
   ],
   "source": [
    "getScoreValues(X_train, X_test, y_train, y_test, model=SVC())"
   ]
  },
  {
   "cell_type": "code",
   "execution_count": 34,
   "metadata": {
    "collapsed": false
   },
   "outputs": [
    {
     "name": "stdout",
     "output_type": "stream",
     "text": [
      "Accuracy: 0.9079365079365079\n",
      "Precision: 0.75\n",
      "Recall: 0.5333333333333333\n",
      "f1: 0.6233766233766235\n",
      "ROC AUC: ()\n"
     ]
    }
   ],
   "source": [
    "getScoreValues(X_train, X_test, y_train, y_test, model=RandomForestClassifier())"
   ]
  },
  {
   "cell_type": "markdown",
   "metadata": {},
   "source": [
    "#### Print the ROC curve for a model"
   ]
  },
  {
   "cell_type": "code",
   "execution_count": 35,
   "metadata": {
    "collapsed": true
   },
   "outputs": [],
   "source": [
    "def getROCcurve(X_train, X_test, y_train, y_test, model=KNeighborsClassifier(n_neighbors=6)):\n",
    "    model = model\n",
    "    model.fit(X_train, y_train)\n",
    "    y_scores = model.predict_proba(X_test)[:,1]\n",
    "    fpr, tpr, thresholds = roc_curve(y_test, y_scores)\n",
    "\n",
    "    auc = roc_auc_score(y_test, y_scores)\n",
    "    print('AUC: {}'.format(auc))\n",
    "    \n",
    "    fig,ax = plt.subplots()\n",
    "    ax.plot(fpr, tpr, label='ROC Curve')\n",
    "\n",
    "    fig.set_size_inches(12, 8, forward=True)\n",
    "    plt.xlabel('FPR')\n",
    "    plt.ylabel('TPR')\n",
    "    plt.title('ROC Curve')\n",
    "    plt.legend(loc='best')"
   ]
  },
  {
   "cell_type": "code",
   "execution_count": 36,
   "metadata": {
    "collapsed": false,
    "scrolled": false
   },
   "outputs": [
    {
     "name": "stdout",
     "output_type": "stream",
     "text": [
      "AUC: 0.964156378600823\n"
     ]
    },
    {
     "data": {
      "image/png": "[encoded data removed]",
      "text/plain": [
       "<matplotlib.figure.Figure at 0x10c500438>"
      ]
     },
     "metadata": {},
     "output_type": "display_data"
    }
   ],
   "source": [
    "getROCcurve(X_train, X_test, y_train, y_test, model=RandomForestClassifier())"
   ]
  },
  {
   "cell_type": "markdown",
   "metadata": {},
   "source": [
    "#### Cross Validate and Return Scores "
   ]
  },
  {
   "cell_type": "code",
   "execution_count": 37,
   "metadata": {
    "collapsed": true
   },
   "outputs": [],
   "source": [
    "def getScoreValuesByCV(X, y, model=KNeighborsClassifier(n_neighbors=1)):\n",
    "    \n",
    "    accuracy_score_value = np.mean(cross_val_score(model, X, y, scoring='accuracy', cv=5))\n",
    "    precision_score_value = np.mean(cross_val_score(model, X, y, scoring='precision', cv=5))\n",
    "    recall_score_value = np.mean(cross_val_score(model, X, y, scoring='recall', cv=5))\n",
    "    f1_score_value = np.mean(cross_val_score(model, X, y, scoring='f1', cv=5))\n",
    "    roc_auc_value = np.mean(cross_val_score(model, X, y, scoring='roc_auc', cv=5))\n",
    "    #roc_auc_value = 0  \n",
    "        \n",
    "    print('Accuracy: {}\\nPrecision: {}\\nRecall: {}\\nf1: {}\\nROC AUC: {}'.format(accuracy_score_value, \\\n",
    "                                                                   precision_score_value, \\\n",
    "                                                                   recall_score_value, \\\n",
    "                                                                   f1_score_value,\n",
    "                                                                   roc_auc_value))"
   ]
  },
  {
   "cell_type": "code",
   "execution_count": 38,
   "metadata": {
    "collapsed": false,
    "scrolled": false
   },
   "outputs": [
    {
     "name": "stdout",
     "output_type": "stream",
     "text": [
      "Accuracy: 0.9589695911471916\n",
      "Precision: 0.8623891866383524\n",
      "Recall: 0.8653225806451614\n",
      "f1: 0.8628064029582057\n",
      "ROC AUC: 0.92032998657517\n"
     ]
    }
   ],
   "source": [
    "getScoreValuesByCV(X,y)"
   ]
  },
  {
   "cell_type": "code",
   "execution_count": 39,
   "metadata": {
    "collapsed": false,
    "scrolled": false
   },
   "outputs": [
    {
     "name": "stdout",
     "output_type": "stream",
     "text": [
      "Accuracy: 0.9465928932628858\n",
      "Precision: 0.8608405474682013\n",
      "Recall: 0.7760080645161291\n",
      "f1: 0.8009936423729528\n",
      "ROC AUC: 0.9664055397166409\n"
     ]
    }
   ],
   "source": [
    "getScoreValuesByCV(X,y, model=RandomForestClassifier())"
   ]
  },
  {
   "cell_type": "code",
   "execution_count": 40,
   "metadata": {
    "collapsed": false
   },
   "outputs": [
    {
     "name": "stdout",
     "output_type": "stream",
     "text": [
      "Accuracy: 0.7207147554366313\n",
      "Precision: 0.28659782556715907\n",
      "Recall: 0.5798387096774194\n",
      "f1: 0.38337993592387665\n",
      "ROC AUC: 0.7184708855325689\n"
     ]
    }
   ],
   "source": [
    "getScoreValuesByCV(X,y, model=GaussianNB())"
   ]
  },
  {
   "cell_type": "code",
   "execution_count": 41,
   "metadata": {
    "collapsed": false,
    "scrolled": false
   },
   "outputs": [
    {
     "name": "stdout",
     "output_type": "stream",
     "text": [
      "Accuracy: 0.9351640626771582\n",
      "Precision: 0.7936117067516661\n",
      "Recall: 0.7443548387096774\n",
      "f1: 0.8008318338250081\n",
      "ROC AUC: 0.8713956520660673\n"
     ]
    }
   ],
   "source": [
    "getScoreValuesByCV(X,y, model=DecisionTreeClassifier())"
   ]
  },
  {
   "cell_type": "code",
   "execution_count": 42,
   "metadata": {
    "collapsed": false,
    "scrolled": false
   },
   "outputs": [
    {
     "name": "stdout",
     "output_type": "stream",
     "text": [
      "Accuracy: 0.8627633279666205\n",
      "Precision: 0.8333333333333333\n",
      "Recall: 0.10221774193548387\n",
      "f1: 0.18001375988992088\n",
      "ROC AUC: 0.743819996922211\n"
     ]
    }
   ],
   "source": [
    "getScoreValuesByCV(X,y, model=LogisticRegression())"
   ]
  },
  {
   "cell_type": "markdown",
   "metadata": {},
   "source": [
    "## Modeling with Over Sampling of Training Set"
   ]
  },
  {
   "cell_type": "code",
   "execution_count": 43,
   "metadata": {
    "collapsed": true
   },
   "outputs": [],
   "source": [
    "def oversample_data(X_t, y_t, ratio):\n",
    "    x_columns = X_t.columns\n",
    "    \n",
    "    X_t = X_t.reset_index(drop=True).as_matrix()\n",
    "    y_t = y_t.reset_index(drop=True).as_matrix()\n",
    "\n",
    "    smote = OverSampler(ratio=ratio, verbose=False)\n",
    "    smox, smoy = smote.fit_transform(X_t, y_t)\n",
    "    X_t = pd.DataFrame(smox, columns=x_columns)\n",
    "    y_t = pd.Series(smoy)\n",
    "    return X_t, y_t\n"
   ]
  },
  {
   "cell_type": "code",
   "execution_count": 44,
   "metadata": {
    "collapsed": false
   },
   "outputs": [],
   "source": [
    "X = full_data[x_cols]\n",
    "y = full_data['zscores']\n",
    "\n",
    "X_train, X_test, y_train, y_test = train_test_split(X, y, test_size = .30, random_state=4444)"
   ]
  },
  {
   "cell_type": "code",
   "execution_count": 45,
   "metadata": {
    "collapsed": false
   },
   "outputs": [],
   "source": [
    "verbose = False\n",
    "ratio = float(y.value_counts()[0]) / float(y.value_counts()[1])\n",
    "\n",
    "X_train, y_train = oversample_data(X_train, y_train, ratio)"
   ]
  },
  {
   "cell_type": "code",
   "execution_count": 46,
   "metadata": {
    "collapsed": false
   },
   "outputs": [
    {
     "name": "stdout",
     "output_type": "stream",
     "text": [
      "Accuracy: 0.9142857142857143\n",
      "Precision: 0.6730769230769231\n",
      "Recall: 0.7777777777777778\n",
      "f1: 0.7216494845360825\n",
      "ROC AUC: ()\n"
     ]
    }
   ],
   "source": [
    "getScoreValues(X_train, X_test, y_train, y_test)"
   ]
  },
  {
   "cell_type": "code",
   "execution_count": 47,
   "metadata": {
    "collapsed": false
   },
   "outputs": [
    {
     "name": "stdout",
     "output_type": "stream",
     "text": [
      "Accuracy: 0.9523809523809523\n",
      "Precision: 0.8260869565217391\n",
      "Recall: 0.8444444444444444\n",
      "f1: 0.8351648351648352\n",
      "ROC AUC: ()\n"
     ]
    }
   ],
   "source": [
    "getScoreValues(X_train, X_test, y_train, y_test, model=RandomForestClassifier())"
   ]
  },
  {
   "cell_type": "code",
   "execution_count": 48,
   "metadata": {
    "collapsed": false
   },
   "outputs": [
    {
     "name": "stdout",
     "output_type": "stream",
     "text": [
      "Accuracy: 0.638095238095238\n",
      "Precision: 0.2283464566929134\n",
      "Recall: 0.6444444444444445\n",
      "f1: 0.33720930232558144\n",
      "ROC AUC: ()\n"
     ]
    }
   ],
   "source": [
    "getScoreValues(X_train, X_test, y_train, y_test, model=BernoulliNB())"
   ]
  },
  {
   "cell_type": "code",
   "execution_count": 49,
   "metadata": {
    "collapsed": false,
    "scrolled": true
   },
   "outputs": [
    {
     "name": "stdout",
     "output_type": "stream",
     "text": [
      "Accuracy: 0.6253968253968254\n",
      "Precision: 0.21705426356589147\n",
      "Recall: 0.6222222222222222\n",
      "f1: 0.32183908045977017\n",
      "ROC AUC: ()\n"
     ]
    }
   ],
   "source": [
    "getScoreValues(X_train, X_test, y_train, y_test, model=GaussianNB())"
   ]
  },
  {
   "cell_type": "code",
   "execution_count": 50,
   "metadata": {
    "collapsed": false
   },
   "outputs": [
    {
     "name": "stdout",
     "output_type": "stream",
     "text": [
      "Accuracy: 0.9111111111111111\n",
      "Precision: 0.673469387755102\n",
      "Recall: 0.7333333333333333\n",
      "f1: 0.702127659574468\n",
      "ROC AUC: ()\n"
     ]
    }
   ],
   "source": [
    "getScoreValues(X_train, X_test, y_train, y_test, model=DecisionTreeClassifier())"
   ]
  },
  {
   "cell_type": "code",
   "execution_count": 51,
   "metadata": {
    "collapsed": false,
    "scrolled": false
   },
   "outputs": [
    {
     "name": "stdout",
     "output_type": "stream",
     "text": [
      "Accuracy: 0.6888888888888889\n",
      "Precision: 0.2523364485981308\n",
      "Recall: 0.6\n",
      "f1: 0.3552631578947368\n",
      "ROC AUC: ()\n"
     ]
    }
   ],
   "source": [
    "getScoreValues(X_train, X_test, y_train, y_test, model=LogisticRegression())"
   ]
  },
  {
   "cell_type": "markdown",
   "metadata": {},
   "source": [
    "## Confusion Matrix"
   ]
  },
  {
   "cell_type": "code",
   "execution_count": 52,
   "metadata": {
    "collapsed": true
   },
   "outputs": [],
   "source": [
    "def plot_confusion_matrix(cm, title='Confusion matrix', cmap=plt.cm.Blues):\n",
    "    plt.imshow(cm, interpolation='nearest', cmap=cmap)\n",
    "    plt.title(title)\n",
    "    plt.colorbar()\n",
    "    plt.grid(False)\n",
    "    tick_marks = np.arange(2)\n",
    "    plt.xticks(tick_marks, ['Not at Risk', 'At Risk'], rotation=45)\n",
    "    plt.yticks(tick_marks, ['Not at Risk', 'At Risk'])\n",
    "    plt.tight_layout()\n",
    "    plt.ylabel('True label')\n",
    "    plt.xlabel('Predicted label')"
   ]
  },
  {
   "cell_type": "markdown",
   "metadata": {},
   "source": [
    "## Cross validate with or without oversampling"
   ]
  },
  {
   "cell_type": "markdown",
   "metadata": {},
   "source": [
    "## getCrossValScoresBySSS\n",
    "\n",
    "This class is instantiated by doing the following:\n",
    "    \n",
    "    yourinstance = getCrossValScoresBySSS(X, y, test_size=0.3, n_iter=30)\n",
    "    \n",
    "Where:\n",
    "* X is a pandas dataframe of the features\n",
    "* y is a series of the classifiers\n",
    "* test_size is the test size for the train/test splits\n",
    "* n_iter is the number of iterations for cross validation\n",
    "\n",
    "This object has the following methods:\n",
    "\n",
    "    yourinstance.get_multi_models(oversample=True)\n",
    "    \n",
    "    yourinstance.get_single_model(model=KNeighborsClassifier(n_neighbors=2), oversample=True, get_models_avg=False, get_features=True, get_cm=False, verbose=True)\n",
    "\n",
    "### get_multi_models\n",
    "\n",
    "    yourinstance.get_multi_models(oversample=True)\n",
    "\n",
    "Where:\n",
    "* oversample is a boolean that determines if SMOTE should be performed on the training sets for each cross validation\n",
    "    \n",
    "This returns a dataframe with the Accuracy, Precision, Recall, F1, and ROC AUC scores for various models.\n",
    "\n",
    "### get_single_model\n",
    "\n",
    "    yourinstance.get_single_model(model=KNeighborsClassifier(n_neighbors=2), oversample=True, get_models_avg=False, get_features=True, get_cm=False, verbose=True)\n",
    "    \n",
    "Where:\n",
    "* model is the model to be attempted on the data\n",
    "* oversample is a boolean that determines if SMOTE should be performed on the training sets for each cross validation\n",
    "* get_models_avg is a boolean value. If True it will out put an average of the scores results for multiple models. If false it will only model for the model specified\n",
    "* get_features is a boolean value. If True it will attempt to get the feature importances of the model.\n",
    "* get_cm is a boolean value. If True it will output a confusion matrix of the model (or the average prediction).\n",
    "* verbose is a boolean value. If True it will print out the score values for Accuracy, Precision, Recall, F1, and ROC AUC. If False it will just return them.\n",
    "\n",
    "\n"
   ]
  },
  {
   "cell_type": "markdown",
   "metadata": {},
   "source": [
    "To do: \n",
    "\n",
    "add a method for specifying year\n",
    "\n",
    "    X.loc[year, :]\n",
    "\n",
    "return scores for predicting that year with the model."
   ]
  },
  {
   "cell_type": "code",
   "execution_count": 102,
   "metadata": {
    "collapsed": false
   },
   "outputs": [],
   "source": [
    "class getCrossValScoresBySSS(object):\n",
    "    \n",
    "    def __init__(self, \n",
    "                 local_X, \n",
    "                 local_y,\n",
    "                 test_size=0.3,\n",
    "                 n_iter=50 \n",
    "                ):\n",
    "        self.model_list = [\\\n",
    "                          KNeighborsClassifier(n_neighbors=2), \\\n",
    "                          SVC(), \\\n",
    "                          LogisticRegression(), \\\n",
    "                          BernoulliNB(), \\\n",
    "                          GaussianNB(), \\\n",
    "                          RandomForestClassifier(n_estimators=30), \\\n",
    "                          DecisionTreeClassifier() \\\n",
    "                          ]\n",
    "        \n",
    "        self.index_func = [\\\n",
    "                      'KNeighborsClassifier(n_neighbors=2)', \\\n",
    "                      'SVC()', \\\n",
    "                      'LogisticRegression()', \\\n",
    "                      'BernoulliNB()', \\\n",
    "                      'GaussianNB()', \\\n",
    "                      'RandomForestClassifier(n_estimators=30)', \\\n",
    "                      'DecisionTreeClassifier()' \\\n",
    "                      ]\n",
    "        \n",
    "        self.initialize_scores()\n",
    "        self.score_dict = {}\n",
    "\n",
    "        self.x_cols = list(local_X.columns)\n",
    "        self.ratio = float(local_y.value_counts()[0]) / (float(local_y.value_counts()[1]))\n",
    "        self.sss = StratifiedShuffleSplit(y, n_iter=n_iter, test_size=test_size)\n",
    "    \n",
    "    def initialize_scores(self):\n",
    "        self.acc_array = []\n",
    "        self.prec_array = []\n",
    "        self.recall_array = []\n",
    "        self.f1_array = []\n",
    "        self.roc_auc_array = []\n",
    "        self.feature_imp_array = []\n",
    "        \n",
    "    def get_multi_models(self, oversample=True, year=None):\n",
    "        self.score_dict = {}\n",
    "        models_acc = []\n",
    "        models_prec = []\n",
    "        models_rec = []\n",
    "        models_f1 = []\n",
    "        models_roc_auc = []\n",
    "        \n",
    "        col_names = ['Accuracy', 'Precision', 'Recall', 'F1', 'ROCAUC']\n",
    "        \n",
    "        for a_model in self.model_list:\n",
    "            self.initialize_scores()\n",
    "            \n",
    "            for train_index, test_index in self.sss:\n",
    "                #print(\"TRAIN:\", train_index, \"TEST:\", test_index)\n",
    "                X_train, X_test = X.ix[train_index], X.ix[test_index]\n",
    "                y_train, y_test = y.ix[train_index], y.ix[test_index]\n",
    "                \n",
    "                if oversample:\n",
    "                    X_train, y_train = oversample_data(X_train, y_train, self.ratio)\n",
    "                    \n",
    "                if year != None:\n",
    "                    X_test, y_test = self.test_conversion_for_year(X_test, y_test, year)\n",
    "            \n",
    "                accuracy_score_value, precision_score_value, \\\n",
    "                recall_score_value, f1_score_value, roc_auc_value, _ = getScoreValues(X_train, \n",
    "                                                                       X_test, \n",
    "                                                                       y_train, \n",
    "                                                                       y_test, \n",
    "                                                                       model=a_model, \n",
    "                                                                       verbose=False,\n",
    "                                                                       get_features=False)\n",
    "                \n",
    "                self.acc_array.append(accuracy_score_value)\n",
    "                self.prec_array.append(precision_score_value)\n",
    "                self.recall_array.append(recall_score_value)\n",
    "                self.f1_array.append(f1_score_value)\n",
    "                self.roc_auc_array.append(roc_auc_value)\n",
    "                \n",
    "            mean_acc = np.mean(self.acc_array)\n",
    "            mean_prec = np.mean(self.prec_array)\n",
    "            mean_recall = np.mean(self.recall_array)\n",
    "            mean_f1 = np.mean(self.f1_array)\n",
    "            mean_roc_auc = np.mean(self.roc_auc_array)\n",
    "            \n",
    "            models_acc.append(mean_acc)\n",
    "            models_prec.append(mean_prec)\n",
    "            models_rec.append(mean_recall)\n",
    "            models_f1.append(mean_f1)\n",
    "            models_roc_auc.append(mean_roc_auc)\n",
    "            \n",
    "        self.score_dict['Accuracy'] = models_acc\n",
    "        self.score_dict['Precision'] = models_prec\n",
    "        self.score_dict['Recall'] = models_rec\n",
    "        self.score_dict['F1'] = models_f1\n",
    "        self.score_dict['ROCAUC'] = models_roc_auc\n",
    "        \n",
    "        df = pd.DataFrame(self.score_dict, columns=col_names, index=self.index_func)\n",
    "        return df\n",
    "    \n",
    "    def get_single_model(self,\n",
    "                         model=KNeighborsClassifier(n_neighbors=2),\n",
    "                         oversample=True,\n",
    "                         year=None,\n",
    "                         get_models_avg=False,\n",
    "                         get_features=True,\n",
    "                         get_cm=False,\n",
    "                         verbose=True\n",
    "                        ):\n",
    "        \n",
    "        self.initialize_scores()\n",
    "        \n",
    "        for train_index, test_index in self.sss:\n",
    "            #print(\"TRAIN:\", train_index, \"TEST:\", test_index)\n",
    "            X_train, X_test = X.ix[train_index], X.ix[test_index]\n",
    "            y_train, y_test = y.ix[train_index], y.ix[test_index]\n",
    "\n",
    "            if oversample:\n",
    "                X_train, y_train = oversample_data(X_train, y_train, self.ratio)\n",
    "                \n",
    "            if year != None:\n",
    "                X_test, y_test = self.test_conversion_for_year(X_test, y_test, year)\n",
    "\n",
    "            #Get scores of the average prediction of multiple models\n",
    "            if get_models_avg:\n",
    "                y_predictions = []\n",
    "\n",
    "                for a_model in self.model_list:\n",
    "                    temp_model = a_model\n",
    "                    model.fit(X_train, y_train)\n",
    "                    y_pred = model.predict(X_test)\n",
    "                    y_predictions.append(y_pred)\n",
    "\n",
    "                average_prediction = np.mean(y_predictions, axis=0)\n",
    "                average_prediction = [int(round(n, 0)) for n in average_prediction]\n",
    "\n",
    "                accuracy_score_value = accuracy_score(y_test, y_pred)\n",
    "                precision_score_value = precision_score(y_test, y_pred)\n",
    "                recall_score_value = recall_score(y_test, y_pred)\n",
    "                f1_score_value = f1_score(y_test, y_pred)\n",
    "                roc_auc_value = roc_auc_array(y_test, y_pred)\n",
    "\n",
    "                self.acc_array.append(accuracy_score_value)\n",
    "                self.prec_array.append(precision_score_value)\n",
    "                self.recall_array.append(recall_score_value)\n",
    "                self.f1_array.append(f1_score_value)\n",
    "                self.roc_auc_array.append(roc_auc_value)\n",
    "\n",
    "            #Get score values for each fold\n",
    "            else:\n",
    "                accuracy_score_value, precision_score_value, \\\n",
    "                recall_score_value, f1_score_value, roc_auc_value, \\\n",
    "                feature_importances = getScoreValues(X_train, \n",
    "                                                     X_test, \n",
    "                                                     y_train,\n",
    "                                                     y_test, \n",
    "                                                     model=model, \n",
    "                                                     verbose=False,\n",
    "                                                     get_features=get_features)\n",
    "\n",
    "\n",
    "                if get_cm:\n",
    "                    # For getting a confusion matrix of the last model in the cross validated set\n",
    "                    y_pred = self.get_cm_pred(model, X_train, y_train, X_test)\n",
    "\n",
    "                self.acc_array.append(accuracy_score_value)\n",
    "                self.prec_array.append(precision_score_value)\n",
    "                self.recall_array.append(recall_score_value)\n",
    "                self.f1_array.append(f1_score_value)\n",
    "                self.roc_auc_array.append(roc_auc_value)\n",
    "                self.feature_imp_array.append(feature_importances)\n",
    "\n",
    "        if get_cm:\n",
    "            try:\n",
    "                cm = confusion_matrix(y_test, average_prediction)\n",
    "            except:\n",
    "                cm = confusion_matrix(y_test, y_pred)\n",
    "            plt.figure()\n",
    "            plot_confusion_matrix(cm)\n",
    "\n",
    "        mean_acc = np.mean(self.acc_array)\n",
    "        mean_prec = np.mean(self.prec_array)\n",
    "        mean_recall = np.mean(self.recall_array)\n",
    "        mean_f1 = np.mean(self.f1_array)\n",
    "        mean_roc_auc = np.mean(self.roc_auc_array)\n",
    "        try:\n",
    "            mean_feature_imp = np.mean(self.feature_imp_array, axis=0)\n",
    "        except TypeError:\n",
    "            mean_feature_imp = None\n",
    "            \n",
    "            \n",
    "        if verbose:\n",
    "            print('Avg Feature Importance: {}'.format(mean_feature_imp))\n",
    "            print('Accuracy: {}\\nPrecision: {}\\nRecall: {}\\nf1: {}\\nROC AUC: {}'.format(mean_acc, \\\n",
    "                                                                                        mean_prec, \\\n",
    "                                                                                        mean_recall,\\\n",
    "                                                                                        mean_f1, \\\n",
    "                                                                                        mean_roc_auc))\n",
    "\n",
    "        else:\n",
    "            return mean_acc, mean_prec, mean_recall, mean_f1, mean_roc_auc\n",
    "    \n",
    "    def get_cm_pred(self, model, X_t, y_t, X_ts):\n",
    "        temp_model = model\n",
    "        temp_model.fit(X_t, y_t)\n",
    "        y_pd = temp_model.predict(X_ts)\n",
    "        return y_pd\n",
    "    \n",
    "    def test_conversion_for_year(self, X_te, y_te, year):\n",
    "        try:\n",
    "            X_te = X_te.loc[year, :]\n",
    "            y_te = y_te.loc[year, :]\n",
    "            return X_te, y_te\n",
    "\n",
    "        except:\n",
    "            print('Bad Year')\n",
    "    "
   ]
  },
  {
   "cell_type": "code",
   "execution_count": 103,
   "metadata": {
    "collapsed": false
   },
   "outputs": [],
   "source": [
    "X = full_data[x_cols]\n",
    "y = full_data['zscores']"
   ]
  },
  {
   "cell_type": "markdown",
   "metadata": {},
   "source": [
    "## Scores for various models"
   ]
  },
  {
   "cell_type": "markdown",
   "metadata": {},
   "source": [
    "#### With oversampling"
   ]
  },
  {
   "cell_type": "code",
   "execution_count": 104,
   "metadata": {
    "collapsed": false
   },
   "outputs": [],
   "source": [
    "pol_modeling = getCrossValScoresBySSS(X,y)"
   ]
  },
  {
   "cell_type": "code",
   "execution_count": 105,
   "metadata": {
    "collapsed": false
   },
   "outputs": [
    {
     "data": {
      "text/html": [
       "<div>\n",
       "<table border=\"1\" class=\"dataframe\">\n",
       "  <thead>\n",
       "    <tr style=\"text-align: right;\">\n",
       "      <th></th>\n",
       "      <th>Accuracy</th>\n",
       "      <th>Precision</th>\n",
       "      <th>Recall</th>\n",
       "      <th>F1</th>\n",
       "      <th>ROCAUC</th>\n",
       "    </tr>\n",
       "  </thead>\n",
       "  <tbody>\n",
       "    <tr>\n",
       "      <th>KNeighborsClassifier(n_neighbors=2)</th>\n",
       "      <td>0.954921</td>\n",
       "      <td>0.844254</td>\n",
       "      <td>0.860851</td>\n",
       "      <td>0.850883</td>\n",
       "      <td>0.916134</td>\n",
       "    </tr>\n",
       "    <tr>\n",
       "      <th>SVC()</th>\n",
       "      <td>0.818730</td>\n",
       "      <td>0.446162</td>\n",
       "      <td>0.848085</td>\n",
       "      <td>0.583400</td>\n",
       "      <td>0.830834</td>\n",
       "    </tr>\n",
       "    <tr>\n",
       "      <th>LogisticRegression()</th>\n",
       "      <td>0.667873</td>\n",
       "      <td>0.262034</td>\n",
       "      <td>0.671489</td>\n",
       "      <td>0.376481</td>\n",
       "      <td>0.669364</td>\n",
       "    </tr>\n",
       "    <tr>\n",
       "      <th>BernoulliNB()</th>\n",
       "      <td>0.609841</td>\n",
       "      <td>0.223557</td>\n",
       "      <td>0.653191</td>\n",
       "      <td>0.332725</td>\n",
       "      <td>0.627715</td>\n",
       "    </tr>\n",
       "    <tr>\n",
       "      <th>GaussianNB()</th>\n",
       "      <td>0.581016</td>\n",
       "      <td>0.209357</td>\n",
       "      <td>0.654043</td>\n",
       "      <td>0.316781</td>\n",
       "      <td>0.611126</td>\n",
       "    </tr>\n",
       "    <tr>\n",
       "      <th>RandomForestClassifier(n_estimators=30)</th>\n",
       "      <td>0.952317</td>\n",
       "      <td>0.851153</td>\n",
       "      <td>0.826809</td>\n",
       "      <td>0.837984</td>\n",
       "      <td>0.900568</td>\n",
       "    </tr>\n",
       "    <tr>\n",
       "      <th>DecisionTreeClassifier()</th>\n",
       "      <td>0.931111</td>\n",
       "      <td>0.780771</td>\n",
       "      <td>0.756596</td>\n",
       "      <td>0.765681</td>\n",
       "      <td>0.859156</td>\n",
       "    </tr>\n",
       "  </tbody>\n",
       "</table>\n",
       "</div>"
      ],
      "text/plain": [
       "                                         Accuracy  Precision    Recall  \\\n",
       "KNeighborsClassifier(n_neighbors=2)      0.954921   0.844254  0.860851   \n",
       "SVC()                                    0.818730   0.446162  0.848085   \n",
       "LogisticRegression()                     0.667873   0.262034  0.671489   \n",
       "BernoulliNB()                            0.609841   0.223557  0.653191   \n",
       "GaussianNB()                             0.581016   0.209357  0.654043   \n",
       "RandomForestClassifier(n_estimators=30)  0.952317   0.851153  0.826809   \n",
       "DecisionTreeClassifier()                 0.931111   0.780771  0.756596   \n",
       "\n",
       "                                               F1    ROCAUC  \n",
       "KNeighborsClassifier(n_neighbors=2)      0.850883  0.916134  \n",
       "SVC()                                    0.583400  0.830834  \n",
       "LogisticRegression()                     0.376481  0.669364  \n",
       "BernoulliNB()                            0.332725  0.627715  \n",
       "GaussianNB()                             0.316781  0.611126  \n",
       "RandomForestClassifier(n_estimators=30)  0.837984  0.900568  \n",
       "DecisionTreeClassifier()                 0.765681  0.859156  "
      ]
     },
     "execution_count": 105,
     "metadata": {},
     "output_type": "execute_result"
    }
   ],
   "source": [
    "pol_modeling.get_multi_models()"
   ]
  },
  {
   "cell_type": "markdown",
   "metadata": {},
   "source": [
    "#### Without oversampling"
   ]
  },
  {
   "cell_type": "code",
   "execution_count": 74,
   "metadata": {
    "collapsed": false,
    "scrolled": true
   },
   "outputs": [
    {
     "data": {
      "text/html": [
       "<div>\n",
       "<table border=\"1\" class=\"dataframe\">\n",
       "  <thead>\n",
       "    <tr style=\"text-align: right;\">\n",
       "      <th></th>\n",
       "      <th>Accuracy</th>\n",
       "      <th>Precision</th>\n",
       "      <th>Recall</th>\n",
       "      <th>F1</th>\n",
       "      <th>ROCAUC</th>\n",
       "    </tr>\n",
       "  </thead>\n",
       "  <tbody>\n",
       "    <tr>\n",
       "      <th>KNeighborsClassifier(n_neighbors=2)</th>\n",
       "      <td>0.942857</td>\n",
       "      <td>0.874896</td>\n",
       "      <td>0.721277</td>\n",
       "      <td>0.789956</td>\n",
       "      <td>0.851497</td>\n",
       "    </tr>\n",
       "    <tr>\n",
       "      <th>SVC()</th>\n",
       "      <td>0.883492</td>\n",
       "      <td>0.791356</td>\n",
       "      <td>0.304965</td>\n",
       "      <td>0.435236</td>\n",
       "      <td>0.644957</td>\n",
       "    </tr>\n",
       "    <tr>\n",
       "      <th>LogisticRegression()</th>\n",
       "      <td>0.863704</td>\n",
       "      <td>0.865873</td>\n",
       "      <td>0.104255</td>\n",
       "      <td>0.184202</td>\n",
       "      <td>0.550573</td>\n",
       "    </tr>\n",
       "    <tr>\n",
       "      <th>BernoulliNB()</th>\n",
       "      <td>0.812381</td>\n",
       "      <td>0.401687</td>\n",
       "      <td>0.516312</td>\n",
       "      <td>0.451008</td>\n",
       "      <td>0.690308</td>\n",
       "    </tr>\n",
       "    <tr>\n",
       "      <th>GaussianNB()</th>\n",
       "      <td>0.731534</td>\n",
       "      <td>0.298795</td>\n",
       "      <td>0.589362</td>\n",
       "      <td>0.395813</td>\n",
       "      <td>0.672915</td>\n",
       "    </tr>\n",
       "    <tr>\n",
       "      <th>RandomForestClassifier(n_estimators=30)</th>\n",
       "      <td>0.945608</td>\n",
       "      <td>0.885466</td>\n",
       "      <td>0.730496</td>\n",
       "      <td>0.799232</td>\n",
       "      <td>0.856915</td>\n",
       "    </tr>\n",
       "    <tr>\n",
       "      <th>DecisionTreeClassifier()</th>\n",
       "      <td>0.924233</td>\n",
       "      <td>0.742884</td>\n",
       "      <td>0.763121</td>\n",
       "      <td>0.749941</td>\n",
       "      <td>0.857804</td>\n",
       "    </tr>\n",
       "  </tbody>\n",
       "</table>\n",
       "</div>"
      ],
      "text/plain": [
       "                                         Accuracy  Precision    Recall  \\\n",
       "KNeighborsClassifier(n_neighbors=2)      0.942857   0.874896  0.721277   \n",
       "SVC()                                    0.883492   0.791356  0.304965   \n",
       "LogisticRegression()                     0.863704   0.865873  0.104255   \n",
       "BernoulliNB()                            0.812381   0.401687  0.516312   \n",
       "GaussianNB()                             0.731534   0.298795  0.589362   \n",
       "RandomForestClassifier(n_estimators=30)  0.945608   0.885466  0.730496   \n",
       "DecisionTreeClassifier()                 0.924233   0.742884  0.763121   \n",
       "\n",
       "                                               F1    ROCAUC  \n",
       "KNeighborsClassifier(n_neighbors=2)      0.789956  0.851497  \n",
       "SVC()                                    0.435236  0.644957  \n",
       "LogisticRegression()                     0.184202  0.550573  \n",
       "BernoulliNB()                            0.451008  0.690308  \n",
       "GaussianNB()                             0.395813  0.672915  \n",
       "RandomForestClassifier(n_estimators=30)  0.799232  0.856915  \n",
       "DecisionTreeClassifier()                 0.749941  0.857804  "
      ]
     },
     "execution_count": 74,
     "metadata": {},
     "output_type": "execute_result"
    }
   ],
   "source": [
    "pol_modeling.get_multi_models(oversample=False)"
   ]
  },
  {
   "cell_type": "markdown",
   "metadata": {},
   "source": [
    "#### KNN various n\n"
   ]
  },
  {
   "cell_type": "code",
   "execution_count": 73,
   "metadata": {
    "collapsed": false,
    "scrolled": false
   },
   "outputs": [
    {
     "name": "stdout",
     "output_type": "stream",
     "text": [
      "n =  1\n",
      "Avg Feature Importance: None\n",
      "Accuracy: 0.9521693121693121\n",
      "Precision: 0.8330129607067633\n",
      "Recall: 0.8574468085106383\n",
      "f1: 0.8427709840009914\n",
      "ROC AUC: 0.9131139515190008\n",
      "\n",
      "\n",
      "n =  2\n",
      "Avg Feature Importance: None\n",
      "Accuracy: 0.9554497354497354\n",
      "Precision: 0.8428081131107646\n",
      "Recall: 0.8680851063829785\n",
      "f1: 0.8530733759957454\n",
      "ROC AUC: 0.9194281253307929\n",
      "\n",
      "\n",
      "n =  3\n",
      "Avg Feature Importance: None\n",
      "Accuracy: 0.9297354497354497\n",
      "Precision: 0.7054299780719064\n",
      "Recall: 0.9141843971631206\n",
      "f1: 0.7954721210247183\n",
      "ROC AUC: 0.9233235418651424\n",
      "\n",
      "\n"
     ]
    },
    {
     "data": {
      "image/png": "[encoded data removed]",
      "text/plain": [
       "<matplotlib.figure.Figure at 0x10f80ebe0>"
      ]
     },
     "metadata": {},
     "output_type": "display_data"
    },
    {
     "data": {
      "image/png": "[encoded data removed]",
      "text/plain": [
       "<matplotlib.figure.Figure at 0x10f88e630>"
      ]
     },
     "metadata": {},
     "output_type": "display_data"
    },
    {
     "data": {
      "image/png": "[encoded data removed]",
      "text/plain": [
       "<matplotlib.figure.Figure at 0x10fad2160>"
      ]
     },
     "metadata": {},
     "output_type": "display_data"
    }
   ],
   "source": [
    "for n in range(1,4):\n",
    "    print('n = ', n)\n",
    "    pol_modeling.get_single_model(model=KNeighborsClassifier(n_neighbors=n), get_cm=True)\n",
    "    print('\\n')"
   ]
  },
  {
   "cell_type": "markdown",
   "metadata": {},
   "source": [
    "#### Random Forest for important features"
   ]
  },
  {
   "cell_type": "code",
   "execution_count": 61,
   "metadata": {
    "collapsed": false,
    "scrolled": false
   },
   "outputs": [
    {
     "name": "stdout",
     "output_type": "stream",
     "text": [
      "Avg Feature Importance: [ 0.12028238  0.10542663  0.11778884  0.16648999  0.13180228  0.14906754\n",
      "  0.20914234]\n",
      "Accuracy: 0.9574603174603175\n",
      "Precision: 0.8601714030420554\n",
      "Recall: 0.8560283687943263\n",
      "f1: 0.8569120826119387\n",
      "ROC AUC: 0.9156385625066157\n"
     ]
    },
    {
     "data": {
      "image/png": "[encoded data removed]",
      "text/plain": [
       "<matplotlib.figure.Figure at 0x10de01748>"
      ]
     },
     "metadata": {},
     "output_type": "display_data"
    }
   ],
   "source": [
    "pol_modeling.get_single_model(model=RandomForestClassifier(n_estimators=100), get_cm = True)"
   ]
  },
  {
   "cell_type": "code",
   "execution_count": 62,
   "metadata": {
    "collapsed": false
   },
   "outputs": [
    {
     "name": "stdout",
     "output_type": "stream",
     "text": [
      "Avg Feature Importance: [ 0.12138225  0.10270884  0.11815154  0.17045065  0.12669724  0.15441116\n",
      "  0.20619831]\n",
      "Accuracy: 0.9535449735449735\n",
      "Precision: 0.854454370351919\n",
      "Recall: 0.8319148936170213\n",
      "f1: 0.841690903242238\n",
      "ROC AUC: 0.9033952577537843\n"
     ]
    },
    {
     "data": {
      "image/png": "[encoded data removed]",
      "text/plain": [
       "<matplotlib.figure.Figure at 0x10f26e9b0>"
      ]
     },
     "metadata": {},
     "output_type": "display_data"
    }
   ],
   "source": [
    "pol_modeling.get_single_model(model=RandomForestClassifier(n_estimators=30), get_cm = True)"
   ]
  },
  {
   "cell_type": "markdown",
   "metadata": {},
   "source": [
    "#### DecisionTreeClassifier for important features"
   ]
  },
  {
   "cell_type": "code",
   "execution_count": 63,
   "metadata": {
    "collapsed": false
   },
   "outputs": [
    {
     "name": "stdout",
     "output_type": "stream",
     "text": [
      "Avg Feature Importance: [ 0.11825411  0.09157728  0.10509774  0.1988876   0.14473493  0.12022577\n",
      "  0.22122257]\n",
      "Accuracy: 0.9288888888888889\n",
      "Precision: 0.7777487590607061\n",
      "Recall: 0.7368794326241136\n",
      "f1: 0.7546329152166141\n",
      "ROC AUC: 0.8497208108394199\n"
     ]
    },
    {
     "data": {
      "image/png": "[encoded data removed]",
      "text/plain": [
       "<matplotlib.figure.Figure at 0x10f2bf2e8>"
      ]
     },
     "metadata": {},
     "output_type": "display_data"
    }
   ],
   "source": [
    "pol_modeling.get_single_model(model=DecisionTreeClassifier(), get_cm = True)"
   ]
  },
  {
   "cell_type": "markdown",
   "metadata": {},
   "source": [
    "### Random forest, different number of trees"
   ]
  },
  {
   "cell_type": "code",
   "execution_count": null,
   "metadata": {
    "collapsed": false
   },
   "outputs": [],
   "source": [
    "forest_acc = []\n",
    "forest_prec = []\n",
    "forest_rec = []\n",
    "forest_f1 = []\n",
    "forest_range = list(range(1,30))\n",
    "for trees in forest_range:\n",
    "    acc, prec, rec, f1 = pol_modeling.get_single_model(model=RandomForestClassifier(n_estimators=trees), verbose=False)\n",
    "    forest_acc.append(acc)\n",
    "    forest_prec.append(prec)\n",
    "    forest_rec.append(rec)\n",
    "    forest_f1.append(f1)\n",
    "\n",
    "plt.figure(figsize=(11,7))\n",
    "plt.plot(forest_range, forest_acc, label='Accuracy')\n",
    "plt.plot(forest_range, forest_prec,label='Precision')\n",
    "plt.plot(forest_range, forest_rec,label='Recall')\n",
    "plt.plot(forest_range, forest_f1,label='F1')\n",
    "\n",
    "plt.legend(loc='best')\n",
    "plt.xlabel('Num Trees')\n",
    "plt.ylabel('Score')\n",
    "plt.title('Scores at various tree sizes')\n",
    "plt.show()\n",
    "\n",
    "    "
   ]
  },
  {
   "cell_type": "markdown",
   "metadata": {
    "collapsed": true
   },
   "source": [
    "### Model averages:"
   ]
  },
  {
   "cell_type": "code",
   "execution_count": null,
   "metadata": {
    "collapsed": false,
    "scrolled": true
   },
   "outputs": [],
   "source": [
    "pol_modeling.get_single_model(get_models_avg=True)"
   ]
  },
  {
   "cell_type": "code",
   "execution_count": null,
   "metadata": {
    "collapsed": true
   },
   "outputs": [],
   "source": []
  },
  {
   "cell_type": "markdown",
   "metadata": {
    "collapsed": true
   },
   "source": [
    "## Testing for a single year"
   ]
  },
  {
   "cell_type": "markdown",
   "metadata": {},
   "source": [
    "### With Oversampling"
   ]
  },
  {
   "cell_type": "code",
   "execution_count": 106,
   "metadata": {
    "collapsed": false
   },
   "outputs": [
    {
     "data": {
      "text/html": [
       "<div>\n",
       "<table border=\"1\" class=\"dataframe\">\n",
       "  <thead>\n",
       "    <tr style=\"text-align: right;\">\n",
       "      <th></th>\n",
       "      <th>Accuracy</th>\n",
       "      <th>Precision</th>\n",
       "      <th>Recall</th>\n",
       "      <th>F1</th>\n",
       "      <th>ROCAUC</th>\n",
       "    </tr>\n",
       "  </thead>\n",
       "  <tbody>\n",
       "    <tr>\n",
       "      <th>KNeighborsClassifier(n_neighbors=2)</th>\n",
       "      <td>0.931950</td>\n",
       "      <td>0.768675</td>\n",
       "      <td>0.807890</td>\n",
       "      <td>0.776435</td>\n",
       "      <td>0.880752</td>\n",
       "    </tr>\n",
       "    <tr>\n",
       "      <th>SVC()</th>\n",
       "      <td>0.799812</td>\n",
       "      <td>0.413214</td>\n",
       "      <td>0.742854</td>\n",
       "      <td>0.521418</td>\n",
       "      <td>0.776341</td>\n",
       "    </tr>\n",
       "    <tr>\n",
       "      <th>LogisticRegression()</th>\n",
       "      <td>0.701190</td>\n",
       "      <td>0.288904</td>\n",
       "      <td>0.646126</td>\n",
       "      <td>0.395127</td>\n",
       "      <td>0.677208</td>\n",
       "    </tr>\n",
       "    <tr>\n",
       "      <th>BernoulliNB()</th>\n",
       "      <td>0.650610</td>\n",
       "      <td>0.249343</td>\n",
       "      <td>0.675091</td>\n",
       "      <td>0.359725</td>\n",
       "      <td>0.660519</td>\n",
       "    </tr>\n",
       "    <tr>\n",
       "      <th>GaussianNB()</th>\n",
       "      <td>0.594769</td>\n",
       "      <td>0.219105</td>\n",
       "      <td>0.634513</td>\n",
       "      <td>0.322659</td>\n",
       "      <td>0.610860</td>\n",
       "    </tr>\n",
       "    <tr>\n",
       "      <th>RandomForestClassifier(n_estimators=30)</th>\n",
       "      <td>0.912458</td>\n",
       "      <td>0.718955</td>\n",
       "      <td>0.692943</td>\n",
       "      <td>0.693923</td>\n",
       "      <td>0.821511</td>\n",
       "    </tr>\n",
       "    <tr>\n",
       "      <th>DecisionTreeClassifier()</th>\n",
       "      <td>0.887213</td>\n",
       "      <td>0.618870</td>\n",
       "      <td>0.610110</td>\n",
       "      <td>0.602734</td>\n",
       "      <td>0.772513</td>\n",
       "    </tr>\n",
       "  </tbody>\n",
       "</table>\n",
       "</div>"
      ],
      "text/plain": [
       "                                         Accuracy  Precision    Recall  \\\n",
       "KNeighborsClassifier(n_neighbors=2)      0.931950   0.768675  0.807890   \n",
       "SVC()                                    0.799812   0.413214  0.742854   \n",
       "LogisticRegression()                     0.701190   0.288904  0.646126   \n",
       "BernoulliNB()                            0.650610   0.249343  0.675091   \n",
       "GaussianNB()                             0.594769   0.219105  0.634513   \n",
       "RandomForestClassifier(n_estimators=30)  0.912458   0.718955  0.692943   \n",
       "DecisionTreeClassifier()                 0.887213   0.618870  0.610110   \n",
       "\n",
       "                                               F1    ROCAUC  \n",
       "KNeighborsClassifier(n_neighbors=2)      0.776435  0.880752  \n",
       "SVC()                                    0.521418  0.776341  \n",
       "LogisticRegression()                     0.395127  0.677208  \n",
       "BernoulliNB()                            0.359725  0.660519  \n",
       "GaussianNB()                             0.322659  0.610860  \n",
       "RandomForestClassifier(n_estimators=30)  0.693923  0.821511  \n",
       "DecisionTreeClassifier()                 0.602734  0.772513  "
      ]
     },
     "execution_count": 106,
     "metadata": {},
     "output_type": "execute_result"
    }
   ],
   "source": [
    "pol_modeling.get_multi_models(year=2013)"
   ]
  },
  {
   "cell_type": "code",
   "execution_count": 87,
   "metadata": {
    "collapsed": false
   },
   "outputs": [
    {
     "name": "stderr",
     "output_type": "stream",
     "text": [
      "/Users/kenn/anaconda/lib/python3.5/site-packages/sklearn/metrics/classification.py:1074: UndefinedMetricWarning: Precision is ill-defined and being set to 0.0 due to no predicted samples.\n",
      "  'precision', 'predicted', average, warn_for)\n",
      "/Users/kenn/anaconda/lib/python3.5/site-packages/sklearn/metrics/classification.py:1074: UndefinedMetricWarning: F-score is ill-defined and being set to 0.0 due to no predicted samples.\n",
      "  'precision', 'predicted', average, warn_for)\n"
     ]
    },
    {
     "data": {
      "text/html": [
       "<div>\n",
       "<table border=\"1\" class=\"dataframe\">\n",
       "  <thead>\n",
       "    <tr style=\"text-align: right;\">\n",
       "      <th></th>\n",
       "      <th>Accuracy</th>\n",
       "      <th>Precision</th>\n",
       "      <th>Recall</th>\n",
       "      <th>F1</th>\n",
       "      <th>ROCAUC</th>\n",
       "    </tr>\n",
       "  </thead>\n",
       "  <tbody>\n",
       "    <tr>\n",
       "      <th>KNeighborsClassifier(n_neighbors=2)</th>\n",
       "      <td>0.909658</td>\n",
       "      <td>0.743849</td>\n",
       "      <td>0.543431</td>\n",
       "      <td>0.617631</td>\n",
       "      <td>0.756679</td>\n",
       "    </tr>\n",
       "    <tr>\n",
       "      <th>SVC()</th>\n",
       "      <td>0.871530</td>\n",
       "      <td>0.634881</td>\n",
       "      <td>0.371325</td>\n",
       "      <td>0.452748</td>\n",
       "      <td>0.665376</td>\n",
       "    </tr>\n",
       "    <tr>\n",
       "      <th>LogisticRegression()</th>\n",
       "      <td>0.870336</td>\n",
       "      <td>0.566667</td>\n",
       "      <td>0.110266</td>\n",
       "      <td>0.177756</td>\n",
       "      <td>0.554384</td>\n",
       "    </tr>\n",
       "    <tr>\n",
       "      <th>BernoulliNB()</th>\n",
       "      <td>0.821865</td>\n",
       "      <td>0.429182</td>\n",
       "      <td>0.533783</td>\n",
       "      <td>0.464914</td>\n",
       "      <td>0.704450</td>\n",
       "    </tr>\n",
       "    <tr>\n",
       "      <th>GaussianNB()</th>\n",
       "      <td>0.765364</td>\n",
       "      <td>0.321623</td>\n",
       "      <td>0.636647</td>\n",
       "      <td>0.421407</td>\n",
       "      <td>0.710967</td>\n",
       "    </tr>\n",
       "    <tr>\n",
       "      <th>RandomForestClassifier(n_estimators=30)</th>\n",
       "      <td>0.912502</td>\n",
       "      <td>0.758704</td>\n",
       "      <td>0.582275</td>\n",
       "      <td>0.641033</td>\n",
       "      <td>0.774419</td>\n",
       "    </tr>\n",
       "    <tr>\n",
       "      <th>DecisionTreeClassifier()</th>\n",
       "      <td>0.886652</td>\n",
       "      <td>0.613192</td>\n",
       "      <td>0.655891</td>\n",
       "      <td>0.616611</td>\n",
       "      <td>0.791068</td>\n",
       "    </tr>\n",
       "  </tbody>\n",
       "</table>\n",
       "</div>"
      ],
      "text/plain": [
       "                                         Accuracy  Precision    Recall  \\\n",
       "KNeighborsClassifier(n_neighbors=2)      0.909658   0.743849  0.543431   \n",
       "SVC()                                    0.871530   0.634881  0.371325   \n",
       "LogisticRegression()                     0.870336   0.566667  0.110266   \n",
       "BernoulliNB()                            0.821865   0.429182  0.533783   \n",
       "GaussianNB()                             0.765364   0.321623  0.636647   \n",
       "RandomForestClassifier(n_estimators=30)  0.912502   0.758704  0.582275   \n",
       "DecisionTreeClassifier()                 0.886652   0.613192  0.655891   \n",
       "\n",
       "                                               F1    ROCAUC  \n",
       "KNeighborsClassifier(n_neighbors=2)      0.617631  0.756679  \n",
       "SVC()                                    0.452748  0.665376  \n",
       "LogisticRegression()                     0.177756  0.554384  \n",
       "BernoulliNB()                            0.464914  0.704450  \n",
       "GaussianNB()                             0.421407  0.710967  \n",
       "RandomForestClassifier(n_estimators=30)  0.641033  0.774419  \n",
       "DecisionTreeClassifier()                 0.616611  0.791068  "
      ]
     },
     "execution_count": 87,
     "metadata": {},
     "output_type": "execute_result"
    }
   ],
   "source": [
    "pol_modeling.get_multi_models(year=2013, oversample=False)"
   ]
  },
  {
   "cell_type": "code",
   "execution_count": null,
   "metadata": {
    "collapsed": true
   },
   "outputs": [],
   "source": []
  }
 ],
 "metadata": {
  "kernelspec": {
   "display_name": "Python 3",
   "language": "python",
   "name": "python3"
  },
  "language_info": {
   "codemirror_mode": {
    "name": "ipython",
    "version": 3
   },
   "file_extension": ".py",
   "mimetype": "text/x-python",
   "name": "python",
   "nbconvert_exporter": "python",
   "pygments_lexer": "ipython3",
   "version": "3.5.0"
  }
 },
 "nbformat": 4,
 "nbformat_minor": 0
}
