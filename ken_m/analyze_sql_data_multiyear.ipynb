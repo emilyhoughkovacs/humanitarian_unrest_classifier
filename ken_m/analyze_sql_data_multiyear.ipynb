{
 "cells": [
  {
   "cell_type": "markdown",
   "metadata": {},
   "source": [
    "### This is the same notebook as analyze_sql_data.ipynb but includes multiple years"
   ]
  },
  {
   "cell_type": "code",
   "execution_count": 16,
   "metadata": {
    "collapsed": false
   },
   "outputs": [],
   "source": [
    "from sqlalchemy import create_engine\n",
    "import pandas as pd\n",
    "import numpy as np\n",
    "\n",
    "from sklearn.cross_validation import train_test_split, StratifiedShuffleSplit\n",
    "from sklearn.neighbors import KNeighborsClassifier\n",
    "from sklearn.metrics import (\n",
    "                            accuracy_score, \n",
    "                            precision_score, \n",
    "                            recall_score, \n",
    "                            f1_score, \n",
    "                            roc_curve, \n",
    "                            roc_auc_score, \n",
    "                            confusion_matrix\n",
    "                            )\n",
    "from sklearn.linear_model import LogisticRegression, LinearRegression\n",
    "from sklearn.naive_bayes import GaussianNB, BernoulliNB\n",
    "from sklearn.svm import SVC\n",
    "from sklearn.tree import DecisionTreeClassifier\n",
    "from sklearn.tree import DecisionTreeRegressor\n",
    "from sklearn.ensemble import RandomForestClassifier\n",
    "from sklearn.learning_curve import learning_curve\n",
    "from sklearn.cross_validation import cross_val_score\n",
    "from sklearn.metrics import confusion_matrix\n",
    "\n",
    "from unbalanced_dataset import OverSampler, SMOTE\n",
    "\n",
    "import matplotlib.pyplot as plt\n",
    "import seaborn as sns\n",
    "\n",
    "\n",
    "%matplotlib inline"
   ]
  },
  {
   "cell_type": "code",
   "execution_count": 17,
   "metadata": {
    "collapsed": true
   },
   "outputs": [],
   "source": [
    "CONFIG = {}\n",
    "\n",
    "with open('config.txt', \"r\") as in_file:\n",
    "    for line in in_file:\n",
    "        line = line.split(\":\")\n",
    "        parameter = line[0].strip()\n",
    "        value = line[1].strip()\n",
    "        CONFIG[parameter] = value\n",
    "                \n",
    "engine_path = 'postgresql://'+CONFIG['username']+':'+\\\n",
    "                CONFIG['password']+'@'+CONFIG['ip']+\\\n",
    "                ':'+CONFIG['port']+'/'+CONFIG['database']\n",
    "        \n",
    "engine = create_engine(engine_path)"
   ]
  },
  {
   "cell_type": "markdown",
   "metadata": {},
   "source": [
    "### Want something like:\n",
    "\n",
    "    SELECT\n",
    "        table4.countrycode as 'countrycode',\n",
    "        b.table1 as 'table1',\n",
    "        b.table2 as 'table2',\n",
    "        b.table3 as 'table3',\n",
    "        table4.year as 'table4'\n",
    "        (SELECT\n",
    "            table3.countrycode as 'countrycode',\n",
    "            a.table1 as 'table1',\n",
    "            a.table2 as 'table2',\n",
    "            table3.year as 'table3'\n",
    "         FROM\n",
    "            (SELECT\n",
    "                 table1.countrycode as 'countrycode',\n",
    "                 table1.year as 'table1',\n",
    "                 table2.year as 'table2'\n",
    "             FROM\n",
    "                 table1\n",
    "             JOIN\n",
    "                 table2\n",
    "               ON \n",
    "                 table1.countrycode = table2.countrycode\n",
    "             ) a\n",
    "         JOIN\n",
    "             table3\n",
    "           ON\n",
    "             a.countrycode = table3.countrycode  \n",
    "        ) b    \n",
    "    JOIN\n",
    "        table4\n",
    "      ON\n",
    "        a.countrycode = table3.countrycode \n",
    "    \n",
    "        \n",
    "       \n"
   ]
  },
  {
   "cell_type": "code",
   "execution_count": 18,
   "metadata": {
    "collapsed": false
   },
   "outputs": [],
   "source": [
    "def makeSQLQuery(table_names, year):\n",
    "    dotyyear = '.y' + str(year)\n",
    "    current_unit = 'a'\n",
    "    query = '(SELECT ' + table_names[0] + '.countrycode AS countrycode, ' + \\\n",
    "            table_names[0] + dotyyear + ' AS ' + table_names[0] + ', ' + \\\n",
    "            table_names[1] + dotyyear + ' AS ' + table_names[1] + \\\n",
    "            ' FROM ' + table_names[0] + \\\n",
    "            ' JOIN ' + table_names[1] + \\\n",
    "            ' ON ' + table_names[0] + '.countrycode=' + table_names[1] + '.countrycode) '\n",
    "    query = query + current_unit\n",
    "    \n",
    "    for table in table_names[2:]:\n",
    "        curr_index = table_names.index(table)\n",
    "        temp_list = table_names[:curr_index+1]\n",
    "        \n",
    "        pre_string = '(SELECT ' + table + '.countrycode as countrycode'\n",
    "        \n",
    "        for temp_table in temp_list[:-1]:\n",
    "            pre_string = pre_string + ', ' + current_unit + '.' + temp_table + ' AS ' + temp_table\n",
    "        \n",
    "        pre_string = pre_string + ', ' + table + dotyyear + ' AS ' + table\n",
    "        \n",
    "        query = pre_string + ' FROM ' + query + ' JOIN ' + table + \\\n",
    "                ' ON ' + current_unit + '.countrycode=' + table + '.countrycode) '\n",
    "        \n",
    "        current_unit = current_unit + 'a'\n",
    "        query = query + current_unit\n",
    "        \n",
    "    query = query.rsplit(' ', 1)[0][1:-1]\n",
    "    \n",
    "    return query\n",
    "    \n",
    "    "
   ]
  },
  {
   "cell_type": "code",
   "execution_count": 19,
   "metadata": {
    "collapsed": false
   },
   "outputs": [],
   "source": [
    "table_names = ['civil_liberties', 'population_growth', 'political_rights', \\\n",
    "               'life_expectancy', 'terror', 'peace', \\\n",
    "               'population_15_64',  \\\n",
    "                'zscores']"
   ]
  },
  {
   "cell_type": "code",
   "execution_count": 20,
   "metadata": {
    "collapsed": true
   },
   "outputs": [],
   "source": [
    "x_cols = table_names[:-1]"
   ]
  },
  {
   "cell_type": "code",
   "execution_count": 21,
   "metadata": {
    "collapsed": true
   },
   "outputs": [],
   "source": [
    "years = [2008, 2009, 2010, 2011, 2012, 2013]"
   ]
  },
  {
   "cell_type": "code",
   "execution_count": 22,
   "metadata": {
    "collapsed": true
   },
   "outputs": [],
   "source": [
    "full_data = pd.DataFrame()"
   ]
  },
  {
   "cell_type": "code",
   "execution_count": 23,
   "metadata": {
    "collapsed": false
   },
   "outputs": [],
   "source": [
    "for year in years:\n",
    "    query = makeSQLQuery(table_names, year)\n",
    "    year_data = pd.read_sql_query(query, engine)\n",
    "    year_data['year'] = year\n",
    "    year_data = year_data.set_index(['countrycode', 'year'])\n",
    "    full_data = pd.concat([full_data, year_data])\n",
    "    \n"
   ]
  },
  {
   "cell_type": "code",
   "execution_count": 24,
   "metadata": {
    "collapsed": false
   },
   "outputs": [
    {
     "data": {
      "text/html": [
       "<div>\n",
       "<table border=\"1\" class=\"dataframe\">\n",
       "  <thead>\n",
       "    <tr style=\"text-align: right;\">\n",
       "      <th></th>\n",
       "      <th></th>\n",
       "      <th>civil_liberties</th>\n",
       "      <th>population_growth</th>\n",
       "      <th>political_rights</th>\n",
       "      <th>life_expectancy</th>\n",
       "      <th>terror</th>\n",
       "      <th>peace</th>\n",
       "      <th>population_15_64</th>\n",
       "      <th>zscores</th>\n",
       "    </tr>\n",
       "    <tr>\n",
       "      <th>countrycode</th>\n",
       "      <th>year</th>\n",
       "      <th></th>\n",
       "      <th></th>\n",
       "      <th></th>\n",
       "      <th></th>\n",
       "      <th></th>\n",
       "      <th></th>\n",
       "      <th></th>\n",
       "      <th></th>\n",
       "    </tr>\n",
       "  </thead>\n",
       "  <tbody>\n",
       "    <tr>\n",
       "      <th>AFG</th>\n",
       "      <th>2008</th>\n",
       "      <td>6</td>\n",
       "      <td>2.485315</td>\n",
       "      <td>5</td>\n",
       "      <td>58.225024</td>\n",
       "      <td>8.011</td>\n",
       "      <td>2.983</td>\n",
       "      <td>49.946087</td>\n",
       "      <td>6.546331355</td>\n",
       "    </tr>\n",
       "    <tr>\n",
       "      <th>AGO</th>\n",
       "      <th>2008</th>\n",
       "      <td>5</td>\n",
       "      <td>3.374180</td>\n",
       "      <td>6</td>\n",
       "      <td>49.847390</td>\n",
       "      <td>0.000</td>\n",
       "      <td>2.132</td>\n",
       "      <td>49.356104</td>\n",
       "      <td>0.281696206</td>\n",
       "    </tr>\n",
       "    <tr>\n",
       "      <th>ALB</th>\n",
       "      <th>2008</th>\n",
       "      <td>3</td>\n",
       "      <td>-0.767343</td>\n",
       "      <td>3</td>\n",
       "      <td>76.632317</td>\n",
       "      <td>0.000</td>\n",
       "      <td>1.911</td>\n",
       "      <td>66.816430</td>\n",
       "      <td>0.055357722</td>\n",
       "    </tr>\n",
       "    <tr>\n",
       "      <th>ARE</th>\n",
       "      <th>2008</th>\n",
       "      <td>5</td>\n",
       "      <td>13.810060</td>\n",
       "      <td>6</td>\n",
       "      <td>76.307756</td>\n",
       "      <td>0.000</td>\n",
       "      <td>1.584</td>\n",
       "      <td>84.600650</td>\n",
       "      <td>-0.267222176</td>\n",
       "    </tr>\n",
       "    <tr>\n",
       "      <th>ARG</th>\n",
       "      <th>2008</th>\n",
       "      <td>2</td>\n",
       "      <td>1.025393</td>\n",
       "      <td>2</td>\n",
       "      <td>75.166268</td>\n",
       "      <td>0.363</td>\n",
       "      <td>1.791</td>\n",
       "      <td>63.456290</td>\n",
       "      <td>-0.26793528</td>\n",
       "    </tr>\n",
       "    <tr>\n",
       "      <th>ARM</th>\n",
       "      <th>2008</th>\n",
       "      <td>4</td>\n",
       "      <td>-0.438964</td>\n",
       "      <td>6</td>\n",
       "      <td>73.945000</td>\n",
       "      <td>0.549</td>\n",
       "      <td>2.309</td>\n",
       "      <td>68.109386</td>\n",
       "      <td>0.080862762</td>\n",
       "    </tr>\n",
       "    <tr>\n",
       "      <th>AUS</th>\n",
       "      <th>2008</th>\n",
       "      <td>1</td>\n",
       "      <td>2.004022</td>\n",
       "      <td>1</td>\n",
       "      <td>81.395122</td>\n",
       "      <td>2.150</td>\n",
       "      <td>1.428</td>\n",
       "      <td>67.607537</td>\n",
       "      <td>-0.269460889</td>\n",
       "    </tr>\n",
       "    <tr>\n",
       "      <th>AUT</th>\n",
       "      <th>2008</th>\n",
       "      <td>1</td>\n",
       "      <td>0.313041</td>\n",
       "      <td>1</td>\n",
       "      <td>80.431707</td>\n",
       "      <td>3.017</td>\n",
       "      <td>1.278</td>\n",
       "      <td>67.666395</td>\n",
       "      <td>-0.269482667</td>\n",
       "    </tr>\n",
       "    <tr>\n",
       "      <th>AZE</th>\n",
       "      <th>2008</th>\n",
       "      <td>5</td>\n",
       "      <td>2.099854</td>\n",
       "      <td>6</td>\n",
       "      <td>70.062927</td>\n",
       "      <td>2.928</td>\n",
       "      <td>2.236</td>\n",
       "      <td>70.166088</td>\n",
       "      <td>-0.150740934</td>\n",
       "    </tr>\n",
       "    <tr>\n",
       "      <th>BDI</th>\n",
       "      <th>2008</th>\n",
       "      <td>5</td>\n",
       "      <td>3.544561</td>\n",
       "      <td>4</td>\n",
       "      <td>53.891024</td>\n",
       "      <td>4.351</td>\n",
       "      <td>2.490</td>\n",
       "      <td>53.004372</td>\n",
       "      <td>1.767632007</td>\n",
       "    </tr>\n",
       "    <tr>\n",
       "      <th>BEL</th>\n",
       "      <th>2008</th>\n",
       "      <td>1</td>\n",
       "      <td>0.789977</td>\n",
       "      <td>1</td>\n",
       "      <td>79.680488</td>\n",
       "      <td>0.549</td>\n",
       "      <td>1.374</td>\n",
       "      <td>66.033070</td>\n",
       "      <td>-0.269226531</td>\n",
       "    </tr>\n",
       "    <tr>\n",
       "      <th>BEN</th>\n",
       "      <th>2008</th>\n",
       "      <td>2</td>\n",
       "      <td>3.007812</td>\n",
       "      <td>2</td>\n",
       "      <td>58.204512</td>\n",
       "      <td>0.229</td>\n",
       "      <td>2.221</td>\n",
       "      <td>53.171736</td>\n",
       "      <td>-0.26732832</td>\n",
       "    </tr>\n",
       "    <tr>\n",
       "      <th>BFA</th>\n",
       "      <th>2008</th>\n",
       "      <td>3</td>\n",
       "      <td>3.072128</td>\n",
       "      <td>5</td>\n",
       "      <td>55.902293</td>\n",
       "      <td>0.000</td>\n",
       "      <td>1.915</td>\n",
       "      <td>51.002063</td>\n",
       "      <td>-0.266444252</td>\n",
       "    </tr>\n",
       "    <tr>\n",
       "      <th>BGD</th>\n",
       "      <th>2008</th>\n",
       "      <td>4</td>\n",
       "      <td>1.125881</td>\n",
       "      <td>4</td>\n",
       "      <td>69.277854</td>\n",
       "      <td>4.509</td>\n",
       "      <td>2.118</td>\n",
       "      <td>62.375354</td>\n",
       "      <td>-0.265242853</td>\n",
       "    </tr>\n",
       "    <tr>\n",
       "      <th>BGR</th>\n",
       "      <th>2008</th>\n",
       "      <td>2</td>\n",
       "      <td>-0.701923</td>\n",
       "      <td>2</td>\n",
       "      <td>72.963415</td>\n",
       "      <td>1.446</td>\n",
       "      <td>1.714</td>\n",
       "      <td>68.733302</td>\n",
       "      <td>-0.243694898</td>\n",
       "    </tr>\n",
       "    <tr>\n",
       "      <th>BHR</th>\n",
       "      <th>2008</th>\n",
       "      <td>5</td>\n",
       "      <td>8.332982</td>\n",
       "      <td>5</td>\n",
       "      <td>75.847512</td>\n",
       "      <td>0.877</td>\n",
       "      <td>1.800</td>\n",
       "      <td>76.171852</td>\n",
       "      <td>-0.265014024</td>\n",
       "    </tr>\n",
       "    <tr>\n",
       "      <th>BIH</th>\n",
       "      <th>2008</th>\n",
       "      <td>3</td>\n",
       "      <td>-0.017421</td>\n",
       "      <td>4</td>\n",
       "      <td>75.511976</td>\n",
       "      <td>3.001</td>\n",
       "      <td>1.919</td>\n",
       "      <td>71.634188</td>\n",
       "      <td>0.966490026</td>\n",
       "    </tr>\n",
       "    <tr>\n",
       "      <th>BLR</th>\n",
       "      <th>2008</th>\n",
       "      <td>6</td>\n",
       "      <td>-0.335290</td>\n",
       "      <td>7</td>\n",
       "      <td>70.456098</td>\n",
       "      <td>2.455</td>\n",
       "      <td>2.090</td>\n",
       "      <td>70.772133</td>\n",
       "      <td>-0.233525674</td>\n",
       "    </tr>\n",
       "    <tr>\n",
       "      <th>BOL</th>\n",
       "      <th>2008</th>\n",
       "      <td>3</td>\n",
       "      <td>1.664139</td>\n",
       "      <td>3</td>\n",
       "      <td>65.273805</td>\n",
       "      <td>1.073</td>\n",
       "      <td>1.966</td>\n",
       "      <td>58.763660</td>\n",
       "      <td>-0.266571734</td>\n",
       "    </tr>\n",
       "    <tr>\n",
       "      <th>BRA</th>\n",
       "      <th>2008</th>\n",
       "      <td>2</td>\n",
       "      <td>1.024472</td>\n",
       "      <td>2</td>\n",
       "      <td>72.695415</td>\n",
       "      <td>1.365</td>\n",
       "      <td>2.109</td>\n",
       "      <td>67.420215</td>\n",
       "      <td>-0.269129974</td>\n",
       "    </tr>\n",
       "    <tr>\n",
       "      <th>BTN</th>\n",
       "      <th>2008</th>\n",
       "      <td>5</td>\n",
       "      <td>1.964376</td>\n",
       "      <td>4</td>\n",
       "      <td>66.885024</td>\n",
       "      <td>2.761</td>\n",
       "      <td>1.468</td>\n",
       "      <td>64.074447</td>\n",
       "      <td>9.369609512</td>\n",
       "    </tr>\n",
       "    <tr>\n",
       "      <th>BWA</th>\n",
       "      <th>2008</th>\n",
       "      <td>2</td>\n",
       "      <td>1.920641</td>\n",
       "      <td>2</td>\n",
       "      <td>60.958585</td>\n",
       "      <td>0.000</td>\n",
       "      <td>1.662</td>\n",
       "      <td>62.738164</td>\n",
       "      <td>-0.268746798</td>\n",
       "    </tr>\n",
       "    <tr>\n",
       "      <th>CAF</th>\n",
       "      <th>2008</th>\n",
       "      <td>5</td>\n",
       "      <td>1.846228</td>\n",
       "      <td>5</td>\n",
       "      <td>46.284000</td>\n",
       "      <td>1.929</td>\n",
       "      <td>2.763</td>\n",
       "      <td>54.948492</td>\n",
       "      <td>1.595794154</td>\n",
       "    </tr>\n",
       "    <tr>\n",
       "      <th>CAN</th>\n",
       "      <th>2008</th>\n",
       "      <td>1</td>\n",
       "      <td>1.082197</td>\n",
       "      <td>1</td>\n",
       "      <td>80.543220</td>\n",
       "      <td>2.529</td>\n",
       "      <td>1.291</td>\n",
       "      <td>69.495810</td>\n",
       "      <td>-0.269396149</td>\n",
       "    </tr>\n",
       "    <tr>\n",
       "      <th>CHE</th>\n",
       "      <th>2008</th>\n",
       "      <td>1</td>\n",
       "      <td>1.270618</td>\n",
       "      <td>1</td>\n",
       "      <td>81.992683</td>\n",
       "      <td>0.713</td>\n",
       "      <td>1.268</td>\n",
       "      <td>68.117065</td>\n",
       "      <td>-0.269322989</td>\n",
       "    </tr>\n",
       "    <tr>\n",
       "      <th>CHL</th>\n",
       "      <th>2008</th>\n",
       "      <td>1</td>\n",
       "      <td>1.106907</td>\n",
       "      <td>1</td>\n",
       "      <td>79.640902</td>\n",
       "      <td>3.200</td>\n",
       "      <td>1.489</td>\n",
       "      <td>68.101357</td>\n",
       "      <td>-0.265778917</td>\n",
       "    </tr>\n",
       "    <tr>\n",
       "      <th>CHN</th>\n",
       "      <th>2008</th>\n",
       "      <td>6</td>\n",
       "      <td>0.512387</td>\n",
       "      <td>7</td>\n",
       "      <td>74.579829</td>\n",
       "      <td>4.160</td>\n",
       "      <td>2.052</td>\n",
       "      <td>73.917570</td>\n",
       "      <td>-0.261149763</td>\n",
       "    </tr>\n",
       "    <tr>\n",
       "      <th>CIV</th>\n",
       "      <th>2008</th>\n",
       "      <td>5</td>\n",
       "      <td>2.095748</td>\n",
       "      <td>6</td>\n",
       "      <td>49.279780</td>\n",
       "      <td>2.749</td>\n",
       "      <td>2.299</td>\n",
       "      <td>53.126189</td>\n",
       "      <td>-0.195941789</td>\n",
       "    </tr>\n",
       "    <tr>\n",
       "      <th>CMR</th>\n",
       "      <th>2008</th>\n",
       "      <td>6</td>\n",
       "      <td>2.547806</td>\n",
       "      <td>6</td>\n",
       "      <td>52.855829</td>\n",
       "      <td>2.094</td>\n",
       "      <td>2.095</td>\n",
       "      <td>52.891808</td>\n",
       "      <td>-0.224357459</td>\n",
       "    </tr>\n",
       "    <tr>\n",
       "      <th>COG</th>\n",
       "      <th>2008</th>\n",
       "      <td>5</td>\n",
       "      <td>3.103037</td>\n",
       "      <td>6</td>\n",
       "      <td>56.965073</td>\n",
       "      <td>0.000</td>\n",
       "      <td>2.154</td>\n",
       "      <td>54.308202</td>\n",
       "      <td>0.062197806</td>\n",
       "    </tr>\n",
       "    <tr>\n",
       "      <th>...</th>\n",
       "      <th>...</th>\n",
       "      <td>...</td>\n",
       "      <td>...</td>\n",
       "      <td>...</td>\n",
       "      <td>...</td>\n",
       "      <td>...</td>\n",
       "      <td>...</td>\n",
       "      <td>...</td>\n",
       "      <td>...</td>\n",
       "    </tr>\n",
       "    <tr>\n",
       "      <th>SLE</th>\n",
       "      <th>2013</th>\n",
       "      <td>3</td>\n",
       "      <td>2.220707</td>\n",
       "      <td>3</td>\n",
       "      <td>50.363122</td>\n",
       "      <td>0.000</td>\n",
       "      <td>1.898</td>\n",
       "      <td>54.394784</td>\n",
       "      <td>-0.200981899</td>\n",
       "    </tr>\n",
       "    <tr>\n",
       "      <th>SLV</th>\n",
       "      <th>2013</th>\n",
       "      <td>3</td>\n",
       "      <td>0.286321</td>\n",
       "      <td>2</td>\n",
       "      <td>72.498146</td>\n",
       "      <td>0.000</td>\n",
       "      <td>2.234</td>\n",
       "      <td>63.885015</td>\n",
       "      <td>-0.146664387</td>\n",
       "    </tr>\n",
       "    <tr>\n",
       "      <th>SOM</th>\n",
       "      <th>2013</th>\n",
       "      <td>7</td>\n",
       "      <td>2.310510</td>\n",
       "      <td>7</td>\n",
       "      <td>55.023024</td>\n",
       "      <td>7.120</td>\n",
       "      <td>3.404</td>\n",
       "      <td>50.001456</td>\n",
       "      <td>7.956455921</td>\n",
       "    </tr>\n",
       "    <tr>\n",
       "      <th>SRB</th>\n",
       "      <th>2013</th>\n",
       "      <td>2</td>\n",
       "      <td>-0.486591</td>\n",
       "      <td>2</td>\n",
       "      <td>75.136585</td>\n",
       "      <td>1.154</td>\n",
       "      <td>1.945</td>\n",
       "      <td>67.159289</td>\n",
       "      <td>0.245772387</td>\n",
       "    </tr>\n",
       "    <tr>\n",
       "      <th>SSD</th>\n",
       "      <th>2013</th>\n",
       "      <td>6</td>\n",
       "      <td>4.219025</td>\n",
       "      <td>6</td>\n",
       "      <td>55.220902</td>\n",
       "      <td>5.320</td>\n",
       "      <td>2.662</td>\n",
       "      <td>53.860969</td>\n",
       "      <td>0.486394833</td>\n",
       "    </tr>\n",
       "    <tr>\n",
       "      <th>SVK</th>\n",
       "      <th>2013</th>\n",
       "      <td>1</td>\n",
       "      <td>0.107458</td>\n",
       "      <td>1</td>\n",
       "      <td>76.260976</td>\n",
       "      <td>0.000</td>\n",
       "      <td>1.576</td>\n",
       "      <td>71.825100</td>\n",
       "      <td>-0.261294018</td>\n",
       "    </tr>\n",
       "    <tr>\n",
       "      <th>SVN</th>\n",
       "      <th>2013</th>\n",
       "      <td>1</td>\n",
       "      <td>0.135726</td>\n",
       "      <td>1</td>\n",
       "      <td>80.278049</td>\n",
       "      <td>0.000</td>\n",
       "      <td>1.388</td>\n",
       "      <td>68.239831</td>\n",
       "      <td>-0.264761785</td>\n",
       "    </tr>\n",
       "    <tr>\n",
       "      <th>SWE</th>\n",
       "      <th>2013</th>\n",
       "      <td>1</td>\n",
       "      <td>0.847349</td>\n",
       "      <td>1</td>\n",
       "      <td>81.704878</td>\n",
       "      <td>1.713</td>\n",
       "      <td>1.378</td>\n",
       "      <td>63.923754</td>\n",
       "      <td>-0.265651547</td>\n",
       "    </tr>\n",
       "    <tr>\n",
       "      <th>SWZ</th>\n",
       "      <th>2013</th>\n",
       "      <td>5</td>\n",
       "      <td>1.526576</td>\n",
       "      <td>7</td>\n",
       "      <td>48.937927</td>\n",
       "      <td>0.000</td>\n",
       "      <td>2.047</td>\n",
       "      <td>58.655362</td>\n",
       "      <td>-0.259225106</td>\n",
       "    </tr>\n",
       "    <tr>\n",
       "      <th>SYR</th>\n",
       "      <th>2013</th>\n",
       "      <td>7</td>\n",
       "      <td>1.676526</td>\n",
       "      <td>7</td>\n",
       "      <td>74.715780</td>\n",
       "      <td>7.750</td>\n",
       "      <td>3.313</td>\n",
       "      <td>59.602865</td>\n",
       "      <td>8.260420164</td>\n",
       "    </tr>\n",
       "    <tr>\n",
       "      <th>TCD</th>\n",
       "      <th>2013</th>\n",
       "      <td>6</td>\n",
       "      <td>3.328243</td>\n",
       "      <td>7</td>\n",
       "      <td>51.191488</td>\n",
       "      <td>0.205</td>\n",
       "      <td>2.418</td>\n",
       "      <td>49.297585</td>\n",
       "      <td>0.012720764</td>\n",
       "    </tr>\n",
       "    <tr>\n",
       "      <th>TGO</th>\n",
       "      <th>2013</th>\n",
       "      <td>4</td>\n",
       "      <td>2.678732</td>\n",
       "      <td>4</td>\n",
       "      <td>59.132366</td>\n",
       "      <td>0.000</td>\n",
       "      <td>1.930</td>\n",
       "      <td>54.672299</td>\n",
       "      <td>-0.153388331</td>\n",
       "    </tr>\n",
       "    <tr>\n",
       "      <th>THA</th>\n",
       "      <th>2013</th>\n",
       "      <td>4</td>\n",
       "      <td>0.426834</td>\n",
       "      <td>4</td>\n",
       "      <td>74.246927</td>\n",
       "      <td>7.183</td>\n",
       "      <td>2.309</td>\n",
       "      <td>72.021878</td>\n",
       "      <td>-0.265537108</td>\n",
       "    </tr>\n",
       "    <tr>\n",
       "      <th>TJK</th>\n",
       "      <th>2013</th>\n",
       "      <td>6</td>\n",
       "      <td>2.256120</td>\n",
       "      <td>6</td>\n",
       "      <td>69.400171</td>\n",
       "      <td>2.113</td>\n",
       "      <td>2.234</td>\n",
       "      <td>61.827731</td>\n",
       "      <td>-0.259651859</td>\n",
       "    </tr>\n",
       "    <tr>\n",
       "      <th>TKM</th>\n",
       "      <th>2013</th>\n",
       "      <td>7</td>\n",
       "      <td>1.289691</td>\n",
       "      <td>7</td>\n",
       "      <td>65.456561</td>\n",
       "      <td>0.000</td>\n",
       "      <td>2.138</td>\n",
       "      <td>67.431520</td>\n",
       "      <td>-0.258359024</td>\n",
       "    </tr>\n",
       "    <tr>\n",
       "      <th>TTO</th>\n",
       "      <th>2013</th>\n",
       "      <td>2</td>\n",
       "      <td>0.495276</td>\n",
       "      <td>2</td>\n",
       "      <td>70.305293</td>\n",
       "      <td>2.229</td>\n",
       "      <td>2.059</td>\n",
       "      <td>70.310924</td>\n",
       "      <td>-0.247027826</td>\n",
       "    </tr>\n",
       "    <tr>\n",
       "      <th>TUN</th>\n",
       "      <th>2013</th>\n",
       "      <td>3</td>\n",
       "      <td>1.006286</td>\n",
       "      <td>3</td>\n",
       "      <td>73.646341</td>\n",
       "      <td>3.552</td>\n",
       "      <td>2.007</td>\n",
       "      <td>69.324576</td>\n",
       "      <td>-0.256306305</td>\n",
       "    </tr>\n",
       "    <tr>\n",
       "      <th>TUR</th>\n",
       "      <th>2013</th>\n",
       "      <td>4</td>\n",
       "      <td>1.221865</td>\n",
       "      <td>3</td>\n",
       "      <td>75.175951</td>\n",
       "      <td>5.881</td>\n",
       "      <td>2.377</td>\n",
       "      <td>66.547464</td>\n",
       "      <td>-0.198951848</td>\n",
       "    </tr>\n",
       "    <tr>\n",
       "      <th>TZA</th>\n",
       "      <th>2013</th>\n",
       "      <td>3</td>\n",
       "      <td>3.171946</td>\n",
       "      <td>3</td>\n",
       "      <td>64.291829</td>\n",
       "      <td>3.623</td>\n",
       "      <td>1.891</td>\n",
       "      <td>51.593675</td>\n",
       "      <td>-0.264225973</td>\n",
       "    </tr>\n",
       "    <tr>\n",
       "      <th>UGA</th>\n",
       "      <th>2013</th>\n",
       "      <td>4</td>\n",
       "      <td>3.259151</td>\n",
       "      <td>6</td>\n",
       "      <td>57.767683</td>\n",
       "      <td>2.761</td>\n",
       "      <td>2.214</td>\n",
       "      <td>48.960051</td>\n",
       "      <td>-0.248957305</td>\n",
       "    </tr>\n",
       "    <tr>\n",
       "      <th>UKR</th>\n",
       "      <th>2013</th>\n",
       "      <td>3</td>\n",
       "      <td>-0.227705</td>\n",
       "      <td>4</td>\n",
       "      <td>71.159512</td>\n",
       "      <td>3.141</td>\n",
       "      <td>2.210</td>\n",
       "      <td>70.228015</td>\n",
       "      <td>-0.257227506</td>\n",
       "    </tr>\n",
       "    <tr>\n",
       "      <th>URY</th>\n",
       "      <th>2013</th>\n",
       "      <td>1</td>\n",
       "      <td>0.329654</td>\n",
       "      <td>1</td>\n",
       "      <td>76.836195</td>\n",
       "      <td>0.000</td>\n",
       "      <td>1.560</td>\n",
       "      <td>63.943422</td>\n",
       "      <td>-0.262560427</td>\n",
       "    </tr>\n",
       "    <tr>\n",
       "      <th>USA</th>\n",
       "      <th>2013</th>\n",
       "      <td>1</td>\n",
       "      <td>0.756558</td>\n",
       "      <td>1</td>\n",
       "      <td>78.841463</td>\n",
       "      <td>4.668</td>\n",
       "      <td>2.095</td>\n",
       "      <td>66.813099</td>\n",
       "      <td>-0.264652634</td>\n",
       "    </tr>\n",
       "    <tr>\n",
       "      <th>UZB</th>\n",
       "      <th>2013</th>\n",
       "      <td>7</td>\n",
       "      <td>1.561904</td>\n",
       "      <td>7</td>\n",
       "      <td>68.227585</td>\n",
       "      <td>0.286</td>\n",
       "      <td>2.256</td>\n",
       "      <td>66.800420</td>\n",
       "      <td>-0.253428685</td>\n",
       "    </tr>\n",
       "    <tr>\n",
       "      <th>VEN</th>\n",
       "      <th>2013</th>\n",
       "      <td>5</td>\n",
       "      <td>1.403000</td>\n",
       "      <td>5</td>\n",
       "      <td>74.074415</td>\n",
       "      <td>0.625</td>\n",
       "      <td>2.359</td>\n",
       "      <td>65.344512</td>\n",
       "      <td>-0.244915286</td>\n",
       "    </tr>\n",
       "    <tr>\n",
       "      <th>VNM</th>\n",
       "      <th>2013</th>\n",
       "      <td>5</td>\n",
       "      <td>1.048856</td>\n",
       "      <td>7</td>\n",
       "      <td>75.756488</td>\n",
       "      <td>0.000</td>\n",
       "      <td>1.781</td>\n",
       "      <td>70.313449</td>\n",
       "      <td>-0.002254512</td>\n",
       "    </tr>\n",
       "    <tr>\n",
       "      <th>YEM</th>\n",
       "      <th>2013</th>\n",
       "      <td>6</td>\n",
       "      <td>2.580375</td>\n",
       "      <td>6</td>\n",
       "      <td>63.583512</td>\n",
       "      <td>7.156</td>\n",
       "      <td>2.657</td>\n",
       "      <td>56.263737</td>\n",
       "      <td>-0.258627767</td>\n",
       "    </tr>\n",
       "    <tr>\n",
       "      <th>ZAF</th>\n",
       "      <th>2013</th>\n",
       "      <td>2</td>\n",
       "      <td>1.546574</td>\n",
       "      <td>2</td>\n",
       "      <td>56.736585</td>\n",
       "      <td>3.524</td>\n",
       "      <td>2.302</td>\n",
       "      <td>65.049747</td>\n",
       "      <td>-0.265185906</td>\n",
       "    </tr>\n",
       "    <tr>\n",
       "      <th>ZMB</th>\n",
       "      <th>2013</th>\n",
       "      <td>4</td>\n",
       "      <td>3.060273</td>\n",
       "      <td>3</td>\n",
       "      <td>59.237366</td>\n",
       "      <td>0.000</td>\n",
       "      <td>1.806</td>\n",
       "      <td>50.815252</td>\n",
       "      <td>-0.264639519</td>\n",
       "    </tr>\n",
       "    <tr>\n",
       "      <th>ZWE</th>\n",
       "      <th>2013</th>\n",
       "      <td>6</td>\n",
       "      <td>2.257867</td>\n",
       "      <td>5</td>\n",
       "      <td>55.633000</td>\n",
       "      <td>1.569</td>\n",
       "      <td>2.586</td>\n",
       "      <td>55.401719</td>\n",
       "      <td>-0.166357038</td>\n",
       "    </tr>\n",
       "  </tbody>\n",
       "</table>\n",
       "<p>942 rows × 8 columns</p>\n",
       "</div>"
      ],
      "text/plain": [
       "                  civil_liberties  population_growth  political_rights  \\\n",
       "countrycode year                                                         \n",
       "AFG         2008                6           2.485315                 5   \n",
       "AGO         2008                5           3.374180                 6   \n",
       "ALB         2008                3          -0.767343                 3   \n",
       "ARE         2008                5          13.810060                 6   \n",
       "ARG         2008                2           1.025393                 2   \n",
       "ARM         2008                4          -0.438964                 6   \n",
       "AUS         2008                1           2.004022                 1   \n",
       "AUT         2008                1           0.313041                 1   \n",
       "AZE         2008                5           2.099854                 6   \n",
       "BDI         2008                5           3.544561                 4   \n",
       "BEL         2008                1           0.789977                 1   \n",
       "BEN         2008                2           3.007812                 2   \n",
       "BFA         2008                3           3.072128                 5   \n",
       "BGD         2008                4           1.125881                 4   \n",
       "BGR         2008                2          -0.701923                 2   \n",
       "BHR         2008                5           8.332982                 5   \n",
       "BIH         2008                3          -0.017421                 4   \n",
       "BLR         2008                6          -0.335290                 7   \n",
       "BOL         2008                3           1.664139                 3   \n",
       "BRA         2008                2           1.024472                 2   \n",
       "BTN         2008                5           1.964376                 4   \n",
       "BWA         2008                2           1.920641                 2   \n",
       "CAF         2008                5           1.846228                 5   \n",
       "CAN         2008                1           1.082197                 1   \n",
       "CHE         2008                1           1.270618                 1   \n",
       "CHL         2008                1           1.106907                 1   \n",
       "CHN         2008                6           0.512387                 7   \n",
       "CIV         2008                5           2.095748                 6   \n",
       "CMR         2008                6           2.547806                 6   \n",
       "COG         2008                5           3.103037                 6   \n",
       "...                           ...                ...               ...   \n",
       "SLE         2013                3           2.220707                 3   \n",
       "SLV         2013                3           0.286321                 2   \n",
       "SOM         2013                7           2.310510                 7   \n",
       "SRB         2013                2          -0.486591                 2   \n",
       "SSD         2013                6           4.219025                 6   \n",
       "SVK         2013                1           0.107458                 1   \n",
       "SVN         2013                1           0.135726                 1   \n",
       "SWE         2013                1           0.847349                 1   \n",
       "SWZ         2013                5           1.526576                 7   \n",
       "SYR         2013                7           1.676526                 7   \n",
       "TCD         2013                6           3.328243                 7   \n",
       "TGO         2013                4           2.678732                 4   \n",
       "THA         2013                4           0.426834                 4   \n",
       "TJK         2013                6           2.256120                 6   \n",
       "TKM         2013                7           1.289691                 7   \n",
       "TTO         2013                2           0.495276                 2   \n",
       "TUN         2013                3           1.006286                 3   \n",
       "TUR         2013                4           1.221865                 3   \n",
       "TZA         2013                3           3.171946                 3   \n",
       "UGA         2013                4           3.259151                 6   \n",
       "UKR         2013                3          -0.227705                 4   \n",
       "URY         2013                1           0.329654                 1   \n",
       "USA         2013                1           0.756558                 1   \n",
       "UZB         2013                7           1.561904                 7   \n",
       "VEN         2013                5           1.403000                 5   \n",
       "VNM         2013                5           1.048856                 7   \n",
       "YEM         2013                6           2.580375                 6   \n",
       "ZAF         2013                2           1.546574                 2   \n",
       "ZMB         2013                4           3.060273                 3   \n",
       "ZWE         2013                6           2.257867                 5   \n",
       "\n",
       "                  life_expectancy  terror  peace  population_15_64  \\\n",
       "countrycode year                                                     \n",
       "AFG         2008        58.225024   8.011  2.983         49.946087   \n",
       "AGO         2008        49.847390   0.000  2.132         49.356104   \n",
       "ALB         2008        76.632317   0.000  1.911         66.816430   \n",
       "ARE         2008        76.307756   0.000  1.584         84.600650   \n",
       "ARG         2008        75.166268   0.363  1.791         63.456290   \n",
       "ARM         2008        73.945000   0.549  2.309         68.109386   \n",
       "AUS         2008        81.395122   2.150  1.428         67.607537   \n",
       "AUT         2008        80.431707   3.017  1.278         67.666395   \n",
       "AZE         2008        70.062927   2.928  2.236         70.166088   \n",
       "BDI         2008        53.891024   4.351  2.490         53.004372   \n",
       "BEL         2008        79.680488   0.549  1.374         66.033070   \n",
       "BEN         2008        58.204512   0.229  2.221         53.171736   \n",
       "BFA         2008        55.902293   0.000  1.915         51.002063   \n",
       "BGD         2008        69.277854   4.509  2.118         62.375354   \n",
       "BGR         2008        72.963415   1.446  1.714         68.733302   \n",
       "BHR         2008        75.847512   0.877  1.800         76.171852   \n",
       "BIH         2008        75.511976   3.001  1.919         71.634188   \n",
       "BLR         2008        70.456098   2.455  2.090         70.772133   \n",
       "BOL         2008        65.273805   1.073  1.966         58.763660   \n",
       "BRA         2008        72.695415   1.365  2.109         67.420215   \n",
       "BTN         2008        66.885024   2.761  1.468         64.074447   \n",
       "BWA         2008        60.958585   0.000  1.662         62.738164   \n",
       "CAF         2008        46.284000   1.929  2.763         54.948492   \n",
       "CAN         2008        80.543220   2.529  1.291         69.495810   \n",
       "CHE         2008        81.992683   0.713  1.268         68.117065   \n",
       "CHL         2008        79.640902   3.200  1.489         68.101357   \n",
       "CHN         2008        74.579829   4.160  2.052         73.917570   \n",
       "CIV         2008        49.279780   2.749  2.299         53.126189   \n",
       "CMR         2008        52.855829   2.094  2.095         52.891808   \n",
       "COG         2008        56.965073   0.000  2.154         54.308202   \n",
       "...                           ...     ...    ...               ...   \n",
       "SLE         2013        50.363122   0.000  1.898         54.394784   \n",
       "SLV         2013        72.498146   0.000  2.234         63.885015   \n",
       "SOM         2013        55.023024   7.120  3.404         50.001456   \n",
       "SRB         2013        75.136585   1.154  1.945         67.159289   \n",
       "SSD         2013        55.220902   5.320  2.662         53.860969   \n",
       "SVK         2013        76.260976   0.000  1.576         71.825100   \n",
       "SVN         2013        80.278049   0.000  1.388         68.239831   \n",
       "SWE         2013        81.704878   1.713  1.378         63.923754   \n",
       "SWZ         2013        48.937927   0.000  2.047         58.655362   \n",
       "SYR         2013        74.715780   7.750  3.313         59.602865   \n",
       "TCD         2013        51.191488   0.205  2.418         49.297585   \n",
       "TGO         2013        59.132366   0.000  1.930         54.672299   \n",
       "THA         2013        74.246927   7.183  2.309         72.021878   \n",
       "TJK         2013        69.400171   2.113  2.234         61.827731   \n",
       "TKM         2013        65.456561   0.000  2.138         67.431520   \n",
       "TTO         2013        70.305293   2.229  2.059         70.310924   \n",
       "TUN         2013        73.646341   3.552  2.007         69.324576   \n",
       "TUR         2013        75.175951   5.881  2.377         66.547464   \n",
       "TZA         2013        64.291829   3.623  1.891         51.593675   \n",
       "UGA         2013        57.767683   2.761  2.214         48.960051   \n",
       "UKR         2013        71.159512   3.141  2.210         70.228015   \n",
       "URY         2013        76.836195   0.000  1.560         63.943422   \n",
       "USA         2013        78.841463   4.668  2.095         66.813099   \n",
       "UZB         2013        68.227585   0.286  2.256         66.800420   \n",
       "VEN         2013        74.074415   0.625  2.359         65.344512   \n",
       "VNM         2013        75.756488   0.000  1.781         70.313449   \n",
       "YEM         2013        63.583512   7.156  2.657         56.263737   \n",
       "ZAF         2013        56.736585   3.524  2.302         65.049747   \n",
       "ZMB         2013        59.237366   0.000  1.806         50.815252   \n",
       "ZWE         2013        55.633000   1.569  2.586         55.401719   \n",
       "\n",
       "                       zscores  \n",
       "countrycode year                \n",
       "AFG         2008   6.546331355  \n",
       "AGO         2008   0.281696206  \n",
       "ALB         2008   0.055357722  \n",
       "ARE         2008  -0.267222176  \n",
       "ARG         2008   -0.26793528  \n",
       "ARM         2008   0.080862762  \n",
       "AUS         2008  -0.269460889  \n",
       "AUT         2008  -0.269482667  \n",
       "AZE         2008  -0.150740934  \n",
       "BDI         2008   1.767632007  \n",
       "BEL         2008  -0.269226531  \n",
       "BEN         2008   -0.26732832  \n",
       "BFA         2008  -0.266444252  \n",
       "BGD         2008  -0.265242853  \n",
       "BGR         2008  -0.243694898  \n",
       "BHR         2008  -0.265014024  \n",
       "BIH         2008   0.966490026  \n",
       "BLR         2008  -0.233525674  \n",
       "BOL         2008  -0.266571734  \n",
       "BRA         2008  -0.269129974  \n",
       "BTN         2008   9.369609512  \n",
       "BWA         2008  -0.268746798  \n",
       "CAF         2008   1.595794154  \n",
       "CAN         2008  -0.269396149  \n",
       "CHE         2008  -0.269322989  \n",
       "CHL         2008  -0.265778917  \n",
       "CHN         2008  -0.261149763  \n",
       "CIV         2008  -0.195941789  \n",
       "CMR         2008  -0.224357459  \n",
       "COG         2008   0.062197806  \n",
       "...                        ...  \n",
       "SLE         2013  -0.200981899  \n",
       "SLV         2013  -0.146664387  \n",
       "SOM         2013   7.956455921  \n",
       "SRB         2013   0.245772387  \n",
       "SSD         2013   0.486394833  \n",
       "SVK         2013  -0.261294018  \n",
       "SVN         2013  -0.264761785  \n",
       "SWE         2013  -0.265651547  \n",
       "SWZ         2013  -0.259225106  \n",
       "SYR         2013   8.260420164  \n",
       "TCD         2013   0.012720764  \n",
       "TGO         2013  -0.153388331  \n",
       "THA         2013  -0.265537108  \n",
       "TJK         2013  -0.259651859  \n",
       "TKM         2013  -0.258359024  \n",
       "TTO         2013  -0.247027826  \n",
       "TUN         2013  -0.256306305  \n",
       "TUR         2013  -0.198951848  \n",
       "TZA         2013  -0.264225973  \n",
       "UGA         2013  -0.248957305  \n",
       "UKR         2013  -0.257227506  \n",
       "URY         2013  -0.262560427  \n",
       "USA         2013  -0.264652634  \n",
       "UZB         2013  -0.253428685  \n",
       "VEN         2013  -0.244915286  \n",
       "VNM         2013  -0.002254512  \n",
       "YEM         2013  -0.258627767  \n",
       "ZAF         2013  -0.265185906  \n",
       "ZMB         2013  -0.264639519  \n",
       "ZWE         2013  -0.166357038  \n",
       "\n",
       "[942 rows x 8 columns]"
      ]
     },
     "execution_count": 24,
     "metadata": {},
     "output_type": "execute_result"
    }
   ],
   "source": [
    "full_data"
   ]
  },
  {
   "cell_type": "code",
   "execution_count": 25,
   "metadata": {
    "collapsed": false,
    "scrolled": false
   },
   "outputs": [],
   "source": [
    "full_data['zscores'] = full_data['zscores'].astype(float)\n",
    "\n",
    "full_data.loc[full_data['zscores'] > 0, 'zscores'] = 1\n",
    "full_data.loc[full_data['zscores'] <= 0, 'zscores'] = 0\n",
    "\n",
    "try:\n",
    "    full_data.loc[full_data['freedom_status'] == 'F', 'freedom_status'] = -1\n",
    "    full_data.loc[full_data['freedom_status'] == 'PF', 'freedom_status'] = 0\n",
    "    full_data.loc[full_data['freedom_status'] == 'NF', 'freedom_status'] = 1\n",
    "except:\n",
    "    pass\n"
   ]
  },
  {
   "cell_type": "code",
   "execution_count": 26,
   "metadata": {
    "collapsed": false
   },
   "outputs": [
    {
     "data": {
      "text/html": [
       "<div>\n",
       "<table border=\"1\" class=\"dataframe\">\n",
       "  <thead>\n",
       "    <tr style=\"text-align: right;\">\n",
       "      <th></th>\n",
       "      <th></th>\n",
       "      <th>civil_liberties</th>\n",
       "      <th>population_growth</th>\n",
       "      <th>political_rights</th>\n",
       "      <th>life_expectancy</th>\n",
       "      <th>terror</th>\n",
       "      <th>peace</th>\n",
       "      <th>population_15_64</th>\n",
       "      <th>zscores</th>\n",
       "    </tr>\n",
       "    <tr>\n",
       "      <th>countrycode</th>\n",
       "      <th>year</th>\n",
       "      <th></th>\n",
       "      <th></th>\n",
       "      <th></th>\n",
       "      <th></th>\n",
       "      <th></th>\n",
       "      <th></th>\n",
       "      <th></th>\n",
       "      <th></th>\n",
       "    </tr>\n",
       "  </thead>\n",
       "  <tbody>\n",
       "    <tr>\n",
       "      <th rowspan=\"3\" valign=\"top\">SSD</th>\n",
       "      <th>2008</th>\n",
       "      <td>NaN</td>\n",
       "      <td>4.362664</td>\n",
       "      <td>NaN</td>\n",
       "      <td>52.593317</td>\n",
       "      <td>0.000</td>\n",
       "      <td>2.621</td>\n",
       "      <td>52.863172</td>\n",
       "      <td>NaN</td>\n",
       "    </tr>\n",
       "    <tr>\n",
       "      <th>2009</th>\n",
       "      <td>NaN</td>\n",
       "      <td>4.403674</td>\n",
       "      <td>NaN</td>\n",
       "      <td>53.122659</td>\n",
       "      <td>0.000</td>\n",
       "      <td>2.621</td>\n",
       "      <td>53.048921</td>\n",
       "      <td>NaN</td>\n",
       "    </tr>\n",
       "    <tr>\n",
       "      <th>2010</th>\n",
       "      <td>NaN</td>\n",
       "      <td>4.404235</td>\n",
       "      <td>NaN</td>\n",
       "      <td>53.664902</td>\n",
       "      <td>0.000</td>\n",
       "      <td>2.621</td>\n",
       "      <td>53.276511</td>\n",
       "      <td>NaN</td>\n",
       "    </tr>\n",
       "    <tr>\n",
       "      <th>HRV</th>\n",
       "      <th>2011</th>\n",
       "      <td>2</td>\n",
       "      <td>NaN</td>\n",
       "      <td>1</td>\n",
       "      <td>76.775610</td>\n",
       "      <td>0.305</td>\n",
       "      <td>1.629</td>\n",
       "      <td>66.783153</td>\n",
       "      <td>1</td>\n",
       "    </tr>\n",
       "    <tr>\n",
       "      <th>LKA</th>\n",
       "      <th>2012</th>\n",
       "      <td>4</td>\n",
       "      <td>NaN</td>\n",
       "      <td>5</td>\n",
       "      <td>74.068049</td>\n",
       "      <td>4.651</td>\n",
       "      <td>2.192</td>\n",
       "      <td>66.774724</td>\n",
       "      <td>1</td>\n",
       "    </tr>\n",
       "  </tbody>\n",
       "</table>\n",
       "</div>"
      ],
      "text/plain": [
       "                  civil_liberties  population_growth  political_rights  \\\n",
       "countrycode year                                                         \n",
       "SSD         2008              NaN           4.362664               NaN   \n",
       "            2009              NaN           4.403674               NaN   \n",
       "            2010              NaN           4.404235               NaN   \n",
       "HRV         2011                2                NaN                 1   \n",
       "LKA         2012                4                NaN                 5   \n",
       "\n",
       "                  life_expectancy  terror  peace  population_15_64  zscores  \n",
       "countrycode year                                                             \n",
       "SSD         2008        52.593317   0.000  2.621         52.863172      NaN  \n",
       "            2009        53.122659   0.000  2.621         53.048921      NaN  \n",
       "            2010        53.664902   0.000  2.621         53.276511      NaN  \n",
       "HRV         2011        76.775610   0.305  1.629         66.783153        1  \n",
       "LKA         2012        74.068049   4.651  2.192         66.774724        1  "
      ]
     },
     "execution_count": 26,
     "metadata": {},
     "output_type": "execute_result"
    }
   ],
   "source": [
    "#The rows to be dropped\n",
    "full_data[full_data.isnull().any(axis=1)]"
   ]
  },
  {
   "cell_type": "code",
   "execution_count": 27,
   "metadata": {
    "collapsed": true
   },
   "outputs": [],
   "source": [
    "full_data = full_data.dropna()"
   ]
  },
  {
   "cell_type": "code",
   "execution_count": 28,
   "metadata": {
    "collapsed": false
   },
   "outputs": [
    {
     "name": "stderr",
     "output_type": "stream",
     "text": [
      "/Users/kenn/anaconda/lib/python3.5/site-packages/ipykernel/__main__.py:3: SettingWithCopyWarning: \n",
      "A value is trying to be set on a copy of a slice from a DataFrame.\n",
      "Try using .loc[row_indexer,col_indexer] = value instead\n",
      "\n",
      "See the caveats in the documentation: http://pandas.pydata.org/pandas-docs/stable/indexing.html#indexing-view-versus-copy\n",
      "  app.launch_new_instance()\n"
     ]
    }
   ],
   "source": [
    "#Get Z scores of rows\n",
    "for col in x_cols:\n",
    "   full_data[col] = (full_data[col] - full_data[col].mean())/full_data[col].std(ddof=0)\n"
   ]
  },
  {
   "cell_type": "code",
   "execution_count": 29,
   "metadata": {
    "collapsed": false
   },
   "outputs": [],
   "source": [
    "def getScoreValues(X_train, \n",
    "                   X_test, \n",
    "                   y_train, \n",
    "                   y_test, \n",
    "                   model=KNeighborsClassifier(n_neighbors=6), \n",
    "                   verbose=True, \n",
    "                   get_features=True\n",
    "                  ):\n",
    "    model = model\n",
    "    model.fit(X_train, y_train)\n",
    "    y_pred = model.predict(X_test)\n",
    "    \n",
    "    \n",
    "    \n",
    "    accuracy_score_value = accuracy_score(y_test, y_pred)\n",
    "    precision_score_value = precision_score(y_test, y_pred)\n",
    "    recall_score_value = recall_score(y_test, y_pred)\n",
    "    f1_score_value = f1_score(y_test, y_pred)  \n",
    "    \n",
    "    feature_importances = None\n",
    "    if get_features:\n",
    "        try:\n",
    "            feature_importances = model.feature_importances_\n",
    "            #print(feature_importances)\n",
    "        except AttributeError:\n",
    "            pass\n",
    "    \n",
    "    if verbose:\n",
    "        #print(pd.concat([y_test,pd.Series(y_pred, index=y_test.index)], axis = 1))\n",
    "        print('Accuracy: {}\\nPrecision: {}\\nRecall: {}\\nf1: {}'.format(accuracy_score_value, \\\n",
    "                                                                       precision_score_value, \\\n",
    "                                                                       recall_score_value, \\\n",
    "                                                                       f1_score_value))\n",
    "    \n",
    "    return accuracy_score_value, precision_score_value, recall_score_value, f1_score_value, feature_importances"
   ]
  },
  {
   "cell_type": "code",
   "execution_count": 30,
   "metadata": {
    "collapsed": false
   },
   "outputs": [],
   "source": [
    "X = full_data[x_cols]\n",
    "y = full_data['zscores']\n",
    "\n",
    "\n",
    "X_train, X_test, y_train, y_test = train_test_split(X, y, test_size = .30, random_state=4444)"
   ]
  },
  {
   "cell_type": "code",
   "execution_count": 31,
   "metadata": {
    "collapsed": false
   },
   "outputs": [
    {
     "name": "stdout",
     "output_type": "stream",
     "text": [
      "Accuracy: 0.9184397163120568\n",
      "Precision: 0.7209302325581395\n",
      "Recall: 0.7380952380952381\n",
      "f1: 0.7294117647058824\n"
     ]
    },
    {
     "data": {
      "text/plain": [
       "(0.91843971631205679,\n",
       " 0.72093023255813948,\n",
       " 0.73809523809523814,\n",
       " 0.72941176470588243,\n",
       " array([ 0.10351041,  0.13926173,  0.09196117,  0.14330753,  0.02777738,\n",
       "         0.25708929,  0.23709249]))"
      ]
     },
     "execution_count": 31,
     "metadata": {},
     "output_type": "execute_result"
    }
   ],
   "source": [
    "getScoreValues(X_train, X_test, y_train, y_test, DecisionTreeClassifier())"
   ]
  },
  {
   "cell_type": "code",
   "execution_count": 32,
   "metadata": {
    "collapsed": false
   },
   "outputs": [
    {
     "name": "stdout",
     "output_type": "stream",
     "text": [
      "Accuracy: 0.8226950354609929\n",
      "Precision: 0.42592592592592593\n",
      "Recall: 0.5476190476190477\n",
      "f1: 0.4791666666666667\n"
     ]
    },
    {
     "data": {
      "text/plain": [
       "(0.82269503546099287,\n",
       " 0.42592592592592593,\n",
       " 0.54761904761904767,\n",
       " 0.47916666666666669,\n",
       " None)"
      ]
     },
     "execution_count": 32,
     "metadata": {},
     "output_type": "execute_result"
    }
   ],
   "source": [
    "getScoreValues(X_train, X_test, y_train, y_test, BernoulliNB())"
   ]
  },
  {
   "cell_type": "code",
   "execution_count": 33,
   "metadata": {
    "collapsed": false
   },
   "outputs": [
    {
     "name": "stdout",
     "output_type": "stream",
     "text": [
      "Accuracy: 0.8156028368794326\n",
      "Precision: 0.4166666666666667\n",
      "Recall: 0.5952380952380952\n",
      "f1: 0.4901960784313726\n"
     ]
    },
    {
     "data": {
      "text/plain": [
       "(0.81560283687943258,\n",
       " 0.41666666666666669,\n",
       " 0.59523809523809523,\n",
       " 0.49019607843137258,\n",
       " None)"
      ]
     },
     "execution_count": 33,
     "metadata": {},
     "output_type": "execute_result"
    }
   ],
   "source": [
    "getScoreValues(X_train, X_test, y_train, y_test, GaussianNB())"
   ]
  },
  {
   "cell_type": "code",
   "execution_count": 34,
   "metadata": {
    "collapsed": false
   },
   "outputs": [
    {
     "name": "stdout",
     "output_type": "stream",
     "text": [
      "Accuracy: 0.8900709219858156\n",
      "Precision: 0.9230769230769231\n",
      "Recall: 0.2857142857142857\n",
      "f1: 0.43636363636363634\n"
     ]
    },
    {
     "data": {
      "text/plain": [
       "(0.89007092198581561,\n",
       " 0.92307692307692313,\n",
       " 0.2857142857142857,\n",
       " 0.43636363636363634,\n",
       " None)"
      ]
     },
     "execution_count": 34,
     "metadata": {},
     "output_type": "execute_result"
    }
   ],
   "source": [
    "getScoreValues(X_train, X_test, y_train, y_test, model=SVC())"
   ]
  },
  {
   "cell_type": "code",
   "execution_count": 35,
   "metadata": {
    "collapsed": false
   },
   "outputs": [
    {
     "name": "stdout",
     "output_type": "stream",
     "text": [
      "Accuracy: 0.9361702127659575\n",
      "Precision: 0.8529411764705882\n",
      "Recall: 0.6904761904761905\n",
      "f1: 0.7631578947368423\n"
     ]
    },
    {
     "data": {
      "text/plain": [
       "(0.93617021276595747,\n",
       " 0.8529411764705882,\n",
       " 0.69047619047619047,\n",
       " 0.76315789473684226,\n",
       " array([ 0.09897246,  0.15304041,  0.07238716,  0.18402554,  0.12436145,\n",
       "         0.19398971,  0.17322327]))"
      ]
     },
     "execution_count": 35,
     "metadata": {},
     "output_type": "execute_result"
    }
   ],
   "source": [
    "getScoreValues(X_train, X_test, y_train, y_test, model=RandomForestClassifier())"
   ]
  },
  {
   "cell_type": "code",
   "execution_count": 36,
   "metadata": {
    "collapsed": true
   },
   "outputs": [],
   "source": [
    "def getROCcurve(X_train, X_test, y_train, y_test, model=KNeighborsClassifier(n_neighbors=6)):\n",
    "    model = model\n",
    "    model.fit(X_train, y_train)\n",
    "    y_scores = model.predict_proba(X_test)[:,1]\n",
    "    fpr, tpr, thresholds = roc_curve(y_test, y_scores)\n",
    "\n",
    "    auc = roc_auc_score(y_test, y_scores)\n",
    "    print('AUC: {}'.format(auc))\n",
    "    \n",
    "    fig,ax = plt.subplots()\n",
    "    ax.plot(fpr, tpr, label='ROC Curve')\n",
    "\n",
    "    fig.set_size_inches(12, 8, forward=True)\n",
    "    plt.xlabel('FPR')\n",
    "    plt.ylabel('TPR')\n",
    "    plt.title('ROC Curve')\n",
    "    plt.legend(loc='best')"
   ]
  },
  {
   "cell_type": "code",
   "execution_count": 37,
   "metadata": {
    "collapsed": false,
    "scrolled": false
   },
   "outputs": [
    {
     "name": "stdout",
     "output_type": "stream",
     "text": [
      "AUC: 0.9637896825396826\n"
     ]
    },
    {
     "data": {
      "image/png": "[encoded data removed]",
      "text/plain": [
       "<matplotlib.figure.Figure at 0x10ceaf240>"
      ]
     },
     "metadata": {},
     "output_type": "display_data"
    }
   ],
   "source": [
    "getROCcurve(X_train, X_test, y_train, y_test, model=RandomForestClassifier())"
   ]
  },
  {
   "cell_type": "code",
   "execution_count": 38,
   "metadata": {
    "collapsed": true
   },
   "outputs": [],
   "source": [
    "def getScoreValuesByCV(X, y, model=KNeighborsClassifier(n_neighbors=5)):\n",
    "    \n",
    "    accuracy_score_value = np.mean(cross_val_score(model, X, y, scoring='accuracy', cv=5))\n",
    "    precision_score_value = np.mean(cross_val_score(model, X, y, scoring='precision', cv=5))\n",
    "    recall_score_value = np.mean(cross_val_score(model, X, y, scoring='recall', cv=5))\n",
    "    f1_score_value = np.mean(cross_val_score(model, X, y, scoring='f1', cv=5))\n",
    "    roc_auc_value = np.mean(cross_val_score(model, X, y, scoring='roc_auc', cv=5))\n",
    "    #roc_auc_value = 0  \n",
    "        \n",
    "    print('Accuracy: {}\\nPrecision: {}\\nRecall: {}\\nf1: {}\\nROC AUC: {}'.format(accuracy_score_value, \\\n",
    "                                                                   precision_score_value, \\\n",
    "                                                                   recall_score_value, \\\n",
    "                                                                   f1_score_value,\n",
    "                                                                   roc_auc_value))"
   ]
  },
  {
   "cell_type": "code",
   "execution_count": 39,
   "metadata": {
    "collapsed": false,
    "scrolled": false
   },
   "outputs": [
    {
     "name": "stdout",
     "output_type": "stream",
     "text": [
      "Accuracy: 0.9380816930253726\n",
      "Precision: 0.8198473748473749\n",
      "Recall: 0.7889655172413793\n",
      "f1: 0.8029019269485188\n",
      "ROC AUC: 0.9706947475629274\n"
     ]
    }
   ],
   "source": [
    "getScoreValuesByCV(X,y)"
   ]
  },
  {
   "cell_type": "code",
   "execution_count": 40,
   "metadata": {
    "collapsed": false,
    "scrolled": false
   },
   "outputs": [
    {
     "name": "stdout",
     "output_type": "stream",
     "text": [
      "Accuracy: 0.9253043577198771\n",
      "Precision: 0.9174906964380648\n",
      "Recall: 0.6266666666666667\n",
      "f1: 0.7273309323729491\n",
      "ROC AUC: 0.9659093554488578\n"
     ]
    }
   ],
   "source": [
    "getScoreValuesByCV(X,y, model=RandomForestClassifier())"
   ]
  },
  {
   "cell_type": "code",
   "execution_count": 41,
   "metadata": {
    "collapsed": false
   },
   "outputs": [
    {
     "name": "stdout",
     "output_type": "stream",
     "text": [
      "Accuracy: 0.8046933667083854\n",
      "Precision: 0.40848418185627483\n",
      "Recall: 0.5443678160919541\n",
      "f1: 0.4662008558893699\n",
      "ROC AUC: 0.7485232067510548\n"
     ]
    }
   ],
   "source": [
    "getScoreValuesByCV(X,y, model=GaussianNB())"
   ]
  },
  {
   "cell_type": "code",
   "execution_count": 42,
   "metadata": {
    "collapsed": false,
    "scrolled": false
   },
   "outputs": [
    {
     "name": "stdout",
     "output_type": "stream",
     "text": [
      "Accuracy: 0.9274377062236887\n",
      "Precision: 0.779621682665161\n",
      "Recall: 0.7420689655172413\n",
      "f1: 0.7685776874628184\n",
      "ROC AUC: 0.8664120471409864\n"
     ]
    }
   ],
   "source": [
    "getScoreValuesByCV(X,y, model=DecisionTreeClassifier())"
   ]
  },
  {
   "cell_type": "code",
   "execution_count": 43,
   "metadata": {
    "collapsed": false,
    "scrolled": false
   },
   "outputs": [
    {
     "name": "stdout",
     "output_type": "stream",
     "text": [
      "Accuracy: 0.8687336443281375\n",
      "Precision: 0.8408730158730158\n",
      "Recall: 0.20436781609195404\n",
      "f1: 0.32715346925873245\n",
      "ROC AUC: 0.7603302778990251\n"
     ]
    }
   ],
   "source": [
    "getScoreValuesByCV(X,y, model=LogisticRegression())"
   ]
  },
  {
   "cell_type": "markdown",
   "metadata": {},
   "source": [
    "## Over sampling"
   ]
  },
  {
   "cell_type": "code",
   "execution_count": 44,
   "metadata": {
    "collapsed": false
   },
   "outputs": [],
   "source": [
    "X = full_data[x_cols]\n",
    "y = full_data['zscores']\n",
    "\n",
    "X_train, X_test, y_train, y_test = train_test_split(X, y, test_size = .30, random_state=4444)"
   ]
  },
  {
   "cell_type": "code",
   "execution_count": 45,
   "metadata": {
    "collapsed": false
   },
   "outputs": [],
   "source": [
    "verbose = False\n",
    "ratio = float(y.value_counts()[0]) / float(y.value_counts()[1])\n",
    "X_train = X_train.reset_index(drop=True).as_matrix()\n",
    "y_train = y_train.reset_index(drop=True).as_matrix()\n",
    "\n",
    "smote = SMOTE(ratio=ratio, verbose=verbose)\n",
    "smox, smoy = smote.fit_transform(X_train, y_train)"
   ]
  },
  {
   "cell_type": "code",
   "execution_count": 46,
   "metadata": {
    "collapsed": false
   },
   "outputs": [],
   "source": [
    "#smox"
   ]
  },
  {
   "cell_type": "code",
   "execution_count": 47,
   "metadata": {
    "collapsed": true
   },
   "outputs": [],
   "source": [
    "X_train = pd.DataFrame(smox, columns=x_cols)\n",
    "y_train = pd.Series(smoy)"
   ]
  },
  {
   "cell_type": "code",
   "execution_count": 48,
   "metadata": {
    "collapsed": false
   },
   "outputs": [
    {
     "name": "stdout",
     "output_type": "stream",
     "text": [
      "Accuracy: 0.950354609929078\n",
      "Precision: 0.8333333333333334\n",
      "Recall: 0.8333333333333334\n",
      "f1: 0.8333333333333334\n"
     ]
    },
    {
     "data": {
      "text/plain": [
       "(0.95035460992907805,\n",
       " 0.83333333333333337,\n",
       " 0.83333333333333337,\n",
       " 0.83333333333333337,\n",
       " array([ 0.0826268 ,  0.16140413,  0.18566838,  0.17954128,  0.07708826,\n",
       "         0.12647443,  0.18719672]))"
      ]
     },
     "execution_count": 48,
     "metadata": {},
     "output_type": "execute_result"
    }
   ],
   "source": [
    "getScoreValues(X_train, X_test, y_train, y_test, model=RandomForestClassifier())"
   ]
  },
  {
   "cell_type": "code",
   "execution_count": 49,
   "metadata": {
    "collapsed": false
   },
   "outputs": [
    {
     "name": "stdout",
     "output_type": "stream",
     "text": [
      "Accuracy: 0.648936170212766\n",
      "Precision: 0.2605042016806723\n",
      "Recall: 0.7380952380952381\n",
      "f1: 0.3850931677018634\n"
     ]
    },
    {
     "data": {
      "text/plain": [
       "(0.64893617021276595,\n",
       " 0.26050420168067229,\n",
       " 0.73809523809523814,\n",
       " 0.38509316770186341,\n",
       " None)"
      ]
     },
     "execution_count": 49,
     "metadata": {},
     "output_type": "execute_result"
    }
   ],
   "source": [
    "getScoreValues(X_train, X_test, y_train, y_test, model=BernoulliNB())"
   ]
  },
  {
   "cell_type": "code",
   "execution_count": 50,
   "metadata": {
    "collapsed": false
   },
   "outputs": [
    {
     "name": "stdout",
     "output_type": "stream",
     "text": [
      "Accuracy: 0.6205673758865248\n",
      "Precision: 0.24\n",
      "Recall: 0.7142857142857143\n",
      "f1: 0.3592814371257485\n"
     ]
    },
    {
     "data": {
      "text/plain": [
       "(0.62056737588652477,\n",
       " 0.23999999999999999,\n",
       " 0.7142857142857143,\n",
       " 0.3592814371257485,\n",
       " None)"
      ]
     },
     "execution_count": 50,
     "metadata": {},
     "output_type": "execute_result"
    }
   ],
   "source": [
    "getScoreValues(X_train, X_test, y_train, y_test, model=GaussianNB())"
   ]
  },
  {
   "cell_type": "code",
   "execution_count": 51,
   "metadata": {
    "collapsed": false
   },
   "outputs": [
    {
     "name": "stdout",
     "output_type": "stream",
     "text": [
      "Accuracy: 0.9468085106382979\n",
      "Precision: 0.8292682926829268\n",
      "Recall: 0.8095238095238095\n",
      "f1: 0.8192771084337348\n"
     ]
    },
    {
     "data": {
      "text/plain": [
       "(0.94680851063829785,\n",
       " 0.82926829268292679,\n",
       " 0.80952380952380953,\n",
       " 0.8192771084337348,\n",
       " array([ 0.06788544,  0.13657638,  0.23430214,  0.25456189,  0.0843159 ,\n",
       "         0.10417652,  0.11818172]))"
      ]
     },
     "execution_count": 51,
     "metadata": {},
     "output_type": "execute_result"
    }
   ],
   "source": [
    "getScoreValues(X_train, X_test, y_train, y_test, model=DecisionTreeClassifier())"
   ]
  },
  {
   "cell_type": "code",
   "execution_count": 52,
   "metadata": {
    "collapsed": false
   },
   "outputs": [
    {
     "name": "stdout",
     "output_type": "stream",
     "text": [
      "Accuracy: 0.9219858156028369\n",
      "Precision: 0.6851851851851852\n",
      "Recall: 0.8809523809523809\n",
      "f1: 0.7708333333333335\n"
     ]
    },
    {
     "data": {
      "text/plain": [
       "(0.92198581560283688,\n",
       " 0.68518518518518523,\n",
       " 0.88095238095238093,\n",
       " 0.77083333333333348,\n",
       " None)"
      ]
     },
     "execution_count": 52,
     "metadata": {},
     "output_type": "execute_result"
    }
   ],
   "source": [
    "getScoreValues(X_train, X_test, y_train, y_test)"
   ]
  },
  {
   "cell_type": "markdown",
   "metadata": {},
   "source": [
    "## Confusion Matrix"
   ]
  },
  {
   "cell_type": "code",
   "execution_count": 53,
   "metadata": {
    "collapsed": true
   },
   "outputs": [],
   "source": [
    "def plot_confusion_matrix(cm, title='Confusion matrix', cmap=plt.cm.Blues):\n",
    "    plt.imshow(cm, interpolation='nearest', cmap=cmap)\n",
    "    plt.title(title)\n",
    "    plt.colorbar()\n",
    "    tick_marks = np.arange(2)\n",
    "    plt.xticks(tick_marks, ['Not at Risk', 'At Risk'], rotation=45)\n",
    "    plt.yticks(tick_marks, ['Not at Risk', 'At Risk'])\n",
    "    plt.tight_layout()\n",
    "    plt.ylabel('True label')\n",
    "    plt.xlabel('Predicted label')"
   ]
  },
  {
   "cell_type": "markdown",
   "metadata": {},
   "source": [
    "## Cross validate with oversampling"
   ]
  },
  {
   "cell_type": "code",
   "execution_count": 54,
   "metadata": {
    "collapsed": false,
    "scrolled": true
   },
   "outputs": [],
   "source": [
    "def getCrossValScoresBySSS(local_X, \n",
    "                           local_y, \n",
    "                           n_iter=30, \n",
    "                           test_size=0.3, \n",
    "                           model=KNeighborsClassifier(n_neighbors=3),\n",
    "                           get_multi_models=False,\n",
    "                           get_models_avg=False,\n",
    "                           get_cm=False,\n",
    "                           verbose=True,\n",
    "                           get_features=True\n",
    "                          ):\n",
    "    \n",
    "    score_dict = {}\n",
    "    acc_array = []\n",
    "    prec_array = []\n",
    "    recall_array = []\n",
    "    f1_array = []\n",
    "    feature_imp_array = []\n",
    "    \n",
    "    x_cols = list(local_X.columns)\n",
    "    ratio = float(local_y.value_counts()[0]) / (.75*float(local_y.value_counts()[1]))\n",
    "    sss = StratifiedShuffleSplit(y, n_iter=n_iter, test_size=test_size)\n",
    "    \n",
    "    model_list = [\\\n",
    "                  KNeighborsClassifier(n_neighbors=3), \\\n",
    "                  LogisticRegression(), \\\n",
    "                  BernoulliNB(), \\\n",
    "                  GaussianNB(), \\\n",
    "                  RandomForestClassifier(n_estimators=100), \\\n",
    "                  DecisionTreeClassifier() \\\n",
    "                  ]\n",
    "    \n",
    "    #Return table of scores for each model\n",
    "    if get_multi_models:\n",
    "        model_acc = []\n",
    "        model_prec = []\n",
    "        model_rec = []\n",
    "        model_f1 = []\n",
    "        for a_model in model_list:\n",
    "            acc_array = []\n",
    "            prec_array = []\n",
    "            recall_array = []\n",
    "            f1_array = []\n",
    "            for train_index, test_index in sss:\n",
    "                #print(\"TRAIN:\", train_index, \"TEST:\", test_index)\n",
    "                X_train, X_test = X.ix[train_index], X.ix[test_index]\n",
    "                y_train, y_test = y.ix[train_index], y.ix[test_index]\n",
    "\n",
    "                X_train = X_train.reset_index(drop=True).as_matrix()\n",
    "                y_train = y_train.reset_index(drop=True).as_matrix()\n",
    "\n",
    "                smote = SMOTE(ratio=ratio, verbose=False)\n",
    "                smox, smoy = smote.fit_transform(X_train, y_train)\n",
    "                X_train = pd.DataFrame(smox, columns=x_cols)\n",
    "                y_train = pd.Series(smoy)\n",
    "            \n",
    "                accuracy_score_value, precision_score_value, \\\n",
    "                recall_score_value, f1_score_value, _ = getScoreValues(X_train, \n",
    "                                                                   X_test, \n",
    "                                                                   y_train, \n",
    "                                                                   y_test, \n",
    "                                                                   model=a_model, \n",
    "                                                                   verbose=False,\n",
    "                                                                   get_features=False)\n",
    "                \n",
    "                acc_array.append(accuracy_score_value)\n",
    "                prec_array.append(precision_score_value)\n",
    "                recall_array.append(recall_score_value)\n",
    "                f1_array.append(f1_score_value)\n",
    "                \n",
    "            mean_acc = np.mean(acc_array)\n",
    "            mean_prec = np.mean(prec_array)\n",
    "            mean_recall = np.mean(recall_array)\n",
    "            mean_f1 = np.mean(f1_array)\n",
    "            \n",
    "            model_acc.append(mean_acc)\n",
    "            model_prec.append(mean_prec)\n",
    "            model_rec.append(mean_recall)\n",
    "            model_f1.append(mean_f1)\n",
    "            \n",
    "        score_dict['Accuracy'] = model_acc\n",
    "        score_dict['Precision'] = model_prec\n",
    "        score_dict['Recall'] = model_rec\n",
    "        score_dict['F1'] = model_f1\n",
    "        \n",
    "        col_names = ['Accuracy', 'Precision', 'Recall', 'F1']\n",
    "        index_func = [\\\n",
    "                  'KNeighborsClassifier(n_neighbors=3)', \\\n",
    "                  'LogisticRegression()', \\\n",
    "                  'BernoulliNB()', \\\n",
    "                  'GaussianNB()', \\\n",
    "                  'RandomForestClassifier(n_estimators=100)', \\\n",
    "                  'DecisionTreeClassifier()' \\\n",
    "                  ]\n",
    "        df = pd.DataFrame(score_dict, columns=col_names, index=index_func)\n",
    "        return df\n",
    "    \n",
    "    \n",
    "    else:\n",
    "        for train_index, test_index in sss:\n",
    "            #print(\"TRAIN:\", train_index, \"TEST:\", test_index)\n",
    "            X_train, X_test = X.ix[train_index], X.ix[test_index]\n",
    "            y_train, y_test = y.ix[train_index], y.ix[test_index]\n",
    "\n",
    "            X_train = X_train.reset_index(drop=True).as_matrix()\n",
    "            y_train = y_train.reset_index(drop=True).as_matrix()\n",
    "\n",
    "            smote = SMOTE(ratio=ratio, verbose=False)\n",
    "            smox, smoy = smote.fit_transform(X_train, y_train)\n",
    "            X_train = pd.DataFrame(smox, columns=x_cols)\n",
    "            y_train = pd.Series(smoy)\n",
    "\n",
    "            #Get scores of the average prediction of multiple models\n",
    "            if get_models_avg:\n",
    "                y_predictions = []\n",
    "\n",
    "                for a_model in model_list:\n",
    "                    temp_model = a_model\n",
    "                    model.fit(X_train, y_train)\n",
    "                    y_pred = model.predict(X_test)\n",
    "                    y_predictions.append(y_pred)\n",
    "\n",
    "                average_prediction = np.mean(y_predictions, axis=0)\n",
    "                average_prediction = [int(round(n, 0)) for n in average_prediction]\n",
    "\n",
    "                accuracy_score_value = accuracy_score(y_test, y_pred)\n",
    "                precision_score_value = precision_score(y_test, y_pred)\n",
    "                recall_score_value = recall_score(y_test, y_pred)\n",
    "                f1_score_value = f1_score(y_test, y_pred)\n",
    "\n",
    "                acc_array.append(accuracy_score_value)\n",
    "                prec_array.append(precision_score_value)\n",
    "                recall_array.append(recall_score_value)\n",
    "                f1_array.append(f1_score_value)\n",
    "\n",
    "            #Get score values for each fold\n",
    "            else:\n",
    "                accuracy_score_value, precision_score_value, \\\n",
    "                recall_score_value, f1_score_value, \\\n",
    "                feature_importances = getScoreValues(X_train, \n",
    "                                                     X_test, \n",
    "                                                     y_train,\n",
    "                                                     y_test, \n",
    "                                                     model=model, \n",
    "                                                     verbose=False,\n",
    "                                                     get_features=get_features)\n",
    "\n",
    "                if get_cm:\n",
    "                    # For getting a confusion matrix of the last model in the cross validated set\n",
    "                    temp_model = model\n",
    "                    model.fit(X_train, y_train)\n",
    "                    y_pred = model.predict(X_test)\n",
    "\n",
    "                acc_array.append(accuracy_score_value)\n",
    "                prec_array.append(precision_score_value)\n",
    "                recall_array.append(recall_score_value)\n",
    "                f1_array.append(f1_score_value)\n",
    "                feature_imp_array.append(feature_importances)\n",
    "\n",
    "        if get_cm:\n",
    "            try:\n",
    "                cm = confusion_matrix(y_test, average_prediction)\n",
    "            except:\n",
    "                cm = confusion_matrix(y_test, y_pred)\n",
    "            plt.figure()\n",
    "            plot_confusion_matrix(cm)\n",
    "\n",
    "        mean_acc = np.mean(acc_array)\n",
    "        mean_prec = np.mean(prec_array)\n",
    "        mean_recall = np.mean(recall_array)\n",
    "        mean_f1 = np.mean(f1_array)\n",
    "        try:\n",
    "            mean_feature_imp = np.mean(feature_imp_array, axis=0)\n",
    "        except TypeError:\n",
    "            mean_feature_imp = None\n",
    "            \n",
    "            \n",
    "        if verbose:\n",
    "            print('Avg Feature Importance: {}'.format(mean_feature_imp))\n",
    "            print('Accuracy: {}\\nPrecision: {}\\nRecall: {}\\nf1: {}'.format(mean_acc, \\\n",
    "                                                                           mean_prec, \\\n",
    "                                                                           mean_recall,\\\n",
    "                                                                           mean_f1))"
   ]
  },
  {
   "cell_type": "code",
   "execution_count": 55,
   "metadata": {
    "collapsed": false
   },
   "outputs": [],
   "source": [
    "X = full_data[x_cols]\n",
    "y = full_data['zscores']"
   ]
  },
  {
   "cell_type": "markdown",
   "metadata": {},
   "source": [
    "## Scores for various models"
   ]
  },
  {
   "cell_type": "code",
   "execution_count": 56,
   "metadata": {
    "collapsed": false,
    "scrolled": false
   },
   "outputs": [
    {
     "data": {
      "text/html": [
       "<div>\n",
       "<table border=\"1\" class=\"dataframe\">\n",
       "  <thead>\n",
       "    <tr style=\"text-align: right;\">\n",
       "      <th></th>\n",
       "      <th>Accuracy</th>\n",
       "      <th>Precision</th>\n",
       "      <th>Recall</th>\n",
       "      <th>F1</th>\n",
       "    </tr>\n",
       "  </thead>\n",
       "  <tbody>\n",
       "    <tr>\n",
       "      <th>KNeighborsClassifier(n_neighbors=3)</th>\n",
       "      <td>0.935461</td>\n",
       "      <td>0.729813</td>\n",
       "      <td>0.937121</td>\n",
       "      <td>0.819452</td>\n",
       "    </tr>\n",
       "    <tr>\n",
       "      <th>LogisticRegression()</th>\n",
       "      <td>0.584634</td>\n",
       "      <td>0.242657</td>\n",
       "      <td>0.780303</td>\n",
       "      <td>0.369712</td>\n",
       "    </tr>\n",
       "    <tr>\n",
       "      <th>BernoulliNB()</th>\n",
       "      <td>0.601418</td>\n",
       "      <td>0.237891</td>\n",
       "      <td>0.706818</td>\n",
       "      <td>0.355562</td>\n",
       "    </tr>\n",
       "    <tr>\n",
       "      <th>GaussianNB()</th>\n",
       "      <td>0.601300</td>\n",
       "      <td>0.235206</td>\n",
       "      <td>0.688636</td>\n",
       "      <td>0.350308</td>\n",
       "    </tr>\n",
       "    <tr>\n",
       "      <th>RandomForestClassifier(n_estimators=100)</th>\n",
       "      <td>0.938298</td>\n",
       "      <td>0.788547</td>\n",
       "      <td>0.834848</td>\n",
       "      <td>0.808657</td>\n",
       "    </tr>\n",
       "    <tr>\n",
       "      <th>DecisionTreeClassifier()</th>\n",
       "      <td>0.908865</td>\n",
       "      <td>0.686477</td>\n",
       "      <td>0.775000</td>\n",
       "      <td>0.726182</td>\n",
       "    </tr>\n",
       "  </tbody>\n",
       "</table>\n",
       "</div>"
      ],
      "text/plain": [
       "                                          Accuracy  Precision    Recall  \\\n",
       "KNeighborsClassifier(n_neighbors=3)       0.935461   0.729813  0.937121   \n",
       "LogisticRegression()                      0.584634   0.242657  0.780303   \n",
       "BernoulliNB()                             0.601418   0.237891  0.706818   \n",
       "GaussianNB()                              0.601300   0.235206  0.688636   \n",
       "RandomForestClassifier(n_estimators=100)  0.938298   0.788547  0.834848   \n",
       "DecisionTreeClassifier()                  0.908865   0.686477  0.775000   \n",
       "\n",
       "                                                F1  \n",
       "KNeighborsClassifier(n_neighbors=3)       0.819452  \n",
       "LogisticRegression()                      0.369712  \n",
       "BernoulliNB()                             0.355562  \n",
       "GaussianNB()                              0.350308  \n",
       "RandomForestClassifier(n_estimators=100)  0.808657  \n",
       "DecisionTreeClassifier()                  0.726182  "
      ]
     },
     "execution_count": 56,
     "metadata": {},
     "output_type": "execute_result"
    }
   ],
   "source": [
    "getCrossValScoresBySSS(X, y, get_multi_models=True)"
   ]
  },
  {
   "cell_type": "markdown",
   "metadata": {},
   "source": [
    "#### KNN various n\n"
   ]
  },
  {
   "cell_type": "code",
   "execution_count": 57,
   "metadata": {
    "collapsed": false,
    "scrolled": false
   },
   "outputs": [
    {
     "name": "stdout",
     "output_type": "stream",
     "text": [
      "n =  1\n",
      "Avg Feature Importance: None\n",
      "Accuracy: 0.9553191489361704\n",
      "Precision: 0.8313007037641172\n",
      "Recall: 0.9007575757575758\n",
      "f1: 0.8631417245179775\n",
      "\n",
      "\n",
      "n =  2\n",
      "Avg Feature Importance: None\n",
      "Accuracy: 0.9556737588652484\n",
      "Precision: 0.853985177677401\n",
      "Recall: 0.8712121212121213\n",
      "f1: 0.8601813160262057\n",
      "\n",
      "\n",
      "n =  3\n",
      "Avg Feature Importance: None\n",
      "Accuracy: 0.9346335697399529\n",
      "Precision: 0.7279198911721472\n",
      "Recall: 0.9393939393939394\n",
      "f1: 0.8187484213057529\n",
      "\n",
      "\n",
      "n =  4\n",
      "Avg Feature Importance: None\n",
      "Accuracy: 0.937115839243499\n",
      "Precision: 0.744955062537478\n",
      "Recall: 0.9166666666666666\n",
      "f1: 0.8205633868381\n",
      "\n",
      "\n",
      "n =  5\n",
      "Avg Feature Importance: None\n",
      "Accuracy: 0.9099290780141847\n",
      "Precision: 0.644034585112117\n",
      "Recall: 0.9590909090909092\n",
      "f1: 0.7696205488161988\n",
      "\n",
      "\n",
      "n =  6\n",
      "Avg Feature Importance: None\n",
      "Accuracy: 0.9114657210401894\n",
      "Precision: 0.6526713642764564\n",
      "Recall: 0.9409090909090908\n",
      "f1: 0.7694686668597351\n",
      "\n",
      "\n",
      "n =  7\n",
      "Avg Feature Importance: None\n",
      "Accuracy: 0.8762411347517731\n",
      "Precision: 0.5625703873401309\n",
      "Recall: 0.9749999999999999\n",
      "f1: 0.7124577728258608\n",
      "\n",
      "\n"
     ]
    },
    {
     "data": {
      "image/png": "[encoded data removed]",
      "text/plain": [
       "<matplotlib.figure.Figure at 0x10dce6ac8>"
      ]
     },
     "metadata": {},
     "output_type": "display_data"
    },
    {
     "data": {
      "image/png": "[encoded data removed]",
      "text/plain": [
       "<matplotlib.figure.Figure at 0x10ddbb828>"
      ]
     },
     "metadata": {},
     "output_type": "display_data"
    },
    {
     "data": {
      "image/png": "[encoded data removed]",
      "text/plain": [
       "<matplotlib.figure.Figure at 0x10d805b00>"
      ]
     },
     "metadata": {},
     "output_type": "display_data"
    },
    {
     "data": {
      "image/png": "[encoded data removed]",
      "text/plain": [
       "<matplotlib.figure.Figure at 0x10df86358>"
      ]
     },
     "metadata": {},
     "output_type": "display_data"
    },
    {
     "data": {
      "image/png": "[encoded data removed]",
      "text/plain": [
       "<matplotlib.figure.Figure at 0x10c9fea58>"
      ]
     },
     "metadata": {},
     "output_type": "display_data"
    },
    {
     "data": {
      "image/png": "[encoded data removed]",
      "text/plain": [
       "<matplotlib.figure.Figure at 0x10dd9ce48>"
      ]
     },
     "metadata": {},
     "output_type": "display_data"
    },
    {
     "data": {
      "image/png": "[encoded data removed]",
      "text/plain": [
       "<matplotlib.figure.Figure at 0x10e41c5c0>"
      ]
     },
     "metadata": {},
     "output_type": "display_data"
    }
   ],
   "source": [
    "for n in range(1,8):\n",
    "    print('n = ', n)\n",
    "    getCrossValScoresBySSS(X, y, model=KNeighborsClassifier(n_neighbors=n), get_cm=True)\n",
    "    print('\\n')"
   ]
  },
  {
   "cell_type": "markdown",
   "metadata": {},
   "source": [
    "#### Random Forest for important features"
   ]
  },
  {
   "cell_type": "code",
   "execution_count": 58,
   "metadata": {
    "collapsed": false,
    "scrolled": false
   },
   "outputs": [
    {
     "name": "stdout",
     "output_type": "stream",
     "text": [
      "Avg Feature Importance: [ 0.14513742  0.1337308   0.14654294  0.15493124  0.10378791  0.14057893\n",
      "  0.17529077]\n",
      "Accuracy: 0.938888888888889\n",
      "Precision: 0.7937530778595068\n",
      "Recall: 0.8310606060606062\n",
      "f1: 0.8091383333081745\n"
     ]
    },
    {
     "data": {
      "image/png": "[encoded data removed]",
      "text/plain": [
       "<matplotlib.figure.Figure at 0x10e0beb70>"
      ]
     },
     "metadata": {},
     "output_type": "display_data"
    }
   ],
   "source": [
    "getCrossValScoresBySSS(X, y, model=RandomForestClassifier(n_estimators=30), get_cm = True)"
   ]
  },
  {
   "cell_type": "markdown",
   "metadata": {},
   "source": [
    "#### DecisionTreeClassifier for important features"
   ]
  },
  {
   "cell_type": "code",
   "execution_count": 59,
   "metadata": {
    "collapsed": false
   },
   "outputs": [
    {
     "name": "stdout",
     "output_type": "stream",
     "text": [
      "Avg Feature Importance: [ 0.1041167   0.20316633  0.21823316  0.12021166  0.08010927  0.12968893\n",
      "  0.14447395]\n",
      "Accuracy: 0.9091016548463361\n",
      "Precision: 0.6882743049822512\n",
      "Recall: 0.7712121212121211\n",
      "f1: 0.7257758476218772\n"
     ]
    },
    {
     "data": {
      "image/png": "[encoded data removed]",
      "text/plain": [
       "<matplotlib.figure.Figure at 0x10e8100f0>"
      ]
     },
     "metadata": {},
     "output_type": "display_data"
    }
   ],
   "source": [
    "getCrossValScoresBySSS(X, y, model=DecisionTreeClassifier(), get_cm = True)"
   ]
  },
  {
   "cell_type": "markdown",
   "metadata": {
    "collapsed": true
   },
   "source": [
    "### Model averages:"
   ]
  },
  {
   "cell_type": "code",
   "execution_count": 60,
   "metadata": {
    "collapsed": false
   },
   "outputs": [
    {
     "name": "stdout",
     "output_type": "stream",
     "text": [
      "Avg Feature Importance: nan\n",
      "Accuracy: 0.9301418439716315\n",
      "Precision: 0.7167870231875153\n",
      "Recall: 0.9242424242424243\n",
      "f1: 0.8060882256772236\n"
     ]
    },
    {
     "name": "stderr",
     "output_type": "stream",
     "text": [
      "/Users/kenn/anaconda/lib/python3.5/site-packages/numpy/core/_methods.py:59: RuntimeWarning: Mean of empty slice.\n",
      "  warnings.warn(\"Mean of empty slice.\", RuntimeWarning)\n"
     ]
    }
   ],
   "source": [
    "getCrossValScoresBySSS(X, y, get_models_avg=True)"
   ]
  },
  {
   "cell_type": "code",
   "execution_count": null,
   "metadata": {
    "collapsed": true
   },
   "outputs": [],
   "source": []
  },
  {
   "cell_type": "code",
   "execution_count": null,
   "metadata": {
    "collapsed": true
   },
   "outputs": [],
   "source": []
  },
  {
   "cell_type": "code",
   "execution_count": null,
   "metadata": {
    "collapsed": true
   },
   "outputs": [],
   "source": []
  },
  {
   "cell_type": "code",
   "execution_count": null,
   "metadata": {
    "collapsed": true
   },
   "outputs": [],
   "source": []
  }
 ],
 "metadata": {
  "kernelspec": {
   "display_name": "Python 3",
   "language": "python",
   "name": "python3"
  },
  "language_info": {
   "codemirror_mode": {
    "name": "ipython",
    "version": 3
   },
   "file_extension": ".py",
   "mimetype": "text/x-python",
   "name": "python",
   "nbconvert_exporter": "python",
   "pygments_lexer": "ipython3",
   "version": "3.5.0"
  }
 },
 "nbformat": 4,
 "nbformat_minor": 0
}
