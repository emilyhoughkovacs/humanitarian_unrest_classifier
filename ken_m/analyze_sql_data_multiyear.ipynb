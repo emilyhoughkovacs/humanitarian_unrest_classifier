{
 "cells": [
  {
   "cell_type": "markdown",
   "metadata": {},
   "source": [
    "### This is the same notebook as analyze_sql_data.ipynb but includes multiple years"
   ]
  },
  {
   "cell_type": "code",
   "execution_count": 177,
   "metadata": {
    "collapsed": false
   },
   "outputs": [],
   "source": [
    "from sqlalchemy import create_engine\n",
    "import pandas as pd\n",
    "import numpy as np\n",
    "from copy import deepcopy\n",
    "import pickle\n",
    "\n",
    "from sklearn import datasets\n",
    "from sklearn.cross_validation import train_test_split, StratifiedShuffleSplit\n",
    "from sklearn.neighbors import KNeighborsClassifier\n",
    "from sklearn.grid_search import GridSearchCV\n",
    "from sklearn.metrics import (\n",
    "                            accuracy_score, \n",
    "                            precision_score, \n",
    "                            recall_score, \n",
    "                            f1_score, \n",
    "                            roc_curve, \n",
    "                            roc_auc_score, \n",
    "                            confusion_matrix,\n",
    "                            classification_report\n",
    "                            )\n",
    "from sklearn.linear_model import LogisticRegression, LinearRegression\n",
    "from sklearn.naive_bayes import GaussianNB, BernoulliNB\n",
    "from sklearn.svm import SVC\n",
    "from sklearn.tree import DecisionTreeClassifier\n",
    "from sklearn.tree import DecisionTreeRegressor\n",
    "from sklearn.ensemble import RandomForestClassifier\n",
    "from sklearn.learning_curve import learning_curve\n",
    "from sklearn.cross_validation import cross_val_score\n",
    "from sklearn.metrics import confusion_matrix\n",
    "\n",
    "from unbalanced_dataset import OverSampler, SMOTE\n",
    "\n",
    "import matplotlib.pyplot as plt\n",
    "import seaborn as sns\n",
    "\n",
    "\n",
    "%matplotlib inline"
   ]
  },
  {
   "cell_type": "code",
   "execution_count": 2,
   "metadata": {
    "collapsed": true
   },
   "outputs": [],
   "source": [
    "CONFIG = {}\n",
    "\n",
    "with open('config.txt', \"r\") as in_file:\n",
    "    for line in in_file:\n",
    "        line = line.split(\":\")\n",
    "        parameter = line[0].strip()\n",
    "        value = line[1].strip()\n",
    "        CONFIG[parameter] = value\n",
    "                \n",
    "engine_path = 'postgresql://'+CONFIG['username']+':'+\\\n",
    "                CONFIG['password']+'@'+CONFIG['ip']+\\\n",
    "                ':'+CONFIG['port']+'/'+CONFIG['database']\n",
    "        \n",
    "engine = create_engine(engine_path)"
   ]
  },
  {
   "cell_type": "markdown",
   "metadata": {},
   "source": [
    "### Want something like:\n",
    "\n",
    "    SELECT\n",
    "        table4.countrycode as 'countrycode',\n",
    "        b.table1 as 'table1',\n",
    "        b.table2 as 'table2',\n",
    "        b.table3 as 'table3',\n",
    "        table4.year as 'table4'\n",
    "        (SELECT\n",
    "            table3.countrycode as 'countrycode',\n",
    "            a.table1 as 'table1',\n",
    "            a.table2 as 'table2',\n",
    "            table3.year as 'table3'\n",
    "         FROM\n",
    "            (SELECT\n",
    "                 table1.countrycode as 'countrycode',\n",
    "                 table1.year as 'table1',\n",
    "                 table2.year as 'table2'\n",
    "             FROM\n",
    "                 table1\n",
    "             JOIN\n",
    "                 table2\n",
    "               ON \n",
    "                 table1.countrycode = table2.countrycode\n",
    "             ) a\n",
    "         JOIN\n",
    "             table3\n",
    "           ON\n",
    "             a.countrycode = table3.countrycode  \n",
    "        ) b    \n",
    "    JOIN\n",
    "        table4\n",
    "      ON\n",
    "        a.countrycode = table3.countrycode \n",
    "    \n",
    "        \n",
    "       \n"
   ]
  },
  {
   "cell_type": "code",
   "execution_count": 3,
   "metadata": {
    "collapsed": false
   },
   "outputs": [],
   "source": [
    "def makeSQLQuery(table_names, year):\n",
    "    dotyyear = '.y' + str(year)\n",
    "    current_unit = 'a'\n",
    "    query = '(SELECT ' + table_names[0] + '.countrycode AS countrycode, ' + \\\n",
    "            table_names[0] + dotyyear + ' AS ' + table_names[0] + ', ' + \\\n",
    "            table_names[1] + dotyyear + ' AS ' + table_names[1] + \\\n",
    "            ' FROM ' + table_names[0] + \\\n",
    "            ' JOIN ' + table_names[1] + \\\n",
    "            ' ON ' + table_names[0] + '.countrycode=' + table_names[1] + '.countrycode) '\n",
    "    query = query + current_unit\n",
    "    \n",
    "    for table in table_names[2:]:\n",
    "        curr_index = table_names.index(table)\n",
    "        temp_list = table_names[:curr_index+1]\n",
    "        \n",
    "        pre_string = '(SELECT ' + table + '.countrycode as countrycode'\n",
    "        \n",
    "        for temp_table in temp_list[:-1]:\n",
    "            pre_string = pre_string + ', ' + current_unit + '.' + temp_table + ' AS ' + temp_table\n",
    "        \n",
    "        pre_string = pre_string + ', ' + table + dotyyear + ' AS ' + table\n",
    "        \n",
    "        query = pre_string + ' FROM ' + query + ' JOIN ' + table + \\\n",
    "                ' ON ' + current_unit + '.countrycode=' + table + '.countrycode) '\n",
    "        \n",
    "        current_unit = current_unit + 'a'\n",
    "        query = query + current_unit\n",
    "        \n",
    "    query = query.rsplit(' ', 1)[0][1:-1]\n",
    "    \n",
    "    return query\n",
    "    \n",
    "    "
   ]
  },
  {
   "cell_type": "markdown",
   "metadata": {},
   "source": [
    "## Change these to select data"
   ]
  },
  {
   "cell_type": "code",
   "execution_count": 4,
   "metadata": {
    "collapsed": false
   },
   "outputs": [],
   "source": [
    "table_names = ['civil_liberties', \\\n",
    "               'political_rights', \\\n",
    "               #'freedom_status', \\\n",
    "               #'corruption_perception', \\\n",
    "               'female_legislators', \\\n",
    "               'population_growth', \\\n",
    "               'population_female', \\\n",
    "               #'under_5_mortality', \\\n",
    "               'life_expectancy', \\\n",
    "               #'population_0_14', \\\n",
    "               'population_15_64',  \\\n",
    "               #'population_65_up', \\\n",
    "               #'terror_new', \\\n",
    "               #'peace_new', \\\n",
    "               #'refugees_percapita', \\\n",
    "               'zscores']"
   ]
  },
  {
   "cell_type": "code",
   "execution_count": 5,
   "metadata": {
    "collapsed": true
   },
   "outputs": [],
   "source": [
    "x_cols = table_names[:-1]"
   ]
  },
  {
   "cell_type": "code",
   "execution_count": 6,
   "metadata": {
    "collapsed": true
   },
   "outputs": [],
   "source": [
    "years = [2008, 2009, 2010, 2011, 2012, 2013]"
   ]
  },
  {
   "cell_type": "code",
   "execution_count": 7,
   "metadata": {
    "collapsed": true
   },
   "outputs": [],
   "source": [
    "full_data = pd.DataFrame()"
   ]
  },
  {
   "cell_type": "code",
   "execution_count": 8,
   "metadata": {
    "collapsed": false,
    "scrolled": false
   },
   "outputs": [],
   "source": [
    "for year in years:\n",
    "    query = makeSQLQuery(table_names, year)\n",
    "    year_data = pd.read_sql_query(query, engine)\n",
    "    year_data['year'] = year\n",
    "    year_data = year_data.set_index(['year', 'countrycode'])\n",
    "    full_data = pd.concat([full_data, year_data])\n",
    "    \n"
   ]
  },
  {
   "cell_type": "code",
   "execution_count": 9,
   "metadata": {
    "collapsed": false
   },
   "outputs": [
    {
     "data": {
      "text/plain": [
       "<matplotlib.axes._subplots.AxesSubplot at 0x10cb0cda0>"
      ]
     },
     "execution_count": 9,
     "metadata": {},
     "output_type": "execute_result"
    },
    {
     "data": {
      "image/png": "[encoded data removed]",
      "text/plain": [
       "<matplotlib.figure.Figure at 0x1043143c8>"
      ]
     },
     "metadata": {},
     "output_type": "display_data"
    }
   ],
   "source": [
    "sns.distplot(full_data.dropna()['zscores'].astype(float))"
   ]
  },
  {
   "cell_type": "code",
   "execution_count": 10,
   "metadata": {
    "collapsed": false
   },
   "outputs": [
    {
     "data": {
      "text/plain": [
       "(array([ 989.,   22.,    7.,    7.,    7.,    2.,    3.,    3.,    5.,    4.]),\n",
       " array([-0.29313644,  0.67991785,  1.65297214,  2.62602643,  3.59908072,\n",
       "         4.57213501,  5.5451893 ,  6.51824359,  7.49129788,  8.46435217,\n",
       "         9.43740646]),\n",
       " <a list of 10 Patch objects>)"
      ]
     },
     "execution_count": 10,
     "metadata": {},
     "output_type": "execute_result"
    },
    {
     "data": {
      "image/png": "[encoded data removed]",
      "text/plain": [
       "<matplotlib.figure.Figure at 0x1043140f0>"
      ]
     },
     "metadata": {},
     "output_type": "display_data"
    }
   ],
   "source": [
    "import pylab as pl\n",
    "\n",
    "pl.hist(sorted(list(full_data.dropna()['zscores'].astype(float))))\n",
    "\n"
   ]
  },
  {
   "cell_type": "code",
   "execution_count": 11,
   "metadata": {
    "collapsed": false
   },
   "outputs": [
    {
     "data": {
      "text/html": [
       "<div>\n",
       "<table border=\"1\" class=\"dataframe\">\n",
       "  <thead>\n",
       "    <tr style=\"text-align: right;\">\n",
       "      <th></th>\n",
       "      <th></th>\n",
       "      <th>civil_liberties</th>\n",
       "      <th>political_rights</th>\n",
       "      <th>female_legislators</th>\n",
       "      <th>population_growth</th>\n",
       "      <th>population_female</th>\n",
       "      <th>life_expectancy</th>\n",
       "      <th>population_15_64</th>\n",
       "      <th>zscores</th>\n",
       "    </tr>\n",
       "    <tr>\n",
       "      <th>year</th>\n",
       "      <th>countrycode</th>\n",
       "      <th></th>\n",
       "      <th></th>\n",
       "      <th></th>\n",
       "      <th></th>\n",
       "      <th></th>\n",
       "      <th></th>\n",
       "      <th></th>\n",
       "      <th></th>\n",
       "    </tr>\n",
       "  </thead>\n",
       "  <tbody>\n",
       "    <tr>\n",
       "      <th rowspan=\"5\" valign=\"top\">2008</th>\n",
       "      <th>AFG</th>\n",
       "      <td>6</td>\n",
       "      <td>5</td>\n",
       "      <td>27.7</td>\n",
       "      <td>2.485315</td>\n",
       "      <td>48.512909</td>\n",
       "      <td>58.225024</td>\n",
       "      <td>49.946087</td>\n",
       "      <td>6.546331355</td>\n",
       "    </tr>\n",
       "    <tr>\n",
       "      <th>AGO</th>\n",
       "      <td>5</td>\n",
       "      <td>6</td>\n",
       "      <td>37.3</td>\n",
       "      <td>3.374180</td>\n",
       "      <td>50.493712</td>\n",
       "      <td>49.847390</td>\n",
       "      <td>49.356104</td>\n",
       "      <td>0.281696206</td>\n",
       "    </tr>\n",
       "    <tr>\n",
       "      <th>ALB</th>\n",
       "      <td>3</td>\n",
       "      <td>3</td>\n",
       "      <td>7.1</td>\n",
       "      <td>-0.767343</td>\n",
       "      <td>49.610212</td>\n",
       "      <td>76.632317</td>\n",
       "      <td>66.816430</td>\n",
       "      <td>0.055357722</td>\n",
       "    </tr>\n",
       "    <tr>\n",
       "      <th>ARE</th>\n",
       "      <td>5</td>\n",
       "      <td>6</td>\n",
       "      <td>22.5</td>\n",
       "      <td>13.810060</td>\n",
       "      <td>25.880062</td>\n",
       "      <td>76.307756</td>\n",
       "      <td>84.600650</td>\n",
       "      <td>-0.267222176</td>\n",
       "    </tr>\n",
       "    <tr>\n",
       "      <th>ARG</th>\n",
       "      <td>2</td>\n",
       "      <td>2</td>\n",
       "      <td>40.0</td>\n",
       "      <td>1.025393</td>\n",
       "      <td>51.087196</td>\n",
       "      <td>75.166268</td>\n",
       "      <td>63.456290</td>\n",
       "      <td>-0.26793528</td>\n",
       "    </tr>\n",
       "  </tbody>\n",
       "</table>\n",
       "</div>"
      ],
      "text/plain": [
       "                  civil_liberties  political_rights  female_legislators  \\\n",
       "year countrycode                                                          \n",
       "2008 AFG                        6                 5                27.7   \n",
       "     AGO                        5                 6                37.3   \n",
       "     ALB                        3                 3                 7.1   \n",
       "     ARE                        5                 6                22.5   \n",
       "     ARG                        2                 2                40.0   \n",
       "\n",
       "                  population_growth  population_female  life_expectancy  \\\n",
       "year countrycode                                                          \n",
       "2008 AFG                   2.485315          48.512909        58.225024   \n",
       "     AGO                   3.374180          50.493712        49.847390   \n",
       "     ALB                  -0.767343          49.610212        76.632317   \n",
       "     ARE                  13.810060          25.880062        76.307756   \n",
       "     ARG                   1.025393          51.087196        75.166268   \n",
       "\n",
       "                  population_15_64       zscores  \n",
       "year countrycode                                  \n",
       "2008 AFG                 49.946087   6.546331355  \n",
       "     AGO                 49.356104   0.281696206  \n",
       "     ALB                 66.816430   0.055357722  \n",
       "     ARE                 84.600650  -0.267222176  \n",
       "     ARG                 63.456290   -0.26793528  "
      ]
     },
     "execution_count": 11,
     "metadata": {},
     "output_type": "execute_result"
    }
   ],
   "source": [
    "full_data.head()"
   ]
  },
  {
   "cell_type": "code",
   "execution_count": 12,
   "metadata": {
    "collapsed": false,
    "scrolled": false
   },
   "outputs": [],
   "source": [
    "full_data['zscores'] = full_data['zscores'].astype(float)\n",
    "\n",
    "full_data.loc[full_data['zscores'] > 0, 'zscores'] = 1\n",
    "full_data.loc[full_data['zscores'] <= 0, 'zscores'] = 0\n",
    "\n",
    "try:\n",
    "    full_data.loc[full_data['freedom_status'] == 'F', 'freedom_status'] = -1\n",
    "    full_data.loc[full_data['freedom_status'] == 'PF', 'freedom_status'] = 0\n",
    "    full_data.loc[full_data['freedom_status'] == 'NF', 'freedom_status'] = 1\n",
    "except:\n",
    "    pass\n"
   ]
  },
  {
   "cell_type": "code",
   "execution_count": 219,
   "metadata": {
    "collapsed": true
   },
   "outputs": [],
   "source": [
    "def pickleme(temp, filename):\n",
    "   with open(filename, 'wb') as picklefile:\n",
    "       pickle.dump(temp, picklefile)\n"
   ]
  },
  {
   "cell_type": "code",
   "execution_count": 220,
   "metadata": {
    "collapsed": true
   },
   "outputs": [],
   "source": [
    "pickleme(full_data, '../final_analysis/ken_m_data.pkl')"
   ]
  },
  {
   "cell_type": "code",
   "execution_count": 13,
   "metadata": {
    "collapsed": false
   },
   "outputs": [
    {
     "data": {
      "text/html": [
       "<div>\n",
       "<table border=\"1\" class=\"dataframe\">\n",
       "  <thead>\n",
       "    <tr style=\"text-align: right;\">\n",
       "      <th></th>\n",
       "      <th></th>\n",
       "      <th>civil_liberties</th>\n",
       "      <th>political_rights</th>\n",
       "      <th>female_legislators</th>\n",
       "      <th>population_growth</th>\n",
       "      <th>population_female</th>\n",
       "      <th>life_expectancy</th>\n",
       "      <th>population_15_64</th>\n",
       "      <th>zscores</th>\n",
       "    </tr>\n",
       "    <tr>\n",
       "      <th>year</th>\n",
       "      <th>countrycode</th>\n",
       "      <th></th>\n",
       "      <th></th>\n",
       "      <th></th>\n",
       "      <th></th>\n",
       "      <th></th>\n",
       "      <th></th>\n",
       "      <th></th>\n",
       "      <th></th>\n",
       "    </tr>\n",
       "  </thead>\n",
       "  <tbody>\n",
       "    <tr>\n",
       "      <th rowspan=\"7\" valign=\"top\">2008</th>\n",
       "      <th>FJI</th>\n",
       "      <td>4</td>\n",
       "      <td>6</td>\n",
       "      <td>NaN</td>\n",
       "      <td>1.010417</td>\n",
       "      <td>48.947707</td>\n",
       "      <td>69.022024</td>\n",
       "      <td>65.706245</td>\n",
       "      <td>0</td>\n",
       "    </tr>\n",
       "    <tr>\n",
       "      <th>GIN</th>\n",
       "      <td>5</td>\n",
       "      <td>7</td>\n",
       "      <td>NaN</td>\n",
       "      <td>2.671069</td>\n",
       "      <td>49.966108</td>\n",
       "      <td>54.777585</td>\n",
       "      <td>53.134073</td>\n",
       "      <td>0</td>\n",
       "    </tr>\n",
       "    <tr>\n",
       "      <th>LUX</th>\n",
       "      <td>1</td>\n",
       "      <td>1</td>\n",
       "      <td>23.3</td>\n",
       "      <td>1.787497</td>\n",
       "      <td>50.493425</td>\n",
       "      <td>80.539024</td>\n",
       "      <td>67.877191</td>\n",
       "      <td>NaN</td>\n",
       "    </tr>\n",
       "    <tr>\n",
       "      <th>MMR</th>\n",
       "      <td>7</td>\n",
       "      <td>7</td>\n",
       "      <td>NaN</td>\n",
       "      <td>0.651129</td>\n",
       "      <td>51.176312</td>\n",
       "      <td>64.367610</td>\n",
       "      <td>64.768113</td>\n",
       "      <td>0</td>\n",
       "    </tr>\n",
       "    <tr>\n",
       "      <th>SSD</th>\n",
       "      <td>NaN</td>\n",
       "      <td>NaN</td>\n",
       "      <td>NaN</td>\n",
       "      <td>4.362664</td>\n",
       "      <td>50.051550</td>\n",
       "      <td>52.593317</td>\n",
       "      <td>52.863172</td>\n",
       "      <td>NaN</td>\n",
       "    </tr>\n",
       "    <tr>\n",
       "      <th>TKM</th>\n",
       "      <td>7</td>\n",
       "      <td>7</td>\n",
       "      <td>NaN</td>\n",
       "      <td>1.213341</td>\n",
       "      <td>50.724437</td>\n",
       "      <td>64.756073</td>\n",
       "      <td>65.247102</td>\n",
       "      <td>0</td>\n",
       "    </tr>\n",
       "    <tr>\n",
       "      <th>VUT</th>\n",
       "      <td>2</td>\n",
       "      <td>2</td>\n",
       "      <td>3.8</td>\n",
       "      <td>2.416066</td>\n",
       "      <td>49.142388</td>\n",
       "      <td>70.254756</td>\n",
       "      <td>57.801496</td>\n",
       "      <td>NaN</td>\n",
       "    </tr>\n",
       "    <tr>\n",
       "      <th rowspan=\"8\" valign=\"top\">2009</th>\n",
       "      <th>FJI</th>\n",
       "      <td>4</td>\n",
       "      <td>6</td>\n",
       "      <td>NaN</td>\n",
       "      <td>1.020386</td>\n",
       "      <td>48.947824</td>\n",
       "      <td>69.202854</td>\n",
       "      <td>65.938529</td>\n",
       "      <td>0</td>\n",
       "    </tr>\n",
       "    <tr>\n",
       "      <th>GIN</th>\n",
       "      <td>6</td>\n",
       "      <td>7</td>\n",
       "      <td>NaN</td>\n",
       "      <td>2.728375</td>\n",
       "      <td>49.955495</td>\n",
       "      <td>55.556146</td>\n",
       "      <td>53.333078</td>\n",
       "      <td>0</td>\n",
       "    </tr>\n",
       "    <tr>\n",
       "      <th>LUX</th>\n",
       "      <td>1</td>\n",
       "      <td>1</td>\n",
       "      <td>20.0</td>\n",
       "      <td>1.851775</td>\n",
       "      <td>50.416014</td>\n",
       "      <td>80.636585</td>\n",
       "      <td>68.143119</td>\n",
       "      <td>NaN</td>\n",
       "    </tr>\n",
       "    <tr>\n",
       "      <th>MDG</th>\n",
       "      <td>4</td>\n",
       "      <td>6</td>\n",
       "      <td>NaN</td>\n",
       "      <td>2.814994</td>\n",
       "      <td>50.195519</td>\n",
       "      <td>62.918171</td>\n",
       "      <td>53.386568</td>\n",
       "      <td>0</td>\n",
       "    </tr>\n",
       "    <tr>\n",
       "      <th>MMR</th>\n",
       "      <td>7</td>\n",
       "      <td>7</td>\n",
       "      <td>NaN</td>\n",
       "      <td>0.663518</td>\n",
       "      <td>51.184720</td>\n",
       "      <td>64.643561</td>\n",
       "      <td>64.959838</td>\n",
       "      <td>1</td>\n",
       "    </tr>\n",
       "    <tr>\n",
       "      <th>SSD</th>\n",
       "      <td>NaN</td>\n",
       "      <td>NaN</td>\n",
       "      <td>NaN</td>\n",
       "      <td>4.403674</td>\n",
       "      <td>50.032723</td>\n",
       "      <td>53.122659</td>\n",
       "      <td>53.048921</td>\n",
       "      <td>NaN</td>\n",
       "    </tr>\n",
       "    <tr>\n",
       "      <th>VUT</th>\n",
       "      <td>2</td>\n",
       "      <td>2</td>\n",
       "      <td>3.8</td>\n",
       "      <td>2.388536</td>\n",
       "      <td>49.191878</td>\n",
       "      <td>70.555829</td>\n",
       "      <td>57.776170</td>\n",
       "      <td>NaN</td>\n",
       "    </tr>\n",
       "    <tr>\n",
       "      <th>WSM</th>\n",
       "      <td>2</td>\n",
       "      <td>2</td>\n",
       "      <td>8.2</td>\n",
       "      <td>0.684525</td>\n",
       "      <td>48.396318</td>\n",
       "      <td>72.130683</td>\n",
       "      <td>56.466703</td>\n",
       "      <td>NaN</td>\n",
       "    </tr>\n",
       "    <tr>\n",
       "      <th rowspan=\"6\" valign=\"top\">2010</th>\n",
       "      <th>FJI</th>\n",
       "      <td>4</td>\n",
       "      <td>6</td>\n",
       "      <td>NaN</td>\n",
       "      <td>0.946142</td>\n",
       "      <td>48.959593</td>\n",
       "      <td>69.384366</td>\n",
       "      <td>66.170903</td>\n",
       "      <td>0</td>\n",
       "    </tr>\n",
       "    <tr>\n",
       "      <th>GIN</th>\n",
       "      <td>5</td>\n",
       "      <td>5</td>\n",
       "      <td>NaN</td>\n",
       "      <td>2.730597</td>\n",
       "      <td>49.942592</td>\n",
       "      <td>56.305049</td>\n",
       "      <td>53.550087</td>\n",
       "      <td>0</td>\n",
       "    </tr>\n",
       "    <tr>\n",
       "      <th>LUX</th>\n",
       "      <td>1</td>\n",
       "      <td>1</td>\n",
       "      <td>20.0</td>\n",
       "      <td>1.825406</td>\n",
       "      <td>50.324776</td>\n",
       "      <td>80.631707</td>\n",
       "      <td>68.362969</td>\n",
       "      <td>NaN</td>\n",
       "    </tr>\n",
       "    <tr>\n",
       "      <th>NER</th>\n",
       "      <td>4</td>\n",
       "      <td>5</td>\n",
       "      <td>NaN</td>\n",
       "      <td>3.878552</td>\n",
       "      <td>49.658200</td>\n",
       "      <td>58.259000</td>\n",
       "      <td>47.517486</td>\n",
       "      <td>0</td>\n",
       "    </tr>\n",
       "    <tr>\n",
       "      <th>SSD</th>\n",
       "      <td>NaN</td>\n",
       "      <td>NaN</td>\n",
       "      <td>NaN</td>\n",
       "      <td>4.404235</td>\n",
       "      <td>50.013787</td>\n",
       "      <td>53.664902</td>\n",
       "      <td>53.276511</td>\n",
       "      <td>NaN</td>\n",
       "    </tr>\n",
       "    <tr>\n",
       "      <th>TZA</th>\n",
       "      <td>3</td>\n",
       "      <td>3</td>\n",
       "      <td>NaN</td>\n",
       "      <td>3.174634</td>\n",
       "      <td>50.346737</td>\n",
       "      <td>61.625610</td>\n",
       "      <td>51.791172</td>\n",
       "      <td>0</td>\n",
       "    </tr>\n",
       "    <tr>\n",
       "      <th rowspan=\"6\" valign=\"top\">2011</th>\n",
       "      <th>FJI</th>\n",
       "      <td>4</td>\n",
       "      <td>6</td>\n",
       "      <td>NaN</td>\n",
       "      <td>0.853949</td>\n",
       "      <td>48.983832</td>\n",
       "      <td>69.565000</td>\n",
       "      <td>66.001058</td>\n",
       "      <td>0</td>\n",
       "    </tr>\n",
       "    <tr>\n",
       "      <th>GIN</th>\n",
       "      <td>5</td>\n",
       "      <td>5</td>\n",
       "      <td>NaN</td>\n",
       "      <td>2.722622</td>\n",
       "      <td>49.926862</td>\n",
       "      <td>57.000537</td>\n",
       "      <td>53.672867</td>\n",
       "      <td>0</td>\n",
       "    </tr>\n",
       "    <tr>\n",
       "      <th>HRV</th>\n",
       "      <td>2</td>\n",
       "      <td>1</td>\n",
       "      <td>23.8</td>\n",
       "      <td>NaN</td>\n",
       "      <td>51.791799</td>\n",
       "      <td>76.775610</td>\n",
       "      <td>66.783153</td>\n",
       "      <td>1</td>\n",
       "    </tr>\n",
       "    <tr>\n",
       "      <th>LBY</th>\n",
       "      <td>6</td>\n",
       "      <td>7</td>\n",
       "      <td>NaN</td>\n",
       "      <td>0.365690</td>\n",
       "      <td>48.984059</td>\n",
       "      <td>71.683268</td>\n",
       "      <td>66.610428</td>\n",
       "      <td>0</td>\n",
       "    </tr>\n",
       "    <tr>\n",
       "      <th>LUX</th>\n",
       "      <td>1</td>\n",
       "      <td>1</td>\n",
       "      <td>25.0</td>\n",
       "      <td>2.222661</td>\n",
       "      <td>50.218373</td>\n",
       "      <td>80.987805</td>\n",
       "      <td>68.642123</td>\n",
       "      <td>NaN</td>\n",
       "    </tr>\n",
       "    <tr>\n",
       "      <th>ZAR</th>\n",
       "      <td>6</td>\n",
       "      <td>6</td>\n",
       "      <td>NaN</td>\n",
       "      <td>3.206612</td>\n",
       "      <td>50.189905</td>\n",
       "      <td>57.398634</td>\n",
       "      <td>50.620616</td>\n",
       "      <td>1</td>\n",
       "    </tr>\n",
       "    <tr>\n",
       "      <th rowspan=\"5\" valign=\"top\">2012</th>\n",
       "      <th>FJI</th>\n",
       "      <td>4</td>\n",
       "      <td>6</td>\n",
       "      <td>NaN</td>\n",
       "      <td>0.784507</td>\n",
       "      <td>49.019742</td>\n",
       "      <td>69.743220</td>\n",
       "      <td>65.855257</td>\n",
       "      <td>0</td>\n",
       "    </tr>\n",
       "    <tr>\n",
       "      <th>GHA</th>\n",
       "      <td>2</td>\n",
       "      <td>1</td>\n",
       "      <td>NaN</td>\n",
       "      <td>2.441273</td>\n",
       "      <td>50.452251</td>\n",
       "      <td>60.977024</td>\n",
       "      <td>57.553495</td>\n",
       "      <td>0</td>\n",
       "    </tr>\n",
       "    <tr>\n",
       "      <th>GIN</th>\n",
       "      <td>5</td>\n",
       "      <td>5</td>\n",
       "      <td>NaN</td>\n",
       "      <td>2.723327</td>\n",
       "      <td>49.909307</td>\n",
       "      <td>57.637634</td>\n",
       "      <td>53.827375</td>\n",
       "      <td>0</td>\n",
       "    </tr>\n",
       "    <tr>\n",
       "      <th>LKA</th>\n",
       "      <td>4</td>\n",
       "      <td>5</td>\n",
       "      <td>5.8</td>\n",
       "      <td>NaN</td>\n",
       "      <td>51.564191</td>\n",
       "      <td>74.068049</td>\n",
       "      <td>66.774724</td>\n",
       "      <td>1</td>\n",
       "    </tr>\n",
       "    <tr>\n",
       "      <th>LUX</th>\n",
       "      <td>1</td>\n",
       "      <td>1</td>\n",
       "      <td>21.7</td>\n",
       "      <td>2.401542</td>\n",
       "      <td>50.101319</td>\n",
       "      <td>81.392683</td>\n",
       "      <td>68.906004</td>\n",
       "      <td>NaN</td>\n",
       "    </tr>\n",
       "    <tr>\n",
       "      <th rowspan=\"5\" valign=\"top\">2013</th>\n",
       "      <th>ARG</th>\n",
       "      <td>2</td>\n",
       "      <td>2</td>\n",
       "      <td>NaN</td>\n",
       "      <td>1.047065</td>\n",
       "      <td>51.078024</td>\n",
       "      <td>75.986098</td>\n",
       "      <td>63.834426</td>\n",
       "      <td>0</td>\n",
       "    </tr>\n",
       "    <tr>\n",
       "      <th>CAF</th>\n",
       "      <td>7</td>\n",
       "      <td>7</td>\n",
       "      <td>NaN</td>\n",
       "      <td>1.954537</td>\n",
       "      <td>50.720342</td>\n",
       "      <td>49.879878</td>\n",
       "      <td>56.420965</td>\n",
       "      <td>1</td>\n",
       "    </tr>\n",
       "    <tr>\n",
       "      <th>EGY</th>\n",
       "      <td>5</td>\n",
       "      <td>6</td>\n",
       "      <td>NaN</td>\n",
       "      <td>2.254326</td>\n",
       "      <td>49.487699</td>\n",
       "      <td>70.925780</td>\n",
       "      <td>62.240369</td>\n",
       "      <td>0</td>\n",
       "    </tr>\n",
       "    <tr>\n",
       "      <th>FJI</th>\n",
       "      <td>4</td>\n",
       "      <td>6</td>\n",
       "      <td>NaN</td>\n",
       "      <td>0.721403</td>\n",
       "      <td>49.063189</td>\n",
       "      <td>69.917927</td>\n",
       "      <td>65.713066</td>\n",
       "      <td>0</td>\n",
       "    </tr>\n",
       "    <tr>\n",
       "      <th>GIN</th>\n",
       "      <td>5</td>\n",
       "      <td>5</td>\n",
       "      <td>NaN</td>\n",
       "      <td>2.714272</td>\n",
       "      <td>49.891009</td>\n",
       "      <td>58.216488</td>\n",
       "      <td>54.003724</td>\n",
       "      <td>0</td>\n",
       "    </tr>\n",
       "  </tbody>\n",
       "</table>\n",
       "</div>"
      ],
      "text/plain": [
       "                  civil_liberties  political_rights  female_legislators  \\\n",
       "year countrycode                                                          \n",
       "2008 FJI                        4                 6                 NaN   \n",
       "     GIN                        5                 7                 NaN   \n",
       "     LUX                        1                 1                23.3   \n",
       "     MMR                        7                 7                 NaN   \n",
       "     SSD                      NaN               NaN                 NaN   \n",
       "     TKM                        7                 7                 NaN   \n",
       "     VUT                        2                 2                 3.8   \n",
       "2009 FJI                        4                 6                 NaN   \n",
       "     GIN                        6                 7                 NaN   \n",
       "     LUX                        1                 1                20.0   \n",
       "     MDG                        4                 6                 NaN   \n",
       "     MMR                        7                 7                 NaN   \n",
       "     SSD                      NaN               NaN                 NaN   \n",
       "     VUT                        2                 2                 3.8   \n",
       "     WSM                        2                 2                 8.2   \n",
       "2010 FJI                        4                 6                 NaN   \n",
       "     GIN                        5                 5                 NaN   \n",
       "     LUX                        1                 1                20.0   \n",
       "     NER                        4                 5                 NaN   \n",
       "     SSD                      NaN               NaN                 NaN   \n",
       "     TZA                        3                 3                 NaN   \n",
       "2011 FJI                        4                 6                 NaN   \n",
       "     GIN                        5                 5                 NaN   \n",
       "     HRV                        2                 1                23.8   \n",
       "     LBY                        6                 7                 NaN   \n",
       "     LUX                        1                 1                25.0   \n",
       "     ZAR                        6                 6                 NaN   \n",
       "2012 FJI                        4                 6                 NaN   \n",
       "     GHA                        2                 1                 NaN   \n",
       "     GIN                        5                 5                 NaN   \n",
       "     LKA                        4                 5                 5.8   \n",
       "     LUX                        1                 1                21.7   \n",
       "2013 ARG                        2                 2                 NaN   \n",
       "     CAF                        7                 7                 NaN   \n",
       "     EGY                        5                 6                 NaN   \n",
       "     FJI                        4                 6                 NaN   \n",
       "     GIN                        5                 5                 NaN   \n",
       "\n",
       "                  population_growth  population_female  life_expectancy  \\\n",
       "year countrycode                                                          \n",
       "2008 FJI                   1.010417          48.947707        69.022024   \n",
       "     GIN                   2.671069          49.966108        54.777585   \n",
       "     LUX                   1.787497          50.493425        80.539024   \n",
       "     MMR                   0.651129          51.176312        64.367610   \n",
       "     SSD                   4.362664          50.051550        52.593317   \n",
       "     TKM                   1.213341          50.724437        64.756073   \n",
       "     VUT                   2.416066          49.142388        70.254756   \n",
       "2009 FJI                   1.020386          48.947824        69.202854   \n",
       "     GIN                   2.728375          49.955495        55.556146   \n",
       "     LUX                   1.851775          50.416014        80.636585   \n",
       "     MDG                   2.814994          50.195519        62.918171   \n",
       "     MMR                   0.663518          51.184720        64.643561   \n",
       "     SSD                   4.403674          50.032723        53.122659   \n",
       "     VUT                   2.388536          49.191878        70.555829   \n",
       "     WSM                   0.684525          48.396318        72.130683   \n",
       "2010 FJI                   0.946142          48.959593        69.384366   \n",
       "     GIN                   2.730597          49.942592        56.305049   \n",
       "     LUX                   1.825406          50.324776        80.631707   \n",
       "     NER                   3.878552          49.658200        58.259000   \n",
       "     SSD                   4.404235          50.013787        53.664902   \n",
       "     TZA                   3.174634          50.346737        61.625610   \n",
       "2011 FJI                   0.853949          48.983832        69.565000   \n",
       "     GIN                   2.722622          49.926862        57.000537   \n",
       "     HRV                        NaN          51.791799        76.775610   \n",
       "     LBY                   0.365690          48.984059        71.683268   \n",
       "     LUX                   2.222661          50.218373        80.987805   \n",
       "     ZAR                   3.206612          50.189905        57.398634   \n",
       "2012 FJI                   0.784507          49.019742        69.743220   \n",
       "     GHA                   2.441273          50.452251        60.977024   \n",
       "     GIN                   2.723327          49.909307        57.637634   \n",
       "     LKA                        NaN          51.564191        74.068049   \n",
       "     LUX                   2.401542          50.101319        81.392683   \n",
       "2013 ARG                   1.047065          51.078024        75.986098   \n",
       "     CAF                   1.954537          50.720342        49.879878   \n",
       "     EGY                   2.254326          49.487699        70.925780   \n",
       "     FJI                   0.721403          49.063189        69.917927   \n",
       "     GIN                   2.714272          49.891009        58.216488   \n",
       "\n",
       "                  population_15_64  zscores  \n",
       "year countrycode                             \n",
       "2008 FJI                 65.706245        0  \n",
       "     GIN                 53.134073        0  \n",
       "     LUX                 67.877191      NaN  \n",
       "     MMR                 64.768113        0  \n",
       "     SSD                 52.863172      NaN  \n",
       "     TKM                 65.247102        0  \n",
       "     VUT                 57.801496      NaN  \n",
       "2009 FJI                 65.938529        0  \n",
       "     GIN                 53.333078        0  \n",
       "     LUX                 68.143119      NaN  \n",
       "     MDG                 53.386568        0  \n",
       "     MMR                 64.959838        1  \n",
       "     SSD                 53.048921      NaN  \n",
       "     VUT                 57.776170      NaN  \n",
       "     WSM                 56.466703      NaN  \n",
       "2010 FJI                 66.170903        0  \n",
       "     GIN                 53.550087        0  \n",
       "     LUX                 68.362969      NaN  \n",
       "     NER                 47.517486        0  \n",
       "     SSD                 53.276511      NaN  \n",
       "     TZA                 51.791172        0  \n",
       "2011 FJI                 66.001058        0  \n",
       "     GIN                 53.672867        0  \n",
       "     HRV                 66.783153        1  \n",
       "     LBY                 66.610428        0  \n",
       "     LUX                 68.642123      NaN  \n",
       "     ZAR                 50.620616        1  \n",
       "2012 FJI                 65.855257        0  \n",
       "     GHA                 57.553495        0  \n",
       "     GIN                 53.827375        0  \n",
       "     LKA                 66.774724        1  \n",
       "     LUX                 68.906004      NaN  \n",
       "2013 ARG                 63.834426        0  \n",
       "     CAF                 56.420965        1  \n",
       "     EGY                 62.240369        0  \n",
       "     FJI                 65.713066        0  \n",
       "     GIN                 54.003724        0  "
      ]
     },
     "execution_count": 13,
     "metadata": {},
     "output_type": "execute_result"
    }
   ],
   "source": [
    "#The rows to be dropped\n",
    "full_data[full_data.isnull().any(axis=1)]"
   ]
  },
  {
   "cell_type": "code",
   "execution_count": 14,
   "metadata": {
    "collapsed": true
   },
   "outputs": [],
   "source": [
    "full_data = full_data.dropna()"
   ]
  },
  {
   "cell_type": "code",
   "execution_count": 15,
   "metadata": {
    "collapsed": false,
    "scrolled": false
   },
   "outputs": [],
   "source": [
    "#Get Z scores of rows\n",
    "#for col in x_cols:\n",
    "#    full_data[col] = full_data[col].astype(float)\n",
    "#    full_data[col] = (full_data[col] - full_data[col].mean())/full_data[col].std(ddof=0)\n"
   ]
  },
  {
   "cell_type": "markdown",
   "metadata": {},
   "source": [
    "#### Get the score values WITHOUT cross validating "
   ]
  },
  {
   "cell_type": "code",
   "execution_count": 16,
   "metadata": {
    "collapsed": false
   },
   "outputs": [],
   "source": [
    "def getScoreValues(X_train, \n",
    "                   X_test, \n",
    "                   y_train, \n",
    "                   y_test, \n",
    "                   model=KNeighborsClassifier(n_neighbors=6), \n",
    "                   verbose=True, \n",
    "                   get_features=True,\n",
    "                   get_prediction=False\n",
    "                  ):\n",
    "    y_test_index=y_test.index\n",
    "    \n",
    "    model = model\n",
    "    model.fit(X_train, y_train)\n",
    "    y_pred = model.predict(X_test)\n",
    "    \n",
    "    accuracy_score_value = accuracy_score(y_test, y_pred)\n",
    "    precision_score_value = precision_score(y_test, y_pred)\n",
    "    recall_score_value = recall_score(y_test, y_pred)\n",
    "    f1_score_value = f1_score(y_test, y_pred)  \n",
    "    roc_auc_value = roc_auc_score(y_test,y_pred)\n",
    "    \n",
    "    feature_importances = None\n",
    "    if get_features:\n",
    "        try:\n",
    "            feature_importances = model.feature_importances_\n",
    "            #print(feature_importances)\n",
    "        except AttributeError:\n",
    "            pass\n",
    "    \n",
    "    if verbose:\n",
    "        #print(pd.concat([y_test,pd.Series(y_pred, index=y_test.index)], axis = 1))\n",
    "        print('Accuracy: {}\\nPrecision: {}\\nRecall: {}\\nf1: {}\\nROC AUC: ()'.format(accuracy_score_value, \\\n",
    "                                                                       precision_score_value, \\\n",
    "                                                                       recall_score_value, \\\n",
    "                                                                       f1_score_value, \\\n",
    "                                                                       roc_auc_value))\n",
    "    elif get_prediction:\n",
    "        y_pred=pd.Series(y_pred, index=y_test_index)\n",
    "        return y_pred\n",
    "        \n",
    "    else:\n",
    "        return accuracy_score_value, \\\n",
    "               precision_score_value, \\\n",
    "               recall_score_value, \\\n",
    "               f1_score_value, \\\n",
    "               roc_auc_value, \\\n",
    "               feature_importances"
   ]
  },
  {
   "cell_type": "code",
   "execution_count": 81,
   "metadata": {
    "collapsed": false
   },
   "outputs": [],
   "source": [
    "X = full_data[x_cols]\n",
    "y = full_data['zscores']\n",
    "\n",
    "\n",
    "X_train, X_test, y_train, y_test = train_test_split(X, y, test_size = .30, random_state=4444)"
   ]
  },
  {
   "cell_type": "code",
   "execution_count": 18,
   "metadata": {
    "collapsed": false
   },
   "outputs": [
    {
     "name": "stdout",
     "output_type": "stream",
     "text": [
      "Accuracy: 0.9015873015873016\n",
      "Precision: 0.64\n",
      "Recall: 0.7111111111111111\n",
      "f1: 0.6736842105263158\n",
      "ROC AUC: ()\n"
     ]
    }
   ],
   "source": [
    "getScoreValues(X_train, X_test, y_train, y_test, DecisionTreeClassifier())"
   ]
  },
  {
   "cell_type": "code",
   "execution_count": 19,
   "metadata": {
    "collapsed": false
   },
   "outputs": [
    {
     "name": "stdout",
     "output_type": "stream",
     "text": [
      "Accuracy: 0.8571428571428571\n",
      "Precision: 0.0\n",
      "Recall: 0.0\n",
      "f1: 0.0\n",
      "ROC AUC: ()\n"
     ]
    },
    {
     "name": "stderr",
     "output_type": "stream",
     "text": [
      "/Users/kenn/anaconda/lib/python3.5/site-packages/sklearn/metrics/classification.py:1074: UndefinedMetricWarning: Precision is ill-defined and being set to 0.0 due to no predicted samples.\n",
      "  'precision', 'predicted', average, warn_for)\n",
      "/Users/kenn/anaconda/lib/python3.5/site-packages/sklearn/metrics/classification.py:1074: UndefinedMetricWarning: F-score is ill-defined and being set to 0.0 due to no predicted samples.\n",
      "  'precision', 'predicted', average, warn_for)\n"
     ]
    }
   ],
   "source": [
    "getScoreValues(X_train, X_test, y_train, y_test, BernoulliNB())"
   ]
  },
  {
   "cell_type": "code",
   "execution_count": 20,
   "metadata": {
    "collapsed": false
   },
   "outputs": [
    {
     "name": "stdout",
     "output_type": "stream",
     "text": [
      "Accuracy: 0.7492063492063492\n",
      "Precision: 0.3111111111111111\n",
      "Recall: 0.6222222222222222\n",
      "f1: 0.4148148148148148\n",
      "ROC AUC: ()\n"
     ]
    }
   ],
   "source": [
    "getScoreValues(X_train, X_test, y_train, y_test, GaussianNB())"
   ]
  },
  {
   "cell_type": "code",
   "execution_count": 21,
   "metadata": {
    "collapsed": false
   },
   "outputs": [
    {
     "name": "stdout",
     "output_type": "stream",
     "text": [
      "Accuracy: 0.9238095238095239\n",
      "Precision: 0.8\n",
      "Recall: 0.6222222222222222\n",
      "f1: 0.7000000000000001\n",
      "ROC AUC: ()\n"
     ]
    }
   ],
   "source": [
    "getScoreValues(X_train, X_test, y_train, y_test, model=SVC())"
   ]
  },
  {
   "cell_type": "code",
   "execution_count": 22,
   "metadata": {
    "collapsed": false
   },
   "outputs": [
    {
     "name": "stdout",
     "output_type": "stream",
     "text": [
      "Accuracy: 0.9206349206349206\n",
      "Precision: 0.8125\n",
      "Recall: 0.5777777777777777\n",
      "f1: 0.6753246753246752\n",
      "ROC AUC: ()\n"
     ]
    }
   ],
   "source": [
    "getScoreValues(X_train, X_test, y_train, y_test, model=RandomForestClassifier())"
   ]
  },
  {
   "cell_type": "markdown",
   "metadata": {},
   "source": [
    "#### Print the ROC curve for a model"
   ]
  },
  {
   "cell_type": "code",
   "execution_count": 23,
   "metadata": {
    "collapsed": true
   },
   "outputs": [],
   "source": [
    "def getROCcurve(X_train, X_test, y_train, y_test, model=KNeighborsClassifier(n_neighbors=6)):\n",
    "    model = model\n",
    "    model.fit(X_train, y_train)\n",
    "    y_scores = model.predict_proba(X_test)[:,1]\n",
    "    fpr, tpr, thresholds = roc_curve(y_test, y_scores)\n",
    "\n",
    "    auc = roc_auc_score(y_test, y_scores)\n",
    "    print('AUC: {}'.format(auc))\n",
    "    \n",
    "    fig,ax = plt.subplots()\n",
    "    ax.plot(fpr, tpr, label='ROC Curve')\n",
    "\n",
    "    fig.set_size_inches(12, 8, forward=True)\n",
    "    plt.xlabel('FPR')\n",
    "    plt.ylabel('TPR')\n",
    "    plt.title('ROC Curve')\n",
    "    plt.legend(loc='best')"
   ]
  },
  {
   "cell_type": "code",
   "execution_count": 24,
   "metadata": {
    "collapsed": false,
    "scrolled": false
   },
   "outputs": [
    {
     "name": "stdout",
     "output_type": "stream",
     "text": [
      "AUC: 0.9665020576131689\n"
     ]
    },
    {
     "data": {
      "image/png": "[encoded data removed]",
      "text/plain": [
       "<matplotlib.figure.Figure at 0x10cacdef0>"
      ]
     },
     "metadata": {},
     "output_type": "display_data"
    }
   ],
   "source": [
    "getROCcurve(X_train, X_test, y_train, y_test, model=RandomForestClassifier())"
   ]
  },
  {
   "cell_type": "markdown",
   "metadata": {},
   "source": [
    "#### Cross Validate and Return Scores "
   ]
  },
  {
   "cell_type": "code",
   "execution_count": 25,
   "metadata": {
    "collapsed": true
   },
   "outputs": [],
   "source": [
    "def getScoreValuesByCV(X, y, model=KNeighborsClassifier(n_neighbors=1)):\n",
    "    \n",
    "    accuracy_score_value = np.mean(cross_val_score(model, X, y, scoring='accuracy', cv=5))\n",
    "    precision_score_value = np.mean(cross_val_score(model, X, y, scoring='precision', cv=5))\n",
    "    recall_score_value = np.mean(cross_val_score(model, X, y, scoring='recall', cv=5))\n",
    "    f1_score_value = np.mean(cross_val_score(model, X, y, scoring='f1', cv=5))\n",
    "    roc_auc_value = np.mean(cross_val_score(model, X, y, scoring='roc_auc', cv=5))\n",
    "    #roc_auc_value = 0  \n",
    "        \n",
    "    print('Accuracy: {}\\nPrecision: {}\\nRecall: {}\\nf1: {}\\nROC AUC: {}'.format(accuracy_score_value, \\\n",
    "                                                                   precision_score_value, \\\n",
    "                                                                   recall_score_value, \\\n",
    "                                                                   f1_score_value,\n",
    "                                                                   roc_auc_value))"
   ]
  },
  {
   "cell_type": "code",
   "execution_count": 26,
   "metadata": {
    "collapsed": false,
    "scrolled": false
   },
   "outputs": [
    {
     "name": "stdout",
     "output_type": "stream",
     "text": [
      "Accuracy: 0.9647202884419148\n",
      "Precision: 0.8726392961876833\n",
      "Recall: 0.897983870967742\n",
      "f1: 0.8842950890033432\n",
      "ROC AUC: 0.9372192909543374\n"
     ]
    }
   ],
   "source": [
    "getScoreValuesByCV(X,y)"
   ]
  },
  {
   "cell_type": "code",
   "execution_count": 27,
   "metadata": {
    "collapsed": false,
    "scrolled": false
   },
   "outputs": [
    {
     "name": "stdout",
     "output_type": "stream",
     "text": [
      "Accuracy: 0.9418172747681351\n",
      "Precision: 0.8896856118791602\n",
      "Recall: 0.70625\n",
      "f1: 0.8036990595611286\n",
      "ROC AUC: 0.9663149967804706\n"
     ]
    }
   ],
   "source": [
    "getScoreValuesByCV(X,y, model=RandomForestClassifier())"
   ]
  },
  {
   "cell_type": "code",
   "execution_count": 28,
   "metadata": {
    "collapsed": false
   },
   "outputs": [
    {
     "name": "stdout",
     "output_type": "stream",
     "text": [
      "Accuracy: 0.7207147554366313\n",
      "Precision: 0.28659782556715907\n",
      "Recall: 0.5798387096774194\n",
      "f1: 0.38337993592387665\n",
      "ROC AUC: 0.7184708855325689\n"
     ]
    }
   ],
   "source": [
    "getScoreValuesByCV(X,y, model=GaussianNB())"
   ]
  },
  {
   "cell_type": "code",
   "execution_count": 29,
   "metadata": {
    "collapsed": false,
    "scrolled": false
   },
   "outputs": [
    {
     "name": "stdout",
     "output_type": "stream",
     "text": [
      "Accuracy: 0.9380348760742873\n",
      "Precision: 0.7992702661826981\n",
      "Recall: 0.7764112903225807\n",
      "f1: 0.786481114341947\n",
      "ROC AUC: 0.8739588543132581\n"
     ]
    }
   ],
   "source": [
    "getScoreValuesByCV(X,y, model=DecisionTreeClassifier())"
   ]
  },
  {
   "cell_type": "code",
   "execution_count": 30,
   "metadata": {
    "collapsed": false,
    "scrolled": false
   },
   "outputs": [
    {
     "name": "stdout",
     "output_type": "stream",
     "text": [
      "Accuracy: 0.8656069298623551\n",
      "Precision: 1.0\n",
      "Recall: 0.10221774193548387\n",
      "f1: 0.18270944741532977\n",
      "ROC AUC: 0.7414836360838375\n"
     ]
    }
   ],
   "source": [
    "getScoreValuesByCV(X,y, model=LogisticRegression())"
   ]
  },
  {
   "cell_type": "markdown",
   "metadata": {},
   "source": [
    "## Modeling with Over Sampling of Training Set"
   ]
  },
  {
   "cell_type": "code",
   "execution_count": 31,
   "metadata": {
    "collapsed": true
   },
   "outputs": [],
   "source": [
    "def oversample_data(X_t, y_t, ratio):\n",
    "    x_columns = X_t.columns\n",
    "    \n",
    "    X_t = X_t.reset_index(drop=True).as_matrix()\n",
    "    y_t = y_t.reset_index(drop=True).as_matrix()\n",
    "\n",
    "    smote = OverSampler(ratio=ratio, verbose=False)\n",
    "    smox, smoy = smote.fit_transform(X_t, y_t)\n",
    "    X_t = pd.DataFrame(smox, columns=x_columns)\n",
    "    y_t = pd.Series(smoy)\n",
    "    return X_t, y_t\n"
   ]
  },
  {
   "cell_type": "code",
   "execution_count": 32,
   "metadata": {
    "collapsed": false
   },
   "outputs": [],
   "source": [
    "X = full_data[x_cols]\n",
    "y = full_data['zscores']\n",
    "\n",
    "X_train, X_test, y_train, y_test = train_test_split(X, y, test_size = .30, random_state=4444)"
   ]
  },
  {
   "cell_type": "code",
   "execution_count": 33,
   "metadata": {
    "collapsed": false
   },
   "outputs": [],
   "source": [
    "verbose = False\n",
    "ratio = float(y.value_counts()[0]) / float(y.value_counts()[1])\n",
    "\n",
    "X_train, y_train = oversample_data(X_train, y_train, ratio)"
   ]
  },
  {
   "cell_type": "code",
   "execution_count": 34,
   "metadata": {
    "collapsed": false
   },
   "outputs": [
    {
     "name": "stdout",
     "output_type": "stream",
     "text": [
      "Accuracy: 0.8825396825396825\n",
      "Precision: 0.5571428571428572\n",
      "Recall: 0.8666666666666667\n",
      "f1: 0.6782608695652174\n",
      "ROC AUC: ()\n"
     ]
    }
   ],
   "source": [
    "getScoreValues(X_train, X_test, y_train, y_test)"
   ]
  },
  {
   "cell_type": "code",
   "execution_count": 35,
   "metadata": {
    "collapsed": false
   },
   "outputs": [
    {
     "name": "stdout",
     "output_type": "stream",
     "text": [
      "Accuracy: 0.9619047619047619\n",
      "Precision: 0.8837209302325582\n",
      "Recall: 0.8444444444444444\n",
      "f1: 0.8636363636363636\n",
      "ROC AUC: ()\n"
     ]
    }
   ],
   "source": [
    "getScoreValues(X_train, X_test, y_train, y_test, model=RandomForestClassifier())"
   ]
  },
  {
   "cell_type": "code",
   "execution_count": 36,
   "metadata": {
    "collapsed": false
   },
   "outputs": [
    {
     "name": "stdout",
     "output_type": "stream",
     "text": [
      "Accuracy: 0.7873015873015873\n",
      "Precision: 0.21052631578947367\n",
      "Recall: 0.17777777777777778\n",
      "f1: 0.19277108433734938\n",
      "ROC AUC: ()\n"
     ]
    }
   ],
   "source": [
    "getScoreValues(X_train, X_test, y_train, y_test, model=BernoulliNB())"
   ]
  },
  {
   "cell_type": "code",
   "execution_count": 37,
   "metadata": {
    "collapsed": false,
    "scrolled": true
   },
   "outputs": [
    {
     "name": "stdout",
     "output_type": "stream",
     "text": [
      "Accuracy: 0.6126984126984127\n",
      "Precision: 0.22302158273381295\n",
      "Recall: 0.6888888888888889\n",
      "f1: 0.3369565217391305\n",
      "ROC AUC: ()\n"
     ]
    }
   ],
   "source": [
    "getScoreValues(X_train, X_test, y_train, y_test, model=GaussianNB())"
   ]
  },
  {
   "cell_type": "code",
   "execution_count": 38,
   "metadata": {
    "collapsed": false
   },
   "outputs": [
    {
     "name": "stdout",
     "output_type": "stream",
     "text": [
      "Accuracy: 0.9206349206349206\n",
      "Precision: 0.7083333333333334\n",
      "Recall: 0.7555555555555555\n",
      "f1: 0.7311827956989247\n",
      "ROC AUC: ()\n"
     ]
    }
   ],
   "source": [
    "getScoreValues(X_train, X_test, y_train, y_test, model=DecisionTreeClassifier())"
   ]
  },
  {
   "cell_type": "code",
   "execution_count": 39,
   "metadata": {
    "collapsed": false,
    "scrolled": false
   },
   "outputs": [
    {
     "name": "stdout",
     "output_type": "stream",
     "text": [
      "Accuracy: 0.6666666666666666\n",
      "Precision: 0.23214285714285715\n",
      "Recall: 0.5777777777777777\n",
      "f1: 0.33121019108280253\n",
      "ROC AUC: ()\n"
     ]
    }
   ],
   "source": [
    "getScoreValues(X_train, X_test, y_train, y_test, model=LogisticRegression())"
   ]
  },
  {
   "cell_type": "markdown",
   "metadata": {},
   "source": [
    "## Confusion Matrix"
   ]
  },
  {
   "cell_type": "code",
   "execution_count": 40,
   "metadata": {
    "collapsed": true
   },
   "outputs": [],
   "source": [
    "def plot_confusion_matrix(cm, title='Confusion matrix', cmap=plt.cm.Blues):\n",
    "    plt.imshow(cm, interpolation='nearest', cmap=cmap)\n",
    "    plt.title(title)\n",
    "    plt.colorbar()\n",
    "    plt.grid(False)\n",
    "    tick_marks = np.arange(2)\n",
    "    plt.xticks(tick_marks, ['Not at Risk', 'At Risk'], rotation=45)\n",
    "    plt.yticks(tick_marks, ['Not at Risk', 'At Risk'])\n",
    "    plt.tight_layout()\n",
    "    plt.ylabel('True label')\n",
    "    plt.xlabel('Predicted label')"
   ]
  },
  {
   "cell_type": "markdown",
   "metadata": {},
   "source": [
    "### Getting Ken C.'s tableau pickle"
   ]
  },
  {
   "cell_type": "code",
   "execution_count": 192,
   "metadata": {
    "collapsed": true
   },
   "outputs": [],
   "source": [
    "def getpickle(filename):\n",
    "\n",
    "    try:\n",
    "        with open(filename, 'rb') as picklefile:\n",
    "            return pickle.load(picklefile)\n",
    "    except:\n",
    "        return 'There was an error trying to read this file.  Please check the filename or path.'"
   ]
  },
  {
   "cell_type": "code",
   "execution_count": 193,
   "metadata": {
    "collapsed": false
   },
   "outputs": [],
   "source": [
    "colors = getpickle('../security/tableaucolors.pkl')"
   ]
  },
  {
   "cell_type": "markdown",
   "metadata": {},
   "source": [
    "## Cross validate with or without oversampling"
   ]
  },
  {
   "cell_type": "markdown",
   "metadata": {},
   "source": [
    "## getCrossValScoresBySSS\n",
    "\n",
    "This class is instantiated by doing the following:\n",
    "    \n",
    "    yourinstance = getCrossValScoresBySSS(X, y, test_size=0.3, n_iter=30)\n",
    "    \n",
    "Where:\n",
    "* X is a pandas dataframe of the features\n",
    "* y is a series of the classifiers\n",
    "* test_size is the test size for the train/test splits\n",
    "* n_iter is the number of iterations for cross validation\n",
    "\n",
    "This object has the following methods:\n",
    "\n",
    "    yourinstance.get_multi_models(oversample=True, year=None, year_delta=0)\n",
    "    \n",
    "    yourinstance.get_single_model(model=KNeighborsClassifier(n_neighbors=2), oversample=True, year=None, year_delta,  get_models_avg=False, get_features=True, get_cm=False, verbose=True)\n",
    "    \n",
    "    future_crisis_countries(model=KNeighborsClassifier(n_neighbors=2), oversample=True,year=None,year_delta=0)\n",
    "\n",
    "### get_multi_models\n",
    "\n",
    "    yourinstance.get_multi_models(oversample=True, year=None, year_delta=0)\n",
    "\n",
    "Where:\n",
    "* oversample is a boolean that determines if SMOTE should be performed on the training sets for each cross validation\n",
    "* year is the starting year for which features will be examined\n",
    "* year_delta is used in the equation predicted_year = year + year_delta \n",
    "\n",
    "This returns a dataframe with the Accuracy, Precision, Recall, F1, and ROC AUC scores for various models.\n",
    "\n",
    "### get_single_model\n",
    "\n",
    "    yourinstance.get_single_model(model=KNeighborsClassifier(n_neighbors=2), oversample=True, year=None, year_delta=0,  get_features=True, get_cm=False, verbose=True)\n",
    "    \n",
    "Where:\n",
    "* model is the model to be attempted on the data\n",
    "* oversample is a boolean that determines if SMOTE should be performed on the training sets for each cross validation\n",
    "* year is the starting year for which features will be examined\n",
    "* year_delta is used in the equation predicted_year = year + year_delta \n",
    "* get_features is a boolean value. If True it will attempt to get the feature importances of the model.\n",
    "* get_cm is a boolean value. If True it will output a confusion matrix of the model (or the average prediction).\n",
    "* verbose is a boolean value. If True it will print out the score values for Accuracy, Precision, Recall, F1, and ROC AUC. If False it will just return them.\n",
    "\n",
    "### future_crisis_countries\n",
    "\n",
    "    future_crisis_countries(model=KNeighborsClassifier(n_neighbors=2), oversample=True,year=None,year_delta=0)\n",
    "\n",
    "Where:\n",
    "* model is the model to be attempted on the data\n",
    "* oversample is a boolean that determines if SMOTE should be performed on the training sets for each cross validation\n",
    "* year is the starting year for which features will be examined\n",
    "* year_delta is used in the equation predicted_year = year + year_delta \n"
   ]
  },
  {
   "cell_type": "code",
   "execution_count": 214,
   "metadata": {
    "collapsed": false
   },
   "outputs": [],
   "source": [
    "class getCrossValScoresBySSS(object):\n",
    "    \n",
    "    def __init__(self, \n",
    "                 local_X, \n",
    "                 local_y,\n",
    "                 test_size=0.3,\n",
    "                 n_iter=50\n",
    "                ):\n",
    "        self.model_list = [\\\n",
    "                          KNeighborsClassifier(n_neighbors=2), \\\n",
    "                          SVC(gamma=1, C=10, kernel='rbf'), \\\n",
    "                          SVC(),\\\n",
    "                          LogisticRegression(), \\\n",
    "                          BernoulliNB(), \\\n",
    "                          GaussianNB(), \\\n",
    "                          RandomForestClassifier(n_estimators=30), \\\n",
    "                          DecisionTreeClassifier() \\\n",
    "                          ]\n",
    "        \n",
    "        self.index_func = [\\\n",
    "                          'KNeighborsClassifier(n_neighbors=2)', \\\n",
    "                          'SVC(gamma=1, C=10, kernel=\\'rbf\\')', \\\n",
    "                          'SVC()',\\\n",
    "                          'LogisticRegression()', \\\n",
    "                          'BernoulliNB()', \\\n",
    "                          'GaussianNB()', \\\n",
    "                          'RandomForestClassifier(n_estimators=30)', \\\n",
    "                          'DecisionTreeClassifier()' \\\n",
    "                          ]\n",
    "        \n",
    "        self.initialize_scores()\n",
    "        self.score_dict = {}\n",
    "        self.colors =  getpickle('../security/tableaucolors.pkl')\n",
    "        self.X = local_X\n",
    "        self.y = local_y\n",
    "        self.x_cols = list(local_X.columns)\n",
    "        self.ratio = float(local_y.value_counts()[0]) / (float(local_y.value_counts()[1]))\n",
    "        self.sss = StratifiedShuffleSplit(y, n_iter=n_iter, test_size=test_size)\n",
    "    \n",
    "    def initialize_scores(self):\n",
    "        self.acc_array = []\n",
    "        self.prec_array = []\n",
    "        self.recall_array = []\n",
    "        self.f1_array = []\n",
    "        self.roc_auc_array = []\n",
    "        self.feature_imp_array = []\n",
    "        \n",
    "    def get_cm_pred(self, model, X_t, y_t, X_ts):\n",
    "        temp_model = model\n",
    "        temp_model.fit(X_t, y_t)\n",
    "        y_pd = temp_model.predict(X_ts)\n",
    "        return y_pd\n",
    "    \n",
    "    def test_conversion_for_year(self, year, y_delta):\n",
    "        #try:\n",
    "            new_year = year+y_delta\n",
    "            X_columns = self.X.columns\n",
    "            X_te = self.X.loc[year, :]\n",
    "            y_te = self.y.loc[new_year, :]\n",
    "            y_te = y_te.reset_index('countrycode').reset_index(drop=True).set_index('countrycode')\n",
    "            full = pd.concat([X_te, y_te], axis=1)\n",
    "            full = full.dropna()\n",
    "            X_te = full[X_columns]\n",
    "            y_te = full['zscores']\n",
    "            return X_te, y_te\n",
    "\n",
    "        #except:\n",
    "         #   print('Bad Year')\n",
    "    \n",
    "    def set_score_arrays(self, oversample, year, year_delta, model, get_features):\n",
    "        for train_index, test_index in self.sss:\n",
    "            #print(\"TRAIN:\", train_index, \"TEST:\", test_index)\n",
    "            X_train, X_test = X.ix[train_index], X.ix[test_index]\n",
    "            y_train, y_test = y.ix[train_index], y.ix[test_index]\n",
    "            \n",
    "            #remove data of test year and all years after from train set\n",
    "            if year != None: \n",
    "                X_train = X_train.loc[X_train.index.get_level_values('year') < year+year_delta]\n",
    "                y_train = y_train.loc[y_train.index.get_level_values('year') < year+year_delta]\n",
    "                X_test, y_test = self.test_conversion_for_year(year=year, y_delta=year_delta)\n",
    "\n",
    "            if oversample:\n",
    "                X_train, y_train = oversample_data(X_train, y_train, self.ratio)\n",
    "\n",
    "            accuracy_score_value, precision_score_value, \\\n",
    "            recall_score_value, f1_score_value, roc_auc_value, \\\n",
    "            feature_importances = getScoreValues(X_train,\n",
    "                                                 X_test,\n",
    "                                                 y_train,\n",
    "                                                 y_test,\n",
    "                                                 model=model,\n",
    "                                                 verbose=False,\n",
    "                                                 get_features=get_features)\n",
    "\n",
    "            self.acc_array.append(accuracy_score_value)\n",
    "            self.prec_array.append(precision_score_value)\n",
    "            self.recall_array.append(recall_score_value)\n",
    "            self.f1_array.append(f1_score_value)\n",
    "            self.roc_auc_array.append(roc_auc_value)\n",
    "            self.feature_imp_array.append(feature_importances)\n",
    "            \n",
    "    def multi_plot_multi_model_metrics(self):\n",
    "        index = list(range(len(self.model_list)))\n",
    "        bw = 0.35\n",
    "        score_list = ['Accuracy', 'Precision', 'Recall', 'F1', 'ROCAUC']\n",
    "        \n",
    "        plt.figure(figsize=(18,5))\n",
    "        \n",
    "        for j, scoring in enumerate(score_list):\n",
    "            ax = plt.subplot(151 + j)\n",
    "            ax.spines['right'].set_visible(False)\n",
    "            ax.spines['top'].set_visible(False)\n",
    "            sns.set_style(\"whitegrid\")\n",
    "\n",
    "            plt.bar(index, self.score_dict[scoring], bw, \n",
    "                    align = 'center', \n",
    "                    #color = colors[(i*2)], \n",
    "                    alpha = 0.6, \n",
    "                    label = self.index_func)\n",
    "\n",
    "            plt.title(scoring, fontsize=15, fontweight='bold')\n",
    "            plt.xticks(index, self.index_func, rotation='vertical')\n",
    "            plt.ylim(0.0, 1.1)\n",
    "            if j == 0:\n",
    "                plt.ylabel('Score',fontsize=20, fontweight='bold')\n",
    "            #if j == 4:\n",
    "            #    plt.legend()\n",
    "            plt.grid(False)\n",
    "            \n",
    "    def single_plot_multi_model_metrics(self):\n",
    "        default_index = list(range(len(self.model_list)))\n",
    "        bw = 0.15\n",
    "        score_list = ['Accuracy', 'Precision', 'Recall', 'F1', 'ROCAUC']\n",
    "        \n",
    "        plt.figure(figsize=(18,5))\n",
    "        \n",
    "        for j,scoring in enumerate(score_list):\n",
    "            ax = plt.subplot(111)\n",
    "            ax.spines['right'].set_visible(False)\n",
    "            ax.spines['top'].set_visible(False)\n",
    "            sns.set_style(\"whitegrid\")\n",
    "            \n",
    "            index = [i+bw*j for i in default_index]\n",
    "            plt.bar(index, self.score_dict[scoring], bw, \n",
    "                    align = 'center', \n",
    "                    color = self.colors[(3+j)], \n",
    "                    alpha = 0.6, \n",
    "                    label = scoring)\n",
    "\n",
    "            plt.title('Scores for Different Models', fontsize=15, fontweight='bold')\n",
    "            tick_location = [i for i in default_index]\n",
    "            plt.xticks(tick_location, self.index_func, rotation=60)\n",
    "            plt.ylim(0.0, 1.1)\n",
    "            if j == 0:\n",
    "                plt.ylabel('Score',fontsize=20, fontweight='bold')\n",
    "            if j == 4:\n",
    "                plt.legend(loc='best')\n",
    "            plt.grid(False)\n",
    "\n",
    "    def get_multi_models(self,\n",
    "                         oversample=True,\n",
    "                         year=None,\n",
    "                         year_delta=0,\n",
    "                         make_single_plot=False,\n",
    "                         make_multi_plots=False\n",
    "                        ):\n",
    "        self.score_dict = {}\n",
    "        models_acc = []\n",
    "        models_prec = []\n",
    "        models_rec = []\n",
    "        models_f1 = []\n",
    "        models_roc_auc = []\n",
    "        \n",
    "        col_names = ['Accuracy', 'Precision', 'Recall', 'F1', 'ROCAUC']\n",
    "        \n",
    "        for a_model in self.model_list:\n",
    "            self.initialize_scores()\n",
    "            \n",
    "            self.set_score_arrays(oversample=oversample,\n",
    "                                  year=year,\n",
    "                                  year_delta=year_delta,\n",
    "                                  model=a_model,\n",
    "                                  get_features=False)\n",
    "                \n",
    "            mean_acc = np.mean(self.acc_array)\n",
    "            mean_prec = np.mean(self.prec_array)\n",
    "            mean_recall = np.mean(self.recall_array)\n",
    "            mean_f1 = np.mean(self.f1_array)\n",
    "            mean_roc_auc = np.mean(self.roc_auc_array)\n",
    "            \n",
    "            models_acc.append(mean_acc)\n",
    "            models_prec.append(mean_prec)\n",
    "            models_rec.append(mean_recall)\n",
    "            models_f1.append(mean_f1)\n",
    "            models_roc_auc.append(mean_roc_auc)\n",
    "            \n",
    "        self.score_dict['Accuracy'] = models_acc\n",
    "        self.score_dict['Precision'] = models_prec\n",
    "        self.score_dict['Recall'] = models_rec\n",
    "        self.score_dict['F1'] = models_f1\n",
    "        self.score_dict['ROCAUC'] = models_roc_auc\n",
    "        \n",
    "        if make_multi_plots:\n",
    "            self.plot_multi_model_metrics()\n",
    "        elif make_single_plot:\n",
    "            self.single_plot_multi_model_metrics()\n",
    "        \n",
    "        df = pd.DataFrame(self.score_dict, columns=col_names, index=self.index_func)\n",
    "        return df\n",
    "    \n",
    "    def get_single_model(self,\n",
    "                         model=KNeighborsClassifier(n_neighbors=2),\n",
    "                         oversample=True,\n",
    "                         year=None,\n",
    "                         year_delta=0,\n",
    "                         get_features=True,\n",
    "                         get_cm=False,\n",
    "                         verbose=True\n",
    "                        ):\n",
    "        \n",
    "        self.initialize_scores()\n",
    "        \n",
    "        self.set_score_arrays(oversample=oversample,\n",
    "                              year=year,\n",
    "                              year_delta=year_delta,\n",
    "                              model=model,\n",
    "                              get_features=get_features) \n",
    "            \n",
    "        if get_cm:\n",
    "            # For getting a confusion matrix of the last model in the cross validated set\n",
    "            y_pred = self.get_cm_pred(model, X_train, y_train, X_test)\n",
    "            cm = confusion_matrix(y_test, y_pred)\n",
    "            plt.figure()\n",
    "            plot_confusion_matrix(cm)\n",
    "\n",
    "        mean_acc = np.mean(self.acc_array)\n",
    "        mean_prec = np.mean(self.prec_array)\n",
    "        mean_recall = np.mean(self.recall_array)\n",
    "        mean_f1 = np.mean(self.f1_array)\n",
    "        mean_roc_auc = np.mean(self.roc_auc_array)\n",
    "        try:\n",
    "            mean_feature_imp = np.mean(self.feature_imp_array, axis=0)\n",
    "        except TypeError:\n",
    "            mean_feature_imp = None\n",
    "               \n",
    "        if verbose:\n",
    "            print('Avg Feature Importance: {}'.format(mean_feature_imp))\n",
    "            print('Accuracy: {}\\nPrecision: {}\\nRecall: {}\\nf1: {}\\nROC AUC: {}'.format(mean_acc, \\\n",
    "                                                                                        mean_prec, \\\n",
    "                                                                                        mean_recall,\\\n",
    "                                                                                        mean_f1, \\\n",
    "                                                                                        mean_roc_auc))\n",
    "\n",
    "        else:\n",
    "            return mean_acc, mean_prec, mean_recall, mean_f1, mean_roc_auc\n",
    "        \n",
    "    def future_crisis_countries(self,\n",
    "                                model=KNeighborsClassifier(n_neighbors=2),\n",
    "                                oversample=True,\n",
    "                                year=None,\n",
    "                                year_delta=0):\n",
    "        assert year != None\n",
    "        \n",
    "        for train_index, test_index in self.sss:\n",
    "            #print(\"TRAIN:\", train_index, \"TEST:\", test_index)\n",
    "            X_train, X_test = X.ix[train_index], X.ix[test_index]\n",
    "            y_train, y_test = y.ix[train_index], y.ix[test_index]\n",
    "            \n",
    "            #remove data of test year from train set\n",
    "            X_train = X_train.loc[X_train.index.get_level_values('year') < year+year_delta]\n",
    "            y_train = y_train.loc[y_train.index.get_level_values('year') < year+year_delta]\n",
    "            \n",
    "            #Year prior is used later as the comparison between the desired year and its year prior\n",
    "            _,year_prior = self.test_conversion_for_year(year=year, y_delta=(year_delta-1))\n",
    "            X_test, y_test = self.test_conversion_for_year(year=year, y_delta=year_delta)\n",
    "            \n",
    "            if oversample:\n",
    "                X_train, y_train = oversample_data(X_train, y_train, self.ratio)\n",
    "            \n",
    "            prediction = getScoreValues(X_train, \n",
    "                                       X_test, \n",
    "                                       y_train, \n",
    "                                       y_test, \n",
    "                                       model=model, \n",
    "                                       verbose=False, \n",
    "                                       get_features=False,\n",
    "                                       get_prediction=True\n",
    "                                      )\n",
    "            prediction_actual = deepcopy(y_test)\n",
    "            prediction_actual.name = 'prediction_actual'\n",
    "            year_prior.name='year_prior'\n",
    "            prediction.name='prediction'\n",
    "            compare_df = pd.concat([year_prior, prediction, prediction_actual], axis=1)\n",
    "            compare_df = compare_df.dropna()\n",
    "            compare_df['net'] = compare_df.year_prior.subtract(compare_df.prediction)\n",
    "            future_crisis = compare_df[compare_df.net < 0]\n",
    "            future_crisis = future_crisis[future_crisis.prediction_actual == 1]\n",
    "            print(future_crisis)\n",
    "            \n",
    "    def SVC_grid_search(self, oversample=True, year=None, year_delta=0):\n",
    "        # This will perform cross val on one train/test from the SSS\n",
    "        i = 0\n",
    "        for tr_i, te_i in self.sss:\n",
    "            if i == 0:\n",
    "                train_index = tr_i\n",
    "                test_index = te_i\n",
    "            i += 1\n",
    "        \n",
    "        X_train, X_test = X.ix[train_index], X.ix[test_index]\n",
    "        y_train, y_test = y.ix[train_index], y.ix[test_index]\n",
    "\n",
    "        #remove data of test year and all years after from train set\n",
    "        if year != None: \n",
    "            X_train = X_train.loc[X_train.index.get_level_values('year') < year+year_delta]\n",
    "            y_train = y_train.loc[y_train.index.get_level_values('year') < year+year_delta]\n",
    "            X_test, y_test = self.test_conversion_for_year(year=year, y_delta=year_delta)\n",
    "\n",
    "        if oversample:\n",
    "            X_train, y_train = oversample_data(X_train, y_train, self.ratio)\n",
    "        \n",
    "        # Set the parameters by cross-validation\n",
    "        tuned_parameters = [{'kernel': ['rbf'],\n",
    "                             'gamma': [1,1e-1,1e-2,1e-3, 1e-4],\n",
    "                             'C': [1, 10, 100, 1000]\n",
    "                            },\n",
    "                            {'kernel': ['linear'],\n",
    "                             'C': [1, 10, 100, 1000]\n",
    "                            },\n",
    "                            {'kernel':['poly'],\n",
    "                             'degree':[1,2,3]\n",
    "                            }]\n",
    "\n",
    "        scores = ['accuracy', 'precision', 'recall', 'f1']\n",
    "\n",
    "        for score in scores:\n",
    "            print(\"# Tuning hyper-parameters for %s\" % score)\n",
    "            print()\n",
    "\n",
    "            clf = GridSearchCV(SVC(C=1), tuned_parameters, cv=5, scoring=score, n_jobs=-1)\n",
    "            clf.fit(X_train, y_train)\n",
    "\n",
    "            print(\"Best parameters set found on development set:\")\n",
    "            print()\n",
    "            print(clf.best_estimator_)\n",
    "            print()\n",
    "            print(\"Grid scores on development set:\")\n",
    "            print()\n",
    "            for params, mean_score, scores in clf.grid_scores_:\n",
    "                print(\"%0.3f (+/-%0.03f) for %r\"\n",
    "                      % (mean_score, scores.std() / 2, params))\n",
    "            print()\n",
    "\n",
    "            print(\"Detailed classification report:\")\n",
    "            print()\n",
    "            print(\"The model is trained on the full development set.\")\n",
    "            print(\"The scores are computed on the full evaluation set.\")\n",
    "            print()\n",
    "            y_true, y_pred = y_test, clf.predict(X_test)\n",
    "            print(classification_report(y_true, y_pred))\n",
    "            print()\n",
    "    \n",
    "    "
   ]
  },
  {
   "cell_type": "code",
   "execution_count": 215,
   "metadata": {
    "collapsed": false
   },
   "outputs": [],
   "source": [
    "X = full_data[x_cols]\n",
    "y = full_data['zscores']"
   ]
  },
  {
   "cell_type": "markdown",
   "metadata": {},
   "source": [
    "## Scores for various models"
   ]
  },
  {
   "cell_type": "markdown",
   "metadata": {},
   "source": [
    "#### With oversampling"
   ]
  },
  {
   "cell_type": "code",
   "execution_count": 216,
   "metadata": {
    "collapsed": true
   },
   "outputs": [],
   "source": [
    "pol_modeling = getCrossValScoresBySSS(X,y)"
   ]
  },
  {
   "cell_type": "code",
   "execution_count": 217,
   "metadata": {
    "collapsed": false,
    "scrolled": false
   },
   "outputs": [
    {
     "data": {
      "text/html": [
       "<div>\n",
       "<table border=\"1\" class=\"dataframe\">\n",
       "  <thead>\n",
       "    <tr style=\"text-align: right;\">\n",
       "      <th></th>\n",
       "      <th>Accuracy</th>\n",
       "      <th>Precision</th>\n",
       "      <th>Recall</th>\n",
       "      <th>F1</th>\n",
       "      <th>ROCAUC</th>\n",
       "    </tr>\n",
       "  </thead>\n",
       "  <tbody>\n",
       "    <tr>\n",
       "      <th>KNeighborsClassifier(n_neighbors=2)</th>\n",
       "      <td>0.951683</td>\n",
       "      <td>0.826792</td>\n",
       "      <td>0.858723</td>\n",
       "      <td>0.840442</td>\n",
       "      <td>0.913354</td>\n",
       "    </tr>\n",
       "    <tr>\n",
       "      <th>SVC(gamma=1, C=10, kernel='rbf')</th>\n",
       "      <td>0.927492</td>\n",
       "      <td>0.937693</td>\n",
       "      <td>0.552340</td>\n",
       "      <td>0.691846</td>\n",
       "      <td>0.772812</td>\n",
       "    </tr>\n",
       "    <tr>\n",
       "      <th>SVC()</th>\n",
       "      <td>0.950667</td>\n",
       "      <td>0.834868</td>\n",
       "      <td>0.837447</td>\n",
       "      <td>0.835016</td>\n",
       "      <td>0.903985</td>\n",
       "    </tr>\n",
       "    <tr>\n",
       "      <th>LogisticRegression()</th>\n",
       "      <td>0.665333</td>\n",
       "      <td>0.256434</td>\n",
       "      <td>0.653191</td>\n",
       "      <td>0.367784</td>\n",
       "      <td>0.660327</td>\n",
       "    </tr>\n",
       "    <tr>\n",
       "      <th>BernoulliNB()</th>\n",
       "      <td>0.802794</td>\n",
       "      <td>0.264537</td>\n",
       "      <td>0.179574</td>\n",
       "      <td>0.213135</td>\n",
       "      <td>0.545832</td>\n",
       "    </tr>\n",
       "    <tr>\n",
       "      <th>GaussianNB()</th>\n",
       "      <td>0.581397</td>\n",
       "      <td>0.210330</td>\n",
       "      <td>0.657447</td>\n",
       "      <td>0.318419</td>\n",
       "      <td>0.612753</td>\n",
       "    </tr>\n",
       "    <tr>\n",
       "      <th>RandomForestClassifier(n_estimators=30)</th>\n",
       "      <td>0.957397</td>\n",
       "      <td>0.869312</td>\n",
       "      <td>0.844681</td>\n",
       "      <td>0.855049</td>\n",
       "      <td>0.910923</td>\n",
       "    </tr>\n",
       "    <tr>\n",
       "      <th>DecisionTreeClassifier()</th>\n",
       "      <td>0.929524</td>\n",
       "      <td>0.779406</td>\n",
       "      <td>0.747234</td>\n",
       "      <td>0.759551</td>\n",
       "      <td>0.854363</td>\n",
       "    </tr>\n",
       "  </tbody>\n",
       "</table>\n",
       "</div>"
      ],
      "text/plain": [
       "                                         Accuracy  Precision    Recall  \\\n",
       "KNeighborsClassifier(n_neighbors=2)      0.951683   0.826792  0.858723   \n",
       "SVC(gamma=1, C=10, kernel='rbf')         0.927492   0.937693  0.552340   \n",
       "SVC()                                    0.950667   0.834868  0.837447   \n",
       "LogisticRegression()                     0.665333   0.256434  0.653191   \n",
       "BernoulliNB()                            0.802794   0.264537  0.179574   \n",
       "GaussianNB()                             0.581397   0.210330  0.657447   \n",
       "RandomForestClassifier(n_estimators=30)  0.957397   0.869312  0.844681   \n",
       "DecisionTreeClassifier()                 0.929524   0.779406  0.747234   \n",
       "\n",
       "                                               F1    ROCAUC  \n",
       "KNeighborsClassifier(n_neighbors=2)      0.840442  0.913354  \n",
       "SVC(gamma=1, C=10, kernel='rbf')         0.691846  0.772812  \n",
       "SVC()                                    0.835016  0.903985  \n",
       "LogisticRegression()                     0.367784  0.660327  \n",
       "BernoulliNB()                            0.213135  0.545832  \n",
       "GaussianNB()                             0.318419  0.612753  \n",
       "RandomForestClassifier(n_estimators=30)  0.855049  0.910923  \n",
       "DecisionTreeClassifier()                 0.759551  0.854363  "
      ]
     },
     "execution_count": 217,
     "metadata": {},
     "output_type": "execute_result"
    },
    {
     "data": {
      "image/png": "[encoded data removed]",
      "text/plain": [
       "<matplotlib.figure.Figure at 0x10e3c75c0>"
      ]
     },
     "metadata": {},
     "output_type": "display_data"
    }
   ],
   "source": [
    "pol_modeling.get_multi_models(make_single_plot=True)"
   ]
  },
  {
   "cell_type": "markdown",
   "metadata": {},
   "source": [
    "#### Without oversampling"
   ]
  },
  {
   "cell_type": "code",
   "execution_count": 74,
   "metadata": {
    "collapsed": false,
    "scrolled": true
   },
   "outputs": [
    {
     "name": "stderr",
     "output_type": "stream",
     "text": [
      "/Users/kenn/anaconda/lib/python3.5/site-packages/sklearn/metrics/classification.py:1074: UndefinedMetricWarning: Precision is ill-defined and being set to 0.0 due to no predicted samples.\n",
      "  'precision', 'predicted', average, warn_for)\n",
      "/Users/kenn/anaconda/lib/python3.5/site-packages/sklearn/metrics/classification.py:1074: UndefinedMetricWarning: F-score is ill-defined and being set to 0.0 due to no predicted samples.\n",
      "  'precision', 'predicted', average, warn_for)\n"
     ]
    },
    {
     "data": {
      "text/html": [
       "<div>\n",
       "<table border=\"1\" class=\"dataframe\">\n",
       "  <thead>\n",
       "    <tr style=\"text-align: right;\">\n",
       "      <th></th>\n",
       "      <th>Accuracy</th>\n",
       "      <th>Precision</th>\n",
       "      <th>Recall</th>\n",
       "      <th>F1</th>\n",
       "      <th>ROCAUC</th>\n",
       "    </tr>\n",
       "  </thead>\n",
       "  <tbody>\n",
       "    <tr>\n",
       "      <th>KNeighborsClassifier(n_neighbors=2)</th>\n",
       "      <td>0.933587</td>\n",
       "      <td>0.866466</td>\n",
       "      <td>0.656596</td>\n",
       "      <td>0.745023</td>\n",
       "      <td>0.819380</td>\n",
       "    </tr>\n",
       "    <tr>\n",
       "      <th>SVC(gamma=1, C=10, kernel='rbf')</th>\n",
       "      <td>0.925968</td>\n",
       "      <td>0.927268</td>\n",
       "      <td>0.547234</td>\n",
       "      <td>0.685691</td>\n",
       "      <td>0.769811</td>\n",
       "    </tr>\n",
       "    <tr>\n",
       "      <th>SVC()</th>\n",
       "      <td>0.938476</td>\n",
       "      <td>0.915725</td>\n",
       "      <td>0.647660</td>\n",
       "      <td>0.756886</td>\n",
       "      <td>0.818569</td>\n",
       "    </tr>\n",
       "    <tr>\n",
       "      <th>LogisticRegression()</th>\n",
       "      <td>0.863111</td>\n",
       "      <td>0.908119</td>\n",
       "      <td>0.090213</td>\n",
       "      <td>0.162259</td>\n",
       "      <td>0.544435</td>\n",
       "    </tr>\n",
       "    <tr>\n",
       "      <th>BernoulliNB()</th>\n",
       "      <td>0.850794</td>\n",
       "      <td>0.000000</td>\n",
       "      <td>0.000000</td>\n",
       "      <td>0.000000</td>\n",
       "      <td>0.500000</td>\n",
       "    </tr>\n",
       "    <tr>\n",
       "      <th>GaussianNB()</th>\n",
       "      <td>0.724889</td>\n",
       "      <td>0.291435</td>\n",
       "      <td>0.584681</td>\n",
       "      <td>0.388298</td>\n",
       "      <td>0.667079</td>\n",
       "    </tr>\n",
       "    <tr>\n",
       "      <th>RandomForestClassifier(n_estimators=30)</th>\n",
       "      <td>0.944635</td>\n",
       "      <td>0.883915</td>\n",
       "      <td>0.725106</td>\n",
       "      <td>0.794294</td>\n",
       "      <td>0.854120</td>\n",
       "    </tr>\n",
       "    <tr>\n",
       "      <th>DecisionTreeClassifier()</th>\n",
       "      <td>0.927556</td>\n",
       "      <td>0.765202</td>\n",
       "      <td>0.744681</td>\n",
       "      <td>0.752908</td>\n",
       "      <td>0.852154</td>\n",
       "    </tr>\n",
       "  </tbody>\n",
       "</table>\n",
       "</div>"
      ],
      "text/plain": [
       "                                         Accuracy  Precision    Recall  \\\n",
       "KNeighborsClassifier(n_neighbors=2)      0.933587   0.866466  0.656596   \n",
       "SVC(gamma=1, C=10, kernel='rbf')         0.925968   0.927268  0.547234   \n",
       "SVC()                                    0.938476   0.915725  0.647660   \n",
       "LogisticRegression()                     0.863111   0.908119  0.090213   \n",
       "BernoulliNB()                            0.850794   0.000000  0.000000   \n",
       "GaussianNB()                             0.724889   0.291435  0.584681   \n",
       "RandomForestClassifier(n_estimators=30)  0.944635   0.883915  0.725106   \n",
       "DecisionTreeClassifier()                 0.927556   0.765202  0.744681   \n",
       "\n",
       "                                               F1    ROCAUC  \n",
       "KNeighborsClassifier(n_neighbors=2)      0.745023  0.819380  \n",
       "SVC(gamma=1, C=10, kernel='rbf')         0.685691  0.769811  \n",
       "SVC()                                    0.756886  0.818569  \n",
       "LogisticRegression()                     0.162259  0.544435  \n",
       "BernoulliNB()                            0.000000  0.500000  \n",
       "GaussianNB()                             0.388298  0.667079  \n",
       "RandomForestClassifier(n_estimators=30)  0.794294  0.854120  \n",
       "DecisionTreeClassifier()                 0.752908  0.852154  "
      ]
     },
     "execution_count": 74,
     "metadata": {},
     "output_type": "execute_result"
    }
   ],
   "source": [
    "pol_modeling.get_multi_models(oversample=False)"
   ]
  },
  {
   "cell_type": "markdown",
   "metadata": {},
   "source": [
    "#### KNN various n\n"
   ]
  },
  {
   "cell_type": "code",
   "execution_count": 46,
   "metadata": {
    "collapsed": false,
    "scrolled": false
   },
   "outputs": [
    {
     "name": "stdout",
     "output_type": "stream",
     "text": [
      "n =  1\n",
      "Avg Feature Importance: None\n",
      "Accuracy: 0.9525714285714286\n",
      "Precision: 0.8243725625015698\n",
      "Recall: 0.8719148936170213\n",
      "f1: 0.8458153053234366\n",
      "ROC AUC: 0.9193156557637345\n",
      "\n",
      "\n",
      "n =  2\n",
      "Avg Feature Importance: None\n",
      "Accuracy: 0.9535238095238096\n",
      "Precision: 0.8289054888821147\n",
      "Recall: 0.8710638297872341\n",
      "f1: 0.8477936725008237\n",
      "ROC AUC: 0.9195244522070497\n",
      "\n",
      "\n",
      "n =  3\n",
      "Avg Feature Importance: None\n",
      "Accuracy: 0.9323174603174603\n",
      "Precision: 0.71456610026998\n",
      "Recall: 0.9182978723404256\n",
      "f1: 0.8025511837734577\n",
      "ROC AUC: 0.9265369958717051\n",
      "\n",
      "\n"
     ]
    },
    {
     "data": {
      "image/png": "[encoded data removed]",
      "text/plain": [
       "<matplotlib.figure.Figure at 0x10dea1b38>"
      ]
     },
     "metadata": {},
     "output_type": "display_data"
    },
    {
     "data": {
      "image/png": "[encoded data removed]",
      "text/plain": [
       "<matplotlib.figure.Figure at 0x10d8e2cc0>"
      ]
     },
     "metadata": {},
     "output_type": "display_data"
    },
    {
     "data": {
      "image/png": "[encoded data removed]",
      "text/plain": [
       "<matplotlib.figure.Figure at 0x10e080e10>"
      ]
     },
     "metadata": {},
     "output_type": "display_data"
    }
   ],
   "source": [
    "for n in range(1,4):\n",
    "    print('n = ', n)\n",
    "    pol_modeling.get_single_model(model=KNeighborsClassifier(n_neighbors=n), get_cm=True)\n",
    "    print('\\n')"
   ]
  },
  {
   "cell_type": "markdown",
   "metadata": {},
   "source": [
    "#### Random Forest for important features"
   ]
  },
  {
   "cell_type": "code",
   "execution_count": 47,
   "metadata": {
    "collapsed": false,
    "scrolled": false
   },
   "outputs": [
    {
     "name": "stdout",
     "output_type": "stream",
     "text": [
      "Avg Feature Importance: [ 0.11664489  0.10629617  0.11994186  0.17043265  0.12964751  0.15012426\n",
      "  0.20691266]\n",
      "Accuracy: 0.9556190476190476\n",
      "Precision: 0.853559537450378\n",
      "Recall: 0.8506382978723406\n",
      "f1: 0.8505862696118223\n",
      "ROC AUC: 0.9123340743093045\n"
     ]
    },
    {
     "data": {
      "image/png": "[encoded data removed]",
      "text/plain": [
       "<matplotlib.figure.Figure at 0x10e12a4a8>"
      ]
     },
     "metadata": {},
     "output_type": "display_data"
    }
   ],
   "source": [
    "pol_modeling.get_single_model(model=RandomForestClassifier(n_estimators=100), get_cm = True)"
   ]
  },
  {
   "cell_type": "code",
   "execution_count": 48,
   "metadata": {
    "collapsed": false
   },
   "outputs": [
    {
     "name": "stdout",
     "output_type": "stream",
     "text": [
      "Avg Feature Importance: [ 0.11555287  0.09969511  0.11946064  0.16889472  0.13031054  0.15497666\n",
      "  0.21110946]\n",
      "Accuracy: 0.956126984126984\n",
      "Precision: 0.8721809557632793\n",
      "Recall: 0.8314893617021277\n",
      "f1: 0.8492828534364186\n",
      "ROC AUC: 0.9047372181644967\n"
     ]
    },
    {
     "data": {
      "image/png": "[encoded data removed]",
      "text/plain": [
       "<matplotlib.figure.Figure at 0x10e1b9fd0>"
      ]
     },
     "metadata": {},
     "output_type": "display_data"
    }
   ],
   "source": [
    "pol_modeling.get_single_model(model=RandomForestClassifier(n_estimators=30), get_cm = True)"
   ]
  },
  {
   "cell_type": "markdown",
   "metadata": {},
   "source": [
    "#### DecisionTreeClassifier for important features"
   ]
  },
  {
   "cell_type": "code",
   "execution_count": 49,
   "metadata": {
    "collapsed": false
   },
   "outputs": [
    {
     "name": "stdout",
     "output_type": "stream",
     "text": [
      "Avg Feature Importance: [ 0.10328129  0.13959346  0.09946399  0.21843713  0.14828509  0.11294197\n",
      "  0.17799708]\n",
      "Accuracy: 0.9314285714285714\n",
      "Precision: 0.770105003973821\n",
      "Recall: 0.7731914893617022\n",
      "f1: 0.7700934595725092\n",
      "ROC AUC: 0.8661852969196572\n"
     ]
    },
    {
     "data": {
      "image/png": "[encoded data removed]",
      "text/plain": [
       "<matplotlib.figure.Figure at 0x10e2cc390>"
      ]
     },
     "metadata": {},
     "output_type": "display_data"
    }
   ],
   "source": [
    "pol_modeling.get_single_model(model=DecisionTreeClassifier(), get_cm = True)"
   ]
  },
  {
   "cell_type": "markdown",
   "metadata": {},
   "source": [
    "### Random forest, different number of trees"
   ]
  },
  {
   "cell_type": "code",
   "execution_count": 50,
   "metadata": {
    "collapsed": false
   },
   "outputs": [
    {
     "data": {
      "image/png": "[encoded data removed]",
      "text/plain": [
       "<matplotlib.figure.Figure at 0x10cdbf390>"
      ]
     },
     "metadata": {},
     "output_type": "display_data"
    }
   ],
   "source": [
    "forest_acc = []\n",
    "forest_prec = []\n",
    "forest_rec = []\n",
    "forest_f1 = []\n",
    "forest_range = list(range(1,30))\n",
    "for trees in forest_range:\n",
    "    acc, prec, rec, f1, _ = pol_modeling.get_single_model(model=RandomForestClassifier(n_estimators=trees), verbose=False)\n",
    "    forest_acc.append(acc)\n",
    "    forest_prec.append(prec)\n",
    "    forest_rec.append(rec)\n",
    "    forest_f1.append(f1)\n",
    "\n",
    "plt.figure(figsize=(11,7))\n",
    "plt.plot(forest_range, forest_acc, label='Accuracy')\n",
    "plt.plot(forest_range, forest_prec,label='Precision')\n",
    "plt.plot(forest_range, forest_rec,label='Recall')\n",
    "plt.plot(forest_range, forest_f1,label='F1')\n",
    "\n",
    "plt.legend(loc='best')\n",
    "plt.xlabel('Num Trees')\n",
    "plt.ylabel('Score')\n",
    "plt.title('Scores at various tree sizes')\n",
    "plt.show()\n",
    "\n",
    "    "
   ]
  },
  {
   "cell_type": "markdown",
   "metadata": {
    "collapsed": true
   },
   "source": [
    "## Testing for a single year"
   ]
  },
  {
   "cell_type": "markdown",
   "metadata": {},
   "source": [
    "### With Oversampling"
   ]
  },
  {
   "cell_type": "code",
   "execution_count": 75,
   "metadata": {
    "collapsed": false,
    "scrolled": false
   },
   "outputs": [
    {
     "data": {
      "text/html": [
       "<div>\n",
       "<table border=\"1\" class=\"dataframe\">\n",
       "  <thead>\n",
       "    <tr style=\"text-align: right;\">\n",
       "      <th></th>\n",
       "      <th>Accuracy</th>\n",
       "      <th>Precision</th>\n",
       "      <th>Recall</th>\n",
       "      <th>F1</th>\n",
       "      <th>ROCAUC</th>\n",
       "    </tr>\n",
       "  </thead>\n",
       "  <tbody>\n",
       "    <tr>\n",
       "      <th>KNeighborsClassifier(n_neighbors=2)</th>\n",
       "      <td>0.921477</td>\n",
       "      <td>0.703298</td>\n",
       "      <td>0.813846</td>\n",
       "      <td>0.753693</td>\n",
       "      <td>0.876990</td>\n",
       "    </tr>\n",
       "    <tr>\n",
       "      <th>SVC(gamma=1, C=10, kernel='rbf')</th>\n",
       "      <td>0.922273</td>\n",
       "      <td>0.936153</td>\n",
       "      <td>0.508462</td>\n",
       "      <td>0.656844</td>\n",
       "      <td>0.751231</td>\n",
       "    </tr>\n",
       "    <tr>\n",
       "      <th>SVC()</th>\n",
       "      <td>0.922273</td>\n",
       "      <td>0.769165</td>\n",
       "      <td>0.676923</td>\n",
       "      <td>0.719219</td>\n",
       "      <td>0.820862</td>\n",
       "    </tr>\n",
       "    <tr>\n",
       "      <th>LogisticRegression()</th>\n",
       "      <td>0.683409</td>\n",
       "      <td>0.277810</td>\n",
       "      <td>0.710000</td>\n",
       "      <td>0.398805</td>\n",
       "      <td>0.694400</td>\n",
       "    </tr>\n",
       "    <tr>\n",
       "      <th>BernoulliNB()</th>\n",
       "      <td>0.546591</td>\n",
       "      <td>0.180782</td>\n",
       "      <td>0.475385</td>\n",
       "      <td>0.206626</td>\n",
       "      <td>0.517159</td>\n",
       "    </tr>\n",
       "    <tr>\n",
       "      <th>GaussianNB()</th>\n",
       "      <td>0.593068</td>\n",
       "      <td>0.223771</td>\n",
       "      <td>0.710000</td>\n",
       "      <td>0.340048</td>\n",
       "      <td>0.641400</td>\n",
       "    </tr>\n",
       "    <tr>\n",
       "      <th>RandomForestClassifier(n_estimators=30)</th>\n",
       "      <td>0.909886</td>\n",
       "      <td>0.707153</td>\n",
       "      <td>0.666154</td>\n",
       "      <td>0.685291</td>\n",
       "      <td>0.809144</td>\n",
       "    </tr>\n",
       "    <tr>\n",
       "      <th>DecisionTreeClassifier()</th>\n",
       "      <td>0.894659</td>\n",
       "      <td>0.654785</td>\n",
       "      <td>0.608462</td>\n",
       "      <td>0.628685</td>\n",
       "      <td>0.776364</td>\n",
       "    </tr>\n",
       "  </tbody>\n",
       "</table>\n",
       "</div>"
      ],
      "text/plain": [
       "                                         Accuracy  Precision    Recall  \\\n",
       "KNeighborsClassifier(n_neighbors=2)      0.921477   0.703298  0.813846   \n",
       "SVC(gamma=1, C=10, kernel='rbf')         0.922273   0.936153  0.508462   \n",
       "SVC()                                    0.922273   0.769165  0.676923   \n",
       "LogisticRegression()                     0.683409   0.277810  0.710000   \n",
       "BernoulliNB()                            0.546591   0.180782  0.475385   \n",
       "GaussianNB()                             0.593068   0.223771  0.710000   \n",
       "RandomForestClassifier(n_estimators=30)  0.909886   0.707153  0.666154   \n",
       "DecisionTreeClassifier()                 0.894659   0.654785  0.608462   \n",
       "\n",
       "                                               F1    ROCAUC  \n",
       "KNeighborsClassifier(n_neighbors=2)      0.753693  0.876990  \n",
       "SVC(gamma=1, C=10, kernel='rbf')         0.656844  0.751231  \n",
       "SVC()                                    0.719219  0.820862  \n",
       "LogisticRegression()                     0.398805  0.694400  \n",
       "BernoulliNB()                            0.206626  0.517159  \n",
       "GaussianNB()                             0.340048  0.641400  \n",
       "RandomForestClassifier(n_estimators=30)  0.685291  0.809144  \n",
       "DecisionTreeClassifier()                 0.628685  0.776364  "
      ]
     },
     "execution_count": 75,
     "metadata": {},
     "output_type": "execute_result"
    }
   ],
   "source": [
    "pol_modeling.get_multi_models(year=2013)"
   ]
  },
  {
   "cell_type": "code",
   "execution_count": 76,
   "metadata": {
    "collapsed": false,
    "scrolled": true
   },
   "outputs": [
    {
     "data": {
      "text/html": [
       "<div>\n",
       "<table border=\"1\" class=\"dataframe\">\n",
       "  <thead>\n",
       "    <tr style=\"text-align: right;\">\n",
       "      <th></th>\n",
       "      <th>Accuracy</th>\n",
       "      <th>Precision</th>\n",
       "      <th>Recall</th>\n",
       "      <th>F1</th>\n",
       "      <th>ROCAUC</th>\n",
       "    </tr>\n",
       "  </thead>\n",
       "  <tbody>\n",
       "    <tr>\n",
       "      <th>KNeighborsClassifier(n_neighbors=2)</th>\n",
       "      <td>0.952273</td>\n",
       "      <td>0.869023</td>\n",
       "      <td>0.827143</td>\n",
       "      <td>0.846125</td>\n",
       "      <td>0.901544</td>\n",
       "    </tr>\n",
       "    <tr>\n",
       "      <th>SVC(gamma=1, C=10, kernel='rbf')</th>\n",
       "      <td>0.927727</td>\n",
       "      <td>0.926198</td>\n",
       "      <td>0.592857</td>\n",
       "      <td>0.721774</td>\n",
       "      <td>0.791969</td>\n",
       "    </tr>\n",
       "    <tr>\n",
       "      <th>SVC()</th>\n",
       "      <td>0.962841</td>\n",
       "      <td>0.880663</td>\n",
       "      <td>0.887857</td>\n",
       "      <td>0.883302</td>\n",
       "      <td>0.932442</td>\n",
       "    </tr>\n",
       "    <tr>\n",
       "      <th>LogisticRegression()</th>\n",
       "      <td>0.656705</td>\n",
       "      <td>0.273082</td>\n",
       "      <td>0.692857</td>\n",
       "      <td>0.391030</td>\n",
       "      <td>0.671361</td>\n",
       "    </tr>\n",
       "    <tr>\n",
       "      <th>BernoulliNB()</th>\n",
       "      <td>0.370682</td>\n",
       "      <td>0.190058</td>\n",
       "      <td>0.737143</td>\n",
       "      <td>0.256119</td>\n",
       "      <td>0.519247</td>\n",
       "    </tr>\n",
       "    <tr>\n",
       "      <th>GaussianNB()</th>\n",
       "      <td>0.579091</td>\n",
       "      <td>0.230037</td>\n",
       "      <td>0.698571</td>\n",
       "      <td>0.345886</td>\n",
       "      <td>0.627529</td>\n",
       "    </tr>\n",
       "    <tr>\n",
       "      <th>RandomForestClassifier(n_estimators=30)</th>\n",
       "      <td>0.956932</td>\n",
       "      <td>0.883615</td>\n",
       "      <td>0.840714</td>\n",
       "      <td>0.860659</td>\n",
       "      <td>0.909817</td>\n",
       "    </tr>\n",
       "    <tr>\n",
       "      <th>DecisionTreeClassifier()</th>\n",
       "      <td>0.934659</td>\n",
       "      <td>0.835709</td>\n",
       "      <td>0.738571</td>\n",
       "      <td>0.781341</td>\n",
       "      <td>0.855164</td>\n",
       "    </tr>\n",
       "  </tbody>\n",
       "</table>\n",
       "</div>"
      ],
      "text/plain": [
       "                                         Accuracy  Precision    Recall  \\\n",
       "KNeighborsClassifier(n_neighbors=2)      0.952273   0.869023  0.827143   \n",
       "SVC(gamma=1, C=10, kernel='rbf')         0.927727   0.926198  0.592857   \n",
       "SVC()                                    0.962841   0.880663  0.887857   \n",
       "LogisticRegression()                     0.656705   0.273082  0.692857   \n",
       "BernoulliNB()                            0.370682   0.190058  0.737143   \n",
       "GaussianNB()                             0.579091   0.230037  0.698571   \n",
       "RandomForestClassifier(n_estimators=30)  0.956932   0.883615  0.840714   \n",
       "DecisionTreeClassifier()                 0.934659   0.835709  0.738571   \n",
       "\n",
       "                                               F1    ROCAUC  \n",
       "KNeighborsClassifier(n_neighbors=2)      0.846125  0.901544  \n",
       "SVC(gamma=1, C=10, kernel='rbf')         0.721774  0.791969  \n",
       "SVC()                                    0.883302  0.932442  \n",
       "LogisticRegression()                     0.391030  0.671361  \n",
       "BernoulliNB()                            0.256119  0.519247  \n",
       "GaussianNB()                             0.345886  0.627529  \n",
       "RandomForestClassifier(n_estimators=30)  0.860659  0.909817  \n",
       "DecisionTreeClassifier()                 0.781341  0.855164  "
      ]
     },
     "execution_count": 76,
     "metadata": {},
     "output_type": "execute_result"
    }
   ],
   "source": [
    "pol_modeling.get_multi_models(year=2012)"
   ]
  },
  {
   "cell_type": "code",
   "execution_count": 77,
   "metadata": {
    "collapsed": false
   },
   "outputs": [
    {
     "name": "stdout",
     "output_type": "stream",
     "text": [
      "Avg Feature Importance: None\n",
      "Accuracy: 0.9499999999999998\n",
      "Precision: 0.8575684191678629\n",
      "Recall: 0.8242857142857142\n",
      "f1: 0.8394679065552476\n",
      "ROC AUC: 0.899034749034749\n"
     ]
    },
    {
     "data": {
      "image/png": "[encoded data removed]",
      "text/plain": [
       "<matplotlib.figure.Figure at 0x10df082e8>"
      ]
     },
     "metadata": {},
     "output_type": "display_data"
    }
   ],
   "source": [
    "pol_modeling.get_single_model(year=2012, get_cm=True)"
   ]
  },
  {
   "cell_type": "code",
   "execution_count": 218,
   "metadata": {
    "collapsed": false,
    "scrolled": false
   },
   "outputs": [
    {
     "data": {
      "text/html": [
       "<div>\n",
       "<table border=\"1\" class=\"dataframe\">\n",
       "  <thead>\n",
       "    <tr style=\"text-align: right;\">\n",
       "      <th></th>\n",
       "      <th>Accuracy</th>\n",
       "      <th>Precision</th>\n",
       "      <th>Recall</th>\n",
       "      <th>F1</th>\n",
       "      <th>ROCAUC</th>\n",
       "    </tr>\n",
       "  </thead>\n",
       "  <tbody>\n",
       "    <tr>\n",
       "      <th>KNeighborsClassifier(n_neighbors=2)</th>\n",
       "      <td>0.955029</td>\n",
       "      <td>0.882671</td>\n",
       "      <td>0.810000</td>\n",
       "      <td>0.843926</td>\n",
       "      <td>0.895340</td>\n",
       "    </tr>\n",
       "    <tr>\n",
       "      <th>SVC(gamma=1, C=10, kernel='rbf')</th>\n",
       "      <td>0.946705</td>\n",
       "      <td>0.946370</td>\n",
       "      <td>0.683846</td>\n",
       "      <td>0.791710</td>\n",
       "      <td>0.838522</td>\n",
       "    </tr>\n",
       "    <tr>\n",
       "      <th>SVC()</th>\n",
       "      <td>0.949017</td>\n",
       "      <td>0.865162</td>\n",
       "      <td>0.783846</td>\n",
       "      <td>0.821873</td>\n",
       "      <td>0.881039</td>\n",
       "    </tr>\n",
       "    <tr>\n",
       "      <th>LogisticRegression()</th>\n",
       "      <td>0.667168</td>\n",
       "      <td>0.263684</td>\n",
       "      <td>0.676923</td>\n",
       "      <td>0.379139</td>\n",
       "      <td>0.671183</td>\n",
       "    </tr>\n",
       "    <tr>\n",
       "      <th>BernoulliNB()</th>\n",
       "      <td>0.482659</td>\n",
       "      <td>0.170673</td>\n",
       "      <td>0.557692</td>\n",
       "      <td>0.204762</td>\n",
       "      <td>0.513540</td>\n",
       "    </tr>\n",
       "    <tr>\n",
       "      <th>GaussianNB()</th>\n",
       "      <td>0.589480</td>\n",
       "      <td>0.225718</td>\n",
       "      <td>0.709231</td>\n",
       "      <td>0.342119</td>\n",
       "      <td>0.638765</td>\n",
       "    </tr>\n",
       "    <tr>\n",
       "      <th>RandomForestClassifier(n_estimators=30)</th>\n",
       "      <td>0.957341</td>\n",
       "      <td>0.898943</td>\n",
       "      <td>0.809231</td>\n",
       "      <td>0.850494</td>\n",
       "      <td>0.896384</td>\n",
       "    </tr>\n",
       "    <tr>\n",
       "      <th>DecisionTreeClassifier()</th>\n",
       "      <td>0.949595</td>\n",
       "      <td>0.872865</td>\n",
       "      <td>0.780000</td>\n",
       "      <td>0.822993</td>\n",
       "      <td>0.879796</td>\n",
       "    </tr>\n",
       "  </tbody>\n",
       "</table>\n",
       "</div>"
      ],
      "text/plain": [
       "                                         Accuracy  Precision    Recall  \\\n",
       "KNeighborsClassifier(n_neighbors=2)      0.955029   0.882671  0.810000   \n",
       "SVC(gamma=1, C=10, kernel='rbf')         0.946705   0.946370  0.683846   \n",
       "SVC()                                    0.949017   0.865162  0.783846   \n",
       "LogisticRegression()                     0.667168   0.263684  0.676923   \n",
       "BernoulliNB()                            0.482659   0.170673  0.557692   \n",
       "GaussianNB()                             0.589480   0.225718  0.709231   \n",
       "RandomForestClassifier(n_estimators=30)  0.957341   0.898943  0.809231   \n",
       "DecisionTreeClassifier()                 0.949595   0.872865  0.780000   \n",
       "\n",
       "                                               F1    ROCAUC  \n",
       "KNeighborsClassifier(n_neighbors=2)      0.843926  0.895340  \n",
       "SVC(gamma=1, C=10, kernel='rbf')         0.791710  0.838522  \n",
       "SVC()                                    0.821873  0.881039  \n",
       "LogisticRegression()                     0.379139  0.671183  \n",
       "BernoulliNB()                            0.204762  0.513540  \n",
       "GaussianNB()                             0.342119  0.638765  \n",
       "RandomForestClassifier(n_estimators=30)  0.850494  0.896384  \n",
       "DecisionTreeClassifier()                 0.822993  0.879796  "
      ]
     },
     "execution_count": 218,
     "metadata": {},
     "output_type": "execute_result"
    },
    {
     "data": {
      "image/png": "[encoded data removed]",
      "text/plain": [
       "<matplotlib.figure.Figure at 0x104850ac8>"
      ]
     },
     "metadata": {},
     "output_type": "display_data"
    }
   ],
   "source": [
    "pol_modeling.get_multi_models(year=2011, year_delta=1, make_single_plot=True)"
   ]
  },
  {
   "cell_type": "code",
   "execution_count": 79,
   "metadata": {
    "collapsed": false
   },
   "outputs": [
    {
     "data": {
      "text/html": [
       "<div>\n",
       "<table border=\"1\" class=\"dataframe\">\n",
       "  <thead>\n",
       "    <tr style=\"text-align: right;\">\n",
       "      <th></th>\n",
       "      <th>Accuracy</th>\n",
       "      <th>Precision</th>\n",
       "      <th>Recall</th>\n",
       "      <th>F1</th>\n",
       "      <th>ROCAUC</th>\n",
       "    </tr>\n",
       "  </thead>\n",
       "  <tbody>\n",
       "    <tr>\n",
       "      <th>KNeighborsClassifier(n_neighbors=2)</th>\n",
       "      <td>0.938605</td>\n",
       "      <td>0.782298</td>\n",
       "      <td>0.776667</td>\n",
       "      <td>0.779111</td>\n",
       "      <td>0.870766</td>\n",
       "    </tr>\n",
       "    <tr>\n",
       "      <th>SVC(gamma=1, C=10, kernel='rbf')</th>\n",
       "      <td>0.930814</td>\n",
       "      <td>0.787185</td>\n",
       "      <td>0.690833</td>\n",
       "      <td>0.734959</td>\n",
       "      <td>0.830282</td>\n",
       "    </tr>\n",
       "    <tr>\n",
       "      <th>SVC()</th>\n",
       "      <td>0.933256</td>\n",
       "      <td>0.739982</td>\n",
       "      <td>0.804167</td>\n",
       "      <td>0.770391</td>\n",
       "      <td>0.879178</td>\n",
       "    </tr>\n",
       "    <tr>\n",
       "      <th>LogisticRegression()</th>\n",
       "      <td>0.671744</td>\n",
       "      <td>0.254594</td>\n",
       "      <td>0.700000</td>\n",
       "      <td>0.372911</td>\n",
       "      <td>0.683581</td>\n",
       "    </tr>\n",
       "    <tr>\n",
       "      <th>BernoulliNB()</th>\n",
       "      <td>0.476744</td>\n",
       "      <td>0.133929</td>\n",
       "      <td>0.541667</td>\n",
       "      <td>0.175000</td>\n",
       "      <td>0.503941</td>\n",
       "    </tr>\n",
       "    <tr>\n",
       "      <th>GaussianNB()</th>\n",
       "      <td>0.596977</td>\n",
       "      <td>0.225498</td>\n",
       "      <td>0.773333</td>\n",
       "      <td>0.348959</td>\n",
       "      <td>0.670856</td>\n",
       "    </tr>\n",
       "    <tr>\n",
       "      <th>RandomForestClassifier(n_estimators=30)</th>\n",
       "      <td>0.935465</td>\n",
       "      <td>0.774814</td>\n",
       "      <td>0.757500</td>\n",
       "      <td>0.765374</td>\n",
       "      <td>0.860912</td>\n",
       "    </tr>\n",
       "    <tr>\n",
       "      <th>DecisionTreeClassifier()</th>\n",
       "      <td>0.930000</td>\n",
       "      <td>0.756569</td>\n",
       "      <td>0.735833</td>\n",
       "      <td>0.745212</td>\n",
       "      <td>0.848660</td>\n",
       "    </tr>\n",
       "  </tbody>\n",
       "</table>\n",
       "</div>"
      ],
      "text/plain": [
       "                                         Accuracy  Precision    Recall  \\\n",
       "KNeighborsClassifier(n_neighbors=2)      0.938605   0.782298  0.776667   \n",
       "SVC(gamma=1, C=10, kernel='rbf')         0.930814   0.787185  0.690833   \n",
       "SVC()                                    0.933256   0.739982  0.804167   \n",
       "LogisticRegression()                     0.671744   0.254594  0.700000   \n",
       "BernoulliNB()                            0.476744   0.133929  0.541667   \n",
       "GaussianNB()                             0.596977   0.225498  0.773333   \n",
       "RandomForestClassifier(n_estimators=30)  0.935465   0.774814  0.757500   \n",
       "DecisionTreeClassifier()                 0.930000   0.756569  0.735833   \n",
       "\n",
       "                                               F1    ROCAUC  \n",
       "KNeighborsClassifier(n_neighbors=2)      0.779111  0.870766  \n",
       "SVC(gamma=1, C=10, kernel='rbf')         0.734959  0.830282  \n",
       "SVC()                                    0.770391  0.879178  \n",
       "LogisticRegression()                     0.372911  0.683581  \n",
       "BernoulliNB()                            0.175000  0.503941  \n",
       "GaussianNB()                             0.348959  0.670856  \n",
       "RandomForestClassifier(n_estimators=30)  0.765374  0.860912  \n",
       "DecisionTreeClassifier()                 0.745212  0.848660  "
      ]
     },
     "execution_count": 79,
     "metadata": {},
     "output_type": "execute_result"
    }
   ],
   "source": [
    "pol_modeling.get_multi_models(year=2011, year_delta=2)"
   ]
  },
  {
   "cell_type": "code",
   "execution_count": 56,
   "metadata": {
    "collapsed": false
   },
   "outputs": [],
   "source": [
    "#full_data[full_data.zscores == 1]"
   ]
  },
  {
   "cell_type": "code",
   "execution_count": 222,
   "metadata": {
    "collapsed": false,
    "scrolled": false
   },
   "outputs": [
    {
     "name": "stdout",
     "output_type": "stream",
     "text": [
      "     year_prior  prediction  prediction_actual  net\n",
      "HTI           0           1                  1   -1\n",
      "SSD           0           1                  1   -1\n",
      "SYR           0           1                  1   -1\n",
      "     year_prior  prediction  prediction_actual  net\n",
      "HTI           0           1                  1   -1\n",
      "SYR           0           1                  1   -1\n",
      "Empty DataFrame\n",
      "Columns: [year_prior, prediction, prediction_actual, net]\n",
      "Index: []\n",
      "     year_prior  prediction  prediction_actual  net\n",
      "SSD           0           1                  1   -1\n",
      "Empty DataFrame\n",
      "Columns: [year_prior, prediction, prediction_actual, net]\n",
      "Index: []\n",
      "Empty DataFrame\n",
      "Columns: [year_prior, prediction, prediction_actual, net]\n",
      "Index: []\n",
      "     year_prior  prediction  prediction_actual  net\n",
      "HTI           0           1                  1   -1\n",
      "     year_prior  prediction  prediction_actual  net\n",
      "SSD           0           1                  1   -1\n",
      "     year_prior  prediction  prediction_actual  net\n",
      "SSD           0           1                  1   -1\n",
      "Empty DataFrame\n",
      "Columns: [year_prior, prediction, prediction_actual, net]\n",
      "Index: []\n",
      "     year_prior  prediction  prediction_actual  net\n",
      "SYR           0           1                  1   -1\n",
      "Empty DataFrame\n",
      "Columns: [year_prior, prediction, prediction_actual, net]\n",
      "Index: []\n",
      "     year_prior  prediction  prediction_actual  net\n",
      "HTI           0           1                  1   -1\n",
      "SSD           0           1                  1   -1\n",
      "Empty DataFrame\n",
      "Columns: [year_prior, prediction, prediction_actual, net]\n",
      "Index: []\n",
      "Empty DataFrame\n",
      "Columns: [year_prior, prediction, prediction_actual, net]\n",
      "Index: []\n",
      "     year_prior  prediction  prediction_actual  net\n",
      "HTI           0           1                  1   -1\n",
      "SSD           0           1                  1   -1\n",
      "SYR           0           1                  1   -1\n",
      "     year_prior  prediction  prediction_actual  net\n",
      "SYR           0           1                  1   -1\n",
      "Empty DataFrame\n",
      "Columns: [year_prior, prediction, prediction_actual, net]\n",
      "Index: []\n",
      "     year_prior  prediction  prediction_actual  net\n",
      "HTI           0           1                  1   -1\n",
      "Empty DataFrame\n",
      "Columns: [year_prior, prediction, prediction_actual, net]\n",
      "Index: []\n",
      "Empty DataFrame\n",
      "Columns: [year_prior, prediction, prediction_actual, net]\n",
      "Index: []\n",
      "     year_prior  prediction  prediction_actual  net\n",
      "HTI           0           1                  1   -1\n",
      "Empty DataFrame\n",
      "Columns: [year_prior, prediction, prediction_actual, net]\n",
      "Index: []\n",
      "Empty DataFrame\n",
      "Columns: [year_prior, prediction, prediction_actual, net]\n",
      "Index: []\n",
      "     year_prior  prediction  prediction_actual  net\n",
      "SYR           0           1                  1   -1\n",
      "Empty DataFrame\n",
      "Columns: [year_prior, prediction, prediction_actual, net]\n",
      "Index: []\n",
      "Empty DataFrame\n",
      "Columns: [year_prior, prediction, prediction_actual, net]\n",
      "Index: []\n",
      "     year_prior  prediction  prediction_actual  net\n",
      "HTI           0           1                  1   -1\n",
      "SSD           0           1                  1   -1\n",
      "SYR           0           1                  1   -1\n",
      "     year_prior  prediction  prediction_actual  net\n",
      "SSD           0           1                  1   -1\n",
      "SYR           0           1                  1   -1\n",
      "     year_prior  prediction  prediction_actual  net\n",
      "SSD           0           1                  1   -1\n",
      "SYR           0           1                  1   -1\n",
      "Empty DataFrame\n",
      "Columns: [year_prior, prediction, prediction_actual, net]\n",
      "Index: []\n",
      "     year_prior  prediction  prediction_actual  net\n",
      "SSD           0           1                  1   -1\n",
      "     year_prior  prediction  prediction_actual  net\n",
      "SYR           0           1                  1   -1\n",
      "     year_prior  prediction  prediction_actual  net\n",
      "SYR           0           1                  1   -1\n",
      "     year_prior  prediction  prediction_actual  net\n",
      "HTI           0           1                  1   -1\n",
      "     year_prior  prediction  prediction_actual  net\n",
      "SSD           0           1                  1   -1\n",
      "Empty DataFrame\n",
      "Columns: [year_prior, prediction, prediction_actual, net]\n",
      "Index: []\n",
      "     year_prior  prediction  prediction_actual  net\n",
      "SYR           0           1                  1   -1\n",
      "     year_prior  prediction  prediction_actual  net\n",
      "HTI           0           1                  1   -1\n",
      "Empty DataFrame\n",
      "Columns: [year_prior, prediction, prediction_actual, net]\n",
      "Index: []\n",
      "Empty DataFrame\n",
      "Columns: [year_prior, prediction, prediction_actual, net]\n",
      "Index: []\n",
      "     year_prior  prediction  prediction_actual  net\n",
      "SYR           0           1                  1   -1\n",
      "Empty DataFrame\n",
      "Columns: [year_prior, prediction, prediction_actual, net]\n",
      "Index: []\n",
      "Empty DataFrame\n",
      "Columns: [year_prior, prediction, prediction_actual, net]\n",
      "Index: []\n",
      "Empty DataFrame\n",
      "Columns: [year_prior, prediction, prediction_actual, net]\n",
      "Index: []\n",
      "     year_prior  prediction  prediction_actual  net\n",
      "SYR           0           1                  1   -1\n",
      "     year_prior  prediction  prediction_actual  net\n",
      "HTI           0           1                  1   -1\n",
      "SSD           0           1                  1   -1\n",
      "Empty DataFrame\n",
      "Columns: [year_prior, prediction, prediction_actual, net]\n",
      "Index: []\n",
      "Empty DataFrame\n",
      "Columns: [year_prior, prediction, prediction_actual, net]\n",
      "Index: []\n",
      "     year_prior  prediction  prediction_actual  net\n",
      "SSD           0           1                  1   -1\n"
     ]
    }
   ],
   "source": [
    "pol_modeling.future_crisis_countries(year=2011, year_delta=1)"
   ]
  },
  {
   "cell_type": "code",
   "execution_count": 58,
   "metadata": {
    "collapsed": false,
    "scrolled": false
   },
   "outputs": [
    {
     "name": "stdout",
     "output_type": "stream",
     "text": [
      "# Tuning hyper-parameters for accuracy\n",
      "\n",
      "Best parameters set found on development set:\n",
      "\n",
      "SVC(C=10, cache_size=200, class_weight=None, coef0=0.0,\n",
      "  decision_function_shape=None, degree=3, gamma=1, kernel='rbf',\n",
      "  max_iter=-1, probability=False, random_state=None, shrinking=True,\n",
      "  tol=0.001, verbose=False)\n",
      "\n",
      "Grid scores on development set:\n",
      "\n",
      "0.996 (+/-0.001) for {'gamma': 1, 'C': 1, 'kernel': 'rbf'}\n",
      "0.984 (+/-0.004) for {'gamma': 0.1, 'C': 1, 'kernel': 'rbf'}\n",
      "0.888 (+/-0.011) for {'gamma': 0.01, 'C': 1, 'kernel': 'rbf'}\n",
      "0.682 (+/-0.021) for {'gamma': 0.001, 'C': 1, 'kernel': 'rbf'}\n",
      "0.642 (+/-0.008) for {'gamma': 0.0001, 'C': 1, 'kernel': 'rbf'}\n",
      "0.997 (+/-0.001) for {'gamma': 1, 'C': 10, 'kernel': 'rbf'}\n",
      "0.988 (+/-0.003) for {'gamma': 0.1, 'C': 10, 'kernel': 'rbf'}\n",
      "0.950 (+/-0.006) for {'gamma': 0.01, 'C': 10, 'kernel': 'rbf'}\n",
      "0.801 (+/-0.019) for {'gamma': 0.001, 'C': 10, 'kernel': 'rbf'}\n",
      "0.670 (+/-0.020) for {'gamma': 0.0001, 'C': 10, 'kernel': 'rbf'}\n",
      "0.997 (+/-0.001) for {'gamma': 1, 'C': 100, 'kernel': 'rbf'}\n",
      "0.988 (+/-0.004) for {'gamma': 0.1, 'C': 100, 'kernel': 'rbf'}\n",
      "0.979 (+/-0.003) for {'gamma': 0.01, 'C': 100, 'kernel': 'rbf'}\n",
      "0.869 (+/-0.013) for {'gamma': 0.001, 'C': 100, 'kernel': 'rbf'}\n",
      "0.722 (+/-0.020) for {'gamma': 0.0001, 'C': 100, 'kernel': 'rbf'}\n",
      "0.997 (+/-0.001) for {'gamma': 1, 'C': 1000, 'kernel': 'rbf'}\n",
      "0.988 (+/-0.004) for {'gamma': 0.1, 'C': 1000, 'kernel': 'rbf'}\n",
      "0.971 (+/-0.002) for {'gamma': 0.01, 'C': 1000, 'kernel': 'rbf'}\n",
      "0.916 (+/-0.008) for {'gamma': 0.001, 'C': 1000, 'kernel': 'rbf'}\n",
      "0.781 (+/-0.019) for {'gamma': 0.0001, 'C': 1000, 'kernel': 'rbf'}\n",
      "0.743 (+/-0.008) for {'C': 1, 'kernel': 'linear'}\n",
      "0.739 (+/-0.012) for {'C': 10, 'kernel': 'linear'}\n",
      "0.720 (+/-0.014) for {'C': 100, 'kernel': 'linear'}\n",
      "0.734 (+/-0.007) for {'C': 1000, 'kernel': 'linear'}\n",
      "0.737 (+/-0.008) for {'degree': 1, 'kernel': 'poly'}\n",
      "0.815 (+/-0.010) for {'degree': 2, 'kernel': 'poly'}\n",
      "0.847 (+/-0.011) for {'degree': 3, 'kernel': 'poly'}\n",
      "\n",
      "Detailed classification report:\n",
      "\n",
      "The model is trained on the full development set.\n",
      "The scores are computed on the full evaluation set.\n",
      "\n",
      "             precision    recall  f1-score   support\n",
      "\n",
      "        0.0       0.95      0.97      0.96       148\n",
      "        1.0       0.80      0.67      0.73        24\n",
      "\n",
      "avg / total       0.93      0.93      0.93       172\n",
      "\n",
      "\n",
      "# Tuning hyper-parameters for precision\n",
      "\n",
      "Best parameters set found on development set:\n",
      "\n",
      "SVC(C=1, cache_size=200, class_weight=None, coef0=0.0,\n",
      "  decision_function_shape=None, degree=3, gamma=1, kernel='rbf',\n",
      "  max_iter=-1, probability=False, random_state=None, shrinking=True,\n",
      "  tol=0.001, verbose=False)\n",
      "\n",
      "Grid scores on development set:\n",
      "\n",
      "0.995 (+/-0.002) for {'gamma': 1, 'C': 1, 'kernel': 'rbf'}\n",
      "0.973 (+/-0.008) for {'gamma': 0.1, 'C': 1, 'kernel': 'rbf'}\n",
      "0.851 (+/-0.008) for {'gamma': 0.01, 'C': 1, 'kernel': 'rbf'}\n",
      "0.704 (+/-0.019) for {'gamma': 0.001, 'C': 1, 'kernel': 'rbf'}\n",
      "0.690 (+/-0.008) for {'gamma': 0.0001, 'C': 1, 'kernel': 'rbf'}\n",
      "0.995 (+/-0.002) for {'gamma': 1, 'C': 10, 'kernel': 'rbf'}\n",
      "0.979 (+/-0.005) for {'gamma': 0.1, 'C': 10, 'kernel': 'rbf'}\n",
      "0.920 (+/-0.008) for {'gamma': 0.01, 'C': 10, 'kernel': 'rbf'}\n",
      "0.792 (+/-0.010) for {'gamma': 0.001, 'C': 10, 'kernel': 'rbf'}\n",
      "0.690 (+/-0.014) for {'gamma': 0.0001, 'C': 10, 'kernel': 'rbf'}\n",
      "0.995 (+/-0.002) for {'gamma': 1, 'C': 100, 'kernel': 'rbf'}\n",
      "0.978 (+/-0.006) for {'gamma': 0.1, 'C': 100, 'kernel': 'rbf'}\n",
      "0.963 (+/-0.006) for {'gamma': 0.01, 'C': 100, 'kernel': 'rbf'}\n",
      "0.840 (+/-0.007) for {'gamma': 0.001, 'C': 100, 'kernel': 'rbf'}\n",
      "0.723 (+/-0.011) for {'gamma': 0.0001, 'C': 100, 'kernel': 'rbf'}\n",
      "0.995 (+/-0.002) for {'gamma': 1, 'C': 1000, 'kernel': 'rbf'}\n",
      "0.978 (+/-0.006) for {'gamma': 0.1, 'C': 1000, 'kernel': 'rbf'}\n",
      "0.949 (+/-0.004) for {'gamma': 0.01, 'C': 1000, 'kernel': 'rbf'}\n",
      "0.884 (+/-0.006) for {'gamma': 0.001, 'C': 1000, 'kernel': 'rbf'}\n",
      "0.761 (+/-0.011) for {'gamma': 0.0001, 'C': 1000, 'kernel': 'rbf'}\n",
      "0.726 (+/-0.006) for {'C': 1, 'kernel': 'linear'}\n",
      "0.725 (+/-0.008) for {'C': 10, 'kernel': 'linear'}\n",
      "0.707 (+/-0.008) for {'C': 100, 'kernel': 'linear'}\n",
      "0.715 (+/-0.005) for {'C': 1000, 'kernel': 'linear'}\n",
      "0.723 (+/-0.004) for {'degree': 1, 'kernel': 'poly'}\n",
      "0.784 (+/-0.013) for {'degree': 2, 'kernel': 'poly'}\n",
      "0.849 (+/-0.013) for {'degree': 3, 'kernel': 'poly'}\n",
      "\n",
      "Detailed classification report:\n",
      "\n",
      "The model is trained on the full development set.\n",
      "The scores are computed on the full evaluation set.\n",
      "\n",
      "             precision    recall  f1-score   support\n",
      "\n",
      "        0.0       0.95      0.97      0.96       148\n",
      "        1.0       0.80      0.67      0.73        24\n",
      "\n",
      "avg / total       0.93      0.93      0.93       172\n",
      "\n",
      "\n",
      "# Tuning hyper-parameters for recall\n",
      "\n",
      "Best parameters set found on development set:\n",
      "\n",
      "SVC(C=10, cache_size=200, class_weight=None, coef0=0.0,\n",
      "  decision_function_shape=None, degree=3, gamma=1, kernel='rbf',\n",
      "  max_iter=-1, probability=False, random_state=None, shrinking=True,\n",
      "  tol=0.001, verbose=False)\n",
      "\n",
      "Grid scores on development set:\n",
      "\n",
      "0.998 (+/-0.002) for {'gamma': 1, 'C': 1, 'kernel': 'rbf'}\n",
      "0.998 (+/-0.002) for {'gamma': 0.1, 'C': 1, 'kernel': 'rbf'}\n",
      "0.963 (+/-0.026) for {'gamma': 0.01, 'C': 1, 'kernel': 'rbf'}\n",
      "0.710 (+/-0.035) for {'gamma': 0.001, 'C': 1, 'kernel': 'rbf'}\n",
      "0.614 (+/-0.016) for {'gamma': 0.0001, 'C': 1, 'kernel': 'rbf'}\n",
      "1.000 (+/-0.000) for {'gamma': 1, 'C': 10, 'kernel': 'rbf'}\n",
      "0.998 (+/-0.002) for {'gamma': 0.1, 'C': 10, 'kernel': 'rbf'}\n",
      "0.993 (+/-0.005) for {'gamma': 0.01, 'C': 10, 'kernel': 'rbf'}\n",
      "0.857 (+/-0.034) for {'gamma': 0.001, 'C': 10, 'kernel': 'rbf'}\n",
      "0.704 (+/-0.035) for {'gamma': 0.0001, 'C': 10, 'kernel': 'rbf'}\n",
      "1.000 (+/-0.000) for {'gamma': 1, 'C': 100, 'kernel': 'rbf'}\n",
      "1.000 (+/-0.000) for {'gamma': 0.1, 'C': 100, 'kernel': 'rbf'}\n",
      "1.000 (+/-0.000) for {'gamma': 0.01, 'C': 100, 'kernel': 'rbf'}\n",
      "0.935 (+/-0.020) for {'gamma': 0.001, 'C': 100, 'kernel': 'rbf'}\n",
      "0.785 (+/-0.039) for {'gamma': 0.0001, 'C': 100, 'kernel': 'rbf'}\n",
      "1.000 (+/-0.000) for {'gamma': 1, 'C': 1000, 'kernel': 'rbf'}\n",
      "1.000 (+/-0.000) for {'gamma': 0.1, 'C': 1000, 'kernel': 'rbf'}\n",
      "1.000 (+/-0.000) for {'gamma': 0.01, 'C': 1000, 'kernel': 'rbf'}\n",
      "0.971 (+/-0.014) for {'gamma': 0.001, 'C': 1000, 'kernel': 'rbf'}\n",
      "0.866 (+/-0.033) for {'gamma': 0.0001, 'C': 1000, 'kernel': 'rbf'}\n",
      "0.842 (+/-0.023) for {'C': 1, 'kernel': 'linear'}\n",
      "0.832 (+/-0.026) for {'C': 10, 'kernel': 'linear'}\n",
      "0.819 (+/-0.030) for {'C': 100, 'kernel': 'linear'}\n",
      "0.844 (+/-0.015) for {'C': 1000, 'kernel': 'linear'}\n",
      "0.832 (+/-0.023) for {'degree': 1, 'kernel': 'poly'}\n",
      "0.909 (+/-0.010) for {'degree': 2, 'kernel': 'poly'}\n",
      "0.873 (+/-0.014) for {'degree': 3, 'kernel': 'poly'}\n",
      "\n",
      "Detailed classification report:\n",
      "\n",
      "The model is trained on the full development set.\n",
      "The scores are computed on the full evaluation set.\n",
      "\n",
      "             precision    recall  f1-score   support\n",
      "\n",
      "        0.0       0.95      0.97      0.96       148\n",
      "        1.0       0.80      0.67      0.73        24\n",
      "\n",
      "avg / total       0.93      0.93      0.93       172\n",
      "\n",
      "\n",
      "# Tuning hyper-parameters for f1\n",
      "\n",
      "Best parameters set found on development set:\n",
      "\n",
      "SVC(C=10, cache_size=200, class_weight=None, coef0=0.0,\n",
      "  decision_function_shape=None, degree=3, gamma=1, kernel='rbf',\n",
      "  max_iter=-1, probability=False, random_state=None, shrinking=True,\n",
      "  tol=0.001, verbose=False)\n",
      "\n",
      "Grid scores on development set:\n",
      "\n",
      "0.997 (+/-0.001) for {'gamma': 1, 'C': 1, 'kernel': 'rbf'}\n",
      "0.986 (+/-0.004) for {'gamma': 0.1, 'C': 1, 'kernel': 'rbf'}\n",
      "0.902 (+/-0.011) for {'gamma': 0.01, 'C': 1, 'kernel': 'rbf'}\n",
      "0.705 (+/-0.023) for {'gamma': 0.001, 'C': 1, 'kernel': 'rbf'}\n",
      "0.649 (+/-0.010) for {'gamma': 0.0001, 'C': 1, 'kernel': 'rbf'}\n",
      "0.998 (+/-0.001) for {'gamma': 1, 'C': 10, 'kernel': 'rbf'}\n",
      "0.989 (+/-0.002) for {'gamma': 0.1, 'C': 10, 'kernel': 'rbf'}\n",
      "0.955 (+/-0.005) for {'gamma': 0.01, 'C': 10, 'kernel': 'rbf'}\n",
      "0.822 (+/-0.020) for {'gamma': 0.001, 'C': 10, 'kernel': 'rbf'}\n",
      "0.696 (+/-0.022) for {'gamma': 0.0001, 'C': 10, 'kernel': 'rbf'}\n",
      "0.998 (+/-0.001) for {'gamma': 1, 'C': 100, 'kernel': 'rbf'}\n",
      "0.989 (+/-0.003) for {'gamma': 0.1, 'C': 100, 'kernel': 'rbf'}\n",
      "0.981 (+/-0.003) for {'gamma': 0.01, 'C': 100, 'kernel': 'rbf'}\n",
      "0.885 (+/-0.012) for {'gamma': 0.001, 'C': 100, 'kernel': 'rbf'}\n",
      "0.751 (+/-0.022) for {'gamma': 0.0001, 'C': 100, 'kernel': 'rbf'}\n",
      "0.998 (+/-0.001) for {'gamma': 1, 'C': 1000, 'kernel': 'rbf'}\n",
      "0.989 (+/-0.003) for {'gamma': 0.1, 'C': 1000, 'kernel': 'rbf'}\n",
      "0.974 (+/-0.002) for {'gamma': 0.01, 'C': 1000, 'kernel': 'rbf'}\n",
      "0.925 (+/-0.007) for {'gamma': 0.001, 'C': 1000, 'kernel': 'rbf'}\n",
      "0.809 (+/-0.019) for {'gamma': 0.0001, 'C': 1000, 'kernel': 'rbf'}\n",
      "0.779 (+/-0.010) for {'C': 1, 'kernel': 'linear'}\n",
      "0.774 (+/-0.013) for {'C': 10, 'kernel': 'linear'}\n",
      "0.758 (+/-0.016) for {'C': 100, 'kernel': 'linear'}\n",
      "0.774 (+/-0.007) for {'C': 1000, 'kernel': 'linear'}\n",
      "0.773 (+/-0.010) for {'degree': 1, 'kernel': 'poly'}\n",
      "0.841 (+/-0.008) for {'degree': 2, 'kernel': 'poly'}\n",
      "0.860 (+/-0.010) for {'degree': 3, 'kernel': 'poly'}\n",
      "\n",
      "Detailed classification report:\n",
      "\n",
      "The model is trained on the full development set.\n",
      "The scores are computed on the full evaluation set.\n",
      "\n",
      "             precision    recall  f1-score   support\n",
      "\n",
      "        0.0       0.95      0.97      0.96       148\n",
      "        1.0       0.80      0.67      0.73        24\n",
      "\n",
      "avg / total       0.93      0.93      0.93       172\n",
      "\n",
      "\n"
     ]
    }
   ],
   "source": [
    "pol_modeling.SVC_grid_search(year=2011, year_delta=2)"
   ]
  },
  {
   "cell_type": "code",
   "execution_count": null,
   "metadata": {
    "collapsed": true
   },
   "outputs": [],
   "source": []
  }
 ],
 "metadata": {
  "kernelspec": {
   "display_name": "Python 3",
   "language": "python",
   "name": "python3"
  },
  "language_info": {
   "codemirror_mode": {
    "name": "ipython",
    "version": 3
   },
   "file_extension": ".py",
   "mimetype": "text/x-python",
   "name": "python",
   "nbconvert_exporter": "python",
   "pygments_lexer": "ipython3",
   "version": "3.5.0"
  }
 },
 "nbformat": 4,
 "nbformat_minor": 0
}
