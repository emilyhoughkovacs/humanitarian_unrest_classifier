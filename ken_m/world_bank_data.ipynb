{
 "cells": [
  {
   "cell_type": "markdown",
   "metadata": {},
   "source": [
    "# World Bank Data\n",
    "\n",
    "## This data was taken from the dataset on [Kaggle](https://www.kaggle.com/worldbank/world-development-indicators)"
   ]
  },
  {
   "cell_type": "code",
   "execution_count": 2,
   "metadata": {
    "collapsed": true
   },
   "outputs": [],
   "source": [
    "import pandas as pd\n",
    "import numpy as np\n",
    "from copy import deepcopy"
   ]
  },
  {
   "cell_type": "code",
   "execution_count": 3,
   "metadata": {
    "collapsed": true
   },
   "outputs": [],
   "source": [
    "def readData(filename):\n",
    "    with open(filename) as f:\n",
    "        data = pd.read_csv(f)\n",
    "        \n",
    "    return data"
   ]
  },
  {
   "cell_type": "code",
   "execution_count": 4,
   "metadata": {
    "collapsed": false
   },
   "outputs": [],
   "source": [
    "all_df = readData('world-development-indicators/indicators.csv')"
   ]
  },
  {
   "cell_type": "code",
   "execution_count": 14,
   "metadata": {
    "collapsed": true
   },
   "outputs": [],
   "source": [
    "def getSpecificDf(all_df, indicatorcode):\n",
    "    specific_indicator = all_df[all_df.IndicatorCode == indicatorcode]\n",
    "    years = list(range(min(all_df.Year), max(all_df.Year)+1))\n",
    "    col_names = ['CountryCode', 'CountryName'] + years\n",
    "    specific_indicator = specific_indicator[['CountryCode', 'CountryName', 'Year', 'Value']]\n",
    "    for year in years:\n",
    "        specific_indicator[year] = np.nan\n",
    "    \n",
    "    for index, row in specific_indicator.iterrows():\n",
    "        row_value = deepcopy(row.Value)\n",
    "        specific_indicator.loc[index, row.Year] = row_value\n",
    "\n",
    "    specific_indicator = specific_indicator[col_names]\n",
    "    specific_indicator_formatted = specific_indicator.groupby([specific_indicator.CountryCode, specific_indicator.CountryName]).sum()\n",
    "    specific_indicator_formatted.reset_index(inplace=True)\n",
    "    specific_indicator_formatted = specific_indicator_formatted.dropna(axis=1, how='all')\n",
    "    \n",
    "    years = specific_indicator_formatted.columns[2:]\n",
    "    y_years = []\n",
    "    for year in years:\n",
    "        y_years.append('y'+str(year))\n",
    "    adjusted_col_names = ['countrycode', 'countryname'] + y_years\n",
    "\n",
    "    specific_indicator_formatted.columns = adjusted_col_names\n",
    "    \n",
    "    return specific_indicator_formatted"
   ]
  },
  {
   "cell_type": "markdown",
   "metadata": {},
   "source": [
    "## Life Expectancy"
   ]
  },
  {
   "cell_type": "code",
   "execution_count": 15,
   "metadata": {
    "collapsed": false
   },
   "outputs": [],
   "source": [
    "life_expectancy = getSpecificDf(all_df, 'SP.DYN.LE00.IN')"
   ]
  },
  {
   "cell_type": "code",
   "execution_count": 16,
   "metadata": {
    "collapsed": true
   },
   "outputs": [],
   "source": [
    "life_expectancy.to_csv('world_bank_data/life_expectancy.csv', index=False)"
   ]
  },
  {
   "cell_type": "markdown",
   "metadata": {},
   "source": [
    "## Population Size"
   ]
  },
  {
   "cell_type": "code",
   "execution_count": 17,
   "metadata": {
    "collapsed": true
   },
   "outputs": [],
   "source": [
    "population_total = getSpecificDf(all_df, 'SP.POP.TOTL')"
   ]
  },
  {
   "cell_type": "code",
   "execution_count": 18,
   "metadata": {
    "collapsed": true
   },
   "outputs": [],
   "source": [
    "population_total.to_csv('../refugee_data_dv/population_size.csv', index=False)"
   ]
  },
  {
   "cell_type": "markdown",
   "metadata": {
    "collapsed": true
   },
   "source": [
    "## Refugees by origin"
   ]
  },
  {
   "cell_type": "code",
   "execution_count": 19,
   "metadata": {
    "collapsed": false
   },
   "outputs": [],
   "source": [
    "refugees_by_origin = getSpecificDf(all_df, 'SM.POP.REFG.OR')"
   ]
  },
  {
   "cell_type": "code",
   "execution_count": 20,
   "metadata": {
    "collapsed": false
   },
   "outputs": [],
   "source": [
    "refugees_by_origin.to_csv('../refugee_data_dv/refugees_by_origin.csv', index=False)"
   ]
  },
  {
   "cell_type": "markdown",
   "metadata": {},
   "source": [
    "### Refugees as percent of population"
   ]
  },
  {
   "cell_type": "code",
   "execution_count": 22,
   "metadata": {
    "collapsed": false
   },
   "outputs": [],
   "source": [
    "population_total2 = population_total.set_index('countrycode')"
   ]
  },
  {
   "cell_type": "code",
   "execution_count": 24,
   "metadata": {
    "collapsed": false
   },
   "outputs": [],
   "source": [
    "refugees_by_origin2 = refugees_by_origin.set_index('countrycode')"
   ]
  },
  {
   "cell_type": "code",
   "execution_count": 25,
   "metadata": {
    "collapsed": false
   },
   "outputs": [],
   "source": [
    "countries = refugees_by_origin.iloc[:,:2]\n",
    "countries.index = countries['countrycode']"
   ]
  },
  {
   "cell_type": "code",
   "execution_count": 26,
   "metadata": {
    "collapsed": false
   },
   "outputs": [],
   "source": [
    "refugees_fraction = refugees_by_origin2.iloc[:,1:].divide(population_total2.iloc[:,1:]).dropna(axis=1, how='all').dropna(axis=0, how='all')"
   ]
  },
  {
   "cell_type": "code",
   "execution_count": 27,
   "metadata": {
    "collapsed": false,
    "scrolled": false
   },
   "outputs": [],
   "source": [
    "refugees_fraction = pd.concat([countries, refugees_fraction], axis=1, join='outer')"
   ]
  },
  {
   "cell_type": "code",
   "execution_count": 28,
   "metadata": {
    "collapsed": false
   },
   "outputs": [],
   "source": [
    "refugees_fraction.reset_index(drop=True, inplace=True)"
   ]
  },
  {
   "cell_type": "code",
   "execution_count": 29,
   "metadata": {
    "collapsed": false
   },
   "outputs": [],
   "source": [
    "refugees_fraction.to_csv('../refugee_data_dv/refugees_fraction.csv', index=False)"
   ]
  },
  {
   "cell_type": "markdown",
   "metadata": {},
   "source": [
    "#### Z - scores"
   ]
  },
  {
   "cell_type": "code",
   "execution_count": 30,
   "metadata": {
    "collapsed": false
   },
   "outputs": [],
   "source": [
    "refugees_fraction_z = deepcopy(refugees_fraction)\n",
    "for col in refugees_fraction.columns[2:]:\n",
    "    refugees_fraction_z[col] = (refugees_fraction[col] - refugees_fraction[col].mean())/refugees_fraction[col].std(ddof=0)\n",
    "    \n",
    "refugees_fraction_z.to_csv('../refugee_data_dv/refugees_fraction_z.csv', index=False)"
   ]
  },
  {
   "cell_type": "markdown",
   "metadata": {
    "collapsed": true
   },
   "source": [
    "## Youth Literacy age 15-24"
   ]
  },
  {
   "cell_type": "code",
   "execution_count": 31,
   "metadata": {
    "collapsed": false
   },
   "outputs": [],
   "source": [
    "youth_literacy = getSpecificDf(all_df, 'SE.ADT.1524.LT.ZS')"
   ]
  },
  {
   "cell_type": "code",
   "execution_count": 32,
   "metadata": {
    "collapsed": false
   },
   "outputs": [],
   "source": [
    "youth_literacy.to_csv('world_bank_data/youth_literacy.csv', index=False)"
   ]
  },
  {
   "cell_type": "markdown",
   "metadata": {
    "collapsed": true
   },
   "source": [
    "## Youth Literacy age 15-24"
   ]
  },
  {
   "cell_type": "code",
   "execution_count": 33,
   "metadata": {
    "collapsed": true
   },
   "outputs": [],
   "source": [
    "youth_literacy = getSpecificDf(all_df, 'SE.ADT.1524.LT.ZS')"
   ]
  },
  {
   "cell_type": "code",
   "execution_count": 34,
   "metadata": {
    "collapsed": true
   },
   "outputs": [],
   "source": [
    "youth_literacy.to_csv('world_bank_data/youth_literacy.csv', index=False)"
   ]
  },
  {
   "cell_type": "markdown",
   "metadata": {
    "collapsed": true
   },
   "source": [
    "## under 5 mortality per 1000"
   ]
  },
  {
   "cell_type": "code",
   "execution_count": 35,
   "metadata": {
    "collapsed": true
   },
   "outputs": [],
   "source": [
    "under_5_mortality = getSpecificDf(all_df, 'SH.DYN.MORT')\n",
    "under_5_mortality.to_csv('world_bank_data/under_5_mortality.csv', index=False)"
   ]
  },
  {
   "cell_type": "markdown",
   "metadata": {},
   "source": [
    "## Population, ages 0-14 (% of total)"
   ]
  },
  {
   "cell_type": "code",
   "execution_count": 36,
   "metadata": {
    "collapsed": true
   },
   "outputs": [],
   "source": [
    "population_0_14 = getSpecificDf(all_df, 'SP.POP.0014.TO.ZS')\n",
    "population_0_14.to_csv('world_bank_data/population_0_14.csv', index=False)"
   ]
  },
  {
   "cell_type": "markdown",
   "metadata": {},
   "source": [
    "## Population, ages 15-64 (% of total)"
   ]
  },
  {
   "cell_type": "code",
   "execution_count": 37,
   "metadata": {
    "collapsed": true
   },
   "outputs": [],
   "source": [
    "population_15_64 = getSpecificDf(all_df, 'SP.POP.1564.TO.ZS')\n",
    "population_15_64.to_csv('world_bank_data/population_15_64.csv', index=False)"
   ]
  },
  {
   "cell_type": "markdown",
   "metadata": {},
   "source": [
    "## Population ages 65 and above (% of total)"
   ]
  },
  {
   "cell_type": "code",
   "execution_count": 38,
   "metadata": {
    "collapsed": true
   },
   "outputs": [],
   "source": [
    "population_65_up = getSpecificDf(all_df, 'SP.POP.65UP.TO.ZS')\n",
    "population_65_up.to_csv('world_bank_data/population_65_up.csv', index=False)"
   ]
  },
  {
   "cell_type": "markdown",
   "metadata": {},
   "source": [
    "## Population, female (% of total)"
   ]
  },
  {
   "cell_type": "code",
   "execution_count": 39,
   "metadata": {
    "collapsed": true
   },
   "outputs": [],
   "source": [
    "population_female = getSpecificDf(all_df, 'SP.POP.TOTL.FE.ZS')\n",
    "population_female.to_csv('world_bank_data/population_female.csv', index=False)"
   ]
  },
  {
   "cell_type": "markdown",
   "metadata": {},
   "source": [
    "## Population growth (annual %)"
   ]
  },
  {
   "cell_type": "code",
   "execution_count": 40,
   "metadata": {
    "collapsed": true
   },
   "outputs": [],
   "source": [
    "population_growth = getSpecificDf(all_df, 'SP.POP.GROW')\n",
    "population_growth.to_csv('world_bank_data/population_growth.csv', index=False)"
   ]
  },
  {
   "cell_type": "markdown",
   "metadata": {},
   "source": [
    "## % of female legislators"
   ]
  },
  {
   "cell_type": "code",
   "execution_count": 41,
   "metadata": {
    "collapsed": false
   },
   "outputs": [],
   "source": [
    "female_legislators = getSpecificDf(all_df, 'SG.GEN.PARL.ZS')\n",
    "female_legislators.to_csv('world_bank_data/female_legislators.csv', index=False)\n"
   ]
  },
  {
   "cell_type": "code",
   "execution_count": null,
   "metadata": {
    "collapsed": true
   },
   "outputs": [],
   "source": []
  },
  {
   "cell_type": "code",
   "execution_count": null,
   "metadata": {
    "collapsed": true
   },
   "outputs": [],
   "source": []
  }
 ],
 "metadata": {
  "kernelspec": {
   "display_name": "Python 3",
   "language": "python",
   "name": "python3"
  },
  "language_info": {
   "codemirror_mode": {
    "name": "ipython",
    "version": 3
   },
   "file_extension": ".py",
   "mimetype": "text/x-python",
   "name": "python",
   "nbconvert_exporter": "python",
   "pygments_lexer": "ipython3",
   "version": "3.5.0"
  }
 },
 "nbformat": 4,
 "nbformat_minor": 0
}
