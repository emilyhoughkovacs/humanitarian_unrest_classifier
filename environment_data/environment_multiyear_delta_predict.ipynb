{
 "cells": [
  {
   "cell_type": "code",
   "execution_count": 1,
   "metadata": {
    "collapsed": true
   },
   "outputs": [],
   "source": [
    "# @TODO: try this for y-values\n",
    "# sometimes this is called “non-parametric” in classical statistics\n",
    "# rank-based /percentile cutoff"
   ]
  },
  {
   "cell_type": "code",
   "execution_count": 173,
   "metadata": {
    "collapsed": false
   },
   "outputs": [],
   "source": [
    "from sqlalchemy import create_engine\n",
    "import pandas as pd\n",
    "import numpy as np\n",
    "\n",
    "from sklearn.cross_validation import train_test_split, StratifiedShuffleSplit\n",
    "from sklearn.neighbors import KNeighborsClassifier\n",
    "from sklearn.metrics import (\n",
    "                            accuracy_score, \n",
    "                            precision_score, \n",
    "                            recall_score, \n",
    "                            f1_score, \n",
    "                            roc_curve, \n",
    "                            roc_auc_score, \n",
    "                            confusion_matrix\n",
    "                            )\n",
    "from sklearn.linear_model import LogisticRegression, LinearRegression\n",
    "from sklearn.naive_bayes import GaussianNB, BernoulliNB\n",
    "from sklearn.svm import SVC\n",
    "from sklearn.tree import DecisionTreeClassifier\n",
    "from sklearn.tree import DecisionTreeRegressor\n",
    "from sklearn.ensemble import RandomForestClassifier\n",
    "from sklearn.learning_curve import learning_curve\n",
    "from sklearn.cross_validation import cross_val_score\n",
    "from sklearn.metrics import confusion_matrix\n",
    "\n",
    "from unbalanced_dataset import OverSampler, SMOTE\n",
    "\n",
    "import matplotlib.pyplot as plt\n",
    "# import seaborn as sns\n",
    "\n",
    "import statsmodels.api as sm\n",
    "from statsmodels.tsa.ar_model import AR, ARResults\n",
    "from scipy.misc import factorial as fact\n",
    "\n",
    "%matplotlib inline"
   ]
  },
  {
   "cell_type": "code",
   "execution_count": 174,
   "metadata": {
    "collapsed": false
   },
   "outputs": [],
   "source": [
    "CONFIG = {}\n",
    "\n",
    "with open('config.txt', \"r\") as in_file:\n",
    "    for line in in_file:\n",
    "        line = line.split(\":\")\n",
    "        parameter = line[0].strip()\n",
    "        value = line[1].strip()\n",
    "        CONFIG[parameter] = value\n",
    "                \n",
    "engine_path = 'postgresql://'+CONFIG['username']+':'+\\\n",
    "                CONFIG['password']+'@'+CONFIG['ip']+\\\n",
    "                ':'+CONFIG['port']+'/'+CONFIG['database']\n",
    "        \n",
    "engine = create_engine(engine_path)"
   ]
  },
  {
   "cell_type": "markdown",
   "metadata": {},
   "source": [
    "##Want something like:"
   ]
  },
  {
   "cell_type": "raw",
   "metadata": {},
   "source": [
    "SELECT\n",
    "fa.countrycode, fa.y1990 as forestarea, env.precipitation, env.extreme, env.arable_land, env.freshwater\n",
    "FROM\n",
    "(SELECT countrycode, y1990 from forestarea) fa\n",
    "JOIN\n",
    "(SELECT p.countrycode as countrycode, p.y1990 as precipitation, e.y1990 as extreme, a.y1990 as arable_land, f.y1990 as freshwater\n",
    "FROM\n",
    "\t((SELECT countrycode, y1990 FROM environment where series ='precipitation') p\n",
    "\tJOIN\n",
    "\t(SELECT countrycode, y1990 FROM environment where series ='extreme') e\n",
    "\ton p.countrycode = e.countrycode\n",
    "\tJOIN\n",
    "\t(SELECT countrycode, y1990 FROM environment where series='arable_land') a\n",
    "\ton p.countrycode = a.countrycode\n",
    "\tJOIN\n",
    "\t(SELECT countrycode, y1990 FROM environment where series='freshwater') f\n",
    "\ton p.countrycode = f.countrycode)) env\n",
    "ON fa.countrycode = env.countrycode;"
   ]
  },
  {
   "cell_type": "code",
   "execution_count": 7,
   "metadata": {
    "collapsed": true
   },
   "outputs": [],
   "source": [
    "def makeSQLQuery(table_names, year, seriesnames):\n",
    "    dotyyear = '.y' + str(year)\n",
    "    short = table_names[0][0:2]\n",
    "    seriesnames = seriesnames\n",
    "    abb = [ser[0:2] for ser in seriesnames]\n",
    "    query = 'SELECT x.*, y' + dotyyear + ' as zscores FROM (' + \\\n",
    "            'SELECT ' + short + '.countrycode AS countrycode, ' + \\\n",
    "            short + dotyyear + ' AS ' + table_names[0] \n",
    "    \n",
    "    mystr = ''\n",
    "    for s in seriesnames:\n",
    "        mystr = mystr + ', env.' + s\n",
    "    mystr = mystr\n",
    "    \n",
    "    query = query + mystr\n",
    "    \n",
    "    query = query + ' FROM (SELECT countrycode, ' + dotyyear[1:] + \\\n",
    "        ' FROM ' + table_names[0] + ') ' + short + ' JOIN ' + \\\n",
    "        '(SELECT ' + abb[0] + '.countrycode AS countrycode'\n",
    "    \n",
    "    mystr = ''\n",
    "    for a, ser in zip(abb, seriesnames):\n",
    "        mystr = mystr + ', ' + a + dotyyear + ' as ' + ser\n",
    "    query = query + mystr\n",
    "    \n",
    "    query = query + ' FROM ('\n",
    "    \n",
    "    subquery = []\n",
    "    for a, ser in zip(abb, seriesnames):\n",
    "        mystr = ''\n",
    "        mystr = mystr + '(SELECT countrycode, ' + dotyyear[1:] + \\\n",
    "        ' FROM ' + table_names[1] + \" WHERE series='\" + ser + \\\n",
    "        \"') \" + a\n",
    "        subquery.append(mystr)\n",
    "    \n",
    "    query = query + subquery[0] + ' JOIN ' + subquery[1] + ' ON ' + \\\n",
    "        abb[0] + '.countrycode = ' + abb[1] + '.countrycode' + \\\n",
    "        ' JOIN ' + subquery[2] + ' ON ' + \\\n",
    "        abb[0] + '.countrycode = ' + abb[2] + '.countrycode' + \\\n",
    "        ' JOIN ' + subquery[3] + ' ON ' + \\\n",
    "        abb[0] + '.countrycode = ' + abb[3] + '.countrycode)) env' + \\\n",
    "        ' ON ' + short + '.countrycode = env.countrycode'\n",
    "        \n",
    "    query = query + ') x JOIN (select countrycode, ' + dotyyear[1:] + \\\n",
    "            ' FROM refugee_increases_z_scores) y on x.countrycode = y.countrycode'\n",
    "    \n",
    "    return query"
   ]
  },
  {
   "cell_type": "code",
   "execution_count": 8,
   "metadata": {
    "collapsed": true
   },
   "outputs": [],
   "source": [
    "years = [x for x in range(2006, 2014)]"
   ]
  },
  {
   "cell_type": "code",
   "execution_count": 9,
   "metadata": {
    "collapsed": false
   },
   "outputs": [
    {
     "name": "stdout",
     "output_type": "stream",
     "text": [
      "SELECT x.*, y.y2006 as zscores FROM (SELECT fo.countrycode AS countrycode, fo.y2006 AS forestarea, env.precipitation, env.extreme, env.arable_land, env.freshwater FROM (SELECT countrycode, y2006 FROM forestarea) fo JOIN (SELECT pr.countrycode AS countrycode, pr.y2006 as precipitation, ex.y2006 as extreme, ar.y2006 as arable_land, fr.y2006 as freshwater FROM ((SELECT countrycode, y2006 FROM environment WHERE series='precipitation') pr JOIN (SELECT countrycode, y2006 FROM environment WHERE series='extreme') ex ON pr.countrycode = ex.countrycode JOIN (SELECT countrycode, y2006 FROM environment WHERE series='arable_land') ar ON pr.countrycode = ar.countrycode JOIN (SELECT countrycode, y2006 FROM environment WHERE series='freshwater') fr ON pr.countrycode = fr.countrycode)) env ON fo.countrycode = env.countrycode) x JOIN (select countrycode, y2006 FROM refugee_increases_z_scores) y on x.countrycode = y.countrycode\n"
     ]
    }
   ],
   "source": [
    "tables = ['forestarea', 'environment']\n",
    "features = ['precipitation', 'extreme', 'arable_land', 'freshwater']\n",
    "print makeSQLQuery(tables, years[0], features)"
   ]
  },
  {
   "cell_type": "code",
   "execution_count": 23,
   "metadata": {
    "collapsed": true
   },
   "outputs": [],
   "source": [
    "df = pd.DataFrame()"
   ]
  },
  {
   "cell_type": "code",
   "execution_count": 24,
   "metadata": {
    "collapsed": false
   },
   "outputs": [],
   "source": [
    "for year in years:\n",
    "    query = makeSQLQuery(tables, year, features)\n",
    "    year_data = pd.read_sql_query(query, engine)\n",
    "    year_data['year'] = year\n",
    "    year_data = year_data.set_index(['countrycode', 'year'])\n",
    "    df = pd.concat([df, year_data])"
   ]
  },
  {
   "cell_type": "code",
   "execution_count": 25,
   "metadata": {
    "collapsed": false
   },
   "outputs": [
    {
     "data": {
      "text/plain": [
       "1264"
      ]
     },
     "execution_count": 25,
     "metadata": {},
     "output_type": "execute_result"
    }
   ],
   "source": [
    "len(df)"
   ]
  },
  {
   "cell_type": "code",
   "execution_count": 26,
   "metadata": {
    "collapsed": false
   },
   "outputs": [],
   "source": [
    "df = df.dropna()"
   ]
  },
  {
   "cell_type": "code",
   "execution_count": 15,
   "metadata": {
    "collapsed": true
   },
   "outputs": [],
   "source": [
    "df['zscores'] = df['zscores'].astype(float)"
   ]
  },
  {
   "cell_type": "code",
   "execution_count": 17,
   "metadata": {
    "collapsed": false
   },
   "outputs": [
    {
     "data": {
      "text/html": [
       "<div>\n",
       "<table border=\"1\" class=\"dataframe\">\n",
       "  <thead>\n",
       "    <tr style=\"text-align: right;\">\n",
       "      <th></th>\n",
       "      <th>forestarea</th>\n",
       "      <th>precipitation</th>\n",
       "      <th>extreme</th>\n",
       "      <th>arable_land</th>\n",
       "      <th>freshwater</th>\n",
       "      <th>zscores</th>\n",
       "    </tr>\n",
       "  </thead>\n",
       "  <tbody>\n",
       "    <tr>\n",
       "      <th>count</th>\n",
       "      <td>1264.000000</td>\n",
       "      <td>1264.000000</td>\n",
       "      <td>1264.000000</td>\n",
       "      <td>1264.000000</td>\n",
       "      <td>1264.000000</td>\n",
       "      <td>1264.000000</td>\n",
       "    </tr>\n",
       "    <tr>\n",
       "      <th>mean</th>\n",
       "      <td>30.765481</td>\n",
       "      <td>1117.474684</td>\n",
       "      <td>1.202044</td>\n",
       "      <td>16.082192</td>\n",
       "      <td>14745.413957</td>\n",
       "      <td>-0.046499</td>\n",
       "    </tr>\n",
       "    <tr>\n",
       "      <th>std</th>\n",
       "      <td>22.101938</td>\n",
       "      <td>757.163111</td>\n",
       "      <td>1.970723</td>\n",
       "      <td>13.834087</td>\n",
       "      <td>34871.282499</td>\n",
       "      <td>0.251866</td>\n",
       "    </tr>\n",
       "    <tr>\n",
       "      <th>min</th>\n",
       "      <td>0.067909</td>\n",
       "      <td>51.000000</td>\n",
       "      <td>0.000000</td>\n",
       "      <td>0.051769</td>\n",
       "      <td>0.000000</td>\n",
       "      <td>-0.082345</td>\n",
       "    </tr>\n",
       "    <tr>\n",
       "      <th>25%</th>\n",
       "      <td>11.112776</td>\n",
       "      <td>564.250000</td>\n",
       "      <td>0.022191</td>\n",
       "      <td>5.182952</td>\n",
       "      <td>1164.644805</td>\n",
       "      <td>-0.082345</td>\n",
       "    </tr>\n",
       "    <tr>\n",
       "      <th>50%</th>\n",
       "      <td>30.811820</td>\n",
       "      <td>1010.000000</td>\n",
       "      <td>0.266991</td>\n",
       "      <td>11.934412</td>\n",
       "      <td>2991.640584</td>\n",
       "      <td>-0.082345</td>\n",
       "    </tr>\n",
       "    <tr>\n",
       "      <th>75%</th>\n",
       "      <td>46.710563</td>\n",
       "      <td>1608.500000</td>\n",
       "      <td>1.295973</td>\n",
       "      <td>22.807534</td>\n",
       "      <td>11832.114071</td>\n",
       "      <td>-0.079950</td>\n",
       "    </tr>\n",
       "    <tr>\n",
       "      <th>max</th>\n",
       "      <td>98.506410</td>\n",
       "      <td>3240.000000</td>\n",
       "      <td>9.226586</td>\n",
       "      <td>60.536222</td>\n",
       "      <td>323213.140961</td>\n",
       "      <td>5.172378</td>\n",
       "    </tr>\n",
       "  </tbody>\n",
       "</table>\n",
       "</div>"
      ],
      "text/plain": [
       "        forestarea  precipitation      extreme  arable_land     freshwater  \\\n",
       "count  1264.000000    1264.000000  1264.000000  1264.000000    1264.000000   \n",
       "mean     30.765481    1117.474684     1.202044    16.082192   14745.413957   \n",
       "std      22.101938     757.163111     1.970723    13.834087   34871.282499   \n",
       "min       0.067909      51.000000     0.000000     0.051769       0.000000   \n",
       "25%      11.112776     564.250000     0.022191     5.182952    1164.644805   \n",
       "50%      30.811820    1010.000000     0.266991    11.934412    2991.640584   \n",
       "75%      46.710563    1608.500000     1.295973    22.807534   11832.114071   \n",
       "max      98.506410    3240.000000     9.226586    60.536222  323213.140961   \n",
       "\n",
       "           zscores  \n",
       "count  1264.000000  \n",
       "mean     -0.046499  \n",
       "std       0.251866  \n",
       "min      -0.082345  \n",
       "25%      -0.082345  \n",
       "50%      -0.082345  \n",
       "75%      -0.079950  \n",
       "max       5.172378  "
      ]
     },
     "execution_count": 17,
     "metadata": {},
     "output_type": "execute_result"
    }
   ],
   "source": [
    "df.describe()"
   ]
  },
  {
   "cell_type": "code",
   "execution_count": 39,
   "metadata": {
    "collapsed": false
   },
   "outputs": [],
   "source": [
    "df['binary'] = df['zscores'].apply(lambda x: 0 if x<0 else 1)"
   ]
  },
  {
   "cell_type": "code",
   "execution_count": 19,
   "metadata": {
    "collapsed": false
   },
   "outputs": [
    {
     "data": {
      "text/plain": [
       "60"
      ]
     },
     "execution_count": 19,
     "metadata": {},
     "output_type": "execute_result"
    }
   ],
   "source": [
    "len(df[df['binary']==1])"
   ]
  },
  {
   "cell_type": "code",
   "execution_count": 20,
   "metadata": {
    "collapsed": false
   },
   "outputs": [
    {
     "data": {
      "text/plain": [
       "1264"
      ]
     },
     "execution_count": 20,
     "metadata": {},
     "output_type": "execute_result"
    }
   ],
   "source": [
    "len(df)"
   ]
  },
  {
   "cell_type": "code",
   "execution_count": 22,
   "metadata": {
    "collapsed": false
   },
   "outputs": [
    {
     "data": {
      "text/plain": [
       "4.746835443037975"
      ]
     },
     "execution_count": 22,
     "metadata": {},
     "output_type": "execute_result"
    }
   ],
   "source": [
    "60./1264*100"
   ]
  },
  {
   "cell_type": "code",
   "execution_count": 42,
   "metadata": {
    "collapsed": false
   },
   "outputs": [
    {
     "data": {
      "text/html": [
       "<div>\n",
       "<table border=\"1\" class=\"dataframe\">\n",
       "  <thead>\n",
       "    <tr style=\"text-align: right;\">\n",
       "      <th></th>\n",
       "      <th>forestarea</th>\n",
       "      <th>precipitation</th>\n",
       "      <th>extreme</th>\n",
       "      <th>arable_land</th>\n",
       "      <th>freshwater</th>\n",
       "      <th>zscores</th>\n",
       "      <th>binary</th>\n",
       "    </tr>\n",
       "  </thead>\n",
       "  <tbody>\n",
       "    <tr>\n",
       "      <th>count</th>\n",
       "      <td>2502.000000</td>\n",
       "      <td>2502.000000</td>\n",
       "      <td>2502.000000</td>\n",
       "      <td>2502.000000</td>\n",
       "      <td>2502.000000</td>\n",
       "      <td>2502.000000</td>\n",
       "      <td>2502.000000</td>\n",
       "    </tr>\n",
       "    <tr>\n",
       "      <th>mean</th>\n",
       "      <td>30.606953</td>\n",
       "      <td>1112.219025</td>\n",
       "      <td>1.214430</td>\n",
       "      <td>16.109750</td>\n",
       "      <td>14878.542330</td>\n",
       "      <td>0.040514</td>\n",
       "      <td>0.157474</td>\n",
       "    </tr>\n",
       "    <tr>\n",
       "      <th>std</th>\n",
       "      <td>22.133838</td>\n",
       "      <td>757.134960</td>\n",
       "      <td>1.976777</td>\n",
       "      <td>13.874216</td>\n",
       "      <td>35020.530613</td>\n",
       "      <td>1.143605</td>\n",
       "      <td>0.364320</td>\n",
       "    </tr>\n",
       "    <tr>\n",
       "      <th>min</th>\n",
       "      <td>0.067909</td>\n",
       "      <td>51.000000</td>\n",
       "      <td>0.000000</td>\n",
       "      <td>0.051769</td>\n",
       "      <td>0.000000</td>\n",
       "      <td>-0.293136</td>\n",
       "      <td>0.000000</td>\n",
       "    </tr>\n",
       "    <tr>\n",
       "      <th>25%</th>\n",
       "      <td>11.078235</td>\n",
       "      <td>562.000000</td>\n",
       "      <td>0.023082</td>\n",
       "      <td>5.127726</td>\n",
       "      <td>1147.784317</td>\n",
       "      <td>-0.276353</td>\n",
       "      <td>0.000000</td>\n",
       "    </tr>\n",
       "    <tr>\n",
       "      <th>50%</th>\n",
       "      <td>30.513576</td>\n",
       "      <td>1010.000000</td>\n",
       "      <td>0.269239</td>\n",
       "      <td>11.936709</td>\n",
       "      <td>3063.458600</td>\n",
       "      <td>-0.262625</td>\n",
       "      <td>0.000000</td>\n",
       "    </tr>\n",
       "    <tr>\n",
       "      <th>75%</th>\n",
       "      <td>46.556322</td>\n",
       "      <td>1604.000000</td>\n",
       "      <td>1.295973</td>\n",
       "      <td>22.676412</td>\n",
       "      <td>12391.666391</td>\n",
       "      <td>-0.197219</td>\n",
       "      <td>0.000000</td>\n",
       "    </tr>\n",
       "    <tr>\n",
       "      <th>max</th>\n",
       "      <td>98.506410</td>\n",
       "      <td>3240.000000</td>\n",
       "      <td>9.226586</td>\n",
       "      <td>60.536222</td>\n",
       "      <td>323213.140961</td>\n",
       "      <td>9.868634</td>\n",
       "      <td>1.000000</td>\n",
       "    </tr>\n",
       "  </tbody>\n",
       "</table>\n",
       "</div>"
      ],
      "text/plain": [
       "        forestarea  precipitation      extreme  arable_land     freshwater  \\\n",
       "count  2502.000000    2502.000000  2502.000000  2502.000000    2502.000000   \n",
       "mean     30.606953    1112.219025     1.214430    16.109750   14878.542330   \n",
       "std      22.133838     757.134960     1.976777    13.874216   35020.530613   \n",
       "min       0.067909      51.000000     0.000000     0.051769       0.000000   \n",
       "25%      11.078235     562.000000     0.023082     5.127726    1147.784317   \n",
       "50%      30.513576    1010.000000     0.269239    11.936709    3063.458600   \n",
       "75%      46.556322    1604.000000     1.295973    22.676412   12391.666391   \n",
       "max      98.506410    3240.000000     9.226586    60.536222  323213.140961   \n",
       "\n",
       "           zscores       binary  \n",
       "count  2502.000000  2502.000000  \n",
       "mean      0.040514     0.157474  \n",
       "std       1.143605     0.364320  \n",
       "min      -0.293136     0.000000  \n",
       "25%      -0.276353     0.000000  \n",
       "50%      -0.262625     0.000000  \n",
       "75%      -0.197219     0.000000  \n",
       "max       9.868634     1.000000  "
      ]
     },
     "execution_count": 42,
     "metadata": {},
     "output_type": "execute_result"
    }
   ],
   "source": [
    "df.describe()"
   ]
  },
  {
   "cell_type": "code",
   "execution_count": 28,
   "metadata": {
    "collapsed": true
   },
   "outputs": [],
   "source": [
    "df = df.swaplevel(0, 1, axis=0)"
   ]
  },
  {
   "cell_type": "code",
   "execution_count": 150,
   "metadata": {
    "collapsed": false
   },
   "outputs": [
    {
     "data": {
      "text/html": [
       "<div>\n",
       "<table border=\"1\" class=\"dataframe\">\n",
       "  <thead>\n",
       "    <tr style=\"text-align: right;\">\n",
       "      <th></th>\n",
       "      <th></th>\n",
       "      <th>forestarea</th>\n",
       "      <th>precipitation</th>\n",
       "      <th>extreme</th>\n",
       "      <th>arable_land</th>\n",
       "      <th>freshwater</th>\n",
       "      <th>zscores</th>\n",
       "    </tr>\n",
       "    <tr>\n",
       "      <th>year</th>\n",
       "      <th>countrycode</th>\n",
       "      <th></th>\n",
       "      <th></th>\n",
       "      <th></th>\n",
       "      <th></th>\n",
       "      <th></th>\n",
       "      <th></th>\n",
       "    </tr>\n",
       "  </thead>\n",
       "  <tbody>\n",
       "    <tr>\n",
       "      <th rowspan=\"5\" valign=\"top\">2006</th>\n",
       "      <th>ARG</th>\n",
       "      <td>10.913914</td>\n",
       "      <td>591</td>\n",
       "      <td>0.167190</td>\n",
       "      <td>12.735823</td>\n",
       "      <td>7305.496838</td>\n",
       "      <td>0</td>\n",
       "    </tr>\n",
       "    <tr>\n",
       "      <th>AUS</th>\n",
       "      <td>16.499616</td>\n",
       "      <td>534</td>\n",
       "      <td>3.047099</td>\n",
       "      <td>6.211031</td>\n",
       "      <td>23622.500912</td>\n",
       "      <td>0</td>\n",
       "    </tr>\n",
       "    <tr>\n",
       "      <th>BRA</th>\n",
       "      <td>60.429569</td>\n",
       "      <td>1761</td>\n",
       "      <td>0.482451</td>\n",
       "      <td>8.319794</td>\n",
       "      <td>29364.390723</td>\n",
       "      <td>0</td>\n",
       "    </tr>\n",
       "    <tr>\n",
       "      <th>CHN</th>\n",
       "      <td>20.723562</td>\n",
       "      <td>645</td>\n",
       "      <td>7.950971</td>\n",
       "      <td>11.578350</td>\n",
       "      <td>2134.480626</td>\n",
       "      <td>0</td>\n",
       "    </tr>\n",
       "    <tr>\n",
       "      <th>FRA</th>\n",
       "      <td>29.172541</td>\n",
       "      <td>867</td>\n",
       "      <td>0.005718</td>\n",
       "      <td>33.490456</td>\n",
       "      <td>3124.207769</td>\n",
       "      <td>0</td>\n",
       "    </tr>\n",
       "  </tbody>\n",
       "</table>\n",
       "</div>"
      ],
      "text/plain": [
       "                  forestarea  precipitation   extreme  arable_land  \\\n",
       "year countrycode                                                     \n",
       "2006 ARG           10.913914            591  0.167190    12.735823   \n",
       "     AUS           16.499616            534  3.047099     6.211031   \n",
       "     BRA           60.429569           1761  0.482451     8.319794   \n",
       "     CHN           20.723562            645  7.950971    11.578350   \n",
       "     FRA           29.172541            867  0.005718    33.490456   \n",
       "\n",
       "                    freshwater  zscores  \n",
       "year countrycode                         \n",
       "2006 ARG           7305.496838        0  \n",
       "     AUS          23622.500912        0  \n",
       "     BRA          29364.390723        0  \n",
       "     CHN           2134.480626        0  \n",
       "     FRA           3124.207769        0  "
      ]
     },
     "execution_count": 150,
     "metadata": {},
     "output_type": "execute_result"
    }
   ],
   "source": [
    "df.head()"
   ]
  },
  {
   "cell_type": "code",
   "execution_count": 29,
   "metadata": {
    "collapsed": true
   },
   "outputs": [],
   "source": [
    "x_cols = ['forestarea', 'precipitation', 'extreme', 'arable_land', 'freshwater']"
   ]
  },
  {
   "cell_type": "code",
   "execution_count": 30,
   "metadata": {
    "collapsed": true
   },
   "outputs": [],
   "source": [
    "# convert each feature to z-score to normalize\n",
    "for col in x_cols:\n",
    "    df[col] = (df[col] - df[col].mean())/df[col].std(ddof=0)"
   ]
  },
  {
   "cell_type": "code",
   "execution_count": 33,
   "metadata": {
    "collapsed": false
   },
   "outputs": [],
   "source": [
    "def getScoreValues(X_train, \n",
    "                   X_test, \n",
    "                   y_train, \n",
    "                   y_test, \n",
    "                   model\n",
    "                  ):\n",
    "    model = model\n",
    "    model.fit(X_train, y_train)\n",
    "    y_pred = model.predict(X_test)\n",
    "    \n",
    "    accuracy_score_value = accuracy_score(y_test, y_pred)\n",
    "    precision_score_value = precision_score(y_test, y_pred)\n",
    "    recall_score_value = recall_score(y_test, y_pred)\n",
    "    f1_score_value = f1_score(y_test, y_pred) \n",
    "    \n",
    "    scores = pd.Series(data=[accuracy_score_value, precision_score_value, recall_score_value, f1_score_value],\n",
    "                      index=[\"Accuracy\", \"Precision\", \"Recall\", \"F1\"])\n",
    "    \n",
    "    return scores"
   ]
  },
  {
   "cell_type": "code",
   "execution_count": 34,
   "metadata": {
    "collapsed": true
   },
   "outputs": [],
   "source": [
    "def getFeatureImportance(X_train, \n",
    "                   X_test, \n",
    "                   y_train, \n",
    "                   y_test, \n",
    "                   model, \n",
    "                   verbose=True, \n",
    "                   get_features=True\n",
    "                  ):\n",
    "    model = model\n",
    "    model.fit(X_train, y_train)\n",
    "    y_pred = model.predict(X_test)\n",
    "    try:\n",
    "        feature_importances = model.feature_importances_\n",
    "        #print(feature_importances)\n",
    "    except AttributeError:\n",
    "        pass\n",
    "    fimp = pd.Series(data=feature_importances, index=x_cols)\n",
    "    return fimp"
   ]
  },
  {
   "cell_type": "code",
   "execution_count": 43,
   "metadata": {
    "collapsed": false
   },
   "outputs": [
    {
     "name": "stdout",
     "output_type": "stream",
     "text": [
      "[2006] 2007\n",
      "[2006, 2007] 2008\n",
      "[2006, 2007, 2008] 2009\n",
      "[2006, 2007, 2008, 2009] 2010\n",
      "[2006, 2007, 2008, 2009, 2010] 2011\n",
      "[2006, 2007, 2008, 2009, 2010, 2011] 2012\n"
     ]
    }
   ],
   "source": [
    "test = np.arange(min(years)+1, max(years))\n",
    "train = []\n",
    "for y in test:\n",
    "    tr = [yr for yr in years if yr<y]\n",
    "    train.append(tr)\n",
    "    print tr, y\n",
    "    \n",
    "training_sets = []\n",
    "test_sets = []\n",
    "for prev, year in zip(train, test):\n",
    "    test_sets.append(df.xs(year, level='year', axis=0))\n",
    "    \n",
    "    for year in test:\n",
    "        trainyear = pd.DataFrame()\n",
    "        for y in prev:\n",
    "            data = df.xs(y, level='year', axis=0)\n",
    "            trainyear = pd.concat([trainyear, data])\n",
    "    \n",
    "    training_sets.append(trainyear)"
   ]
  },
  {
   "cell_type": "code",
   "execution_count": 58,
   "metadata": {
    "collapsed": false,
    "scrolled": true
   },
   "outputs": [],
   "source": [
    "def score_model(train, test, model):\n",
    "    year = 2007\n",
    "    dfscores = pd.DataFrame()\n",
    "    for train, test in zip(train, test):\n",
    "        X_train, X_test, y_train, y_test = train[x_cols], test[x_cols], train['binary'], test['binary']\n",
    "        scores = getScoreValues(X_train, X_test, y_train, y_test, DecisionTreeClassifier())\n",
    "        dfscores = dfscores.append(scores, ignore_index=True)\n",
    "        year += 1\n",
    "    avgscores = [(s, dfscores[s].mean()) for s in dfscores]\n",
    "    totscores = pd.Series([dfscores[s].mean() for s in dfscores], index=[s for s in dfscores])\n",
    "    print totscores\n",
    "#     return totscores"
   ]
  },
  {
   "cell_type": "code",
   "execution_count": 44,
   "metadata": {
    "collapsed": false
   },
   "outputs": [
    {
     "name": "stdout",
     "output_type": "stream",
     "text": [
      "[('Accuracy', 0.9525316455696201), ('F1', 0.5175472675472675), ('Precision', 0.560978835978836), ('Recall', 0.5791666666666667)]\n"
     ]
    }
   ],
   "source": [
    "score_model(training_sets, test_sets, DecisionTreeClassifier())"
   ]
  },
  {
   "cell_type": "code",
   "execution_count": 48,
   "metadata": {
    "collapsed": false
   },
   "outputs": [
    {
     "data": {
      "text/plain": [
       "forestarea       0.280209\n",
       "precipitation    0.013201\n",
       "extreme          0.152844\n",
       "arable_land      0.332709\n",
       "freshwater       0.221036\n",
       "dtype: float64"
      ]
     },
     "execution_count": 48,
     "metadata": {},
     "output_type": "execute_result"
    }
   ],
   "source": [
    "getFeatureImportance(training_sets[5][x_cols], test_sets[5][x_cols], training_sets[5]['binary'], test_sets[5]['binary'], DecisionTreeClassifier())"
   ]
  },
  {
   "cell_type": "code",
   "execution_count": 49,
   "metadata": {
    "collapsed": true
   },
   "outputs": [],
   "source": [
    "smallxcols = ['forestarea', 'freshwater', 'arable_land', 'extreme']"
   ]
  },
  {
   "cell_type": "code",
   "execution_count": 120,
   "metadata": {
    "collapsed": true
   },
   "outputs": [],
   "source": [
    "models = [DecisionTreeClassifier(), BernoulliNB(), GaussianNB(), \n",
    "          SVC(probability=True), RandomForestClassifier(), KNeighborsClassifier()]"
   ]
  },
  {
   "cell_type": "code",
   "execution_count": 53,
   "metadata": {
    "collapsed": true
   },
   "outputs": [],
   "source": [
    "modelnames = [\"Decision Tree\", \"Bernoulli NB\", \"Gaussian NB\", \"SVM\", \"Random Forest\", \"K Neighbors\"]"
   ]
  },
  {
   "cell_type": "code",
   "execution_count": 59,
   "metadata": {
    "collapsed": true
   },
   "outputs": [],
   "source": [
    "def score_model(train, test, model):\n",
    "    year = 2007\n",
    "    dfscores = pd.DataFrame()\n",
    "    for train, test in zip(train, test):\n",
    "        X_train, X_test, y_train, y_test = train[smallxcols], test[smallxcols], train['binary'], test['binary']\n",
    "        scores = getScoreValues(X_train, X_test, y_train, y_test, DecisionTreeClassifier())\n",
    "        dfscores = dfscores.append(scores, ignore_index=True)\n",
    "        year += 1\n",
    "    avgscores = [(s, dfscores[s].mean()) for s in dfscores]\n",
    "    totscores = pd.Series([dfscores[s].mean() for s in dfscores], index=[s for s in dfscores])\n",
    "    print totscores\n",
    "#     return totscores"
   ]
  },
  {
   "cell_type": "code",
   "execution_count": 63,
   "metadata": {
    "collapsed": false
   },
   "outputs": [
    {
     "name": "stdout",
     "output_type": "stream",
     "text": [
      "Decision Tree\n",
      "DecisionTreeClassifier(class_weight=None, criterion='gini', max_depth=None,\n",
      "            max_features=None, max_leaf_nodes=None, min_samples_leaf=1,\n",
      "            min_samples_split=2, min_weight_fraction_leaf=0.0,\n",
      "            random_state=None, splitter='best')\n",
      "Accuracy     0.949367\n",
      "F1           0.460140\n",
      "Precision    0.490741\n",
      "Recall       0.516667\n",
      "dtype: float64\n",
      "None\n",
      "Bernoulli NB\n",
      "BernoulliNB(alpha=1.0, binarize=0.0, class_prior=None, fit_prior=True)\n",
      "Accuracy     0.948312\n",
      "F1           0.467716\n",
      "Precision    0.532407\n",
      "Recall       0.516667\n",
      "dtype: float64\n",
      "None\n",
      "Gaussian NB\n",
      "GaussianNB()\n",
      "Accuracy     0.949367\n",
      "F1           0.480342\n",
      "Precision    0.520503\n",
      "Recall       0.537500\n",
      "dtype: float64\n",
      "None\n",
      "SVM\n",
      "SVC(C=1.0, cache_size=200, class_weight=None, coef0=0.0, degree=3, gamma=0.0,\n",
      "  kernel='rbf', max_iter=-1, probability=False, random_state=None,\n",
      "  shrinking=True, tol=0.001, verbose=False)\n",
      "Accuracy     0.951477\n",
      "F1           0.505012\n",
      "Precision    0.532407\n",
      "Recall       0.558333\n",
      "dtype: float64\n",
      "None\n",
      "Random Forest\n",
      "RandomForestClassifier(bootstrap=True, class_weight=None, criterion='gini',\n",
      "            max_depth=None, max_features='auto', max_leaf_nodes=None,\n",
      "            min_samples_leaf=1, min_samples_split=2,\n",
      "            min_weight_fraction_leaf=0.0, n_estimators=10, n_jobs=1,\n",
      "            oob_score=False, random_state=None, verbose=0,\n",
      "            warm_start=False)\n",
      "Accuracy     0.950422\n",
      "F1           0.487918\n",
      "Precision    0.532407\n",
      "Recall       0.537500\n",
      "dtype: float64\n",
      "None\n",
      "K Neighbors\n",
      "KNeighborsClassifier(algorithm='auto', leaf_size=30, metric='minkowski',\n",
      "           metric_params=None, n_neighbors=5, p=2, weights='uniform')\n",
      "Accuracy     0.949367\n",
      "F1           0.460140\n",
      "Precision    0.520503\n",
      "Recall       0.516667\n",
      "dtype: float64\n",
      "None\n"
     ]
    }
   ],
   "source": [
    "dfmodelscores = pd.DataFrame(index=[\"Accuracy\", \"Precision\", \"Recall\", \"F1\"], columns=modelnames)\n",
    "for model, name in zip(models, modelnames):\n",
    "    print name\n",
    "    print model\n",
    "    print score_model(training_sets, test_sets, model)"
   ]
  },
  {
   "cell_type": "code",
   "execution_count": 65,
   "metadata": {
    "collapsed": false
   },
   "outputs": [
    {
     "name": "stdout",
     "output_type": "stream",
     "text": [
      "N: 1\n",
      "Accuracy     0.948312\n",
      "F1           0.460140\n",
      "Precision    0.490741\n",
      "Recall       0.516667\n",
      "dtype: float64\n",
      "None\n",
      "===\n",
      "N: 2\n",
      "Accuracy     0.949367\n",
      "F1           0.487918\n",
      "Precision    0.532407\n",
      "Recall       0.537500\n",
      "dtype: float64\n",
      "None\n",
      "===\n",
      "N: 3\n",
      "Accuracy     0.950422\n",
      "F1           0.488278\n",
      "Precision    0.492725\n",
      "Recall       0.558333\n",
      "dtype: float64\n",
      "None\n",
      "===\n",
      "N: 4\n",
      "Accuracy     0.948312\n",
      "F1           0.488278\n",
      "Precision    0.492725\n",
      "Recall       0.558333\n",
      "dtype: float64\n",
      "None\n",
      "===\n",
      "N: 5\n",
      "Accuracy     0.950422\n",
      "F1           0.505012\n",
      "Precision    0.532407\n",
      "Recall       0.558333\n",
      "dtype: float64\n",
      "None\n",
      "===\n",
      "N: 6\n",
      "Accuracy     0.948312\n",
      "F1           0.467716\n",
      "Precision    0.532407\n",
      "Recall       0.516667\n",
      "dtype: float64\n",
      "None\n",
      "===\n",
      "N: 7\n",
      "Accuracy     0.950422\n",
      "F1           0.505012\n",
      "Precision    0.532407\n",
      "Recall       0.558333\n",
      "dtype: float64\n",
      "None\n",
      "===\n",
      "N: 8\n",
      "Accuracy     0.951477\n",
      "F1           0.487918\n",
      "Precision    0.532407\n",
      "Recall       0.537500\n",
      "dtype: float64\n",
      "None\n",
      "===\n",
      "N: 9\n",
      "Accuracy     0.948312\n",
      "F1           0.471795\n",
      "Precision    0.487169\n",
      "Recall       0.537500\n",
      "dtype: float64\n",
      "None\n",
      "===\n"
     ]
    }
   ],
   "source": [
    "for n in range(1, 10):\n",
    "    model = KNeighborsClassifier(algorithm='auto', leaf_size=30, metric='minkowski',\n",
    "           metric_params=None, n_neighbors=n, p=2, weights='uniform')\n",
    "    print \"N: \" + str(n)\n",
    "    print score_model(training_sets, test_sets, model)\n",
    "    print \"===\""
   ]
  },
  {
   "cell_type": "code",
   "execution_count": 92,
   "metadata": {
    "collapsed": false
   },
   "outputs": [],
   "source": [
    "def getROCcurve(X_train, X_test, y_train, y_test, model):\n",
    "    model = model\n",
    "    model.fit(X_train, y_train)\n",
    "    y_scores = model.predict_proba(X_test)[:,1]\n",
    "    fpr, tpr, thresholds = roc_curve(y_test, y_scores)\n",
    "\n",
    "    auc = roc_auc_score(y_test, y_scores)\n",
    "#     print('AUC: {}'.format(auc))\n",
    "    \n",
    "    fig,ax = plt.subplots()\n",
    "    ax.plot(fpr, tpr, label='AUC: %0.3f' % auc, color='#0431B4')\n",
    "    ax.fill_between(fpr, tpr, 0, facecolor='#0431B4')\n",
    "\n",
    "    fig.set_size_inches(12, 8, forward=True)\n",
    "    plt.xlabel('False Postive Rate', fontsize=16)\n",
    "    plt.ylabel('True Positive Rate', fontsize=16)\n",
    "    plt.title('KNN (k=5) ROC Curve for Climate-Triggered Refugee Disasters', fontsize=20)\n",
    "    plt.legend(loc='best', fontsize=14)"
   ]
  },
  {
   "cell_type": "code",
   "execution_count": 67,
   "metadata": {
    "collapsed": true
   },
   "outputs": [],
   "source": [
    "test2013 = df.xs(2013, level='year', axis=0)"
   ]
  },
  {
   "cell_type": "code",
   "execution_count": 68,
   "metadata": {
    "collapsed": false
   },
   "outputs": [],
   "source": [
    "train2013 = pd.concat([training_sets[5], df.xs(2012, level='year', axis=0)])"
   ]
  },
  {
   "cell_type": "code",
   "execution_count": 71,
   "metadata": {
    "collapsed": true
   },
   "outputs": [],
   "source": [
    "X_trainfinal, X_testfinal, y_trainfinal, y_testfinal = train2013[x_cols], test2013[x_cols], train2013['binary'], test2013['binary']"
   ]
  },
  {
   "cell_type": "code",
   "execution_count": 72,
   "metadata": {
    "collapsed": false
   },
   "outputs": [
    {
     "data": {
      "text/plain": [
       "Accuracy     0.949367\n",
       "Precision    0.500000\n",
       "Recall       0.250000\n",
       "F1           0.333333\n",
       "dtype: float64"
      ]
     },
     "execution_count": 72,
     "metadata": {},
     "output_type": "execute_result"
    }
   ],
   "source": [
    "getScoreValues(X_trainfinal, X_testfinal, y_trainfinal, y_testfinal, KNeighborsClassifier(n_neighbors=5))"
   ]
  },
  {
   "cell_type": "code",
   "execution_count": 93,
   "metadata": {
    "collapsed": false
   },
   "outputs": [
    {
     "data": {
      "image/png": "[encoded data removed]",
      "text/plain": [
       "<matplotlib.figure.Figure at 0x10d434610>"
      ]
     },
     "metadata": {},
     "output_type": "display_data"
    }
   ],
   "source": [
    "getROCcurve(X_trainfinal, X_testfinal, y_trainfinal, y_testfinal, KNeighborsClassifier(n_neighbors=5))"
   ]
  },
  {
   "cell_type": "code",
   "execution_count": 157,
   "metadata": {
    "collapsed": false
   },
   "outputs": [],
   "source": [
    "def getROCcurveMulti(X_train, X_test, y_train, y_test, models):\n",
    "    colors = [(31, 119, 180), (174, 199, 232), (255, 127, 14), (255, 187, 120),    \n",
    "             (44, 160, 44), (152, 223, 138), (214, 39, 40), (255, 152, 150),    \n",
    "             (148, 103, 189), (197, 176, 213), (140, 86, 75), (196, 156, 148),    \n",
    "             (227, 119, 194), (247, 182, 210), (127, 127, 127), (199, 199, 199),    \n",
    "             (188, 189, 34), (219, 219, 141), (23, 190, 207), (158, 218, 229)]   \n",
    "    for x in range(len(colors)):    \n",
    "        r, g, b = colors[x]    \n",
    "        colors[x] = (r / 255., g / 255., b / 255.)\n",
    "        \n",
    "    fig,ax = plt.subplots()\n",
    "    \n",
    "    ax.spines[\"top\"].set_visible(False)    \n",
    "    ax.spines[\"bottom\"].set_visible(False)    \n",
    "    ax.spines[\"right\"].set_visible(False)    \n",
    "    ax.spines[\"left\"].set_visible(False)\n",
    "    ax.get_xaxis().tick_bottom()    \n",
    "    ax.get_yaxis().tick_left() \n",
    "    plt.yticks(fontsize=14)    \n",
    "    plt.xticks(fontsize=14)\n",
    "    \n",
    "    for y in range(0, 101, 20):    \n",
    "        plt.plot([x/100. for x in range(0, 100)], [y/100.] * len(range(0, 100)), lw=0.5, color=\"black\", alpha=0.3) \n",
    "    plt.tick_params(axis=\"both\", which=\"both\", bottom=\"off\", top=\"off\",    \n",
    "                labelbottom=\"on\", left=\"off\", right=\"off\", labelleft=\"on\") \n",
    "    \n",
    "    for i, m in enumerate(models):\n",
    "        model = m\n",
    "        model.fit(X_train, y_train)\n",
    "        y_scores = model.predict_proba(X_test)[:,1]\n",
    "        fpr, tpr, thresholds = roc_curve(y_test, y_scores)\n",
    "\n",
    "        auc = roc_auc_score(y_test, y_scores)\n",
    "        plt.plot(fpr, tpr, label=str(model).split('(')[0]+': %0.3f' % auc, color=colors[i*9%20], lw=2.5)\n",
    "\n",
    "    fig.set_size_inches(12, 8, forward=True)\n",
    "    plt.xlabel('False Postive Rate', fontsize=18)\n",
    "    plt.ylabel('True Positive Rate', fontsize=18)\n",
    "    plt.title('ROC Curves for Climate-Triggered Refugee Disasters', fontsize=30)\n",
    "    plt.legend(loc='best', fontsize=14)"
   ]
  },
  {
   "cell_type": "code",
   "execution_count": 158,
   "metadata": {
    "collapsed": false
   },
   "outputs": [
    {
     "data": {
      "image/png": "[encoded data removed]",
      "text/plain": [
       "<matplotlib.figure.Figure at 0x10e11a090>"
      ]
     },
     "metadata": {},
     "output_type": "display_data"
    }
   ],
   "source": [
    "getROCcurveMulti(X_trainfinal, X_testfinal, y_trainfinal, y_testfinal, models)"
   ]
  },
  {
   "cell_type": "code",
   "execution_count": 161,
   "metadata": {
    "collapsed": false
   },
   "outputs": [],
   "source": [
    "model.fit(X_trainfinal, y_trainfinal)\n",
    "y_pred = model.predict(X_testfinal)"
   ]
  },
  {
   "cell_type": "code",
   "execution_count": 170,
   "metadata": {
    "collapsed": true
   },
   "outputs": [],
   "source": [
    "def plot_confusion_matrix(cm, title='Confusion matrix', cmap=plt.cm.Blues):\n",
    "    plt.imshow(cm, interpolation='nearest', cmap=cmap)\n",
    "    plt.title(title, fontsize=20)\n",
    "    plt.colorbar()\n",
    "    tick_marks = np.arange(2)\n",
    "    plt.xticks(tick_marks, ['No Crisis', 'Crisis'], rotation=35, fontsize=14)\n",
    "    plt.yticks(tick_marks, ['No Crisis', 'Crisis'], fontsize=14)\n",
    "    plt.tight_layout()\n",
    "    plt.ylabel('True label', fontsize=16)\n",
    "    plt.xlabel('Predicted label', fontsize=16)"
   ]
  },
  {
   "cell_type": "code",
   "execution_count": 171,
   "metadata": {
    "collapsed": false
   },
   "outputs": [
    {
     "name": "stdout",
     "output_type": "stream",
     "text": [
      "Confusion matrix, without normalization\n",
      "[[148   2]\n",
      " [  6   2]]\n"
     ]
    },
    {
     "data": {
      "image/png": "[encoded data removed]",
      "text/plain": [
       "<matplotlib.figure.Figure at 0x10e6d6390>"
      ]
     },
     "metadata": {},
     "output_type": "display_data"
    }
   ],
   "source": [
    "cm = confusion_matrix(y_testfinal, y_pred, labels=None)\n",
    "np.set_printoptions(precision=2)\n",
    "print('Confusion matrix, without normalization')\n",
    "print(cm)\n",
    "plt.figure()\n",
    "plot_confusion_matrix(cm)"
   ]
  },
  {
   "cell_type": "code",
   "execution_count": 176,
   "metadata": {
    "collapsed": false
   },
   "outputs": [
    {
     "data": {
      "text/plain": [
       "158"
      ]
     },
     "execution_count": 176,
     "metadata": {},
     "output_type": "execute_result"
    }
   ],
   "source": [
    "len(y_pred)"
   ]
  },
  {
   "cell_type": "code",
   "execution_count": 191,
   "metadata": {
    "collapsed": false
   },
   "outputs": [
    {
     "data": {
      "text/plain": [
       "Index([   u'ARG',    u'AUS',    u'BRA',    u'CHN',    u'FRA',    u'DEU',\n",
       "          u'IND',    u'IDN',    u'ITA',    u'JPN',\n",
       "       ...\n",
       "          u'TTO',    u'TUN',    u'UGA',    u'URY',    u'UZB',    u'VEN',\n",
       "          u'VNM',    u'YEM',    u'ZMB', u'y_pred'],\n",
       "      dtype='object', name=u'countrycode', length=159)"
      ]
     },
     "execution_count": 191,
     "metadata": {},
     "output_type": "execute_result"
    }
   ],
   "source": [
    "y_testfinal.index"
   ]
  },
  {
   "cell_type": "code",
   "execution_count": 180,
   "metadata": {
    "collapsed": false
   },
   "outputs": [
    {
     "data": {
      "text/plain": [
       "158"
      ]
     },
     "execution_count": 180,
     "metadata": {},
     "output_type": "execute_result"
    }
   ],
   "source": [
    "len(y_testfinal)"
   ]
  },
  {
   "cell_type": "code",
   "execution_count": 192,
   "metadata": {
    "collapsed": false
   },
   "outputs": [],
   "source": [
    "predictions = pd.DataFrame({'y_testfinal':y_testfinal, 'y_pred':y_pred}, index=y_testfinal.index[:-1])"
   ]
  },
  {
   "cell_type": "code",
   "execution_count": 194,
   "metadata": {
    "collapsed": false
   },
   "outputs": [
    {
     "data": {
      "text/html": [
       "<div>\n",
       "<table border=\"1\" class=\"dataframe\">\n",
       "  <thead>\n",
       "    <tr style=\"text-align: right;\">\n",
       "      <th></th>\n",
       "      <th>y_pred</th>\n",
       "      <th>y_testfinal</th>\n",
       "    </tr>\n",
       "    <tr>\n",
       "      <th>countrycode</th>\n",
       "      <th></th>\n",
       "      <th></th>\n",
       "    </tr>\n",
       "  </thead>\n",
       "  <tbody>\n",
       "    <tr>\n",
       "      <th>ALB</th>\n",
       "      <td>0</td>\n",
       "      <td>1</td>\n",
       "    </tr>\n",
       "    <tr>\n",
       "      <th>EST</th>\n",
       "      <td>0</td>\n",
       "      <td>1</td>\n",
       "    </tr>\n",
       "    <tr>\n",
       "      <th>LTU</th>\n",
       "      <td>0</td>\n",
       "      <td>1</td>\n",
       "    </tr>\n",
       "    <tr>\n",
       "      <th>MDG</th>\n",
       "      <td>0</td>\n",
       "      <td>1</td>\n",
       "    </tr>\n",
       "    <tr>\n",
       "      <th>MDV</th>\n",
       "      <td>1</td>\n",
       "      <td>0</td>\n",
       "    </tr>\n",
       "    <tr>\n",
       "      <th>MDA</th>\n",
       "      <td>0</td>\n",
       "      <td>1</td>\n",
       "    </tr>\n",
       "    <tr>\n",
       "      <th>PRI</th>\n",
       "      <td>0</td>\n",
       "      <td>1</td>\n",
       "    </tr>\n",
       "    <tr>\n",
       "      <th>ROM</th>\n",
       "      <td>1</td>\n",
       "      <td>0</td>\n",
       "    </tr>\n",
       "  </tbody>\n",
       "</table>\n",
       "</div>"
      ],
      "text/plain": [
       "             y_pred y_testfinal\n",
       "countrycode                    \n",
       "ALB               0           1\n",
       "EST               0           1\n",
       "LTU               0           1\n",
       "MDG               0           1\n",
       "MDV               1           0\n",
       "MDA               0           1\n",
       "PRI               0           1\n",
       "ROM               1           0"
      ]
     },
     "execution_count": 194,
     "metadata": {},
     "output_type": "execute_result"
    }
   ],
   "source": [
    "predictions[predictions['y_pred']!=predictions['y_testfinal']]"
   ]
  },
  {
   "cell_type": "code",
   "execution_count": null,
   "metadata": {
    "collapsed": true
   },
   "outputs": [],
   "source": []
  }
 ],
 "metadata": {
  "kernelspec": {
   "display_name": "Python 2",
   "language": "python",
   "name": "python2"
  },
  "language_info": {
   "codemirror_mode": {
    "name": "ipython",
    "version": 2
   },
   "file_extension": ".py",
   "mimetype": "text/x-python",
   "name": "python",
   "nbconvert_exporter": "python",
   "pygments_lexer": "ipython2",
   "version": "2.7.11"
  }
 },
 "nbformat": 4,
 "nbformat_minor": 0
}
