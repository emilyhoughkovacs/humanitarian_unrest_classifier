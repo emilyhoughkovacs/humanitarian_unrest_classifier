{
 "cells": [
  {
   "cell_type": "code",
   "execution_count": 1,
   "metadata": {
    "collapsed": true
   },
   "outputs": [],
   "source": [
    "# @TODO: try this for y-values\n",
    "# sometimes this is called “non-parametric” in classical statistics\n",
    "# rank-based /percentile cutoff"
   ]
  },
  {
   "cell_type": "code",
   "execution_count": 1,
   "metadata": {
    "collapsed": false
   },
   "outputs": [],
   "source": [
    "from sqlalchemy import create_engine\n",
    "import pandas as pd\n",
    "import numpy as np\n",
    "\n",
    "from sklearn.cross_validation import train_test_split, StratifiedShuffleSplit\n",
    "from sklearn.neighbors import KNeighborsClassifier\n",
    "from sklearn.metrics import (\n",
    "                            accuracy_score, \n",
    "                            precision_score, \n",
    "                            recall_score, \n",
    "                            f1_score, \n",
    "                            roc_curve, \n",
    "                            roc_auc_score, \n",
    "                            confusion_matrix\n",
    "                            )\n",
    "from sklearn.linear_model import LogisticRegression, LinearRegression\n",
    "from sklearn.naive_bayes import GaussianNB, BernoulliNB\n",
    "from sklearn.svm import SVC\n",
    "from sklearn.tree import DecisionTreeClassifier\n",
    "from sklearn.tree import DecisionTreeRegressor\n",
    "from sklearn.ensemble import RandomForestClassifier\n",
    "from sklearn.learning_curve import learning_curve\n",
    "from sklearn.cross_validation import cross_val_score\n",
    "from sklearn.metrics import confusion_matrix\n",
    "\n",
    "from unbalanced_dataset import OverSampler, SMOTE\n",
    "\n",
    "import matplotlib.pyplot as plt\n",
    "# import seaborn as sns\n",
    "\n",
    "import statsmodels.api as sm\n",
    "from statsmodels.tsa.ar_model import AR, ARResults\n",
    "from scipy.misc import factorial as fact\n",
    "\n",
    "%matplotlib inline"
   ]
  },
  {
   "cell_type": "code",
   "execution_count": 2,
   "metadata": {
    "collapsed": true
   },
   "outputs": [],
   "source": [
    "CONFIG = {}\n",
    "\n",
    "with open('config.txt', \"r\") as in_file:\n",
    "    for line in in_file:\n",
    "        line = line.split(\":\")\n",
    "        parameter = line[0].strip()\n",
    "        value = line[1].strip()\n",
    "        CONFIG[parameter] = value\n",
    "                \n",
    "engine_path = 'postgresql://'+CONFIG['username']+':'+\\\n",
    "                CONFIG['password']+'@'+CONFIG['ip']+\\\n",
    "                ':'+CONFIG['port']+'/'+CONFIG['database']\n",
    "        \n",
    "engine = create_engine(engine_path)"
   ]
  },
  {
   "cell_type": "markdown",
   "metadata": {},
   "source": [
    "##Want something like:"
   ]
  },
  {
   "cell_type": "raw",
   "metadata": {},
   "source": [
    "SELECT\n",
    "fa.countrycode, fa.y1990 as forestarea, env.precipitation, env.extreme, env.arable_land, env.freshwater\n",
    "FROM\n",
    "(SELECT countrycode, y1990 from forestarea) fa\n",
    "JOIN\n",
    "(SELECT p.countrycode as countrycode, p.y1990 as precipitation, e.y1990 as extreme, a.y1990 as arable_land, f.y1990 as freshwater\n",
    "FROM\n",
    "\t((SELECT countrycode, y1990 FROM environment where series ='precipitation') p\n",
    "\tJOIN\n",
    "\t(SELECT countrycode, y1990 FROM environment where series ='extreme') e\n",
    "\ton p.countrycode = e.countrycode\n",
    "\tJOIN\n",
    "\t(SELECT countrycode, y1990 FROM environment where series='arable_land') a\n",
    "\ton p.countrycode = a.countrycode\n",
    "\tJOIN\n",
    "\t(SELECT countrycode, y1990 FROM environment where series='freshwater') f\n",
    "\ton p.countrycode = f.countrycode)) env\n",
    "ON fa.countrycode = env.countrycode;"
   ]
  },
  {
   "cell_type": "code",
   "execution_count": 3,
   "metadata": {
    "collapsed": true
   },
   "outputs": [],
   "source": [
    "def makeSQLQuery(table_names, year, seriesnames):\n",
    "    dotyyear = '.y' + str(year)\n",
    "    short = table_names[0][0:2]\n",
    "    seriesnames = seriesnames\n",
    "    abb = [ser[0:2] for ser in seriesnames]\n",
    "    query = 'SELECT x.*, y' + dotyyear + ' as zscores FROM (' + \\\n",
    "            'SELECT ' + short + '.countrycode AS countrycode, ' + \\\n",
    "            short + dotyyear + ' AS ' + table_names[0] \n",
    "    \n",
    "    mystr = ''\n",
    "    for s in seriesnames:\n",
    "        mystr = mystr + ', env.' + s\n",
    "    mystr = mystr\n",
    "    \n",
    "    query = query + mystr\n",
    "    \n",
    "    query = query + ' FROM (SELECT countrycode, ' + dotyyear[1:] + \\\n",
    "        ' FROM ' + table_names[0] + ') ' + short + ' JOIN ' + \\\n",
    "        '(SELECT ' + abb[0] + '.countrycode AS countrycode'\n",
    "    \n",
    "    mystr = ''\n",
    "    for a, ser in zip(abb, seriesnames):\n",
    "        mystr = mystr + ', ' + a + dotyyear + ' as ' + ser\n",
    "    query = query + mystr\n",
    "    \n",
    "    query = query + ' FROM ('\n",
    "    \n",
    "    subquery = []\n",
    "    for a, ser in zip(abb, seriesnames):\n",
    "        mystr = ''\n",
    "        mystr = mystr + '(SELECT countrycode, ' + dotyyear[1:] + \\\n",
    "        ' FROM ' + table_names[1] + \" WHERE series='\" + ser + \\\n",
    "        \"') \" + a\n",
    "        subquery.append(mystr)\n",
    "    \n",
    "    query = query + subquery[0] + ' JOIN ' + subquery[1] + ' ON ' + \\\n",
    "        abb[0] + '.countrycode = ' + abb[1] + '.countrycode' + \\\n",
    "        ' JOIN ' + subquery[2] + ' ON ' + \\\n",
    "        abb[0] + '.countrycode = ' + abb[2] + '.countrycode' + \\\n",
    "        ' JOIN ' + subquery[3] + ' ON ' + \\\n",
    "        abb[0] + '.countrycode = ' + abb[3] + '.countrycode)) env' + \\\n",
    "        ' ON ' + short + '.countrycode = env.countrycode'\n",
    "        \n",
    "    query = query + ') x JOIN (select countrycode, ' + dotyyear[1:] + \\\n",
    "            ' FROM zscores) y on x.countrycode = y.countrycode'\n",
    "    \n",
    "    return query"
   ]
  },
  {
   "cell_type": "code",
   "execution_count": 4,
   "metadata": {
    "collapsed": true
   },
   "outputs": [],
   "source": [
    "years = [x for x in range(2006, 2014)]"
   ]
  },
  {
   "cell_type": "code",
   "execution_count": 5,
   "metadata": {
    "collapsed": false
   },
   "outputs": [
    {
     "name": "stdout",
     "output_type": "stream",
     "text": [
      "SELECT x.*, y.y2006 as zscores FROM (SELECT fo.countrycode AS countrycode, fo.y2006 AS forestarea, env.precipitation, env.extreme, env.arable_land, env.freshwater FROM (SELECT countrycode, y2006 FROM forestarea) fo JOIN (SELECT pr.countrycode AS countrycode, pr.y2006 as precipitation, ex.y2006 as extreme, ar.y2006 as arable_land, fr.y2006 as freshwater FROM ((SELECT countrycode, y2006 FROM environment WHERE series='precipitation') pr JOIN (SELECT countrycode, y2006 FROM environment WHERE series='extreme') ex ON pr.countrycode = ex.countrycode JOIN (SELECT countrycode, y2006 FROM environment WHERE series='arable_land') ar ON pr.countrycode = ar.countrycode JOIN (SELECT countrycode, y2006 FROM environment WHERE series='freshwater') fr ON pr.countrycode = fr.countrycode)) env ON fo.countrycode = env.countrycode) x JOIN (select countrycode, y2006 FROM zscores) y on x.countrycode = y.countrycode\n"
     ]
    }
   ],
   "source": [
    "tables = ['forestarea', 'environment']\n",
    "features = ['precipitation', 'extreme', 'arable_land', 'freshwater']\n",
    "print makeSQLQuery(tables, years[0], features)"
   ]
  },
  {
   "cell_type": "code",
   "execution_count": 13,
   "metadata": {
    "collapsed": true
   },
   "outputs": [],
   "source": [
    "df = pd.DataFrame()"
   ]
  },
  {
   "cell_type": "code",
   "execution_count": 18,
   "metadata": {
    "collapsed": false
   },
   "outputs": [],
   "source": [
    "for year in years:\n",
    "    query = makeSQLQuery(tables, year, features)\n",
    "    year_data = pd.read_sql_query(query, engine)\n",
    "    year_data['year'] = year\n",
    "    year_data = year_data.set_index(['countrycode', 'year'])\n",
    "    df = pd.concat([df, year_data])"
   ]
  },
  {
   "cell_type": "code",
   "execution_count": 21,
   "metadata": {
    "collapsed": false
   },
   "outputs": [
    {
     "data": {
      "text/plain": [
       "Index([u'forestarea', u'precipitation', u'extreme', u'arable_land',\n",
       "       u'freshwater', u'zscores'],\n",
       "      dtype='object')"
      ]
     },
     "execution_count": 21,
     "metadata": {},
     "output_type": "execute_result"
    }
   ],
   "source": [
    "df.columns"
   ]
  },
  {
   "cell_type": "code",
   "execution_count": 16,
   "metadata": {
    "collapsed": false
   },
   "outputs": [
    {
     "data": {
      "text/plain": [
       "7506"
      ]
     },
     "execution_count": 16,
     "metadata": {},
     "output_type": "execute_result"
    }
   ],
   "source": [
    "df.size"
   ]
  },
  {
   "cell_type": "code",
   "execution_count": 24,
   "metadata": {
    "collapsed": false
   },
   "outputs": [
    {
     "data": {
      "text/html": [
       "<div>\n",
       "<table border=\"1\" class=\"dataframe\">\n",
       "  <thead>\n",
       "    <tr style=\"text-align: right;\">\n",
       "      <th></th>\n",
       "      <th></th>\n",
       "      <th>forestarea</th>\n",
       "      <th>precipitation</th>\n",
       "      <th>extreme</th>\n",
       "      <th>arable_land</th>\n",
       "      <th>freshwater</th>\n",
       "      <th>zscores</th>\n",
       "    </tr>\n",
       "    <tr>\n",
       "      <th>countrycode</th>\n",
       "      <th>year</th>\n",
       "      <th></th>\n",
       "      <th></th>\n",
       "      <th></th>\n",
       "      <th></th>\n",
       "      <th></th>\n",
       "      <th></th>\n",
       "    </tr>\n",
       "  </thead>\n",
       "  <tbody>\n",
       "    <tr>\n",
       "      <th>ARG</th>\n",
       "      <th>2006</th>\n",
       "      <td>10.913914</td>\n",
       "      <td>591</td>\n",
       "      <td>0.167190</td>\n",
       "      <td>12.735823</td>\n",
       "      <td>7305.496838</td>\n",
       "      <td>-0.278010269</td>\n",
       "    </tr>\n",
       "    <tr>\n",
       "      <th>AUS</th>\n",
       "      <th>2006</th>\n",
       "      <td>16.499616</td>\n",
       "      <td>534</td>\n",
       "      <td>3.047099</td>\n",
       "      <td>6.211031</td>\n",
       "      <td>23622.500912</td>\n",
       "      <td>-0.279337781</td>\n",
       "    </tr>\n",
       "    <tr>\n",
       "      <th>BRA</th>\n",
       "      <th>2006</th>\n",
       "      <td>60.429569</td>\n",
       "      <td>1761</td>\n",
       "      <td>0.482451</td>\n",
       "      <td>8.319794</td>\n",
       "      <td>29364.390723</td>\n",
       "      <td>-0.27919335</td>\n",
       "    </tr>\n",
       "    <tr>\n",
       "      <th>CHN</th>\n",
       "      <th>2006</th>\n",
       "      <td>20.723562</td>\n",
       "      <td>645</td>\n",
       "      <td>7.950971</td>\n",
       "      <td>11.578350</td>\n",
       "      <td>2134.480626</td>\n",
       "      <td>-0.272709544</td>\n",
       "    </tr>\n",
       "    <tr>\n",
       "      <th>FRA</th>\n",
       "      <th>2006</th>\n",
       "      <td>29.172541</td>\n",
       "      <td>867</td>\n",
       "      <td>0.005718</td>\n",
       "      <td>33.490456</td>\n",
       "      <td>3124.207769</td>\n",
       "      <td>-0.279344809</td>\n",
       "    </tr>\n",
       "  </tbody>\n",
       "</table>\n",
       "</div>"
      ],
      "text/plain": [
       "                  forestarea  precipitation   extreme  arable_land  \\\n",
       "countrycode year                                                     \n",
       "ARG         2006   10.913914            591  0.167190    12.735823   \n",
       "AUS         2006   16.499616            534  3.047099     6.211031   \n",
       "BRA         2006   60.429569           1761  0.482451     8.319794   \n",
       "CHN         2006   20.723562            645  7.950971    11.578350   \n",
       "FRA         2006   29.172541            867  0.005718    33.490456   \n",
       "\n",
       "                    freshwater       zscores  \n",
       "countrycode year                              \n",
       "ARG         2006   7305.496838  -0.278010269  \n",
       "AUS         2006  23622.500912  -0.279337781  \n",
       "BRA         2006  29364.390723   -0.27919335  \n",
       "CHN         2006   2134.480626  -0.272709544  \n",
       "FRA         2006   3124.207769  -0.279344809  "
      ]
     },
     "execution_count": 24,
     "metadata": {},
     "output_type": "execute_result"
    }
   ],
   "source": [
    "df.head()"
   ]
  },
  {
   "cell_type": "code",
   "execution_count": 27,
   "metadata": {
    "collapsed": true
   },
   "outputs": [],
   "source": [
    "df['zscores'] = df['zscores'].astype(float)"
   ]
  },
  {
   "cell_type": "code",
   "execution_count": 29,
   "metadata": {
    "collapsed": false
   },
   "outputs": [],
   "source": [
    "df = df.dropna()"
   ]
  },
  {
   "cell_type": "code",
   "execution_count": 30,
   "metadata": {
    "collapsed": false
   },
   "outputs": [
    {
     "data": {
      "text/html": [
       "<div>\n",
       "<table border=\"1\" class=\"dataframe\">\n",
       "  <thead>\n",
       "    <tr style=\"text-align: right;\">\n",
       "      <th></th>\n",
       "      <th>forestarea</th>\n",
       "      <th>precipitation</th>\n",
       "      <th>extreme</th>\n",
       "      <th>arable_land</th>\n",
       "      <th>freshwater</th>\n",
       "      <th>zscores</th>\n",
       "    </tr>\n",
       "  </thead>\n",
       "  <tbody>\n",
       "    <tr>\n",
       "      <th>count</th>\n",
       "      <td>2502.000000</td>\n",
       "      <td>2502.000000</td>\n",
       "      <td>2502.000000</td>\n",
       "      <td>2502.000000</td>\n",
       "      <td>2502.000000</td>\n",
       "      <td>2502.000000</td>\n",
       "    </tr>\n",
       "    <tr>\n",
       "      <th>mean</th>\n",
       "      <td>30.606953</td>\n",
       "      <td>1112.219025</td>\n",
       "      <td>1.214430</td>\n",
       "      <td>16.109750</td>\n",
       "      <td>14878.542330</td>\n",
       "      <td>0.040514</td>\n",
       "    </tr>\n",
       "    <tr>\n",
       "      <th>std</th>\n",
       "      <td>22.133838</td>\n",
       "      <td>757.134960</td>\n",
       "      <td>1.976777</td>\n",
       "      <td>13.874216</td>\n",
       "      <td>35020.530613</td>\n",
       "      <td>1.143605</td>\n",
       "    </tr>\n",
       "    <tr>\n",
       "      <th>min</th>\n",
       "      <td>0.067909</td>\n",
       "      <td>51.000000</td>\n",
       "      <td>0.000000</td>\n",
       "      <td>0.051769</td>\n",
       "      <td>0.000000</td>\n",
       "      <td>-0.293136</td>\n",
       "    </tr>\n",
       "    <tr>\n",
       "      <th>25%</th>\n",
       "      <td>11.078235</td>\n",
       "      <td>562.000000</td>\n",
       "      <td>0.023082</td>\n",
       "      <td>5.127726</td>\n",
       "      <td>1147.784317</td>\n",
       "      <td>-0.276353</td>\n",
       "    </tr>\n",
       "    <tr>\n",
       "      <th>50%</th>\n",
       "      <td>30.513576</td>\n",
       "      <td>1010.000000</td>\n",
       "      <td>0.269239</td>\n",
       "      <td>11.936709</td>\n",
       "      <td>3063.458600</td>\n",
       "      <td>-0.262625</td>\n",
       "    </tr>\n",
       "    <tr>\n",
       "      <th>75%</th>\n",
       "      <td>46.556322</td>\n",
       "      <td>1604.000000</td>\n",
       "      <td>1.295973</td>\n",
       "      <td>22.676412</td>\n",
       "      <td>12391.666391</td>\n",
       "      <td>-0.197219</td>\n",
       "    </tr>\n",
       "    <tr>\n",
       "      <th>max</th>\n",
       "      <td>98.506410</td>\n",
       "      <td>3240.000000</td>\n",
       "      <td>9.226586</td>\n",
       "      <td>60.536222</td>\n",
       "      <td>323213.140961</td>\n",
       "      <td>9.868634</td>\n",
       "    </tr>\n",
       "  </tbody>\n",
       "</table>\n",
       "</div>"
      ],
      "text/plain": [
       "        forestarea  precipitation      extreme  arable_land     freshwater  \\\n",
       "count  2502.000000    2502.000000  2502.000000  2502.000000    2502.000000   \n",
       "mean     30.606953    1112.219025     1.214430    16.109750   14878.542330   \n",
       "std      22.133838     757.134960     1.976777    13.874216   35020.530613   \n",
       "min       0.067909      51.000000     0.000000     0.051769       0.000000   \n",
       "25%      11.078235     562.000000     0.023082     5.127726    1147.784317   \n",
       "50%      30.513576    1010.000000     0.269239    11.936709    3063.458600   \n",
       "75%      46.556322    1604.000000     1.295973    22.676412   12391.666391   \n",
       "max      98.506410    3240.000000     9.226586    60.536222  323213.140961   \n",
       "\n",
       "           zscores  \n",
       "count  2502.000000  \n",
       "mean      0.040514  \n",
       "std       1.143605  \n",
       "min      -0.293136  \n",
       "25%      -0.276353  \n",
       "50%      -0.262625  \n",
       "75%      -0.197219  \n",
       "max       9.868634  "
      ]
     },
     "execution_count": 30,
     "metadata": {},
     "output_type": "execute_result"
    }
   ],
   "source": [
    "df.describe()"
   ]
  },
  {
   "cell_type": "code",
   "execution_count": 36,
   "metadata": {
    "collapsed": false
   },
   "outputs": [
    {
     "name": "stderr",
     "output_type": "stream",
     "text": [
      "/Users/emilyhoughkovacs/anaconda/lib/python2.7/site-packages/IPython/kernel/__main__.py:1: SettingWithCopyWarning: \n",
      "A value is trying to be set on a copy of a slice from a DataFrame.\n",
      "Try using .loc[row_indexer,col_indexer] = value instead\n",
      "\n",
      "See the caveats in the documentation: http://pandas.pydata.org/pandas-docs/stable/indexing.html#indexing-view-versus-copy\n",
      "  if __name__ == '__main__':\n"
     ]
    }
   ],
   "source": [
    "df['binary'] = df['zscores'].apply(lambda x: 0 if x<0 else 1)"
   ]
  },
  {
   "cell_type": "code",
   "execution_count": 39,
   "metadata": {
    "collapsed": false
   },
   "outputs": [
    {
     "data": {
      "text/plain": [
       "394"
      ]
     },
     "execution_count": 39,
     "metadata": {},
     "output_type": "execute_result"
    }
   ],
   "source": [
    "len(df[df['binary']==1])"
   ]
  },
  {
   "cell_type": "code",
   "execution_count": 40,
   "metadata": {
    "collapsed": false
   },
   "outputs": [
    {
     "data": {
      "text/plain": [
       "2502"
      ]
     },
     "execution_count": 40,
     "metadata": {},
     "output_type": "execute_result"
    }
   ],
   "source": [
    "len(df)"
   ]
  },
  {
   "cell_type": "code",
   "execution_count": 41,
   "metadata": {
    "collapsed": false
   },
   "outputs": [
    {
     "data": {
      "text/plain": [
       "15.74740207833733"
      ]
     },
     "execution_count": 41,
     "metadata": {},
     "output_type": "execute_result"
    }
   ],
   "source": [
    "394./2502*100"
   ]
  },
  {
   "cell_type": "code",
   "execution_count": 42,
   "metadata": {
    "collapsed": false
   },
   "outputs": [
    {
     "data": {
      "text/html": [
       "<div>\n",
       "<table border=\"1\" class=\"dataframe\">\n",
       "  <thead>\n",
       "    <tr style=\"text-align: right;\">\n",
       "      <th></th>\n",
       "      <th>forestarea</th>\n",
       "      <th>precipitation</th>\n",
       "      <th>extreme</th>\n",
       "      <th>arable_land</th>\n",
       "      <th>freshwater</th>\n",
       "      <th>zscores</th>\n",
       "      <th>binary</th>\n",
       "    </tr>\n",
       "  </thead>\n",
       "  <tbody>\n",
       "    <tr>\n",
       "      <th>count</th>\n",
       "      <td>2502.000000</td>\n",
       "      <td>2502.000000</td>\n",
       "      <td>2502.000000</td>\n",
       "      <td>2502.000000</td>\n",
       "      <td>2502.000000</td>\n",
       "      <td>2502.000000</td>\n",
       "      <td>2502.000000</td>\n",
       "    </tr>\n",
       "    <tr>\n",
       "      <th>mean</th>\n",
       "      <td>30.606953</td>\n",
       "      <td>1112.219025</td>\n",
       "      <td>1.214430</td>\n",
       "      <td>16.109750</td>\n",
       "      <td>14878.542330</td>\n",
       "      <td>0.040514</td>\n",
       "      <td>0.157474</td>\n",
       "    </tr>\n",
       "    <tr>\n",
       "      <th>std</th>\n",
       "      <td>22.133838</td>\n",
       "      <td>757.134960</td>\n",
       "      <td>1.976777</td>\n",
       "      <td>13.874216</td>\n",
       "      <td>35020.530613</td>\n",
       "      <td>1.143605</td>\n",
       "      <td>0.364320</td>\n",
       "    </tr>\n",
       "    <tr>\n",
       "      <th>min</th>\n",
       "      <td>0.067909</td>\n",
       "      <td>51.000000</td>\n",
       "      <td>0.000000</td>\n",
       "      <td>0.051769</td>\n",
       "      <td>0.000000</td>\n",
       "      <td>-0.293136</td>\n",
       "      <td>0.000000</td>\n",
       "    </tr>\n",
       "    <tr>\n",
       "      <th>25%</th>\n",
       "      <td>11.078235</td>\n",
       "      <td>562.000000</td>\n",
       "      <td>0.023082</td>\n",
       "      <td>5.127726</td>\n",
       "      <td>1147.784317</td>\n",
       "      <td>-0.276353</td>\n",
       "      <td>0.000000</td>\n",
       "    </tr>\n",
       "    <tr>\n",
       "      <th>50%</th>\n",
       "      <td>30.513576</td>\n",
       "      <td>1010.000000</td>\n",
       "      <td>0.269239</td>\n",
       "      <td>11.936709</td>\n",
       "      <td>3063.458600</td>\n",
       "      <td>-0.262625</td>\n",
       "      <td>0.000000</td>\n",
       "    </tr>\n",
       "    <tr>\n",
       "      <th>75%</th>\n",
       "      <td>46.556322</td>\n",
       "      <td>1604.000000</td>\n",
       "      <td>1.295973</td>\n",
       "      <td>22.676412</td>\n",
       "      <td>12391.666391</td>\n",
       "      <td>-0.197219</td>\n",
       "      <td>0.000000</td>\n",
       "    </tr>\n",
       "    <tr>\n",
       "      <th>max</th>\n",
       "      <td>98.506410</td>\n",
       "      <td>3240.000000</td>\n",
       "      <td>9.226586</td>\n",
       "      <td>60.536222</td>\n",
       "      <td>323213.140961</td>\n",
       "      <td>9.868634</td>\n",
       "      <td>1.000000</td>\n",
       "    </tr>\n",
       "  </tbody>\n",
       "</table>\n",
       "</div>"
      ],
      "text/plain": [
       "        forestarea  precipitation      extreme  arable_land     freshwater  \\\n",
       "count  2502.000000    2502.000000  2502.000000  2502.000000    2502.000000   \n",
       "mean     30.606953    1112.219025     1.214430    16.109750   14878.542330   \n",
       "std      22.133838     757.134960     1.976777    13.874216   35020.530613   \n",
       "min       0.067909      51.000000     0.000000     0.051769       0.000000   \n",
       "25%      11.078235     562.000000     0.023082     5.127726    1147.784317   \n",
       "50%      30.513576    1010.000000     0.269239    11.936709    3063.458600   \n",
       "75%      46.556322    1604.000000     1.295973    22.676412   12391.666391   \n",
       "max      98.506410    3240.000000     9.226586    60.536222  323213.140961   \n",
       "\n",
       "           zscores       binary  \n",
       "count  2502.000000  2502.000000  \n",
       "mean      0.040514     0.157474  \n",
       "std       1.143605     0.364320  \n",
       "min      -0.293136     0.000000  \n",
       "25%      -0.276353     0.000000  \n",
       "50%      -0.262625     0.000000  \n",
       "75%      -0.197219     0.000000  \n",
       "max       9.868634     1.000000  "
      ]
     },
     "execution_count": 42,
     "metadata": {},
     "output_type": "execute_result"
    }
   ],
   "source": [
    "df.describe()"
   ]
  },
  {
   "cell_type": "code",
   "execution_count": 43,
   "metadata": {
    "collapsed": true
   },
   "outputs": [],
   "source": [
    "df = df.swaplevel(0, 1, axis=0)"
   ]
  },
  {
   "cell_type": "code",
   "execution_count": 150,
   "metadata": {
    "collapsed": false
   },
   "outputs": [
    {
     "data": {
      "text/html": [
       "<div>\n",
       "<table border=\"1\" class=\"dataframe\">\n",
       "  <thead>\n",
       "    <tr style=\"text-align: right;\">\n",
       "      <th></th>\n",
       "      <th></th>\n",
       "      <th>forestarea</th>\n",
       "      <th>precipitation</th>\n",
       "      <th>extreme</th>\n",
       "      <th>arable_land</th>\n",
       "      <th>freshwater</th>\n",
       "      <th>zscores</th>\n",
       "    </tr>\n",
       "    <tr>\n",
       "      <th>year</th>\n",
       "      <th>countrycode</th>\n",
       "      <th></th>\n",
       "      <th></th>\n",
       "      <th></th>\n",
       "      <th></th>\n",
       "      <th></th>\n",
       "      <th></th>\n",
       "    </tr>\n",
       "  </thead>\n",
       "  <tbody>\n",
       "    <tr>\n",
       "      <th rowspan=\"5\" valign=\"top\">2006</th>\n",
       "      <th>ARG</th>\n",
       "      <td>10.913914</td>\n",
       "      <td>591</td>\n",
       "      <td>0.167190</td>\n",
       "      <td>12.735823</td>\n",
       "      <td>7305.496838</td>\n",
       "      <td>0</td>\n",
       "    </tr>\n",
       "    <tr>\n",
       "      <th>AUS</th>\n",
       "      <td>16.499616</td>\n",
       "      <td>534</td>\n",
       "      <td>3.047099</td>\n",
       "      <td>6.211031</td>\n",
       "      <td>23622.500912</td>\n",
       "      <td>0</td>\n",
       "    </tr>\n",
       "    <tr>\n",
       "      <th>BRA</th>\n",
       "      <td>60.429569</td>\n",
       "      <td>1761</td>\n",
       "      <td>0.482451</td>\n",
       "      <td>8.319794</td>\n",
       "      <td>29364.390723</td>\n",
       "      <td>0</td>\n",
       "    </tr>\n",
       "    <tr>\n",
       "      <th>CHN</th>\n",
       "      <td>20.723562</td>\n",
       "      <td>645</td>\n",
       "      <td>7.950971</td>\n",
       "      <td>11.578350</td>\n",
       "      <td>2134.480626</td>\n",
       "      <td>0</td>\n",
       "    </tr>\n",
       "    <tr>\n",
       "      <th>FRA</th>\n",
       "      <td>29.172541</td>\n",
       "      <td>867</td>\n",
       "      <td>0.005718</td>\n",
       "      <td>33.490456</td>\n",
       "      <td>3124.207769</td>\n",
       "      <td>0</td>\n",
       "    </tr>\n",
       "  </tbody>\n",
       "</table>\n",
       "</div>"
      ],
      "text/plain": [
       "                  forestarea  precipitation   extreme  arable_land  \\\n",
       "year countrycode                                                     \n",
       "2006 ARG           10.913914            591  0.167190    12.735823   \n",
       "     AUS           16.499616            534  3.047099     6.211031   \n",
       "     BRA           60.429569           1761  0.482451     8.319794   \n",
       "     CHN           20.723562            645  7.950971    11.578350   \n",
       "     FRA           29.172541            867  0.005718    33.490456   \n",
       "\n",
       "                    freshwater  zscores  \n",
       "year countrycode                         \n",
       "2006 ARG           7305.496838        0  \n",
       "     AUS          23622.500912        0  \n",
       "     BRA          29364.390723        0  \n",
       "     CHN           2134.480626        0  \n",
       "     FRA           3124.207769        0  "
      ]
     },
     "execution_count": 150,
     "metadata": {},
     "output_type": "execute_result"
    }
   ],
   "source": [
    "df.head()"
   ]
  },
  {
   "cell_type": "code",
   "execution_count": 44,
   "metadata": {
    "collapsed": true
   },
   "outputs": [],
   "source": [
    "x_cols = ['forestarea', 'precipitation', 'extreme', 'arable_land', 'freshwater']"
   ]
  },
  {
   "cell_type": "code",
   "execution_count": 45,
   "metadata": {
    "collapsed": true
   },
   "outputs": [],
   "source": [
    "# convert each feature to z-score to normalize\n",
    "for col in x_cols:\n",
    "    df[col] = (df[col] - df[col].mean())/df[col].std(ddof=0)"
   ]
  },
  {
   "cell_type": "code",
   "execution_count": 150,
   "metadata": {
    "collapsed": false
   },
   "outputs": [],
   "source": [
    "def getScoreValues(X_train, \n",
    "                   X_test, \n",
    "                   y_train, \n",
    "                   y_test, \n",
    "                   model\n",
    "                  ):\n",
    "    model = model\n",
    "    model.fit(X_train, y_train)\n",
    "    y_pred = model.predict(X_test)\n",
    "    \n",
    "    accuracy_score_value = accuracy_score(y_test, y_pred)\n",
    "    precision_score_value = precision_score(y_test, y_pred)\n",
    "    recall_score_value = recall_score(y_test, y_pred)\n",
    "    f1_score_value = f1_score(y_test, y_pred) \n",
    "    \n",
    "    scores = pd.Series(data=[accuracy_score_value, precision_score_value, recall_score_value, f1_score_value],\n",
    "                      index=[\"Accuracy\", \"Precision\", \"Recall\", \"F1\"])\n",
    "    \n",
    "    print model\n",
    "    print scores\n",
    "    return y_pred"
   ]
  },
  {
   "cell_type": "code",
   "execution_count": 109,
   "metadata": {
    "collapsed": true
   },
   "outputs": [],
   "source": [
    "def getFeatureImportance(X_train, \n",
    "                   X_test, \n",
    "                   y_train, \n",
    "                   y_test, \n",
    "                   model, \n",
    "                   verbose=True, \n",
    "                   get_features=True\n",
    "                  ):\n",
    "    model = model\n",
    "    model.fit(X_train, y_train)\n",
    "    y_pred = model.predict(X_test)\n",
    "    try:\n",
    "        feature_importances = model.feature_importances_\n",
    "        #print(feature_importances)\n",
    "    except AttributeError:\n",
    "        pass\n",
    "    fimp = pd.Series(data=feature_importances, index=x_cols)\n",
    "    return fimp"
   ]
  },
  {
   "cell_type": "code",
   "execution_count": 49,
   "metadata": {
    "collapsed": true
   },
   "outputs": [],
   "source": [
    "X = df[x_cols]\n",
    "y = df['binary']\n",
    "\n",
    "X_train, X_test, y_train, y_test = train_test_split(X, y, test_size = .30, random_state=4444)"
   ]
  },
  {
   "cell_type": "code",
   "execution_count": 108,
   "metadata": {
    "collapsed": false
   },
   "outputs": [
    {
     "data": {
      "text/plain": [
       "Accuracy     0.985353\n",
       "Precision    0.950413\n",
       "Recall       0.958333\n",
       "F1           0.954357\n",
       "dtype: float64"
      ]
     },
     "execution_count": 108,
     "metadata": {},
     "output_type": "execute_result"
    }
   ],
   "source": [
    "getScoreValues(X_train, X_test, y_train, y_test, DecisionTreeClassifier())"
   ]
  },
  {
   "cell_type": "code",
   "execution_count": 110,
   "metadata": {
    "collapsed": false
   },
   "outputs": [
    {
     "data": {
      "text/plain": [
       "forestarea       0.302181\n",
       "precipitation    0.312228\n",
       "extreme          0.057418\n",
       "arable_land      0.169783\n",
       "freshwater       0.158390\n",
       "dtype: float64"
      ]
     },
     "execution_count": 110,
     "metadata": {},
     "output_type": "execute_result"
    }
   ],
   "source": [
    "getFeatureImportance(X_train, X_test, y_train, y_test, DecisionTreeClassifier())"
   ]
  },
  {
   "cell_type": "code",
   "execution_count": 112,
   "metadata": {
    "collapsed": false
   },
   "outputs": [
    {
     "name": "stdout",
     "output_type": "stream",
     "text": [
      "[2006] 2007\n",
      "[2006, 2007] 2008\n",
      "[2006, 2007, 2008] 2009\n",
      "[2006, 2007, 2008, 2009] 2010\n",
      "[2006, 2007, 2008, 2009, 2010] 2011\n",
      "[2006, 2007, 2008, 2009, 2010, 2011] 2012\n"
     ]
    }
   ],
   "source": [
    "test = np.arange(min(years)+1, max(years))\n",
    "train = []\n",
    "for y in test:\n",
    "    tr = [yr for yr in years if yr<y]\n",
    "    train.append(tr)\n",
    "    print tr, y\n",
    "    \n",
    "training_sets = []\n",
    "test_sets = []\n"
   ]
  },
  {
   "cell_type": "code",
   "execution_count": 113,
   "metadata": {
    "collapsed": false
   },
   "outputs": [],
   "source": [
    "for prev, year in zip(train, test):\n",
    "    test_sets.append(df.xs(year, level='year', axis=0))\n",
    "    \n",
    "    for year in test:\n",
    "        trainyear = pd.DataFrame()\n",
    "        for y in prev:\n",
    "            data = df.xs(y, level='year', axis=0)\n",
    "            trainyear = pd.concat([trainyear, data])\n",
    "    \n",
    "    training_sets.append(trainyear)"
   ]
  },
  {
   "cell_type": "code",
   "execution_count": 139,
   "metadata": {
    "collapsed": false
   },
   "outputs": [
    {
     "name": "stdout",
     "output_type": "stream",
     "text": [
      "[0.21864933972542758, 0.24401846069668864, 0.16240952023634703, 0.17408796363568399, 0.20083471570585273]\n"
     ]
    }
   ],
   "source": [
    "fa, pr, ex, ar, fr = 0, 0, 0, 0, 0\n",
    "for tr, te in zip(training_sets, test_sets):\n",
    "    results = getFeatureImportance(tr[x_cols], te[x_cols], tr['binary'], te['binary'], DecisionTreeClassifier())\n",
    "    fa += results[0]\n",
    "    pr += results[1]\n",
    "    ex += results[2]\n",
    "    ar += results[3]\n",
    "    fr += results[4]\n",
    "fimp = [x/len(test_sets) for x in [fa, pr, ex, ar, fr]]\n",
    "print fimp"
   ]
  },
  {
   "cell_type": "code",
   "execution_count": 140,
   "metadata": {
    "collapsed": false,
    "scrolled": true
   },
   "outputs": [],
   "source": [
    "def score_model(train, test, model):\n",
    "    year = 2007\n",
    "    dfscores = pd.DataFrame()\n",
    "    for train, test in zip(train, test):\n",
    "        X_train, X_test, y_train, y_test = train[x_cols], test[x_cols], train['binary'], test['binary']\n",
    "        scores = getScoreValues(X_train, X_test, y_train, y_test, DecisionTreeClassifier())\n",
    "        dfscores = dfscores.append(scores, ignore_index=True)\n",
    "        year += 1\n",
    "    avgscores = [(s, dfscores[s].mean()) for s in dfscores]\n",
    "    totscores = pd.Series([dfscores[s].mean() for s in dfscores], index=[s for s in dfscores])\n",
    "#     print avgscores\n",
    "    return totscores"
   ]
  },
  {
   "cell_type": "code",
   "execution_count": 180,
   "metadata": {
    "collapsed": true
   },
   "outputs": [],
   "source": [
    "models = [DecisionTreeClassifier(), BernoulliNB(), GaussianNB(), \n",
    "          SVC(probability=True), RandomForestClassifier(), KNeighborsClassifier()]"
   ]
  },
  {
   "cell_type": "code",
   "execution_count": 59,
   "metadata": {
    "collapsed": true
   },
   "outputs": [],
   "source": [
    "modelnames = [\"Decision Tree\", \"Bernoulli NB\", \"Gaussian NB\", \"SVM\", \"Random Forest\", \"K Neighbors\"]"
   ]
  },
  {
   "cell_type": "code",
   "execution_count": 141,
   "metadata": {
    "collapsed": false
   },
   "outputs": [
    {
     "name": "stdout",
     "output_type": "stream",
     "text": [
      "DecisionTreeClassifier(class_weight=None, criterion='gini', max_depth=None,\n",
      "            max_features=None, max_leaf_nodes=None, min_samples_leaf=1,\n",
      "            min_samples_split=2, min_weight_fraction_leaf=0.0,\n",
      "            random_state=None, splitter='best')\n",
      "Accuracy     0.963716\n",
      "F1           0.885137\n",
      "Precision    0.898889\n",
      "Recall       0.873258\n",
      "dtype: float64\n",
      "BernoulliNB(alpha=1.0, binarize=0.0, class_prior=None, fit_prior=True)\n",
      "Accuracy     0.965860\n",
      "F1           0.892977\n",
      "Precision    0.900449\n",
      "Recall       0.887449\n",
      "dtype: float64\n",
      "GaussianNB()\n",
      "Accuracy     0.966921\n",
      "F1           0.895953\n",
      "Precision    0.905833\n",
      "Recall       0.887449\n",
      "dtype: float64\n",
      "SVC(C=1.0, cache_size=200, class_weight=None, coef0=0.0, degree=3, gamma=0.0,\n",
      "  kernel='rbf', max_iter=-1, probability=False, random_state=None,\n",
      "  shrinking=True, tol=0.001, verbose=False)\n",
      "Accuracy     0.965860\n",
      "F1           0.892876\n",
      "Precision    0.901474\n",
      "Recall       0.886613\n",
      "dtype: float64\n",
      "RandomForestClassifier(bootstrap=True, class_weight=None, criterion='gini',\n",
      "            max_depth=None, max_features='auto', max_leaf_nodes=None,\n",
      "            min_samples_leaf=1, min_samples_split=2,\n",
      "            min_weight_fraction_leaf=0.0, n_estimators=10, n_jobs=1,\n",
      "            oob_score=False, random_state=None, verbose=0,\n",
      "            warm_start=False)\n",
      "Accuracy     0.962654\n",
      "F1           0.883925\n",
      "Precision    0.890078\n",
      "Recall       0.880203\n",
      "dtype: float64\n",
      "KNeighborsClassifier(algorithm='auto', leaf_size=30, metric='minkowski',\n",
      "           metric_params=None, n_neighbors=5, p=2, weights='uniform')\n",
      "Accuracy     0.965860\n",
      "F1           0.892977\n",
      "Precision    0.900449\n",
      "Recall       0.887449\n",
      "dtype: float64\n"
     ]
    }
   ],
   "source": [
    "dfmodelscores = pd.DataFrame(index=[\"Accuracy\", \"Precision\", \"Recall\", \"F1\"], columns=modelnames)\n",
    "for model, name in zip(models, modelnames):\n",
    "    print model\n",
    "    print score_model(training_sets, test_sets, model)"
   ]
  },
  {
   "cell_type": "code",
   "execution_count": 67,
   "metadata": {
    "collapsed": true
   },
   "outputs": [],
   "source": [
    "smallxcols = ['forestarea', 'precipitation', 'freshwater']"
   ]
  },
  {
   "cell_type": "code",
   "execution_count": 93,
   "metadata": {
    "collapsed": true
   },
   "outputs": [],
   "source": [
    "def score_model(train, test, model):\n",
    "    year = 2007\n",
    "    dfscores = pd.DataFrame()\n",
    "    for train, test in zip(train, test):\n",
    "        X_train, X_test, y_train, y_test = train[smallxcols], test[smallxcols], train['binary'], test['binary']\n",
    "        scores = getScoreValues(X_train, X_test, y_train, y_test, DecisionTreeClassifier())\n",
    "        dfscores = dfscores.append(scores, ignore_index=True)\n",
    "        year += 1\n",
    "    avgscores = [(s, dfscores[s].mean()) for s in dfscores]\n",
    "    totscores = pd.Series([dfscores[s].mean() for s in dfscores], index=[s for s in dfscores])\n",
    "#     print avgscores\n",
    "    return totscores"
   ]
  },
  {
   "cell_type": "code",
   "execution_count": 82,
   "metadata": {
    "collapsed": false
   },
   "outputs": [
    {
     "data": {
      "text/plain": [
       "pandas.core.series.Series"
      ]
     },
     "execution_count": 82,
     "metadata": {},
     "output_type": "execute_result"
    }
   ],
   "source": [
    "type(score_model(training_sets, test_sets, DecisionTreeClassifier()))"
   ]
  },
  {
   "cell_type": "code",
   "execution_count": 97,
   "metadata": {
    "collapsed": false
   },
   "outputs": [
    {
     "name": "stdout",
     "output_type": "stream",
     "text": [
      "Decision Tree\n",
      "Accuracy     0.961579\n",
      "F1           0.879918\n",
      "Precision    0.886166\n",
      "Recall       0.879668\n",
      "dtype: float64\n",
      "Bernoulli NB\n",
      "Accuracy     0.957319\n",
      "F1           0.867667\n",
      "Precision    0.872194\n",
      "Recall       0.866848\n",
      "dtype: float64\n",
      "Gaussian NB\n",
      "Accuracy     0.956251\n",
      "F1           0.863618\n",
      "Precision    0.871166\n",
      "Recall       0.860438\n",
      "dtype: float64\n",
      "SVM\n",
      "Accuracy     0.958381\n",
      "F1           0.871334\n",
      "Precision    0.874817\n",
      "Recall       0.873258\n",
      "dtype: float64\n",
      "Random Forest\n",
      "Accuracy     0.959456\n",
      "F1           0.873727\n",
      "Precision    0.877941\n",
      "Recall       0.873258\n",
      "dtype: float64\n",
      "K Neighbors\n",
      "Accuracy     0.958381\n",
      "F1           0.871447\n",
      "Precision    0.875378\n",
      "Recall       0.873258\n",
      "dtype: float64\n"
     ]
    }
   ],
   "source": [
    "dfmodelscoresSmall = pd.DataFrame(index=[\"Accuracy\", \"Precision\", \"Recall\", \"F1\"], columns=modelnames)\n",
    "for model, name in zip(models, modelnames):\n",
    "    print name\n",
    "    print score_model(training_sets, test_sets, model)"
   ]
  },
  {
   "cell_type": "code",
   "execution_count": 152,
   "metadata": {
    "collapsed": false
   },
   "outputs": [
    {
     "data": {
      "text/plain": [
       "6"
      ]
     },
     "execution_count": 152,
     "metadata": {},
     "output_type": "execute_result"
    }
   ],
   "source": [
    "len(training_sets)"
   ]
  },
  {
   "cell_type": "code",
   "execution_count": 154,
   "metadata": {
    "collapsed": false
   },
   "outputs": [
    {
     "name": "stdout",
     "output_type": "stream",
     "text": [
      "DecisionTreeClassifier(class_weight=None, criterion='gini', max_depth=None,\n",
      "            max_features=None, max_leaf_nodes=None, min_samples_leaf=1,\n",
      "            min_samples_split=2, min_weight_fraction_leaf=0.0,\n",
      "            random_state=None, splitter='best')\n",
      "Accuracy     0.974359\n",
      "Precision    0.958333\n",
      "Recall       0.884615\n",
      "F1           0.920000\n",
      "dtype: float64\n"
     ]
    }
   ],
   "source": [
    "y_pred = getScoreValues(training_sets[5][x_cols], test_sets[5][x_cols], \n",
    "                        training_sets[5]['binary'], test_sets[5]['binary'], DecisionTreeClassifier())"
   ]
  },
  {
   "cell_type": "code",
   "execution_count": 159,
   "metadata": {
    "collapsed": false
   },
   "outputs": [],
   "source": [
    "y_actual = np.array(test_sets[5]['binary'])"
   ]
  },
  {
   "cell_type": "code",
   "execution_count": 166,
   "metadata": {
    "collapsed": false
   },
   "outputs": [],
   "source": [
    "diff = y_actual-y_pred"
   ]
  },
  {
   "cell_type": "code",
   "execution_count": 168,
   "metadata": {
    "collapsed": false
   },
   "outputs": [],
   "source": [
    "diff = pd.Series(diff)"
   ]
  },
  {
   "cell_type": "code",
   "execution_count": 177,
   "metadata": {
    "collapsed": false
   },
   "outputs": [],
   "source": [
    "results = pd.DataFrame({'y_actual': y_actual, 'y_pred': y_pred, 'diff': y_actual-y_pred}, index=test_sets[5]['binary'].index)"
   ]
  },
  {
   "cell_type": "code",
   "execution_count": 178,
   "metadata": {
    "collapsed": false,
    "scrolled": true
   },
   "outputs": [
    {
     "data": {
      "text/html": [
       "<div>\n",
       "<table border=\"1\" class=\"dataframe\">\n",
       "  <thead>\n",
       "    <tr style=\"text-align: right;\">\n",
       "      <th></th>\n",
       "      <th>diff</th>\n",
       "      <th>y_actual</th>\n",
       "      <th>y_pred</th>\n",
       "    </tr>\n",
       "    <tr>\n",
       "      <th>countrycode</th>\n",
       "      <th></th>\n",
       "      <th></th>\n",
       "      <th></th>\n",
       "    </tr>\n",
       "  </thead>\n",
       "  <tbody>\n",
       "    <tr>\n",
       "      <th>AGO</th>\n",
       "      <td>-1</td>\n",
       "      <td>0</td>\n",
       "      <td>1</td>\n",
       "    </tr>\n",
       "    <tr>\n",
       "      <th>HTI</th>\n",
       "      <td>1</td>\n",
       "      <td>1</td>\n",
       "      <td>0</td>\n",
       "    </tr>\n",
       "    <tr>\n",
       "      <th>MLI</th>\n",
       "      <td>1</td>\n",
       "      <td>1</td>\n",
       "      <td>0</td>\n",
       "    </tr>\n",
       "    <tr>\n",
       "      <th>SYR</th>\n",
       "      <td>1</td>\n",
       "      <td>1</td>\n",
       "      <td>0</td>\n",
       "    </tr>\n",
       "    <tr>\n",
       "      <th>AGO</th>\n",
       "      <td>-1</td>\n",
       "      <td>0</td>\n",
       "      <td>1</td>\n",
       "    </tr>\n",
       "    <tr>\n",
       "      <th>HTI</th>\n",
       "      <td>1</td>\n",
       "      <td>1</td>\n",
       "      <td>0</td>\n",
       "    </tr>\n",
       "    <tr>\n",
       "      <th>MLI</th>\n",
       "      <td>1</td>\n",
       "      <td>1</td>\n",
       "      <td>0</td>\n",
       "    </tr>\n",
       "    <tr>\n",
       "      <th>SYR</th>\n",
       "      <td>1</td>\n",
       "      <td>1</td>\n",
       "      <td>0</td>\n",
       "    </tr>\n",
       "  </tbody>\n",
       "</table>\n",
       "</div>"
      ],
      "text/plain": [
       "             diff  y_actual  y_pred\n",
       "countrycode                        \n",
       "AGO            -1         0       1\n",
       "HTI             1         1       0\n",
       "MLI             1         1       0\n",
       "SYR             1         1       0\n",
       "AGO            -1         0       1\n",
       "HTI             1         1       0\n",
       "MLI             1         1       0\n",
       "SYR             1         1       0"
      ]
     },
     "execution_count": 178,
     "metadata": {},
     "output_type": "execute_result"
    }
   ],
   "source": [
    "results[results['diff']!=0]"
   ]
  },
  {
   "cell_type": "code",
   "execution_count": 160,
   "metadata": {
    "collapsed": false
   },
   "outputs": [
    {
     "data": {
      "text/plain": [
       "array([0, 0, 0, 0, 0, 0, 0, 0, 0, 0, 0, 0, 0, 0, 0, 0, 0, 1, 0, 0, 0, 0, 1,\n",
       "       1, 0, 0, 0, 0, 0, 0, 0, 1, 0, 0, 1, 0, 0, 0, 0, 1, 0, 0, 0, 0, 0, 1,\n",
       "       1, 0, 0, 1, 0, 1, 0, 0, 1, 0, 0, 0, 0, 1, 0, 0, 0, 0, 0, 0, 0, 0, 0,\n",
       "       0, 0, 0, 0, 0, 0, 0, 1, 0, 0, 0, 1, 0, 0, 0, 0, 0, 0, 0, 0, 0, 0, 0,\n",
       "       0, 0, 1, 0, 0, 1, 0, 0, 0, 0, 1, 1, 0, 0, 0, 0, 0, 1, 0, 0, 0, 0, 0,\n",
       "       0, 0, 0, 0, 0, 0, 0, 0, 0, 0, 0, 0, 1, 0, 1, 0, 0, 0, 1, 0, 1, 1, 0,\n",
       "       0, 0, 0, 0, 1, 0, 0, 0, 0, 0, 0, 0, 0, 0, 0, 1, 0, 0, 0, 0, 0, 0, 0,\n",
       "       0, 0, 0, 0, 0, 0, 0, 0, 0, 0, 0, 0, 1, 0, 0, 0, 0, 1, 1, 0, 0, 0, 0,\n",
       "       0, 0, 0, 1, 0, 0, 1, 0, 0, 0, 0, 1, 0, 0, 0, 0, 0, 1, 1, 0, 0, 1, 0,\n",
       "       1, 0, 0, 1, 0, 0, 0, 0, 1, 0, 0, 0, 0, 0, 0, 0, 0, 0, 0, 0, 0, 0, 0,\n",
       "       0, 0, 1, 0, 0, 0, 1, 0, 0, 0, 0, 0, 0, 0, 0, 0, 0, 0, 0, 0, 1, 0, 0,\n",
       "       1, 0, 0, 0, 0, 1, 1, 0, 0, 0, 0, 0, 1, 0, 0, 0, 0, 0, 0, 0, 0, 0, 0,\n",
       "       0, 0, 0, 0, 0, 0, 0, 1, 0, 1, 0, 0, 0, 1, 0, 1, 1, 0, 0, 0, 0, 0, 1,\n",
       "       0, 0, 0, 0, 0, 0, 0, 0, 0, 0, 1, 0, 0])"
      ]
     },
     "execution_count": 160,
     "metadata": {},
     "output_type": "execute_result"
    }
   ],
   "source": [
    "y_actual"
   ]
  },
  {
   "cell_type": "code",
   "execution_count": 145,
   "metadata": {
    "collapsed": false
   },
   "outputs": [
    {
     "data": {
      "text/plain": [
       "KNeighborsClassifier(algorithm='auto', leaf_size=30, metric='minkowski',\n",
       "           metric_params=None, n_neighbors=5, p=2, weights='uniform')"
      ]
     },
     "execution_count": 145,
     "metadata": {},
     "output_type": "execute_result"
    }
   ],
   "source": [
    "model"
   ]
  },
  {
   "cell_type": "code",
   "execution_count": 236,
   "metadata": {
    "collapsed": true
   },
   "outputs": [],
   "source": [
    "def getROCcurve(X_train, X_test, y_train, y_test, model):\n",
    "    model = model\n",
    "    model.fit(X_train, y_train)\n",
    "    y_scores = model.predict_proba(X_test)[:,1]\n",
    "    fpr, tpr, thresholds = roc_curve(y_test, y_scores)\n",
    "\n",
    "    auc = roc_auc_score(y_test, y_scores)\n",
    "#     print('AUC: {}'.format(auc))\n",
    "    \n",
    "    fig,ax = plt.subplots()\n",
    "    ax.plot(fpr, tpr, label='AUC: %0.3f' % auc)\n",
    "\n",
    "    fig.set_size_inches(12, 8, forward=True)\n",
    "    plt.xlabel('False Postive Rate', fontsize=14)\n",
    "    plt.ylabel('True Positive Rate', fontsize=14)\n",
    "    plt.title('Random Forest ROC Curve for Climate-Triggered Refugee Disasters', fontsize=16)\n",
    "    plt.legend(loc='best', fontsize=14)"
   ]
  },
  {
   "cell_type": "code",
   "execution_count": 181,
   "metadata": {
    "collapsed": true
   },
   "outputs": [],
   "source": [
    "def getROCcurve2(X_train, X_test, y_train, y_test, models):\n",
    "    for m in models:\n",
    "        model.fit(X_train, y_train)\n",
    "        y_scores = model.predict_proba(X_test)[:,1]\n",
    "        fpr, tpr, thresholds = roc_curve(y_test, y_scores)\n",
    "\n",
    "        auc = roc_auc_score(y_test, y_scores)\n",
    "    #     print('AUC: {}'.format(auc))\n",
    "\n",
    "        fig,ax = plt.subplots()\n",
    "        ax.plot(fpr, tpr, label='AUC: %0.3f' % auc)\n",
    "\n",
    "    fig.set_size_inches(12, 8, forward=True)\n",
    "    plt.xlabel('False Postive Rate', fontsize=14)\n",
    "    plt.ylabel('True Positive Rate', fontsize=14)\n",
    "    plt.title('Random Forest ROC Curve for Climate-Triggered Refugee Disasters', fontsize=16)\n",
    "    plt.legend(loc='best', fontsize=14)"
   ]
  },
  {
   "cell_type": "code",
   "execution_count": 257,
   "metadata": {
    "collapsed": true
   },
   "outputs": [],
   "source": [
    "test2013 = df.xs(2013, level='year', axis=0)"
   ]
  },
  {
   "cell_type": "code",
   "execution_count": 261,
   "metadata": {
    "collapsed": false
   },
   "outputs": [],
   "source": [
    "train2013 = pd.concat([training_sets[5], df.xs(2012, level='year', axis=0)])"
   ]
  },
  {
   "cell_type": "code",
   "execution_count": 262,
   "metadata": {
    "collapsed": true
   },
   "outputs": [],
   "source": [
    "X_train, X_test, y_train, y_test = train2013[x_cols], test2013[x_cols], train2013['zscores'], test2013['zscores']"
   ]
  },
  {
   "cell_type": "code",
   "execution_count": null,
   "metadata": {
    "collapsed": true
   },
   "outputs": [],
   "source": []
  }
 ],
 "metadata": {
  "kernelspec": {
   "display_name": "Python 2",
   "language": "python",
   "name": "python2"
  },
  "language_info": {
   "codemirror_mode": {
    "name": "ipython",
    "version": 2
   },
   "file_extension": ".py",
   "mimetype": "text/x-python",
   "name": "python",
   "nbconvert_exporter": "python",
   "pygments_lexer": "ipython2",
   "version": "2.7.11"
  }
 },
 "nbformat": 4,
 "nbformat_minor": 0
}
