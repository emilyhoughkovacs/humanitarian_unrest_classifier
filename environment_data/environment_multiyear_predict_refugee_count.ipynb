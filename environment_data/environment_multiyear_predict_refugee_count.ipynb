{
 "cells": [
  {
   "cell_type": "code",
   "execution_count": 1,
   "metadata": {
    "collapsed": true
   },
   "outputs": [],
   "source": [
    "# @TODO: try this for y-values\n",
    "# sometimes this is called “non-parametric” in classical statistics\n",
    "# rank-based /percentile cutoff"
   ]
  },
  {
   "cell_type": "code",
   "execution_count": 1,
   "metadata": {
    "collapsed": false
   },
   "outputs": [],
   "source": [
    "from sqlalchemy import create_engine\n",
    "import pandas as pd\n",
    "import numpy as np\n",
    "\n",
    "from sklearn.cross_validation import train_test_split, StratifiedShuffleSplit\n",
    "from sklearn.neighbors import KNeighborsClassifier\n",
    "from sklearn.metrics import (\n",
    "                            accuracy_score, \n",
    "                            precision_score, \n",
    "                            recall_score, \n",
    "                            f1_score, \n",
    "                            roc_curve, \n",
    "                            roc_auc_score, \n",
    "                            confusion_matrix\n",
    "                            )\n",
    "from sklearn.linear_model import LogisticRegression, LinearRegression\n",
    "from sklearn.naive_bayes import GaussianNB, BernoulliNB\n",
    "from sklearn.svm import SVC\n",
    "from sklearn.tree import DecisionTreeClassifier\n",
    "from sklearn.tree import DecisionTreeRegressor\n",
    "from sklearn.ensemble import RandomForestClassifier\n",
    "from sklearn.learning_curve import learning_curve\n",
    "from sklearn.cross_validation import cross_val_score\n",
    "from sklearn.metrics import confusion_matrix\n",
    "\n",
    "from unbalanced_dataset import OverSampler, SMOTE\n",
    "\n",
    "import matplotlib.pyplot as plt\n",
    "# import seaborn as sns\n",
    "\n",
    "import statsmodels.api as sm\n",
    "from statsmodels.tsa.ar_model import AR, ARResults\n",
    "from scipy.misc import factorial as fact\n",
    "\n",
    "%matplotlib inline"
   ]
  },
  {
   "cell_type": "code",
   "execution_count": 2,
   "metadata": {
    "collapsed": true
   },
   "outputs": [],
   "source": [
    "CONFIG = {}\n",
    "\n",
    "with open('config.txt', \"r\") as in_file:\n",
    "    for line in in_file:\n",
    "        line = line.split(\":\")\n",
    "        parameter = line[0].strip()\n",
    "        value = line[1].strip()\n",
    "        CONFIG[parameter] = value\n",
    "                \n",
    "engine_path = 'postgresql://'+CONFIG['username']+':'+\\\n",
    "                CONFIG['password']+'@'+CONFIG['ip']+\\\n",
    "                ':'+CONFIG['port']+'/'+CONFIG['database']\n",
    "        \n",
    "engine = create_engine(engine_path)"
   ]
  },
  {
   "cell_type": "markdown",
   "metadata": {},
   "source": [
    "##Want something like:"
   ]
  },
  {
   "cell_type": "raw",
   "metadata": {},
   "source": [
    "SELECT\n",
    "fa.countrycode, fa.y1990 as forestarea, env.precipitation, env.extreme, env.arable_land, env.freshwater\n",
    "FROM\n",
    "(SELECT countrycode, y1990 from forestarea) fa\n",
    "JOIN\n",
    "(SELECT p.countrycode as countrycode, p.y1990 as precipitation, e.y1990 as extreme, a.y1990 as arable_land, f.y1990 as freshwater\n",
    "FROM\n",
    "\t((SELECT countrycode, y1990 FROM environment where series ='precipitation') p\n",
    "\tJOIN\n",
    "\t(SELECT countrycode, y1990 FROM environment where series ='extreme') e\n",
    "\ton p.countrycode = e.countrycode\n",
    "\tJOIN\n",
    "\t(SELECT countrycode, y1990 FROM environment where series='arable_land') a\n",
    "\ton p.countrycode = a.countrycode\n",
    "\tJOIN\n",
    "\t(SELECT countrycode, y1990 FROM environment where series='freshwater') f\n",
    "\ton p.countrycode = f.countrycode)) env\n",
    "ON fa.countrycode = env.countrycode;"
   ]
  },
  {
   "cell_type": "raw",
   "metadata": {},
   "source": [
    "\n",
    "SELECT x.*, value as refugees FROM (SELECT fo.countrycode AS countrycode, fo.y2006 AS forestarea, env.precipitation, env.extreme, env.arable_land, env.freshwater FROM (SELECT countrycode, y2006 FROM forestarea) fo JOIN (SELECT pr.countrycode AS countrycode, pr.y2006 as precipitation, ex.y2006 as extreme, ar.y2006 as arable_land, fr.y2006 as freshwater FROM ((SELECT countrycode, y2006 FROM environment WHERE series='precipitation') pr JOIN (SELECT countrycode, y2006 FROM environment WHERE series='extreme') ex ON pr.countrycode = ex.countrycode JOIN (SELECT countrycode, y2006 FROM environment WHERE series='arable_land') ar ON pr.countrycode = ar.countrycode JOIN (SELECT countrycode, y2006 FROM environment WHERE series='freshwater') fr ON pr.countrycode = fr.countrycode)) env ON fo.countrycode = env.countrycode) x JOIN (select countrycode, value FROM refugees where year = 2006) y on x.countrycode = y.countrycode"
   ]
  },
  {
   "cell_type": "code",
   "execution_count": 3,
   "metadata": {
    "collapsed": false
   },
   "outputs": [],
   "source": [
    "def makeSQLQuery(table_names, year, seriesnames):\n",
    "    dotyyear = '.y' + str(year)\n",
    "    short = table_names[0][0:2]\n",
    "    seriesnames = seriesnames\n",
    "    abb = [ser[0:2] for ser in seriesnames]\n",
    "    query = 'SELECT x.*, value as refugees FROM (' + \\\n",
    "            'SELECT ' + short + '.countrycode AS countrycode, ' + \\\n",
    "            short + dotyyear + ' AS ' + table_names[0] \n",
    "    \n",
    "    mystr = ''\n",
    "    for s in seriesnames:\n",
    "        mystr = mystr + ', env.' + s\n",
    "    mystr = mystr\n",
    "    \n",
    "    query = query + mystr\n",
    "    \n",
    "    query = query + ' FROM (SELECT countrycode, ' + dotyyear[1:] + \\\n",
    "        ' FROM ' + table_names[0] + ') ' + short + ' JOIN ' + \\\n",
    "        '(SELECT ' + abb[0] + '.countrycode AS countrycode'\n",
    "    \n",
    "    mystr = ''\n",
    "    for a, ser in zip(abb, seriesnames):\n",
    "        mystr = mystr + ', ' + a + dotyyear + ' as ' + ser\n",
    "    query = query + mystr\n",
    "    \n",
    "    query = query + ' FROM ('\n",
    "    \n",
    "    subquery = []\n",
    "    for a, ser in zip(abb, seriesnames):\n",
    "        mystr = ''\n",
    "        mystr = mystr + '(SELECT countrycode, ' + dotyyear[1:] + \\\n",
    "        ' FROM ' + table_names[1] + \" WHERE series='\" + ser + \\\n",
    "        \"') \" + a\n",
    "        subquery.append(mystr)\n",
    "    \n",
    "    query = query + subquery[0] + ' JOIN ' + subquery[1] + ' ON ' + \\\n",
    "        abb[0] + '.countrycode = ' + abb[1] + '.countrycode' + \\\n",
    "        ' JOIN ' + subquery[2] + ' ON ' + \\\n",
    "        abb[0] + '.countrycode = ' + abb[2] + '.countrycode' + \\\n",
    "        ' JOIN ' + subquery[3] + ' ON ' + \\\n",
    "        abb[0] + '.countrycode = ' + abb[3] + '.countrycode)) env' + \\\n",
    "        ' ON ' + short + '.countrycode = env.countrycode'\n",
    "        \n",
    "    query = query + ') x JOIN (select countrycode, value' + \\\n",
    "            ' FROM refugees WHERE year = ' + dotyyear[2:] + \\\n",
    "        ') y on x.countrycode = y.countrycode'\n",
    "    \n",
    "    return query"
   ]
  },
  {
   "cell_type": "code",
   "execution_count": 4,
   "metadata": {
    "collapsed": true
   },
   "outputs": [],
   "source": [
    "years = [x for x in range(2006, 2014)]"
   ]
  },
  {
   "cell_type": "code",
   "execution_count": 5,
   "metadata": {
    "collapsed": false
   },
   "outputs": [
    {
     "name": "stdout",
     "output_type": "stream",
     "text": [
      "SELECT x.*, value as refugees FROM (SELECT fo.countrycode AS countrycode, fo.y2006 AS forestarea, env.precipitation, env.extreme, env.arable_land, env.freshwater FROM (SELECT countrycode, y2006 FROM forestarea) fo JOIN (SELECT pr.countrycode AS countrycode, pr.y2006 as precipitation, ex.y2006 as extreme, ar.y2006 as arable_land, fr.y2006 as freshwater FROM ((SELECT countrycode, y2006 FROM environment WHERE series='precipitation') pr JOIN (SELECT countrycode, y2006 FROM environment WHERE series='extreme') ex ON pr.countrycode = ex.countrycode JOIN (SELECT countrycode, y2006 FROM environment WHERE series='arable_land') ar ON pr.countrycode = ar.countrycode JOIN (SELECT countrycode, y2006 FROM environment WHERE series='freshwater') fr ON pr.countrycode = fr.countrycode)) env ON fo.countrycode = env.countrycode) x JOIN (select countrycode, value FROM refugees WHERE year = 2006) y on x.countrycode = y.countrycode\n"
     ]
    }
   ],
   "source": [
    "tables = ['forestarea', 'environment']\n",
    "features = ['precipitation', 'extreme', 'arable_land', 'freshwater']\n",
    "print makeSQLQuery(tables, years[0], features)"
   ]
  },
  {
   "cell_type": "code",
   "execution_count": 6,
   "metadata": {
    "collapsed": true
   },
   "outputs": [],
   "source": [
    "df = pd.DataFrame()"
   ]
  },
  {
   "cell_type": "code",
   "execution_count": 7,
   "metadata": {
    "collapsed": false
   },
   "outputs": [],
   "source": [
    "for year in years:\n",
    "    query = makeSQLQuery(tables, year, features)\n",
    "    year_data = pd.read_sql_query(query, engine)\n",
    "    year_data['year'] = year\n",
    "    year_data = year_data.set_index(['countrycode', 'year'])\n",
    "    df = pd.concat([df, year_data])"
   ]
  },
  {
   "cell_type": "code",
   "execution_count": 8,
   "metadata": {
    "collapsed": false
   },
   "outputs": [],
   "source": [
    "df = df.dropna()"
   ]
  },
  {
   "cell_type": "code",
   "execution_count": 9,
   "metadata": {
    "collapsed": false
   },
   "outputs": [
    {
     "data": {
      "text/plain": [
       "109686.00000000001"
      ]
     },
     "execution_count": 9,
     "metadata": {},
     "output_type": "execute_result"
    }
   ],
   "source": [
    "df['refugees'].quantile(q=0.9)"
   ]
  },
  {
   "cell_type": "code",
   "execution_count": 12,
   "metadata": {
    "collapsed": false
   },
   "outputs": [
    {
     "name": "stdout",
     "output_type": "stream",
     "text": [
      "2006 124247.6\n",
      "2007 97128.0\n",
      "2008 104584.2\n",
      "2009 106411.8\n",
      "2010 106371.2\n",
      "2011 109194.6\n",
      "2012 108614.4\n",
      "2013 76703.0\n"
     ]
    }
   ],
   "source": [
    "for y in years:\n",
    "    print y, df.xs(y, level='year', axis=0)['refugees'].quantile(q=0.9)"
   ]
  },
  {
   "cell_type": "code",
   "execution_count": 83,
   "metadata": {
    "collapsed": false
   },
   "outputs": [],
   "source": [
    "df['binary'] = df['refugees'].apply(lambda x: 0 if x < df['refugees'].quantile(q=0.95) else 1)"
   ]
  },
  {
   "cell_type": "code",
   "execution_count": 13,
   "metadata": {
    "collapsed": false
   },
   "outputs": [
    {
     "data": {
      "text/html": [
       "<div>\n",
       "<table border=\"1\" class=\"dataframe\">\n",
       "  <thead>\n",
       "    <tr style=\"text-align: right;\">\n",
       "      <th></th>\n",
       "      <th>forestarea</th>\n",
       "      <th>precipitation</th>\n",
       "      <th>extreme</th>\n",
       "      <th>arable_land</th>\n",
       "      <th>freshwater</th>\n",
       "      <th>refugees</th>\n",
       "    </tr>\n",
       "  </thead>\n",
       "  <tbody>\n",
       "    <tr>\n",
       "      <th>count</th>\n",
       "      <td>1224.000000</td>\n",
       "      <td>1224.000000</td>\n",
       "      <td>1224.000000</td>\n",
       "      <td>1224.000000</td>\n",
       "      <td>1224.000000</td>\n",
       "      <td>1224.000000</td>\n",
       "    </tr>\n",
       "    <tr>\n",
       "      <th>mean</th>\n",
       "      <td>30.563910</td>\n",
       "      <td>1113.254902</td>\n",
       "      <td>1.234982</td>\n",
       "      <td>15.922536</td>\n",
       "      <td>15008.162324</td>\n",
       "      <td>62441.800654</td>\n",
       "    </tr>\n",
       "    <tr>\n",
       "      <th>std</th>\n",
       "      <td>22.088667</td>\n",
       "      <td>766.613571</td>\n",
       "      <td>1.993244</td>\n",
       "      <td>13.790668</td>\n",
       "      <td>35396.126119</td>\n",
       "      <td>278828.799198</td>\n",
       "    </tr>\n",
       "    <tr>\n",
       "      <th>min</th>\n",
       "      <td>0.067909</td>\n",
       "      <td>51.000000</td>\n",
       "      <td>0.000000</td>\n",
       "      <td>0.051769</td>\n",
       "      <td>0.000000</td>\n",
       "      <td>0.000000</td>\n",
       "    </tr>\n",
       "    <tr>\n",
       "      <th>25%</th>\n",
       "      <td>11.092823</td>\n",
       "      <td>537.000000</td>\n",
       "      <td>0.023082</td>\n",
       "      <td>5.151829</td>\n",
       "      <td>1141.541910</td>\n",
       "      <td>198.500000</td>\n",
       "    </tr>\n",
       "    <tr>\n",
       "      <th>50%</th>\n",
       "      <td>30.608826</td>\n",
       "      <td>917.000000</td>\n",
       "      <td>0.304579</td>\n",
       "      <td>11.917845</td>\n",
       "      <td>2944.990323</td>\n",
       "      <td>1473.000000</td>\n",
       "    </tr>\n",
       "    <tr>\n",
       "      <th>75%</th>\n",
       "      <td>46.397661</td>\n",
       "      <td>1646.000000</td>\n",
       "      <td>1.297429</td>\n",
       "      <td>22.543011</td>\n",
       "      <td>12316.252997</td>\n",
       "      <td>14637.000000</td>\n",
       "    </tr>\n",
       "    <tr>\n",
       "      <th>max</th>\n",
       "      <td>98.506410</td>\n",
       "      <td>3240.000000</td>\n",
       "      <td>9.226586</td>\n",
       "      <td>60.536222</td>\n",
       "      <td>323213.140961</td>\n",
       "      <td>3057661.000000</td>\n",
       "    </tr>\n",
       "  </tbody>\n",
       "</table>\n",
       "</div>"
      ],
      "text/plain": [
       "        forestarea  precipitation      extreme  arable_land     freshwater  \\\n",
       "count  1224.000000    1224.000000  1224.000000  1224.000000    1224.000000   \n",
       "mean     30.563910    1113.254902     1.234982    15.922536   15008.162324   \n",
       "std      22.088667     766.613571     1.993244    13.790668   35396.126119   \n",
       "min       0.067909      51.000000     0.000000     0.051769       0.000000   \n",
       "25%      11.092823     537.000000     0.023082     5.151829    1141.541910   \n",
       "50%      30.608826     917.000000     0.304579    11.917845    2944.990323   \n",
       "75%      46.397661    1646.000000     1.297429    22.543011   12316.252997   \n",
       "max      98.506410    3240.000000     9.226586    60.536222  323213.140961   \n",
       "\n",
       "             refugees  \n",
       "count     1224.000000  \n",
       "mean     62441.800654  \n",
       "std     278828.799198  \n",
       "min          0.000000  \n",
       "25%        198.500000  \n",
       "50%       1473.000000  \n",
       "75%      14637.000000  \n",
       "max    3057661.000000  "
      ]
     },
     "execution_count": 13,
     "metadata": {},
     "output_type": "execute_result"
    }
   ],
   "source": [
    "df.describe()"
   ]
  },
  {
   "cell_type": "code",
   "execution_count": 16,
   "metadata": {
    "collapsed": true
   },
   "outputs": [],
   "source": [
    "df = df.swaplevel(0, 1, axis=0)"
   ]
  },
  {
   "cell_type": "code",
   "execution_count": 17,
   "metadata": {
    "collapsed": true
   },
   "outputs": [],
   "source": [
    "x_cols = ['forestarea', 'precipitation', 'extreme', 'arable_land', 'freshwater']"
   ]
  },
  {
   "cell_type": "code",
   "execution_count": 152,
   "metadata": {
    "collapsed": true
   },
   "outputs": [],
   "source": [
    "# convert each feature to z-score to normalize\n",
    "for col in x_cols:\n",
    "    df[col] = (df[col] - df[col].mean())/df[col].std(ddof=0)"
   ]
  },
  {
   "cell_type": "code",
   "execution_count": 69,
   "metadata": {
    "collapsed": false
   },
   "outputs": [],
   "source": [
    "def getScoreValues(X_train, \n",
    "                   X_test, \n",
    "                   y_train, \n",
    "                   y_test, \n",
    "                   model=KNeighborsClassifier(n_neighbors=6), \n",
    "                   verbose=True, \n",
    "                   get_features=True\n",
    "                  ):\n",
    "    model = model\n",
    "    model.fit(X_train, y_train)\n",
    "    y_pred = model.predict(X_test)\n",
    "    \n",
    "    accuracy_score_value = accuracy_score(y_test, y_pred)\n",
    "    precision_score_value = precision_score(y_test, y_pred)\n",
    "    recall_score_value = recall_score(y_test, y_pred)\n",
    "    f1_score_value = f1_score(y_test, y_pred) \n",
    "    \n",
    "    scores = pd.Series(data=[accuracy_score_value, precision_score_value, recall_score_value, f1_score_value],\n",
    "                      index=[\"Accuracy\", \"Precision\", \"Recall\", \"F1\"])\n",
    "    \n",
    "    feature_importances = None\n",
    "    if get_features:\n",
    "        try:\n",
    "            feature_importances = model.feature_importances_\n",
    "            #print(feature_importances)\n",
    "        except AttributeError:\n",
    "            pass\n",
    "        \n",
    "    fimp = pd.Series(data=feature_importances, index=x_cols)\n",
    "    \n",
    "    if verbose:\n",
    "        #print(pd.concat([y_test,pd.Series(y_pred, index=y_test.index)], axis = 1))\n",
    "        print('Accuracy: {}\\nPrecision: {}\\nRecall: {}\\nf1: {}'.format(accuracy_score_value, \\\n",
    "                                                                       precision_score_value, \\\n",
    "                                                                       recall_score_value, \\\n",
    "                                                                       f1_score_value))\n",
    "    return scores, fimp"
   ]
  },
  {
   "cell_type": "code",
   "execution_count": 14,
   "metadata": {
    "collapsed": false
   },
   "outputs": [
    {
     "ename": "NameError",
     "evalue": "name 'x_cols' is not defined",
     "output_type": "error",
     "traceback": [
      "\u001b[0;31m---------------------------------------------------------------------------\u001b[0m",
      "\u001b[0;31mNameError\u001b[0m                                 Traceback (most recent call last)",
      "\u001b[0;32m<ipython-input-14-8a1081ff6b27>\u001b[0m in \u001b[0;36m<module>\u001b[0;34m()\u001b[0m\n\u001b[0;32m----> 1\u001b[0;31m \u001b[0mX\u001b[0m \u001b[0;34m=\u001b[0m \u001b[0mdf\u001b[0m\u001b[0;34m[\u001b[0m\u001b[0mx_cols\u001b[0m\u001b[0;34m]\u001b[0m\u001b[0;34m\u001b[0m\u001b[0m\n\u001b[0m\u001b[1;32m      2\u001b[0m \u001b[0my\u001b[0m \u001b[0;34m=\u001b[0m \u001b[0mdf\u001b[0m\u001b[0;34m[\u001b[0m\u001b[0;34m'binary'\u001b[0m\u001b[0;34m]\u001b[0m\u001b[0;34m\u001b[0m\u001b[0m\n\u001b[1;32m      3\u001b[0m \u001b[0;34m\u001b[0m\u001b[0m\n\u001b[1;32m      4\u001b[0m \u001b[0mX_train\u001b[0m\u001b[0;34m,\u001b[0m \u001b[0mX_test\u001b[0m\u001b[0;34m,\u001b[0m \u001b[0my_train\u001b[0m\u001b[0;34m,\u001b[0m \u001b[0my_test\u001b[0m \u001b[0;34m=\u001b[0m \u001b[0mtrain_test_split\u001b[0m\u001b[0;34m(\u001b[0m\u001b[0mX\u001b[0m\u001b[0;34m,\u001b[0m \u001b[0my\u001b[0m\u001b[0;34m,\u001b[0m \u001b[0mtest_size\u001b[0m \u001b[0;34m=\u001b[0m \u001b[0;36m.30\u001b[0m\u001b[0;34m,\u001b[0m \u001b[0mrandom_state\u001b[0m\u001b[0;34m=\u001b[0m\u001b[0;36m4444\u001b[0m\u001b[0;34m)\u001b[0m\u001b[0;34m\u001b[0m\u001b[0m\n",
      "\u001b[0;31mNameError\u001b[0m: name 'x_cols' is not defined"
     ]
    }
   ],
   "source": [
    "X = df[x_cols]\n",
    "y = df['binary']\n",
    "\n",
    "X_train, X_test, y_train, y_test = train_test_split(X, y, test_size = .30, random_state=4444)"
   ]
  },
  {
   "cell_type": "code",
   "execution_count": 70,
   "metadata": {
    "collapsed": false
   },
   "outputs": [
    {
     "ename": "NameError",
     "evalue": "name 'X_train' is not defined",
     "output_type": "error",
     "traceback": [
      "\u001b[0;31m---------------------------------------------------------------------------\u001b[0m",
      "\u001b[0;31mNameError\u001b[0m                                 Traceback (most recent call last)",
      "\u001b[0;32m<ipython-input-70-2a7bd116982c>\u001b[0m in \u001b[0;36m<module>\u001b[0;34m()\u001b[0m\n\u001b[0;32m----> 1\u001b[0;31m \u001b[0mgetScoreValues\u001b[0m\u001b[0;34m(\u001b[0m\u001b[0mX_train\u001b[0m\u001b[0;34m,\u001b[0m \u001b[0mX_test\u001b[0m\u001b[0;34m,\u001b[0m \u001b[0my_train\u001b[0m\u001b[0;34m,\u001b[0m \u001b[0my_test\u001b[0m\u001b[0;34m,\u001b[0m \u001b[0mDecisionTreeClassifier\u001b[0m\u001b[0;34m(\u001b[0m\u001b[0;34m)\u001b[0m\u001b[0;34m)\u001b[0m\u001b[0;34m\u001b[0m\u001b[0m\n\u001b[0m",
      "\u001b[0;31mNameError\u001b[0m: name 'X_train' is not defined"
     ]
    }
   ],
   "source": [
    "getScoreValues(X_train, X_test, y_train, y_test, DecisionTreeClassifier())"
   ]
  },
  {
   "cell_type": "code",
   "execution_count": 66,
   "metadata": {
    "collapsed": false
   },
   "outputs": [
    {
     "name": "stdout",
     "output_type": "stream",
     "text": [
      "[2006] 2007\n",
      "[2006, 2007] 2008\n",
      "[2006, 2007, 2008] 2009\n",
      "[2006, 2007, 2008, 2009] 2010\n",
      "[2006, 2007, 2008, 2009, 2010] 2011\n",
      "[2006, 2007, 2008, 2009, 2010, 2011] 2012\n"
     ]
    }
   ],
   "source": [
    "# countries = pd.Series([x for x, y in df.index])\n",
    "# arg_forestarea = df.loc['ARG']['forestarea']\n",
    "# arg_forestarea\n",
    "# int(fact(3))\n",
    "\n",
    "# print \"n, year, div_by, adj_forest, actual_forest\"\n",
    "# for i, val in enumerate(arg_forestarea):\n",
    "#    index = arg_forestarea.index[i]\n",
    "#    n = i + 1\n",
    "#    tot = np.sum(np.array([x for x in range(1, n+1)]))\n",
    "#    \n",
    "#    vals = [arg_forestarea.loc[yr] for yr in range(min(arg_forestarea.index), index+1)]\n",
    "#    weighted = [(i+1)*v for i, v in enumerate(vals)]\n",
    "#    weighted\n",
    "#    print n, index, tot, np.sum(np.array(weighted))/tot, val\n",
    "\n",
    "test = np.arange(min(years)+1, max(years))\n",
    "train = []\n",
    "for y in test:\n",
    "    tr = [yr for yr in years if yr<y]\n",
    "    train.append(tr)\n",
    "    print tr, y\n",
    "    \n",
    "training_sets = []\n",
    "test_sets = []\n"
   ]
  },
  {
   "cell_type": "code",
   "execution_count": 67,
   "metadata": {
    "collapsed": false
   },
   "outputs": [],
   "source": [
    "for prev, year in zip(train, test):\n",
    "    test_sets.append(df.xs(year, level='year', axis=0))\n",
    "    \n",
    "    for year in test:\n",
    "        trainyear = pd.DataFrame()\n",
    "        for y in prev:\n",
    "            data = df.xs(y, level='year', axis=0)\n",
    "            trainyear = pd.concat([trainyear, data])\n",
    "    \n",
    "    training_sets.append(trainyear)"
   ]
  },
  {
   "cell_type": "code",
   "execution_count": 71,
   "metadata": {
    "collapsed": false,
    "scrolled": true
   },
   "outputs": [],
   "source": [
    "def score_model(train, test, model):\n",
    "    year = 2007\n",
    "    dfscores = pd.DataFrame()\n",
    "    for train, test in zip(train, test):\n",
    "        X_train, X_test, y_train, y_test = train[x_cols], test[x_cols], train['binary'], test['binary']\n",
    "        scores = getScoreValues(X_train, X_test, y_train, y_test, DecisionTreeClassifier())\n",
    "        dfscores = dfscores.append(scores, ignore_index=True)\n",
    "        year += 1\n",
    "    avgscores = [(s, dfscores[s].mean()) for s in dfscores]\n",
    "    totscores = pd.Series([dfscores[s].mean() for s in dfscores], index=[s for s in dfscores])\n",
    "#     print avgscores\n",
    "    return totscores"
   ]
  },
  {
   "cell_type": "code",
   "execution_count": 72,
   "metadata": {
    "collapsed": false
   },
   "outputs": [
    {
     "ename": "NameError",
     "evalue": "name 'X_train' is not defined",
     "output_type": "error",
     "traceback": [
      "\u001b[0;31m---------------------------------------------------------------------------\u001b[0m",
      "\u001b[0;31mNameError\u001b[0m                                 Traceback (most recent call last)",
      "\u001b[0;32m<ipython-input-72-2a7bd116982c>\u001b[0m in \u001b[0;36m<module>\u001b[0;34m()\u001b[0m\n\u001b[0;32m----> 1\u001b[0;31m \u001b[0mgetScoreValues\u001b[0m\u001b[0;34m(\u001b[0m\u001b[0mX_train\u001b[0m\u001b[0;34m,\u001b[0m \u001b[0mX_test\u001b[0m\u001b[0;34m,\u001b[0m \u001b[0my_train\u001b[0m\u001b[0;34m,\u001b[0m \u001b[0my_test\u001b[0m\u001b[0;34m,\u001b[0m \u001b[0mDecisionTreeClassifier\u001b[0m\u001b[0;34m(\u001b[0m\u001b[0;34m)\u001b[0m\u001b[0;34m)\u001b[0m\u001b[0;34m\u001b[0m\u001b[0m\n\u001b[0m",
      "\u001b[0;31mNameError\u001b[0m: name 'X_train' is not defined"
     ]
    }
   ],
   "source": [
    "getScoreValues(X_train, X_test, y_train, y_test, DecisionTreeClassifier())"
   ]
  },
  {
   "cell_type": "code",
   "execution_count": 22,
   "metadata": {
    "collapsed": true
   },
   "outputs": [],
   "source": [
    "models = [DecisionTreeClassifier(), BernoulliNB(), GaussianNB(), \n",
    "          SVC(), RandomForestClassifier(), KNeighborsClassifier()]"
   ]
  },
  {
   "cell_type": "code",
   "execution_count": 23,
   "metadata": {
    "collapsed": true
   },
   "outputs": [],
   "source": [
    "modelnames = [\"Decision Tree\", \"Bernoulli NB\", \"Gaussian NB\", \"SVM\", \"Random Forest\", \"K Neighbors\"]"
   ]
  },
  {
   "cell_type": "code",
   "execution_count": 77,
   "metadata": {
    "collapsed": false
   },
   "outputs": [],
   "source": [
    "trainblah = training_sets[5]"
   ]
  },
  {
   "cell_type": "code",
   "execution_count": 78,
   "metadata": {
    "collapsed": true
   },
   "outputs": [],
   "source": [
    "testblah = test_sets[5]"
   ]
  },
  {
   "cell_type": "code",
   "execution_count": 81,
   "metadata": {
    "collapsed": true
   },
   "outputs": [],
   "source": [
    "X_train, X_test, y_train, y_test = trainblah[x_cols], testblah[x_cols], trainblah['binary'], testblah['binary']"
   ]
  },
  {
   "cell_type": "code",
   "execution_count": 82,
   "metadata": {
    "collapsed": false
   },
   "outputs": [
    {
     "name": "stdout",
     "output_type": "stream",
     "text": [
      "Accuracy: 0.993464052288\n",
      "Precision: 0.5\n",
      "Recall: 1.0\n",
      "f1: 0.666666666667\n"
     ]
    },
    {
     "data": {
      "text/plain": [
       "(Accuracy     0.993464\n",
       " Precision    0.500000\n",
       " Recall       1.000000\n",
       " F1           0.666667\n",
       " dtype: float64, forestarea       0.831498\n",
       " precipitation    0.000000\n",
       " extreme          0.000000\n",
       " arable_land      0.168502\n",
       " freshwater       0.000000\n",
       " dtype: float64)"
      ]
     },
     "execution_count": 82,
     "metadata": {},
     "output_type": "execute_result"
    }
   ],
   "source": [
    "getScoreValues(X_train, X_test, y_train, y_test, DecisionTreeClassifier())"
   ]
  },
  {
   "cell_type": "code",
   "execution_count": 2,
   "metadata": {
    "collapsed": false
   },
   "outputs": [
    {
     "ename": "NameError",
     "evalue": "name 'modelnames' is not defined",
     "output_type": "error",
     "traceback": [
      "\u001b[0;31m---------------------------------------------------------------------------\u001b[0m",
      "\u001b[0;31mNameError\u001b[0m                                 Traceback (most recent call last)",
      "\u001b[0;32m<ipython-input-2-71f8f91a2d3b>\u001b[0m in \u001b[0;36m<module>\u001b[0;34m()\u001b[0m\n\u001b[0;32m----> 1\u001b[0;31m \u001b[0mdfmodelscores\u001b[0m \u001b[0;34m=\u001b[0m \u001b[0mpd\u001b[0m\u001b[0;34m.\u001b[0m\u001b[0mDataFrame\u001b[0m\u001b[0;34m(\u001b[0m\u001b[0mindex\u001b[0m\u001b[0;34m=\u001b[0m\u001b[0;34m[\u001b[0m\u001b[0;34m\"Accuracy\"\u001b[0m\u001b[0;34m,\u001b[0m \u001b[0;34m\"Precision\"\u001b[0m\u001b[0;34m,\u001b[0m \u001b[0;34m\"Recall\"\u001b[0m\u001b[0;34m,\u001b[0m \u001b[0;34m\"F1\"\u001b[0m\u001b[0;34m]\u001b[0m\u001b[0;34m,\u001b[0m \u001b[0mcolumns\u001b[0m\u001b[0;34m=\u001b[0m\u001b[0mmodelnames\u001b[0m\u001b[0;34m)\u001b[0m\u001b[0;34m\u001b[0m\u001b[0m\n\u001b[0m\u001b[1;32m      2\u001b[0m \u001b[0;32mfor\u001b[0m \u001b[0mmodel\u001b[0m\u001b[0;34m,\u001b[0m \u001b[0mname\u001b[0m \u001b[0;32min\u001b[0m \u001b[0mzip\u001b[0m\u001b[0;34m(\u001b[0m\u001b[0mmodels\u001b[0m\u001b[0;34m,\u001b[0m \u001b[0mmodelnames\u001b[0m\u001b[0;34m)\u001b[0m\u001b[0;34m:\u001b[0m\u001b[0;34m\u001b[0m\u001b[0m\n\u001b[1;32m      3\u001b[0m     \u001b[0;32mprint\u001b[0m \u001b[0mname\u001b[0m\u001b[0;34m\u001b[0m\u001b[0m\n\u001b[1;32m      4\u001b[0m     \u001b[0;32mprint\u001b[0m \u001b[0mscore_model\u001b[0m\u001b[0;34m(\u001b[0m\u001b[0mtraining_sets\u001b[0m\u001b[0;34m,\u001b[0m \u001b[0mtest_sets\u001b[0m\u001b[0;34m,\u001b[0m \u001b[0mmodel\u001b[0m\u001b[0;34m)\u001b[0m\u001b[0;34m\u001b[0m\u001b[0m\n\u001b[1;32m      5\u001b[0m     \u001b[0mdfmodelscores\u001b[0m\u001b[0;34m[\u001b[0m\u001b[0mname\u001b[0m\u001b[0;34m]\u001b[0m \u001b[0;34m=\u001b[0m \u001b[0mscore_model\u001b[0m\u001b[0;34m(\u001b[0m\u001b[0mtraining_sets\u001b[0m\u001b[0;34m,\u001b[0m \u001b[0mtest_sets\u001b[0m\u001b[0;34m,\u001b[0m \u001b[0mmodel\u001b[0m\u001b[0;34m)\u001b[0m\u001b[0;34m\u001b[0m\u001b[0m\n",
      "\u001b[0;31mNameError\u001b[0m: name 'modelnames' is not defined"
     ]
    }
   ],
   "source": [
    "dfmodelscores = pd.DataFrame(index=[\"Accuracy\", \"Precision\", \"Recall\", \"F1\"], columns=modelnames)\n",
    "for model, name in zip(models, modelnames):\n",
    "    print name\n",
    "    print score_model(training_sets, test_sets, model)\n",
    "    dfmodelscores[name] = score_model(training_sets, test_sets, model)\n",
    "dfmodelscores"
   ]
  },
  {
   "cell_type": "code",
   "execution_count": 236,
   "metadata": {
    "collapsed": true
   },
   "outputs": [],
   "source": [
    "def getROCcurve(X_train, X_test, y_train, y_test, model):\n",
    "    model = model\n",
    "    model.fit(X_train, y_train)\n",
    "    y_scores = model.predict_proba(X_test)[:,1]\n",
    "    fpr, tpr, thresholds = roc_curve(y_test, y_scores)\n",
    "\n",
    "    auc = roc_auc_score(y_test, y_scores)\n",
    "#     print('AUC: {}'.format(auc))\n",
    "    \n",
    "    fig,ax = plt.subplots()\n",
    "    ax.plot(fpr, tpr, label='AUC: %0.3f' % auc)\n",
    "\n",
    "    fig.set_size_inches(12, 8, forward=True)\n",
    "    plt.xlabel('False Postive Rate', fontsize=14)\n",
    "    plt.ylabel('True Positive Rate', fontsize=14)\n",
    "    plt.title('Random Forest ROC Curve for Climate-Triggered Refugee Disasters', fontsize=16)\n",
    "    plt.legend(loc='best', fontsize=14)"
   ]
  },
  {
   "cell_type": "code",
   "execution_count": 257,
   "metadata": {
    "collapsed": true
   },
   "outputs": [],
   "source": [
    "test2013 = df.xs(2013, level='year', axis=0)"
   ]
  },
  {
   "cell_type": "code",
   "execution_count": 261,
   "metadata": {
    "collapsed": false
   },
   "outputs": [],
   "source": [
    "train2013 = pd.concat([training_sets[5], df.xs(2012, level='year', axis=0)])"
   ]
  },
  {
   "cell_type": "code",
   "execution_count": 262,
   "metadata": {
    "collapsed": true
   },
   "outputs": [],
   "source": [
    "X_train, X_test, y_train, y_test = train2013[x_cols], test2013[x_cols], train2013['zscores'], test2013['zscores']"
   ]
  },
  {
   "cell_type": "code",
   "execution_count": 265,
   "metadata": {
    "collapsed": false
   },
   "outputs": [
    {
     "data": {
      "text/html": [
       "<div>\n",
       "<table border=\"1\" class=\"dataframe\">\n",
       "  <thead>\n",
       "    <tr style=\"text-align: right;\">\n",
       "      <th></th>\n",
       "      <th></th>\n",
       "      <th>forestarea</th>\n",
       "      <th>precipitation</th>\n",
       "      <th>extreme</th>\n",
       "      <th>arable_land</th>\n",
       "      <th>freshwater</th>\n",
       "      <th>zscores</th>\n",
       "    </tr>\n",
       "    <tr>\n",
       "      <th>year</th>\n",
       "      <th>countrycode</th>\n",
       "      <th></th>\n",
       "      <th></th>\n",
       "      <th></th>\n",
       "      <th></th>\n",
       "      <th></th>\n",
       "      <th></th>\n",
       "    </tr>\n",
       "  </thead>\n",
       "  <tbody>\n",
       "    <tr>\n",
       "      <th rowspan=\"30\" valign=\"top\">2006</th>\n",
       "      <th>ARG</th>\n",
       "      <td>-0.889903</td>\n",
       "      <td>-0.688547</td>\n",
       "      <td>-0.529877</td>\n",
       "      <td>-0.243228</td>\n",
       "      <td>-0.216289</td>\n",
       "      <td>0</td>\n",
       "    </tr>\n",
       "    <tr>\n",
       "      <th>AUS</th>\n",
       "      <td>-0.637493</td>\n",
       "      <td>-0.763846</td>\n",
       "      <td>0.927284</td>\n",
       "      <td>-0.713604</td>\n",
       "      <td>0.249731</td>\n",
       "      <td>0</td>\n",
       "    </tr>\n",
       "    <tr>\n",
       "      <th>BRA</th>\n",
       "      <td>1.347646</td>\n",
       "      <td>0.857061</td>\n",
       "      <td>-0.370363</td>\n",
       "      <td>-0.561582</td>\n",
       "      <td>0.413721</td>\n",
       "      <td>0</td>\n",
       "    </tr>\n",
       "    <tr>\n",
       "      <th>CHN</th>\n",
       "      <td>-0.446618</td>\n",
       "      <td>-0.617212</td>\n",
       "      <td>3.408522</td>\n",
       "      <td>-0.326671</td>\n",
       "      <td>-0.363975</td>\n",
       "      <td>0</td>\n",
       "    </tr>\n",
       "    <tr>\n",
       "      <th>FRA</th>\n",
       "      <td>-0.064819</td>\n",
       "      <td>-0.323942</td>\n",
       "      <td>-0.611578</td>\n",
       "      <td>1.252985</td>\n",
       "      <td>-0.335708</td>\n",
       "      <td>0</td>\n",
       "    </tr>\n",
       "    <tr>\n",
       "      <th>DEU</th>\n",
       "      <td>0.092749</td>\n",
       "      <td>-0.544555</td>\n",
       "      <td>-0.597863</td>\n",
       "      <td>1.291686</td>\n",
       "      <td>-0.387790</td>\n",
       "      <td>0</td>\n",
       "    </tr>\n",
       "    <tr>\n",
       "      <th>IND</th>\n",
       "      <td>-0.347672</td>\n",
       "      <td>-0.038599</td>\n",
       "      <td>1.589611</td>\n",
       "      <td>2.685696</td>\n",
       "      <td>-0.389929</td>\n",
       "      <td>0</td>\n",
       "    </tr>\n",
       "    <tr>\n",
       "      <th>IDN</th>\n",
       "      <td>1.040819</td>\n",
       "      <td>2.100152</td>\n",
       "      <td>-0.533217</td>\n",
       "      <td>-0.305779</td>\n",
       "      <td>-0.176705</td>\n",
       "      <td>0</td>\n",
       "    </tr>\n",
       "    <tr>\n",
       "      <th>ITA</th>\n",
       "      <td>-0.029179</td>\n",
       "      <td>-0.370178</td>\n",
       "      <td>-0.610878</td>\n",
       "      <td>0.646417</td>\n",
       "      <td>-0.335744</td>\n",
       "      <td>0</td>\n",
       "    </tr>\n",
       "    <tr>\n",
       "      <th>JPN</th>\n",
       "      <td>1.708985</td>\n",
       "      <td>0.734205</td>\n",
       "      <td>-0.603870</td>\n",
       "      <td>-0.302405</td>\n",
       "      <td>-0.328993</td>\n",
       "      <td>0</td>\n",
       "    </tr>\n",
       "    <tr>\n",
       "      <th>KOR</th>\n",
       "      <td>1.531416</td>\n",
       "      <td>0.213718</td>\n",
       "      <td>-0.573864</td>\n",
       "      <td>0.043373</td>\n",
       "      <td>-0.386825</td>\n",
       "      <td>0</td>\n",
       "    </tr>\n",
       "    <tr>\n",
       "      <th>MEX</th>\n",
       "      <td>0.173591</td>\n",
       "      <td>-0.467935</td>\n",
       "      <td>-0.538654</td>\n",
       "      <td>-0.294954</td>\n",
       "      <td>-0.321691</td>\n",
       "      <td>0</td>\n",
       "    </tr>\n",
       "    <tr>\n",
       "      <th>NLD</th>\n",
       "      <td>-0.892385</td>\n",
       "      <td>-0.441514</td>\n",
       "      <td>-0.612074</td>\n",
       "      <td>1.123073</td>\n",
       "      <td>-0.405759</td>\n",
       "      <td>0</td>\n",
       "    </tr>\n",
       "    <tr>\n",
       "      <th>SAU</th>\n",
       "      <td>-1.362552</td>\n",
       "      <td>-1.391337</td>\n",
       "      <td>-0.611607</td>\n",
       "      <td>-1.045664</td>\n",
       "      <td>-0.422309</td>\n",
       "      <td>0</td>\n",
       "    </tr>\n",
       "    <tr>\n",
       "      <th>ESP</th>\n",
       "      <td>0.199495</td>\n",
       "      <td>-0.629101</td>\n",
       "      <td>-0.245518</td>\n",
       "      <td>0.676372</td>\n",
       "      <td>-0.354715</td>\n",
       "      <td>0</td>\n",
       "    </tr>\n",
       "    <tr>\n",
       "      <th>RUS</th>\n",
       "      <td>0.851990</td>\n",
       "      <td>-0.861603</td>\n",
       "      <td>-0.547328</td>\n",
       "      <td>-0.626224</td>\n",
       "      <td>0.437644</td>\n",
       "      <td>0</td>\n",
       "    </tr>\n",
       "    <tr>\n",
       "      <th>CHE</th>\n",
       "      <td>0.012699</td>\n",
       "      <td>0.561149</td>\n",
       "      <td>-0.612504</td>\n",
       "      <td>-0.418874</td>\n",
       "      <td>-0.272133</td>\n",
       "      <td>0</td>\n",
       "    </tr>\n",
       "    <tr>\n",
       "      <th>ARM</th>\n",
       "      <td>-0.856443</td>\n",
       "      <td>-0.726857</td>\n",
       "      <td>-0.372498</td>\n",
       "      <td>-0.014546</td>\n",
       "      <td>-0.359379</td>\n",
       "      <td>1</td>\n",
       "    </tr>\n",
       "    <tr>\n",
       "      <th>TUR</th>\n",
       "      <td>-0.750718</td>\n",
       "      <td>-0.685905</td>\n",
       "      <td>-0.545374</td>\n",
       "      <td>0.991249</td>\n",
       "      <td>-0.331674</td>\n",
       "      <td>0</td>\n",
       "    </tr>\n",
       "    <tr>\n",
       "      <th>UKR</th>\n",
       "      <td>-0.636683</td>\n",
       "      <td>-0.722894</td>\n",
       "      <td>-0.478243</td>\n",
       "      <td>2.875939</td>\n",
       "      <td>-0.392329</td>\n",
       "      <td>0</td>\n",
       "    </tr>\n",
       "    <tr>\n",
       "      <th>GBR</th>\n",
       "      <td>-0.817394</td>\n",
       "      <td>0.142382</td>\n",
       "      <td>-0.598074</td>\n",
       "      <td>0.654536</td>\n",
       "      <td>-0.357404</td>\n",
       "      <td>0</td>\n",
       "    </tr>\n",
       "    <tr>\n",
       "      <th>USA</th>\n",
       "      <td>0.123953</td>\n",
       "      <td>-0.524739</td>\n",
       "      <td>-0.506114</td>\n",
       "      <td>0.101071</td>\n",
       "      <td>-0.157756</td>\n",
       "      <td>0</td>\n",
       "    </tr>\n",
       "    <tr>\n",
       "      <th>AFG</th>\n",
       "      <td>-1.289647</td>\n",
       "      <td>-1.037300</td>\n",
       "      <td>-0.078497</td>\n",
       "      <td>-0.300726</td>\n",
       "      <td>-0.372899</td>\n",
       "      <td>1</td>\n",
       "    </tr>\n",
       "    <tr>\n",
       "      <th>ALB</th>\n",
       "      <td>-0.094749</td>\n",
       "      <td>0.492456</td>\n",
       "      <td>2.051803</td>\n",
       "      <td>0.375168</td>\n",
       "      <td>-0.166260</td>\n",
       "      <td>1</td>\n",
       "    </tr>\n",
       "    <tr>\n",
       "      <th>DZA</th>\n",
       "      <td>-1.352497</td>\n",
       "      <td>-1.351706</td>\n",
       "      <td>-0.594625</td>\n",
       "      <td>-0.935259</td>\n",
       "      <td>-0.415559</td>\n",
       "      <td>0</td>\n",
       "    </tr>\n",
       "    <tr>\n",
       "      <th>AGO</th>\n",
       "      <td>0.754710</td>\n",
       "      <td>-0.135035</td>\n",
       "      <td>-0.102544</td>\n",
       "      <td>-0.970538</td>\n",
       "      <td>-0.204599</td>\n",
       "      <td>1</td>\n",
       "    </tr>\n",
       "    <tr>\n",
       "      <th>BEL</th>\n",
       "      <td>-0.374849</td>\n",
       "      <td>-0.350363</td>\n",
       "      <td>-0.613615</td>\n",
       "      <td>0.843271</td>\n",
       "      <td>-0.392683</td>\n",
       "      <td>0</td>\n",
       "    </tr>\n",
       "    <tr>\n",
       "      <th>AUT</th>\n",
       "      <td>0.725207</td>\n",
       "      <td>-0.002931</td>\n",
       "      <td>-0.595167</td>\n",
       "      <td>0.041097</td>\n",
       "      <td>-0.235578</td>\n",
       "      <td>0</td>\n",
       "    </tr>\n",
       "    <tr>\n",
       "      <th>BGD</th>\n",
       "      <td>-0.878886</td>\n",
       "      <td>2.052595</td>\n",
       "      <td>1.705269</td>\n",
       "      <td>3.202729</td>\n",
       "      <td>-0.404480</td>\n",
       "      <td>0</td>\n",
       "    </tr>\n",
       "    <tr>\n",
       "      <th>AZE</th>\n",
       "      <td>-0.889068</td>\n",
       "      <td>-0.878776</td>\n",
       "      <td>-0.055083</td>\n",
       "      <td>0.444945</td>\n",
       "      <td>-0.397928</td>\n",
       "      <td>1</td>\n",
       "    </tr>\n",
       "    <tr>\n",
       "      <th>...</th>\n",
       "      <th>...</th>\n",
       "      <td>...</td>\n",
       "      <td>...</td>\n",
       "      <td>...</td>\n",
       "      <td>...</td>\n",
       "      <td>...</td>\n",
       "      <td>...</td>\n",
       "    </tr>\n",
       "    <tr>\n",
       "      <th rowspan=\"30\" valign=\"top\">2013</th>\n",
       "      <th>ROM</th>\n",
       "      <td>-0.062454</td>\n",
       "      <td>-0.627780</td>\n",
       "      <td>-0.571478</td>\n",
       "      <td>1.579603</td>\n",
       "      <td>-0.364482</td>\n",
       "      <td>0</td>\n",
       "    </tr>\n",
       "    <tr>\n",
       "      <th>RWA</th>\n",
       "      <td>-0.528771</td>\n",
       "      <td>0.131814</td>\n",
       "      <td>0.041259</td>\n",
       "      <td>2.294135</td>\n",
       "      <td>-0.400445</td>\n",
       "      <td>1</td>\n",
       "    </tr>\n",
       "    <tr>\n",
       "      <th>SVK</th>\n",
       "      <td>0.439570</td>\n",
       "      <td>-0.380747</td>\n",
       "      <td>-0.591739</td>\n",
       "      <td>0.928438</td>\n",
       "      <td>-0.358461</td>\n",
       "      <td>0</td>\n",
       "    </tr>\n",
       "    <tr>\n",
       "      <th>SRB</th>\n",
       "      <td>0.020830</td>\n",
       "      <td>-0.563049</td>\n",
       "      <td>-0.609077</td>\n",
       "      <td>1.557902</td>\n",
       "      <td>-0.391422</td>\n",
       "      <td>1</td>\n",
       "    </tr>\n",
       "    <tr>\n",
       "      <th>SEN</th>\n",
       "      <td>0.577444</td>\n",
       "      <td>-0.563049</td>\n",
       "      <td>-0.312065</td>\n",
       "      <td>0.055563</td>\n",
       "      <td>-0.373122</td>\n",
       "      <td>0</td>\n",
       "    </tr>\n",
       "    <tr>\n",
       "      <th>SLE</th>\n",
       "      <td>0.442991</td>\n",
       "      <td>1.867651</td>\n",
       "      <td>-0.489487</td>\n",
       "      <td>0.420327</td>\n",
       "      <td>0.314627</td>\n",
       "      <td>0</td>\n",
       "    </tr>\n",
       "    <tr>\n",
       "      <th>SLB</th>\n",
       "      <td>2.162587</td>\n",
       "      <td>2.530809</td>\n",
       "      <td>-0.568759</td>\n",
       "      <td>-1.109849</td>\n",
       "      <td>1.852009</td>\n",
       "      <td>0</td>\n",
       "    </tr>\n",
       "    <tr>\n",
       "      <th>SOM</th>\n",
       "      <td>-0.913684</td>\n",
       "      <td>-1.096746</td>\n",
       "      <td>1.714881</td>\n",
       "      <td>-1.034955</td>\n",
       "      <td>-0.408248</td>\n",
       "      <td>1</td>\n",
       "    </tr>\n",
       "    <tr>\n",
       "      <th>ZAF</th>\n",
       "      <td>-1.038853</td>\n",
       "      <td>-0.815366</td>\n",
       "      <td>0.299143</td>\n",
       "      <td>-0.418521</td>\n",
       "      <td>-0.400867</td>\n",
       "      <td>0</td>\n",
       "    </tr>\n",
       "    <tr>\n",
       "      <th>LKA</th>\n",
       "      <td>0.118061</td>\n",
       "      <td>0.792330</td>\n",
       "      <td>0.478450</td>\n",
       "      <td>0.333101</td>\n",
       "      <td>-0.351315</td>\n",
       "      <td>1</td>\n",
       "    </tr>\n",
       "    <tr>\n",
       "      <th>SDN</th>\n",
       "      <td>-1.011104</td>\n",
       "      <td>-1.139019</td>\n",
       "      <td>0.784760</td>\n",
       "      <td>-0.638886</td>\n",
       "      <td>-0.422651</td>\n",
       "      <td>1</td>\n",
       "    </tr>\n",
       "    <tr>\n",
       "      <th>SUR</th>\n",
       "      <td>3.060353</td>\n",
       "      <td>1.610049</td>\n",
       "      <td>-0.442523</td>\n",
       "      <td>-1.133634</td>\n",
       "      <td>4.875425</td>\n",
       "      <td>0</td>\n",
       "    </tr>\n",
       "    <tr>\n",
       "      <th>TJK</th>\n",
       "      <td>-1.250325</td>\n",
       "      <td>-0.556444</td>\n",
       "      <td>2.106706</td>\n",
       "      <td>-0.718392</td>\n",
       "      <td>-0.201507</td>\n",
       "      <td>0</td>\n",
       "    </tr>\n",
       "    <tr>\n",
       "      <th>SWZ</th>\n",
       "      <td>0.132309</td>\n",
       "      <td>-0.428304</td>\n",
       "      <td>4.053951</td>\n",
       "      <td>-0.427881</td>\n",
       "      <td>-0.364648</td>\n",
       "      <td>0</td>\n",
       "    </tr>\n",
       "    <tr>\n",
       "      <th>TKM</th>\n",
       "      <td>-0.986235</td>\n",
       "      <td>-1.256591</td>\n",
       "      <td>-0.614231</td>\n",
       "      <td>-0.863751</td>\n",
       "      <td>-0.417279</td>\n",
       "      <td>0</td>\n",
       "    </tr>\n",
       "    <tr>\n",
       "      <th>SWE</th>\n",
       "      <td>1.731221</td>\n",
       "      <td>-0.644953</td>\n",
       "      <td>-0.614471</td>\n",
       "      <td>-0.701924</td>\n",
       "      <td>0.083775</td>\n",
       "      <td>0</td>\n",
       "    </tr>\n",
       "    <tr>\n",
       "      <th>SYR</th>\n",
       "      <td>-1.262261</td>\n",
       "      <td>-1.136377</td>\n",
       "      <td>-0.357551</td>\n",
       "      <td>0.668875</td>\n",
       "      <td>-0.415589</td>\n",
       "      <td>1</td>\n",
       "    </tr>\n",
       "    <tr>\n",
       "      <th>TZA</th>\n",
       "      <td>1.004598</td>\n",
       "      <td>-0.054452</td>\n",
       "      <td>0.142398</td>\n",
       "      <td>-0.062668</td>\n",
       "      <td>-0.377159</td>\n",
       "      <td>0</td>\n",
       "    </tr>\n",
       "    <tr>\n",
       "      <th>THA</th>\n",
       "      <td>0.062112</td>\n",
       "      <td>0.673437</td>\n",
       "      <td>1.283491</td>\n",
       "      <td>1.210661</td>\n",
       "      <td>-0.329879</td>\n",
       "      <td>0</td>\n",
       "    </tr>\n",
       "    <tr>\n",
       "      <th>TMP</th>\n",
       "      <td>0.769681</td>\n",
       "      <td>0.512271</td>\n",
       "      <td>-0.601761</td>\n",
       "      <td>-0.409913</td>\n",
       "      <td>-0.226115</td>\n",
       "      <td>0</td>\n",
       "    </tr>\n",
       "    <tr>\n",
       "      <th>TGO</th>\n",
       "      <td>-1.193993</td>\n",
       "      <td>0.073688</td>\n",
       "      <td>-0.357194</td>\n",
       "      <td>2.351049</td>\n",
       "      <td>-0.377534</td>\n",
       "      <td>0</td>\n",
       "    </tr>\n",
       "    <tr>\n",
       "      <th>TTO</th>\n",
       "      <td>0.653927</td>\n",
       "      <td>1.436994</td>\n",
       "      <td>-0.614058</td>\n",
       "      <td>-0.810042</td>\n",
       "      <td>-0.343592</td>\n",
       "      <td>0</td>\n",
       "    </tr>\n",
       "    <tr>\n",
       "      <th>TUN</th>\n",
       "      <td>-1.086233</td>\n",
       "      <td>-1.195824</td>\n",
       "      <td>-0.564658</td>\n",
       "      <td>0.162496</td>\n",
       "      <td>-0.413931</td>\n",
       "      <td>0</td>\n",
       "    </tr>\n",
       "    <tr>\n",
       "      <th>UGA</th>\n",
       "      <td>-0.854085</td>\n",
       "      <td>0.089541</td>\n",
       "      <td>-0.183784</td>\n",
       "      <td>1.319313</td>\n",
       "      <td>-0.394482</td>\n",
       "      <td>0</td>\n",
       "    </tr>\n",
       "    <tr>\n",
       "      <th>URY</th>\n",
       "      <td>-0.918468</td>\n",
       "      <td>0.248065</td>\n",
       "      <td>-0.480518</td>\n",
       "      <td>-0.204108</td>\n",
       "      <td>0.347743</td>\n",
       "      <td>0</td>\n",
       "    </tr>\n",
       "    <tr>\n",
       "      <th>UZB</th>\n",
       "      <td>-1.038688</td>\n",
       "      <td>-1.197145</td>\n",
       "      <td>-0.551885</td>\n",
       "      <td>-0.415713</td>\n",
       "      <td>-0.409506</td>\n",
       "      <td>0</td>\n",
       "    </tr>\n",
       "    <tr>\n",
       "      <th>VEN</th>\n",
       "      <td>1.025395</td>\n",
       "      <td>1.230913</td>\n",
       "      <td>-0.535942</td>\n",
       "      <td>-0.940688</td>\n",
       "      <td>0.334446</td>\n",
       "      <td>0</td>\n",
       "    </tr>\n",
       "    <tr>\n",
       "      <th>VNM</th>\n",
       "      <td>0.732286</td>\n",
       "      <td>0.936323</td>\n",
       "      <td>0.194766</td>\n",
       "      <td>0.328833</td>\n",
       "      <td>-0.310516</td>\n",
       "      <td>0</td>\n",
       "    </tr>\n",
       "    <tr>\n",
       "      <th>YEM</th>\n",
       "      <td>-1.336100</td>\n",
       "      <td>-1.248665</td>\n",
       "      <td>-0.564172</td>\n",
       "      <td>-0.990955</td>\n",
       "      <td>-0.422588</td>\n",
       "      <td>0</td>\n",
       "    </tr>\n",
       "    <tr>\n",
       "      <th>ZMB</th>\n",
       "      <td>1.593559</td>\n",
       "      <td>-0.121824</td>\n",
       "      <td>1.510460</td>\n",
       "      <td>-0.802552</td>\n",
       "      <td>-0.274699</td>\n",
       "      <td>0</td>\n",
       "    </tr>\n",
       "  </tbody>\n",
       "</table>\n",
       "<p>1251 rows × 6 columns</p>\n",
       "</div>"
      ],
      "text/plain": [
       "                  forestarea  precipitation   extreme  arable_land  \\\n",
       "year countrycode                                                     \n",
       "2006 ARG           -0.889903      -0.688547 -0.529877    -0.243228   \n",
       "     AUS           -0.637493      -0.763846  0.927284    -0.713604   \n",
       "     BRA            1.347646       0.857061 -0.370363    -0.561582   \n",
       "     CHN           -0.446618      -0.617212  3.408522    -0.326671   \n",
       "     FRA           -0.064819      -0.323942 -0.611578     1.252985   \n",
       "     DEU            0.092749      -0.544555 -0.597863     1.291686   \n",
       "     IND           -0.347672      -0.038599  1.589611     2.685696   \n",
       "     IDN            1.040819       2.100152 -0.533217    -0.305779   \n",
       "     ITA           -0.029179      -0.370178 -0.610878     0.646417   \n",
       "     JPN            1.708985       0.734205 -0.603870    -0.302405   \n",
       "     KOR            1.531416       0.213718 -0.573864     0.043373   \n",
       "     MEX            0.173591      -0.467935 -0.538654    -0.294954   \n",
       "     NLD           -0.892385      -0.441514 -0.612074     1.123073   \n",
       "     SAU           -1.362552      -1.391337 -0.611607    -1.045664   \n",
       "     ESP            0.199495      -0.629101 -0.245518     0.676372   \n",
       "     RUS            0.851990      -0.861603 -0.547328    -0.626224   \n",
       "     CHE            0.012699       0.561149 -0.612504    -0.418874   \n",
       "     ARM           -0.856443      -0.726857 -0.372498    -0.014546   \n",
       "     TUR           -0.750718      -0.685905 -0.545374     0.991249   \n",
       "     UKR           -0.636683      -0.722894 -0.478243     2.875939   \n",
       "     GBR           -0.817394       0.142382 -0.598074     0.654536   \n",
       "     USA            0.123953      -0.524739 -0.506114     0.101071   \n",
       "     AFG           -1.289647      -1.037300 -0.078497    -0.300726   \n",
       "     ALB           -0.094749       0.492456  2.051803     0.375168   \n",
       "     DZA           -1.352497      -1.351706 -0.594625    -0.935259   \n",
       "     AGO            0.754710      -0.135035 -0.102544    -0.970538   \n",
       "     BEL           -0.374849      -0.350363 -0.613615     0.843271   \n",
       "     AUT            0.725207      -0.002931 -0.595167     0.041097   \n",
       "     BGD           -0.878886       2.052595  1.705269     3.202729   \n",
       "     AZE           -0.889068      -0.878776 -0.055083     0.444945   \n",
       "...                      ...            ...       ...          ...   \n",
       "2013 ROM           -0.062454      -0.627780 -0.571478     1.579603   \n",
       "     RWA           -0.528771       0.131814  0.041259     2.294135   \n",
       "     SVK            0.439570      -0.380747 -0.591739     0.928438   \n",
       "     SRB            0.020830      -0.563049 -0.609077     1.557902   \n",
       "     SEN            0.577444      -0.563049 -0.312065     0.055563   \n",
       "     SLE            0.442991       1.867651 -0.489487     0.420327   \n",
       "     SLB            2.162587       2.530809 -0.568759    -1.109849   \n",
       "     SOM           -0.913684      -1.096746  1.714881    -1.034955   \n",
       "     ZAF           -1.038853      -0.815366  0.299143    -0.418521   \n",
       "     LKA            0.118061       0.792330  0.478450     0.333101   \n",
       "     SDN           -1.011104      -1.139019  0.784760    -0.638886   \n",
       "     SUR            3.060353       1.610049 -0.442523    -1.133634   \n",
       "     TJK           -1.250325      -0.556444  2.106706    -0.718392   \n",
       "     SWZ            0.132309      -0.428304  4.053951    -0.427881   \n",
       "     TKM           -0.986235      -1.256591 -0.614231    -0.863751   \n",
       "     SWE            1.731221      -0.644953 -0.614471    -0.701924   \n",
       "     SYR           -1.262261      -1.136377 -0.357551     0.668875   \n",
       "     TZA            1.004598      -0.054452  0.142398    -0.062668   \n",
       "     THA            0.062112       0.673437  1.283491     1.210661   \n",
       "     TMP            0.769681       0.512271 -0.601761    -0.409913   \n",
       "     TGO           -1.193993       0.073688 -0.357194     2.351049   \n",
       "     TTO            0.653927       1.436994 -0.614058    -0.810042   \n",
       "     TUN           -1.086233      -1.195824 -0.564658     0.162496   \n",
       "     UGA           -0.854085       0.089541 -0.183784     1.319313   \n",
       "     URY           -0.918468       0.248065 -0.480518    -0.204108   \n",
       "     UZB           -1.038688      -1.197145 -0.551885    -0.415713   \n",
       "     VEN            1.025395       1.230913 -0.535942    -0.940688   \n",
       "     VNM            0.732286       0.936323  0.194766     0.328833   \n",
       "     YEM           -1.336100      -1.248665 -0.564172    -0.990955   \n",
       "     ZMB            1.593559      -0.121824  1.510460    -0.802552   \n",
       "\n",
       "                  freshwater  zscores  \n",
       "year countrycode                       \n",
       "2006 ARG           -0.216289        0  \n",
       "     AUS            0.249731        0  \n",
       "     BRA            0.413721        0  \n",
       "     CHN           -0.363975        0  \n",
       "     FRA           -0.335708        0  \n",
       "     DEU           -0.387790        0  \n",
       "     IND           -0.389929        0  \n",
       "     IDN           -0.176705        0  \n",
       "     ITA           -0.335744        0  \n",
       "     JPN           -0.328993        0  \n",
       "     KOR           -0.386825        0  \n",
       "     MEX           -0.321691        0  \n",
       "     NLD           -0.405759        0  \n",
       "     SAU           -0.422309        0  \n",
       "     ESP           -0.354715        0  \n",
       "     RUS            0.437644        0  \n",
       "     CHE           -0.272133        0  \n",
       "     ARM           -0.359379        1  \n",
       "     TUR           -0.331674        0  \n",
       "     UKR           -0.392329        0  \n",
       "     GBR           -0.357404        0  \n",
       "     USA           -0.157756        0  \n",
       "     AFG           -0.372899        1  \n",
       "     ALB           -0.166260        1  \n",
       "     DZA           -0.415559        0  \n",
       "     AGO           -0.204599        1  \n",
       "     BEL           -0.392683        0  \n",
       "     AUT           -0.235578        0  \n",
       "     BGD           -0.404480        0  \n",
       "     AZE           -0.397928        1  \n",
       "...                      ...      ...  \n",
       "2013 ROM           -0.364482        0  \n",
       "     RWA           -0.400445        1  \n",
       "     SVK           -0.358461        0  \n",
       "     SRB           -0.391422        1  \n",
       "     SEN           -0.373122        0  \n",
       "     SLE            0.314627        0  \n",
       "     SLB            1.852009        0  \n",
       "     SOM           -0.408248        1  \n",
       "     ZAF           -0.400867        0  \n",
       "     LKA           -0.351315        1  \n",
       "     SDN           -0.422651        1  \n",
       "     SUR            4.875425        0  \n",
       "     TJK           -0.201507        0  \n",
       "     SWZ           -0.364648        0  \n",
       "     TKM           -0.417279        0  \n",
       "     SWE            0.083775        0  \n",
       "     SYR           -0.415589        1  \n",
       "     TZA           -0.377159        0  \n",
       "     THA           -0.329879        0  \n",
       "     TMP           -0.226115        0  \n",
       "     TGO           -0.377534        0  \n",
       "     TTO           -0.343592        0  \n",
       "     TUN           -0.413931        0  \n",
       "     UGA           -0.394482        0  \n",
       "     URY            0.347743        0  \n",
       "     UZB           -0.409506        0  \n",
       "     VEN            0.334446        0  \n",
       "     VNM           -0.310516        0  \n",
       "     YEM           -0.422588        0  \n",
       "     ZMB           -0.274699        0  \n",
       "\n",
       "[1251 rows x 6 columns]"
      ]
     },
     "execution_count": 265,
     "metadata": {},
     "output_type": "execute_result"
    }
   ],
   "source": [
    "df"
   ]
  },
  {
   "cell_type": "code",
   "execution_count": 263,
   "metadata": {
    "collapsed": false
   },
   "outputs": [
    {
     "ename": "AttributeError",
     "evalue": "predict_proba is not available when probability=False",
     "output_type": "error",
     "traceback": [
      "\u001b[0;31m---------------------------------------------------------------------------\u001b[0m",
      "\u001b[0;31mAttributeError\u001b[0m                            Traceback (most recent call last)",
      "\u001b[0;32m<ipython-input-263-012085ee855f>\u001b[0m in \u001b[0;36m<module>\u001b[0;34m()\u001b[0m\n\u001b[0;32m----> 1\u001b[0;31m \u001b[0mgetROCcurve\u001b[0m\u001b[0;34m(\u001b[0m\u001b[0mX_train\u001b[0m\u001b[0;34m,\u001b[0m \u001b[0mX_test\u001b[0m\u001b[0;34m,\u001b[0m \u001b[0my_train\u001b[0m\u001b[0;34m,\u001b[0m \u001b[0my_test\u001b[0m\u001b[0;34m,\u001b[0m \u001b[0mSVC\u001b[0m\u001b[0;34m(\u001b[0m\u001b[0;34m)\u001b[0m\u001b[0;34m)\u001b[0m\u001b[0;34m\u001b[0m\u001b[0m\n\u001b[0m",
      "\u001b[0;32m<ipython-input-236-993229d702db>\u001b[0m in \u001b[0;36mgetROCcurve\u001b[0;34m(X_train, X_test, y_train, y_test, model)\u001b[0m\n\u001b[1;32m      2\u001b[0m     \u001b[0mmodel\u001b[0m \u001b[0;34m=\u001b[0m \u001b[0mmodel\u001b[0m\u001b[0;34m\u001b[0m\u001b[0m\n\u001b[1;32m      3\u001b[0m     \u001b[0mmodel\u001b[0m\u001b[0;34m.\u001b[0m\u001b[0mfit\u001b[0m\u001b[0;34m(\u001b[0m\u001b[0mX_train\u001b[0m\u001b[0;34m,\u001b[0m \u001b[0my_train\u001b[0m\u001b[0;34m)\u001b[0m\u001b[0;34m\u001b[0m\u001b[0m\n\u001b[0;32m----> 4\u001b[0;31m     \u001b[0my_scores\u001b[0m \u001b[0;34m=\u001b[0m \u001b[0mmodel\u001b[0m\u001b[0;34m.\u001b[0m\u001b[0mpredict_proba\u001b[0m\u001b[0;34m(\u001b[0m\u001b[0mX_test\u001b[0m\u001b[0;34m)\u001b[0m\u001b[0;34m[\u001b[0m\u001b[0;34m:\u001b[0m\u001b[0;34m,\u001b[0m\u001b[0;36m1\u001b[0m\u001b[0;34m]\u001b[0m\u001b[0;34m\u001b[0m\u001b[0m\n\u001b[0m\u001b[1;32m      5\u001b[0m     \u001b[0mfpr\u001b[0m\u001b[0;34m,\u001b[0m \u001b[0mtpr\u001b[0m\u001b[0;34m,\u001b[0m \u001b[0mthresholds\u001b[0m \u001b[0;34m=\u001b[0m \u001b[0mroc_curve\u001b[0m\u001b[0;34m(\u001b[0m\u001b[0my_test\u001b[0m\u001b[0;34m,\u001b[0m \u001b[0my_scores\u001b[0m\u001b[0;34m)\u001b[0m\u001b[0;34m\u001b[0m\u001b[0m\n\u001b[1;32m      6\u001b[0m \u001b[0;34m\u001b[0m\u001b[0m\n",
      "\u001b[0;32m/Users/emilyhoughkovacs/anaconda/lib/python2.7/site-packages/sklearn/svm/base.pyc\u001b[0m in \u001b[0;36mpredict_proba\u001b[0;34m(self)\u001b[0m\n\u001b[1;32m    540\u001b[0m         \u001b[0mdatasets\u001b[0m\u001b[0;34m.\u001b[0m\u001b[0;34m\u001b[0m\u001b[0m\n\u001b[1;32m    541\u001b[0m         \"\"\"\n\u001b[0;32m--> 542\u001b[0;31m         \u001b[0mself\u001b[0m\u001b[0;34m.\u001b[0m\u001b[0m_check_proba\u001b[0m\u001b[0;34m(\u001b[0m\u001b[0;34m)\u001b[0m\u001b[0;34m\u001b[0m\u001b[0m\n\u001b[0m\u001b[1;32m    543\u001b[0m         \u001b[0;32mreturn\u001b[0m \u001b[0mself\u001b[0m\u001b[0;34m.\u001b[0m\u001b[0m_predict_proba\u001b[0m\u001b[0;34m\u001b[0m\u001b[0m\n\u001b[1;32m    544\u001b[0m \u001b[0;34m\u001b[0m\u001b[0m\n",
      "\u001b[0;32m/Users/emilyhoughkovacs/anaconda/lib/python2.7/site-packages/sklearn/svm/base.pyc\u001b[0m in \u001b[0;36m_check_proba\u001b[0;34m(self)\u001b[0m\n\u001b[1;32m    508\u001b[0m         \u001b[0;32mif\u001b[0m \u001b[0;32mnot\u001b[0m \u001b[0mself\u001b[0m\u001b[0;34m.\u001b[0m\u001b[0mprobability\u001b[0m\u001b[0;34m:\u001b[0m\u001b[0;34m\u001b[0m\u001b[0m\n\u001b[1;32m    509\u001b[0m             raise AttributeError(\"predict_proba is not available when\"\n\u001b[0;32m--> 510\u001b[0;31m                                  \" probability=%r\" % self.probability)\n\u001b[0m\u001b[1;32m    511\u001b[0m         \u001b[0;32mif\u001b[0m \u001b[0mself\u001b[0m\u001b[0;34m.\u001b[0m\u001b[0m_impl\u001b[0m \u001b[0;32mnot\u001b[0m \u001b[0;32min\u001b[0m \u001b[0;34m(\u001b[0m\u001b[0;34m'c_svc'\u001b[0m\u001b[0;34m,\u001b[0m \u001b[0;34m'nu_svc'\u001b[0m\u001b[0;34m)\u001b[0m\u001b[0;34m:\u001b[0m\u001b[0;34m\u001b[0m\u001b[0m\n\u001b[1;32m    512\u001b[0m             raise AttributeError(\"predict_proba only implemented for SVC\"\n",
      "\u001b[0;31mAttributeError\u001b[0m: predict_proba is not available when probability=False"
     ]
    }
   ],
   "source": [
    "getROCcurve(X_train, X_test, y_train, y_test, SVC())"
   ]
  },
  {
   "cell_type": "code",
   "execution_count": 227,
   "metadata": {
    "collapsed": false,
    "scrolled": true
   },
   "outputs": [
    {
     "name": "stdout",
     "output_type": "stream",
     "text": [
      "0.964784419402\n",
      "0.889441587824\n",
      "0.900448717949\n",
      "0.880202526942\n"
     ]
    }
   ],
   "source": [
    "for s in dfscores:\n",
    "    print dfscores[s].mean()"
   ]
  },
  {
   "cell_type": "code",
   "execution_count": 199,
   "metadata": {
    "collapsed": false
   },
   "outputs": [
    {
     "data": {
      "text/plain": [
       "157"
      ]
     },
     "execution_count": 199,
     "metadata": {},
     "output_type": "execute_result"
    }
   ],
   "source": [
    "len(training_sets[0])"
   ]
  },
  {
   "cell_type": "code",
   "execution_count": 200,
   "metadata": {
    "collapsed": false
   },
   "outputs": [
    {
     "name": "stdout",
     "output_type": "stream",
     "text": [
      "157\n",
      "157\n"
     ]
    }
   ],
   "source": [
    "print len(training_sets[0][x_cols])\n",
    "print len(training_sets[0]['zscores'])\n",
    "print "
   ]
  },
  {
   "cell_type": "code",
   "execution_count": 180,
   "metadata": {
    "collapsed": false
   },
   "outputs": [
    {
     "name": "stdout",
     "output_type": "stream",
     "text": [
      "942\n",
      "936\n",
      "936\n",
      "936\n",
      "936\n",
      "936\n"
     ]
    }
   ],
   "source": [
    "for ts in test_sets:\n",
    "    print ts.size"
   ]
  },
  {
   "cell_type": "code",
   "execution_count": 181,
   "metadata": {
    "collapsed": false
   },
   "outputs": [
    {
     "name": "stdout",
     "output_type": "stream",
     "text": [
      "942\n",
      "1884\n",
      "2820\n",
      "3756\n",
      "4692\n",
      "5628\n"
     ]
    }
   ],
   "source": [
    "for ts in training_sets:\n",
    "    print ts.size"
   ]
  },
  {
   "cell_type": "code",
   "execution_count": 166,
   "metadata": {
    "collapsed": false
   },
   "outputs": [
    {
     "data": {
      "text/plain": [
       "942"
      ]
     },
     "execution_count": 166,
     "metadata": {},
     "output_type": "execute_result"
    }
   ],
   "source": [
    "df.xs(2006, level='year', axis=0).size"
   ]
  },
  {
   "cell_type": "code",
   "execution_count": 182,
   "metadata": {
    "collapsed": false
   },
   "outputs": [
    {
     "data": {
      "text/plain": [
       "936"
      ]
     },
     "execution_count": 182,
     "metadata": {},
     "output_type": "execute_result"
    }
   ],
   "source": [
    "df.xs(2008, level='year', axis=0).size"
   ]
  },
  {
   "cell_type": "code",
   "execution_count": 170,
   "metadata": {
    "collapsed": false
   },
   "outputs": [
    {
     "name": "stdout",
     "output_type": "stream",
     "text": [
      "1884\n"
     ]
    }
   ],
   "source": [
    "train2008 = pd.DataFrame()\n",
    "for y in train[1]:\n",
    "    data = df.xs(y, level='year', axis=0)\n",
    "    train2008 = pd.concat([train2008, data])\n",
    "print train2008.size"
   ]
  },
  {
   "cell_type": "code",
   "execution_count": null,
   "metadata": {
    "collapsed": true
   },
   "outputs": [],
   "source": []
  }
 ],
 "metadata": {
  "kernelspec": {
   "display_name": "Python 2",
   "language": "python",
   "name": "python2"
  },
  "language_info": {
   "codemirror_mode": {
    "name": "ipython",
    "version": 2
   },
   "file_extension": ".py",
   "mimetype": "text/x-python",
   "name": "python",
   "nbconvert_exporter": "python",
   "pygments_lexer": "ipython2",
   "version": "2.7.11"
  }
 },
 "nbformat": 4,
 "nbformat_minor": 0
}
