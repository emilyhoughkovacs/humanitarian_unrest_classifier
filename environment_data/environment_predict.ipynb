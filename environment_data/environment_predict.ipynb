{
 "cells": [
  {
   "cell_type": "code",
   "execution_count": 1,
   "metadata": {
    "collapsed": false
   },
   "outputs": [
    {
     "name": "stderr",
     "output_type": "stream",
     "text": [
      "/Users/emilyhoughkovacs/anaconda/lib/python2.7/site-packages/matplotlib/__init__.py:872: UserWarning: axes.color_cycle is deprecated and replaced with axes.prop_cycle; please use the latter.\n",
      "  warnings.warn(self.msg_depr % (key, alt_key))\n"
     ]
    }
   ],
   "source": [
    "from sqlalchemy import create_engine\n",
    "import pandas as pd\n",
    "import numpy as np\n",
    "\n",
    "from sklearn.cross_validation import train_test_split, StratifiedShuffleSplit\n",
    "from sklearn.neighbors import KNeighborsClassifier\n",
    "from sklearn.metrics import (\n",
    "                            accuracy_score, \n",
    "                            precision_score, \n",
    "                            recall_score, \n",
    "                            f1_score, \n",
    "                            roc_curve, \n",
    "                            roc_auc_score, \n",
    "                            confusion_matrix\n",
    "                            )\n",
    "from sklearn.linear_model import LogisticRegression, LinearRegression\n",
    "from sklearn.naive_bayes import GaussianNB, BernoulliNB\n",
    "from sklearn.svm import SVC\n",
    "from sklearn.tree import DecisionTreeClassifier\n",
    "from sklearn.tree import DecisionTreeRegressor\n",
    "from sklearn.ensemble import RandomForestClassifier\n",
    "from sklearn.learning_curve import learning_curve\n",
    "from sklearn.cross_validation import cross_val_score\n",
    "from sklearn.metrics import confusion_matrix\n",
    "\n",
    "from unbalanced_dataset import OverSampler, SMOTE\n",
    "\n",
    "import matplotlib.pyplot as plt\n",
    "import seaborn as sns\n",
    "\n",
    "\n",
    "%matplotlib inline"
   ]
  },
  {
   "cell_type": "code",
   "execution_count": 2,
   "metadata": {
    "collapsed": false
   },
   "outputs": [],
   "source": [
    "CONFIG = {}\n",
    "\n",
    "with open('config.txt', \"r\") as in_file:\n",
    "    for line in in_file:\n",
    "        line = line.split(\":\")\n",
    "        parameter = line[0].strip()\n",
    "        value = line[1].strip()\n",
    "        CONFIG[parameter] = value\n",
    "                \n",
    "engine_path = 'postgresql://'+CONFIG['username']+':'+\\\n",
    "                CONFIG['password']+'@'+CONFIG['ip']+\\\n",
    "                ':'+CONFIG['port']+'/'+CONFIG['database']\n",
    "        \n",
    "engine = create_engine(engine_path)"
   ]
  },
  {
   "cell_type": "markdown",
   "metadata": {},
   "source": [
    "###Want something like:"
   ]
  },
  {
   "cell_type": "raw",
   "metadata": {},
   "source": [
    "SELECT\n",
    "fa.countrycode, fa.y1990 as forestarea, env.precipitation, env.extreme, env.arable_land, env.freshwater\n",
    "FROM\n",
    "(SELECT countrycode, y1990 from forestarea) fa\n",
    "JOIN\n",
    "(SELECT p.countrycode as countrycode, p.y1990 as precipitation, e.y1990 as extreme, a.y1990 as arable_land, f.y1990 as freshwater\n",
    "FROM\n",
    "\t((SELECT countrycode, y1990 FROM environment where series ='precipitation') p\n",
    "\tJOIN\n",
    "\t(SELECT countrycode, y1990 FROM environment where series ='extreme') e\n",
    "\ton p.countrycode = e.countrycode\n",
    "\tJOIN\n",
    "\t(SELECT countrycode, y1990 FROM environment where series='arable_land') a\n",
    "\ton p.countrycode = a.countrycode\n",
    "\tJOIN\n",
    "\t(SELECT countrycode, y1990 FROM environment where series='freshwater') f\n",
    "\ton p.countrycode = f.countrycode)) env\n",
    "ON fa.countrycode = env.countrycode;"
   ]
  },
  {
   "cell_type": "code",
   "execution_count": 3,
   "metadata": {
    "collapsed": false
   },
   "outputs": [],
   "source": [
    "def makeSQLQuery(table_names, year, seriesnames):\n",
    "    dotyyear = '.y' + str(year)\n",
    "    short = table_names[0][0:2]\n",
    "    seriesnames = seriesnames\n",
    "    abb = [ser[0:2] for ser in seriesnames]\n",
    "    query = 'SELECT x.*, y' + dotyyear + ' as zscores FROM (' + \\\n",
    "            'SELECT ' + short + '.countrycode AS countrycode, ' + \\\n",
    "            short + dotyyear + ' AS ' + table_names[0] \n",
    "    \n",
    "    mystr = ''\n",
    "    for s in seriesnames:\n",
    "        mystr = mystr + ', env.' + s\n",
    "    mystr = mystr\n",
    "    \n",
    "    query = query + mystr\n",
    "    \n",
    "    query = query + ' FROM (SELECT countrycode, ' + dotyyear[1:] + \\\n",
    "        ' FROM ' + table_names[0] + ') ' + short + ' JOIN ' + \\\n",
    "        '(SELECT ' + abb[0] + '.countrycode AS countrycode'\n",
    "    \n",
    "    mystr = ''\n",
    "    for a, ser in zip(abb, seriesnames):\n",
    "        mystr = mystr + ', ' + a + dotyyear + ' as ' + ser\n",
    "    query = query + mystr\n",
    "    \n",
    "    query = query + ' FROM ('\n",
    "    \n",
    "    subquery = []\n",
    "    for a, ser in zip(abb, seriesnames):\n",
    "        mystr = ''\n",
    "        mystr = mystr + '(SELECT countrycode, ' + dotyyear[1:] + \\\n",
    "        ' FROM ' + table_names[1] + \" WHERE series='\" + ser + \\\n",
    "        \"') \" + a\n",
    "        subquery.append(mystr)\n",
    "    \n",
    "    query = query + subquery[0] + ' JOIN ' + subquery[1] + ' ON ' + \\\n",
    "        abb[0] + '.countrycode = ' + abb[1] + '.countrycode' + \\\n",
    "        ' JOIN ' + subquery[2] + ' ON ' + \\\n",
    "        abb[0] + '.countrycode = ' + abb[2] + '.countrycode' + \\\n",
    "        ' JOIN ' + subquery[3] + ' ON ' + \\\n",
    "        abb[0] + '.countrycode = ' + abb[3] + '.countrycode)) env' + \\\n",
    "        ' ON ' + short + '.countrycode = env.countrycode'\n",
    "        \n",
    "    query = query + ') x JOIN (select countrycode, ' + dotyyear[1:] + \\\n",
    "            ' FROM zscores) y on x.countrycode = y.countrycode'\n",
    "    \n",
    "    return query"
   ]
  },
  {
   "cell_type": "code",
   "execution_count": 4,
   "metadata": {
    "collapsed": true
   },
   "outputs": [],
   "source": [
    "years = [x for x in range(1990, 2001)]\n",
    "years2 = [x for x in range(2006, 2015)]\n",
    "years = years + years2"
   ]
  },
  {
   "cell_type": "code",
   "execution_count": 5,
   "metadata": {
    "collapsed": true
   },
   "outputs": [],
   "source": [
    "tables = ['forestarea', 'environment']"
   ]
  },
  {
   "cell_type": "code",
   "execution_count": 6,
   "metadata": {
    "collapsed": true
   },
   "outputs": [],
   "source": [
    "features = ['precipitation', 'extreme', 'arable_land', 'freshwater']"
   ]
  },
  {
   "cell_type": "code",
   "execution_count": 7,
   "metadata": {
    "collapsed": false
   },
   "outputs": [
    {
     "name": "stdout",
     "output_type": "stream",
     "text": [
      "SELECT x.*, y.y1990 as zscores FROM (SELECT fo.countrycode AS countrycode, fo.y1990 AS forestarea, env.precipitation, env.extreme, env.arable_land, env.freshwater FROM (SELECT countrycode, y1990 FROM forestarea) fo JOIN (SELECT pr.countrycode AS countrycode, pr.y1990 as precipitation, ex.y1990 as extreme, ar.y1990 as arable_land, fr.y1990 as freshwater FROM ((SELECT countrycode, y1990 FROM environment WHERE series='precipitation') pr JOIN (SELECT countrycode, y1990 FROM environment WHERE series='extreme') ex ON pr.countrycode = ex.countrycode JOIN (SELECT countrycode, y1990 FROM environment WHERE series='arable_land') ar ON pr.countrycode = ar.countrycode JOIN (SELECT countrycode, y1990 FROM environment WHERE series='freshwater') fr ON pr.countrycode = fr.countrycode)) env ON fo.countrycode = env.countrycode) x JOIN (select countrycode, y1990 FROM zscores) y on x.countrycode = y.countrycode\n"
     ]
    }
   ],
   "source": [
    "print makeSQLQuery(tables, years[0], features)"
   ]
  },
  {
   "cell_type": "code",
   "execution_count": 8,
   "metadata": {
    "collapsed": true
   },
   "outputs": [],
   "source": [
    "df = pd.DataFrame()"
   ]
  },
  {
   "cell_type": "code",
   "execution_count": 9,
   "metadata": {
    "collapsed": false
   },
   "outputs": [],
   "source": [
    "for year in years:\n",
    "    query = makeSQLQuery(tables, year, features)\n",
    "    year_data = pd.read_sql_query(query, engine)\n",
    "    year_data['year'] = year\n",
    "    year_data = year_data.set_index(['countrycode', 'year'])\n",
    "    df = pd.concat([df, year_data])"
   ]
  },
  {
   "cell_type": "code",
   "execution_count": 10,
   "metadata": {
    "collapsed": false
   },
   "outputs": [
    {
     "data": {
      "text/html": [
       "<div>\n",
       "<table border=\"1\" class=\"dataframe\">\n",
       "  <thead>\n",
       "    <tr style=\"text-align: right;\">\n",
       "      <th></th>\n",
       "      <th></th>\n",
       "      <th>forestarea</th>\n",
       "      <th>precipitation</th>\n",
       "      <th>extreme</th>\n",
       "      <th>arable_land</th>\n",
       "      <th>freshwater</th>\n",
       "      <th>zscores</th>\n",
       "    </tr>\n",
       "    <tr>\n",
       "      <th>countrycode</th>\n",
       "      <th>year</th>\n",
       "      <th></th>\n",
       "      <th></th>\n",
       "      <th></th>\n",
       "      <th></th>\n",
       "      <th></th>\n",
       "      <th></th>\n",
       "    </tr>\n",
       "  </thead>\n",
       "  <tbody>\n",
       "    <tr>\n",
       "      <th>ARG</th>\n",
       "      <th>1990</th>\n",
       "      <td>12.713534</td>\n",
       "      <td>591</td>\n",
       "      <td>0.167190</td>\n",
       "      <td>9.71064</td>\n",
       "      <td>8676.235544</td>\n",
       "      <td>-0.220411542</td>\n",
       "    </tr>\n",
       "    <tr>\n",
       "      <th>AUS</th>\n",
       "      <th>1990</th>\n",
       "      <td>16.732098</td>\n",
       "      <td>534</td>\n",
       "      <td>3.047099</td>\n",
       "      <td>6.23511</td>\n",
       "      <td>28122.320663</td>\n",
       "      <td>None</td>\n",
       "    </tr>\n",
       "    <tr>\n",
       "      <th>BRA</th>\n",
       "      <th>1990</th>\n",
       "      <td>65.409888</td>\n",
       "      <td>1761</td>\n",
       "      <td>0.482451</td>\n",
       "      <td>6.06367</td>\n",
       "      <td>36433.492763</td>\n",
       "      <td>-0.220597981</td>\n",
       "    </tr>\n",
       "    <tr>\n",
       "      <th>CHN</th>\n",
       "      <th>1990</th>\n",
       "      <td>16.738008</td>\n",
       "      <td>645</td>\n",
       "      <td>7.950971</td>\n",
       "      <td>13.1867</td>\n",
       "      <td>2414.654455</td>\n",
       "      <td>-0.220576536</td>\n",
       "    </tr>\n",
       "    <tr>\n",
       "      <th>FRA</th>\n",
       "      <th>1990</th>\n",
       "      <td>26.363945</td>\n",
       "      <td>867</td>\n",
       "      <td>0.005718</td>\n",
       "      <td>32.4797</td>\n",
       "      <td>3398.400468</td>\n",
       "      <td>None</td>\n",
       "    </tr>\n",
       "  </tbody>\n",
       "</table>\n",
       "</div>"
      ],
      "text/plain": [
       "                  forestarea  precipitation   extreme arable_land  \\\n",
       "countrycode year                                                    \n",
       "ARG         1990   12.713534            591  0.167190     9.71064   \n",
       "AUS         1990   16.732098            534  3.047099     6.23511   \n",
       "BRA         1990   65.409888           1761  0.482451     6.06367   \n",
       "CHN         1990   16.738008            645  7.950971     13.1867   \n",
       "FRA         1990   26.363945            867  0.005718     32.4797   \n",
       "\n",
       "                    freshwater       zscores  \n",
       "countrycode year                              \n",
       "ARG         1990   8676.235544  -0.220411542  \n",
       "AUS         1990  28122.320663          None  \n",
       "BRA         1990  36433.492763  -0.220597981  \n",
       "CHN         1990   2414.654455  -0.220576536  \n",
       "FRA         1990   3398.400468          None  "
      ]
     },
     "execution_count": 10,
     "metadata": {},
     "output_type": "execute_result"
    }
   ],
   "source": [
    "df.head()"
   ]
  },
  {
   "cell_type": "code",
   "execution_count": 11,
   "metadata": {
    "collapsed": false
   },
   "outputs": [
    {
     "data": {
      "text/html": [
       "<div>\n",
       "<table border=\"1\" class=\"dataframe\">\n",
       "  <thead>\n",
       "    <tr style=\"text-align: right;\">\n",
       "      <th></th>\n",
       "      <th></th>\n",
       "      <th>forestarea</th>\n",
       "      <th>precipitation</th>\n",
       "      <th>extreme</th>\n",
       "      <th>arable_land</th>\n",
       "      <th>freshwater</th>\n",
       "      <th>zscores</th>\n",
       "    </tr>\n",
       "    <tr>\n",
       "      <th>countrycode</th>\n",
       "      <th>year</th>\n",
       "      <th></th>\n",
       "      <th></th>\n",
       "      <th></th>\n",
       "      <th></th>\n",
       "      <th></th>\n",
       "      <th></th>\n",
       "    </tr>\n",
       "  </thead>\n",
       "  <tbody>\n",
       "    <tr>\n",
       "      <th>UZB</th>\n",
       "      <th>2014</th>\n",
       "      <td>7.621392</td>\n",
       "      <td>206</td>\n",
       "      <td>0.123694</td>\n",
       "      <td>None</td>\n",
       "      <td>540.286742</td>\n",
       "      <td>-0.235228733</td>\n",
       "    </tr>\n",
       "    <tr>\n",
       "      <th>VEN</th>\n",
       "      <th>2014</th>\n",
       "      <td>53.298339</td>\n",
       "      <td>2044</td>\n",
       "      <td>0.155204</td>\n",
       "      <td>None</td>\n",
       "      <td>26588.677616</td>\n",
       "      <td>-0.228847937</td>\n",
       "    </tr>\n",
       "    <tr>\n",
       "      <th>VNM</th>\n",
       "      <th>2014</th>\n",
       "      <td>46.812010</td>\n",
       "      <td>1821</td>\n",
       "      <td>1.599362</td>\n",
       "      <td>None</td>\n",
       "      <td>4006.291460</td>\n",
       "      <td>-0.034788813</td>\n",
       "    </tr>\n",
       "    <tr>\n",
       "      <th>YEM</th>\n",
       "      <th>2014</th>\n",
       "      <td>1.039832</td>\n",
       "      <td>167</td>\n",
       "      <td>0.099411</td>\n",
       "      <td>None</td>\n",
       "      <td>82.245806</td>\n",
       "      <td>-0.238605007</td>\n",
       "    </tr>\n",
       "    <tr>\n",
       "      <th>ZMB</th>\n",
       "      <th>2014</th>\n",
       "      <td>65.871481</td>\n",
       "      <td>1020</td>\n",
       "      <td>4.199677</td>\n",
       "      <td>None</td>\n",
       "      <td>5260.366497</td>\n",
       "      <td>-0.243482678</td>\n",
       "    </tr>\n",
       "  </tbody>\n",
       "</table>\n",
       "</div>"
      ],
      "text/plain": [
       "                  forestarea  precipitation   extreme arable_land  \\\n",
       "countrycode year                                                    \n",
       "UZB         2014    7.621392            206  0.123694        None   \n",
       "VEN         2014   53.298339           2044  0.155204        None   \n",
       "VNM         2014   46.812010           1821  1.599362        None   \n",
       "YEM         2014    1.039832            167  0.099411        None   \n",
       "ZMB         2014   65.871481           1020  4.199677        None   \n",
       "\n",
       "                    freshwater       zscores  \n",
       "countrycode year                              \n",
       "UZB         2014    540.286742  -0.235228733  \n",
       "VEN         2014  26588.677616  -0.228847937  \n",
       "VNM         2014   4006.291460  -0.034788813  \n",
       "YEM         2014     82.245806  -0.238605007  \n",
       "ZMB         2014   5260.366497  -0.243482678  "
      ]
     },
     "execution_count": 11,
     "metadata": {},
     "output_type": "execute_result"
    }
   ],
   "source": [
    "df.tail()"
   ]
  },
  {
   "cell_type": "code",
   "execution_count": 12,
   "metadata": {
    "collapsed": false
   },
   "outputs": [
    {
     "data": {
      "text/plain": [
       "2430"
      ]
     },
     "execution_count": 12,
     "metadata": {},
     "output_type": "execute_result"
    }
   ],
   "source": [
    "df[df.isnull().any(axis=1)].size"
   ]
  },
  {
   "cell_type": "code",
   "execution_count": 13,
   "metadata": {
    "collapsed": false
   },
   "outputs": [
    {
     "data": {
      "text/html": [
       "<div>\n",
       "<table border=\"1\" class=\"dataframe\">\n",
       "  <thead>\n",
       "    <tr style=\"text-align: right;\">\n",
       "      <th></th>\n",
       "      <th></th>\n",
       "      <th>forestarea</th>\n",
       "      <th>precipitation</th>\n",
       "      <th>extreme</th>\n",
       "      <th>arable_land</th>\n",
       "      <th>freshwater</th>\n",
       "      <th>zscores</th>\n",
       "    </tr>\n",
       "    <tr>\n",
       "      <th>year</th>\n",
       "      <th>countrycode</th>\n",
       "      <th></th>\n",
       "      <th></th>\n",
       "      <th></th>\n",
       "      <th></th>\n",
       "      <th></th>\n",
       "      <th></th>\n",
       "    </tr>\n",
       "  </thead>\n",
       "  <tbody>\n",
       "    <tr>\n",
       "      <th rowspan=\"5\" valign=\"top\">1990</th>\n",
       "      <th>ARG</th>\n",
       "      <td>12.713534</td>\n",
       "      <td>591</td>\n",
       "      <td>0.167190</td>\n",
       "      <td>9.71064</td>\n",
       "      <td>8676.235544</td>\n",
       "      <td>-0.220411542</td>\n",
       "    </tr>\n",
       "    <tr>\n",
       "      <th>AUS</th>\n",
       "      <td>16.732098</td>\n",
       "      <td>534</td>\n",
       "      <td>3.047099</td>\n",
       "      <td>6.23511</td>\n",
       "      <td>28122.320663</td>\n",
       "      <td>None</td>\n",
       "    </tr>\n",
       "    <tr>\n",
       "      <th>BRA</th>\n",
       "      <td>65.409888</td>\n",
       "      <td>1761</td>\n",
       "      <td>0.482451</td>\n",
       "      <td>6.06367</td>\n",
       "      <td>36433.492763</td>\n",
       "      <td>-0.220597981</td>\n",
       "    </tr>\n",
       "    <tr>\n",
       "      <th>CHN</th>\n",
       "      <td>16.738008</td>\n",
       "      <td>645</td>\n",
       "      <td>7.950971</td>\n",
       "      <td>13.1867</td>\n",
       "      <td>2414.654455</td>\n",
       "      <td>-0.220576536</td>\n",
       "    </tr>\n",
       "    <tr>\n",
       "      <th>FRA</th>\n",
       "      <td>26.363945</td>\n",
       "      <td>867</td>\n",
       "      <td>0.005718</td>\n",
       "      <td>32.4797</td>\n",
       "      <td>3398.400468</td>\n",
       "      <td>None</td>\n",
       "    </tr>\n",
       "  </tbody>\n",
       "</table>\n",
       "</div>"
      ],
      "text/plain": [
       "                  forestarea  precipitation   extreme arable_land  \\\n",
       "year countrycode                                                    \n",
       "1990 ARG           12.713534            591  0.167190     9.71064   \n",
       "     AUS           16.732098            534  3.047099     6.23511   \n",
       "     BRA           65.409888           1761  0.482451     6.06367   \n",
       "     CHN           16.738008            645  7.950971     13.1867   \n",
       "     FRA           26.363945            867  0.005718     32.4797   \n",
       "\n",
       "                    freshwater       zscores  \n",
       "year countrycode                              \n",
       "1990 ARG           8676.235544  -0.220411542  \n",
       "     AUS          28122.320663          None  \n",
       "     BRA          36433.492763  -0.220597981  \n",
       "     CHN           2414.654455  -0.220576536  \n",
       "     FRA           3398.400468          None  "
      ]
     },
     "execution_count": 13,
     "metadata": {},
     "output_type": "execute_result"
    }
   ],
   "source": [
    "df.head().swaplevel(0, 1, axis=0)"
   ]
  },
  {
   "cell_type": "code",
   "execution_count": 154,
   "metadata": {
    "collapsed": false
   },
   "outputs": [
    {
     "data": {
      "text/html": [
       "<div>\n",
       "<table border=\"1\" class=\"dataframe\">\n",
       "  <thead>\n",
       "    <tr style=\"text-align: right;\">\n",
       "      <th></th>\n",
       "      <th>forestarea</th>\n",
       "      <th>precipitation</th>\n",
       "      <th>extreme</th>\n",
       "      <th>arable_land</th>\n",
       "      <th>freshwater</th>\n",
       "      <th>zscores</th>\n",
       "    </tr>\n",
       "    <tr>\n",
       "      <th>year</th>\n",
       "      <th></th>\n",
       "      <th></th>\n",
       "      <th></th>\n",
       "      <th></th>\n",
       "      <th></th>\n",
       "      <th></th>\n",
       "    </tr>\n",
       "  </thead>\n",
       "  <tbody>\n",
       "    <tr>\n",
       "      <th>1990</th>\n",
       "      <td>12.713534</td>\n",
       "      <td>591</td>\n",
       "      <td>0.16719</td>\n",
       "      <td>9.71064</td>\n",
       "      <td>8676.235544</td>\n",
       "      <td>-0.220411542</td>\n",
       "    </tr>\n",
       "    <tr>\n",
       "      <th>1991</th>\n",
       "      <td>12.606360</td>\n",
       "      <td>591</td>\n",
       "      <td>0.16719</td>\n",
       "      <td>9.749</td>\n",
       "      <td>8676.235544</td>\n",
       "      <td>-0.240598079</td>\n",
       "    </tr>\n",
       "    <tr>\n",
       "      <th>1992</th>\n",
       "      <td>12.499187</td>\n",
       "      <td>591</td>\n",
       "      <td>0.16719</td>\n",
       "      <td>9.78737</td>\n",
       "      <td>8676.235544</td>\n",
       "      <td>-0.315149285</td>\n",
       "    </tr>\n",
       "    <tr>\n",
       "      <th>1993</th>\n",
       "      <td>12.392014</td>\n",
       "      <td>591</td>\n",
       "      <td>0.16719</td>\n",
       "      <td>9.82574</td>\n",
       "      <td>8676.235544</td>\n",
       "      <td>-0.316487036</td>\n",
       "    </tr>\n",
       "    <tr>\n",
       "      <th>1994</th>\n",
       "      <td>12.284840</td>\n",
       "      <td>591</td>\n",
       "      <td>0.16719</td>\n",
       "      <td>9.8652</td>\n",
       "      <td>8676.235544</td>\n",
       "      <td>-0.258949066</td>\n",
       "    </tr>\n",
       "  </tbody>\n",
       "</table>\n",
       "</div>"
      ],
      "text/plain": [
       "      forestarea  precipitation  extreme arable_land   freshwater  \\\n",
       "year                                                                \n",
       "1990   12.713534            591  0.16719     9.71064  8676.235544   \n",
       "1991   12.606360            591  0.16719       9.749  8676.235544   \n",
       "1992   12.499187            591  0.16719     9.78737  8676.235544   \n",
       "1993   12.392014            591  0.16719     9.82574  8676.235544   \n",
       "1994   12.284840            591  0.16719      9.8652  8676.235544   \n",
       "\n",
       "           zscores  \n",
       "year                \n",
       "1990  -0.220411542  \n",
       "1991  -0.240598079  \n",
       "1992  -0.315149285  \n",
       "1993  -0.316487036  \n",
       "1994  -0.258949066  "
      ]
     },
     "execution_count": 154,
     "metadata": {},
     "output_type": "execute_result"
    }
   ],
   "source": [
    "#get yearly data by country\n",
    "df.xs('ARG', level='countrycode', axis=0).head()\n",
    "df.loc['ARG'].head()"
   ]
  },
  {
   "cell_type": "code",
   "execution_count": 155,
   "metadata": {
    "collapsed": false
   },
   "outputs": [
    {
     "data": {
      "text/html": [
       "<div>\n",
       "<table border=\"1\" class=\"dataframe\">\n",
       "  <thead>\n",
       "    <tr style=\"text-align: right;\">\n",
       "      <th></th>\n",
       "      <th>forestarea</th>\n",
       "      <th>precipitation</th>\n",
       "      <th>extreme</th>\n",
       "      <th>arable_land</th>\n",
       "      <th>freshwater</th>\n",
       "      <th>zscores</th>\n",
       "    </tr>\n",
       "    <tr>\n",
       "      <th>countrycode</th>\n",
       "      <th></th>\n",
       "      <th></th>\n",
       "      <th></th>\n",
       "      <th></th>\n",
       "      <th></th>\n",
       "      <th></th>\n",
       "    </tr>\n",
       "  </thead>\n",
       "  <tbody>\n",
       "    <tr>\n",
       "      <th>ARG</th>\n",
       "      <td>10.123763</td>\n",
       "      <td>591</td>\n",
       "      <td>0.167190</td>\n",
       "      <td>14.5062</td>\n",
       "      <td>6864.401552</td>\n",
       "      <td>-0.26509832</td>\n",
       "    </tr>\n",
       "    <tr>\n",
       "      <th>AUS</th>\n",
       "      <td>16.158572</td>\n",
       "      <td>534</td>\n",
       "      <td>3.047099</td>\n",
       "      <td>6.0163</td>\n",
       "      <td>21274.877120</td>\n",
       "      <td>-0.265693695</td>\n",
       "    </tr>\n",
       "    <tr>\n",
       "      <th>BRA</th>\n",
       "      <td>59.284243</td>\n",
       "      <td>1761</td>\n",
       "      <td>0.482451</td>\n",
       "      <td>9.0939</td>\n",
       "      <td>27714.761903</td>\n",
       "      <td>-0.265421506</td>\n",
       "    </tr>\n",
       "    <tr>\n",
       "      <th>CHN</th>\n",
       "      <td>21.861130</td>\n",
       "      <td>645</td>\n",
       "      <td>7.950971</td>\n",
       "      <td>11.2609</td>\n",
       "      <td>2072.374722</td>\n",
       "      <td>-0.254964769</td>\n",
       "    </tr>\n",
       "    <tr>\n",
       "      <th>FRA</th>\n",
       "      <td>30.614164</td>\n",
       "      <td>867</td>\n",
       "      <td>0.005718</td>\n",
       "      <td>33.4316</td>\n",
       "      <td>3033.727557</td>\n",
       "      <td>-0.26567294</td>\n",
       "    </tr>\n",
       "  </tbody>\n",
       "</table>\n",
       "</div>"
      ],
      "text/plain": [
       "             forestarea  precipitation   extreme arable_land    freshwater  \\\n",
       "countrycode                                                                  \n",
       "ARG           10.123763            591  0.167190     14.5062   6864.401552   \n",
       "AUS           16.158572            534  3.047099      6.0163  21274.877120   \n",
       "BRA           59.284243           1761  0.482451      9.0939  27714.761903   \n",
       "CHN           21.861130            645  7.950971     11.2609   2072.374722   \n",
       "FRA           30.614164            867  0.005718     33.4316   3033.727557   \n",
       "\n",
       "                  zscores  \n",
       "countrycode                \n",
       "ARG           -0.26509832  \n",
       "AUS          -0.265693695  \n",
       "BRA          -0.265421506  \n",
       "CHN          -0.254964769  \n",
       "FRA           -0.26567294  "
      ]
     },
     "execution_count": 155,
     "metadata": {},
     "output_type": "execute_result"
    }
   ],
   "source": [
    "# get country-level data by year\n",
    "df.xs(2013, level='year', axis=0).head()"
   ]
  },
  {
   "cell_type": "code",
   "execution_count": 14,
   "metadata": {
    "collapsed": false
   },
   "outputs": [],
   "source": [
    "df['zscores'] = df['zscores'].astype(float)"
   ]
  },
  {
   "cell_type": "code",
   "execution_count": 19,
   "metadata": {
    "collapsed": false
   },
   "outputs": [],
   "source": [
    "# df.loc[df['zscores'] > 0, 'zscores'] = 1\n",
    "# df.loc[df['zscores'] <= 0, 'zscores'] = 0\n",
    "df['binary'] = df['zscores'].apply(lambda x: 1 if x > 0 else 0)"
   ]
  },
  {
   "cell_type": "code",
   "execution_count": 15,
   "metadata": {
    "collapsed": false
   },
   "outputs": [
    {
     "data": {
      "text/plain": [
       "2430"
      ]
     },
     "execution_count": 15,
     "metadata": {},
     "output_type": "execute_result"
    }
   ],
   "source": [
    "# just drop these for now! fix tmr!\n",
    "df[df.isnull().any(axis=1)].size"
   ]
  },
  {
   "cell_type": "code",
   "execution_count": 20,
   "metadata": {
    "collapsed": false
   },
   "outputs": [],
   "source": [
    "df = df.dropna()"
   ]
  },
  {
   "cell_type": "code",
   "execution_count": 21,
   "metadata": {
    "collapsed": true
   },
   "outputs": [],
   "source": [
    "x_cols = ['forestarea', 'precipitation', 'extreme', 'arable_land', 'freshwater']"
   ]
  },
  {
   "cell_type": "code",
   "execution_count": 22,
   "metadata": {
    "collapsed": false
   },
   "outputs": [],
   "source": [
    "# convert each feature to z-score to normalize\n",
    "for col in x_cols:\n",
    "    df[col] = (df[col] - df[col].mean())/df[col].std(ddof=0)"
   ]
  },
  {
   "cell_type": "code",
   "execution_count": 43,
   "metadata": {
    "collapsed": true
   },
   "outputs": [],
   "source": [
    "def getScoreValues(X_train, \n",
    "                   X_test, \n",
    "                   y_train, \n",
    "                   y_test, \n",
    "                   model=KNeighborsClassifier(n_neighbors=6), \n",
    "                   verbose=True, \n",
    "                   get_features=True\n",
    "                  ):\n",
    "    model = model\n",
    "    model.fit(X_train, y_train)\n",
    "    y_pred = model.predict(X_test)\n",
    "    \n",
    "    \n",
    "    \n",
    "    accuracy_score_value = accuracy_score(y_test, y_pred)\n",
    "    precision_score_value = precision_score(y_test, y_pred)\n",
    "    recall_score_value = recall_score(y_test, y_pred)\n",
    "    f1_score_value = f1_score(y_test, y_pred) \n",
    "    \n",
    "    scores = pd.Series(data=[accuracy_score_value, precision_score_value, recall_score_value, f1_score_value],\n",
    "                      index=[\"Accuracy\", \"Precision\", \"Recall\", \"F1\"])\n",
    "    \n",
    "    feature_importances = None\n",
    "    if get_features:\n",
    "        try:\n",
    "            feature_importances = model.feature_importances_\n",
    "            #print(feature_importances)\n",
    "        except AttributeError:\n",
    "            pass\n",
    "        \n",
    "#     fimp = pd.Series(data=feature_importances, index=x_cols)\n",
    "    \n",
    "#     if verbose:\n",
    "#         #print(pd.concat([y_test,pd.Series(y_pred, index=y_test.index)], axis = 1))\n",
    "#         print('Accuracy: {}\\nPrecision: {}\\nRecall: {}\\nf1: {}'.format(accuracy_score_value, \\\n",
    "#                                                                        precision_score_value, \\\n",
    "#                                                                        recall_score_value, \\\n",
    "#                                                                        f1_score_value))\n",
    "    \n",
    "    return scores"
   ]
  },
  {
   "cell_type": "code",
   "execution_count": 26,
   "metadata": {
    "collapsed": false
   },
   "outputs": [],
   "source": [
    "X = df[x_cols]\n",
    "y = df['binary']\n",
    "\n",
    "X_train, X_test, y_train, y_test = train_test_split(X, y, test_size = .30, random_state=4444)"
   ]
  },
  {
   "cell_type": "code",
   "execution_count": 27,
   "metadata": {
    "collapsed": false
   },
   "outputs": [
    {
     "name": "stdout",
     "output_type": "stream",
     "text": [
      "Accuracy: 0.955259975816\n",
      "Precision: 0.811594202899\n",
      "Recall: 0.910569105691\n",
      "f1: 0.858237547893\n"
     ]
    },
    {
     "data": {
      "text/plain": [
       "(Accuracy     0.955260\n",
       " Precision    0.811594\n",
       " Recall       0.910569\n",
       " F1           0.858238\n",
       " dtype: float64, forestarea       0.200158\n",
       " precipitation    0.113569\n",
       " extreme          0.204267\n",
       " arable_land      0.220260\n",
       " freshwater       0.261746\n",
       " dtype: float64)"
      ]
     },
     "execution_count": 27,
     "metadata": {},
     "output_type": "execute_result"
    }
   ],
   "source": [
    "getScoreValues(X_train, X_test, y_train, y_test, DecisionTreeClassifier())"
   ]
  },
  {
   "cell_type": "code",
   "execution_count": 28,
   "metadata": {
    "collapsed": false
   },
   "outputs": [
    {
     "name": "stdout",
     "output_type": "stream",
     "text": [
      "Accuracy: 0.851269649335\n",
      "Precision: 0.0\n",
      "Recall: 0.0\n",
      "f1: 0.0\n"
     ]
    },
    {
     "name": "stderr",
     "output_type": "stream",
     "text": [
      "/Users/emilyhoughkovacs/anaconda/lib/python2.7/site-packages/sklearn/metrics/classification.py:958: UndefinedMetricWarning: Precision is ill-defined and being set to 0.0 due to no predicted samples.\n",
      "  'precision', 'predicted', average, warn_for)\n",
      "/Users/emilyhoughkovacs/anaconda/lib/python2.7/site-packages/sklearn/metrics/classification.py:958: UndefinedMetricWarning: F-score is ill-defined and being set to 0.0 due to no predicted samples.\n",
      "  'precision', 'predicted', average, warn_for)\n"
     ]
    },
    {
     "data": {
      "text/plain": [
       "(Accuracy     0.85127\n",
       " Precision    0.00000\n",
       " Recall       0.00000\n",
       " F1           0.00000\n",
       " dtype: float64, forestarea      NaN\n",
       " precipitation   NaN\n",
       " extreme         NaN\n",
       " arable_land     NaN\n",
       " freshwater      NaN\n",
       " dtype: float64)"
      ]
     },
     "execution_count": 28,
     "metadata": {},
     "output_type": "execute_result"
    }
   ],
   "source": [
    "getScoreValues(X_train, X_test, y_train, y_test, BernoulliNB())"
   ]
  },
  {
   "cell_type": "code",
   "execution_count": 29,
   "metadata": {
    "collapsed": false
   },
   "outputs": [
    {
     "name": "stdout",
     "output_type": "stream",
     "text": [
      "Accuracy: 0.851269649335\n",
      "Precision: 0.0\n",
      "Recall: 0.0\n",
      "f1: 0.0\n"
     ]
    },
    {
     "data": {
      "text/plain": [
       "(Accuracy     0.85127\n",
       " Precision    0.00000\n",
       " Recall       0.00000\n",
       " F1           0.00000\n",
       " dtype: float64, forestarea      NaN\n",
       " precipitation   NaN\n",
       " extreme         NaN\n",
       " arable_land     NaN\n",
       " freshwater      NaN\n",
       " dtype: float64)"
      ]
     },
     "execution_count": 29,
     "metadata": {},
     "output_type": "execute_result"
    }
   ],
   "source": [
    "getScoreValues(X_train, X_test, y_train, y_test, GaussianNB())"
   ]
  },
  {
   "cell_type": "code",
   "execution_count": 30,
   "metadata": {
    "collapsed": false
   },
   "outputs": [
    {
     "name": "stdout",
     "output_type": "stream",
     "text": [
      "Accuracy: 0.863361547763\n",
      "Precision: 1.0\n",
      "Recall: 0.0813008130081\n",
      "f1: 0.15037593985\n"
     ]
    },
    {
     "data": {
      "text/plain": [
       "(Accuracy     0.863362\n",
       " Precision    1.000000\n",
       " Recall       0.081301\n",
       " F1           0.150376\n",
       " dtype: float64, forestarea      NaN\n",
       " precipitation   NaN\n",
       " extreme         NaN\n",
       " arable_land     NaN\n",
       " freshwater      NaN\n",
       " dtype: float64)"
      ]
     },
     "execution_count": 30,
     "metadata": {},
     "output_type": "execute_result"
    }
   ],
   "source": [
    "getScoreValues(X_train, X_test, y_train, y_test, model=SVC())"
   ]
  },
  {
   "cell_type": "code",
   "execution_count": 31,
   "metadata": {
    "collapsed": false
   },
   "outputs": [
    {
     "name": "stdout",
     "output_type": "stream",
     "text": [
      "Accuracy: 0.967351874244\n",
      "Precision: 0.887096774194\n",
      "Recall: 0.894308943089\n",
      "f1: 0.890688259109\n"
     ]
    },
    {
     "data": {
      "text/plain": [
       "(Accuracy     0.967352\n",
       " Precision    0.887097\n",
       " Recall       0.894309\n",
       " F1           0.890688\n",
       " dtype: float64, forestarea       0.219603\n",
       " precipitation    0.135933\n",
       " extreme          0.186335\n",
       " arable_land      0.191712\n",
       " freshwater       0.266416\n",
       " dtype: float64)"
      ]
     },
     "execution_count": 31,
     "metadata": {},
     "output_type": "execute_result"
    }
   ],
   "source": [
    "getScoreValues(X_train, X_test, y_train, y_test, model=RandomForestClassifier())"
   ]
  },
  {
   "cell_type": "code",
   "execution_count": 32,
   "metadata": {
    "collapsed": true
   },
   "outputs": [],
   "source": [
    "def getROCcurve(X_train, X_test, y_train, y_test, model=KNeighborsClassifier(n_neighbors=6)):\n",
    "    model = model\n",
    "    model.fit(X_train, y_train)\n",
    "    y_scores = model.predict_proba(X_test)[:,1]\n",
    "    fpr, tpr, thresholds = roc_curve(y_test, y_scores)\n",
    "\n",
    "    auc = roc_auc_score(y_test, y_scores)\n",
    "#     print('AUC: {}'.format(auc))\n",
    "    \n",
    "    fig,ax = plt.subplots()\n",
    "    ax.plot(fpr, tpr, label='AUC: %0.3f' % auc)\n",
    "\n",
    "    fig.set_size_inches(12, 8, forward=True)\n",
    "    plt.xlabel('False Postive Rate', fontsize=14)\n",
    "    plt.ylabel('True Positive Rate', fontsize=14)\n",
    "    plt.title('Random Forest ROC Curve for Climate-Triggered Refugee Disasters', fontsize=16)\n",
    "    plt.legend(loc='best', fontsize=14)"
   ]
  },
  {
   "cell_type": "code",
   "execution_count": 36,
   "metadata": {
    "collapsed": false
   },
   "outputs": [
    {
     "data": {
      "image/png": "[encoded data removed]",
      "text/plain": [
       "<matplotlib.figure.Figure at 0x112a8c0d0>"
      ]
     },
     "metadata": {},
     "output_type": "display_data"
    }
   ],
   "source": [
    "getROCcurve(X_train, X_test, y_train, y_test, model=RandomForestClassifier())"
   ]
  },
  {
   "cell_type": "code",
   "execution_count": 40,
   "metadata": {
    "collapsed": false
   },
   "outputs": [],
   "source": [
    "X_trainsmall, X_testsmall, y_trainsmall, y_testsmall = train_test_split(df[['forestarea', 'arable_land']], df['binary'], test_size = .30, random_state=4444)"
   ]
  },
  {
   "cell_type": "code",
   "execution_count": 41,
   "metadata": {
    "collapsed": false
   },
   "outputs": [
    {
     "data": {
      "image/png": "[encoded data removed]",
      "text/plain": [
       "<matplotlib.figure.Figure at 0x112e1d050>"
      ]
     },
     "metadata": {},
     "output_type": "display_data"
    }
   ],
   "source": [
    "getROCcurve(X_trainsmall, X_testsmall, y_trainsmall, y_testsmall, model=RandomForestClassifier())"
   ]
  },
  {
   "cell_type": "code",
   "execution_count": 44,
   "metadata": {
    "collapsed": false
   },
   "outputs": [
    {
     "data": {
      "text/plain": [
       "Accuracy     0.927449\n",
       "Precision    0.805825\n",
       "Recall       0.674797\n",
       "F1           0.734513\n",
       "dtype: float64"
      ]
     },
     "execution_count": 44,
     "metadata": {},
     "output_type": "execute_result"
    }
   ],
   "source": [
    "getScoreValues(X_trainsmall, X_testsmall, y_trainsmall, y_testsmall, model=RandomForestClassifier())"
   ]
  },
  {
   "cell_type": "code",
   "execution_count": 45,
   "metadata": {
    "collapsed": true
   },
   "outputs": [],
   "source": [
    "newdf = df[['forestarea', 'arable_land', 'binary']]"
   ]
  },
  {
   "cell_type": "code",
   "execution_count": 46,
   "metadata": {
    "collapsed": false
   },
   "outputs": [
    {
     "data": {
      "text/html": [
       "<div>\n",
       "<table border=\"1\" class=\"dataframe\">\n",
       "  <thead>\n",
       "    <tr style=\"text-align: right;\">\n",
       "      <th></th>\n",
       "      <th></th>\n",
       "      <th>forestarea</th>\n",
       "      <th>arable_land</th>\n",
       "      <th>binary</th>\n",
       "    </tr>\n",
       "    <tr>\n",
       "      <th>countrycode</th>\n",
       "      <th>year</th>\n",
       "      <th></th>\n",
       "      <th></th>\n",
       "      <th></th>\n",
       "    </tr>\n",
       "  </thead>\n",
       "  <tbody>\n",
       "    <tr>\n",
       "      <th>ARG</th>\n",
       "      <th>1990</th>\n",
       "      <td>-0.796996</td>\n",
       "      <td>-0.441868</td>\n",
       "      <td>0</td>\n",
       "    </tr>\n",
       "    <tr>\n",
       "      <th>BRA</th>\n",
       "      <th>1990</th>\n",
       "      <td>1.527929</td>\n",
       "      <td>-0.702268</td>\n",
       "      <td>0</td>\n",
       "    </tr>\n",
       "    <tr>\n",
       "      <th>CHN</th>\n",
       "      <th>1990</th>\n",
       "      <td>-0.619439</td>\n",
       "      <td>-0.193671</td>\n",
       "      <td>0</td>\n",
       "    </tr>\n",
       "    <tr>\n",
       "      <th>IND</th>\n",
       "      <th>1990</th>\n",
       "      <td>-0.409115</td>\n",
       "      <td>2.79028</td>\n",
       "      <td>0</td>\n",
       "    </tr>\n",
       "    <tr>\n",
       "      <th>IDN</th>\n",
       "      <th>1990</th>\n",
       "      <td>1.529157</td>\n",
       "      <td>-0.336966</td>\n",
       "      <td>0</td>\n",
       "    </tr>\n",
       "    <tr>\n",
       "      <th>RUS</th>\n",
       "      <th>1990</th>\n",
       "      <td>0.819664</td>\n",
       "      <td>-0.56014</td>\n",
       "      <td>0</td>\n",
       "    </tr>\n",
       "    <tr>\n",
       "      <th>ARM</th>\n",
       "      <th>1990</th>\n",
       "      <td>-0.820170</td>\n",
       "      <td>-0.0743546</td>\n",
       "      <td>0</td>\n",
       "    </tr>\n",
       "    <tr>\n",
       "      <th>TUR</th>\n",
       "      <th>1990</th>\n",
       "      <td>-0.806324</td>\n",
       "      <td>1.15138</td>\n",
       "      <td>0</td>\n",
       "    </tr>\n",
       "    <tr>\n",
       "      <th>GBR</th>\n",
       "      <th>1990</th>\n",
       "      <td>-0.851301</td>\n",
       "      <td>0.818564</td>\n",
       "      <td>0</td>\n",
       "    </tr>\n",
       "    <tr>\n",
       "      <th>USA</th>\n",
       "      <th>1990</th>\n",
       "      <td>0.099012</td>\n",
       "      <td>0.312277</td>\n",
       "      <td>0</td>\n",
       "    </tr>\n",
       "    <tr>\n",
       "      <th>AFG</th>\n",
       "      <th>1990</th>\n",
       "      <td>-1.266677</td>\n",
       "      <td>-0.270126</td>\n",
       "      <td>1</td>\n",
       "    </tr>\n",
       "    <tr>\n",
       "      <th>ALB</th>\n",
       "      <th>1990</th>\n",
       "      <td>-0.087788</td>\n",
       "      <td>0.373595</td>\n",
       "      <td>0</td>\n",
       "    </tr>\n",
       "    <tr>\n",
       "      <th>DZA</th>\n",
       "      <th>1990</th>\n",
       "      <td>-1.327029</td>\n",
       "      <td>-0.922945</td>\n",
       "      <td>0</td>\n",
       "    </tr>\n",
       "    <tr>\n",
       "      <th>AGO</th>\n",
       "      <th>1990</th>\n",
       "      <td>0.799963</td>\n",
       "      <td>-0.969134</td>\n",
       "      <td>1</td>\n",
       "    </tr>\n",
       "    <tr>\n",
       "      <th>BGD</th>\n",
       "      <th>1990</th>\n",
       "      <td>-0.851538</td>\n",
       "      <td>4.05165</td>\n",
       "      <td>0</td>\n",
       "    </tr>\n",
       "    <tr>\n",
       "      <th>BEN</th>\n",
       "      <th>1990</th>\n",
       "      <td>0.896182</td>\n",
       "      <td>-0.112575</td>\n",
       "      <td>0</td>\n",
       "    </tr>\n",
       "    <tr>\n",
       "      <th>BOL</th>\n",
       "      <th>1990</th>\n",
       "      <td>1.199528</td>\n",
       "      <td>-0.996811</td>\n",
       "      <td>0</td>\n",
       "    </tr>\n",
       "    <tr>\n",
       "      <th>BWA</th>\n",
       "      <th>1990</th>\n",
       "      <td>-0.289977</td>\n",
       "      <td>-1.08231</td>\n",
       "      <td>0</td>\n",
       "    </tr>\n",
       "    <tr>\n",
       "      <th>BGR</th>\n",
       "      <th>1990</th>\n",
       "      <td>-0.031099</td>\n",
       "      <td>1.35348</td>\n",
       "      <td>0</td>\n",
       "    </tr>\n",
       "    <tr>\n",
       "      <th>BFA</th>\n",
       "      <th>1990</th>\n",
       "      <td>-0.253797</td>\n",
       "      <td>-0.220519</td>\n",
       "      <td>0</td>\n",
       "    </tr>\n",
       "    <tr>\n",
       "      <th>BDI</th>\n",
       "      <th>1990</th>\n",
       "      <td>-0.861394</td>\n",
       "      <td>1.45059</td>\n",
       "      <td>1</td>\n",
       "    </tr>\n",
       "    <tr>\n",
       "      <th>KHM</th>\n",
       "      <th>1990</th>\n",
       "      <td>1.877306</td>\n",
       "      <td>0.359392</td>\n",
       "      <td>0</td>\n",
       "    </tr>\n",
       "    <tr>\n",
       "      <th>CZE</th>\n",
       "      <th>1990</th>\n",
       "      <td>0.143187</td>\n",
       "      <td>1.94373</td>\n",
       "      <td>0</td>\n",
       "    </tr>\n",
       "    <tr>\n",
       "      <th>CMR</th>\n",
       "      <th>1990</th>\n",
       "      <td>0.911569</td>\n",
       "      <td>-0.238001</td>\n",
       "      <td>0</td>\n",
       "    </tr>\n",
       "    <tr>\n",
       "      <th>CAF</th>\n",
       "      <th>1990</th>\n",
       "      <td>0.239785</td>\n",
       "      <td>-0.915167</td>\n",
       "      <td>0</td>\n",
       "    </tr>\n",
       "    <tr>\n",
       "      <th>TCD</th>\n",
       "      <th>1990</th>\n",
       "      <td>-1.122981</td>\n",
       "      <td>-0.949632</td>\n",
       "      <td>1</td>\n",
       "    </tr>\n",
       "    <tr>\n",
       "      <th>CHL</th>\n",
       "      <th>1990</th>\n",
       "      <td>-0.452241</td>\n",
       "      <td>-0.866147</td>\n",
       "      <td>0</td>\n",
       "    </tr>\n",
       "    <tr>\n",
       "      <th>COL</th>\n",
       "      <th>1990</th>\n",
       "      <td>1.203635</td>\n",
       "      <td>-0.922532</td>\n",
       "      <td>0</td>\n",
       "    </tr>\n",
       "    <tr>\n",
       "      <th>COM</th>\n",
       "      <th>1990</th>\n",
       "      <td>-0.196250</td>\n",
       "      <td>1.35866</td>\n",
       "      <td>0</td>\n",
       "    </tr>\n",
       "    <tr>\n",
       "      <th>ZAR</th>\n",
       "      <th>1990</th>\n",
       "      <td>1.762932</td>\n",
       "      <td>-0.92515</td>\n",
       "      <td>0</td>\n",
       "    </tr>\n",
       "    <tr>\n",
       "      <th>...</th>\n",
       "      <th>...</th>\n",
       "      <td>...</td>\n",
       "      <td>...</td>\n",
       "      <td>...</td>\n",
       "    </tr>\n",
       "    <tr>\n",
       "      <th>ROM</th>\n",
       "      <th>2013</th>\n",
       "      <td>-0.068527</td>\n",
       "      <td>1.57955</td>\n",
       "      <td>0</td>\n",
       "    </tr>\n",
       "    <tr>\n",
       "      <th>RWA</th>\n",
       "      <th>2013</th>\n",
       "      <td>-0.523809</td>\n",
       "      <td>2.28726</td>\n",
       "      <td>1</td>\n",
       "    </tr>\n",
       "    <tr>\n",
       "      <th>SVK</th>\n",
       "      <th>2013</th>\n",
       "      <td>0.421616</td>\n",
       "      <td>0.934609</td>\n",
       "      <td>0</td>\n",
       "    </tr>\n",
       "    <tr>\n",
       "      <th>SRB</th>\n",
       "      <th>2013</th>\n",
       "      <td>0.012786</td>\n",
       "      <td>1.55806</td>\n",
       "      <td>1</td>\n",
       "    </tr>\n",
       "    <tr>\n",
       "      <th>SEN</th>\n",
       "      <th>2013</th>\n",
       "      <td>0.556227</td>\n",
       "      <td>0.0700728</td>\n",
       "      <td>0</td>\n",
       "    </tr>\n",
       "    <tr>\n",
       "      <th>SLE</th>\n",
       "      <th>2013</th>\n",
       "      <td>0.424956</td>\n",
       "      <td>0.431352</td>\n",
       "      <td>0</td>\n",
       "    </tr>\n",
       "    <tr>\n",
       "      <th>SLB</th>\n",
       "      <th>2013</th>\n",
       "      <td>2.103856</td>\n",
       "      <td>-1.08421</td>\n",
       "      <td>0</td>\n",
       "    </tr>\n",
       "    <tr>\n",
       "      <th>SOM</th>\n",
       "      <th>2013</th>\n",
       "      <td>-0.899612</td>\n",
       "      <td>-1.01003</td>\n",
       "      <td>1</td>\n",
       "    </tr>\n",
       "    <tr>\n",
       "      <th>ZAF</th>\n",
       "      <th>2013</th>\n",
       "      <td>-1.021819</td>\n",
       "      <td>-0.399482</td>\n",
       "      <td>0</td>\n",
       "    </tr>\n",
       "    <tr>\n",
       "      <th>LKA</th>\n",
       "      <th>2013</th>\n",
       "      <td>0.107716</td>\n",
       "      <td>0.34496</td>\n",
       "      <td>1</td>\n",
       "    </tr>\n",
       "    <tr>\n",
       "      <th>SDN</th>\n",
       "      <th>2013</th>\n",
       "      <td>-0.994727</td>\n",
       "      <td>-0.617742</td>\n",
       "      <td>1</td>\n",
       "    </tr>\n",
       "    <tr>\n",
       "      <th>SUR</th>\n",
       "      <th>2013</th>\n",
       "      <td>2.980375</td>\n",
       "      <td>-1.10776</td>\n",
       "      <td>0</td>\n",
       "    </tr>\n",
       "    <tr>\n",
       "      <th>TJK</th>\n",
       "      <th>2013</th>\n",
       "      <td>-1.228286</td>\n",
       "      <td>-0.696488</td>\n",
       "      <td>0</td>\n",
       "    </tr>\n",
       "    <tr>\n",
       "      <th>SWZ</th>\n",
       "      <th>2013</th>\n",
       "      <td>0.121627</td>\n",
       "      <td>-0.408753</td>\n",
       "      <td>0</td>\n",
       "    </tr>\n",
       "    <tr>\n",
       "      <th>TKM</th>\n",
       "      <th>2013</th>\n",
       "      <td>-0.970445</td>\n",
       "      <td>-0.840459</td>\n",
       "      <td>0</td>\n",
       "    </tr>\n",
       "    <tr>\n",
       "      <th>SWE</th>\n",
       "      <th>2013</th>\n",
       "      <td>1.682698</td>\n",
       "      <td>-0.680177</td>\n",
       "      <td>0</td>\n",
       "    </tr>\n",
       "    <tr>\n",
       "      <th>SYR</th>\n",
       "      <th>2013</th>\n",
       "      <td>-1.239939</td>\n",
       "      <td>0.677526</td>\n",
       "      <td>1</td>\n",
       "    </tr>\n",
       "    <tr>\n",
       "      <th>TZA</th>\n",
       "      <th>2013</th>\n",
       "      <td>0.973272</td>\n",
       "      <td>-0.047028</td>\n",
       "      <td>0</td>\n",
       "    </tr>\n",
       "    <tr>\n",
       "      <th>THA</th>\n",
       "      <th>2013</th>\n",
       "      <td>0.053090</td>\n",
       "      <td>1.21414</td>\n",
       "      <td>0</td>\n",
       "    </tr>\n",
       "    <tr>\n",
       "      <th>TMP</th>\n",
       "      <th>2013</th>\n",
       "      <td>0.743914</td>\n",
       "      <td>-0.390956</td>\n",
       "      <td>0</td>\n",
       "    </tr>\n",
       "    <tr>\n",
       "      <th>TGO</th>\n",
       "      <th>2013</th>\n",
       "      <td>-1.173287</td>\n",
       "      <td>2.34363</td>\n",
       "      <td>0</td>\n",
       "    </tr>\n",
       "    <tr>\n",
       "      <th>TTO</th>\n",
       "      <th>2013</th>\n",
       "      <td>0.630900</td>\n",
       "      <td>-0.787263</td>\n",
       "      <td>0</td>\n",
       "    </tr>\n",
       "    <tr>\n",
       "      <th>TUN</th>\n",
       "      <th>2013</th>\n",
       "      <td>-1.068077</td>\n",
       "      <td>0.175984</td>\n",
       "      <td>0</td>\n",
       "    </tr>\n",
       "    <tr>\n",
       "      <th>UGA</th>\n",
       "      <th>2013</th>\n",
       "      <td>-0.841423</td>\n",
       "      <td>1.32175</td>\n",
       "      <td>0</td>\n",
       "    </tr>\n",
       "    <tr>\n",
       "      <th>URY</th>\n",
       "      <th>2013</th>\n",
       "      <td>-0.904283</td>\n",
       "      <td>-0.187117</td>\n",
       "      <td>0</td>\n",
       "    </tr>\n",
       "    <tr>\n",
       "      <th>UZB</th>\n",
       "      <th>2013</th>\n",
       "      <td>-1.021658</td>\n",
       "      <td>-0.396701</td>\n",
       "      <td>0</td>\n",
       "    </tr>\n",
       "    <tr>\n",
       "      <th>VEN</th>\n",
       "      <th>2013</th>\n",
       "      <td>0.993576</td>\n",
       "      <td>-0.91666</td>\n",
       "      <td>0</td>\n",
       "    </tr>\n",
       "    <tr>\n",
       "      <th>VNM</th>\n",
       "      <th>2013</th>\n",
       "      <td>0.707404</td>\n",
       "      <td>0.340732</td>\n",
       "      <td>0</td>\n",
       "    </tr>\n",
       "    <tr>\n",
       "      <th>YEM</th>\n",
       "      <th>2013</th>\n",
       "      <td>-1.312031</td>\n",
       "      <td>-0.966448</td>\n",
       "      <td>0</td>\n",
       "    </tr>\n",
       "    <tr>\n",
       "      <th>ZMB</th>\n",
       "      <th>2013</th>\n",
       "      <td>1.548294</td>\n",
       "      <td>-0.779844</td>\n",
       "      <td>0</td>\n",
       "    </tr>\n",
       "  </tbody>\n",
       "</table>\n",
       "<p>2755 rows × 3 columns</p>\n",
       "</div>"
      ],
      "text/plain": [
       "                  forestarea arable_land  binary\n",
       "countrycode year                                \n",
       "ARG         1990   -0.796996   -0.441868       0\n",
       "BRA         1990    1.527929   -0.702268       0\n",
       "CHN         1990   -0.619439   -0.193671       0\n",
       "IND         1990   -0.409115     2.79028       0\n",
       "IDN         1990    1.529157   -0.336966       0\n",
       "RUS         1990    0.819664    -0.56014       0\n",
       "ARM         1990   -0.820170  -0.0743546       0\n",
       "TUR         1990   -0.806324     1.15138       0\n",
       "GBR         1990   -0.851301    0.818564       0\n",
       "USA         1990    0.099012    0.312277       0\n",
       "AFG         1990   -1.266677   -0.270126       1\n",
       "ALB         1990   -0.087788    0.373595       0\n",
       "DZA         1990   -1.327029   -0.922945       0\n",
       "AGO         1990    0.799963   -0.969134       1\n",
       "BGD         1990   -0.851538     4.05165       0\n",
       "BEN         1990    0.896182   -0.112575       0\n",
       "BOL         1990    1.199528   -0.996811       0\n",
       "BWA         1990   -0.289977    -1.08231       0\n",
       "BGR         1990   -0.031099     1.35348       0\n",
       "BFA         1990   -0.253797   -0.220519       0\n",
       "BDI         1990   -0.861394     1.45059       1\n",
       "KHM         1990    1.877306    0.359392       0\n",
       "CZE         1990    0.143187     1.94373       0\n",
       "CMR         1990    0.911569   -0.238001       0\n",
       "CAF         1990    0.239785   -0.915167       0\n",
       "TCD         1990   -1.122981   -0.949632       1\n",
       "CHL         1990   -0.452241   -0.866147       0\n",
       "COL         1990    1.203635   -0.922532       0\n",
       "COM         1990   -0.196250     1.35866       0\n",
       "ZAR         1990    1.762932    -0.92515       0\n",
       "...                      ...         ...     ...\n",
       "ROM         2013   -0.068527     1.57955       0\n",
       "RWA         2013   -0.523809     2.28726       1\n",
       "SVK         2013    0.421616    0.934609       0\n",
       "SRB         2013    0.012786     1.55806       1\n",
       "SEN         2013    0.556227   0.0700728       0\n",
       "SLE         2013    0.424956    0.431352       0\n",
       "SLB         2013    2.103856    -1.08421       0\n",
       "SOM         2013   -0.899612    -1.01003       1\n",
       "ZAF         2013   -1.021819   -0.399482       0\n",
       "LKA         2013    0.107716     0.34496       1\n",
       "SDN         2013   -0.994727   -0.617742       1\n",
       "SUR         2013    2.980375    -1.10776       0\n",
       "TJK         2013   -1.228286   -0.696488       0\n",
       "SWZ         2013    0.121627   -0.408753       0\n",
       "TKM         2013   -0.970445   -0.840459       0\n",
       "SWE         2013    1.682698   -0.680177       0\n",
       "SYR         2013   -1.239939    0.677526       1\n",
       "TZA         2013    0.973272   -0.047028       0\n",
       "THA         2013    0.053090     1.21414       0\n",
       "TMP         2013    0.743914   -0.390956       0\n",
       "TGO         2013   -1.173287     2.34363       0\n",
       "TTO         2013    0.630900   -0.787263       0\n",
       "TUN         2013   -1.068077    0.175984       0\n",
       "UGA         2013   -0.841423     1.32175       0\n",
       "URY         2013   -0.904283   -0.187117       0\n",
       "UZB         2013   -1.021658   -0.396701       0\n",
       "VEN         2013    0.993576    -0.91666       0\n",
       "VNM         2013    0.707404    0.340732       0\n",
       "YEM         2013   -1.312031   -0.966448       0\n",
       "ZMB         2013    1.548294   -0.779844       0\n",
       "\n",
       "[2755 rows x 3 columns]"
      ]
     },
     "execution_count": 46,
     "metadata": {},
     "output_type": "execute_result"
    }
   ],
   "source": [
    "newdf"
   ]
  },
  {
   "cell_type": "code",
   "execution_count": null,
   "metadata": {
    "collapsed": true
   },
   "outputs": [],
   "source": []
  }
 ],
 "metadata": {
  "kernelspec": {
   "display_name": "Python 2",
   "language": "python",
   "name": "python2"
  },
  "language_info": {
   "codemirror_mode": {
    "name": "ipython",
    "version": 2
   },
   "file_extension": ".py",
   "mimetype": "text/x-python",
   "name": "python",
   "nbconvert_exporter": "python",
   "pygments_lexer": "ipython2",
   "version": "2.7.11"
  }
 },
 "nbformat": 4,
 "nbformat_minor": 0
}
