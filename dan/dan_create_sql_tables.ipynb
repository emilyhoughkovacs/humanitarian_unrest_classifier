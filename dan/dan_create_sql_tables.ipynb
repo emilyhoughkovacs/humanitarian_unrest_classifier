{
 "cells": [
  {
   "cell_type": "code",
   "execution_count": 1,
   "metadata": {
    "collapsed": false
   },
   "outputs": [
    {
     "name": "stdout",
     "output_type": "stream",
     "text": [
      "/Users/dyawitz/anaconda/envs/py27/bin/python\n"
     ]
    }
   ],
   "source": [
    "# # DO NOT RUN THIS CODE\n",
    "# # ONLY DAN SHOULD RUN THIS TO FIX HIS KERNEL\n",
    "\n",
    "# import sys\n",
    "# print sys.executable\n",
    "\n",
    "# paths = ['', '/Users/dyawitz/anaconda/bin', '/Users/dyawitz/anaconda/lib/python27.zip', '/Users/dyawitz/anaconda/lib/python2.7/plat-darwin', '/Users/dyawitz/anaconda/lib/python2.7/plat-mac', '/Users/dyawitz/anaconda/lib/python2.7/plat-mac/lib-scriptpackages', '/Users/dyawitz/anaconda/lib/python2.7/lib-tk', '/Users/dyawitz/anaconda/lib/python2.7/lib-old', '/Users/dyawitz/anaconda/lib/python2.7/lib-dynload', '/Users/dyawitz/anaconda/lib/python2.7/site-packages/Sphinx-1.3.1-py2.7.egg', '/Users/dyawitz/anaconda/lib/python2.7/site-packages/setuptools-18.5-py2.7.egg', '/Users/dyawitz/anaconda/lib/python2.7/site-packages', '/Users/dyawitz/anaconda/lib/python2.7/site-packages/aeosa', '/Users/dyawitz/anaconda/lib/python2.7/site-packages/IPython/extensions', '/Users/dyawitz/.ipython']\n",
    "\n",
    "# for i in paths:\n",
    "#    sys.path.append(i)"
   ]
  },
  {
   "cell_type": "code",
   "execution_count": 12,
   "metadata": {
    "collapsed": true
   },
   "outputs": [],
   "source": [
    "from sqlalchemy import create_engine\n",
    "import pandas as pd\n",
    "from os import listdir\n",
    "from os.path import isfile, join"
   ]
  },
  {
   "cell_type": "code",
   "execution_count": null,
   "metadata": {
    "collapsed": false
   },
   "outputs": [],
   "source": [
    "# CONFIG = {}\n",
    "\n",
    "# with open('config.txt', \"r\") as in_file:\n",
    "#     for line in in_file:\n",
    "#         line = line.split(\":\")\n",
    "#         parameter = line[0].strip()\n",
    "#         value = line[1].strip()\n",
    "#         CONFIG[parameter] = value\n",
    "        \n",
    "# engine_path = 'postgresql://'+CONFIG['dyawitz']+':'+\\\n",
    "#                 CONFIG['mcnulty']+'@'+CONFIG['54.208.89.163']+\\\n",
    "#                 ':'+CONFIG['5432']+'/'+CONFIG['emily']\n",
    "        \n",
    "# engine = create_engine(engine_path)"
   ]
  },
  {
   "cell_type": "code",
   "execution_count": 13,
   "metadata": {
    "collapsed": true
   },
   "outputs": [],
   "source": [
    "username = 'dyawitz'\n",
    "password = 'mcnulty'\n",
    "path = str('postgresql://' + username + ':' + password + '@54.208.89.163:5432/emily')\n",
    "engine = create_engine(path)"
   ]
  },
  {
   "cell_type": "markdown",
   "metadata": {},
   "source": [
    "##### World bank data"
   ]
  },
  {
   "cell_type": "code",
   "execution_count": 14,
   "metadata": {
    "collapsed": false
   },
   "outputs": [],
   "source": [
    "files = [f for f in listdir('world_bank_data/') if isfile(join('world_bank_data/', f))]"
   ]
  },
  {
   "cell_type": "code",
   "execution_count": 15,
   "metadata": {
    "collapsed": false
   },
   "outputs": [
    {
     "data": {
      "text/plain": [
       "['adolescent_fertility.csv',\n",
       " 'cell_phones_per100.csv',\n",
       " 'elec_per_capita.csv',\n",
       " 'gdp_growth.csv',\n",
       " 'have_good_sanitation.csv',\n",
       " 'internet_per100.csv',\n",
       " 'labor_force_participation.csv',\n",
       " 'population_total.csv',\n",
       " 'rural_pop_in_poverty.csv',\n",
       " 'unemployment.csv',\n",
       " 'vulnerable_employment_f.csv',\n",
       " 'vulnerable_employment_m.csv']"
      ]
     },
     "execution_count": 15,
     "metadata": {},
     "output_type": "execute_result"
    }
   ],
   "source": [
    "files.pop(0)\n",
    "files"
   ]
  },
  {
   "cell_type": "code",
   "execution_count": 16,
   "metadata": {
    "collapsed": false
   },
   "outputs": [],
   "source": [
    "for file in files:\n",
    "    file_with_path = 'world_bank_data/' + file\n",
    "    raw_name = file[:-4]\n",
    "    with open(file_with_path) as f:\n",
    "        df = pd.read_csv(f)\n",
    "    df.to_sql(raw_name, engine)"
   ]
  },
  {
   "cell_type": "markdown",
   "metadata": {
    "collapsed": true
   },
   "source": [
    "##### CPI data"
   ]
  },
  {
   "cell_type": "code",
   "execution_count": null,
   "metadata": {
    "collapsed": false
   },
   "outputs": [],
   "source": [
    "with open('cpi_clean_with_country_codes.csv') as f:\n",
    "    df = pd.read_csv(f)\n",
    "df.to_sql('corruption_perception', engine)"
   ]
  },
  {
   "cell_type": "code",
   "execution_count": null,
   "metadata": {
    "collapsed": true
   },
   "outputs": [],
   "source": []
  }
 ],
 "metadata": {
  "kernelspec": {
   "display_name": "Python 2",
   "language": "python",
   "name": "python2"
  },
  "language_info": {
   "codemirror_mode": {
    "name": "ipython",
    "version": 2
   },
   "file_extension": ".py",
   "mimetype": "text/x-python",
   "name": "python",
   "nbconvert_exporter": "python",
   "pygments_lexer": "ipython2",
   "version": "2.7.11"
  }
 },
 "nbformat": 4,
 "nbformat_minor": 0
}
