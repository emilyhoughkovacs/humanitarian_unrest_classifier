{
 "cells": [
  {
   "cell_type": "markdown",
   "metadata": {},
   "source": [
    "# World Bank Data\n",
    "\n",
    "## This data was taken from the dataset on [Kaggle](https://www.kaggle.com/worldbank/world-development-indicators)"
   ]
  },
  {
   "cell_type": "code",
   "execution_count": 1,
   "metadata": {
    "collapsed": false
   },
   "outputs": [
    {
     "name": "stdout",
     "output_type": "stream",
     "text": [
      "/Users/dyawitz/anaconda/envs/py27/bin/python\n"
     ]
    }
   ],
   "source": [
    "# # DO NOT RUN THIS CODE\n",
    "# # ONLY DAN SHOULD RUN THIS TO FIX HIS KERNEL\n",
    "\n",
    "# import sys\n",
    "# print sys.executable\n",
    "\n",
    "# paths = ['', '/Users/dyawitz/anaconda/bin', '/Users/dyawitz/anaconda/lib/python27.zip', '/Users/dyawitz/anaconda/lib/python2.7/plat-darwin', '/Users/dyawitz/anaconda/lib/python2.7/plat-mac', '/Users/dyawitz/anaconda/lib/python2.7/plat-mac/lib-scriptpackages', '/Users/dyawitz/anaconda/lib/python2.7/lib-tk', '/Users/dyawitz/anaconda/lib/python2.7/lib-old', '/Users/dyawitz/anaconda/lib/python2.7/lib-dynload', '/Users/dyawitz/anaconda/lib/python2.7/site-packages/Sphinx-1.3.1-py2.7.egg', '/Users/dyawitz/anaconda/lib/python2.7/site-packages/setuptools-18.5-py2.7.egg', '/Users/dyawitz/anaconda/lib/python2.7/site-packages', '/Users/dyawitz/anaconda/lib/python2.7/site-packages/aeosa', '/Users/dyawitz/anaconda/lib/python2.7/site-packages/IPython/extensions', '/Users/dyawitz/.ipython']\n",
    "\n",
    "# for i in paths:\n",
    "#    sys.path.append(i)"
   ]
  },
  {
   "cell_type": "code",
   "execution_count": 2,
   "metadata": {
    "collapsed": false
   },
   "outputs": [],
   "source": [
    "import pandas as pd\n",
    "import numpy as np\n",
    "from copy import deepcopy"
   ]
  },
  {
   "cell_type": "code",
   "execution_count": 3,
   "metadata": {
    "collapsed": true
   },
   "outputs": [],
   "source": [
    "def readData(filename):\n",
    "    with open(filename) as f:\n",
    "        data = pd.read_csv(f)\n",
    "        \n",
    "    return data"
   ]
  },
  {
   "cell_type": "markdown",
   "metadata": {},
   "source": [
    "Pull all the world bank data into one df"
   ]
  },
  {
   "cell_type": "code",
   "execution_count": 5,
   "metadata": {
    "collapsed": false
   },
   "outputs": [],
   "source": [
    "all_df = readData('../data/world-development-indicators/indicators.csv')"
   ]
  },
  {
   "cell_type": "markdown",
   "metadata": {},
   "source": [
    "Wrie a function to extract the data for a specific [indicator](http://data.worldbank.org/indicator)"
   ]
  },
  {
   "cell_type": "code",
   "execution_count": 8,
   "metadata": {
    "collapsed": false
   },
   "outputs": [],
   "source": [
    "def getSpecificDf(all_df, indicatorcode):\n",
    "    '''Takes in the whole dataframe, an indicator code and exports a four-column dataframe with \n",
    "    all lowercase titles\n",
    "    '''\n",
    "    \n",
    "    specific_indicator = all_df[all_df.IndicatorCode == indicatorcode]\n",
    "    specific_indicator = specific_indicator[['CountryCode', 'CountryName', 'Year', 'Value']]\n",
    "    specific_indicator.columns = ['countrycode', 'countryname', 'year', 'value']\n",
    "    \n",
    "    specific_indicator.reset_index(drop=True)\n",
    "    specific_indicator_formatted = specific_indicator.dropna(axis=1, how='all')\n",
    "    \n",
    "    return specific_indicator_formatted"
   ]
  },
  {
   "cell_type": "markdown",
   "metadata": {},
   "source": [
    "-\n",
    "-\n",
    "-\n",
    "-\n",
    "\n",
    "Below, for any given indicator, create a new dataframe and export it to a csv under the world_bank_data folder. "
   ]
  },
  {
   "cell_type": "markdown",
   "metadata": {},
   "source": [
    "## Life Expectancy"
   ]
  },
  {
   "cell_type": "code",
   "execution_count": null,
   "metadata": {
    "collapsed": false
   },
   "outputs": [],
   "source": [
    "life_expectancy = getSpecificDf(all_df, 'SP.DYN.LE00.IN')"
   ]
  },
  {
   "cell_type": "code",
   "execution_count": null,
   "metadata": {
    "collapsed": true
   },
   "outputs": [],
   "source": [
    "life_expectancy.to_csv('world_bank_data/life_expectancy.csv', index=False)"
   ]
  },
  {
   "cell_type": "markdown",
   "metadata": {},
   "source": [
    "## Population Size"
   ]
  },
  {
   "cell_type": "code",
   "execution_count": null,
   "metadata": {
    "collapsed": true
   },
   "outputs": [],
   "source": [
    "population_total = getSpecificDf(all_df, 'SP.POP.TOTL')"
   ]
  },
  {
   "cell_type": "code",
   "execution_count": null,
   "metadata": {
    "collapsed": true
   },
   "outputs": [],
   "source": [
    "population_total.to_csv('../refugee_data_dv/population_size.csv', index=False)"
   ]
  },
  {
   "cell_type": "markdown",
   "metadata": {
    "collapsed": true
   },
   "source": [
    "## Refugees by origin"
   ]
  },
  {
   "cell_type": "code",
   "execution_count": null,
   "metadata": {
    "collapsed": false
   },
   "outputs": [],
   "source": [
    "refugees_by_origin = getSpecificDf(all_df, 'SM.POP.REFG.OR')"
   ]
  },
  {
   "cell_type": "code",
   "execution_count": null,
   "metadata": {
    "collapsed": false
   },
   "outputs": [],
   "source": [
    "refugees_by_origin.to_csv('../refugee_data_dv/refugees_by_origin.csv', index=False)"
   ]
  },
  {
   "cell_type": "markdown",
   "metadata": {},
   "source": [
    "### Refugees as percent of population"
   ]
  },
  {
   "cell_type": "code",
   "execution_count": null,
   "metadata": {
    "collapsed": true
   },
   "outputs": [],
   "source": [
    "population_total2 = population_total.set_index('CountryCode')"
   ]
  },
  {
   "cell_type": "code",
   "execution_count": null,
   "metadata": {
    "collapsed": false
   },
   "outputs": [],
   "source": [
    "refugees_by_origin2 = refugees_by_origin.set_index('CountryCode')"
   ]
  },
  {
   "cell_type": "code",
   "execution_count": null,
   "metadata": {
    "collapsed": false
   },
   "outputs": [],
   "source": [
    "countries = refugees_by_origin.iloc[:,:2]\n",
    "countries.index = countries['CountryCode']"
   ]
  },
  {
   "cell_type": "code",
   "execution_count": null,
   "metadata": {
    "collapsed": false
   },
   "outputs": [],
   "source": [
    "refugees_fraction = refugees_by_origin2.iloc[:,1:].divide(population_total2.iloc[:,1:]).dropna(axis=1, how='all').dropna(axis=0, how='all')"
   ]
  },
  {
   "cell_type": "code",
   "execution_count": null,
   "metadata": {
    "collapsed": false,
    "scrolled": false
   },
   "outputs": [],
   "source": [
    "refugees_fraction = pd.concat([countries, refugees_fraction], axis=1, join='outer')"
   ]
  },
  {
   "cell_type": "code",
   "execution_count": null,
   "metadata": {
    "collapsed": false
   },
   "outputs": [],
   "source": [
    "refugees_fraction.reset_index(drop=True, inplace=True)"
   ]
  },
  {
   "cell_type": "code",
   "execution_count": null,
   "metadata": {
    "collapsed": false
   },
   "outputs": [],
   "source": [
    "refugees_fraction.to_csv('../refugee_data_dv/refugees_fraction.csv', index=False)"
   ]
  },
  {
   "cell_type": "markdown",
   "metadata": {},
   "source": [
    "#### Z - scores"
   ]
  },
  {
   "cell_type": "code",
   "execution_count": null,
   "metadata": {
    "collapsed": false
   },
   "outputs": [],
   "source": [
    "refugees_fraction_z = deepcopy(refugees_fraction)\n",
    "for col in refugees_fraction.columns[2:]:\n",
    "    refugees_fraction_z[col] = (refugees_fraction[col] - refugees_fraction[col].mean())/refugees_fraction[col].std(ddof=0)\n",
    "    \n",
    "refugees_fraction_z.to_csv('../refugee_data_dv/refugees_fraction_z.csv', index=False)"
   ]
  },
  {
   "cell_type": "markdown",
   "metadata": {
    "collapsed": true
   },
   "source": [
    "## Youth Literacy age 15-24"
   ]
  },
  {
   "cell_type": "code",
   "execution_count": null,
   "metadata": {
    "collapsed": false
   },
   "outputs": [],
   "source": [
    "youth_literacy = getSpecificDf(all_df, 'SE.ADT.1524.LT.ZS')"
   ]
  },
  {
   "cell_type": "code",
   "execution_count": null,
   "metadata": {
    "collapsed": false
   },
   "outputs": [],
   "source": [
    "youth_literacy.to_csv('world_bank_data/youth_literacy.csv', index=False)"
   ]
  },
  {
   "cell_type": "markdown",
   "metadata": {
    "collapsed": true
   },
   "source": [
    "## Youth Literacy age 15-24"
   ]
  },
  {
   "cell_type": "code",
   "execution_count": null,
   "metadata": {
    "collapsed": true
   },
   "outputs": [],
   "source": [
    "youth_literacy = getSpecificDf(all_df, 'SE.ADT.1524.LT.ZS')"
   ]
  },
  {
   "cell_type": "code",
   "execution_count": null,
   "metadata": {
    "collapsed": true
   },
   "outputs": [],
   "source": [
    "youth_literacy.to_csv('world_bank_data/youth_literacy.csv', index=False)"
   ]
  },
  {
   "cell_type": "markdown",
   "metadata": {
    "collapsed": true
   },
   "source": [
    "## under 5 mortality per 1000"
   ]
  },
  {
   "cell_type": "code",
   "execution_count": null,
   "metadata": {
    "collapsed": true
   },
   "outputs": [],
   "source": [
    "under_5_mortality = getSpecificDf(all_df, 'SH.DYN.MORT')\n",
    "under_5_mortality.to_csv('world_bank_data/under_5_mortality.csv', index=False)"
   ]
  },
  {
   "cell_type": "markdown",
   "metadata": {},
   "source": [
    "## Population, ages 0-14 (% of total)"
   ]
  },
  {
   "cell_type": "code",
   "execution_count": null,
   "metadata": {
    "collapsed": true
   },
   "outputs": [],
   "source": [
    "population_0_14 = getSpecificDf(all_df, 'SP.POP.0014.TO.ZS')\n",
    "population_0_14.to_csv('world_bank_data/population_0_14.csv', index=False)"
   ]
  },
  {
   "cell_type": "markdown",
   "metadata": {},
   "source": [
    "## Population, ages 15-64 (% of total)"
   ]
  },
  {
   "cell_type": "code",
   "execution_count": null,
   "metadata": {
    "collapsed": true
   },
   "outputs": [],
   "source": [
    "population_15_64 = getSpecificDf(all_df, 'SP.POP.1564.TO.ZS')\n",
    "population_15_64.to_csv('world_bank_data/population_15_64.csv', index=False)"
   ]
  },
  {
   "cell_type": "markdown",
   "metadata": {},
   "source": [
    "## Population ages 65 and above (% of total)"
   ]
  },
  {
   "cell_type": "code",
   "execution_count": null,
   "metadata": {
    "collapsed": true
   },
   "outputs": [],
   "source": [
    "population_65_up = getSpecificDf(all_df, 'SP.POP.65UP.TO.ZS')\n",
    "population_65_up.to_csv('world_bank_data/population_65_up.csv', index=False)"
   ]
  },
  {
   "cell_type": "markdown",
   "metadata": {},
   "source": [
    "## Population, female (% of total)"
   ]
  },
  {
   "cell_type": "code",
   "execution_count": null,
   "metadata": {
    "collapsed": true
   },
   "outputs": [],
   "source": [
    "population_female = getSpecificDf(all_df, 'SP.POP.TOTL.FE.ZS')\n",
    "population_female.to_csv('world_bank_data/population_female.csv', index=False)"
   ]
  },
  {
   "cell_type": "markdown",
   "metadata": {},
   "source": [
    "## Population growth (annual %)"
   ]
  },
  {
   "cell_type": "code",
   "execution_count": null,
   "metadata": {
    "collapsed": true
   },
   "outputs": [],
   "source": [
    "population_growth = getSpecificDf(all_df, 'SP.POP.GROW')\n",
    "population_growth.to_csv('world_bank_data/population_growth.csv', index=False)"
   ]
  },
  {
   "cell_type": "markdown",
   "metadata": {},
   "source": [
    "*\n",
    "*\n",
    "*\n",
    "## These are Dan's features\n",
    "*\n",
    "*\n",
    "* yee *"
   ]
  },
  {
   "cell_type": "markdown",
   "metadata": {
    "collapsed": true
   },
   "source": [
    "## Vulnerable employment, male (% of male employment)"
   ]
  },
  {
   "cell_type": "code",
   "execution_count": 67,
   "metadata": {
    "collapsed": false
   },
   "outputs": [],
   "source": [
    "vulnerable_employment_m = getSpecificDf(all_df, 'SL.EMP.VULN.MA.ZS')\n",
    "vulnerable_employment_m.to_csv('world_bank_data/vulnerable_employment_m.csv', index=False)"
   ]
  },
  {
   "cell_type": "markdown",
   "metadata": {},
   "source": [
    "## Vulnerable employment, female (% of female employment)"
   ]
  },
  {
   "cell_type": "code",
   "execution_count": 51,
   "metadata": {
    "collapsed": true
   },
   "outputs": [],
   "source": [
    "vulnerable_employment_f = getSpecificDf(all_df, 'SL.EMP.VULN.FE.ZS')\n",
    "vulnerable_employment_f.to_csv('world_bank_data/vulnerable_employment_f.csv', index=False)"
   ]
  },
  {
   "cell_type": "markdown",
   "metadata": {},
   "source": [
    "## Electric power consumption (kWh per capita)"
   ]
  },
  {
   "cell_type": "code",
   "execution_count": 52,
   "metadata": {
    "collapsed": true
   },
   "outputs": [],
   "source": [
    "elec_per_capita = getSpecificDf(all_df, 'EG.USE.ELEC.KH.PC')\n",
    "elec_per_capita.to_csv('world_bank_data/elec_per_capita.csv', index=False)"
   ]
  },
  {
   "cell_type": "markdown",
   "metadata": {},
   "source": [
    "## Unemployment, total (% of total labor force)"
   ]
  },
  {
   "cell_type": "code",
   "execution_count": 53,
   "metadata": {
    "collapsed": true
   },
   "outputs": [],
   "source": [
    "unemployment = getSpecificDf(all_df, 'SL.UEM.TOTL.ZS')\n",
    "unemployment.to_csv('world_bank_data/unemployment.csv', index=False)"
   ]
  },
  {
   "cell_type": "markdown",
   "metadata": {},
   "source": [
    "## GDP growth (annual %)"
   ]
  },
  {
   "cell_type": "code",
   "execution_count": 54,
   "metadata": {
    "collapsed": false
   },
   "outputs": [],
   "source": [
    "gdp_growth = getSpecificDf(all_df, 'NY.GDP.MKTP.KD.ZG')\n",
    "gdp_growth.to_csv('world_bank_data/gdp_growth.csv', index=False)"
   ]
  },
  {
   "cell_type": "markdown",
   "metadata": {},
   "source": [
    "## Labor force participation rate, total (% of total population ages 15+) (modeled ILO estimate)"
   ]
  },
  {
   "cell_type": "code",
   "execution_count": 55,
   "metadata": {
    "collapsed": true
   },
   "outputs": [],
   "source": [
    "labor_force_participation = getSpecificDf(all_df, 'SL.TLF.CACT.ZS')\n",
    "labor_force_participation.to_csv('world_bank_data/labor_force_participation.csv', index=False)"
   ]
  },
  {
   "cell_type": "markdown",
   "metadata": {},
   "source": [
    "## Rural poverty headcount ratio at national poverty lines (% of rural population)"
   ]
  },
  {
   "cell_type": "code",
   "execution_count": 56,
   "metadata": {
    "collapsed": true
   },
   "outputs": [],
   "source": [
    "rural_pop_in_poverty = getSpecificDf(all_df, 'SI.POV.RUHC')\n",
    "rural_pop_in_poverty.to_csv('world_bank_data/rural_pop_in_poverty.csv', index=False)"
   ]
  },
  {
   "cell_type": "markdown",
   "metadata": {},
   "source": [
    "## Access to improved sanitation"
   ]
  },
  {
   "cell_type": "code",
   "execution_count": 57,
   "metadata": {
    "collapsed": true
   },
   "outputs": [],
   "source": [
    "have_sanitation = getSpecificDf(all_df, 'SH.STA.ACSN')\n",
    "have_sanitation.to_csv('world_bank_data/have_good_sanitation.csv', index=False)"
   ]
  },
  {
   "cell_type": "markdown",
   "metadata": {},
   "source": [
    "## Population (total)"
   ]
  },
  {
   "cell_type": "code",
   "execution_count": 58,
   "metadata": {
    "collapsed": false
   },
   "outputs": [],
   "source": [
    "population_total = getSpecificDf(all_df, 'SP.POP.TOTL')\n",
    "population_total.to_csv('world_bank_data/population_total.csv', index=False)"
   ]
  },
  {
   "cell_type": "markdown",
   "metadata": {
    "collapsed": true
   },
   "source": [
    "## Adolescent fertility rate (births per 1,000 women ages 15-19)"
   ]
  },
  {
   "cell_type": "code",
   "execution_count": 59,
   "metadata": {
    "collapsed": true
   },
   "outputs": [],
   "source": [
    "youth_pregnancy = getSpecificDf(all_df, 'SP.ADO.TFRT')\n",
    "youth_pregnancy.to_csv('world_bank_data/adolescent_fertility.csv', index=False)"
   ]
  },
  {
   "cell_type": "markdown",
   "metadata": {},
   "source": [
    "## Mobile cellular subscriptions (per 100 people)\n"
   ]
  },
  {
   "cell_type": "code",
   "execution_count": 60,
   "metadata": {
    "collapsed": true
   },
   "outputs": [],
   "source": [
    "cell_phones_per100 = getSpecificDf(all_df, 'IT.CEL.SETS.P2')\n",
    "cell_phones_per100.to_csv('world_bank_data/cell_phones_per100.csv', index=False)"
   ]
  },
  {
   "cell_type": "markdown",
   "metadata": {},
   "source": [
    "## Internet users (per 100 people)\n",
    "T.NET.USER.P2"
   ]
  },
  {
   "cell_type": "code",
   "execution_count": 61,
   "metadata": {
    "collapsed": true
   },
   "outputs": [],
   "source": [
    "internet_per100 = getSpecificDf(all_df, 'IT.CEL.SETS.P2')\n",
    "internet_per100.to_csv('world_bank_data/internet_per100.csv', index=False)"
   ]
  },
  {
   "cell_type": "code",
   "execution_count": null,
   "metadata": {
    "collapsed": true
   },
   "outputs": [],
   "source": []
  },
  {
   "cell_type": "code",
   "execution_count": null,
   "metadata": {
    "collapsed": true
   },
   "outputs": [],
   "source": []
  },
  {
   "cell_type": "code",
   "execution_count": null,
   "metadata": {
    "collapsed": true
   },
   "outputs": [],
   "source": []
  }
 ],
 "metadata": {
  "kernelspec": {
   "display_name": "Python 2",
   "language": "python",
   "name": "python2"
  },
  "language_info": {
   "codemirror_mode": {
    "name": "ipython",
    "version": 2
   },
   "file_extension": ".py",
   "mimetype": "text/x-python",
   "name": "python",
   "nbconvert_exporter": "python",
   "pygments_lexer": "ipython2",
   "version": "2.7.11"
  }
 },
 "nbformat": 4,
 "nbformat_minor": 0
}
