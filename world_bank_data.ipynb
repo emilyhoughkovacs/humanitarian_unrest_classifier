{
 "cells": [
  {
   "cell_type": "markdown",
   "metadata": {},
   "source": [
    "# World Bank Data\n",
    "\n",
    "## This data was taken from the dataset on [Kaggle](https://www.kaggle.com/worldbank/world-development-indicators)"
   ]
  },
  {
   "cell_type": "code",
   "execution_count": 1,
   "metadata": {
    "collapsed": true
   },
   "outputs": [],
   "source": [
    "import pandas as pd\n",
    "import numpy as np\n",
    "from copy import deepcopy"
   ]
  },
  {
   "cell_type": "code",
   "execution_count": 2,
   "metadata": {
    "collapsed": true
   },
   "outputs": [],
   "source": [
    "def readData(filename):\n",
    "    with open(filename) as f:\n",
    "        data = pd.read_csv(f)\n",
    "        \n",
    "    return data"
   ]
  },
  {
   "cell_type": "code",
   "execution_count": 3,
   "metadata": {
    "collapsed": false
   },
   "outputs": [],
   "source": [
    "all_df = readData('world-development-indicators/indicators.csv')"
   ]
  },
  {
   "cell_type": "code",
   "execution_count": 52,
   "metadata": {
    "collapsed": true
   },
   "outputs": [],
   "source": [
    "def getSpecificDf(all_df, indicatorcode):\n",
    "    specific_indicator = all_df[all_df.IndicatorCode == indicatorcode]\n",
    "    years = list(range(1960, 2014))\n",
    "    col_names = ['CountryCode', 'CountryName'] + years\n",
    "    specific_indicator = specific_indicator[['CountryCode', 'CountryName', 'Year', 'Value']]\n",
    "    for year in years:\n",
    "        specific_indicator[year] = np.nan\n",
    "    \n",
    "    for index, row in specific_indicator.iterrows():\n",
    "        row_value = deepcopy(row.Value)\n",
    "        specific_indicator.loc[index, row.Year] = row_value\n",
    "\n",
    "    specific_indicator = specific_indicator[col_names]\n",
    "    specific_indicator_formatted = life_expectancy.groupby([life_expectancy.CountryCode, life_expectancy.CountryName]).sum()\n",
    "    specific_indicator_formatted.reset_index(inplace=True)\n",
    "    \n",
    "    return specific_indicator_formatted"
   ]
  },
  {
   "cell_type": "markdown",
   "metadata": {},
   "source": [
    "## Life Expectancy"
   ]
  },
  {
   "cell_type": "code",
   "execution_count": 54,
   "metadata": {
    "collapsed": false
   },
   "outputs": [],
   "source": [
    "life_expectancy = getSpecificDf(all_df, 'SP.DYN.LE00.IN')"
   ]
  },
  {
   "cell_type": "code",
   "execution_count": 56,
   "metadata": {
    "collapsed": true
   },
   "outputs": [],
   "source": [
    "life_expectancy.to_csv('world_bank_data/life_expectancy.csv', index=False)"
   ]
  },
  {
   "cell_type": "code",
   "execution_count": null,
   "metadata": {
    "collapsed": true
   },
   "outputs": [],
   "source": []
  }
 ],
 "metadata": {
  "kernelspec": {
   "display_name": "Python 3",
   "language": "python",
   "name": "python3"
  },
  "language_info": {
   "codemirror_mode": {
    "name": "ipython",
    "version": 3
   },
   "file_extension": ".py",
   "mimetype": "text/x-python",
   "name": "python",
   "nbconvert_exporter": "python",
   "pygments_lexer": "ipython3",
   "version": "3.5.0"
  }
 },
 "nbformat": 4,
 "nbformat_minor": 0
}
