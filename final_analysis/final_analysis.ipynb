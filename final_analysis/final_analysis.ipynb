{
 "cells": [
  {
   "cell_type": "code",
   "execution_count": 64,
   "metadata": {
    "collapsed": false
   },
   "outputs": [],
   "source": [
    "from refugee_analysis import *"
   ]
  },
  {
   "cell_type": "markdown",
   "metadata": {},
   "source": [
    "### Ken M Data Import"
   ]
  },
  {
   "cell_type": "code",
   "execution_count": 3,
   "metadata": {
    "collapsed": true
   },
   "outputs": [],
   "source": [
    "ken_m_data = getpickle('ken_m_data.pkl')"
   ]
  },
  {
   "cell_type": "code",
   "execution_count": 4,
   "metadata": {
    "collapsed": false
   },
   "outputs": [
    {
     "data": {
      "text/html": [
       "<div>\n",
       "<table border=\"1\" class=\"dataframe\">\n",
       "  <thead>\n",
       "    <tr style=\"text-align: right;\">\n",
       "      <th></th>\n",
       "      <th></th>\n",
       "      <th>civil_liberties</th>\n",
       "      <th>political_rights</th>\n",
       "      <th>female_legislators</th>\n",
       "      <th>population_growth</th>\n",
       "      <th>population_female</th>\n",
       "      <th>life_expectancy</th>\n",
       "      <th>population_15_64</th>\n",
       "      <th>zscores</th>\n",
       "    </tr>\n",
       "    <tr>\n",
       "      <th>year</th>\n",
       "      <th>countrycode</th>\n",
       "      <th></th>\n",
       "      <th></th>\n",
       "      <th></th>\n",
       "      <th></th>\n",
       "      <th></th>\n",
       "      <th></th>\n",
       "      <th></th>\n",
       "      <th></th>\n",
       "    </tr>\n",
       "  </thead>\n",
       "  <tbody>\n",
       "    <tr>\n",
       "      <th rowspan=\"5\" valign=\"top\">2008</th>\n",
       "      <th>AFG</th>\n",
       "      <td>6</td>\n",
       "      <td>5</td>\n",
       "      <td>27.7</td>\n",
       "      <td>2.485315</td>\n",
       "      <td>48.512909</td>\n",
       "      <td>58.225024</td>\n",
       "      <td>49.946087</td>\n",
       "      <td>1</td>\n",
       "    </tr>\n",
       "    <tr>\n",
       "      <th>AGO</th>\n",
       "      <td>5</td>\n",
       "      <td>6</td>\n",
       "      <td>37.3</td>\n",
       "      <td>3.374180</td>\n",
       "      <td>50.493712</td>\n",
       "      <td>49.847390</td>\n",
       "      <td>49.356104</td>\n",
       "      <td>1</td>\n",
       "    </tr>\n",
       "    <tr>\n",
       "      <th>ALB</th>\n",
       "      <td>3</td>\n",
       "      <td>3</td>\n",
       "      <td>7.1</td>\n",
       "      <td>-0.767343</td>\n",
       "      <td>49.610212</td>\n",
       "      <td>76.632317</td>\n",
       "      <td>66.816430</td>\n",
       "      <td>1</td>\n",
       "    </tr>\n",
       "    <tr>\n",
       "      <th>ARE</th>\n",
       "      <td>5</td>\n",
       "      <td>6</td>\n",
       "      <td>22.5</td>\n",
       "      <td>13.810060</td>\n",
       "      <td>25.880062</td>\n",
       "      <td>76.307756</td>\n",
       "      <td>84.600650</td>\n",
       "      <td>0</td>\n",
       "    </tr>\n",
       "    <tr>\n",
       "      <th>ARG</th>\n",
       "      <td>2</td>\n",
       "      <td>2</td>\n",
       "      <td>40.0</td>\n",
       "      <td>1.025393</td>\n",
       "      <td>51.087196</td>\n",
       "      <td>75.166268</td>\n",
       "      <td>63.456290</td>\n",
       "      <td>0</td>\n",
       "    </tr>\n",
       "  </tbody>\n",
       "</table>\n",
       "</div>"
      ],
      "text/plain": [
       "                  civil_liberties  political_rights  female_legislators  \\\n",
       "year countrycode                                                          \n",
       "2008 AFG                        6                 5                27.7   \n",
       "     AGO                        5                 6                37.3   \n",
       "     ALB                        3                 3                 7.1   \n",
       "     ARE                        5                 6                22.5   \n",
       "     ARG                        2                 2                40.0   \n",
       "\n",
       "                  population_growth  population_female  life_expectancy  \\\n",
       "year countrycode                                                          \n",
       "2008 AFG                   2.485315          48.512909        58.225024   \n",
       "     AGO                   3.374180          50.493712        49.847390   \n",
       "     ALB                  -0.767343          49.610212        76.632317   \n",
       "     ARE                  13.810060          25.880062        76.307756   \n",
       "     ARG                   1.025393          51.087196        75.166268   \n",
       "\n",
       "                  population_15_64  zscores  \n",
       "year countrycode                             \n",
       "2008 AFG                 49.946087        1  \n",
       "     AGO                 49.356104        1  \n",
       "     ALB                 66.816430        1  \n",
       "     ARE                 84.600650        0  \n",
       "     ARG                 63.456290        0  "
      ]
     },
     "execution_count": 4,
     "metadata": {},
     "output_type": "execute_result"
    }
   ],
   "source": [
    "ken_m_data.head()"
   ]
  },
  {
   "cell_type": "markdown",
   "metadata": {},
   "source": [
    "### Ken C Data Import"
   ]
  },
  {
   "cell_type": "code",
   "execution_count": 51,
   "metadata": {
    "collapsed": true
   },
   "outputs": [],
   "source": [
    "ken_c_data = pd.read_csv('securitydataset(complete).csv')"
   ]
  },
  {
   "cell_type": "markdown",
   "metadata": {},
   "source": [
    "a    Number of Armed Conflict during Calendar Year    discrete\n",
    "\n",
    "b    Nature of Conflict: Government/Governance    categorical (0-1 range)\n",
    "\n",
    "c    Nature of Conflict: Territory    categorical (0-1 range)\n",
    "\n",
    "d    Number Killed during Calendar Year    categorical (0-2 range)\n",
    "\n",
    "e    Cummulative Intensity (Total deaths > 1000)    categorical (0-1 range)\n",
    "\n",
    "f    EAC    categorical (0-1 range)\n",
    "\n",
    "g    IIAC    categorical (0-1 range)\n",
    "\n",
    "h    InternalAC    categorical (0-1 range)\n",
    "\n",
    "i    InterstateAC    categorical (0-1 range)"
   ]
  },
  {
   "cell_type": "code",
   "execution_count": 52,
   "metadata": {
    "collapsed": false,
    "scrolled": true
   },
   "outputs": [],
   "source": [
    "ken_c_data = ken_c_data.set_index(['year', 'countrycode']).sort_index()"
   ]
  },
  {
   "cell_type": "code",
   "execution_count": 53,
   "metadata": {
    "collapsed": true
   },
   "outputs": [],
   "source": [
    "ken_c_cat_names = ['a','b','c','d','e','f','g','h','i']\n",
    "ken_c_preferred_names = ['NumArmedConflicts',\\\n",
    "                         'NatureOfConflictGov',\\\n",
    "                         'NatureOfConflictTerr',\\\n",
    "                         'NumKilled',\\\n",
    "                         'CummIntensity',\\\n",
    "                         'EAC',\\\n",
    "                         'IIAC',\\\n",
    "                         'InternalAC',\\\n",
    "                         'InterstateAC']\n",
    "columns_wanted = ['peace_index', 'terror_index'] + ken_c_preferred_names"
   ]
  },
  {
   "cell_type": "code",
   "execution_count": 54,
   "metadata": {
    "collapsed": false
   },
   "outputs": [],
   "source": [
    "for i, column in enumerate(ken_c_cat_names):\n",
    "    ken_c_data[ken_c_preferred_names[i]] = ken_c_data[column]\n",
    "    \n",
    "ken_c_data = ken_c_data[columns_wanted]"
   ]
  },
  {
   "cell_type": "code",
   "execution_count": 55,
   "metadata": {
    "collapsed": false,
    "scrolled": true
   },
   "outputs": [
    {
     "data": {
      "text/html": [
       "<div>\n",
       "<table border=\"1\" class=\"dataframe\">\n",
       "  <thead>\n",
       "    <tr style=\"text-align: right;\">\n",
       "      <th></th>\n",
       "      <th></th>\n",
       "      <th>peace_index</th>\n",
       "      <th>terror_index</th>\n",
       "      <th>NumArmedConflicts</th>\n",
       "      <th>NatureOfConflictGov</th>\n",
       "      <th>NatureOfConflictTerr</th>\n",
       "      <th>NumKilled</th>\n",
       "      <th>CummIntensity</th>\n",
       "      <th>EAC</th>\n",
       "      <th>IIAC</th>\n",
       "      <th>InternalAC</th>\n",
       "      <th>InterstateAC</th>\n",
       "    </tr>\n",
       "    <tr>\n",
       "      <th>year</th>\n",
       "      <th>countrycode</th>\n",
       "      <th></th>\n",
       "      <th></th>\n",
       "      <th></th>\n",
       "      <th></th>\n",
       "      <th></th>\n",
       "      <th></th>\n",
       "      <th></th>\n",
       "      <th></th>\n",
       "      <th></th>\n",
       "      <th></th>\n",
       "      <th></th>\n",
       "    </tr>\n",
       "  </thead>\n",
       "  <tbody>\n",
       "    <tr>\n",
       "      <th rowspan=\"5\" valign=\"top\">2008</th>\n",
       "      <th>AFG</th>\n",
       "      <td>2.983</td>\n",
       "      <td>8.011</td>\n",
       "      <td>1</td>\n",
       "      <td>1</td>\n",
       "      <td>0</td>\n",
       "      <td>2</td>\n",
       "      <td>1</td>\n",
       "      <td>0</td>\n",
       "      <td>1</td>\n",
       "      <td>0</td>\n",
       "      <td>0</td>\n",
       "    </tr>\n",
       "    <tr>\n",
       "      <th>AGO</th>\n",
       "      <td>2.132</td>\n",
       "      <td>0.000</td>\n",
       "      <td>0</td>\n",
       "      <td>0</td>\n",
       "      <td>0</td>\n",
       "      <td>0</td>\n",
       "      <td>0</td>\n",
       "      <td>0</td>\n",
       "      <td>0</td>\n",
       "      <td>0</td>\n",
       "      <td>0</td>\n",
       "    </tr>\n",
       "    <tr>\n",
       "      <th>ALB</th>\n",
       "      <td>1.911</td>\n",
       "      <td>0.000</td>\n",
       "      <td>0</td>\n",
       "      <td>0</td>\n",
       "      <td>0</td>\n",
       "      <td>0</td>\n",
       "      <td>0</td>\n",
       "      <td>0</td>\n",
       "      <td>0</td>\n",
       "      <td>0</td>\n",
       "      <td>0</td>\n",
       "    </tr>\n",
       "    <tr>\n",
       "      <th>ARE</th>\n",
       "      <td>1.584</td>\n",
       "      <td>0.000</td>\n",
       "      <td>0</td>\n",
       "      <td>0</td>\n",
       "      <td>0</td>\n",
       "      <td>0</td>\n",
       "      <td>0</td>\n",
       "      <td>0</td>\n",
       "      <td>0</td>\n",
       "      <td>0</td>\n",
       "      <td>0</td>\n",
       "    </tr>\n",
       "    <tr>\n",
       "      <th>ARG</th>\n",
       "      <td>1.791</td>\n",
       "      <td>0.363</td>\n",
       "      <td>0</td>\n",
       "      <td>0</td>\n",
       "      <td>0</td>\n",
       "      <td>0</td>\n",
       "      <td>0</td>\n",
       "      <td>0</td>\n",
       "      <td>0</td>\n",
       "      <td>0</td>\n",
       "      <td>0</td>\n",
       "    </tr>\n",
       "  </tbody>\n",
       "</table>\n",
       "</div>"
      ],
      "text/plain": [
       "                  peace_index  terror_index  NumArmedConflicts  \\\n",
       "year countrycode                                                 \n",
       "2008 AFG                2.983         8.011                  1   \n",
       "     AGO                2.132         0.000                  0   \n",
       "     ALB                1.911         0.000                  0   \n",
       "     ARE                1.584         0.000                  0   \n",
       "     ARG                1.791         0.363                  0   \n",
       "\n",
       "                  NatureOfConflictGov  NatureOfConflictTerr  NumKilled  \\\n",
       "year countrycode                                                         \n",
       "2008 AFG                            1                     0          2   \n",
       "     AGO                            0                     0          0   \n",
       "     ALB                            0                     0          0   \n",
       "     ARE                            0                     0          0   \n",
       "     ARG                            0                     0          0   \n",
       "\n",
       "                  CummIntensity  EAC  IIAC  InternalAC  InterstateAC  \n",
       "year countrycode                                                      \n",
       "2008 AFG                      1    0     1           0             0  \n",
       "     AGO                      0    0     0           0             0  \n",
       "     ALB                      0    0     0           0             0  \n",
       "     ARE                      0    0     0           0             0  \n",
       "     ARG                      0    0     0           0             0  "
      ]
     },
     "execution_count": 55,
     "metadata": {},
     "output_type": "execute_result"
    }
   ],
   "source": [
    "ken_c_data.head()"
   ]
  },
  {
   "cell_type": "markdown",
   "metadata": {},
   "source": [
    "### Dan Data Import"
   ]
  },
  {
   "cell_type": "code",
   "execution_count": 74,
   "metadata": {
    "collapsed": true
   },
   "outputs": [],
   "source": [
    "dan_data = getpickle('dan_data.pkl')"
   ]
  },
  {
   "cell_type": "code",
   "execution_count": 76,
   "metadata": {
    "collapsed": false
   },
   "outputs": [
    {
     "data": {
      "text/html": [
       "<div>\n",
       "<table border=\"1\" class=\"dataframe\">\n",
       "  <thead>\n",
       "    <tr style=\"text-align: right;\">\n",
       "      <th></th>\n",
       "      <th></th>\n",
       "      <th>adolescent_fertility</th>\n",
       "      <th>have_good_sanitation</th>\n",
       "      <th>labor_force_participation</th>\n",
       "      <th>population_total</th>\n",
       "      <th>unemployment</th>\n",
       "      <th>inflation</th>\n",
       "      <th>population_65_up</th>\n",
       "    </tr>\n",
       "    <tr>\n",
       "      <th>year</th>\n",
       "      <th>countrycode</th>\n",
       "      <th></th>\n",
       "      <th></th>\n",
       "      <th></th>\n",
       "      <th></th>\n",
       "      <th></th>\n",
       "      <th></th>\n",
       "      <th></th>\n",
       "    </tr>\n",
       "  </thead>\n",
       "  <tbody>\n",
       "    <tr>\n",
       "      <th rowspan=\"5\" valign=\"top\">2008</th>\n",
       "      <th>AFG</th>\n",
       "      <td>111.470800</td>\n",
       "      <td>28.000000</td>\n",
       "      <td>48.000000</td>\n",
       "      <td>26528741</td>\n",
       "      <td>8.900000</td>\n",
       "      <td>30.554941</td>\n",
       "      <td>2.228685</td>\n",
       "    </tr>\n",
       "    <tr>\n",
       "      <th>AGO</th>\n",
       "      <td>185.912000</td>\n",
       "      <td>43.300000</td>\n",
       "      <td>69.099998</td>\n",
       "      <td>19842251</td>\n",
       "      <td>6.800000</td>\n",
       "      <td>12.473713</td>\n",
       "      <td>2.377921</td>\n",
       "    </tr>\n",
       "    <tr>\n",
       "      <th>ALB</th>\n",
       "      <td>19.039600</td>\n",
       "      <td>89.600000</td>\n",
       "      <td>55.900002</td>\n",
       "      <td>2947314</td>\n",
       "      <td>13.000000</td>\n",
       "      <td>3.359242</td>\n",
       "      <td>9.960492</td>\n",
       "    </tr>\n",
       "    <tr>\n",
       "      <th>ARB</th>\n",
       "      <td>49.901458</td>\n",
       "      <td>77.435752</td>\n",
       "      <td>49.229262</td>\n",
       "      <td>336662433</td>\n",
       "      <td>10.504797</td>\n",
       "      <td>11.270665</td>\n",
       "      <td>4.147783</td>\n",
       "    </tr>\n",
       "    <tr>\n",
       "      <th>ARE</th>\n",
       "      <td>29.422600</td>\n",
       "      <td>97.500000</td>\n",
       "      <td>77.099998</td>\n",
       "      <td>6900142</td>\n",
       "      <td>4.000000</td>\n",
       "      <td>12.250420</td>\n",
       "      <td>0.717594</td>\n",
       "    </tr>\n",
       "  </tbody>\n",
       "</table>\n",
       "</div>"
      ],
      "text/plain": [
       "                  adolescent_fertility  have_good_sanitation  \\\n",
       "year countrycode                                               \n",
       "2008 AFG                    111.470800             28.000000   \n",
       "     AGO                    185.912000             43.300000   \n",
       "     ALB                     19.039600             89.600000   \n",
       "     ARB                     49.901458             77.435752   \n",
       "     ARE                     29.422600             97.500000   \n",
       "\n",
       "                  labor_force_participation  population_total  unemployment  \\\n",
       "year countrycode                                                              \n",
       "2008 AFG                          48.000000          26528741      8.900000   \n",
       "     AGO                          69.099998          19842251      6.800000   \n",
       "     ALB                          55.900002           2947314     13.000000   \n",
       "     ARB                          49.229262         336662433     10.504797   \n",
       "     ARE                          77.099998           6900142      4.000000   \n",
       "\n",
       "                  inflation  population_65_up  \n",
       "year countrycode                               \n",
       "2008 AFG          30.554941          2.228685  \n",
       "     AGO          12.473713          2.377921  \n",
       "     ALB           3.359242          9.960492  \n",
       "     ARB          11.270665          4.147783  \n",
       "     ARE          12.250420          0.717594  "
      ]
     },
     "execution_count": 76,
     "metadata": {},
     "output_type": "execute_result"
    }
   ],
   "source": [
    "dan_data.head()"
   ]
  },
  {
   "cell_type": "markdown",
   "metadata": {},
   "source": [
    "### Bryan Data Import"
   ]
  },
  {
   "cell_type": "code",
   "execution_count": 61,
   "metadata": {
    "collapsed": true
   },
   "outputs": [],
   "source": [
    "bryan_data = getpickle('bryan_data.pkl').sort_index()"
   ]
  },
  {
   "cell_type": "code",
   "execution_count": 63,
   "metadata": {
    "collapsed": false
   },
   "outputs": [
    {
     "data": {
      "text/html": [
       "<div>\n",
       "<table border=\"1\" class=\"dataframe\">\n",
       "  <thead>\n",
       "    <tr style=\"text-align: right;\">\n",
       "      <th></th>\n",
       "      <th></th>\n",
       "      <th>gdp_ppp</th>\n",
       "      <th>food_production_dom</th>\n",
       "      <th>labor_force_participation</th>\n",
       "      <th>youth_unemployment</th>\n",
       "      <th>foreign_investment</th>\n",
       "      <th>zscores</th>\n",
       "    </tr>\n",
       "    <tr>\n",
       "      <th>countrycode</th>\n",
       "      <th>year</th>\n",
       "      <th></th>\n",
       "      <th></th>\n",
       "      <th></th>\n",
       "      <th></th>\n",
       "      <th></th>\n",
       "      <th></th>\n",
       "    </tr>\n",
       "  </thead>\n",
       "  <tbody>\n",
       "    <tr>\n",
       "      <th rowspan=\"5\" valign=\"top\">AFG</th>\n",
       "      <th>2009</th>\n",
       "      <td>-0.810522</td>\n",
       "      <td>0.070424</td>\n",
       "      <td>-1.534400</td>\n",
       "      <td>-0.697446</td>\n",
       "      <td>-0.285341</td>\n",
       "      <td>1</td>\n",
       "    </tr>\n",
       "    <tr>\n",
       "      <th>2010</th>\n",
       "      <td>-0.805087</td>\n",
       "      <td>0.036225</td>\n",
       "      <td>-1.524577</td>\n",
       "      <td>-0.697446</td>\n",
       "      <td>-0.286011</td>\n",
       "      <td>1</td>\n",
       "    </tr>\n",
       "    <tr>\n",
       "      <th>2011</th>\n",
       "      <td>-0.800713</td>\n",
       "      <td>-0.244205</td>\n",
       "      <td>-1.534400</td>\n",
       "      <td>-0.697446</td>\n",
       "      <td>-0.285995</td>\n",
       "      <td>1</td>\n",
       "    </tr>\n",
       "    <tr>\n",
       "      <th>2012</th>\n",
       "      <td>-0.789136</td>\n",
       "      <td>0.389262</td>\n",
       "      <td>-1.544223</td>\n",
       "      <td>-0.697446</td>\n",
       "      <td>-0.285977</td>\n",
       "      <td>1</td>\n",
       "    </tr>\n",
       "    <tr>\n",
       "      <th>2013</th>\n",
       "      <td>-0.788877</td>\n",
       "      <td>0.245627</td>\n",
       "      <td>-1.544223</td>\n",
       "      <td>-0.697446</td>\n",
       "      <td>-0.286079</td>\n",
       "      <td>1</td>\n",
       "    </tr>\n",
       "  </tbody>\n",
       "</table>\n",
       "</div>"
      ],
      "text/plain": [
       "                   gdp_ppp  food_production_dom  labor_force_participation  \\\n",
       "countrycode year                                                             \n",
       "AFG         2009 -0.810522             0.070424                  -1.534400   \n",
       "            2010 -0.805087             0.036225                  -1.524577   \n",
       "            2011 -0.800713            -0.244205                  -1.534400   \n",
       "            2012 -0.789136             0.389262                  -1.544223   \n",
       "            2013 -0.788877             0.245627                  -1.544223   \n",
       "\n",
       "                  youth_unemployment  foreign_investment  zscores  \n",
       "countrycode year                                                   \n",
       "AFG         2009           -0.697446           -0.285341        1  \n",
       "            2010           -0.697446           -0.286011        1  \n",
       "            2011           -0.697446           -0.285995        1  \n",
       "            2012           -0.697446           -0.285977        1  \n",
       "            2013           -0.697446           -0.286079        1  "
      ]
     },
     "execution_count": 63,
     "metadata": {},
     "output_type": "execute_result"
    }
   ],
   "source": [
    "bryan_data.head()"
   ]
  },
  {
   "cell_type": "code",
   "execution_count": null,
   "metadata": {
    "collapsed": true
   },
   "outputs": [],
   "source": []
  }
 ],
 "metadata": {
  "kernelspec": {
   "display_name": "Python 3",
   "language": "python",
   "name": "python3"
  },
  "language_info": {
   "codemirror_mode": {
    "name": "ipython",
    "version": 3
   },
   "file_extension": ".py",
   "mimetype": "text/x-python",
   "name": "python",
   "nbconvert_exporter": "python",
   "pygments_lexer": "ipython3",
   "version": "3.5.0"
  }
 },
 "nbformat": 4,
 "nbformat_minor": 0
}
