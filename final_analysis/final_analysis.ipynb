{
 "cells": [
  {
   "cell_type": "markdown",
   "metadata": {},
   "source": [
    "# This will be the final analysis of our work\n",
    "The fruits of our labor"
   ]
  },
  {
   "cell_type": "code",
   "execution_count": 1,
   "metadata": {
    "collapsed": false
   },
   "outputs": [
    {
     "name": "stderr",
     "output_type": "stream",
     "text": [
      "/Users/kenn/anaconda/lib/python3.5/site-packages/matplotlib/__init__.py:872: UserWarning: axes.color_cycle is deprecated and replaced with axes.prop_cycle; please use the latter.\n",
      "  warnings.warn(self.msg_depr % (key, alt_key))\n"
     ]
    }
   ],
   "source": [
    "from refugee_analysis import *\n",
    "\n",
    "%matplotlib inline"
   ]
  },
  {
   "cell_type": "markdown",
   "metadata": {},
   "source": [
    "### Ken M Data Import"
   ]
  },
  {
   "cell_type": "code",
   "execution_count": 2,
   "metadata": {
    "collapsed": true
   },
   "outputs": [],
   "source": [
    "ken_m_data = getpickle('ken_m_data.pkl')\n",
    "ken_m_data = ken_m_data[ken_m_data.columns[:-1]]"
   ]
  },
  {
   "cell_type": "code",
   "execution_count": 3,
   "metadata": {
    "collapsed": false,
    "scrolled": true
   },
   "outputs": [
    {
     "data": {
      "text/html": [
       "<div>\n",
       "<table border=\"1\" class=\"dataframe\">\n",
       "  <thead>\n",
       "    <tr style=\"text-align: right;\">\n",
       "      <th></th>\n",
       "      <th></th>\n",
       "      <th>civil_liberties</th>\n",
       "      <th>political_rights</th>\n",
       "      <th>female_legislators</th>\n",
       "      <th>population_growth</th>\n",
       "      <th>population_female</th>\n",
       "      <th>life_expectancy</th>\n",
       "      <th>population_15_64</th>\n",
       "    </tr>\n",
       "    <tr>\n",
       "      <th>year</th>\n",
       "      <th>countrycode</th>\n",
       "      <th></th>\n",
       "      <th></th>\n",
       "      <th></th>\n",
       "      <th></th>\n",
       "      <th></th>\n",
       "      <th></th>\n",
       "      <th></th>\n",
       "    </tr>\n",
       "  </thead>\n",
       "  <tbody>\n",
       "    <tr>\n",
       "      <th rowspan=\"5\" valign=\"top\">2008</th>\n",
       "      <th>AFG</th>\n",
       "      <td>6</td>\n",
       "      <td>5</td>\n",
       "      <td>27.7</td>\n",
       "      <td>2.485315</td>\n",
       "      <td>48.512909</td>\n",
       "      <td>58.225024</td>\n",
       "      <td>49.946087</td>\n",
       "    </tr>\n",
       "    <tr>\n",
       "      <th>AGO</th>\n",
       "      <td>5</td>\n",
       "      <td>6</td>\n",
       "      <td>37.3</td>\n",
       "      <td>3.374180</td>\n",
       "      <td>50.493712</td>\n",
       "      <td>49.847390</td>\n",
       "      <td>49.356104</td>\n",
       "    </tr>\n",
       "    <tr>\n",
       "      <th>ALB</th>\n",
       "      <td>3</td>\n",
       "      <td>3</td>\n",
       "      <td>7.1</td>\n",
       "      <td>-0.767343</td>\n",
       "      <td>49.610212</td>\n",
       "      <td>76.632317</td>\n",
       "      <td>66.816430</td>\n",
       "    </tr>\n",
       "    <tr>\n",
       "      <th>ARE</th>\n",
       "      <td>5</td>\n",
       "      <td>6</td>\n",
       "      <td>22.5</td>\n",
       "      <td>13.810060</td>\n",
       "      <td>25.880062</td>\n",
       "      <td>76.307756</td>\n",
       "      <td>84.600650</td>\n",
       "    </tr>\n",
       "    <tr>\n",
       "      <th>ARG</th>\n",
       "      <td>2</td>\n",
       "      <td>2</td>\n",
       "      <td>40.0</td>\n",
       "      <td>1.025393</td>\n",
       "      <td>51.087196</td>\n",
       "      <td>75.166268</td>\n",
       "      <td>63.456290</td>\n",
       "    </tr>\n",
       "  </tbody>\n",
       "</table>\n",
       "</div>"
      ],
      "text/plain": [
       "                  civil_liberties  political_rights  female_legislators  \\\n",
       "year countrycode                                                          \n",
       "2008 AFG                        6                 5                27.7   \n",
       "     AGO                        5                 6                37.3   \n",
       "     ALB                        3                 3                 7.1   \n",
       "     ARE                        5                 6                22.5   \n",
       "     ARG                        2                 2                40.0   \n",
       "\n",
       "                  population_growth  population_female  life_expectancy  \\\n",
       "year countrycode                                                          \n",
       "2008 AFG                   2.485315          48.512909        58.225024   \n",
       "     AGO                   3.374180          50.493712        49.847390   \n",
       "     ALB                  -0.767343          49.610212        76.632317   \n",
       "     ARE                  13.810060          25.880062        76.307756   \n",
       "     ARG                   1.025393          51.087196        75.166268   \n",
       "\n",
       "                  population_15_64  \n",
       "year countrycode                    \n",
       "2008 AFG                 49.946087  \n",
       "     AGO                 49.356104  \n",
       "     ALB                 66.816430  \n",
       "     ARE                 84.600650  \n",
       "     ARG                 63.456290  "
      ]
     },
     "execution_count": 3,
     "metadata": {},
     "output_type": "execute_result"
    }
   ],
   "source": [
    "ken_m_data.head()"
   ]
  },
  {
   "cell_type": "markdown",
   "metadata": {},
   "source": [
    "### Ken C Data Import"
   ]
  },
  {
   "cell_type": "code",
   "execution_count": 4,
   "metadata": {
    "collapsed": true
   },
   "outputs": [],
   "source": [
    "ken_c_data = pd.read_csv('securitydataset(complete).csv')"
   ]
  },
  {
   "cell_type": "markdown",
   "metadata": {},
   "source": [
    "a    Number of Armed Conflict during Calendar Year    discrete\n",
    "\n",
    "b    Nature of Conflict: Government/Governance    categorical (0-1 range)\n",
    "\n",
    "c    Nature of Conflict: Territory    categorical (0-1 range)\n",
    "\n",
    "d    Number Killed during Calendar Year    categorical (0-2 range)\n",
    "\n",
    "e    Cummulative Intensity (Total deaths > 1000)    categorical (0-1 range)\n",
    "\n",
    "f    EAC    categorical (0-1 range)\n",
    "\n",
    "g    IIAC    categorical (0-1 range)\n",
    "\n",
    "h    InternalAC    categorical (0-1 range)\n",
    "\n",
    "i    InterstateAC    categorical (0-1 range)"
   ]
  },
  {
   "cell_type": "code",
   "execution_count": 5,
   "metadata": {
    "collapsed": false,
    "scrolled": true
   },
   "outputs": [],
   "source": [
    "ken_c_data = ken_c_data.set_index(['year', 'countrycode']).sort_index()"
   ]
  },
  {
   "cell_type": "code",
   "execution_count": 6,
   "metadata": {
    "collapsed": true
   },
   "outputs": [],
   "source": [
    "ken_c_cat_names = ['a','b','c','d','e','f','g','h','i']\n",
    "ken_c_preferred_names = ['NumArmedConflicts',\\\n",
    "                         'NatureOfConflictGov',\\\n",
    "                         'NatureOfConflictTerr',\\\n",
    "                         'NumKilled',\\\n",
    "                         'CummIntensity',\\\n",
    "                         'EAC',\\\n",
    "                         'IIAC',\\\n",
    "                         'InternalAC',\\\n",
    "                         'InterstateAC']\n",
    "columns_wanted = ['peace_index', 'terror_index'] + ken_c_preferred_names"
   ]
  },
  {
   "cell_type": "code",
   "execution_count": 7,
   "metadata": {
    "collapsed": false
   },
   "outputs": [],
   "source": [
    "for i, column in enumerate(ken_c_cat_names):\n",
    "    ken_c_data[ken_c_preferred_names[i]] = ken_c_data[column]\n",
    "    \n",
    "ken_c_data = ken_c_data[columns_wanted]"
   ]
  },
  {
   "cell_type": "code",
   "execution_count": 8,
   "metadata": {
    "collapsed": false,
    "scrolled": true
   },
   "outputs": [
    {
     "data": {
      "text/html": [
       "<div>\n",
       "<table border=\"1\" class=\"dataframe\">\n",
       "  <thead>\n",
       "    <tr style=\"text-align: right;\">\n",
       "      <th></th>\n",
       "      <th></th>\n",
       "      <th>peace_index</th>\n",
       "      <th>terror_index</th>\n",
       "      <th>NumArmedConflicts</th>\n",
       "      <th>NatureOfConflictGov</th>\n",
       "      <th>NatureOfConflictTerr</th>\n",
       "      <th>NumKilled</th>\n",
       "      <th>CummIntensity</th>\n",
       "      <th>EAC</th>\n",
       "      <th>IIAC</th>\n",
       "      <th>InternalAC</th>\n",
       "      <th>InterstateAC</th>\n",
       "    </tr>\n",
       "    <tr>\n",
       "      <th>year</th>\n",
       "      <th>countrycode</th>\n",
       "      <th></th>\n",
       "      <th></th>\n",
       "      <th></th>\n",
       "      <th></th>\n",
       "      <th></th>\n",
       "      <th></th>\n",
       "      <th></th>\n",
       "      <th></th>\n",
       "      <th></th>\n",
       "      <th></th>\n",
       "      <th></th>\n",
       "    </tr>\n",
       "  </thead>\n",
       "  <tbody>\n",
       "    <tr>\n",
       "      <th rowspan=\"5\" valign=\"top\">2008</th>\n",
       "      <th>AFG</th>\n",
       "      <td>2.983</td>\n",
       "      <td>8.011</td>\n",
       "      <td>1</td>\n",
       "      <td>1</td>\n",
       "      <td>0</td>\n",
       "      <td>2</td>\n",
       "      <td>1</td>\n",
       "      <td>0</td>\n",
       "      <td>1</td>\n",
       "      <td>0</td>\n",
       "      <td>0</td>\n",
       "    </tr>\n",
       "    <tr>\n",
       "      <th>AGO</th>\n",
       "      <td>2.132</td>\n",
       "      <td>0.000</td>\n",
       "      <td>0</td>\n",
       "      <td>0</td>\n",
       "      <td>0</td>\n",
       "      <td>0</td>\n",
       "      <td>0</td>\n",
       "      <td>0</td>\n",
       "      <td>0</td>\n",
       "      <td>0</td>\n",
       "      <td>0</td>\n",
       "    </tr>\n",
       "    <tr>\n",
       "      <th>ALB</th>\n",
       "      <td>1.911</td>\n",
       "      <td>0.000</td>\n",
       "      <td>0</td>\n",
       "      <td>0</td>\n",
       "      <td>0</td>\n",
       "      <td>0</td>\n",
       "      <td>0</td>\n",
       "      <td>0</td>\n",
       "      <td>0</td>\n",
       "      <td>0</td>\n",
       "      <td>0</td>\n",
       "    </tr>\n",
       "    <tr>\n",
       "      <th>ARE</th>\n",
       "      <td>1.584</td>\n",
       "      <td>0.000</td>\n",
       "      <td>0</td>\n",
       "      <td>0</td>\n",
       "      <td>0</td>\n",
       "      <td>0</td>\n",
       "      <td>0</td>\n",
       "      <td>0</td>\n",
       "      <td>0</td>\n",
       "      <td>0</td>\n",
       "      <td>0</td>\n",
       "    </tr>\n",
       "    <tr>\n",
       "      <th>ARG</th>\n",
       "      <td>1.791</td>\n",
       "      <td>0.363</td>\n",
       "      <td>0</td>\n",
       "      <td>0</td>\n",
       "      <td>0</td>\n",
       "      <td>0</td>\n",
       "      <td>0</td>\n",
       "      <td>0</td>\n",
       "      <td>0</td>\n",
       "      <td>0</td>\n",
       "      <td>0</td>\n",
       "    </tr>\n",
       "  </tbody>\n",
       "</table>\n",
       "</div>"
      ],
      "text/plain": [
       "                  peace_index  terror_index  NumArmedConflicts  \\\n",
       "year countrycode                                                 \n",
       "2008 AFG                2.983         8.011                  1   \n",
       "     AGO                2.132         0.000                  0   \n",
       "     ALB                1.911         0.000                  0   \n",
       "     ARE                1.584         0.000                  0   \n",
       "     ARG                1.791         0.363                  0   \n",
       "\n",
       "                  NatureOfConflictGov  NatureOfConflictTerr  NumKilled  \\\n",
       "year countrycode                                                         \n",
       "2008 AFG                            1                     0          2   \n",
       "     AGO                            0                     0          0   \n",
       "     ALB                            0                     0          0   \n",
       "     ARE                            0                     0          0   \n",
       "     ARG                            0                     0          0   \n",
       "\n",
       "                  CummIntensity  EAC  IIAC  InternalAC  InterstateAC  \n",
       "year countrycode                                                      \n",
       "2008 AFG                      1    0     1           0             0  \n",
       "     AGO                      0    0     0           0             0  \n",
       "     ALB                      0    0     0           0             0  \n",
       "     ARE                      0    0     0           0             0  \n",
       "     ARG                      0    0     0           0             0  "
      ]
     },
     "execution_count": 8,
     "metadata": {},
     "output_type": "execute_result"
    }
   ],
   "source": [
    "ken_c_data.head()"
   ]
  },
  {
   "cell_type": "markdown",
   "metadata": {},
   "source": [
    "### Dan Data Import"
   ]
  },
  {
   "cell_type": "code",
   "execution_count": 9,
   "metadata": {
    "collapsed": true
   },
   "outputs": [],
   "source": [
    "dan_data = getpickle('dan_data.pkl')"
   ]
  },
  {
   "cell_type": "code",
   "execution_count": 10,
   "metadata": {
    "collapsed": false
   },
   "outputs": [
    {
     "data": {
      "text/html": [
       "<div>\n",
       "<table border=\"1\" class=\"dataframe\">\n",
       "  <thead>\n",
       "    <tr style=\"text-align: right;\">\n",
       "      <th></th>\n",
       "      <th></th>\n",
       "      <th>adolescent_fertility</th>\n",
       "      <th>have_good_sanitation</th>\n",
       "      <th>labor_force_participation</th>\n",
       "      <th>population_total</th>\n",
       "      <th>unemployment</th>\n",
       "      <th>inflation</th>\n",
       "      <th>population_65_up</th>\n",
       "    </tr>\n",
       "    <tr>\n",
       "      <th>year</th>\n",
       "      <th>countrycode</th>\n",
       "      <th></th>\n",
       "      <th></th>\n",
       "      <th></th>\n",
       "      <th></th>\n",
       "      <th></th>\n",
       "      <th></th>\n",
       "      <th></th>\n",
       "    </tr>\n",
       "  </thead>\n",
       "  <tbody>\n",
       "    <tr>\n",
       "      <th rowspan=\"5\" valign=\"top\">2008</th>\n",
       "      <th>AFG</th>\n",
       "      <td>111.470800</td>\n",
       "      <td>28.000000</td>\n",
       "      <td>48.000000</td>\n",
       "      <td>26528741</td>\n",
       "      <td>8.900000</td>\n",
       "      <td>30.554941</td>\n",
       "      <td>2.228685</td>\n",
       "    </tr>\n",
       "    <tr>\n",
       "      <th>AGO</th>\n",
       "      <td>185.912000</td>\n",
       "      <td>43.300000</td>\n",
       "      <td>69.099998</td>\n",
       "      <td>19842251</td>\n",
       "      <td>6.800000</td>\n",
       "      <td>12.473713</td>\n",
       "      <td>2.377921</td>\n",
       "    </tr>\n",
       "    <tr>\n",
       "      <th>ALB</th>\n",
       "      <td>19.039600</td>\n",
       "      <td>89.600000</td>\n",
       "      <td>55.900002</td>\n",
       "      <td>2947314</td>\n",
       "      <td>13.000000</td>\n",
       "      <td>3.359242</td>\n",
       "      <td>9.960492</td>\n",
       "    </tr>\n",
       "    <tr>\n",
       "      <th>ARB</th>\n",
       "      <td>49.901458</td>\n",
       "      <td>77.435752</td>\n",
       "      <td>49.229262</td>\n",
       "      <td>336662433</td>\n",
       "      <td>10.504797</td>\n",
       "      <td>11.270665</td>\n",
       "      <td>4.147783</td>\n",
       "    </tr>\n",
       "    <tr>\n",
       "      <th>ARE</th>\n",
       "      <td>29.422600</td>\n",
       "      <td>97.500000</td>\n",
       "      <td>77.099998</td>\n",
       "      <td>6900142</td>\n",
       "      <td>4.000000</td>\n",
       "      <td>12.250420</td>\n",
       "      <td>0.717594</td>\n",
       "    </tr>\n",
       "  </tbody>\n",
       "</table>\n",
       "</div>"
      ],
      "text/plain": [
       "                  adolescent_fertility  have_good_sanitation  \\\n",
       "year countrycode                                               \n",
       "2008 AFG                    111.470800             28.000000   \n",
       "     AGO                    185.912000             43.300000   \n",
       "     ALB                     19.039600             89.600000   \n",
       "     ARB                     49.901458             77.435752   \n",
       "     ARE                     29.422600             97.500000   \n",
       "\n",
       "                  labor_force_participation  population_total  unemployment  \\\n",
       "year countrycode                                                              \n",
       "2008 AFG                          48.000000          26528741      8.900000   \n",
       "     AGO                          69.099998          19842251      6.800000   \n",
       "     ALB                          55.900002           2947314     13.000000   \n",
       "     ARB                          49.229262         336662433     10.504797   \n",
       "     ARE                          77.099998           6900142      4.000000   \n",
       "\n",
       "                  inflation  population_65_up  \n",
       "year countrycode                               \n",
       "2008 AFG          30.554941          2.228685  \n",
       "     AGO          12.473713          2.377921  \n",
       "     ALB           3.359242          9.960492  \n",
       "     ARB          11.270665          4.147783  \n",
       "     ARE          12.250420          0.717594  "
      ]
     },
     "execution_count": 10,
     "metadata": {},
     "output_type": "execute_result"
    }
   ],
   "source": [
    "dan_data.head()"
   ]
  },
  {
   "cell_type": "markdown",
   "metadata": {},
   "source": [
    "### Bryan Data Import"
   ]
  },
  {
   "cell_type": "code",
   "execution_count": 11,
   "metadata": {
    "collapsed": true
   },
   "outputs": [],
   "source": [
    "bryan_data = getpickle('bryan_data.pkl').sort_index()"
   ]
  },
  {
   "cell_type": "code",
   "execution_count": 12,
   "metadata": {
    "collapsed": false,
    "scrolled": false
   },
   "outputs": [],
   "source": [
    "bryan_data = bryan_data.reset_index()\n",
    "bryan_data = bryan_data.set_index(['year', 'countrycode']).sort_index()\n",
    "bryan_data = bryan_data[['gdp_ppp', 'food_production_dom', 'youth_unemployment', 'zscores']]\n",
    "bryan_data['zscores'] = bryan_data['zscores'].astype(float)\n",
    "bryan_data.loc[bryan_data['zscores'] > 0, 'zscores'] = 1\n",
    "bryan_data.loc[bryan_data['zscores'] <= 0, 'zscores'] = 0"
   ]
  },
  {
   "cell_type": "code",
   "execution_count": 13,
   "metadata": {
    "collapsed": false
   },
   "outputs": [
    {
     "data": {
      "text/html": [
       "<div>\n",
       "<table border=\"1\" class=\"dataframe\">\n",
       "  <thead>\n",
       "    <tr style=\"text-align: right;\">\n",
       "      <th></th>\n",
       "      <th></th>\n",
       "      <th>gdp_ppp</th>\n",
       "      <th>food_production_dom</th>\n",
       "      <th>youth_unemployment</th>\n",
       "      <th>zscores</th>\n",
       "    </tr>\n",
       "    <tr>\n",
       "      <th>year</th>\n",
       "      <th>countrycode</th>\n",
       "      <th></th>\n",
       "      <th></th>\n",
       "      <th></th>\n",
       "      <th></th>\n",
       "    </tr>\n",
       "  </thead>\n",
       "  <tbody>\n",
       "    <tr>\n",
       "      <th rowspan=\"5\" valign=\"top\">2008</th>\n",
       "      <th>AFG</th>\n",
       "      <td>1283.040986</td>\n",
       "      <td>100.440000</td>\n",
       "      <td>37.500000</td>\n",
       "      <td>1</td>\n",
       "    </tr>\n",
       "    <tr>\n",
       "      <th>AGO</th>\n",
       "      <td>NaN</td>\n",
       "      <td>129.740000</td>\n",
       "      <td>52.299999</td>\n",
       "      <td>1</td>\n",
       "    </tr>\n",
       "    <tr>\n",
       "      <th>ALB</th>\n",
       "      <td>8769.117112</td>\n",
       "      <td>107.740000</td>\n",
       "      <td>35.700001</td>\n",
       "      <td>1</td>\n",
       "    </tr>\n",
       "    <tr>\n",
       "      <th>ARB</th>\n",
       "      <td>13680.586368</td>\n",
       "      <td>105.228109</td>\n",
       "      <td>33.253546</td>\n",
       "      <td>1</td>\n",
       "    </tr>\n",
       "    <tr>\n",
       "      <th>ARE</th>\n",
       "      <td>69124.396211</td>\n",
       "      <td>102.440000</td>\n",
       "      <td>52.500000</td>\n",
       "      <td>0</td>\n",
       "    </tr>\n",
       "  </tbody>\n",
       "</table>\n",
       "</div>"
      ],
      "text/plain": [
       "                       gdp_ppp  food_production_dom  youth_unemployment  \\\n",
       "year countrycode                                                          \n",
       "2008 AFG           1283.040986           100.440000           37.500000   \n",
       "     AGO                   NaN           129.740000           52.299999   \n",
       "     ALB           8769.117112           107.740000           35.700001   \n",
       "     ARB          13680.586368           105.228109           33.253546   \n",
       "     ARE          69124.396211           102.440000           52.500000   \n",
       "\n",
       "                  zscores  \n",
       "year countrycode           \n",
       "2008 AFG                1  \n",
       "     AGO                1  \n",
       "     ALB                1  \n",
       "     ARB                1  \n",
       "     ARE                0  "
      ]
     },
     "execution_count": 13,
     "metadata": {},
     "output_type": "execute_result"
    }
   ],
   "source": [
    "bryan_data.head()"
   ]
  },
  {
   "cell_type": "markdown",
   "metadata": {},
   "source": [
    "### Emily Data Import"
   ]
  },
  {
   "cell_type": "code",
   "execution_count": 14,
   "metadata": {
    "collapsed": true
   },
   "outputs": [],
   "source": [
    "emily_data = pd.read_csv('emily_climate_data.csv')"
   ]
  },
  {
   "cell_type": "code",
   "execution_count": 15,
   "metadata": {
    "collapsed": true
   },
   "outputs": [],
   "source": [
    "emily_data = emily_data[emily_data.year >= 2008]\n",
    "emily_data = emily_data.set_index(['year', 'countrycode']).sort_index()"
   ]
  },
  {
   "cell_type": "code",
   "execution_count": 16,
   "metadata": {
    "collapsed": false
   },
   "outputs": [],
   "source": [
    "emily_data = emily_data[['forestarea', 'arable_land']]\n",
    "emily_data = emily_data"
   ]
  },
  {
   "cell_type": "code",
   "execution_count": 17,
   "metadata": {
    "collapsed": false
   },
   "outputs": [
    {
     "data": {
      "text/html": [
       "<div>\n",
       "<table border=\"1\" class=\"dataframe\">\n",
       "  <thead>\n",
       "    <tr style=\"text-align: right;\">\n",
       "      <th></th>\n",
       "      <th></th>\n",
       "      <th>forestarea</th>\n",
       "      <th>arable_land</th>\n",
       "    </tr>\n",
       "    <tr>\n",
       "      <th>year</th>\n",
       "      <th>countrycode</th>\n",
       "      <th></th>\n",
       "      <th></th>\n",
       "    </tr>\n",
       "  </thead>\n",
       "  <tbody>\n",
       "    <tr>\n",
       "      <th rowspan=\"5\" valign=\"top\">2008</th>\n",
       "      <th>AFG</th>\n",
       "      <td>-1.266677</td>\n",
       "      <td>-0.282813</td>\n",
       "    </tr>\n",
       "    <tr>\n",
       "      <th>AGO</th>\n",
       "      <td>0.720465</td>\n",
       "      <td>-0.940498</td>\n",
       "    </tr>\n",
       "    <tr>\n",
       "      <th>ALB</th>\n",
       "      <td>-0.103987</td>\n",
       "      <td>0.454378</td>\n",
       "    </tr>\n",
       "    <tr>\n",
       "      <th>ARG</th>\n",
       "      <td>-0.886647</td>\n",
       "      <td>-0.215245</td>\n",
       "    </tr>\n",
       "    <tr>\n",
       "      <th>ARM</th>\n",
       "      <td>-0.844345</td>\n",
       "      <td>-0.005636</td>\n",
       "    </tr>\n",
       "  </tbody>\n",
       "</table>\n",
       "</div>"
      ],
      "text/plain": [
       "                  forestarea  arable_land\n",
       "year countrycode                         \n",
       "2008 AFG           -1.266677    -0.282813\n",
       "     AGO            0.720465    -0.940498\n",
       "     ALB           -0.103987     0.454378\n",
       "     ARG           -0.886647    -0.215245\n",
       "     ARM           -0.844345    -0.005636"
      ]
     },
     "execution_count": 17,
     "metadata": {},
     "output_type": "execute_result"
    }
   ],
   "source": [
    "emily_data.head()"
   ]
  },
  {
   "cell_type": "code",
   "execution_count": 18,
   "metadata": {
    "collapsed": false
   },
   "outputs": [
    {
     "name": "stdout",
     "output_type": "stream",
     "text": [
      "1086\n",
      "1127\n",
      "1242\n",
      "1128\n",
      "937\n"
     ]
    }
   ],
   "source": [
    "print(len(ken_m_data))\n",
    "print(len(ken_c_data))\n",
    "print(len(bryan_data))\n",
    "print(len(dan_data))\n",
    "print(len(emily_data))"
   ]
  },
  {
   "cell_type": "code",
   "execution_count": 19,
   "metadata": {
    "collapsed": false
   },
   "outputs": [
    {
     "data": {
      "text/html": [
       "<div>\n",
       "<table border=\"1\" class=\"dataframe\">\n",
       "  <thead>\n",
       "    <tr style=\"text-align: right;\">\n",
       "      <th></th>\n",
       "      <th></th>\n",
       "      <th>peace_index</th>\n",
       "      <th>terror_index</th>\n",
       "      <th>NumArmedConflicts</th>\n",
       "      <th>NatureOfConflictGov</th>\n",
       "      <th>NatureOfConflictTerr</th>\n",
       "      <th>NumKilled</th>\n",
       "      <th>CummIntensity</th>\n",
       "      <th>EAC</th>\n",
       "      <th>IIAC</th>\n",
       "      <th>InternalAC</th>\n",
       "      <th>...</th>\n",
       "      <th>political_rights</th>\n",
       "      <th>female_legislators</th>\n",
       "      <th>population_growth</th>\n",
       "      <th>population_female</th>\n",
       "      <th>life_expectancy</th>\n",
       "      <th>population_15_64</th>\n",
       "      <th>gdp_ppp</th>\n",
       "      <th>food_production_dom</th>\n",
       "      <th>youth_unemployment</th>\n",
       "      <th>zscores</th>\n",
       "    </tr>\n",
       "    <tr>\n",
       "      <th>year</th>\n",
       "      <th>countrycode</th>\n",
       "      <th></th>\n",
       "      <th></th>\n",
       "      <th></th>\n",
       "      <th></th>\n",
       "      <th></th>\n",
       "      <th></th>\n",
       "      <th></th>\n",
       "      <th></th>\n",
       "      <th></th>\n",
       "      <th></th>\n",
       "      <th></th>\n",
       "      <th></th>\n",
       "      <th></th>\n",
       "      <th></th>\n",
       "      <th></th>\n",
       "      <th></th>\n",
       "      <th></th>\n",
       "      <th></th>\n",
       "      <th></th>\n",
       "      <th></th>\n",
       "      <th></th>\n",
       "    </tr>\n",
       "  </thead>\n",
       "  <tbody>\n",
       "    <tr>\n",
       "      <th rowspan=\"5\" valign=\"top\">2008</th>\n",
       "      <th>AFG</th>\n",
       "      <td>2.983</td>\n",
       "      <td>8.011</td>\n",
       "      <td>1</td>\n",
       "      <td>1</td>\n",
       "      <td>0</td>\n",
       "      <td>2</td>\n",
       "      <td>1</td>\n",
       "      <td>0</td>\n",
       "      <td>1</td>\n",
       "      <td>0</td>\n",
       "      <td>...</td>\n",
       "      <td>5</td>\n",
       "      <td>27.7</td>\n",
       "      <td>2.485315</td>\n",
       "      <td>48.512909</td>\n",
       "      <td>58.225024</td>\n",
       "      <td>49.946087</td>\n",
       "      <td>1283.040986</td>\n",
       "      <td>100.440000</td>\n",
       "      <td>37.500000</td>\n",
       "      <td>1</td>\n",
       "    </tr>\n",
       "    <tr>\n",
       "      <th>AGO</th>\n",
       "      <td>2.132</td>\n",
       "      <td>0.000</td>\n",
       "      <td>0</td>\n",
       "      <td>0</td>\n",
       "      <td>0</td>\n",
       "      <td>0</td>\n",
       "      <td>0</td>\n",
       "      <td>0</td>\n",
       "      <td>0</td>\n",
       "      <td>0</td>\n",
       "      <td>...</td>\n",
       "      <td>6</td>\n",
       "      <td>37.3</td>\n",
       "      <td>3.374180</td>\n",
       "      <td>50.493712</td>\n",
       "      <td>49.847390</td>\n",
       "      <td>49.356104</td>\n",
       "      <td>NaN</td>\n",
       "      <td>129.740000</td>\n",
       "      <td>52.299999</td>\n",
       "      <td>1</td>\n",
       "    </tr>\n",
       "    <tr>\n",
       "      <th>ALB</th>\n",
       "      <td>1.911</td>\n",
       "      <td>0.000</td>\n",
       "      <td>0</td>\n",
       "      <td>0</td>\n",
       "      <td>0</td>\n",
       "      <td>0</td>\n",
       "      <td>0</td>\n",
       "      <td>0</td>\n",
       "      <td>0</td>\n",
       "      <td>0</td>\n",
       "      <td>...</td>\n",
       "      <td>3</td>\n",
       "      <td>7.1</td>\n",
       "      <td>-0.767343</td>\n",
       "      <td>49.610212</td>\n",
       "      <td>76.632317</td>\n",
       "      <td>66.816430</td>\n",
       "      <td>8769.117112</td>\n",
       "      <td>107.740000</td>\n",
       "      <td>35.700001</td>\n",
       "      <td>1</td>\n",
       "    </tr>\n",
       "    <tr>\n",
       "      <th>ARB</th>\n",
       "      <td>NaN</td>\n",
       "      <td>NaN</td>\n",
       "      <td>NaN</td>\n",
       "      <td>NaN</td>\n",
       "      <td>NaN</td>\n",
       "      <td>NaN</td>\n",
       "      <td>NaN</td>\n",
       "      <td>NaN</td>\n",
       "      <td>NaN</td>\n",
       "      <td>NaN</td>\n",
       "      <td>...</td>\n",
       "      <td>NaN</td>\n",
       "      <td>NaN</td>\n",
       "      <td>NaN</td>\n",
       "      <td>NaN</td>\n",
       "      <td>NaN</td>\n",
       "      <td>NaN</td>\n",
       "      <td>13680.586368</td>\n",
       "      <td>105.228109</td>\n",
       "      <td>33.253546</td>\n",
       "      <td>1</td>\n",
       "    </tr>\n",
       "    <tr>\n",
       "      <th>ARE</th>\n",
       "      <td>1.584</td>\n",
       "      <td>0.000</td>\n",
       "      <td>0</td>\n",
       "      <td>0</td>\n",
       "      <td>0</td>\n",
       "      <td>0</td>\n",
       "      <td>0</td>\n",
       "      <td>0</td>\n",
       "      <td>0</td>\n",
       "      <td>0</td>\n",
       "      <td>...</td>\n",
       "      <td>6</td>\n",
       "      <td>22.5</td>\n",
       "      <td>13.810060</td>\n",
       "      <td>25.880062</td>\n",
       "      <td>76.307756</td>\n",
       "      <td>84.600650</td>\n",
       "      <td>69124.396211</td>\n",
       "      <td>102.440000</td>\n",
       "      <td>52.500000</td>\n",
       "      <td>0</td>\n",
       "    </tr>\n",
       "  </tbody>\n",
       "</table>\n",
       "<p>5 rows × 31 columns</p>\n",
       "</div>"
      ],
      "text/plain": [
       "                  peace_index  terror_index  NumArmedConflicts  \\\n",
       "year countrycode                                                 \n",
       "2008 AFG                2.983         8.011                  1   \n",
       "     AGO                2.132         0.000                  0   \n",
       "     ALB                1.911         0.000                  0   \n",
       "     ARB                  NaN           NaN                NaN   \n",
       "     ARE                1.584         0.000                  0   \n",
       "\n",
       "                  NatureOfConflictGov  NatureOfConflictTerr  NumKilled  \\\n",
       "year countrycode                                                         \n",
       "2008 AFG                            1                     0          2   \n",
       "     AGO                            0                     0          0   \n",
       "     ALB                            0                     0          0   \n",
       "     ARB                          NaN                   NaN        NaN   \n",
       "     ARE                            0                     0          0   \n",
       "\n",
       "                  CummIntensity  EAC  IIAC  InternalAC   ...     \\\n",
       "year countrycode                                         ...      \n",
       "2008 AFG                      1    0     1           0   ...      \n",
       "     AGO                      0    0     0           0   ...      \n",
       "     ALB                      0    0     0           0   ...      \n",
       "     ARB                    NaN  NaN   NaN         NaN   ...      \n",
       "     ARE                      0    0     0           0   ...      \n",
       "\n",
       "                  political_rights  female_legislators  population_growth  \\\n",
       "year countrycode                                                            \n",
       "2008 AFG                         5                27.7           2.485315   \n",
       "     AGO                         6                37.3           3.374180   \n",
       "     ALB                         3                 7.1          -0.767343   \n",
       "     ARB                       NaN                 NaN                NaN   \n",
       "     ARE                         6                22.5          13.810060   \n",
       "\n",
       "                  population_female  life_expectancy  population_15_64  \\\n",
       "year countrycode                                                         \n",
       "2008 AFG                  48.512909        58.225024         49.946087   \n",
       "     AGO                  50.493712        49.847390         49.356104   \n",
       "     ALB                  49.610212        76.632317         66.816430   \n",
       "     ARB                        NaN              NaN               NaN   \n",
       "     ARE                  25.880062        76.307756         84.600650   \n",
       "\n",
       "                       gdp_ppp  food_production_dom  youth_unemployment  \\\n",
       "year countrycode                                                          \n",
       "2008 AFG           1283.040986           100.440000           37.500000   \n",
       "     AGO                   NaN           129.740000           52.299999   \n",
       "     ALB           8769.117112           107.740000           35.700001   \n",
       "     ARB          13680.586368           105.228109           33.253546   \n",
       "     ARE          69124.396211           102.440000           52.500000   \n",
       "\n",
       "                  zscores  \n",
       "year countrycode           \n",
       "2008 AFG                1  \n",
       "     AGO                1  \n",
       "     ALB                1  \n",
       "     ARB                1  \n",
       "     ARE                0  \n",
       "\n",
       "[5 rows x 31 columns]"
      ]
     },
     "execution_count": 19,
     "metadata": {},
     "output_type": "execute_result"
    }
   ],
   "source": [
    "full_data = pd.DataFrame()\n",
    "full_data = pd.concat([ken_c_data, dan_data, emily_data, ken_m_data, bryan_data], axis=1)\n",
    "full_data.head()"
   ]
  },
  {
   "cell_type": "code",
   "execution_count": 20,
   "metadata": {
    "collapsed": false
   },
   "outputs": [
    {
     "data": {
      "text/plain": [
       "Index(['peace_index', 'terror_index', 'NumArmedConflicts',\n",
       "       'NatureOfConflictGov', 'NatureOfConflictTerr', 'NumKilled',\n",
       "       'CummIntensity', 'EAC', 'IIAC', 'InternalAC', 'InterstateAC',\n",
       "       'adolescent_fertility', 'have_good_sanitation',\n",
       "       'labor_force_participation', 'population_total', 'unemployment',\n",
       "       'inflation', 'population_65_up', 'forestarea', 'arable_land',\n",
       "       'civil_liberties', 'political_rights', 'female_legislators',\n",
       "       'population_growth', 'population_female', 'life_expectancy',\n",
       "       'population_15_64', 'gdp_ppp', 'food_production_dom',\n",
       "       'youth_unemployment', 'zscores'],\n",
       "      dtype='object')"
      ]
     },
     "execution_count": 20,
     "metadata": {},
     "output_type": "execute_result"
    }
   ],
   "source": [
    "full_data.columns"
   ]
  },
  {
   "cell_type": "code",
   "execution_count": 21,
   "metadata": {
    "collapsed": false,
    "scrolled": false
   },
   "outputs": [
    {
     "data": {
      "text/plain": [
       "736"
      ]
     },
     "execution_count": 21,
     "metadata": {},
     "output_type": "execute_result"
    }
   ],
   "source": [
    "#The rows to be dropped\n",
    "len(full_data[full_data.isnull().any(axis=1)])"
   ]
  },
  {
   "cell_type": "markdown",
   "metadata": {},
   "source": [
    "That's too many rows!!!"
   ]
  },
  {
   "cell_type": "code",
   "execution_count": 22,
   "metadata": {
    "collapsed": false
   },
   "outputs": [
    {
     "name": "stdout",
     "output_type": "stream",
     "text": [
      "1493\n",
      "1127\n",
      "366\n"
     ]
    }
   ],
   "source": [
    "print(len(full_data))\n",
    "print(len(full_data.loc[full_data.peace_index.notnull(), 'peace_index']))\n",
    "print(len(full_data.loc[full_data.peace_index.isnull(), 'peace_index']))"
   ]
  },
  {
   "cell_type": "markdown",
   "metadata": {},
   "source": [
    "Fill rows with average"
   ]
  },
  {
   "cell_type": "code",
   "execution_count": 23,
   "metadata": {
    "collapsed": false,
    "scrolled": false
   },
   "outputs": [],
   "source": [
    "x_columns = full_data.columns[:-1]\n",
    "\n",
    "for column in x_columns:\n",
    "    full_data.loc[full_data[column].isnull(), column] = np.mean(full_data.loc[full_data[column].notnull(), column])"
   ]
  },
  {
   "cell_type": "code",
   "execution_count": 24,
   "metadata": {
    "collapsed": true
   },
   "outputs": [],
   "source": [
    "#drop rows where the zscore is null, \n",
    "#don't want to make an average prediction \n",
    "#for countries where it might actually have conflict\n",
    "full_data = full_data.dropna()"
   ]
  },
  {
   "cell_type": "markdown",
   "metadata": {},
   "source": [
    "## Analysis"
   ]
  },
  {
   "cell_type": "code",
   "execution_count": 25,
   "metadata": {
    "collapsed": true
   },
   "outputs": [],
   "source": [
    "x_cols = full_data.columns[:-1]\n",
    "X = full_data[x_cols]\n",
    "y = full_data['zscores']"
   ]
  },
  {
   "cell_type": "code",
   "execution_count": 26,
   "metadata": {
    "collapsed": false,
    "scrolled": false
   },
   "outputs": [
    {
     "name": "stderr",
     "output_type": "stream",
     "text": [
      "/Users/kenn/anaconda/lib/python3.5/site-packages/sklearn/metrics/classification.py:1074: UndefinedMetricWarning: Precision is ill-defined and being set to 0.0 due to no predicted samples.\n",
      "  'precision', 'predicted', average, warn_for)\n",
      "/Users/kenn/anaconda/lib/python3.5/site-packages/sklearn/metrics/classification.py:1074: UndefinedMetricWarning: F-score is ill-defined and being set to 0.0 due to no predicted samples.\n",
      "  'precision', 'predicted', average, warn_for)\n"
     ]
    },
    {
     "data": {
      "text/html": [
       "<div>\n",
       "<table border=\"1\" class=\"dataframe\">\n",
       "  <thead>\n",
       "    <tr style=\"text-align: right;\">\n",
       "      <th></th>\n",
       "      <th>Accuracy</th>\n",
       "      <th>Precision</th>\n",
       "      <th>Recall</th>\n",
       "      <th>F1</th>\n",
       "      <th>ROCAUC</th>\n",
       "    </tr>\n",
       "  </thead>\n",
       "  <tbody>\n",
       "    <tr>\n",
       "      <th>KNeighborsClassifier(n_neighbors=1)</th>\n",
       "      <td>0.815633</td>\n",
       "      <td>0.448703</td>\n",
       "      <td>0.436129</td>\n",
       "      <td>0.440230</td>\n",
       "      <td>0.663954</td>\n",
       "    </tr>\n",
       "    <tr>\n",
       "      <th>SVC(gamma=1, C=10, kernel='rbf')</th>\n",
       "      <td>0.832884</td>\n",
       "      <td>0.000000</td>\n",
       "      <td>0.000000</td>\n",
       "      <td>0.000000</td>\n",
       "      <td>0.500000</td>\n",
       "    </tr>\n",
       "    <tr>\n",
       "      <th>SVC()</th>\n",
       "      <td>0.833962</td>\n",
       "      <td>0.400000</td>\n",
       "      <td>0.006452</td>\n",
       "      <td>0.012698</td>\n",
       "      <td>0.503226</td>\n",
       "    </tr>\n",
       "    <tr>\n",
       "      <th>LogisticRegression()</th>\n",
       "      <td>0.832399</td>\n",
       "      <td>0.000000</td>\n",
       "      <td>0.000000</td>\n",
       "      <td>0.000000</td>\n",
       "      <td>0.499709</td>\n",
       "    </tr>\n",
       "    <tr>\n",
       "      <th>BernoulliNB()</th>\n",
       "      <td>0.637520</td>\n",
       "      <td>0.247919</td>\n",
       "      <td>0.572258</td>\n",
       "      <td>0.345699</td>\n",
       "      <td>0.611436</td>\n",
       "    </tr>\n",
       "    <tr>\n",
       "      <th>GaussianNB()</th>\n",
       "      <td>0.274447</td>\n",
       "      <td>0.179800</td>\n",
       "      <td>0.937419</td>\n",
       "      <td>0.301695</td>\n",
       "      <td>0.539422</td>\n",
       "    </tr>\n",
       "    <tr>\n",
       "      <th>RandomForestClassifier(n_estimators=30)</th>\n",
       "      <td>0.969218</td>\n",
       "      <td>0.916444</td>\n",
       "      <td>0.899677</td>\n",
       "      <td>0.907067</td>\n",
       "      <td>0.941424</td>\n",
       "    </tr>\n",
       "    <tr>\n",
       "      <th>DecisionTreeClassifier()</th>\n",
       "      <td>0.944906</td>\n",
       "      <td>0.839160</td>\n",
       "      <td>0.830968</td>\n",
       "      <td>0.833744</td>\n",
       "      <td>0.899367</td>\n",
       "    </tr>\n",
       "  </tbody>\n",
       "</table>\n",
       "</div>"
      ],
      "text/plain": [
       "                                         Accuracy  Precision    Recall  \\\n",
       "KNeighborsClassifier(n_neighbors=1)      0.815633   0.448703  0.436129   \n",
       "SVC(gamma=1, C=10, kernel='rbf')         0.832884   0.000000  0.000000   \n",
       "SVC()                                    0.833962   0.400000  0.006452   \n",
       "LogisticRegression()                     0.832399   0.000000  0.000000   \n",
       "BernoulliNB()                            0.637520   0.247919  0.572258   \n",
       "GaussianNB()                             0.274447   0.179800  0.937419   \n",
       "RandomForestClassifier(n_estimators=30)  0.969218   0.916444  0.899677   \n",
       "DecisionTreeClassifier()                 0.944906   0.839160  0.830968   \n",
       "\n",
       "                                               F1    ROCAUC  \n",
       "KNeighborsClassifier(n_neighbors=1)      0.440230  0.663954  \n",
       "SVC(gamma=1, C=10, kernel='rbf')         0.000000  0.500000  \n",
       "SVC()                                    0.012698  0.503226  \n",
       "LogisticRegression()                     0.000000  0.499709  \n",
       "BernoulliNB()                            0.345699  0.611436  \n",
       "GaussianNB()                             0.301695  0.539422  \n",
       "RandomForestClassifier(n_estimators=30)  0.907067  0.941424  \n",
       "DecisionTreeClassifier()                 0.833744  0.899367  "
      ]
     },
     "execution_count": 26,
     "metadata": {},
     "output_type": "execute_result"
    },
    {
     "data": {
      "image/png": "[encoded data removed]",
      "text/plain": [
       "<matplotlib.figure.Figure at 0x10c1e8fd0>"
      ]
     },
     "metadata": {},
     "output_type": "display_data"
    }
   ],
   "source": [
    "modeling = getCrossValScoresBySSS(X,y)\n",
    "modeling.get_multi_models(make_single_plot=True)"
   ]
  },
  {
   "cell_type": "code",
   "execution_count": 27,
   "metadata": {
    "collapsed": false
   },
   "outputs": [
    {
     "name": "stderr",
     "output_type": "stream",
     "text": [
      "/Users/kenn/anaconda/lib/python3.5/site-packages/sklearn/metrics/classification.py:1074: UndefinedMetricWarning: Precision is ill-defined and being set to 0.0 due to no predicted samples.\n",
      "  'precision', 'predicted', average, warn_for)\n",
      "/Users/kenn/anaconda/lib/python3.5/site-packages/sklearn/metrics/classification.py:1074: UndefinedMetricWarning: F-score is ill-defined and being set to 0.0 due to no predicted samples.\n",
      "  'precision', 'predicted', average, warn_for)\n"
     ]
    },
    {
     "data": {
      "text/html": [
       "<div>\n",
       "<table border=\"1\" class=\"dataframe\">\n",
       "  <thead>\n",
       "    <tr style=\"text-align: right;\">\n",
       "      <th></th>\n",
       "      <th>Accuracy</th>\n",
       "      <th>Precision</th>\n",
       "      <th>Recall</th>\n",
       "      <th>F1</th>\n",
       "      <th>ROCAUC</th>\n",
       "    </tr>\n",
       "  </thead>\n",
       "  <tbody>\n",
       "    <tr>\n",
       "      <th>KNeighborsClassifier(n_neighbors=1)</th>\n",
       "      <td>0.800580</td>\n",
       "      <td>0.386359</td>\n",
       "      <td>0.421818</td>\n",
       "      <td>0.402579</td>\n",
       "      <td>0.647116</td>\n",
       "    </tr>\n",
       "    <tr>\n",
       "      <th>SVC(gamma=1, C=10, kernel='rbf')</th>\n",
       "      <td>0.840580</td>\n",
       "      <td>0.000000</td>\n",
       "      <td>0.000000</td>\n",
       "      <td>0.000000</td>\n",
       "      <td>0.500000</td>\n",
       "    </tr>\n",
       "    <tr>\n",
       "      <th>SVC()</th>\n",
       "      <td>0.843961</td>\n",
       "      <td>0.700000</td>\n",
       "      <td>0.021212</td>\n",
       "      <td>0.041176</td>\n",
       "      <td>0.510606</td>\n",
       "    </tr>\n",
       "    <tr>\n",
       "      <th>LogisticRegression()</th>\n",
       "      <td>0.840580</td>\n",
       "      <td>0.000000</td>\n",
       "      <td>0.000000</td>\n",
       "      <td>0.000000</td>\n",
       "      <td>0.500000</td>\n",
       "    </tr>\n",
       "    <tr>\n",
       "      <th>BernoulliNB()</th>\n",
       "      <td>0.652947</td>\n",
       "      <td>0.247003</td>\n",
       "      <td>0.574545</td>\n",
       "      <td>0.345477</td>\n",
       "      <td>0.621181</td>\n",
       "    </tr>\n",
       "    <tr>\n",
       "      <th>GaussianNB()</th>\n",
       "      <td>0.283382</td>\n",
       "      <td>0.166421</td>\n",
       "      <td>0.870909</td>\n",
       "      <td>0.279415</td>\n",
       "      <td>0.521432</td>\n",
       "    </tr>\n",
       "    <tr>\n",
       "      <th>RandomForestClassifier(n_estimators=30)</th>\n",
       "      <td>0.952560</td>\n",
       "      <td>0.855936</td>\n",
       "      <td>0.844848</td>\n",
       "      <td>0.849798</td>\n",
       "      <td>0.908918</td>\n",
       "    </tr>\n",
       "    <tr>\n",
       "      <th>DecisionTreeClassifier()</th>\n",
       "      <td>0.924831</td>\n",
       "      <td>0.770089</td>\n",
       "      <td>0.757576</td>\n",
       "      <td>0.762096</td>\n",
       "      <td>0.857064</td>\n",
       "    </tr>\n",
       "  </tbody>\n",
       "</table>\n",
       "</div>"
      ],
      "text/plain": [
       "                                         Accuracy  Precision    Recall  \\\n",
       "KNeighborsClassifier(n_neighbors=1)      0.800580   0.386359  0.421818   \n",
       "SVC(gamma=1, C=10, kernel='rbf')         0.840580   0.000000  0.000000   \n",
       "SVC()                                    0.843961   0.700000  0.021212   \n",
       "LogisticRegression()                     0.840580   0.000000  0.000000   \n",
       "BernoulliNB()                            0.652947   0.247003  0.574545   \n",
       "GaussianNB()                             0.283382   0.166421  0.870909   \n",
       "RandomForestClassifier(n_estimators=30)  0.952560   0.855936  0.844848   \n",
       "DecisionTreeClassifier()                 0.924831   0.770089  0.757576   \n",
       "\n",
       "                                               F1    ROCAUC  \n",
       "KNeighborsClassifier(n_neighbors=1)      0.402579  0.647116  \n",
       "SVC(gamma=1, C=10, kernel='rbf')         0.000000  0.500000  \n",
       "SVC()                                    0.041176  0.510606  \n",
       "LogisticRegression()                     0.000000  0.500000  \n",
       "BernoulliNB()                            0.345477  0.621181  \n",
       "GaussianNB()                             0.279415  0.521432  \n",
       "RandomForestClassifier(n_estimators=30)  0.849798  0.908918  \n",
       "DecisionTreeClassifier()                 0.762096  0.857064  "
      ]
     },
     "execution_count": 27,
     "metadata": {},
     "output_type": "execute_result"
    },
    {
     "data": {
      "image/png": "[encoded data removed]",
      "text/plain": [
       "<matplotlib.figure.Figure at 0x10c273c88>"
      ]
     },
     "metadata": {},
     "output_type": "display_data"
    }
   ],
   "source": [
    "modeling.get_multi_models(year=2013, make_single_plot=True)"
   ]
  },
  {
   "cell_type": "markdown",
   "metadata": {},
   "source": [
    "for n in range(1,8):\n",
    "    print('n = ', n)\n",
    "    modeling.get_single_model(model=KNeighborsClassifier(n_neighbors=n), get_cm=True)\n",
    "    print('\\n')"
   ]
  },
  {
   "cell_type": "markdown",
   "metadata": {},
   "source": [
    "forest_acc = []\n",
    "forest_prec = []\n",
    "forest_rec = []\n",
    "forest_f1 = []\n",
    "forest_range = list(range(1,30))\n",
    "for trees in forest_range:\n",
    "    acc, prec, rec, f1, _ = modeling.get_single_model(model=RandomForestClassifier(n_estimators=trees), verbose=False)\n",
    "    forest_acc.append(acc)\n",
    "    forest_prec.append(prec)\n",
    "    forest_rec.append(rec)\n",
    "    forest_f1.append(f1)\n",
    "\n",
    "plt.figure(figsize=(11,7))\n",
    "plt.plot(forest_range, forest_acc, label='Accuracy')\n",
    "plt.plot(forest_range, forest_prec,label='Precision')\n",
    "plt.plot(forest_range, forest_rec,label='Recall')\n",
    "plt.plot(forest_range, forest_f1,label='F1')\n",
    "\n",
    "plt.legend(loc='best')\n",
    "plt.xlabel('Num Trees')\n",
    "plt.ylabel('Score')\n",
    "plt.title('Scores at various tree sizes')\n",
    "plt.show()"
   ]
  },
  {
   "cell_type": "code",
   "execution_count": 28,
   "metadata": {
    "collapsed": false,
    "scrolled": false
   },
   "outputs": [
    {
     "name": "stdout",
     "output_type": "stream",
     "text": [
      "[[308   1]\n",
      " [  7  55]]\n",
      "Avg Feature Importance: [ 0.03167909  0.02415935  0.0101313   0.01421526  0.00341886  0.00839709\n",
      "  0.00396175  0.          0.00465026  0.00384743  0.00246902  0.05445047\n",
      "  0.07756834  0.05361235  0.0484289   0.04238886  0.01630792  0.07534449\n",
      "  0.02932768  0.03884262  0.05085172  0.04019326  0.03013389  0.03817187\n",
      "  0.03297203  0.04607967  0.04523123  0.10378086  0.02220901  0.04717542]\n",
      "Accuracy: 0.9719137466307278\n",
      "Precision: 0.9224214136811887\n",
      "Recall: 0.91\n",
      "f1: 0.9154609062224546\n",
      "ROC AUC: 0.947168284789644\n"
     ]
    },
    {
     "data": {
      "text/plain": [
       "(0.97191374663072783,\n",
       " 0.92242141368118868,\n",
       " 0.91000000000000003,\n",
       " 0.91546090622245457,\n",
       " 0.94716828478964399)"
      ]
     },
     "execution_count": 28,
     "metadata": {},
     "output_type": "execute_result"
    },
    {
     "data": {
      "image/png": "[encoded data removed]",
      "text/plain": [
       "<matplotlib.figure.Figure at 0x10dfbe390>"
      ]
     },
     "metadata": {},
     "output_type": "display_data"
    }
   ],
   "source": [
    "modeling.get_single_model(model=RandomForestClassifier(n_estimators=100), get_cm = True, return_features=False)"
   ]
  },
  {
   "cell_type": "code",
   "execution_count": 29,
   "metadata": {
    "collapsed": false
   },
   "outputs": [
    {
     "name": "stdout",
     "output_type": "stream",
     "text": [
      "[[301   8]\n",
      " [  7  55]]\n",
      "Avg Feature Importance: [ 0.03310949  0.02457877  0.00958195  0.01402683  0.00314222  0.00846011\n",
      "  0.00431226  0.          0.00469538  0.00461602  0.00257649  0.05499586\n",
      "  0.0776406   0.05118575  0.05036279  0.04345505  0.01520522  0.07532998\n",
      "  0.02926137  0.03718742  0.05129849  0.03868667  0.03041202  0.0393484\n",
      "  0.03423788  0.04650966  0.04287312  0.10142184  0.02193477  0.04955357]\n",
      "Accuracy: 0.9687870619946092\n",
      "Precision: 0.9196427862383136\n",
      "Recall: 0.892258064516129\n",
      "f1: 0.9048158593246319\n",
      "ROC AUC: 0.9382002296690678\n"
     ]
    },
    {
     "data": {
      "image/png": "[encoded data removed]",
      "text/plain": [
       "<matplotlib.figure.Figure at 0x10de97278>"
      ]
     },
     "metadata": {},
     "output_type": "display_data"
    }
   ],
   "source": [
    "rf = modeling.get_single_model(model=RandomForestClassifier(n_estimators=30), get_cm = True, return_features=True)"
   ]
  },
  {
   "cell_type": "code",
   "execution_count": 30,
   "metadata": {
    "collapsed": false,
    "scrolled": false
   },
   "outputs": [
    {
     "name": "stdout",
     "output_type": "stream",
     "text": [
      "[[297  12]\n",
      " [  9  53]]\n",
      "Avg Feature Importance: [ 0.01825368  0.01191661  0.00064237  0.02351627  0.00117517  0.00057112\n",
      "  0.0003198   0.          0.          0.00060725  0.00040069  0.06645882\n",
      "  0.02410085  0.03402246  0.04404853  0.02440271  0.01148281  0.0766258\n",
      "  0.03284664  0.04778392  0.10036466  0.01497443  0.01549403  0.03323073\n",
      "  0.0401015   0.02696322  0.06440691  0.22366518  0.01865012  0.04297372]\n",
      "Accuracy: 0.944366576819407\n",
      "Precision: 0.834940472711278\n",
      "Recall: 0.8361290322580645\n",
      "f1: 0.8337564611242999\n",
      "ROC AUC: 0.9011065873264432\n"
     ]
    },
    {
     "data": {
      "image/png": "[encoded data removed]",
      "text/plain": [
       "<matplotlib.figure.Figure at 0x10de92b70>"
      ]
     },
     "metadata": {},
     "output_type": "display_data"
    }
   ],
   "source": [
    "dtc = modeling.get_single_model(model=DecisionTreeClassifier(), get_cm = True, return_features=True)"
   ]
  },
  {
   "cell_type": "code",
   "execution_count": 31,
   "metadata": {
    "collapsed": false,
    "scrolled": false
   },
   "outputs": [
    {
     "data": {
      "text/plain": [
       "[['peace_index', 0.033109488375843925],\n",
       " ['terror_index', 0.024578772718999723],\n",
       " ['NumArmedConflicts', 0.0095819539729015187],\n",
       " ['NatureOfConflictGov', 0.014026832548628489],\n",
       " ['NatureOfConflictTerr', 0.0031422202914635905],\n",
       " ['NumKilled', 0.0084601088195351941],\n",
       " ['CummIntensity', 0.0043122605243371996],\n",
       " ['EAC', 0.0],\n",
       " ['IIAC', 0.0046953815494720384],\n",
       " ['InternalAC', 0.0046160220834222353],\n",
       " ['InterstateAC', 0.0025764949763068144],\n",
       " ['adolescent_fertility', 0.05499586063394804],\n",
       " ['have_good_sanitation', 0.077640596994969752],\n",
       " ['labor_force_participation', 0.051185746997790348],\n",
       " ['population_total', 0.050362786472834341],\n",
       " ['unemployment', 0.04345505184727922],\n",
       " ['inflation', 0.015205222681327521],\n",
       " ['population_65_up', 0.075329977155107683],\n",
       " ['forestarea', 0.029261368632724015],\n",
       " ['arable_land', 0.037187423185727625],\n",
       " ['civil_liberties', 0.051298494995393379],\n",
       " ['political_rights', 0.038686669229419414],\n",
       " ['female_legislators', 0.030412024248660244],\n",
       " ['population_growth', 0.039348401401104044],\n",
       " ['population_female', 0.034237879864165419],\n",
       " ['life_expectancy', 0.046509656237278499],\n",
       " ['population_15_64', 0.042873124995191789],\n",
       " ['gdp_ppp', 0.10142183962618972],\n",
       " ['food_production_dom', 0.021934770460001574],\n",
       " ['youth_unemployment', 0.049553568479976613]]"
      ]
     },
     "execution_count": 31,
     "metadata": {},
     "output_type": "execute_result"
    }
   ],
   "source": [
    "features = [[x,y] for x,y in rf]\n",
    "features"
   ]
  },
  {
   "cell_type": "code",
   "execution_count": 32,
   "metadata": {
    "collapsed": false
   },
   "outputs": [],
   "source": [
    "s = sorted(features, key=lambda x:x[1])"
   ]
  },
  {
   "cell_type": "code",
   "execution_count": 33,
   "metadata": {
    "collapsed": false
   },
   "outputs": [
    {
     "data": {
      "text/plain": [
       "[['EAC', 0.0],\n",
       " ['InterstateAC', 0.0025764949763068144],\n",
       " ['NatureOfConflictTerr', 0.0031422202914635905],\n",
       " ['CummIntensity', 0.0043122605243371996],\n",
       " ['InternalAC', 0.0046160220834222353],\n",
       " ['IIAC', 0.0046953815494720384],\n",
       " ['NumKilled', 0.0084601088195351941],\n",
       " ['NumArmedConflicts', 0.0095819539729015187],\n",
       " ['NatureOfConflictGov', 0.014026832548628489],\n",
       " ['inflation', 0.015205222681327521],\n",
       " ['food_production_dom', 0.021934770460001574],\n",
       " ['terror_index', 0.024578772718999723],\n",
       " ['forestarea', 0.029261368632724015],\n",
       " ['female_legislators', 0.030412024248660244],\n",
       " ['peace_index', 0.033109488375843925],\n",
       " ['population_female', 0.034237879864165419],\n",
       " ['arable_land', 0.037187423185727625],\n",
       " ['political_rights', 0.038686669229419414],\n",
       " ['population_growth', 0.039348401401104044],\n",
       " ['population_15_64', 0.042873124995191789],\n",
       " ['unemployment', 0.04345505184727922],\n",
       " ['life_expectancy', 0.046509656237278499],\n",
       " ['youth_unemployment', 0.049553568479976613],\n",
       " ['population_total', 0.050362786472834341],\n",
       " ['labor_force_participation', 0.051185746997790348],\n",
       " ['civil_liberties', 0.051298494995393379],\n",
       " ['adolescent_fertility', 0.05499586063394804],\n",
       " ['population_65_up', 0.075329977155107683],\n",
       " ['have_good_sanitation', 0.077640596994969752],\n",
       " ['gdp_ppp', 0.10142183962618972]]"
      ]
     },
     "execution_count": 33,
     "metadata": {},
     "output_type": "execute_result"
    }
   ],
   "source": [
    "s"
   ]
  },
  {
   "cell_type": "code",
   "execution_count": 34,
   "metadata": {
    "collapsed": false
   },
   "outputs": [
    {
     "name": "stdout",
     "output_type": "stream",
     "text": [
      "['population_total', 'labor_force_participation', 'civil_liberties', 'adolescent_fertility', 'population_65_up', 'have_good_sanitation', 'gdp_ppp']\n"
     ]
    }
   ],
   "source": [
    "x_cols = [item[0] for item in s if item[1] > 0.05]\n",
    "\n",
    "print(x_cols)\n",
    "X = full_data[x_cols]\n",
    "y = full_data['zscores']\n",
    "\n"
   ]
  },
  {
   "cell_type": "code",
   "execution_count": 38,
   "metadata": {
    "collapsed": false,
    "scrolled": false
   },
   "outputs": [
    {
     "name": "stderr",
     "output_type": "stream",
     "text": [
      "/Users/kenn/anaconda/lib/python3.5/site-packages/sklearn/metrics/classification.py:1074: UndefinedMetricWarning: Precision is ill-defined and being set to 0.0 due to no predicted samples.\n",
      "  'precision', 'predicted', average, warn_for)\n",
      "/Users/kenn/anaconda/lib/python3.5/site-packages/sklearn/metrics/classification.py:1074: UndefinedMetricWarning: F-score is ill-defined and being set to 0.0 due to no predicted samples.\n",
      "  'precision', 'predicted', average, warn_for)\n"
     ]
    },
    {
     "data": {
      "text/html": [
       "<div>\n",
       "<table border=\"1\" class=\"dataframe\">\n",
       "  <thead>\n",
       "    <tr style=\"text-align: right;\">\n",
       "      <th></th>\n",
       "      <th>Accuracy</th>\n",
       "      <th>Precision</th>\n",
       "      <th>Recall</th>\n",
       "      <th>F1</th>\n",
       "      <th>ROCAUC</th>\n",
       "    </tr>\n",
       "  </thead>\n",
       "  <tbody>\n",
       "    <tr>\n",
       "      <th>KNeighborsClassifier(n_neighbors=1)</th>\n",
       "      <td>0.797874</td>\n",
       "      <td>0.379841</td>\n",
       "      <td>0.416364</td>\n",
       "      <td>0.396477</td>\n",
       "      <td>0.643297</td>\n",
       "    </tr>\n",
       "    <tr>\n",
       "      <th>SVC(gamma=1, C=10, kernel='rbf')</th>\n",
       "      <td>0.843961</td>\n",
       "      <td>0.700000</td>\n",
       "      <td>0.021212</td>\n",
       "      <td>0.041176</td>\n",
       "      <td>0.510606</td>\n",
       "    </tr>\n",
       "    <tr>\n",
       "      <th>SVC()</th>\n",
       "      <td>0.844638</td>\n",
       "      <td>0.840000</td>\n",
       "      <td>0.025455</td>\n",
       "      <td>0.049412</td>\n",
       "      <td>0.512727</td>\n",
       "    </tr>\n",
       "    <tr>\n",
       "      <th>LogisticRegression()</th>\n",
       "      <td>0.840580</td>\n",
       "      <td>0.000000</td>\n",
       "      <td>0.000000</td>\n",
       "      <td>0.000000</td>\n",
       "      <td>0.500000</td>\n",
       "    </tr>\n",
       "    <tr>\n",
       "      <th>BernoulliNB()</th>\n",
       "      <td>0.527246</td>\n",
       "      <td>0.073333</td>\n",
       "      <td>0.460000</td>\n",
       "      <td>0.126500</td>\n",
       "      <td>0.500000</td>\n",
       "    </tr>\n",
       "    <tr>\n",
       "      <th>GaussianNB()</th>\n",
       "      <td>0.279517</td>\n",
       "      <td>0.165096</td>\n",
       "      <td>0.866667</td>\n",
       "      <td>0.277333</td>\n",
       "      <td>0.517414</td>\n",
       "    </tr>\n",
       "    <tr>\n",
       "      <th>RandomForestClassifier(n_estimators=30)</th>\n",
       "      <td>0.944928</td>\n",
       "      <td>0.841656</td>\n",
       "      <td>0.806667</td>\n",
       "      <td>0.823217</td>\n",
       "      <td>0.888908</td>\n",
       "    </tr>\n",
       "    <tr>\n",
       "      <th>DecisionTreeClassifier()</th>\n",
       "      <td>0.920870</td>\n",
       "      <td>0.773185</td>\n",
       "      <td>0.717576</td>\n",
       "      <td>0.742140</td>\n",
       "      <td>0.838501</td>\n",
       "    </tr>\n",
       "  </tbody>\n",
       "</table>\n",
       "</div>"
      ],
      "text/plain": [
       "                                         Accuracy  Precision    Recall  \\\n",
       "KNeighborsClassifier(n_neighbors=1)      0.797874   0.379841  0.416364   \n",
       "SVC(gamma=1, C=10, kernel='rbf')         0.843961   0.700000  0.021212   \n",
       "SVC()                                    0.844638   0.840000  0.025455   \n",
       "LogisticRegression()                     0.840580   0.000000  0.000000   \n",
       "BernoulliNB()                            0.527246   0.073333  0.460000   \n",
       "GaussianNB()                             0.279517   0.165096  0.866667   \n",
       "RandomForestClassifier(n_estimators=30)  0.944928   0.841656  0.806667   \n",
       "DecisionTreeClassifier()                 0.920870   0.773185  0.717576   \n",
       "\n",
       "                                               F1    ROCAUC  \n",
       "KNeighborsClassifier(n_neighbors=1)      0.396477  0.643297  \n",
       "SVC(gamma=1, C=10, kernel='rbf')         0.041176  0.510606  \n",
       "SVC()                                    0.049412  0.512727  \n",
       "LogisticRegression()                     0.000000  0.500000  \n",
       "BernoulliNB()                            0.126500  0.500000  \n",
       "GaussianNB()                             0.277333  0.517414  \n",
       "RandomForestClassifier(n_estimators=30)  0.823217  0.888908  \n",
       "DecisionTreeClassifier()                 0.742140  0.838501  "
      ]
     },
     "execution_count": 38,
     "metadata": {},
     "output_type": "execute_result"
    },
    {
     "data": {
      "image/png": "[encoded data removed]",
      "text/plain": [
       "<matplotlib.figure.Figure at 0x10480e860>"
      ]
     },
     "metadata": {},
     "output_type": "display_data"
    }
   ],
   "source": [
    "modeling = getCrossValScoresBySSS(X,y)\n",
    "modeling.get_multi_models(year=2013, make_single_plot=True)"
   ]
  },
  {
   "cell_type": "code",
   "execution_count": 43,
   "metadata": {
    "collapsed": false
   },
   "outputs": [
    {
     "name": "stdout",
     "output_type": "stream",
     "text": [
      "[[170   4]\n",
      " [  4  29]]\n",
      "Avg Feature Importance: [ 0.11320473  0.13149219  0.14093573  0.12304138  0.13361651  0.14842185\n",
      "  0.20928761]\n",
      "Accuracy: 0.9465700483091787\n",
      "Precision: 0.8489187222371563\n",
      "Recall: 0.8090909090909092\n",
      "f1: 0.8279461764510907\n",
      "ROC AUC: 0.8908672936259145\n"
     ]
    },
    {
     "data": {
      "text/plain": [
       "(0.94657004830917868,\n",
       " 0.84891872223715625,\n",
       " 0.80909090909090919,\n",
       " 0.8279461764510907,\n",
       " 0.89086729362591455)"
      ]
     },
     "execution_count": 43,
     "metadata": {},
     "output_type": "execute_result"
    },
    {
     "data": {
      "image/png": "[encoded data removed]",
      "text/plain": [
       "<matplotlib.figure.Figure at 0x10dc48cc0>"
      ]
     },
     "metadata": {},
     "output_type": "display_data"
    }
   ],
   "source": [
    "modeling.get_single_model(model=RandomForestClassifier(n_estimators=30)\t, \n",
    "                              year=2013, \n",
    "                              get_cm=True, \n",
    "                              output_prediction=False,\n",
    "                              )"
   ]
  },
  {
   "cell_type": "markdown",
   "metadata": {},
   "source": [
    "forest_acc = []\n",
    "forest_prec = []\n",
    "forest_rec = []\n",
    "forest_f1 = []\n",
    "forest_range = list(range(1,100,10))\n",
    "for trees in forest_range:\n",
    "    acc, prec, rec, f1, _ = modeling.get_single_model(model=RandomForestClassifier(n_estimators=trees),\\\n",
    "                                                      verbose=False,\\\n",
    "                                                      return_features=False)\n",
    "    forest_acc.append(acc)\n",
    "    forest_prec.append(prec)\n",
    "    forest_rec.append(rec)\n",
    "    forest_f1.append(f1)\n",
    "\n",
    "plt.figure(figsize=(11,7))\n",
    "plt.plot(forest_range, forest_acc, label='Accuracy')\n",
    "plt.plot(forest_range, forest_prec,label='Precision')\n",
    "plt.plot(forest_range, forest_rec,label='Recall')\n",
    "plt.plot(forest_range, forest_f1,label='F1')\n",
    "\n",
    "plt.legend(loc='best')\n",
    "plt.xlabel('Num Trees')\n",
    "plt.ylabel('Score')\n",
    "plt.title('Scores at various tree sizes')\n",
    "plt.show()"
   ]
  },
  {
   "cell_type": "code",
   "execution_count": 36,
   "metadata": {
    "collapsed": false
   },
   "outputs": [
    {
     "name": "stderr",
     "output_type": "stream",
     "text": [
      "/Users/kenn/anaconda/lib/python3.5/site-packages/sklearn/metrics/classification.py:1074: UndefinedMetricWarning: Precision is ill-defined and being set to 0.0 due to no predicted samples.\n",
      "  'precision', 'predicted', average, warn_for)\n",
      "/Users/kenn/anaconda/lib/python3.5/site-packages/sklearn/metrics/classification.py:1074: UndefinedMetricWarning: F-score is ill-defined and being set to 0.0 due to no predicted samples.\n",
      "  'precision', 'predicted', average, warn_for)\n"
     ]
    },
    {
     "data": {
      "text/html": [
       "<div>\n",
       "<table border=\"1\" class=\"dataframe\">\n",
       "  <thead>\n",
       "    <tr style=\"text-align: right;\">\n",
       "      <th></th>\n",
       "      <th>Accuracy</th>\n",
       "      <th>Precision</th>\n",
       "      <th>Recall</th>\n",
       "      <th>F1</th>\n",
       "      <th>ROCAUC</th>\n",
       "    </tr>\n",
       "  </thead>\n",
       "  <tbody>\n",
       "    <tr>\n",
       "      <th>KNeighborsClassifier(n_neighbors=1)</th>\n",
       "      <td>0.834951</td>\n",
       "      <td>0.515693</td>\n",
       "      <td>0.506857</td>\n",
       "      <td>0.509911</td>\n",
       "      <td>0.704481</td>\n",
       "    </tr>\n",
       "    <tr>\n",
       "      <th>SVC(gamma=1, C=10, kernel='rbf')</th>\n",
       "      <td>0.830097</td>\n",
       "      <td>0.000000</td>\n",
       "      <td>0.000000</td>\n",
       "      <td>0.000000</td>\n",
       "      <td>0.500000</td>\n",
       "    </tr>\n",
       "    <tr>\n",
       "      <th>SVC()</th>\n",
       "      <td>0.830097</td>\n",
       "      <td>0.000000</td>\n",
       "      <td>0.000000</td>\n",
       "      <td>0.000000</td>\n",
       "      <td>0.500000</td>\n",
       "    </tr>\n",
       "    <tr>\n",
       "      <th>LogisticRegression()</th>\n",
       "      <td>0.828641</td>\n",
       "      <td>0.018095</td>\n",
       "      <td>0.006857</td>\n",
       "      <td>0.009233</td>\n",
       "      <td>0.501850</td>\n",
       "    </tr>\n",
       "    <tr>\n",
       "      <th>BernoulliNB()</th>\n",
       "      <td>0.513204</td>\n",
       "      <td>0.081553</td>\n",
       "      <td>0.480000</td>\n",
       "      <td>0.139419</td>\n",
       "      <td>0.500000</td>\n",
       "    </tr>\n",
       "    <tr>\n",
       "      <th>GaussianNB()</th>\n",
       "      <td>0.294563</td>\n",
       "      <td>0.180642</td>\n",
       "      <td>0.888571</td>\n",
       "      <td>0.300158</td>\n",
       "      <td>0.530777</td>\n",
       "    </tr>\n",
       "    <tr>\n",
       "      <th>RandomForestClassifier(n_estimators=30)</th>\n",
       "      <td>0.961942</td>\n",
       "      <td>0.903901</td>\n",
       "      <td>0.870286</td>\n",
       "      <td>0.885973</td>\n",
       "      <td>0.925494</td>\n",
       "    </tr>\n",
       "    <tr>\n",
       "      <th>DecisionTreeClassifier()</th>\n",
       "      <td>0.929417</td>\n",
       "      <td>0.812619</td>\n",
       "      <td>0.764571</td>\n",
       "      <td>0.785800</td>\n",
       "      <td>0.863865</td>\n",
       "    </tr>\n",
       "  </tbody>\n",
       "</table>\n",
       "</div>"
      ],
      "text/plain": [
       "                                         Accuracy  Precision    Recall  \\\n",
       "KNeighborsClassifier(n_neighbors=1)      0.834951   0.515693  0.506857   \n",
       "SVC(gamma=1, C=10, kernel='rbf')         0.830097   0.000000  0.000000   \n",
       "SVC()                                    0.830097   0.000000  0.000000   \n",
       "LogisticRegression()                     0.828641   0.018095  0.006857   \n",
       "BernoulliNB()                            0.513204   0.081553  0.480000   \n",
       "GaussianNB()                             0.294563   0.180642  0.888571   \n",
       "RandomForestClassifier(n_estimators=30)  0.961942   0.903901  0.870286   \n",
       "DecisionTreeClassifier()                 0.929417   0.812619  0.764571   \n",
       "\n",
       "                                               F1    ROCAUC  \n",
       "KNeighborsClassifier(n_neighbors=1)      0.509911  0.704481  \n",
       "SVC(gamma=1, C=10, kernel='rbf')         0.000000  0.500000  \n",
       "SVC()                                    0.000000  0.500000  \n",
       "LogisticRegression()                     0.009233  0.501850  \n",
       "BernoulliNB()                            0.139419  0.500000  \n",
       "GaussianNB()                             0.300158  0.530777  \n",
       "RandomForestClassifier(n_estimators=30)  0.885973  0.925494  \n",
       "DecisionTreeClassifier()                 0.785800  0.863865  "
      ]
     },
     "execution_count": 36,
     "metadata": {},
     "output_type": "execute_result"
    }
   ],
   "source": [
    "modeling.get_multi_models(year=2010, year_delta=2)"
   ]
  },
  {
   "cell_type": "code",
   "execution_count": 37,
   "metadata": {
    "collapsed": false,
    "scrolled": false
   },
   "outputs": [
    {
     "name": "stdout",
     "output_type": "stream",
     "text": [
      "Empty DataFrame\n",
      "Columns: [year_prior, prediction, prediction_actual, net]\n",
      "Index: []\n",
      "Empty DataFrame\n",
      "Columns: [year_prior, prediction, prediction_actual, net]\n",
      "Index: []\n",
      "Empty DataFrame\n",
      "Columns: [year_prior, prediction, prediction_actual, net]\n",
      "Index: []\n",
      "Empty DataFrame\n",
      "Columns: [year_prior, prediction, prediction_actual, net]\n",
      "Index: []\n",
      "Empty DataFrame\n",
      "Columns: [year_prior, prediction, prediction_actual, net]\n",
      "Index: []\n",
      "Empty DataFrame\n",
      "Columns: [year_prior, prediction, prediction_actual, net]\n",
      "Index: []\n",
      "Empty DataFrame\n",
      "Columns: [year_prior, prediction, prediction_actual, net]\n",
      "Index: []\n",
      "Empty DataFrame\n",
      "Columns: [year_prior, prediction, prediction_actual, net]\n",
      "Index: []\n",
      "Empty DataFrame\n",
      "Columns: [year_prior, prediction, prediction_actual, net]\n",
      "Index: []\n",
      "Empty DataFrame\n",
      "Columns: [year_prior, prediction, prediction_actual, net]\n",
      "Index: []\n",
      "Empty DataFrame\n",
      "Columns: [year_prior, prediction, prediction_actual, net]\n",
      "Index: []\n",
      "Empty DataFrame\n",
      "Columns: [year_prior, prediction, prediction_actual, net]\n",
      "Index: []\n",
      "Empty DataFrame\n",
      "Columns: [year_prior, prediction, prediction_actual, net]\n",
      "Index: []\n",
      "Empty DataFrame\n",
      "Columns: [year_prior, prediction, prediction_actual, net]\n",
      "Index: []\n",
      "Empty DataFrame\n",
      "Columns: [year_prior, prediction, prediction_actual, net]\n",
      "Index: []\n",
      "Empty DataFrame\n",
      "Columns: [year_prior, prediction, prediction_actual, net]\n",
      "Index: []\n",
      "Empty DataFrame\n",
      "Columns: [year_prior, prediction, prediction_actual, net]\n",
      "Index: []\n",
      "Empty DataFrame\n",
      "Columns: [year_prior, prediction, prediction_actual, net]\n",
      "Index: []\n",
      "Empty DataFrame\n",
      "Columns: [year_prior, prediction, prediction_actual, net]\n",
      "Index: []\n",
      "Empty DataFrame\n",
      "Columns: [year_prior, prediction, prediction_actual, net]\n",
      "Index: []\n",
      "Empty DataFrame\n",
      "Columns: [year_prior, prediction, prediction_actual, net]\n",
      "Index: []\n",
      "Empty DataFrame\n",
      "Columns: [year_prior, prediction, prediction_actual, net]\n",
      "Index: []\n",
      "Empty DataFrame\n",
      "Columns: [year_prior, prediction, prediction_actual, net]\n",
      "Index: []\n",
      "Empty DataFrame\n",
      "Columns: [year_prior, prediction, prediction_actual, net]\n",
      "Index: []\n",
      "Empty DataFrame\n",
      "Columns: [year_prior, prediction, prediction_actual, net]\n",
      "Index: []\n",
      "Empty DataFrame\n",
      "Columns: [year_prior, prediction, prediction_actual, net]\n",
      "Index: []\n",
      "Empty DataFrame\n",
      "Columns: [year_prior, prediction, prediction_actual, net]\n",
      "Index: []\n",
      "Empty DataFrame\n",
      "Columns: [year_prior, prediction, prediction_actual, net]\n",
      "Index: []\n",
      "Empty DataFrame\n",
      "Columns: [year_prior, prediction, prediction_actual, net]\n",
      "Index: []\n",
      "Empty DataFrame\n",
      "Columns: [year_prior, prediction, prediction_actual, net]\n",
      "Index: []\n",
      "Empty DataFrame\n",
      "Columns: [year_prior, prediction, prediction_actual, net]\n",
      "Index: []\n",
      "Empty DataFrame\n",
      "Columns: [year_prior, prediction, prediction_actual, net]\n",
      "Index: []\n",
      "Empty DataFrame\n",
      "Columns: [year_prior, prediction, prediction_actual, net]\n",
      "Index: []\n",
      "Empty DataFrame\n",
      "Columns: [year_prior, prediction, prediction_actual, net]\n",
      "Index: []\n",
      "Empty DataFrame\n",
      "Columns: [year_prior, prediction, prediction_actual, net]\n",
      "Index: []\n",
      "Empty DataFrame\n",
      "Columns: [year_prior, prediction, prediction_actual, net]\n",
      "Index: []\n",
      "Empty DataFrame\n",
      "Columns: [year_prior, prediction, prediction_actual, net]\n",
      "Index: []\n",
      "Empty DataFrame\n",
      "Columns: [year_prior, prediction, prediction_actual, net]\n",
      "Index: []\n",
      "Empty DataFrame\n",
      "Columns: [year_prior, prediction, prediction_actual, net]\n",
      "Index: []\n",
      "Empty DataFrame\n",
      "Columns: [year_prior, prediction, prediction_actual, net]\n",
      "Index: []\n",
      "Empty DataFrame\n",
      "Columns: [year_prior, prediction, prediction_actual, net]\n",
      "Index: []\n",
      "Empty DataFrame\n",
      "Columns: [year_prior, prediction, prediction_actual, net]\n",
      "Index: []\n",
      "Empty DataFrame\n",
      "Columns: [year_prior, prediction, prediction_actual, net]\n",
      "Index: []\n",
      "Empty DataFrame\n",
      "Columns: [year_prior, prediction, prediction_actual, net]\n",
      "Index: []\n",
      "Empty DataFrame\n",
      "Columns: [year_prior, prediction, prediction_actual, net]\n",
      "Index: []\n",
      "Empty DataFrame\n",
      "Columns: [year_prior, prediction, prediction_actual, net]\n",
      "Index: []\n",
      "Empty DataFrame\n",
      "Columns: [year_prior, prediction, prediction_actual, net]\n",
      "Index: []\n",
      "Empty DataFrame\n",
      "Columns: [year_prior, prediction, prediction_actual, net]\n",
      "Index: []\n",
      "Empty DataFrame\n",
      "Columns: [year_prior, prediction, prediction_actual, net]\n",
      "Index: []\n",
      "Empty DataFrame\n",
      "Columns: [year_prior, prediction, prediction_actual, net]\n",
      "Index: []\n"
     ]
    }
   ],
   "source": [
    "modeling.future_crisis_countries(year=2010, year_delta=2)"
   ]
  },
  {
   "cell_type": "code",
   "execution_count": null,
   "metadata": {
    "collapsed": true
   },
   "outputs": [],
   "source": []
  },
  {
   "cell_type": "code",
   "execution_count": null,
   "metadata": {
    "collapsed": true
   },
   "outputs": [],
   "source": []
  }
 ],
 "metadata": {
  "kernelspec": {
   "display_name": "Python 3",
   "language": "python",
   "name": "python3"
  },
  "language_info": {
   "codemirror_mode": {
    "name": "ipython",
    "version": 3
   },
   "file_extension": ".py",
   "mimetype": "text/x-python",
   "name": "python",
   "nbconvert_exporter": "python",
   "pygments_lexer": "ipython3",
   "version": "3.5.0"
  }
 },
 "nbformat": 4,
 "nbformat_minor": 0
}
